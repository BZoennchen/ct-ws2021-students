{
 "cells": [
  {
   "cell_type": "code",
   "execution_count": null,
   "id": "tribal-position",
   "metadata": {
    "deletable": false,
    "editable": false
   },
   "outputs": [],
   "source": [
    "# Initialize Otter\n",
    "import otter\n",
    "grader = otter.Notebook(\"CT-02-Pyramiden.ipynb\")"
   ]
  },
  {
   "cell_type": "markdown",
   "id": "unusual-contents",
   "metadata": {},
   "source": [
    "# 1 Aufwärmen"
   ]
  },
  {
   "cell_type": "markdown",
   "id": "provincial-federation",
   "metadata": {},
   "source": [
    "***\n",
    "***Aufgabe 1 (Listen).*** Erstellen Sie auf unterschiedliche Weise eine Liste ``small_numbers``, welche die Zahlen 0 bis 9 enthält (beides inklusive)."
   ]
  },
  {
   "cell_type": "code",
   "execution_count": 2,
   "id": "according-origin",
   "metadata": {
    "scrolled": false,
    "tags": []
   },
   "outputs": [],
   "source": [
    "..."
   ]
  },
  {
   "cell_type": "code",
   "execution_count": null,
   "id": "funded-stand",
   "metadata": {
    "deletable": false,
    "editable": false
   },
   "outputs": [],
   "source": [
    "grader.check(\"q1\")"
   ]
  },
  {
   "cell_type": "markdown",
   "id": "hawaiian-revision",
   "metadata": {},
   "source": [
    "***Aufgabe 2 (Listen).*** Erstellen Sie eine Liste ``pyramid_list`` der Länge 10, die an der ``i``-ten Position eine Liste der Zahlen ``[0,1,...,i]`` enthält. Das Ergebnis ist eine Liste aus Listen."
   ]
  },
  {
   "cell_type": "code",
   "execution_count": 28,
   "id": "atmospheric-wilderness",
   "metadata": {
    "scrolled": true,
    "tags": []
   },
   "outputs": [],
   "source": [
    "pyramid_list = ...\n",
    "...\n",
    "pyramid_list"
   ]
  },
  {
   "cell_type": "code",
   "execution_count": null,
   "id": "naughty-memorial",
   "metadata": {
    "deletable": false,
    "editable": false
   },
   "outputs": [],
   "source": [
    "grader.check(\"q2\")"
   ]
  },
  {
   "cell_type": "markdown",
   "id": "juvenile-banks",
   "metadata": {},
   "source": [
    "***Aufgabe 3 (Zeichenketten).*** Wir bezeichnen eine Zeichenfolge Palindrom wenn sie vorwärts und rückwärts gelesen das gleiche Wort ergibt. Z.B. ist ``anna`` oder auch ``aabaa`` ein Palindrom. Schreiben Sie einen Code der für eine beliebige Zeichenkette ``text`` prüft ob es sich um ein Palimdrom handelt. Testen Sie Ihren Code."
   ]
  },
  {
   "cell_type": "code",
   "execution_count": 34,
   "id": "elementary-recipient",
   "metadata": {
    "tags": []
   },
   "outputs": [],
   "source": [
    "text = 'anna'\n",
    "..."
   ]
  },
  {
   "cell_type": "markdown",
   "id": "compact-cheat",
   "metadata": {},
   "source": [
    "***Aufgabe 4 (Funktionen).*** Schreiben Sie eine Funktion ``is_even(n)``, die Ihnen wahr ``True`` zurückgibt wenn ``n`` eine gerade Zahl ist und sonst ``False``. Gehen Sie davon aus, dass ``n`` eine ganze Zahl ist."
   ]
  },
  {
   "cell_type": "code",
   "execution_count": 2,
   "id": "hispanic-helena",
   "metadata": {
    "tags": []
   },
   "outputs": [],
   "source": [
    "def is_even(n):\n",
    "    ..."
   ]
  },
  {
   "cell_type": "code",
   "execution_count": null,
   "id": "suburban-discipline",
   "metadata": {
    "deletable": false,
    "editable": false
   },
   "outputs": [],
   "source": [
    "grader.check(\"q4\")"
   ]
  },
  {
   "cell_type": "markdown",
   "id": "exterior-evening",
   "metadata": {},
   "source": [
    "***Aufgabe 5 (Funktionen, Kontrollstruturen).*** Schreiben Sie eine Funktion ``specify_number(n)``, die einen Text ausgibt, der besagt ob die ganze Zahl ``n`` gerade oder ungerade und positiv oder negativ ist (0 werten wir als positiv)."
   ]
  },
  {
   "cell_type": "code",
   "execution_count": 139,
   "id": "excessive-mention",
   "metadata": {
    "tags": []
   },
   "outputs": [],
   "source": [
    "def specify_number(n):\n",
    "    ..."
   ]
  },
  {
   "cell_type": "markdown",
   "id": "choice-emperor",
   "metadata": {},
   "source": [
    "***Aufgabe 6. (Kontrollstrukturen)*** Geben Sie 20 Mal ``'Die richtige Antwort ist 42!'`` aus."
   ]
  },
  {
   "cell_type": "code",
   "execution_count": null,
   "id": "prostate-yacht",
   "metadata": {
    "tags": []
   },
   "outputs": [],
   "source": [
    "..."
   ]
  },
  {
   "cell_type": "markdown",
   "id": "central-precipitation",
   "metadata": {},
   "source": [
    "***Aufgabe 7 (Listen, Kontrollstrukturen).*** Erstellen Sie eine Liste ``numbers``, die alle ungeraden positiven Zahlen, welche durch 7 teilbar und kleiner als 1000 sind."
   ]
  },
  {
   "cell_type": "code",
   "execution_count": 38,
   "id": "signal-spectacular",
   "metadata": {
    "scrolled": true,
    "tags": []
   },
   "outputs": [],
   "source": [
    "numbers = ...\n",
    "..."
   ]
  },
  {
   "cell_type": "code",
   "execution_count": null,
   "id": "enhanced-animal",
   "metadata": {
    "deletable": false,
    "editable": false
   },
   "outputs": [],
   "source": [
    "grader.check(\"q7\")"
   ]
  },
  {
   "cell_type": "markdown",
   "id": "hydraulic-france",
   "metadata": {},
   "source": [
    "***Aufgabe 8 (Funktionen, Kontrollstrukturen).*** Schreiben Sie eine Funktion ``sum_squares(n)``, die Ihnen die Summe aller Quadratzahlen von 1 bis einschließlich ``n`` berechnet und zurückgibt. Gehen Sie davon aus, dass ``n`` eine natürliche Zahl $\\mathbb{N}$ (0 eingeschlossen) ist."
   ]
  },
  {
   "cell_type": "code",
   "execution_count": 125,
   "id": "brazilian-hepatitis",
   "metadata": {
    "tags": []
   },
   "outputs": [],
   "source": [
    "def sum_squares(n):\n",
    "    ..."
   ]
  },
  {
   "cell_type": "code",
   "execution_count": null,
   "id": "acute-respondent",
   "metadata": {
    "deletable": false,
    "editable": false
   },
   "outputs": [],
   "source": [
    "grader.check(\"q8\")"
   ]
  },
  {
   "cell_type": "markdown",
   "id": "forward-given",
   "metadata": {},
   "source": [
    "***"
   ]
  },
  {
   "cell_type": "markdown",
   "id": "competent-double",
   "metadata": {},
   "source": [
    "# 2 Münzliebhaber\\*in\n",
    "\n",
    "Sie möchten heute gerne einen bestimmten Geldbetrag ``money`` in Münzen ``coins`` umwandeln.\n",
    "Doch zuvor möchten Sie wissen wie viele Münzen Sie denn minimal benötigen, schließlich möchten Sie sich nicht zu Tode Schleppen.\n",
    "\n",
    "Unsere Währung ist der Euro. Es gibt 2 und 1 Euro Münzen (200, 100 Cent) sowie 50, 20, 10, 5, 2 und 1 Cent Münzen. Sie brauchen die wenigsten Münzen für einen bestimmten Geldbetrag wenn Sie die Anzahl der wertvollsten Münzen maximieren. Warum?"
   ]
  },
  {
   "cell_type": "markdown",
   "id": "average-heart",
   "metadata": {},
   "source": [
    "***\n",
    "***Aufgabe 9 (Funktionen, Kontrollstrukturen).*** Schreiben Sie eine Funktion ``count_coins(money)``, die Ihnen die Anzahl der Münzen, die Sie **minimal** benötigen, berechnet! Dabei soll ``money`` der Geldbetrag in Euro sein, welchen Sie in Münzen umwandeln möchten. Gehen Sie davon aus, dass ``money`` eine positive Fließkommazahl ``float`` ist und runden Sie (mit ``round()``) auf den nähersten Geldbetrag, z.B. ``100.2356`` wird auf ``100.24`` gerundet und ``50.224`` auf ``50.22``."
   ]
  },
  {
   "cell_type": "code",
   "execution_count": 146,
   "id": "closing-traffic",
   "metadata": {
    "tags": []
   },
   "outputs": [],
   "source": [
    "def count_coins(money):\n",
    "    ..."
   ]
  },
  {
   "cell_type": "code",
   "execution_count": null,
   "id": "commercial-carbon",
   "metadata": {
    "deletable": false,
    "editable": false
   },
   "outputs": [],
   "source": [
    "grader.check(\"q9\")"
   ]
  },
  {
   "cell_type": "markdown",
   "id": "plain-bumper",
   "metadata": {},
   "source": [
    "***"
   ]
  },
  {
   "cell_type": "markdown",
   "id": "light-celtic",
   "metadata": {},
   "source": [
    "# 3 Pyramidenbau (schwer)\n",
    "\n",
    "## 3.1 Einleitung\n",
    "\n",
    "Sie kennen vielleicht noch die alten sogenannten Jump & Run Konsolenspiele wie etwa Mario, Sonic und viele mehr.\n",
    "\n",
    "Das Spielprinzip ist einfach: In einer zweidimensionalen Welt, in der sich die Spielfigur nur nach vorne bzw. zurück und hoch bzw. runter bewegen kann, muss diese Figur ein bestimmtes (örtliches) Ziel erreichen. Auf dem Weg lauern Gefahren und Ihre Figur muss Hindernisse überspringen. Sie durchlaufen mehrere Levels, deren Schwierigkeitsgrad ansteigt.\n",
    "\n",
    "Interessanterweise gibt es diese Spiele heute immernoch - sie haben einen gewissen Kultstatus. Besonders begehrt sind Spiele bei denen Spieler\\*innen ihre eigenen Welten erstellen können und diese dann von anderen Spieler\\*innen gespielt und bewertet werden.\n",
    "\n",
    "Ist die Spielwelt aus einfachen Elementen welche in einem regulären Gitter angeordnet sind aufgebaut, so kann eine solche Welt als lesbarer Text in eine Datei geschrieben werden. Ein Beispiel: Stellen Sie sich vor, folgender Text stünde in einer Textdatei:\n",
    "\n",
    "```txt\n",
    "     #  #\n",
    "    ##  ##\n",
    " P ###  ###   *\n",
    "######  #### ###\n",
    "```\n",
    "\n",
    "Dabei könnten wir definieren, dass ``P`` die Startposition der Spielfigur ist, ``#`` quadratische Bauklötze und ``*`` das zu erreichende Ziel ist. Diese Information könnte von einem Programm in eine entsprechende Welt umgewandelt werden.\n",
    "\n",
    "![Jump & Run Gamescreenshot](figs/jump-and-run-screenshot.png)\n",
    "\n",
    "Auch hierbei handelt es sich um eine **Interpretation**, eine ganze Spielewelt durch eine Folge von Zeichen **repräsentiert**! "
   ]
  },
  {
   "cell_type": "markdown",
   "id": "reduced-cleaning",
   "metadata": {},
   "source": [
    "## 3.2 Aufgabenbeschreibung\n",
    "\n",
    "Ihr Aufgabe ist es ein ``Python``-Programm zu schreiben, welches Ihnen eine Pyramide der Form\n",
    "\n",
    "```txt\n",
    "   #  #\n",
    "  ##  ##\n",
    " ###  ###\n",
    "####  ####\n",
    "```\n",
    "\n",
    "erzeugt, wobei die Höhe der Pyramide als Eingabeargument übergeben werden und zwischen 1 und 8 liegen soll.\n"
   ]
  },
  {
   "cell_type": "markdown",
   "id": "ruled-dayton",
   "metadata": {},
   "source": [
    "***\n",
    "***Aufgabe 10 (Funktionen, Kontrollstrukturen).*** Entwickeln Sie eine Funktion ``pyramid(height)`` die die oben beschriebene Pyramide der Höhe ``height`` als Zeichenkette ``str`` erzeugt und zurückgibt. Gehen Sie davon aus, dass ``height`` eine nicht zu große natürliche Zahl (0 ausgeschlossen) ist."
   ]
  },
  {
   "cell_type": "markdown",
   "id": "stopped-origin",
   "metadata": {},
   "source": [
    "Zeichenketten können Sie mit dem ``+``-Operator verketten. Eine neue Zeile können Sie mit der Zeichenkette ``'\\n'`` generieren. Zum Beispiel:"
   ]
  },
  {
   "cell_type": "code",
   "execution_count": 106,
   "id": "female-slovak",
   "metadata": {
    "scrolled": true
   },
   "outputs": [],
   "source": [
    "print('abcd' + 'efg' + '\\n' + 'hijk')"
   ]
  },
  {
   "cell_type": "markdown",
   "id": "modular-breakfast",
   "metadata": {},
   "source": [
    "Oft wollen wir überflüssig Zeilen am Ende einer Zeichenkette (oder auch Textdatei) vermeiden."
   ]
  },
  {
   "cell_type": "code",
   "execution_count": 109,
   "id": "lovely-istanbul",
   "metadata": {},
   "outputs": [],
   "source": [
    "print('abcd' + 'efg' + '\\n' + 'hijk\\n\\n\\n')"
   ]
  },
  {
   "cell_type": "code",
   "execution_count": 110,
   "id": "appropriate-beach",
   "metadata": {
    "tags": []
   },
   "outputs": [],
   "source": [
    "def pyramid(height):\n",
    "    ..."
   ]
  },
  {
   "cell_type": "code",
   "execution_count": null,
   "id": "white-detective",
   "metadata": {
    "deletable": false,
    "editable": false
   },
   "outputs": [],
   "source": [
    "grader.check(\"q10\")"
   ]
  },
  {
   "cell_type": "markdown",
   "id": "dimensional-research",
   "metadata": {},
   "source": [
    "***"
   ]
  },
  {
   "cell_type": "markdown",
   "id": "threaded-diameter",
   "metadata": {},
   "source": [
    "***\n",
    "***Aufgabe 11 (Funktionen, Kontrollstrukturen).*** Entwickeln Sie eine Funktion ``print_pyramid()`` die nach einer Eingabe (der Höhe) frägt und Ihnen die oben beschriebene Pyramide der Höhe dieser Eingabe erzeugt genauer gesagt als ausgibt. Verwenden Sie Ihre Funktion ``pyramid(height)``. Bei fehlerhafter Eingabe sollte stattdessen eine Fehlermeldung ausgegeben werden. Probieren Sie Ihre Funktion aus."
   ]
  },
  {
   "cell_type": "markdown",
   "id": "aggregate-malta",
   "metadata": {},
   "source": [
    "Um einen Wert in einem Notebook einzulesen, können Sie die *built-in*-Funktion ``input()`` verwenden, zum Beispiel:"
   ]
  },
  {
   "cell_type": "code",
   "execution_count": 140,
   "id": "private-adelaide",
   "metadata": {},
   "outputs": [],
   "source": [
    "height = input('height = ')\n",
    "print('data type:' + str(type(height)))\n",
    "print('value: ' + str(height))"
   ]
  },
  {
   "cell_type": "markdown",
   "id": "verbal-dietary",
   "metadata": {},
   "source": [
    "Mit der folgenden Funktion können Sie testen ob eine Zeichenkette tatsächlich eine natürliche Zahl $\\mathbb{N}$ (0 ausgeschlossen) ist."
   ]
  },
  {
   "cell_type": "code",
   "execution_count": 112,
   "id": "altered-lambda",
   "metadata": {},
   "outputs": [],
   "source": [
    "def is_natural_number(value):\n",
    "    try:\n",
    "        int(value)\n",
    "        return True\n",
    "    except ValueError:\n",
    "        return int(value) > 0"
   ]
  },
  {
   "cell_type": "code",
   "execution_count": 111,
   "id": "completed-collar",
   "metadata": {
    "tags": []
   },
   "outputs": [],
   "source": [
    "def print_pyramid():\n",
    "    ..."
   ]
  },
  {
   "cell_type": "markdown",
   "id": "psychological-lunch",
   "metadata": {},
   "source": [
    "***"
   ]
  },
  {
   "cell_type": "code",
   "execution_count": 77,
   "id": "activated-mayor",
   "metadata": {},
   "outputs": [],
   "source": [
    "print_pyramid()"
   ]
  },
  {
   "cell_type": "markdown",
   "id": "developmental-acquisition",
   "metadata": {
    "deletable": false,
    "editable": false
   },
   "source": [
    "---\n",
    "\n",
    "To double-check your work, the cell below will rerun all of the autograder tests."
   ]
  },
  {
   "cell_type": "code",
   "execution_count": null,
   "id": "hourly-shower",
   "metadata": {
    "deletable": false,
    "editable": false
   },
   "outputs": [],
   "source": [
    "grader.check_all()"
   ]
  },
  {
   "cell_type": "markdown",
   "id": "swiss-melbourne",
   "metadata": {
    "deletable": false,
    "editable": false
   },
   "source": [
    "## Submission\n",
    "\n",
    "Make sure you have run all cells in your notebook in order before running the cell below, so that all images/graphs appear in the output. The cell below will generate a zip file for you to submit."
   ]
  },
  {
   "cell_type": "code",
   "execution_count": null,
   "id": "about-petite",
   "metadata": {
    "deletable": false,
    "editable": false
   },
   "outputs": [],
   "source": [
    "grader.export(pdf=False, force_save=True)"
   ]
  },
  {
   "cell_type": "markdown",
   "id": "universal-check",
   "metadata": {},
   "source": [
    " "
   ]
  }
 ],
 "metadata": {
  "kernelspec": {
   "display_name": "Python 3 (ipykernel)",
   "language": "python",
   "name": "python3"
  },
  "language_info": {
   "codemirror_mode": {
    "name": "ipython",
    "version": 3
   },
   "file_extension": ".py",
   "mimetype": "text/x-python",
   "name": "python",
   "nbconvert_exporter": "python",
   "pygments_lexer": "ipython3",
   "version": "3.9.5"
  },
  "otter": {
   "tests": {
    "q1": {
     "name": "q1",
     "points": null,
     "suites": [
      {
       "cases": [
        {
         "code": ">>> small_numbers == [0,1,2,3,4,5,6,7,8,9]\nTrue",
         "hidden": false,
         "locked": false
        }
       ],
       "scored": true,
       "setup": "",
       "teardown": "",
       "type": "doctest"
      }
     ]
    },
    "q10": {
     "name": "q10",
     "points": null,
     "suites": [
      {
       "cases": [
        {
         "code": ">>> pyramid(1) == '#  #'\nTrue",
         "hidden": false,
         "locked": false
        },
        {
         "code": ">>> pyramid(2) == ' #  #\\n##  ##' or pyramid(2) ==  ' #  # \\n##  ##'\nTrue",
         "hidden": false,
         "locked": false
        },
        {
         "code": ">>> pyramid(3) == '  #  #\\n ##  ##\\n###  ###' or pyramid(3) ==  '  #  #  \\n ##  ## \\n###  ###'\nTrue",
         "hidden": false,
         "locked": false
        },
        {
         "code": ">>> pyramid(4) == '   #  #\\n  ##  ##\\n ###  ###\\n####  ####' or pyramid(4) ==  '   #  #   \\n  ##  ##  \\n ###  ### \\n####  ####'\nTrue",
         "hidden": false,
         "locked": false
        }
       ],
       "scored": true,
       "setup": "",
       "teardown": "",
       "type": "doctest"
      }
     ]
    },
    "q2": {
     "name": "q2",
     "points": null,
     "suites": [
      {
       "cases": [
        {
         "code": ">>> pyramid_list == [list(range(i+1)) for i in range(10)]\nTrue",
         "hidden": false,
         "locked": false
        }
       ],
       "scored": true,
       "setup": "",
       "teardown": "",
       "type": "doctest"
      }
     ]
    },
    "q4": {
     "name": "q4",
     "points": null,
     "suites": [
      {
       "cases": [
        {
         "code": ">>> is_even(2) == True\nTrue",
         "hidden": false,
         "locked": false
        },
        {
         "code": ">>> is_even(1202) == True\nTrue",
         "hidden": false,
         "locked": false
        },
        {
         "code": ">>> is_even(-1202) == True\nTrue",
         "hidden": false,
         "locked": false
        },
        {
         "code": ">>> is_even(-3) == False\nTrue",
         "hidden": false,
         "locked": false
        },
        {
         "code": ">>> is_even(-137) == False\nTrue",
         "hidden": false,
         "locked": false
        }
       ],
       "scored": true,
       "setup": "",
       "teardown": "",
       "type": "doctest"
      }
     ]
    },
    "q7": {
     "name": "q7",
     "points": null,
     "suites": [
      {
       "cases": [
        {
         "code": ">>> numbers == [i for i in range(1000) if i % 2 == 1 and i % 7 == 0]\nTrue",
         "hidden": false,
         "locked": false
        }
       ],
       "scored": true,
       "setup": "",
       "teardown": "",
       "type": "doctest"
      }
     ]
    },
    "q8": {
     "name": "q8",
     "points": null,
     "suites": [
      {
       "cases": [
        {
         "code": ">>> sum_squares(1) == 1\nTrue",
         "hidden": false,
         "locked": false
        },
        {
         "code": ">>> sum_squares(5) == 5**2 + 4**2 + 3**2 + 2**2 + 1**2\nTrue",
         "hidden": false,
         "locked": false
        },
        {
         "code": ">>> sum_squares(9) == 9**2 + 8**2 + 7**2 + 6**2 + 5**2 + 4**2 + 3**2 + 2**2 + 1**2\nTrue",
         "hidden": false,
         "locked": false
        },
        {
         "code": ">>> sum_squares(0) == 0\nTrue",
         "hidden": false,
         "locked": false
        }
       ],
       "scored": true,
       "setup": "",
       "teardown": "",
       "type": "doctest"
      }
     ]
    },
    "q9": {
     "name": "q9",
     "points": null,
     "suites": [
      {
       "cases": [
        {
         "code": ">>> count_coins(0.13) == 3\nTrue",
         "hidden": false,
         "locked": false
        },
        {
         "code": ">>> count_coins(100) == 50\nTrue",
         "hidden": false,
         "locked": false
        },
        {
         "code": ">>> count_coins(100.31) == 53\nTrue",
         "hidden": false,
         "locked": false
        },
        {
         "code": ">>> count_coins(100.316) == count_coins(100.32)\nTrue",
         "hidden": false,
         "locked": false
        },
        {
         "code": ">>> count_coins(100.314) == count_coins(100.31)\nTrue",
         "hidden": false,
         "locked": false
        }
       ],
       "scored": true,
       "setup": "",
       "teardown": "",
       "type": "doctest"
      }
     ]
    }
   }
  }
 },
 "nbformat": 4,
 "nbformat_minor": 5
}
