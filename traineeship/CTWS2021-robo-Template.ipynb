{
 "cells": [
  {
   "cell_type": "code",
   "execution_count": null,
   "id": "separate-vietnamese",
   "metadata": {
    "deletable": false,
    "editable": false
   },
   "outputs": [],
   "source": [
    "# Initialize Otter\n",
    "import otter\n",
    "grader = otter.Notebook(\"CTWS2021-robo-Template.ipynb\")"
   ]
  },
  {
   "cell_type": "markdown",
   "id": "caring-minneapolis",
   "metadata": {},
   "source": [
    "Für dieses Notebook benötigen Sie zwei Module ``roboworld`` und ``otter-grader``. Installieren Sie diese z.B. durch:\n",
    "\n",
    "```\n",
    "pip install otter-grader\n",
    "pip install roboworld\n",
    "```"
   ]
  },
  {
   "cell_type": "markdown",
   "id": "bored-produce",
   "metadata": {},
   "source": [
    "# Roboerwelt\n",
    "\n",
    "Roboter dienen uns heute in vielen Bereichen als Helfer und Assistenten.\n",
    "Sie fertigen Autos und andere große Maschinen an, spielen gegeneinander Fußball und interagieren mit uns Menschen auf direktem Weg.\n",
    "Roboter können dort eingesetzt werden, wo es für den Menschen zu gefährlich wird.\n",
    "Zum Beispiel, hatte man versucht durch einen Roboter die Lage am Kernreaktor von Chernobyl besser zu analysieren.\n",
    "Ein weiteres Beispiel ist die Entschärfung von Sprengstoff oder das Auffinden von Überlebenden, welche unter Gebäuden begraben wurden.\n",
    "\n",
    "Wir werden heute einen Roboter durch eine zweidimensionale Welt bewegen."
   ]
  },
  {
   "cell_type": "markdown",
   "id": "emotional-flight",
   "metadata": {},
   "source": [
    "Um die Welt und ihren Roboter anzuzeigen benötigen Sie das Modul ``roboworld``."
   ]
  },
  {
   "cell_type": "code",
   "execution_count": 2,
   "id": "moderate-macedonia",
   "metadata": {},
   "outputs": [],
   "source": [
    "import roboworld as rw"
   ]
  },
  {
   "cell_type": "markdown",
   "id": "circular-remove",
   "metadata": {},
   "source": [
    "Dieser Befehl sorgt dafür, dass das *Modul* ``roboworld`` in unser Notebook importiert (eingefügt) wird. Um nicht immer den langen Namen ``roboworld`` tippen zu müssen, wählen wir die Abkürzung ``rw``. \n",
    "\n",
    "Lassen Sie uns eine Roboterwelt mit 5 Zeilen ``nrows`` und 9 Spalten ``ncols`` erzeugen:"
   ]
  },
  {
   "cell_type": "code",
   "execution_count": 3,
   "id": "liberal-expense",
   "metadata": {},
   "outputs": [],
   "source": [
    "world = rw.new_world(nrows = 5, ncols = 9)"
   ]
  },
  {
   "cell_type": "markdown",
   "id": "latest-matter",
   "metadata": {},
   "source": [
    "Wir sagen dem ``Modul``, dass es uns eine neue Welt erzeugen soll. Jetzt können wir dieser Welt ``world`` sagen, dass sie sich selbst bitte anzeigen soll:"
   ]
  },
  {
   "cell_type": "code",
   "execution_count": 4,
   "id": "funded-lounge",
   "metadata": {},
   "outputs": [],
   "source": [
    "world.show()"
   ]
  },
  {
   "cell_type": "markdown",
   "id": "elementary-cookie",
   "metadata": {},
   "source": [
    "Ok! Was wir sehen sind Zellen angeordnet in 5 Reihen und 9 Spalten. Fast alle Zellen sind Lila nur zwei Zellen haben eine andere Farbe. Die gelbe Zelle ist jene, auf der sich unser Roboter befindet und die türkise Zelle markiert das Ziel des Roboters. Dummerweise kann sich unser Roboter nur nach vorne bewegen und sich auch nur um 90 Grad nach links drehen."
   ]
  },
  {
   "cell_type": "markdown",
   "id": "entitled-grove",
   "metadata": {},
   "source": [
    "***\n",
    "***Aufgabe 1.*** \n",
    "Erzeugen Sie eine Welt ``world`` mit einer Zeile und zehn Spalten."
   ]
  },
  {
   "cell_type": "code",
   "execution_count": 5,
   "id": "short-norman",
   "metadata": {
    "tags": []
   },
   "outputs": [],
   "source": [
    "world = ...\n",
    "world.show()"
   ]
  },
  {
   "cell_type": "code",
   "execution_count": null,
   "id": "leading-morrison",
   "metadata": {
    "deletable": false,
    "editable": false
   },
   "outputs": [],
   "source": [
    "grader.check(\"q1\")"
   ]
  },
  {
   "cell_type": "markdown",
   "id": "searching-metadata",
   "metadata": {},
   "source": [
    "***"
   ]
  },
  {
   "cell_type": "markdown",
   "id": "assigned-placement",
   "metadata": {},
   "source": [
    "Soweit so gut. Wir haben also eine Welt ``world`` und in dieser befindet sich unser Roboter.\n",
    "Wie können wir unseren Roboter nun steuern?\n",
    "Wir müssen der Welt sagen, sie solle uns doch bitte den Roboter geben.\n",
    "\n",
    "Wir können daraufhin mit ``help(robo)`` herausfinden was der Roboter denn so kann."
   ]
  },
  {
   "cell_type": "code",
   "execution_count": 8,
   "id": "aging-sustainability",
   "metadata": {},
   "outputs": [],
   "source": [
    "robo = world.get_robo()\n",
    "help(robo)"
   ]
  },
  {
   "cell_type": "markdown",
   "id": "greek-nudist",
   "metadata": {},
   "source": [
    "***\n",
    "***Aufgabe 2.*** \n",
    "Testen Sie was die Methode ``move`` des Roboters tut, rufen Sie sie dazu mit ``robo.move()`` auf."
   ]
  },
  {
   "cell_type": "code",
   "execution_count": 9,
   "id": "animated-detroit",
   "metadata": {
    "tags": []
   },
   "outputs": [],
   "source": [
    "world = rw.new_world(nrows = 5, ncols = 5)\n",
    "robo = world.get_robo()\n",
    "world.show()"
   ]
  },
  {
   "cell_type": "code",
   "execution_count": 10,
   "id": "familiar-title",
   "metadata": {
    "tags": []
   },
   "outputs": [],
   "source": [
    "...\n",
    "world.show()"
   ]
  },
  {
   "cell_type": "markdown",
   "id": "broken-footage",
   "metadata": {},
   "source": [
    "***"
   ]
  },
  {
   "cell_type": "markdown",
   "id": "ahead-retro",
   "metadata": {},
   "source": [
    "Der Roboter bewegt sich ein Feld nach oben (Richtung Norden). Wir haben jedoch oben eine neue Welt mit 5 Spalten und 5 Zeilen erzeugt. Was wird passieren wenn wir eine Welt mit 5 Spalten aber nur 1 Zeile erzeugen und den Roboter bewegen?"
   ]
  },
  {
   "cell_type": "markdown",
   "id": "sharp-offset",
   "metadata": {},
   "source": [
    "***\n",
    "***Aufgabe 3.*** \n",
    "Erzeugen Sie eine Welt ``world`` mit 5 Spalten und 1 Zeile. Bewegen Sie den Roboter **dieser** Welt um ein Feld. Führen Sie also lediglich ``move`` aus."
   ]
  },
  {
   "cell_type": "code",
   "execution_count": 11,
   "id": "minute-seven",
   "metadata": {
    "tags": []
   },
   "outputs": [],
   "source": [
    "world = ...\n",
    "robo = ...\n",
    "..."
   ]
  },
  {
   "cell_type": "markdown",
   "id": "pharmaceutical-lafayette",
   "metadata": {},
   "source": [
    "***"
   ]
  },
  {
   "cell_type": "markdown",
   "id": "compliant-tucson",
   "metadata": {},
   "source": [
    "Da scheint was schiefgegangen zu sein. Wir erhalten den Fehler: ``There is a wall in front.`` somit kann sich unser Roboter wohl nicht bewegen."
   ]
  },
  {
   "cell_type": "markdown",
   "id": "resistant-grant",
   "metadata": {},
   "source": [
    "***\n",
    "***Aufgabe 4.*** \n",
    "Lösen Sie das Problem. Lassen Sie den Roboter um ein Feld nach rechts (Osten) laufen. **Tipp:** Der Roboter bietet die Methode ``turn_left`` an."
   ]
  },
  {
   "cell_type": "code",
   "execution_count": 12,
   "id": "blank-spread",
   "metadata": {
    "tags": []
   },
   "outputs": [],
   "source": [
    "...\n",
    "..."
   ]
  },
  {
   "cell_type": "code",
   "execution_count": null,
   "id": "involved-manner",
   "metadata": {
    "deletable": false,
    "editable": false
   },
   "outputs": [],
   "source": [
    "grader.check(\"q4\")"
   ]
  },
  {
   "cell_type": "markdown",
   "id": "honest-accessory",
   "metadata": {},
   "source": [
    "***"
   ]
  },
  {
   "cell_type": "markdown",
   "id": "biblical-backup",
   "metadata": {},
   "source": [
    "Soweit so gut. Wir wissen also nun, wie wir den Roboter nach links drehen können sodass er auch in eine andere Richtung als Norden laufen kann. Wie wäre es wenn wir unseren (türkisen) Roboter nun zu unserem (gelben) Ziel bewegen?"
   ]
  },
  {
   "cell_type": "markdown",
   "id": "efficient-bride",
   "metadata": {},
   "source": [
    "***\n",
    "***Aufgabe 5.*** \n",
    "Bewegen Sie Ihren Roboter ``robo`` auf das Ziel. Gehen Sie davon aus, dass der Roboter bzw. Sie wissen wo das Ziel ist. Nach der Erstellung der Welt ist der Roboter nach Norden ausgerichtet."
   ]
  },
  {
   "cell_type": "code",
   "execution_count": 14,
   "id": "enhanced-strengthening",
   "metadata": {
    "tags": []
   },
   "outputs": [],
   "source": [
    "#np.random.seed(0) # TODO: make the goal fixed instead of a defining the seed to eliminate randomness\n",
    "world = rw.new_world(nrows = 1, ncols = 10, agent_position=[0,0], goal_position=[0, 5])\n",
    "robo = world.get_robo()\n",
    "world.show()"
   ]
  },
  {
   "cell_type": "code",
   "execution_count": 15,
   "id": "proper-string",
   "metadata": {
    "tags": []
   },
   "outputs": [],
   "source": [
    "..."
   ]
  },
  {
   "cell_type": "code",
   "execution_count": null,
   "id": "printable-newspaper",
   "metadata": {
    "deletable": false,
    "editable": false
   },
   "outputs": [],
   "source": [
    "grader.check(\"q5\")"
   ]
  },
  {
   "cell_type": "markdown",
   "id": "marine-portfolio",
   "metadata": {},
   "source": [
    "***"
   ]
  },
  {
   "cell_type": "markdown",
   "id": "fundamental-polymer",
   "metadata": {},
   "source": [
    "Um den Roboter nach rechts zum Ziel zu bewegen mussten wir Ihn erst einmal um 270 Grad nach links drehen. In anderen Worten wir mussten 3x ``robo.turn_left()`` aufrufen. Lassen Sie uns dieses **Was** (nach rechts Drehen) in eine ``Python``-Funktion packen!\n",
    "\n",
    "Funktionen sind gebündelte *Ausdrucke* kombiniert mit optionalen Argumenten.\n",
    "In ``Python`` beginnt eine Funktionsdefinition mit dem Signalwort ``def`` gefolgt von dem *Funktionsnamen*, dann folgt eine offene Klammer ``(`` und die Argumente getrennt mit Komma. Die Liste an Argumenten wird mit der geschlossenen Klammer ``)`` und dem Doppelpunkt ``:`` abgeschlossen. \n",
    "\n",
    "```python\n",
    "def function(argument1, argument2):\n",
    "    expression1\n",
    "    expression2\n",
    "    ...\n",
    "```\n",
    "\n",
    "Lange Rede kurzer Sinn, probieren Sie es einfach aus."
   ]
  },
  {
   "cell_type": "markdown",
   "id": "norwegian-satin",
   "metadata": {},
   "source": [
    "***\n",
    "***Aufgabe 6.*** \n",
    "Definieren Sie eine Funktion ``turn_right(robo)`` mit dem Argument ``robo`` was Ihr Roboter ist."
   ]
  },
  {
   "cell_type": "code",
   "execution_count": 6,
   "id": "plastic-daily",
   "metadata": {
    "tags": []
   },
   "outputs": [],
   "source": [
    "def turn_right(robo):\n",
    "    ..."
   ]
  },
  {
   "cell_type": "code",
   "execution_count": null,
   "id": "bridal-greensboro",
   "metadata": {
    "deletable": false,
    "editable": false
   },
   "outputs": [],
   "source": [
    "grader.check(\"q6\")"
   ]
  },
  {
   "cell_type": "markdown",
   "id": "monthly-payday",
   "metadata": {},
   "source": [
    "***"
   ]
  },
  {
   "cell_type": "markdown",
   "id": "alert-school",
   "metadata": {},
   "source": [
    "Sie sehen wir haben das Problem *nach rechts drehen* durch die Teilprobleme *nach links drehen* gelöst. Schaffen Sie es nun den Roboter durch ein Labyrinth zu bewegen?"
   ]
  },
  {
   "cell_type": "markdown",
   "id": "eligible-syracuse",
   "metadata": {},
   "source": [
    "***\n",
    "***Aufgabe 7.*** \n",
    "Bewegen Sie den Roboter durch folgendes Labyrinth. Verwenden Sie ``robo.turn_left()``, ``robo.move()`` und Ihre Funktion ``turn_right(robo)``. Ihr Roboter ist nach Norden ausgerichtet."
   ]
  },
  {
   "cell_type": "code",
   "execution_count": 11,
   "id": "working-tribe",
   "metadata": {},
   "outputs": [],
   "source": [
    "maze = rw.maze()\n",
    "robo = maze.get_robo()\n",
    "maze.show()"
   ]
  },
  {
   "cell_type": "markdown",
   "id": "visible-timeline",
   "metadata": {},
   "source": [
    "Die blauen Zellen sind Hindernisse und könne nicht vom Roboter betreten werden. Läuft der Roboter in eine Wand oder ein Hindernis kommt es zu einem Fehler."
   ]
  },
  {
   "cell_type": "code",
   "execution_count": 12,
   "id": "random-brazil",
   "metadata": {
    "tags": []
   },
   "outputs": [],
   "source": [
    "..."
   ]
  },
  {
   "cell_type": "code",
   "execution_count": null,
   "id": "turned-corporation",
   "metadata": {
    "deletable": false,
    "editable": false
   },
   "outputs": [],
   "source": [
    "grader.check(\"q7\")"
   ]
  },
  {
   "cell_type": "markdown",
   "id": "eligible-machine",
   "metadata": {},
   "source": [
    "Das war viel Schreibarbeit. Erkennen Sie ein Muster was sich immer und immer wieder wiederholt?\n",
    "\n",
    "Möchten wir in ``Python`` eine folge von *Anweisungen* ``n``-mal ausführen so verwenden wir eine sogenannte Schleife. Zum Beispiel können wir mit folgendem Code ``n``-mal ``'Hallo Welt!'`` ausgeben:"
   ]
  },
  {
   "cell_type": "code",
   "execution_count": 14,
   "id": "empty-waste",
   "metadata": {},
   "outputs": [],
   "source": [
    "for i in range(5):\n",
    "    print('Hello Welt!')"
   ]
  },
  {
   "cell_type": "markdown",
   "id": "personal-transmission",
   "metadata": {},
   "source": [
    "Zu Deutsch: Für jedes ``i`` was sich in ``range(n)`` befindet führe bitte ``print('Hello Welt!')`` aus. Dabei ist ``range(n)`` eine Folge/Sequenz von ganzen Zahlen $0, 1, \\ldots, n-1$. D.h. ``range(5)`` ist eine Sequenz bestehend aus ``0, 1, 2, 3, 4``. Jeder dieser Zahlen wird der Variablen ``i`` *zugewiesen* und anschließend werden die Anweisungen innerhalb der Schleife ausgeführt. Lassen Sie uns doch gleich ``i`` mit ausgeben:"
   ]
  },
  {
   "cell_type": "code",
   "execution_count": 15,
   "id": "dress-radio",
   "metadata": {},
   "outputs": [],
   "source": [
    "for i in range(5):\n",
    "    print('Hello Welt! i = ' + str(i))"
   ]
  },
  {
   "cell_type": "markdown",
   "id": "thermal-amateur",
   "metadata": {},
   "source": [
    "``i`` ist eine Zahl und mit ``str(i)`` wandeln wir diese in eine Zeichenkette um. Die Addition ``'Hello Welt! i = ' + str(i)`` verkettet die beiden Zeichenketten."
   ]
  },
  {
   "cell_type": "markdown",
   "id": "thick-intention",
   "metadata": {},
   "source": [
    "***\n",
    "***Aufgabe 8.*** \n",
    "Geben Sie alle Quadratzahlen von 1 bis 100 aus."
   ]
  },
  {
   "cell_type": "code",
   "execution_count": 16,
   "id": "selected-surgery",
   "metadata": {
    "tags": []
   },
   "outputs": [],
   "source": [
    "for i in range(100):\n",
    "    print((i+1) * (i+1))"
   ]
  },
  {
   "cell_type": "markdown",
   "id": "vertical-number",
   "metadata": {},
   "source": [
    "***"
   ]
  },
  {
   "cell_type": "markdown",
   "id": "blessed-wheel",
   "metadata": {},
   "source": [
    "Lassen Sie uns nun Schleifen nutzten um unseren Roboter bequemer steuern zu können."
   ]
  },
  {
   "cell_type": "markdown",
   "id": "visible-conflict",
   "metadata": {},
   "source": [
    "***\n",
    "***Aufgabe 9.*** \n",
    "Schreiben Sie eine Funktion ``move(robo, steps)`` die den Roboter ``robo`` um ``steps`` Schritte nach vorne bewegt."
   ]
  },
  {
   "cell_type": "code",
   "execution_count": 17,
   "id": "actual-reserve",
   "metadata": {
    "tags": []
   },
   "outputs": [],
   "source": [
    "def move(robo, steps):\n",
    "    ..."
   ]
  },
  {
   "cell_type": "code",
   "execution_count": null,
   "id": "constant-despite",
   "metadata": {
    "deletable": false,
    "editable": false
   },
   "outputs": [],
   "source": [
    "grader.check(\"q9\")"
   ]
  },
  {
   "cell_type": "markdown",
   "id": "cardiovascular-cleaning",
   "metadata": {},
   "source": [
    "***"
   ]
  },
  {
   "cell_type": "markdown",
   "id": "radio-affairs",
   "metadata": {},
   "source": [
    "Testen Sie Ihre neue Funktion"
   ]
  },
  {
   "cell_type": "code",
   "execution_count": 19,
   "id": "tracked-consciousness",
   "metadata": {},
   "outputs": [],
   "source": [
    "world = rw.new_world(nrows = 1, ncols = 10, agent_position=[0,0], goal_position=[0,9])\n",
    "robo = world.get_robo()\n",
    "turn_right(robo)\n",
    "world.show()"
   ]
  },
  {
   "cell_type": "markdown",
   "id": "reported-recording",
   "metadata": {},
   "source": [
    "Es wird Zeit, dass wir die neue Funktion auch wirklich verwenden."
   ]
  },
  {
   "cell_type": "markdown",
   "id": "necessary-spirituality",
   "metadata": {},
   "source": [
    "***\n",
    "***Aufgabe 10.*** \n",
    "Blicken Sie auf Ihre Lösung aus ***Aufgabe 8***. Lösen Sie diese erneut verwenden Sie jedoch Ihre neue Funktion ``move(robo, steps)``."
   ]
  },
  {
   "cell_type": "code",
   "execution_count": 21,
   "id": "defined-skiing",
   "metadata": {
    "scrolled": true,
    "tags": []
   },
   "outputs": [],
   "source": [
    "maze = rw.maze()\n",
    "robo = maze.get_robo()\n",
    "maze.show()"
   ]
  },
  {
   "cell_type": "code",
   "execution_count": 22,
   "id": "british-serial",
   "metadata": {
    "scrolled": false,
    "tags": []
   },
   "outputs": [],
   "source": [
    "..."
   ]
  },
  {
   "cell_type": "code",
   "execution_count": null,
   "id": "macro-montgomery",
   "metadata": {
    "deletable": false,
    "editable": false
   },
   "outputs": [],
   "source": [
    "grader.check(\"q10\")"
   ]
  },
  {
   "cell_type": "markdown",
   "id": "mexican-northeast",
   "metadata": {},
   "source": [
    "Erkennen Sie weitere Muster? Der Roboter läuft einmal noch oben und dann 3x nach unten und wieder noch oben. Diese drei sich wiederholenden Abläufe müssen wir nicht 3x niederschreiben! Im folgenden benutzten wir eine weitere Schleife um den Code weiter zu verkürzen."
   ]
  },
  {
   "cell_type": "code",
   "execution_count": 24,
   "id": "unlimited-consistency",
   "metadata": {},
   "outputs": [],
   "source": [
    "maze = rw.maze()\n",
    "robo = maze.get_robo()\n",
    "robo.disable_print() # hiermit verhindern wir die Ausgabe\n",
    "maze.show()"
   ]
  },
  {
   "cell_type": "code",
   "execution_count": 25,
   "id": "surrounded-sweden",
   "metadata": {
    "scrolled": true
   },
   "outputs": [],
   "source": [
    "move(robo, 5)\n",
    "\n",
    "for i in range(3):\n",
    "    turn_right(robo)\n",
    "    move(robo, 2)\n",
    "    turn_right(robo)\n",
    "    move(robo, 5)\n",
    "\n",
    "    robo.turn_left()\n",
    "    move(robo, 2)\n",
    "    robo.turn_left()\n",
    "    move(robo, 5)\n",
    "\n",
    "maze.show()"
   ]
  },
  {
   "cell_type": "markdown",
   "id": "approved-allen",
   "metadata": {},
   "source": [
    "Ok, bis hierher sind wir davon ausgegangen, dass wir wissen wie die Roboterwelt aussieht und wo sich der Roboter befindet und wie er ausgerichtet ist (Norden, Süden, Osten, Westen). Damit ist nun Schluss! Ein echter Roboter weiß nicht viel. Er weiß nicht wo er ist und auch nicht wo das Ziel ist. Allerdings kann er abtasten ob direkt vor ihm eine Wand is ``robo.is_wall_in_front()`` und er weiß ob er noch Norden ausgerichtet ist ``robo.is_facing_north()``.\n",
    "Wir haben also bis hierher folgende Funktionen zur Verfügung:\n",
    "\n",
    "+ ``robo.move()``: bewegt ``robo`` ein Feld nach vorne\n",
    "+ ``move(robo, steps)``: bewegt ``robo`` um ``steps`` Felder nach vorne\n",
    "+ ``robo.turn_left()``: dreht ``robo`` um 90 nach links\n",
    "+ ``turn_right(robo)``: dreht ``robo`` um 90 nach rechts\n",
    "+ ``robo.is_wall_in_front()``: gibt ``True`` zurück wenn vor dem ``robo`` eine Wand ist und sonst ``False``.\n",
    "+ ``robo.is_facing_north()``: gibt ``True`` zurück wenn ``robo`` nach Norden ausgerichtet ist und sonst ``False``.\n",
    "\n",
    "Zuätzlich hätten wir gerne folgenden Funktionen:\n",
    "\n",
    "+ ``turn_to_north(robo)``: dreht ``robo`` nach Norden\n",
    "+ ``turn_to_west(robo)``: dreht ``robo`` nach Westen\n",
    "+ ``turn_to_east(robo)``: dreht ``robo`` nach Osten\n",
    "+ ``turn_to_south(robo)``: dreht ``robo`` nach Süden\n",
    "\n",
    "Für die Ausrichtung nach Norden, Westen, Osten oder Süden könnte ein weiterer Schleifentyp von nutzten sein: die ``while``-Schleife. Diese verwenden wir wenn wir etwas solange wiederholen wollen bis eine bestimmte Bedingung erfüllt ist. Wir müssen also gar nicht wissen wann das genau der Fall ist. Angenommen wir wollen die größte ganze Zahl $k$ berechnen sodass $k < \\sqrt{65242}$. Nichts leichter als das:"
   ]
  },
  {
   "cell_type": "code",
   "execution_count": 35,
   "id": "surprising-saying",
   "metadata": {
    "scrolled": true
   },
   "outputs": [],
   "source": [
    "k = 1\n",
    "while k < 65242**(0.5):\n",
    "    k = k + 1\n",
    "k"
   ]
  },
  {
   "cell_type": "code",
   "execution_count": 36,
   "id": "seasonal-emphasis",
   "metadata": {
    "scrolled": true
   },
   "outputs": [],
   "source": [
    "k*k"
   ]
  },
  {
   "cell_type": "markdown",
   "id": "martial-charleston",
   "metadata": {},
   "source": [
    "``65242**(0.5)`` bedeutet $65242^{0.5} = \\sqrt{65242}$"
   ]
  },
  {
   "cell_type": "markdown",
   "id": "impaired-defendant",
   "metadata": {},
   "source": [
    "***\n",
    "***Aufgabe 11.*** \n",
    "Schreiben Sie eine Funktion ``turn_to_north(robo)`` die den Roboter nach Norden ausrichtet. **Tipp:** Verwenden Sie eine ``while``-Schleife in Kombination mit ``robo.is_facing_north()``, ``not`` und ``robo.turn_left()``."
   ]
  },
  {
   "cell_type": "code",
   "execution_count": 26,
   "id": "prime-plastic",
   "metadata": {
    "tags": []
   },
   "outputs": [],
   "source": [
    "def turn_to_north(robo):\n",
    "    ..."
   ]
  },
  {
   "cell_type": "code",
   "execution_count": null,
   "id": "essential-australia",
   "metadata": {
    "deletable": false,
    "editable": false
   },
   "outputs": [],
   "source": [
    "grader.check(\"q11\")"
   ]
  },
  {
   "cell_type": "markdown",
   "id": "induced-pacific",
   "metadata": {},
   "source": [
    "***Aufgabe 12.*** \n",
    "Schreiben Sie nun Funktionen ``turn_to_west(robo)``, ``turn_to_south(robo)``. ``turn_to_east(robo)`` unter Verwendung von ``turn_to_north(robo)``. **Tipp:** Keine dieser Funktionen benötigt eine Schleife sondern lediglich **zwei** Anweisungen!"
   ]
  },
  {
   "cell_type": "code",
   "execution_count": 28,
   "id": "crazy-manitoba",
   "metadata": {
    "tags": []
   },
   "outputs": [],
   "source": [
    "def turn_to_west(robo):\n",
    "    ...\n",
    "    \n",
    "def turn_to_south(robo):\n",
    "    ...\n",
    "    \n",
    "def turn_to_east(robo):\n",
    "    ..."
   ]
  },
  {
   "cell_type": "code",
   "execution_count": null,
   "id": "neural-lightning",
   "metadata": {
    "deletable": false,
    "editable": false
   },
   "outputs": [],
   "source": [
    "grader.check(\"q12\")"
   ]
  },
  {
   "cell_type": "markdown",
   "id": "elegant-terror",
   "metadata": {},
   "source": [
    "***"
   ]
  },
  {
   "cell_type": "markdown",
   "id": "preceding-absence",
   "metadata": {},
   "source": [
    "Zücken Sie Stift und Papier, denn jetzt kommt eine Aufgabe bei der Sie Ihre Gehirnmuskeln anstrengen müssen und die viele Lösungen bietet. Unser Roboter ist bis hier hin noch nicht sonderlich intelligent. Wir wollen nun einen Algorithmus entwerfen, der den Roboter garantiert zu seinem Ziel führt. Wir wissen dabei dass:\n",
    "\n",
    "1. die Welt Rechteckig ist und\n",
    "2. sich in der Welt keine Wände (bis auf die Außenwände) befinden.\n",
    "\n",
    "Wir wissen aber nicht aus wie viele Spalten und Zeilen die Welt besteht und wo sich der Roboter befindet oder wie er ausgerichtet ist. Zum Beispiel könnte die Welt so aussehen:"
   ]
  },
  {
   "cell_type": "code",
   "execution_count": 32,
   "id": "incorporated-latin",
   "metadata": {
    "scrolled": false
   },
   "outputs": [],
   "source": [
    "nrows = 3\n",
    "ncols = 10\n",
    "world = rw.new_world(nrows = nrows, ncols = ncols)\n",
    "world.show()"
   ]
  },
  {
   "cell_type": "markdown",
   "id": "scientific-network",
   "metadata": {},
   "source": [
    "Bevor wir loslegen wollen wir Ihnen noch eine Funktion anbieten, die Ihnen helfen könnte. Mit ``robo.is_at_goal()`` können Sie prüfen ob sich robo auf dem Ziel befindet."
   ]
  },
  {
   "cell_type": "markdown",
   "id": "speaking-photography",
   "metadata": {},
   "source": [
    "***\n",
    "***Aufgabe 13.*** \n",
    "Beschreiben Sie welchen Effekt folgende Funktion ``walk_to_wall(robo)`` auf ``robo`` hat."
   ]
  },
  {
   "cell_type": "code",
   "execution_count": 33,
   "id": "incredible-citizenship",
   "metadata": {},
   "outputs": [],
   "source": [
    "def walk_to_wall(robo):\n",
    "    while not robo.is_wall_in_front() and not robo.is_at_goal():\n",
    "        robo.move()\n",
    "    return robo.is_at_goal()"
   ]
  },
  {
   "cell_type": "markdown",
   "id": "functioning-private",
   "metadata": {},
   "source": [
    "_Type your answer here, replacing this text._"
   ]
  },
  {
   "cell_type": "markdown",
   "id": "caroline-dylan",
   "metadata": {},
   "source": [
    "***"
   ]
  },
  {
   "cell_type": "markdown",
   "id": "inappropriate-chess",
   "metadata": {},
   "source": [
    "***\n",
    "***Aufgabe 14.*** \n",
    "Schreiben Sie nun Funktionen ``move_to_goal(robo)`` die ``robo`` in einer rechteckigen Welt ohne Hindernisse sicher zum Ziel bewegt. Mit ``robo.is_at_goal()`` können Sie prüfen ob sich ``robo`` auf dem Ziel befindet. Zur Erinnerung, Ihnen stehen folgende Funktionen zur Verfügung:\n",
    "\n",
    "Wir haben also bis hierher folgende Funktionen zur Verfügung:\n",
    "\n",
    "+ ``robo.move()``: bewegt ``robo`` ein Feld nach vorne\n",
    "+ ``move(robo, steps)``: bewegt ``robo`` um ``steps`` Felder nach vorne\n",
    "+ ``robo.turn_left()``: dreht ``robo`` um 90 nach links\n",
    "+ ``turn_right(robo)``: dreht ``robo`` um 90 nach rechts\n",
    "+ ``robo.is_wall_in_front()``: gibt ``True`` zurück wenn vor dem ``robo`` eine Wand ist und sonst ``False``\n",
    "+ ``robo.is_facing_north()``: gibt ``True`` zurück wenn ``robo`` nach Norden ausgerichtet ist und sonst ``False``\n",
    "+ ``turn_to_north(robo)``: dreht ``robo`` nach Norden\n",
    "+ ``turn_to_west(robo)``: dreht ``robo`` nach Westen\n",
    "+ ``turn_to_east(robo)``: dreht ``robo`` nach Osten\n",
    "+ ``turn_to_south(robo)``: dreht ``robo`` nach Süden\n",
    "+ ``robo.is_at_goal()``: gibt ``True`` zurück ``robo`` auf dem Ziel steht und sonst ``False``\n",
    "+ ``walk_to_wall(robo)``: bewegt ``robo`` geradeaus solange bis er auf eine Wand oder das Ziel trifft"
   ]
  },
  {
   "cell_type": "code",
   "execution_count": 34,
   "id": "reliable-aging",
   "metadata": {
    "tags": []
   },
   "outputs": [],
   "source": [
    "def move_to_goal(robo):\n",
    "    ..."
   ]
  },
  {
   "cell_type": "code",
   "execution_count": null,
   "id": "requested-smith",
   "metadata": {
    "deletable": false,
    "editable": false
   },
   "outputs": [],
   "source": [
    "grader.check(\"q14\")"
   ]
  },
  {
   "cell_type": "markdown",
   "id": "ignored-qualification",
   "metadata": {},
   "source": [
    "Mir der Funktion ``rw.animate(world)``, können Sie sich eine Animation des Roboterlaufs auf Ihrer Welt ``world`` ansehen, der Aufruf kann ein wenig Zeit in Anspruch nehmen:"
   ]
  },
  {
   "cell_type": "code",
   "execution_count": 37,
   "id": "published-florist",
   "metadata": {},
   "outputs": [],
   "source": [
    "nrows = 10\n",
    "ncols = 10\n",
    "rect = rw.new_world(nrows = nrows, ncols = ncols)\n",
    "rect_robo = rect.get_robo()\n",
    "rect_robo.disable_print()\n",
    "move_to_goal(rect_robo)\n",
    "rw.animate(rect)"
   ]
  },
  {
   "cell_type": "code",
   "execution_count": null,
   "id": "injured-middle",
   "metadata": {},
   "outputs": [],
   "source": []
  },
  {
   "cell_type": "markdown",
   "id": "norman-shelf",
   "metadata": {
    "deletable": false,
    "editable": false
   },
   "source": [
    "---\n",
    "\n",
    "To double-check your work, the cell below will rerun all of the autograder tests."
   ]
  },
  {
   "cell_type": "code",
   "execution_count": null,
   "id": "correct-inspector",
   "metadata": {
    "deletable": false,
    "editable": false
   },
   "outputs": [],
   "source": [
    "grader.check_all()"
   ]
  },
  {
   "cell_type": "markdown",
   "id": "mechanical-headset",
   "metadata": {
    "deletable": false,
    "editable": false
   },
   "source": [
    "## Submission\n",
    "\n",
    "Make sure you have run all cells in your notebook in order before running the cell below, so that all images/graphs appear in the output. The cell below will generate a zip file for you to submit.\n",
    "\n",
    "These are some submission instructions."
   ]
  },
  {
   "cell_type": "code",
   "execution_count": null,
   "id": "mineral-travel",
   "metadata": {
    "deletable": false,
    "editable": false
   },
   "outputs": [],
   "source": [
    "grader.export(pdf=False, force_save=True)"
   ]
  },
  {
   "cell_type": "markdown",
   "id": "narrow-pioneer",
   "metadata": {},
   "source": [
    " "
   ]
  }
 ],
 "metadata": {
  "kernelspec": {
   "display_name": "Python 3",
   "language": "python",
   "name": "python3"
  },
  "language_info": {
   "codemirror_mode": {
    "name": "ipython",
    "version": 3
   },
   "file_extension": ".py",
   "mimetype": "text/x-python",
   "name": "python",
   "nbconvert_exporter": "python",
   "pygments_lexer": "ipython3",
   "version": "3.9.6"
  },
  "otter": {
   "tests": {
    "q1": {
     "name": "q1",
     "points": null,
     "suites": [
      {
       "cases": [
        {
         "code": ">>> world.ncols == 10\nTrue",
         "hidden": false,
         "locked": false
        },
        {
         "code": ">>> world.nrows == 1\nTrue",
         "hidden": false,
         "locked": false
        }
       ],
       "scored": true,
       "setup": "",
       "teardown": "",
       "type": "doctest"
      }
     ]
    },
    "q10": {
     "name": "q10",
     "points": null,
     "suites": [
      {
       "cases": [
        {
         "code": ">>> maze.is_successful() == True\nTrue",
         "hidden": false,
         "locked": false
        }
       ],
       "scored": true,
       "setup": "",
       "teardown": "",
       "type": "doctest"
      }
     ]
    },
    "q11": {
     "name": "q11",
     "points": null,
     "suites": [
      {
       "cases": [
        {
         "code": ">>> corridor_test = rw.corridor()\n>>> robo_test = corridor_test.get_robo()\n>>> turn_to_north(robo_test)\n>>> robo_test.is_facing_north() == True\nturn Direction.EAST -> Direction.NORTH\nTrue",
         "hidden": false,
         "locked": false
        }
       ],
       "scored": true,
       "setup": "",
       "teardown": "",
       "type": "doctest"
      }
     ]
    },
    "q12": {
     "name": "q12",
     "points": null,
     "suites": [
      {
       "cases": [
        {
         "code": ">>> corridor_test = rw.corridor()\n>>> robo_test = corridor_test.get_robo()\n>>> turn_to_west(robo_test)\n>>> robo_test.turn_left()\n>>> robo_test.turn_left()\n>>> robo_test.turn_left()\n>>> robo_test.is_facing_north() == True\nturn Direction.EAST -> Direction.NORTH\nturn Direction.NORTH -> Direction.WEST\nturn Direction.WEST -> Direction.SOUTH\nturn Direction.SOUTH -> Direction.EAST\nturn Direction.EAST -> Direction.NORTH\nTrue",
         "hidden": false,
         "locked": false
        },
        {
         "code": ">>> corridor_test = rw.corridor()\n>>> robo_test = corridor_test.get_robo()\n>>> turn_to_south(robo_test)\n>>> robo_test.turn_left()\n>>> robo_test.turn_left()\n>>> robo_test.is_facing_north() == True\nturn Direction.EAST -> Direction.NORTH\nturn Direction.NORTH -> Direction.WEST\nturn Direction.WEST -> Direction.SOUTH\nturn Direction.SOUTH -> Direction.EAST\nturn Direction.EAST -> Direction.NORTH\nTrue",
         "hidden": false,
         "locked": false
        },
        {
         "code": ">>> corridor_test = rw.corridor()\n>>> robo_test = corridor_test.get_robo()\n>>> turn_to_east(robo_test)\n>>> robo_test.turn_left()\n>>> robo_test.is_facing_north() == True\nturn Direction.EAST -> Direction.NORTH\nturn Direction.NORTH -> Direction.WEST\nturn Direction.WEST -> Direction.SOUTH\nturn Direction.SOUTH -> Direction.EAST\nturn Direction.EAST -> Direction.NORTH\nTrue",
         "hidden": false,
         "locked": false
        }
       ],
       "scored": true,
       "setup": "",
       "teardown": "",
       "type": "doctest"
      }
     ]
    },
    "q14": {
     "name": "q14",
     "points": null,
     "suites": [
      {
       "cases": [
        {
         "code": ">>> nrows = 3\n>>> ncols = 10\n>>> test_world = rw.new_world(nrows = nrows, ncols = ncols)\n>>> test_robo = test_world.get_robo()\n>>> test_robo.disable_print()\n>>> move_to_goal(test_robo)\n>>> test_world.is_successful() == True\nTrue",
         "hidden": false,
         "locked": false
        },
        {
         "code": ">>> nrows = 10\n>>> ncols = 10\n>>> test_world = rw.new_world(nrows = nrows, ncols = ncols)\n>>> test_robo = test_world.get_robo()\n>>> test_robo.disable_print()\n>>> move_to_goal(test_robo)\n>>> test_world.is_successful() == True\nTrue",
         "hidden": false,
         "locked": false
        }
       ],
       "scored": true,
       "setup": "",
       "teardown": "",
       "type": "doctest"
      }
     ]
    },
    "q4": {
     "name": "q4",
     "points": null,
     "suites": [
      {
       "cases": [
        {
         "code": ">>> robo.position == [3,1]\nFalse",
         "hidden": false,
         "locked": false
        }
       ],
       "scored": true,
       "setup": "",
       "teardown": "",
       "type": "doctest"
      }
     ]
    },
    "q5": {
     "name": "q5",
     "points": null,
     "suites": [
      {
       "cases": [
        {
         "code": ">>> world.is_successful() == True\nTrue",
         "hidden": false,
         "locked": false
        }
       ],
       "scored": true,
       "setup": "",
       "teardown": "",
       "type": "doctest"
      }
     ]
    },
    "q6": {
     "name": "q6",
     "points": null,
     "suites": [
      {
       "cases": [
        {
         "code": ">>> world_test = rw.new_world(nrows = 1, ncols = 10)\n>>> robo_test = world_test.get_robo()\n>>> robo_test.is_facing_north() == True\nTrue",
         "hidden": false,
         "locked": false
        },
        {
         "code": ">>> world_test = rw.new_world(nrows = 1, ncols = 10)\n>>> robo_test = world_test.get_robo()\n>>> turn_right(robo_test)\n>>> robo_test.is_facing_north() == False\nturn Direction.NORTH -> Direction.WEST\nturn Direction.WEST -> Direction.SOUTH\nturn Direction.SOUTH -> Direction.EAST\nTrue",
         "hidden": false,
         "locked": false
        },
        {
         "code": ">>> world_test = rw.new_world(nrows = 1, ncols = 10)\n>>> robo_test = world_test.get_robo()\n>>> turn_right(robo_test)\n>>> turn_right(robo_test)\n>>> turn_right(robo_test)\n>>> turn_right(robo_test)\n>>> robo_test.is_facing_north() == True\nturn Direction.NORTH -> Direction.WEST\nturn Direction.WEST -> Direction.SOUTH\nturn Direction.SOUTH -> Direction.EAST\nturn Direction.EAST -> Direction.NORTH\nturn Direction.NORTH -> Direction.WEST\nturn Direction.WEST -> Direction.SOUTH\nturn Direction.SOUTH -> Direction.EAST\nturn Direction.EAST -> Direction.NORTH\nturn Direction.NORTH -> Direction.WEST\nturn Direction.WEST -> Direction.SOUTH\nturn Direction.SOUTH -> Direction.EAST\nturn Direction.EAST -> Direction.NORTH\nTrue",
         "hidden": false,
         "locked": false
        }
       ],
       "scored": true,
       "setup": "",
       "teardown": "",
       "type": "doctest"
      }
     ]
    },
    "q7": {
     "name": "q7",
     "points": null,
     "suites": [
      {
       "cases": [
        {
         "code": ">>> maze.is_successful() == True\nTrue",
         "hidden": false,
         "locked": false
        }
       ],
       "scored": true,
       "setup": "",
       "teardown": "",
       "type": "doctest"
      }
     ]
    },
    "q9": {
     "name": "q9",
     "points": null,
     "suites": [
      {
       "cases": [
        {
         "code": ">>> world_test = rw.new_world(nrows = 1, ncols = 10, agent_position=[0,0], goal_position=[0,9])\n>>> robo_test = world_test.get_robo()\n>>> robo_test.turn_left()\n>>> robo_test.turn_left()\n>>> robo_test.turn_left()\n>>> move(robo_test, 9)\n>>> world_test.is_successful() == True\nturn Direction.NORTH -> Direction.WEST\nturn Direction.WEST -> Direction.SOUTH\nturn Direction.SOUTH -> Direction.EAST\nmove (0,0) -> (1,0)\nmove (1,0) -> (2,0)\nmove (2,0) -> (3,0)\nmove (3,0) -> (4,0)\nmove (4,0) -> (5,0)\nmove (5,0) -> (6,0)\nmove (6,0) -> (7,0)\nmove (7,0) -> (8,0)\nmove (8,0) -> (9,0)\nTrue",
         "hidden": false,
         "locked": false
        }
       ],
       "scored": true,
       "setup": "",
       "teardown": "",
       "type": "doctest"
      }
     ]
    }
   }
  }
 },
 "nbformat": 4,
 "nbformat_minor": 5
}
