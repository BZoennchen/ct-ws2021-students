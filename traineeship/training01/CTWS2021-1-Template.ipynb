{
 "cells": [
  {
   "cell_type": "code",
   "execution_count": null,
   "id": "optical-ribbon",
   "metadata": {
    "deletable": false,
    "editable": false
   },
   "outputs": [],
   "source": [
    "# Initialize Otter\n",
    "import otter\n",
    "grader = otter.Notebook(\"CTWS2021-1-Template.ipynb\")"
   ]
  },
  {
   "cell_type": "markdown",
   "id": "square-chick",
   "metadata": {},
   "source": [
    "# 1. Variablen\n",
    "\n",
    "*Variablen* können wir uns intuitiv zunächst als Namen oder Bezeichnung eines Wertes vorstellen.\n",
    "Mit diesem Namen können wir einen Wert im *Arbeitsspeicherspeicher* des Computers identifizieren.\n",
    "So können wir uns Zwischenergebnisse merken und damit weiter rechnen.\n",
    "\n",
    "## 1.1 Initialisierung und Zuweisung\n",
    "\n",
    "Durch das ``=`` Zeichen weisen wir einer *Variablen* auf der linken Seite den Wert des *Ausdrucks* auf der rechten Seite zu: ``[Variable] = [Ausdruck]``.\n",
    "Zum Beispiel, weist"
   ]
  },
  {
   "cell_type": "code",
   "execution_count": 70,
   "id": "spread-trauma",
   "metadata": {},
   "outputs": [],
   "source": []
  },
  {
   "cell_type": "markdown",
   "id": "covered-content",
   "metadata": {},
   "source": [
    "den ausgewerteten Wert ``3 + 10`` also ``13`` der Variablen ``x`` zu.\n",
    "Der Ausdruck ``3 + 10`` wird vor der Zuweisung ausgewertet / berechnet.\n",
    "Es ist äußerst wichtig, dass die den zwischen dem ``=`` und dem mathematischen $=$ unterscheiden.\n",
    "\n",
    "$$x = 13$$\n",
    "\n",
    "bedeutet, dass $x$ gleich $13$ ist, wohingegen"
   ]
  },
  {
   "cell_type": "code",
   "execution_count": 71,
   "id": "bizarre-treaty",
   "metadata": {},
   "outputs": [],
   "source": []
  },
  {
   "cell_type": "markdown",
   "id": "entertaining-calvin",
   "metadata": {},
   "source": [
    "den Wert der Variablen ``x`` auf ``13`` setzt oder genaue die Variable auf einen Speicherbereich verweisen lässt, welcher den Wert ``13`` enthält.\n",
    "Um das mathematisch auszurücken verwendet man oft $\\leftarrow$, also \n",
    "\n",
    "$$x \\leftarrow 13.$$\n",
    "\n",
    "Dies verdeutlicht, dass es sich um eine *Zuweisung* handelt. Mit"
   ]
  },
  {
   "cell_type": "code",
   "execution_count": 72,
   "id": "oriented-pottery",
   "metadata": {},
   "outputs": [],
   "source": []
  },
  {
   "cell_type": "markdown",
   "id": "august-attitude",
   "metadata": {},
   "source": [
    "weisen wir ``x`` den Wert ``None`` d.h. 'Nichts' zu. Doch ist dieses 'Nichts' nicht nichts ;). Versuchen wir eine *Variable* zu verarbeiten, die noch nicht initialisiert wurde, so erhalten wir einen Fehler:"
   ]
  },
  {
   "cell_type": "code",
   "execution_count": 133,
   "id": "ordered-signal",
   "metadata": {},
   "outputs": [],
   "source": []
  },
  {
   "cell_type": "markdown",
   "id": "intended-offer",
   "metadata": {},
   "source": [
    "Hierbei kommt es zu dem Fehler ``name 'v' is not defined``, da die *Variable* ``v`` noch nicht *initialisiert* wurde.\n",
    "\n",
    "In ``Python`` reicht es wenn Sie der *Variablen* einen Wert zuweisen.\n",
    "Sie wird automatisch erzeugt, d.h., *initialisiert*.\n",
    "Besitzt Sie noch keinen Wert so existiert sie auch nicht bzw. ist noch nicht *initialisiert*."
   ]
  },
  {
   "cell_type": "markdown",
   "id": "opened-procurement",
   "metadata": {},
   "source": [
    "## 1.2 Variablen und der Arbeitsspeicher\n",
    "\n",
    "Eine *Variable* können wir als Paar von **Wert** und **Arbeitsspeicheradresse** verstehen.\n",
    "Der **Wert** der *Variablen* steht im *Arbeitspeicher* an einer bestimmten **Arbeitsspeicheradresse**.\n",
    "*Variablen* abstrahieren diesen Zusammenhang, sodass Sie uns die Arbeit mit dem *Arbeitsspeicher* erleichtern.\n",
    "\n",
    "Mit"
   ]
  },
  {
   "cell_type": "code",
   "execution_count": 134,
   "id": "sexual-drive",
   "metadata": {},
   "outputs": [],
   "source": []
  },
  {
   "cell_type": "markdown",
   "id": "impossible-satisfaction",
   "metadata": {},
   "source": [
    "Wird der **Wert** ``25`` in den Arbeitsspeicher an eine freie **Speicheradresse** geschrieben. Diese **Adresse** erhält die *Variable* ``x``. ``x`` *zeigt* auf den Speicherbereich in dem der **Wert** ``25`` steht!\n",
    "\n",
    "Folgende Abbildung verdeutlicht die Situation:\n",
    "\n",
    "![Zuweisung und Initialisierung](figs/variable.png)"
   ]
  },
  {
   "cell_type": "markdown",
   "id": "private-algeria",
   "metadata": {},
   "source": [
    "``id``: Mit der *built-in*-Funktion ``id`` (*Identität)* können Sie sich eine Identifikationsnummer einer Variablen ausgeben lassen. Für zwei *Variablen* ist diese genau dann gleich, wenn deren **Arbeitsspeicheradressen** gleich sind."
   ]
  },
  {
   "cell_type": "code",
   "execution_count": 135,
   "id": "authentic-turkish",
   "metadata": {},
   "outputs": [],
   "source": []
  },
  {
   "cell_type": "markdown",
   "id": "spare-conducting",
   "metadata": {},
   "source": [
    "Sie sehen dass die ``id`` der Variablen ``x`` und ``z`` identisch sind. Ebenso ist ihr Wert identisch.\n",
    "Diese Situation sieht demnach wie folgt aus:\n",
    "\n",
    "![Identische Id](figs/variable-equal-id.png)"
   ]
  },
  {
   "cell_type": "markdown",
   "id": "recognized-printing",
   "metadata": {},
   "source": [
    "``Python``-erkennt, dass es ausreicht, wenn beide *Variablen* auf den gleichen Speicherbereich zeigen. Wir als Programmierer\\*innen bekommen davon gar nichts mit. Verändern wir den Wert von ``z`` dann verändert sich auch deren ``id``:"
   ]
  },
  {
   "cell_type": "code",
   "execution_count": 136,
   "id": "serious-diversity",
   "metadata": {
    "scrolled": true
   },
   "outputs": [],
   "source": []
  },
  {
   "cell_type": "markdown",
   "id": "industrial-simon",
   "metadata": {},
   "source": [
    "Die Situation könnte in etwa wie folgt aussehen:\n",
    "\n",
    "![nicht identische Id](figs/variable-unequal-id.png)"
   ]
  },
  {
   "cell_type": "markdown",
   "id": "operational-desktop",
   "metadata": {},
   "source": [
    "**Achtung:** Ist die ``id`` zweier Variablen identisch, so ist auch deren Wert identisch. Jedoch kann der Wert der Variablen identisch sein und deren ``id`` nicht. Beispiel:"
   ]
  },
  {
   "cell_type": "code",
   "execution_count": 137,
   "id": "dominant-penny",
   "metadata": {},
   "outputs": [],
   "source": []
  },
  {
   "cell_type": "markdown",
   "id": "educated-growing",
   "metadata": {},
   "source": [
    "Hmm?? \n",
    "Warum war die ``id`` beim Wert ``25`` identisch aber beim Wert ``2131313`` nicht?\n",
    "Hier kommen wir in tiefen Details von ``Python``, welche fürs erste nicht so wichtig sind.\n",
    "Zur Optimierung der Laufzeit legt ``Python`` alle kleinen ganze Zahlen bei Start der Ausführung in den Speicher, sodass Speicherplatz gespart wird.\n",
    "Das geht jedoch nur für eine endliche Anzahl an Zahlen (deshalb für die ersten $k$ kleinen Zahlen). \n",
    "``2131313`` zählt nicht dazu und somit wird der Wert jedesmal neu in den Speicher geschrieben."
   ]
  },
  {
   "cell_type": "markdown",
   "id": "nutritional-aurora",
   "metadata": {},
   "source": [
    "Folgender Code berechnet die erste Zahl die nicht bereits bei der Ausführung im Speicher liegt:"
   ]
  },
  {
   "cell_type": "code",
   "execution_count": 138,
   "id": "lesser-dispatch",
   "metadata": {
    "scrolled": true
   },
   "outputs": [],
   "source": []
  },
  {
   "cell_type": "markdown",
   "id": "hidden-first",
   "metadata": {},
   "source": [
    "Wie sieht es mit negativen Zahlen aus?:"
   ]
  },
  {
   "cell_type": "code",
   "execution_count": 139,
   "id": "adapted-european",
   "metadata": {
    "scrolled": true
   },
   "outputs": [],
   "source": []
  },
  {
   "cell_type": "markdown",
   "id": "exterior-stanley",
   "metadata": {},
   "source": [
    "## 1.3 Veränderung"
   ]
  },
  {
   "cell_type": "markdown",
   "id": "mental-scanner",
   "metadata": {},
   "source": [
    "Wie der Name bereits betont, sind *Variablen* **variabel** und können somit verändert werden.\n",
    "Wir müssen jedoch zwischen zwei Veränderungen einer Variablen ``x`` unterscheiden:\n",
    "\n",
    "1. der Veränderung ihrer Wertes ``x``\n",
    "2. der Veränderung ihrer Speicheradresse ``id(x)`` (die auf den Wert zeigt)\n",
    "\n",
    "### 1.3.1 Zuweisung eines neuen Werts\n",
    "\n",
    "Eine *Variable* kann immer nur einen **Wert** bzw. auf einen bestimmten Speicherbereich *zeigen*.\n",
    "Weisen wir einer *Variablen* erneut einen **Wert** zu, wird dieser **Wert** in den Speicher an eine freie **Adresse** geschrieben und die **Adresse** der Variablen auf jene neue **Adresse** gesetzt."
   ]
  },
  {
   "cell_type": "code",
   "execution_count": 140,
   "id": "minus-location",
   "metadata": {},
   "outputs": [],
   "source": []
  },
  {
   "cell_type": "markdown",
   "id": "british-cooking",
   "metadata": {},
   "source": [
    "Veränderungen der einen *Variablen* haben keinen Effekt auf die **Adresse** bzw. *Identität ``id`` anderer *Variablen*."
   ]
  },
  {
   "cell_type": "code",
   "execution_count": 141,
   "id": "correct-interference",
   "metadata": {
    "scrolled": true
   },
   "outputs": [],
   "source": []
  },
  {
   "cell_type": "markdown",
   "id": "greek-milwaukee",
   "metadata": {},
   "source": [
    "Verändern wir *Variablen* nicht so behalten ihre **Adresse** über das gesamte Notebook hinweg."
   ]
  },
  {
   "cell_type": "markdown",
   "id": "naval-administrator",
   "metadata": {},
   "source": [
    "### 1.3.2 Zuweisung einer neuen Adresse\n",
    "\n",
    "Weisen wir einer Variblen ``x`` eine andere Variable ``y`` zu, so ändern wir die **Adresse** von ``x`` auf jene von ``y``. Das heißt, nach der *Zuweisung* zeigen beide Variablen auf den gleichen Speicherbereich und damit auf den gleichen **Wert**."
   ]
  },
  {
   "cell_type": "code",
   "execution_count": 142,
   "id": "freelance-difference",
   "metadata": {
    "scrolled": true
   },
   "outputs": [],
   "source": []
  },
  {
   "cell_type": "code",
   "execution_count": 143,
   "id": "minor-board",
   "metadata": {},
   "outputs": [],
   "source": []
  },
  {
   "cell_type": "markdown",
   "id": "exposed-atlanta",
   "metadata": {},
   "source": [
    "***\n",
    "***Aufgabe 1.*** Betrachten Sie folgenden Code. Geben Sie an welche *Variablen* die gleiche ``id`` besitzten und welche nicht. Welche Variablen besitzten den gleichen Wert und welche nicht?"
   ]
  },
  {
   "cell_type": "code",
   "execution_count": 144,
   "id": "suburban-europe",
   "metadata": {},
   "outputs": [],
   "source": [
    "x = 1.1231\n",
    "y = 1.1231\n",
    "z = x\n",
    "k = z + 1"
   ]
  },
  {
   "cell_type": "markdown",
   "id": "artificial-enzyme",
   "metadata": {},
   "source": [
    "_Type your answer here, replacing this text._"
   ]
  },
  {
   "cell_type": "code",
   "execution_count": 145,
   "id": "executive-voluntary",
   "metadata": {
    "tags": []
   },
   "outputs": [],
   "source": [
    "...\n",
    "...\n",
    "...\n",
    "..."
   ]
  },
  {
   "cell_type": "markdown",
   "id": "conditional-address",
   "metadata": {},
   "source": [
    "***Aufgabe 2.*** Hat ein Wert wie zum Beispiel ``25`` eine ``id``? Wenn ja warum und wenn nein warum nicht?"
   ]
  },
  {
   "cell_type": "markdown",
   "id": "completed-volleyball",
   "metadata": {},
   "source": [
    "_Type your answer here, replacing this text._"
   ]
  },
  {
   "cell_type": "code",
   "execution_count": 146,
   "id": "authentic-arnold",
   "metadata": {
    "tags": []
   },
   "outputs": [],
   "source": [
    "id(25)"
   ]
  },
  {
   "cell_type": "markdown",
   "id": "binary-vaccine",
   "metadata": {},
   "source": [
    "***Aufgabe 3.*** Weshalb ist der Wert der Variablen ``x`` nach der Ausführung des folgenden Codes noch immer ``42``. Beschreiben Sie was im **Arbeitsspeicher** passiert und auf was die Variablen zeigen."
   ]
  },
  {
   "cell_type": "code",
   "execution_count": 147,
   "id": "caring-advice",
   "metadata": {},
   "outputs": [],
   "source": [
    "x = 24\n",
    "z = 42\n",
    "x = z\n",
    "z = 33\n",
    "x"
   ]
  },
  {
   "cell_type": "markdown",
   "id": "answering-works",
   "metadata": {},
   "source": [
    "_Type your answer here, replacing this text._"
   ]
  },
  {
   "cell_type": "markdown",
   "id": "eastern-regard",
   "metadata": {},
   "source": [
    "***"
   ]
  },
  {
   "cell_type": "markdown",
   "id": "civic-beatles",
   "metadata": {},
   "source": [
    "### 1.3.3 Seiteneffekte"
   ]
  },
  {
   "cell_type": "markdown",
   "id": "ruled-image",
   "metadata": {},
   "source": [
    "Wie bereits erwähnt: Verändern wir eine *Variable* so können wir dadurch nicht die **Adresse** / *Identität* ``id`` einer anderen Variablen ändern! Wie verhält es sich jedoch mit dem **Wert** einer *Variablen*?\n",
    "\n",
    "Die Antwort ist etwas komplizierter und ist erst dann begreiflich wenn wir das Thema Datentypen besprechen. Dennoch versuchen wir unser Glück:\n",
    "\n",
    "Eine Variable kann nicht nur einen einzelnen atomaren **Wert** wie eine Zahl enthalten, sondern auch einen **Wert** der sich aus anderen **Werten** zusammensetzt. Zum Beispiel:"
   ]
  },
  {
   "cell_type": "code",
   "execution_count": 148,
   "id": "welcome-purchase",
   "metadata": {},
   "outputs": [],
   "source": []
  },
  {
   "cell_type": "markdown",
   "id": "victorian-magnitude",
   "metadata": {},
   "source": [
    "Der Variablen ``x`` weisen wir hierbei eine sog. *Liste* ``list`` zu, also eine geordnete Menge an Zahlen. In unserem Fall besteht die Liste und somit ``x`` aus den Werten ``1, 2, 3, 4`` und ``5``.\n",
    "\n",
    "Um auf einen bestimmten **Wert** der Liste zuzugreifen brauchen wir seinen Index. Zum Beispiel liefert uns der Index ``1`` den Wert ``2``:"
   ]
  },
  {
   "cell_type": "code",
   "execution_count": 149,
   "id": "hindu-warrant",
   "metadata": {},
   "outputs": [],
   "source": []
  },
  {
   "cell_type": "markdown",
   "id": "quality-semiconductor",
   "metadata": {},
   "source": [
    "Wie sieht das nun im Speicher aus??? Welche Adresse hat ``x`` und wie sieht der Speicher an der Adresse von ``x`` aus? Der Aufruf"
   ]
  },
  {
   "cell_type": "code",
   "execution_count": 150,
   "id": "cultural-science",
   "metadata": {},
   "outputs": [],
   "source": []
  },
  {
   "cell_type": "markdown",
   "id": "competent-moment",
   "metadata": {},
   "source": [
    "Liefert uns eine ``id``, allerdings lieft uns der Aufruf"
   ]
  },
  {
   "cell_type": "code",
   "execution_count": 151,
   "id": "greater-stage",
   "metadata": {
    "scrolled": true
   },
   "outputs": [],
   "source": []
  },
  {
   "cell_type": "markdown",
   "id": "chemical-backing",
   "metadata": {},
   "source": [
    "ebenfalls eine (andere) ``id``."
   ]
  },
  {
   "cell_type": "code",
   "execution_count": 152,
   "id": "operating-antibody",
   "metadata": {},
   "outputs": [],
   "source": []
  },
  {
   "cell_type": "markdown",
   "id": "consolidated-actor",
   "metadata": {},
   "source": [
    "Eine Liste ``list`` mit $n$ Elementen besteht in ``Python`` aus $n$ Adressen. Jede dieser Adressen zeigt auf den Wert des Listenelements. Das heißt, eigentlich sieht unsere Liste ``x`` wie folgt aus:\n",
    "\n",
    "```python\n",
    "[id(x[0]), id(x[1]), id(x[2]), id(x[3]), id(x[4])]\n",
    "```\n",
    "\n",
    "Doch ``Python`` vereinfacht uns den Umgang mit Listen und verbirgt diese Tatsache geschickt.\n",
    "\n",
    "Was aber passiert mit ``x`` wenn wir eines seiner Listenelemente verändern? Hier wird es spannend:"
   ]
  },
  {
   "cell_type": "code",
   "execution_count": 153,
   "id": "alleged-label",
   "metadata": {},
   "outputs": [],
   "source": []
  },
  {
   "cell_type": "markdown",
   "id": "preliminary-sweet",
   "metadata": {},
   "source": [
    "Die Adresse von ``x`` ändert sich nicht!!! Es ändert sich nur die Adresse von ``x[1]``!!! Mit anderen Worten durch die *Zuweisung* von ``x[1] = -10`` wird keine neue Liste im Speicher angelegt sondern nur ein neues Element!\n",
    "\n",
    "Warum? Listen können groß werden und würden wir bei jeder Änderung eines Listenelements die gesamte Liste im Speicher kopieren, wäre das zu teuer was die Laufzeit angeht.\n",
    "\n",
    "Dieses Verhalten hat jedoch Konsequenzen!"
   ]
  },
  {
   "cell_type": "markdown",
   "id": "reliable-milton",
   "metadata": {},
   "source": [
    "***\n",
    "***Aufgabe 4.*** Blicken Sie auf folgenden Code. Weisen Sie ``z`` eine Liste zu die eine andere ``id`` aber den gleichen **Wert** wie ``y`` hat. Lassen Sie sich zunächst ``y`` **nicht** ausgeben!"
   ]
  },
  {
   "cell_type": "code",
   "execution_count": 198,
   "id": "standard-wednesday",
   "metadata": {},
   "outputs": [],
   "source": [
    "x = [1, 2, 3]\n",
    "y = [x, x, [1,2,3]]\n",
    "x[0] = -10"
   ]
  },
  {
   "cell_type": "code",
   "execution_count": 199,
   "id": "equal-snake",
   "metadata": {
    "tags": []
   },
   "outputs": [],
   "source": [
    "z = ..."
   ]
  },
  {
   "cell_type": "code",
   "execution_count": null,
   "id": "scheduled-wells",
   "metadata": {
    "deletable": false,
    "editable": false
   },
   "outputs": [],
   "source": [
    "grader.check(\"q4\")"
   ]
  },
  {
   "cell_type": "markdown",
   "id": "extraordinary-shift",
   "metadata": {},
   "source": [
    "***"
   ]
  },
  {
   "cell_type": "markdown",
   "id": "pursuant-beijing",
   "metadata": {},
   "source": [
    "Solche Veränderungen eines Wertes einer Variablen durch die Veränderung eines Werts einer anderen Variablen, nennen wir *Seiteneffekt*."
   ]
  },
  {
   "cell_type": "markdown",
   "id": "historic-olympus",
   "metadata": {},
   "source": [
    "# 2. Ausdrücke\n",
    "\n",
    "Jedes Programm, bzw. jeder Algorithmus besteht aus vielen *Ausdrücken*. Ein *Ausdruck* beschreibt wie Daten (die Eingabe) verarbeitet werden sollen. Durch eine *Abfolge von Ausdrücken* werden Daten immer und immer weiter verarbeitet. Die Initialisierung und Zuweisung einer *Variablen*"
   ]
  },
  {
   "cell_type": "code",
   "execution_count": 158,
   "id": "proper-shell",
   "metadata": {},
   "outputs": [],
   "source": []
  },
  {
   "cell_type": "markdown",
   "id": "subtle-bradford",
   "metadata": {},
   "source": [
    "ist ein Ausdruck (engl. Expression). Die Multiplikation "
   ]
  },
  {
   "cell_type": "code",
   "execution_count": 159,
   "id": "identified-peripheral",
   "metadata": {},
   "outputs": [],
   "source": []
  },
  {
   "cell_type": "markdown",
   "id": "weighted-looking",
   "metadata": {},
   "source": [
    "ist beispielsweise ein Ausdruck der zwei Dezimalzahlen multipliziert. Der Ausdruck besteht aus dem Symbol ``*`` und zwei nummerischen Werten (Zahlen). \n",
    "\n",
    "``[Zahl] * [Zahl]``\n",
    "\n",
    "Die Multiplikation wird durch den Computer, genauer die CPU berechnet. ``3 * 5`` ergibt ``15``. Die Zeichenfolge muss *syntatisch* korrekt sein, damit diese auch als Ausdruck vom Computer (bzw. Interpreter) verstanden wird. Die Zeichenfolge"
   ]
  },
  {
   "cell_type": "code",
   "execution_count": 160,
   "id": "productive-binding",
   "metadata": {},
   "outputs": [],
   "source": []
  },
  {
   "cell_type": "markdown",
   "id": "amateur-mexican",
   "metadata": {},
   "source": [
    "ist kein *syntaktisch* korrekter ``Python``-Ausdruck, was Ihnen die Fehlermeldung auch zu verstehen gibt. Die gewählte Programmiersprache bestimmt welche Zeichenfolge *syntaktisch* korrekt ist. Bereits kleiner Änderungen an der *Syntax* können zu einer neuen *Bedeutung (Semantik)* führen. In Python die Zeichenkette"
   ]
  },
  {
   "cell_type": "code",
   "execution_count": 161,
   "id": "improved-wilderness",
   "metadata": {},
   "outputs": [],
   "source": []
  },
  {
   "cell_type": "markdown",
   "id": "opposite-qatar",
   "metadata": {},
   "source": [
    "ein *syntaktisch* valider Ausdruck und *bedeutet* $3^5$ was $243$ ergibt.\n",
    "\n",
    "*Ausdrücke* können sich aus weiteren *Ausdrücken* zusammensetzten."
   ]
  },
  {
   "cell_type": "code",
   "execution_count": 162,
   "id": "responsible-conditioning",
   "metadata": {
    "scrolled": true
   },
   "outputs": [],
   "source": []
  },
  {
   "cell_type": "markdown",
   "id": "essential-report",
   "metadata": {},
   "source": [
    "ist ein Ausdruck"
   ]
  },
  {
   "cell_type": "code",
   "execution_count": 163,
   "id": "public-antique",
   "metadata": {},
   "outputs": [],
   "source": []
  },
  {
   "cell_type": "markdown",
   "id": "mathematical-clinic",
   "metadata": {},
   "source": [
    "ebenfalls und"
   ]
  },
  {
   "cell_type": "code",
   "execution_count": 164,
   "id": "actual-solid",
   "metadata": {},
   "outputs": [],
   "source": []
  },
  {
   "cell_type": "markdown",
   "id": "modular-wedding",
   "metadata": {},
   "source": [
    "auch."
   ]
  },
  {
   "cell_type": "markdown",
   "id": "later-punishment",
   "metadata": {},
   "source": [
    "### 2.1 Arithmetische Operatoren\n",
    "\n",
    "Die Multiplikation ``*`` wie auch die Potenz ``**`` bezeichnen wir als *arithmetische Operatoren*, da sie numerische Werte (Zahlen) verarbeiten.\n",
    "Es gibt jedoch noch eine ganze Reihe von weiteren *arithmetische Operatoren*:\n",
    "\n",
    "| Operator |     Beschreibung     |  Beispiel  |                     Bedeutung                        |\n",
    "| :------: | :------------------: | :--------: | :--------------------------------------------------: |\n",
    "|   `+`    |       Addition       | ``3 + 4``  |                      $3 + 4$                         |\n",
    "|   `-`    |     Subtraktion      | ``3 - 4``  |                      $3 - 4$                         |\n",
    "|   `*`    |    Multiplikation    | ``3 * 4``  |                    $3 \\cdot 4$                       |\n",
    "|   `/`    |       Division       | ``3 / 4``  |                      $3 / 4$                         |\n",
    "|   `**`   |     Potenzierung     |  ``3**4``  |                       $3^4$                          |\n",
    "|   `//`   | ganzzahlige Division | ``3 // 4`` |         $\\left \\lfloor{3/4}\\right \\rfloor$           |\n",
    "|   `%`    |        Modulo        | ``10 % 4`` | $$10 - (4 \\cdot \\left \\lfloor{10/4}\\right \\rfloor)$$ |\n",
    "\n",
    "Jeder dieser Operatoren ``op`` erwartet zwei Zahlen, eine links und eine rechts vom jeweiligen Operator.\n",
    "Die Bedeutung der Modulo-Operation sieht kompliziert aus doch bedeutet dies schlicht, dass der Rest ``10 % 4`` der ganzzahlige Rest der *Restwertdivision* ist.\n",
    "Die ganzzahlige Division rundet das Ergebnis der Division auf die nächst kleinere ganze Zahl (Integer)."
   ]
  },
  {
   "cell_type": "code",
   "execution_count": 165,
   "id": "liked-version",
   "metadata": {
    "scrolled": true
   },
   "outputs": [],
   "source": []
  },
  {
   "cell_type": "code",
   "execution_count": 166,
   "id": "prompt-orange",
   "metadata": {},
   "outputs": [],
   "source": []
  },
  {
   "cell_type": "code",
   "execution_count": 167,
   "id": "hairy-karma",
   "metadata": {
    "scrolled": true
   },
   "outputs": [],
   "source": []
  },
  {
   "cell_type": "code",
   "execution_count": 168,
   "id": "indirect-bankruptcy",
   "metadata": {},
   "outputs": [],
   "source": []
  },
  {
   "cell_type": "code",
   "execution_count": 4,
   "id": "leading-tribute",
   "metadata": {
    "scrolled": true
   },
   "outputs": [],
   "source": []
  },
  {
   "cell_type": "code",
   "execution_count": 7,
   "id": "respective-sound",
   "metadata": {},
   "outputs": [],
   "source": []
  },
  {
   "cell_type": "code",
   "execution_count": 15,
   "id": "caroline-client",
   "metadata": {},
   "outputs": [],
   "source": []
  },
  {
   "cell_type": "markdown",
   "id": "saving-swimming",
   "metadata": {},
   "source": [
    "Die Addition und Subtraktion von Fließkommazahlen kann zu merkwürdigen Ergebnissen führen. Dazu später mehr:"
   ]
  },
  {
   "cell_type": "code",
   "execution_count": 36,
   "id": "muslim-mailing",
   "metadata": {},
   "outputs": [],
   "source": []
  },
  {
   "cell_type": "code",
   "execution_count": 37,
   "id": "ecological-patrick",
   "metadata": {},
   "outputs": [],
   "source": []
  },
  {
   "cell_type": "code",
   "execution_count": 39,
   "id": "aggregate-tuning",
   "metadata": {},
   "outputs": [],
   "source": []
  },
  {
   "cell_type": "code",
   "execution_count": 40,
   "id": "piano-background",
   "metadata": {},
   "outputs": [],
   "source": []
  },
  {
   "cell_type": "markdown",
   "id": "suspended-invitation",
   "metadata": {},
   "source": [
    "***\n",
    "***Aufgabe 5.*** Finden Sie heraus wie ``Python`` arithmetische Operationen priorisiert.\n",
    "Zum Beispiel ist\n",
    "\n",
    "```python\n",
    "3 + 3 * 5**4\n",
    "````\n",
    "\n",
    "gleich\n",
    "\n",
    "$$3 + 3 \\cdot 5^4$$\n",
    "\n",
    "oder, zum Beispiel,\n",
    "\n",
    "$$((3 + 3) \\cdot 5)^4?$$\n",
    "\n",
    "Notieren sie die Prioritäten von der höchsten zur niedrigsten Priorität."
   ]
  },
  {
   "cell_type": "markdown",
   "id": "collectible-character",
   "metadata": {},
   "source": [
    "_Type your answer here, replacing this text._"
   ]
  },
  {
   "cell_type": "markdown",
   "id": "casual-bristol",
   "metadata": {},
   "source": [
    "***Aufgabe 6.*** Eine Person dreht sich um ``x`` Grad im Kreis. Bestimmen Sie wie viele abgeschlossene Umdrehungen ``cycles`` sie gemacht hat. Wie viel Grad ``rest`` haben für die letzte volle Umdrehung gefehlt?"
   ]
  },
  {
   "cell_type": "code",
   "execution_count": 41,
   "id": "polish-importance",
   "metadata": {
    "tags": []
   },
   "outputs": [],
   "source": [
    "x = 3141 # Grad\n",
    "cycles = ...\n",
    "rest = ..."
   ]
  },
  {
   "cell_type": "code",
   "execution_count": null,
   "id": "collect-outside",
   "metadata": {
    "deletable": false,
    "editable": false
   },
   "outputs": [],
   "source": [
    "grader.check(\"q6\")"
   ]
  },
  {
   "cell_type": "markdown",
   "id": "blond-timer",
   "metadata": {},
   "source": [
    "***Aufgabe 7.*** Berechnen Sie folgenden Ausdruck\n",
    "\n",
    "$$(5 - 9^2 \\cdot 3)^3$$\n",
    "\n",
    "und weisen Sie das Ergebnis der Variable ``x`` zu."
   ]
  },
  {
   "cell_type": "code",
   "execution_count": 169,
   "id": "dutch-genome",
   "metadata": {
    "tags": []
   },
   "outputs": [],
   "source": [
    "x = ..."
   ]
  },
  {
   "cell_type": "code",
   "execution_count": null,
   "id": "collaborative-delicious",
   "metadata": {
    "deletable": false,
    "editable": false
   },
   "outputs": [],
   "source": [
    "grader.check(\"q7\")"
   ]
  },
  {
   "cell_type": "markdown",
   "id": "wrapped-damages",
   "metadata": {},
   "source": [
    "***Aufgabe 8.*** Berechnen Sie folgenden Ausdruck\n",
    "\n",
    "$$10^6 - 10^{-10}$$\n",
    "\n",
    "und \n",
    "\n",
    "$$10^6 - 10^{-11}$$\n",
    "\n",
    "und weisen Sie das erste Ergebnis der Variable ``x`` und das zweite Ergebnis der Variable ``y`` zu.\n",
    "Lassen Sie sich ``x`` und ``y`` ausgeben. Was beobachten Sie?"
   ]
  },
  {
   "cell_type": "code",
   "execution_count": 171,
   "id": "weekly-matthew",
   "metadata": {
    "tags": []
   },
   "outputs": [],
   "source": [
    "x = ...\n",
    "x"
   ]
  },
  {
   "cell_type": "code",
   "execution_count": 172,
   "id": "greatest-capability",
   "metadata": {
    "tags": []
   },
   "outputs": [],
   "source": [
    "y = ...\n",
    "y"
   ]
  },
  {
   "cell_type": "code",
   "execution_count": null,
   "id": "brazilian-bradford",
   "metadata": {
    "deletable": false,
    "editable": false
   },
   "outputs": [],
   "source": [
    "grader.check(\"q8\")"
   ]
  },
  {
   "cell_type": "markdown",
   "id": "decent-excitement",
   "metadata": {},
   "source": [
    "***Aufgabe 9.*** Berechnen Sie die Wurzel aus $2$ und weisen Sie das Ergebnis der Variable ``z`` zu. Repräsentiert der Wert der Variable wirklich $\\sqrt{2}$? Warum bzw. warum nicht?"
   ]
  },
  {
   "cell_type": "code",
   "execution_count": 175,
   "id": "buried-grass",
   "metadata": {
    "scrolled": true,
    "tags": []
   },
   "outputs": [],
   "source": [
    "z = ..."
   ]
  },
  {
   "cell_type": "code",
   "execution_count": null,
   "id": "regulated-cabinet",
   "metadata": {
    "deletable": false,
    "editable": false
   },
   "outputs": [],
   "source": [
    "grader.check(\"q9\")"
   ]
  },
  {
   "cell_type": "markdown",
   "id": "opening-treaty",
   "metadata": {},
   "source": [
    "***"
   ]
  },
  {
   "cell_type": "markdown",
   "id": "quick-intervention",
   "metadata": {},
   "source": [
    "### 2.2 Vergleichsoperatoren\n",
    "\n",
    "Objekte können über Vergleichsoperatoren miteinander verglichen werden. Das Ergebnis ist ein Boolscher Wert.\n",
    "\n",
    "| Operator  | Beschreibung                      |\n",
    "| :-------: | :-------------------------------- |\n",
    "| `x == y ` | ist `x` gleich `y`?               |\n",
    "| `x != y`  | ist `x` ungleich `y`?             |\n",
    "|  `x > y`  | ist `x` größer als `y`?           |\n",
    "| `x >= y`  | ist `x` größer oder gleich `y`?   |\n",
    "|  `x < y`  | ist `x` kleiner `y`?              |\n",
    "| `x <= y`  | ist `x` kleiner gleich `y`?       |\n",
    "| `x is y`  | ist `x` das selbe Objekt wie `y`? |\n",
    "\n",
    "Erneut ist ``Python`` hier ein wenig speziell indem es die mathematische Schreibweise $0 < x < 5$ anstatt $0 < x \\ \\land \\ x < 5$ zulässt.\n",
    "Dies erhöht die Lesbarkeit, da wir solche Verkettungen von Vergleichsoperatoren gewohnt sind.\n",
    "\n"
   ]
  },
  {
   "cell_type": "code",
   "execution_count": 177,
   "id": "colonial-membrane",
   "metadata": {},
   "outputs": [],
   "source": []
  },
  {
   "cell_type": "code",
   "execution_count": 178,
   "id": "designing-reproduction",
   "metadata": {
    "scrolled": true
   },
   "outputs": [],
   "source": []
  },
  {
   "cell_type": "code",
   "execution_count": 179,
   "id": "cardiac-reception",
   "metadata": {
    "scrolled": true
   },
   "outputs": [],
   "source": []
  },
  {
   "cell_type": "code",
   "execution_count": 180,
   "id": "communist-petersburg",
   "metadata": {
    "scrolled": true
   },
   "outputs": [],
   "source": []
  },
  {
   "cell_type": "code",
   "execution_count": 181,
   "id": "secure-mercy",
   "metadata": {
    "scrolled": false
   },
   "outputs": [],
   "source": []
  },
  {
   "cell_type": "code",
   "execution_count": 46,
   "id": "competent-winning",
   "metadata": {},
   "outputs": [],
   "source": []
  },
  {
   "cell_type": "code",
   "execution_count": 47,
   "id": "invalid-factor",
   "metadata": {},
   "outputs": [],
   "source": []
  },
  {
   "cell_type": "markdown",
   "id": "exotic-triple",
   "metadata": {},
   "source": [
    "Der Ausdruck"
   ]
  },
  {
   "cell_type": "code",
   "execution_count": 182,
   "id": "charged-replication",
   "metadata": {},
   "outputs": [],
   "source": []
  },
  {
   "cell_type": "markdown",
   "id": "dress-tribe",
   "metadata": {},
   "source": [
    "hat die gleiche *Bedeutung* wie der Ausdruck"
   ]
  },
  {
   "cell_type": "code",
   "execution_count": 183,
   "id": "mineral-trinidad",
   "metadata": {},
   "outputs": [],
   "source": []
  },
  {
   "cell_type": "markdown",
   "id": "alike-facing",
   "metadata": {},
   "source": [
    "*Vergleichsoperatoren* können auch auf anderen Datentypen als numerische Werte (ganze Zahlen ``int``, Fließkommazahlen ``float``) definiert sein.\n",
    "So können wir in ``Python`` auch Zeichenketten ``str`` mit den Vergleichsoperatoren lexikographisch vergleichen:"
   ]
  },
  {
   "cell_type": "code",
   "execution_count": 184,
   "id": "unsigned-oracle",
   "metadata": {
    "scrolled": true
   },
   "outputs": [],
   "source": []
  },
  {
   "cell_type": "markdown",
   "id": "turned-flood",
   "metadata": {},
   "source": [
    "***\n",
    "***Aufgabe 10.*** In der folgenden Zelle berechnen wir\n",
    "\n",
    "$$\\sqrt{2} + 2 - \\sqrt{2} - 2 = 0$$\n",
    "\n",
    "jedoch erhalten wir nicht $0$ sondern eine sehr kleine negative Zahl. Schreiben Sie einen Ausdruck der prüft ob ``x`` fast gleich ``0`` ist."
   ]
  },
  {
   "cell_type": "code",
   "execution_count": 48,
   "id": "authentic-ecology",
   "metadata": {
    "scrolled": true
   },
   "outputs": [],
   "source": [
    "x = 2**(0.5) + 2 - 2**(0.5) - 2\n",
    "x"
   ]
  },
  {
   "cell_type": "code",
   "execution_count": 186,
   "id": "future-confidentiality",
   "metadata": {
    "tags": []
   },
   "outputs": [],
   "source": [
    "epsilon = ...\n",
    "..."
   ]
  },
  {
   "cell_type": "markdown",
   "id": "sharp-local",
   "metadata": {},
   "source": [
    "***"
   ]
  },
  {
   "cell_type": "markdown",
   "id": "latter-statistics",
   "metadata": {},
   "source": [
    "Was ist der Unterschied zwischen ``is`` und ``==``?\n",
    "Die Funktion ``id(x)`` gibt eine eindeutige *Id* des Objekts ``x`` zurück. Diese ist vergleichbar mit der Arbeitsspeicheradresse an der das Objekt ``x`` im Speicher beginnt.\n",
    "``x is y`` ist genau dann ``True`` wenn diese *Id* für beide Objekte gleich ist, wenn also ``id(x) == id(y)``.\n",
    "Ist diese *Id* nicht gleich aber an beiden unterschiedlichen Stellen im Speicher liegt der gleiche Wert dann ist ``x is y`` gleich ``False`` aber ``x == y`` ist ``True``."
   ]
  },
  {
   "cell_type": "markdown",
   "id": "optical-trading",
   "metadata": {},
   "source": [
    "***\n",
    "***Aufgabe 11.*** Führen Sie folgenden Code aus. Was folgt aus der Ausgabe die der Code generiert?"
   ]
  },
  {
   "cell_type": "code",
   "execution_count": 187,
   "id": "trained-solid",
   "metadata": {},
   "outputs": [],
   "source": [
    "x = 1\n",
    "y = 1"
   ]
  },
  {
   "cell_type": "code",
   "execution_count": 188,
   "id": "exciting-broadway",
   "metadata": {},
   "outputs": [],
   "source": [
    "print(x is y)\n",
    "print(id(x) == id(y))\n",
    "print(x == y)"
   ]
  },
  {
   "cell_type": "markdown",
   "id": "internal-drinking",
   "metadata": {},
   "source": [
    "_Type your answer here, replacing this text._"
   ]
  },
  {
   "cell_type": "markdown",
   "id": "civic-nancy",
   "metadata": {},
   "source": [
    "***Aufgabe 12.*** Führen Sie folgenden Code aus. Was folgt aus der Ausgabe die der Code generiert?"
   ]
  },
  {
   "cell_type": "code",
   "execution_count": 189,
   "id": "daily-microphone",
   "metadata": {},
   "outputs": [],
   "source": [
    "x = 1\n",
    "y = 1.0\n",
    "print(x is y)\n",
    "print(id(x) == id(y))\n",
    "print(x == y)"
   ]
  },
  {
   "cell_type": "markdown",
   "id": "vital-programmer",
   "metadata": {},
   "source": [
    "_Type your answer here, replacing this text._"
   ]
  },
  {
   "cell_type": "markdown",
   "id": "banned-shopping",
   "metadata": {},
   "source": [
    "***"
   ]
  },
  {
   "cell_type": "markdown",
   "id": "amended-reviewer",
   "metadata": {},
   "source": [
    "### 2.3 Logische (Boolsche) Operatoren"
   ]
  },
  {
   "cell_type": "markdown",
   "id": "attractive-newton",
   "metadata": {},
   "source": [
    "Der obige *Ausdruck* "
   ]
  },
  {
   "cell_type": "code",
   "execution_count": 190,
   "id": "future-prescription",
   "metadata": {},
   "outputs": [],
   "source": []
  },
  {
   "cell_type": "markdown",
   "id": "celtic-minority",
   "metadata": {},
   "source": [
    "besteht aus den *Ausdrücken* ``5 < 7`` und ``7 < 10`` die dem logischen ``and``-Operator verknüpft werden.\n",
    "Dieser erwartet auf der linken und rechte Seite jeweils einen Wahrheitswert (*boolschen Ausdruck*). *Vergleichsoperatoren* liefern sind *boolsche Ausdrücke*."
   ]
  },
  {
   "cell_type": "code",
   "execution_count": 191,
   "id": "coordinated-artwork",
   "metadata": {},
   "outputs": [],
   "source": []
  },
  {
   "cell_type": "markdown",
   "id": "convinced-protein",
   "metadata": {},
   "source": [
    "ergibt genau dann ``True`` wenn die Auswertung von ``exp1`` und ``exp2`` jeweils ``True`` ergeben.\n",
    "Es gibt drei logische Operatoren:\n",
    "\n",
    "| Operator  | Beschreibung                                               |\n",
    "| :-------: | :--------------------------------------------------------- |\n",
    "|  `not x`  | ist `True` genau dann wenn `x == False`.                   |\n",
    "| `x and y` | ist `True` genau dann wenn `x == True` und `y == True`.    |\n",
    "| `x or y`  | ist `True` genau dann wenn ``x == True`` oder `y == True`. |"
   ]
  },
  {
   "cell_type": "markdown",
   "id": "undefined-savage",
   "metadata": {},
   "source": [
    "***\n",
    "***Aufgabe 13.*** Angenommen Sie haben zwei logische Ausdrücke ``exp1`` und ``exp2``. Schreiben Sie einen logischen Ausdruck der genau dann ``True`` ergibt wenn entweder ``exp1`` oder ``exp2`` ``True`` sind jedoch nicht beide (exklusives Oder)."
   ]
  },
  {
   "cell_type": "code",
   "execution_count": 51,
   "id": "alike-mongolia",
   "metadata": {
    "tags": []
   },
   "outputs": [],
   "source": [
    "expr1 = True\n",
    "expr2 = False\n",
    "..."
   ]
  },
  {
   "cell_type": "markdown",
   "id": "unlimited-modern",
   "metadata": {},
   "source": [
    "***"
   ]
  },
  {
   "cell_type": "markdown",
   "id": "young-encoding",
   "metadata": {},
   "source": [
    "### 2.4 Bitoperatoren\n",
    "\n",
    "Der Vollständigkeit listen wir auch noch die *Bitoperatoren* auf.\n",
    "Diese sind dazu vorgesehen um den Wert in *Binärdarstellung* zu manipulieren.\n",
    "\n",
    "Jeder Wert egal ob Zahl, Zeichen, Bild, Ton wir als Binärcode im Speicher abgelegt.\n",
    "*Bitoperatoren* nehmen diesen Binärwert und verarbeiten bzw. kombinieren ihn genau wie die Addition zwei Zahlen in der Dezimalschreibweise verarbeitet.\n",
    "\n",
    "Dabei wird jedes Bit des einen Werts mit dem *Bit* des anderen Werts kombiniert.\n",
    "Zum Beispiel ``5 & 4`` führt eine führ jedes Bit die ``and`` Operation aus.\n",
    "Das nennen wir Verundung."
   ]
  },
  {
   "cell_type": "code",
   "execution_count": 197,
   "id": "italian-tomorrow",
   "metadata": {},
   "outputs": [],
   "source": []
  },
  {
   "cell_type": "markdown",
   "id": "exotic-progress",
   "metadata": {},
   "source": [
    "führt eine Verundung der Binärzahlen $5_{10} = 101_2$ mit $4_{10} = 100_2$ durch und ergibt demnach $100_2$, was wiederum gleich $4_{10}$ ist.\n",
    "\n",
    "| Operator | Beschreibung                                       | Beispiel | Ergebnis |\n",
    "| :------: | :------------------------------------------------- | :------- | :------- |\n",
    "| `x & y`  | Verundung von `x` mit `y`                          | `10 & 3` | `2`      |\n",
    "| `x \\| y`  | Veroderung von `x` mit `y`                         | `10 \\| 3` | `11`     |\n",
    "| `x ^ y`  | exklusive Veroderung von `x`  mit `y`              | `10 ^ 3` | `9`      |\n",
    "| `x << y` | Bitverschiebung von `x` um `y` Stellen nach links  | `8 << 3` | `64`     |\n",
    "| `x >> y` | Bitverschiebung von `x` um `y` Stellen nach rechts | `8 >> 2` | `2`      |\n",
    "\n",
    "Weshalb ist ``10 ^ 3`` gleich ``9``?\n",
    "Nun $10_{10} = 01010_2$ und $3_{10} = 00011_2$.\n",
    "Das exklusive oder bedeutet gesprochen **entweder oder**, d.h. ein Bit wird zur 1 genau dann wenn das Bit der einen Zahl gleich 1 und das Bit der anderen Zahl gleich 0 ist oder genau anders herum.\n",
    "Dies ergibt $01001_2 = 9_{10}$.\n",
    "\n",
    "Für ganze Zahlen entspricht die Bitverschiebung nach rechts um ein Bit der Multiplikation mit 2.\n",
    "Die Verschiebung nach rechts um ein Bit hingegen der *ganzzahligen Division* durch 2.\n",
    "Deshalb ist `8 << 3` gleich $8 \\cdot 2 \\cdot 2 \\cdot 2 = 8 \\cdot 2^3 = 64$ und ``8 >> 2`` gleich $\\left \\lfloor{8 \\cdot 2^{-2}}\\right \\rfloor = 2$."
   ]
  },
  {
   "cell_type": "markdown",
   "id": "silver-insight",
   "metadata": {},
   "source": [
    "***\n",
    "***Aufgabe 14.*** Berechnen Sie $x \\leftarrow 2^{10}$ unter Verwendung der Bitverschiebung."
   ]
  },
  {
   "cell_type": "code",
   "execution_count": 53,
   "id": "affected-sculpture",
   "metadata": {
    "tags": []
   },
   "outputs": [],
   "source": [
    "x = ..."
   ]
  },
  {
   "cell_type": "code",
   "execution_count": null,
   "id": "laughing-navigation",
   "metadata": {
    "deletable": false,
    "editable": false
   },
   "outputs": [],
   "source": [
    "grader.check(\"q14\")"
   ]
  },
  {
   "cell_type": "markdown",
   "id": "impressive-voltage",
   "metadata": {},
   "source": [
    "***\n",
    "***Aufgabe 15.*** Angenommen die Variablen ``x`` und ``y`` haben jeweils eine ganze Zahl als **Wert**, sodass beide dieser Zahlen in der Binärdarstellung an keiner Stelle ein gleiches Bit besitzten. Zum Beispiel:\n",
    "\n",
    "$$x \\leftarrow 5_{10} = 0101_2 \\text{ und } y \\leftarrow 10_{10} = 1010_2.$$\n",
    "\n",
    "Mit welcher Bitoperation könnten Sie die Addition ``x + y`` berechnen? Testen Sie diesen Sachverhalt."
   ]
  },
  {
   "cell_type": "markdown",
   "id": "documented-terry",
   "metadata": {},
   "source": [
    "_Type your answer here, replacing this text._"
   ]
  },
  {
   "cell_type": "code",
   "execution_count": 56,
   "id": "desperate-signal",
   "metadata": {
    "tags": []
   },
   "outputs": [],
   "source": [
    "x = ...\n",
    "y = ...\n",
    "..."
   ]
  },
  {
   "cell_type": "markdown",
   "id": "compound-amendment",
   "metadata": {},
   "source": [
    "***"
   ]
  },
  {
   "cell_type": "markdown",
   "id": "german-poetry",
   "metadata": {
    "deletable": false,
    "editable": false
   },
   "source": [
    "---\n",
    "\n",
    "To double-check your work, the cell below will rerun all of the autograder tests."
   ]
  },
  {
   "cell_type": "code",
   "execution_count": null,
   "id": "threaded-mayor",
   "metadata": {
    "deletable": false,
    "editable": false
   },
   "outputs": [],
   "source": [
    "grader.check_all()"
   ]
  },
  {
   "cell_type": "markdown",
   "id": "refined-hometown",
   "metadata": {
    "deletable": false,
    "editable": false
   },
   "source": [
    "## Submission\n",
    "\n",
    "Make sure you have run all cells in your notebook in order before running the cell below, so that all images/graphs appear in the output. The cell below will generate a zip file for you to submit."
   ]
  },
  {
   "cell_type": "code",
   "execution_count": null,
   "id": "handed-plaza",
   "metadata": {
    "deletable": false,
    "editable": false
   },
   "outputs": [],
   "source": [
    "grader.export(pdf=False, force_save=True)"
   ]
  },
  {
   "cell_type": "markdown",
   "id": "respective-electron",
   "metadata": {},
   "source": [
    " "
   ]
  }
 ],
 "metadata": {
  "kernelspec": {
   "display_name": "Python 3",
   "language": "python",
   "name": "python3"
  },
  "language_info": {
   "codemirror_mode": {
    "name": "ipython",
    "version": 3
   },
   "file_extension": ".py",
   "mimetype": "text/x-python",
   "name": "python",
   "nbconvert_exporter": "python",
   "pygments_lexer": "ipython3",
   "version": "3.9.6"
  },
  "otter": {
   "tests": {
    "q14": {
     "name": "q14",
     "points": null,
     "suites": [
      {
       "cases": [
        {
         "code": ">>> x == 2**10\nTrue",
         "hidden": false,
         "locked": false
        }
       ],
       "scored": true,
       "setup": "",
       "teardown": "",
       "type": "doctest"
      }
     ]
    },
    "q4": {
     "name": "q4",
     "points": null,
     "suites": [
      {
       "cases": [
        {
         "code": ">>> p = [1, 2, 3]\n>>> q = [p, p, [1,2,3]]\n>>> p[0] = -10\n>>> z == q\nTrue",
         "hidden": false,
         "locked": false
        },
        {
         "code": ">>> id(z) != id(y)\nTrue",
         "hidden": false,
         "locked": false
        }
       ],
       "scored": true,
       "setup": "",
       "teardown": "",
       "type": "doctest"
      }
     ]
    },
    "q6": {
     "name": "q6",
     "points": null,
     "suites": [
      {
       "cases": [
        {
         "code": ">>> cycles == 8\nTrue",
         "hidden": false,
         "locked": false
        },
        {
         "code": ">>> rest == 261\nTrue",
         "hidden": false,
         "locked": false
        }
       ],
       "scored": true,
       "setup": "",
       "teardown": "",
       "type": "doctest"
      }
     ]
    },
    "q7": {
     "name": "q7",
     "points": null,
     "suites": [
      {
       "cases": [
        {
         "code": ">>> x == -13_481_272\nTrue",
         "hidden": false,
         "locked": false
        }
       ],
       "scored": true,
       "setup": "",
       "teardown": "",
       "type": "doctest"
      }
     ]
    },
    "q8": {
     "name": "q8",
     "points": null,
     "suites": [
      {
       "cases": [
        {
         "code": ">>> x == 999999.9999999999\nTrue",
         "hidden": false,
         "locked": false
        },
        {
         "code": ">>> y == 1000000.0\nTrue",
         "hidden": false,
         "locked": false
        }
       ],
       "scored": true,
       "setup": "",
       "teardown": "",
       "type": "doctest"
      }
     ]
    },
    "q9": {
     "name": "q9",
     "points": null,
     "suites": [
      {
       "cases": [
        {
         "code": ">>> z == 1.4142135623730951\nTrue",
         "hidden": false,
         "locked": false
        }
       ],
       "scored": true,
       "setup": "",
       "teardown": "",
       "type": "doctest"
      }
     ]
    }
   }
  }
 },
 "nbformat": 4,
 "nbformat_minor": 5
}
