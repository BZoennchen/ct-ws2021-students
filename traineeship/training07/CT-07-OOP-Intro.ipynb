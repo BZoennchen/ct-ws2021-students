{
 "cells": [
  {
   "cell_type": "code",
   "execution_count": null,
   "id": "bc0bf777",
   "metadata": {
    "deletable": false,
    "editable": false
   },
   "outputs": [],
   "source": [
    "# Initialize Otter\n",
    "import otter\n",
    "grader = otter.Notebook(\"CT-07-OOP-Intro.ipynb\")"
   ]
  },
  {
   "cell_type": "markdown",
   "id": "a969b4b2",
   "metadata": {},
   "source": [
    "***Aufgabe 1 (Klassen und Objekte).*** Erstellen Sie eine *Klasse* Ihrer Wahl.\n",
    "Diese Klasse sollte mindestens zwei *Attribute* und zwei *Methoden* beinhalten.\n",
    "Erzeugen Sie mehrere *Objekte* Ihrer *Klasse*."
   ]
  },
  {
   "cell_type": "code",
   "execution_count": 1,
   "id": "cf110332",
   "metadata": {
    "tags": []
   },
   "outputs": [],
   "source": [
    "..."
   ]
  },
  {
   "cell_type": "markdown",
   "id": "e0e1c700",
   "metadata": {},
   "source": [
    "***Aufgabe 2 (Klassen und Objekte).*** Erklären Sie in Ihren Worten den Unterschied zwischen einer Klasse und einem Objekt."
   ]
  },
  {
   "cell_type": "markdown",
   "id": "40cc1e61",
   "metadata": {},
   "source": [
    "_Type your answer here, replacing this text._"
   ]
  },
  {
   "cell_type": "markdown",
   "id": "e2028762",
   "metadata": {},
   "source": [
    "***Aufgabe 3 (Klassen und Objekte).*** Folgender Code modelliert Rechtecke und Punkte und implementiert eine Funktion ``contains`` welche prüft ob sich ein Punkt innerhalb eines Rechtecks befindet. Wandeln Sie den Code in einen *objekt-orientierten* Code um. \n",
    "\n",
    "1. Erstellen Sie eine Klasse ``Rectangle`` mit *Attributen* ``x``, ``y``, ``width`` und ``height`` und einer Funktion ``contains``\n",
    "2. Erstellen Sie eine Klasse ``Point`` mit *Attributen* ``x``, ``y``\n",
    "3. Realisieren Sie geeignete Initialisierungen, d.h. ``__init__``.\n",
    "4. Realisieren Sie geeignete ``__str__``-Methoden"
   ]
  },
  {
   "cell_type": "code",
   "execution_count": 2,
   "id": "51ae00f9",
   "metadata": {},
   "outputs": [],
   "source": [
    "def contains(rect, point):\n",
    "    if point[0] < rect['x'] or point[1] < rect['y']:\n",
    "        return False\n",
    "    if point[0] > rect['x'] + rect['width'] or point[1] > rect['y'] + rect['height']:\n",
    "        return False\n",
    "    return True\n",
    "\n",
    "point1 = (31, 41)\n",
    "point2 = (-3, 50)\n",
    "rect = dict(x=10, y=12, width=100, height=30)\n",
    "print(contains(rect, point1))\n",
    "print(contains(rect, point2))"
   ]
  },
  {
   "cell_type": "code",
   "execution_count": 3,
   "id": "f6297043",
   "metadata": {
    "scrolled": true,
    "tags": []
   },
   "outputs": [],
   "source": [
    "class Rectangle():\n",
    "    ...\n",
    "\n",
    "class Point():\n",
    "    ...\n",
    "\n",
    "rect = Rectangle(x=10, y=12, width=100, height=30)\n",
    "point1 = Point(31, 41)\n",
    "point2 = Point(-3, 50)\n",
    "print(rect.contains(point1))\n",
    "print(rect.contains(point2))"
   ]
  },
  {
   "cell_type": "code",
   "execution_count": 4,
   "id": "4fe6a558",
   "metadata": {},
   "outputs": [],
   "source": [
    "print(Rectangle(x=10, y=12, width=100, height=30))\n",
    "print(Point(31, 41))"
   ]
  },
  {
   "cell_type": "markdown",
   "id": "74aa56ff",
   "metadata": {},
   "source": [
    "***Aufgabe 4 (Vererbung und Komposition).*** Unser Rechteck ist durch einen Startpunkt ``x``, ``y`` und durch die Breite ``width`` und Höhe ``height`` eindeutig definiert. Ein Punkt widerum durch ``x`` und ``y``. Würden Sie zustimmen, dass deshalb ein Punkt eine Abstraktion eines Rechtecks ist?"
   ]
  },
  {
   "cell_type": "markdown",
   "id": "25547be3",
   "metadata": {},
   "source": [
    "_Type your answer here, replacing this text._"
   ]
  },
  {
   "cell_type": "markdown",
   "id": "35f243ec",
   "metadata": {},
   "source": [
    "***Aufgabe 5 (Klassen und Objekte).*** Ändern Sie Ihre Klasse ``Rectangle`` ab.\n",
    "\n",
    "1. Nutzten Sie anstatt ``x``, ``y`` einen ``point`` des Typs ``Point``\n",
    "2. Führen Sie Methoden ``get_x1``, ``get_y1``, ``get_x2``, ``get_y2`` ein, welche Ihnen ``point.x``, ``point.y`` sowie ``point.x + width`` und ``point.y + height`` zurückliefern.\n",
    "3. Machen Sie alle *Attribute* privat.\n",
    "\n",
    "Vermeiden Sie dabei doppelten Code!"
   ]
  },
  {
   "cell_type": "code",
   "execution_count": 5,
   "id": "1204c1f3",
   "metadata": {
    "tags": []
   },
   "outputs": [],
   "source": [
    "class Rectangle():\n",
    "    ..."
   ]
  },
  {
   "cell_type": "code",
   "execution_count": 6,
   "id": "e23bd558",
   "metadata": {},
   "outputs": [],
   "source": [
    "rPoint = Point(x=10, y=12)\n",
    "rect = Rectangle(rPoint, width=100, height=30)\n",
    "point1 = Point(31, 41)\n",
    "point2 = Point(-3, 50)\n",
    "print(rect.contains(point1))\n",
    "print(rect.contains(point2))\n",
    "print(rect)\n",
    "print(point1)"
   ]
  },
  {
   "cell_type": "markdown",
   "id": "2e8b134f",
   "metadata": {},
   "source": [
    "***Aufgabe 6 (Klassen und Objekte).*** Erweitern Sie Ihre Klasse ``Point`` um die Methode ``add(point)`` und ``sub(point)`` sodass\n",
    "\n",
    "```python\n",
    "Point(1,1).add(Point(2,3)\n",
    "```\n",
    "\n",
    "einen **neuen** ``Point(3,4)`` zurückliefert.\n",
    "Implementieren Sie ``sub`` (die Subtraktion) entsprechend."
   ]
  },
  {
   "cell_type": "code",
   "execution_count": 7,
   "id": "e70ff0aa",
   "metadata": {
    "tags": []
   },
   "outputs": [],
   "source": [
    "class Point():\n",
    "    def __init__(self, x, y):\n",
    "        self.x = x\n",
    "        self.y = y\n",
    "        \n",
    "    def __str__(self):\n",
    "         return f'({self.x}, {self.y})'\n",
    "    \n",
    "    ..."
   ]
  },
  {
   "cell_type": "code",
   "execution_count": 8,
   "id": "55381203",
   "metadata": {},
   "outputs": [],
   "source": [
    "p1 = Point(1,1)\n",
    "p2 = Point(2,3)\n",
    "p3 = p1.add(p2)\n",
    "p4 = p1.sub(p2)\n",
    "print(f' {p1}.add({p2}) == {p3}')\n",
    "print(f' {p1}.sub({p2}) == {p4}')"
   ]
  },
  {
   "cell_type": "markdown",
   "id": "672c37c9",
   "metadata": {},
   "source": [
    "***Aufgabe 7 (Polymorphie).*** Finden Sie heraus (Google ist Ihr Freund) wie Sie den ``+`` und ``-``-Operator **überladen** (engl. overload) können, sodass Sie anstatt\n",
    "\n",
    "```python\n",
    "Point(1,1).add(Point(2,3)\n",
    "```\n",
    "\n",
    "das folgende schreiben können\n",
    "\n",
    "```\n",
    "Point(1,1) + (Point(2,3)\n",
    "```\n",
    "\n",
    "bzw. anstatt\n",
    "\n",
    "```python\n",
    "Point(1,1).sub(Point(2,3)\n",
    "```\n",
    "\n",
    "das folgende schreiben können\n",
    "\n",
    "```\n",
    "Point(1,1) - (Point(2,3)\n",
    "```\n",
    "\n",
    "Passen Sie Ihre Klasse ``Point`` entsprechend an!"
   ]
  },
  {
   "cell_type": "code",
   "execution_count": 9,
   "id": "2ce67ec4",
   "metadata": {
    "tags": []
   },
   "outputs": [],
   "source": [
    "class Point():\n",
    "    def __init__(self, x, y):\n",
    "        self.x = x\n",
    "        self.y = y\n",
    "        \n",
    "    def __str__(self):\n",
    "        return f'({self.x}, {self.y})'\n",
    "    \n",
    "    ..."
   ]
  },
  {
   "cell_type": "code",
   "execution_count": 10,
   "id": "3dfea2a0",
   "metadata": {},
   "outputs": [],
   "source": [
    "p1 = Point(1,1)\n",
    "p2 = Point(2,3)\n",
    "p3 = p1 + p2\n",
    "p4 = p1 - p2\n",
    "print(f' {p1} + {p2} == {p3}')\n",
    "print(f' {p1} - {p2} == {p4}')"
   ]
  },
  {
   "cell_type": "markdown",
   "id": "c59d9ee6",
   "metadata": {},
   "source": [
    "***Aufgabe 8 (Veränderlichkeit).*** Sind Ihre Objekte von der Klasse ``Point`` veränderlich oder unveränderlich? Sofern Sie veränderlich sind, wie könnten Sie sicherstellen, dass sie unveränderlich sind? Führen Sie diese Änderungen an der Klasse ``Point`` durch."
   ]
  },
  {
   "cell_type": "markdown",
   "id": "79d7d518",
   "metadata": {},
   "source": [
    "_Type your answer here, replacing this text._"
   ]
  },
  {
   "cell_type": "code",
   "execution_count": 11,
   "id": "07c9f3dc",
   "metadata": {
    "scrolled": true,
    "tags": []
   },
   "outputs": [],
   "source": [
    "p1 = Point(1,1)\n",
    "p1.x = 4\n",
    "print(p1)"
   ]
  },
  {
   "cell_type": "code",
   "execution_count": 12,
   "id": "95bf72f2",
   "metadata": {
    "tags": []
   },
   "outputs": [],
   "source": [
    "class Point():\n",
    "    ..."
   ]
  },
  {
   "cell_type": "code",
   "execution_count": 13,
   "id": "6244c04d",
   "metadata": {},
   "outputs": [],
   "source": [
    "p1 = Point(1,1)\n",
    "p1.x = 4\n",
    "print(p1)\n",
    "print(p1 + Point(2,2))"
   ]
  },
  {
   "cell_type": "markdown",
   "id": "5de5d89e",
   "metadata": {
    "deletable": false,
    "editable": false
   },
   "source": [
    "---\n",
    "\n",
    "To double-check your work, the cell below will rerun all of the autograder tests."
   ]
  },
  {
   "cell_type": "code",
   "execution_count": null,
   "id": "4b6850b2",
   "metadata": {
    "deletable": false,
    "editable": false
   },
   "outputs": [],
   "source": [
    "grader.check_all()"
   ]
  },
  {
   "cell_type": "markdown",
   "id": "36c6f455",
   "metadata": {
    "deletable": false,
    "editable": false
   },
   "source": [
    "## Submission\n",
    "\n",
    "Make sure you have run all cells in your notebook in order before running the cell below, so that all images/graphs appear in the output. The cell below will generate a zip file for you to submit."
   ]
  },
  {
   "cell_type": "code",
   "execution_count": null,
   "id": "20fdd891",
   "metadata": {
    "deletable": false,
    "editable": false
   },
   "outputs": [],
   "source": [
    "grader.export(pdf=False, force_save=True)"
   ]
  },
  {
   "cell_type": "markdown",
   "id": "d5caedd6",
   "metadata": {},
   "source": [
    " "
   ]
  }
 ],
 "metadata": {
  "kernelspec": {
   "display_name": "Python 3 (ipykernel)",
   "language": "python",
   "name": "python3"
  },
  "language_info": {
   "codemirror_mode": {
    "name": "ipython",
    "version": 3
   },
   "file_extension": ".py",
   "mimetype": "text/x-python",
   "name": "python",
   "nbconvert_exporter": "python",
   "pygments_lexer": "ipython3",
   "version": "3.9.5"
  }
 },
 "nbformat": 4,
 "nbformat_minor": 5
}
