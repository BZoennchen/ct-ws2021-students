{
 "cells": [
  {
   "cell_type": "code",
   "execution_count": null,
   "id": "09ee9707",
   "metadata": {
    "deletable": false,
    "editable": false
   },
   "outputs": [],
   "source": [
    "# Initialize Otter\n",
    "import otter\n",
    "grader = otter.Notebook(\"CT-06-Imageprocessing.ipynb\")"
   ]
  },
  {
   "cell_type": "code",
   "execution_count": 1,
   "id": "c3d3ea10",
   "metadata": {},
   "outputs": [],
   "source": [
    "import numpy as np\n",
    "import matplotlib.pyplot as plt\n",
    "import matplotlib"
   ]
  },
  {
   "cell_type": "markdown",
   "id": "c49cd0b9",
   "metadata": {},
   "source": [
    "# Bildverarbeitung (durch Listenmanipulation)\n",
    "\n",
    "## 1 Representation von Bildern"
   ]
  },
  {
   "cell_type": "markdown",
   "id": "be0c610d",
   "metadata": {},
   "source": [
    "Heute beschäftigen wir uns mit der Bildverarbeitung von Bildern im sog. RGB-Format.\n",
    "Ein Bild wird dabei durch eine dreidimensionale Liste (oder dreidimensionales Array) repräsentiert.\n",
    "Durch die folgenden drei Funktionen können Sie ein Bild aus einer Datei in eine Liste von Listen laden und wieder zurück speichern und anzeigen:"
   ]
  },
  {
   "cell_type": "code",
   "execution_count": 2,
   "id": "806b9d68",
   "metadata": {},
   "outputs": [],
   "source": [
    "def load(filename):\n",
    "    return matplotlib.pyplot.imread(filename).tolist()\n",
    "\n",
    "def save(filename, image_as_list):\n",
    "    matplotlib.image.imsave(filename, np.asarray(image_as_list))\n",
    "    \n",
    "def show(image):\n",
    "    plt.imshow(image)"
   ]
  },
  {
   "cell_type": "markdown",
   "id": "b55d8447",
   "metadata": {},
   "source": [
    "Lassen Sie uns unser Beispielbild laden"
   ]
  },
  {
   "cell_type": "code",
   "execution_count": 3,
   "id": "bfa6db2d",
   "metadata": {},
   "outputs": [],
   "source": [
    "image = load('./astronaut.png')"
   ]
  },
  {
   "cell_type": "markdown",
   "id": "3f75a9ab",
   "metadata": {},
   "source": [
    "und anzeigen"
   ]
  },
  {
   "cell_type": "code",
   "execution_count": 4,
   "id": "416b318b",
   "metadata": {},
   "outputs": [],
   "source": [
    "show(image)"
   ]
  },
  {
   "cell_type": "markdown",
   "id": "e8356c33",
   "metadata": {},
   "source": [
    "Ein RGB-Bild besteht aus einer endlichen Folge von Pixeln welche in Spalten und Zeilen angeordnet sind.\n",
    "Ein Pixel ``(y,x)`` in Zeile ``y`` und Spalte ``x`` besitzt die Farbe ``c = image[y][x]``.\n",
    "Es ist üblich die Zeile vor der Spalte zu benennen, also ``y`` vor ``x``.\n",
    "\n",
    "![Pixelbild](figs/pixelimagefloat.png)\n",
    "\n",
    "Das oben abgebildet Bild hat $512$ Zeilen, $512$ Zeilen und $3$ Farbkanäle (Rot, Grün, Blau).\n",
    "Es ist demnach ein \n",
    "\n",
    "$$512 \\times 512 \\times 3$$\n",
    "\n",
    "RGB-Bild. \n",
    "Es besteht demnach aus $512 \\cdot 512 = 262144$ Pixel mit $3$ Farbkanälen."
   ]
  },
  {
   "cell_type": "markdown",
   "id": "954a596d",
   "metadata": {},
   "source": [
    "``image`` ist eine Liste von Listen von Listen von $3$ Fließkommazahlen.\n",
    "Jede dieser Fließkommazahlen liegt zwischen 0.0 und 1.0.\n",
    "Die erste Zahl gibt an wie rot, die zweite wie grün und die dritte wie blau ein Pixel ist.\n",
    "\n",
    "Als erstes hätten wir gerne zwei Hilfsmethoden ``shape()`` und ``dim()``, welche uns Auskunft über unser vorliegendes Bild geben."
   ]
  },
  {
   "cell_type": "markdown",
   "id": "7e92162a",
   "metadata": {},
   "source": [
    "***\n",
    "***Aufgabe 1.*** Schreiben Sie eine Funktion ``shape(image)`` die ein Tupel mit allen Listenlängen eines Bildes ``image`` zurückliefert. Zum Beispiel sollte \n",
    "\n",
    "```python\n",
    "shape([])\n",
    "```\n",
    "\n",
    "``(0,)``\n",
    "\n",
    "und\n",
    "\n",
    "```python\n",
    "shape([0,1,3])\n",
    "```\n",
    "\n",
    "``(3,)``\n",
    "\n",
    "und  \n",
    "\n",
    "```python\n",
    "shape([[0,1,1],[3,1,1]])\n",
    "```\n",
    "\n",
    "``(2, 3)``\n",
    "\n",
    "und\n",
    "\n",
    "```python\n",
    "shape([[[0,0,0], [1,1,0]], [[1,1,0], [2,3,3]]])\n",
    "```\n",
    "\n",
    "``(2, 2, 3)`` zurückgeben. Gehen Sie davon aus dass ``image`` eine Liste ist (wie oben beschrieben)."
   ]
  },
  {
   "cell_type": "code",
   "execution_count": 5,
   "id": "8479d07a",
   "metadata": {
    "tags": []
   },
   "outputs": [],
   "source": [
    "def shape(image):\n",
    "    ..."
   ]
  },
  {
   "cell_type": "markdown",
   "id": "2defaf7c",
   "metadata": {},
   "source": [
    "***Aufgabe 2.*** Schreiben Sie eine Funktion ``dim(image)`` die eine natürliche Zahl zurückgibt, welche die Dimension der Liste ``image`` beschreibt. Zum Beispiel sollte folgendes gelten:\n",
    "\n",
    "```python\n",
    "dim([[[0,0,0], [1,1,0]], [[1,1,0], [2,3,3]]]) == 3\n",
    "dim([1,2,3]) == 1\n",
    "dim([[0,0,0]]) == 2\n",
    "dim([]) == 0\n",
    "```\n",
    "\n",
    "**Tipp:** Können Sie ``shape(image)`` einsetzten?"
   ]
  },
  {
   "cell_type": "code",
   "execution_count": 6,
   "id": "aa14fc36",
   "metadata": {
    "tags": []
   },
   "outputs": [],
   "source": [
    "def dim(image):\n",
    "    ..."
   ]
  },
  {
   "cell_type": "markdown",
   "id": "862d5a32",
   "metadata": {},
   "source": [
    "***"
   ]
  },
  {
   "cell_type": "code",
   "execution_count": 7,
   "id": "13fe3e77",
   "metadata": {
    "scrolled": true
   },
   "outputs": [],
   "source": [
    "print(f'type: {type(image)}')\n",
    "print(f'dimensions: {dim(image)}')\n",
    "print(f'shape: {shape(image)}')"
   ]
  },
  {
   "cell_type": "markdown",
   "id": "507cae86",
   "metadata": {},
   "source": [
    "Diese Funktionen werden uns im weiteren Verlauf noch sehr nützlich sein.\n",
    "\n",
    "## 2 Iteration durch alle Pixel\n",
    "\n",
    "Viele Operationen in der Bildverarbeitung, wie etwa die Anpassung der Helligkeit, werden durchgeführt indem eine bestimmte Operation für **jeden** Pixel angewedet wird.\n",
    "Da wir in ``Python`` die Möglichkeit haben eine Funktion als Argument einer anderen Funktion zu übergeben, können wir diese Iteration über alle Pixel mit einer einizigen Funktion abhaken."
   ]
  },
  {
   "cell_type": "markdown",
   "id": "ae366e84",
   "metadata": {},
   "source": [
    "***\n",
    "***Aufgabe 3.*** Implementieren Sie die Funktion ``process_pixels(image, op)``. Diese soll jeden Pixel ``image[y][x]`` des Bildes ``image`` durch ``op(image, y, x)`` ersetzten. Dabei soll ein neues Bild entstehen und das alte ``image`` soll unverändert bleiben. Überlegen Sie sich einen geeigneten Standardwert für ``op``.\n",
    "\n",
    "**Tipp:** Benötigen Sie eine flache oder tiefe Kopie? Hilft Ihnen ein Lambda-Ausdruck?"
   ]
  },
  {
   "cell_type": "code",
   "execution_count": 8,
   "id": "cbcca3bb",
   "metadata": {
    "tags": []
   },
   "outputs": [],
   "source": [
    "import copy\n",
    "\n",
    "def process_pixels(image, op = lambda image, y, x: copy.deepcopy(image[y][x])):\n",
    "    ..."
   ]
  },
  {
   "cell_type": "markdown",
   "id": "b69f1642",
   "metadata": {},
   "source": [
    "***"
   ]
  },
  {
   "cell_type": "code",
   "execution_count": 9,
   "id": "0acdf9c2",
   "metadata": {},
   "outputs": [],
   "source": [
    "image_copy = process_pixels(image)\n",
    "show(image_copy)"
   ]
  },
  {
   "cell_type": "markdown",
   "id": "eed5ec82",
   "metadata": {},
   "source": [
    "## 3 Graustufen\n",
    "\n",
    "Sie kennen diese Funktion vermutlich von Ihrem Handy: Ein Bild in ein Schwarz-Weiß / Graustufen-Bild verwandeln.\n",
    "Wir können das auch!\n",
    "\n",
    "``to_gray(image)`` transformiert ein Bild in ein Graustufen-Bild indem alle drei Farbintensitäten (rot, grün, blau) gemittelt werden. Das heißt der neue Wert eines Pixels $I[x][y]$ an Position $x,y$ bekommt den \n",
    "\n",
    "$$I[y][x][i] \\leftarrow \\frac{r + g + b}{3},$$\n",
    "\n",
    "wobei $r = I[y][x][0], g = I[y][x][1], b = I[y][x][2]$ und $i=0,1,2$ gilt."
   ]
  },
  {
   "cell_type": "markdown",
   "id": "c30d9c14",
   "metadata": {},
   "source": [
    "***\n",
    "***Aufgabe 4.*** Implementieren Sie die Funktion ``gray(image, y, x)``, sodass ``process_pixels(image, gray)`` ein Graustufenbild zurückliefert."
   ]
  },
  {
   "cell_type": "code",
   "execution_count": 10,
   "id": "7812b629",
   "metadata": {
    "code_folding": [],
    "tags": []
   },
   "outputs": [],
   "source": [
    "def gray(image, y, x):\n",
    "    ..."
   ]
  },
  {
   "cell_type": "markdown",
   "id": "ee6b35ab",
   "metadata": {},
   "source": [
    "***"
   ]
  },
  {
   "cell_type": "code",
   "execution_count": 11,
   "id": "15aed3e8",
   "metadata": {
    "scrolled": false
   },
   "outputs": [],
   "source": [
    "gray_image = process_pixels(image, gray)\n",
    "show(gray_image)"
   ]
  },
  {
   "cell_type": "markdown",
   "id": "5e8c2d42",
   "metadata": {},
   "source": [
    "## 4 Helligkeit\n",
    "\n",
    "Wir können auch die Helligkeit eines Bildes sehr einfach duch folgende Transformation anpassen:\n",
    "\n",
    "$$I[y][x] \\leftarrow I[y][x] \\cdot \\gamma$$\n",
    "\n",
    "wobei $\\gamma > 1.0$ die Helligkeit erhöt und $\\gamma < 1.0$ die Helligkeit verkleinert."
   ]
  },
  {
   "cell_type": "markdown",
   "id": "ee6ab3e0",
   "metadata": {},
   "source": [
    "***\n",
    "***Aufgabe 5.*** Implementieren Sie die Funktion ``gamma_op(gamma)``. Diese soll eine Funktion ``gamma_func(image, y, x)`` zurückliefern, welche die oben beschriebene Operation für jeden Pixel und das angegebene ``gamma`` durchführt.\n",
    "\n",
    "``process_pixels(image, gamma_op(gamma))`` soll demnach die Helligkeit des gesamten bildes anpassen."
   ]
  },
  {
   "cell_type": "code",
   "execution_count": 12,
   "id": "1e76d92a",
   "metadata": {
    "tags": []
   },
   "outputs": [],
   "source": [
    "def gamma_op(gamma):\n",
    "    ..."
   ]
  },
  {
   "cell_type": "code",
   "execution_count": 13,
   "id": "838ff4a1",
   "metadata": {},
   "outputs": [],
   "source": [
    "gamma = gamma_op(0.5)\n",
    "image_gamma_reduced = process_pixels(image, gamma)\n",
    "show(image_gamma_reduced)"
   ]
  },
  {
   "cell_type": "code",
   "execution_count": 14,
   "id": "30fa48de",
   "metadata": {
    "scrolled": false
   },
   "outputs": [],
   "source": [
    "gamma = gamma_op(1.5)\n",
    "image_gamma_increased = process_pixels(image, gamma)\n",
    "show(image_gamma_increased)"
   ]
  },
  {
   "cell_type": "markdown",
   "id": "80b69bbc",
   "metadata": {},
   "source": [
    "Wir können auch mehrere Operationen kombinieren!"
   ]
  },
  {
   "cell_type": "code",
   "execution_count": 15,
   "id": "654733a5",
   "metadata": {
    "scrolled": true
   },
   "outputs": [],
   "source": [
    "show(process_pixels(process_pixels(image, gamma_op(1.5)), gray))"
   ]
  },
  {
   "cell_type": "markdown",
   "id": "24baa408",
   "metadata": {},
   "source": [
    "## 5 Verwischen (Blur)\n",
    "\n",
    "Beim Verwischen wird ein Bild unscharft, d.h. es verliert an Struktur. Man bezeichnet diesen Effekt auch als Diffusion / Streuung. Das Prinzip ist einfach: Man weise einem Pixel den Mittelwert des Farbwertes seiner Nachbarschafts Pixel zu. Dadurch werden die Pixel ähnlicher. Die Farben breiten sich wie die Wärmer einer Wärmequelle über ein Gebiet aus.\n",
    "\n",
    "![Blur](figs/blur.png)\n",
    "\n",
    "Je größer die Nachbarschaft, desto größer ist der Effekt.\n",
    "Wir halten es einfach und betrachten nur die 8 Nachbarn und den Pixel selbst (d.h. 9 Pixel).\n",
    "Somit gilt\n",
    "\n",
    "$$I[y][x][i] \\leftarrow \\left( I[y+1][x][i] + I[y+1][x+1][i] + I[y+1][x-1][i] + I[y][x][i] + \\ldots I[y-1][x-1][i] \\right) / 9$$"
   ]
  },
  {
   "cell_type": "markdown",
   "id": "6b84ac42",
   "metadata": {},
   "source": [
    "***Aufgabe 6.*** Schreiben Sie eine Funktion ``blur_kernel(k=1)``, welche eine Funktion ``blur(image, y, x)`` zurückliefert, sodass ``process_pixels(image, blur)`` ein Bild verwischt. ``k`` soll darüber entscheiden wie weitreichend die Verwischung ist. Für ``k==1`` sind es 9 Nachbarn, für ``k==2`` 25 usw. Sie können auch nur den Fall ``k==1`` implementieren.\n",
    "\n",
    "**Achtung** Am Rand des Bildes müssen Sie sich etwas einfallen lassen."
   ]
  },
  {
   "cell_type": "code",
   "execution_count": 16,
   "id": "dfb7ad17",
   "metadata": {
    "tags": []
   },
   "outputs": [],
   "source": [
    "def blur_kernel(k=1):\n",
    "    ..."
   ]
  },
  {
   "cell_type": "code",
   "execution_count": 17,
   "id": "b62725a0",
   "metadata": {
    "scrolled": true
   },
   "outputs": [],
   "source": [
    "show(process_pixels(image, blur_kernel(5)))"
   ]
  },
  {
   "cell_type": "code",
   "execution_count": 18,
   "id": "d73a922e",
   "metadata": {},
   "outputs": [],
   "source": [
    "show(process_pixels(image, blur_kernel(1)))"
   ]
  },
  {
   "cell_type": "markdown",
   "id": "79aeba13",
   "metadata": {},
   "source": [
    "Wenden wir das Verwischen mehrfach an, so verstärkt sich der Effekt:"
   ]
  },
  {
   "cell_type": "code",
   "execution_count": 19,
   "id": "fbd29223",
   "metadata": {
    "scrolled": true
   },
   "outputs": [],
   "source": [
    "blur = blur_kernel(3)\n",
    "show(process_pixels(process_pixels(image, blur), blur))"
   ]
  },
  {
   "cell_type": "markdown",
   "id": "f709a99b",
   "metadata": {},
   "source": [
    "Die Umekehrung ist nicht ohne weiteres möglich!"
   ]
  },
  {
   "cell_type": "markdown",
   "id": "435ec65d",
   "metadata": {},
   "source": [
    "## 6 Kantenerkennung\n",
    "\n",
    "Das Erkennen von Objekten in einem Bild ist eine wichtige Anwendung der Bildverarbeitung.\n",
    "Heute helfen uns Algorithmen aus dem maschinellen Lernen verschiedenste Objekte und Wesen auf Bildern zu erkennen.\n",
    "Doch auch diese Algorithmen profitieren von einer vorgezogenen Bildtransformation, welche die Kanten eines Bildes verdeutlicht.\n",
    "\n",
    "Eine Kante deutet oft daraufhin, dass sich an jener Stelle die Objekte unterscheiden.\n",
    "Oben sehen wir einen rötlichen Raumanzug und einen schwarzen Helm.\n",
    "Die Kante zwischen den beiden Objekten grenzt diese ab und ist durch den **Farbunterschied** definiert!\n",
    "\n",
    "Für diesen Unterschied gibt es verschiedene Formeln.\n",
    "Wir beschränken uns auf die einfachste und berechnen\n",
    "\n",
    "$$I[y][x][i] \\leftarrow \\left( |I[y][x][i] - I[y+1][x][i]| + |I[y][x][i] - I[y][x+1][i]| \\right) / 2 $$"
   ]
  },
  {
   "cell_type": "markdown",
   "id": "56bf2054",
   "metadata": {},
   "source": [
    "***Aufgabe 7.*** Schreiben Sie eine Funktion ``diff(image, y, x)``, sodass ``process_pixels(image, diff)`` ein Bild erzeugt welches die obige Differenz ergibt und somit die Kanten hervorhebt.\n",
    "\n",
    "**Achtung** Am Rand des Bildes müssen Sie sich etwas einfallen lassen."
   ]
  },
  {
   "cell_type": "code",
   "execution_count": 20,
   "id": "fcb868f5",
   "metadata": {
    "tags": []
   },
   "outputs": [],
   "source": [
    "def diff(image, y, x):\n",
    "    ..."
   ]
  },
  {
   "cell_type": "code",
   "execution_count": 21,
   "id": "e2c1ad6f",
   "metadata": {
    "scrolled": false
   },
   "outputs": [],
   "source": [
    "show(process_pixels(image, diff))"
   ]
  },
  {
   "cell_type": "markdown",
   "id": "9a35a4b9",
   "metadata": {},
   "source": [
    "Das Ergebnis ist ein wenig dunkel.\n",
    "Lassen Sie es uns doch ein wenig aufhellen:"
   ]
  },
  {
   "cell_type": "code",
   "execution_count": 22,
   "id": "ff53efef",
   "metadata": {
    "scrolled": true
   },
   "outputs": [],
   "source": [
    "show(process_pixels(process_pixels(image, diff), gamma_op(8)))"
   ]
  },
  {
   "cell_type": "markdown",
   "id": "bcbcce87",
   "metadata": {},
   "source": [
    "Wir können auch die Farben herausnehmen:"
   ]
  },
  {
   "cell_type": "code",
   "execution_count": 23,
   "id": "48b150a6",
   "metadata": {},
   "outputs": [],
   "source": [
    "show(process_pixels(process_pixels(process_pixels(image, diff), gray), gamma_op(8)))"
   ]
  },
  {
   "cell_type": "markdown",
   "id": "4dafd65b",
   "metadata": {},
   "source": [
    "## 7 Ausschneiden\n",
    "\n",
    "Wir möchten unsere Bilder natürlich auch zuschneiden können (engl. crop).\n",
    "Angenommen unser Ursprungsbild hat $h$ Zeilen und $w$ Spalten so soll die Funktion ``crop(image, x0, y0, w0, h0)`` das Bild so zuschneiden, dass es bei Pixel $I[y_0][x_0]$ beginnt und bei $I[y_0+h_0-1][x_0+w_0-1]$ endet."
   ]
  },
  {
   "cell_type": "markdown",
   "id": "29d93a84",
   "metadata": {},
   "source": [
    "***Aufgabe 8.*** Implementieren Sie die Funktion ``crop(image, x0, y0, w0, h0)``. Falls wir zu viel wegschneiden, sollte dies ignoriert werden."
   ]
  },
  {
   "cell_type": "code",
   "execution_count": 24,
   "id": "bd3a9953",
   "metadata": {
    "tags": []
   },
   "outputs": [],
   "source": [
    "def crop(image, x0, y0, w0, h0):\n",
    "    ..."
   ]
  },
  {
   "cell_type": "code",
   "execution_count": 25,
   "id": "02945603",
   "metadata": {},
   "outputs": [],
   "source": [
    "crop_image = crop(image, 70, 100, 500, 200)\n",
    "plt.imshow(crop_image)"
   ]
  },
  {
   "cell_type": "markdown",
   "id": "7fef3e26",
   "metadata": {},
   "source": [
    "## 8 Rotation (um 90 Grad)\n",
    "\n",
    "Als nächsten möchten wir die Möglichkeit erlangen unser Bild um 90 Grad gegen den Urzeigersinn zu rotieren!"
   ]
  },
  {
   "cell_type": "markdown",
   "id": "e0e01ba9",
   "metadata": {},
   "source": [
    "***Aufgabe 9.*** Schreiben Sie eine Funktion ``rotate_ccw(image)``, welche ein neues Bild zurückliefert welches gleich dem Ursprungsbild ``image`` um 90 Grad gegen den Urzeigersinn (counterclockwise) gedreht ist. Schreiben Sie auf Grundlage dieser Funktion eine Funktion ``rotate(image, ccw=True)`` die entweder gegen den Urzeigersinn rotiert (``ccw==True`` oder im Urzeigersinn ``ccw==False``)'."
   ]
  },
  {
   "cell_type": "code",
   "execution_count": 26,
   "id": "5be74dfd",
   "metadata": {
    "tags": []
   },
   "outputs": [],
   "source": [
    "def rotate_ccw(image):\n",
    "    ...\n",
    "\n",
    "# just use 3x ccw = 1x cw rotation\n",
    "def rotate(image, ccw = True):\n",
    "    ...\n",
    "    \n",
    "# or add an extra function\n",
    "def rotate_cw(image):\n",
    "    ...\n",
    "\n",
    "def rotate(image, ccw = True):\n",
    "    ..."
   ]
  },
  {
   "cell_type": "code",
   "execution_count": 27,
   "id": "5b1ba196",
   "metadata": {
    "scrolled": true
   },
   "outputs": [],
   "source": [
    "show(rotate(image))"
   ]
  },
  {
   "cell_type": "code",
   "execution_count": 28,
   "id": "a7f4a175",
   "metadata": {},
   "outputs": [],
   "source": [
    "show(rotate(image, ccw=False))"
   ]
  },
  {
   "cell_type": "code",
   "execution_count": null,
   "id": "55dccf69",
   "metadata": {},
   "outputs": [],
   "source": []
  },
  {
   "cell_type": "markdown",
   "id": "7bb04bf0",
   "metadata": {
    "deletable": false,
    "editable": false
   },
   "source": [
    "---\n",
    "\n",
    "To double-check your work, the cell below will rerun all of the autograder tests."
   ]
  },
  {
   "cell_type": "code",
   "execution_count": null,
   "id": "528db9bd",
   "metadata": {
    "deletable": false,
    "editable": false
   },
   "outputs": [],
   "source": [
    "grader.check_all()"
   ]
  },
  {
   "cell_type": "markdown",
   "id": "8b90f5d2",
   "metadata": {
    "deletable": false,
    "editable": false
   },
   "source": [
    "## Submission\n",
    "\n",
    "Make sure you have run all cells in your notebook in order before running the cell below, so that all images/graphs appear in the output. The cell below will generate a zip file for you to submit."
   ]
  },
  {
   "cell_type": "code",
   "execution_count": null,
   "id": "b97abec0",
   "metadata": {
    "deletable": false,
    "editable": false
   },
   "outputs": [],
   "source": [
    "grader.export(pdf=False, force_save=True)"
   ]
  },
  {
   "cell_type": "markdown",
   "id": "70e75389",
   "metadata": {},
   "source": [
    " "
   ]
  }
 ],
 "metadata": {
  "kernelspec": {
   "display_name": "Python 3 (ipykernel)",
   "language": "python",
   "name": "python3"
  },
  "language_info": {
   "codemirror_mode": {
    "name": "ipython",
    "version": 3
   },
   "file_extension": ".py",
   "mimetype": "text/x-python",
   "name": "python",
   "nbconvert_exporter": "python",
   "pygments_lexer": "ipython3",
   "version": "3.9.5"
  }
 },
 "nbformat": 4,
 "nbformat_minor": 5
}
