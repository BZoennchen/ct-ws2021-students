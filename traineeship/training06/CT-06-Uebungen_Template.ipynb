{
 "cells": [
  {
   "cell_type": "code",
   "execution_count": null,
   "metadata": {
    "deletable": false,
    "editable": false
   },
   "outputs": [],
   "source": [
    "# Initialize Otter\n",
    "import otter\n",
    "grader = otter.Notebook(\"CT-06-Uebungen_Template.ipynb\")"
   ]
  },
  {
   "cell_type": "markdown",
   "metadata": {},
   "source": [
    "# Vorlesung \"Computational Thinking\"\n",
    "### Woche 6 - Übungen\n",
    "#### Prof. Dr.-Ing. Martin Hobelsberger"
   ]
  },
  {
   "cell_type": "markdown",
   "metadata": {},
   "source": [
    "### Lernziele dieser Einheit\n",
    "\n",
    "* Wiederholungen zu Python Grundlagen"
   ]
  },
  {
   "cell_type": "markdown",
   "metadata": {},
   "source": [
    "## Übungen zum Warm-Up"
   ]
  },
  {
   "cell_type": "markdown",
   "metadata": {},
   "source": [
    "***Aufgabe 1.*** Schreiben Sie eine Funktion ``index_at(text, char)``, welche die erste vorkommende Position eines gesuchten Zeichens ``char`` in einer Zeichenkette ``text`` zurückgibt. Wir beginnen bei 0 zu zählen, d.h. \n",
    "\n",
    "```python\n",
    "index_at(\"abc\", \"a\") == 0\n",
    "```"
   ]
  },
  {
   "cell_type": "code",
   "execution_count": 1,
   "metadata": {
    "tags": []
   },
   "outputs": [],
   "source": [
    "def index_at(text, char):\n",
    "    ..."
   ]
  },
  {
   "cell_type": "code",
   "execution_count": null,
   "metadata": {
    "deletable": false,
    "editable": false
   },
   "outputs": [],
   "source": [
    "grader.check(\"q1\")"
   ]
  },
  {
   "cell_type": "code",
   "execution_count": 8,
   "metadata": {},
   "outputs": [],
   "source": [
    "text = 'May the force be with you!'\n",
    "char = 'f'\n",
    "index = index_at(text, char)\n",
    "print(f'Der Buchstabe {zeichen} ist an Stelle {index} im Text: {text}')"
   ]
  },
  {
   "cell_type": "markdown",
   "metadata": {},
   "source": [
    "***Aufgabe 2:*** Schreiben Sie eine Yoda-Funktion ``yoda(text)``. Diese gibt einen übergebenen Satz ``text`` mit umgekehrten Wörtern wieder zurück.\n",
    "\n",
    "```python\n",
    "yoda('Ich bin bereit') == 'bereit bin Ich'\n",
    "```\n",
    "\n",
    "**Tipp:** Sehen Sie sich die String-Methoden ``join()`` und ``split()`` einer Zeichenkette ``str`` genauer an. "
   ]
  },
  {
   "cell_type": "code",
   "execution_count": 16,
   "metadata": {
    "tags": []
   },
   "outputs": [],
   "source": [
    "def yoda(text):\n",
    "    ..."
   ]
  },
  {
   "cell_type": "code",
   "execution_count": null,
   "metadata": {
    "deletable": false,
    "editable": false
   },
   "outputs": [],
   "source": [
    "grader.check(\"q2\")"
   ]
  },
  {
   "cell_type": "code",
   "execution_count": 22,
   "metadata": {},
   "outputs": [],
   "source": [
    "yoda('Hallo mein Name ist Hase')"
   ]
  },
  {
   "cell_type": "markdown",
   "metadata": {},
   "source": [
    "***Aufgabe 3.*** Schreiben Sie ein Programm, das eine Liste (mit einer belibigen Anzahl an numerischen Elementen z.B.,\n",
    "\n",
    "```python\n",
    "numbers = [2, 42, 23.2, 34, 22332.5]\n",
    "```\n",
    "\n",
    "als Eingabe entgegen nimmt und alle Elemente der Liste mit einem **geraden Index** zu einem Summenwert sowie alle Elemente mit **ungeraden Index** zu einem Summenwert addiert. Es sollen beide Summenwerte ausgegeben werden."
   ]
  },
  {
   "cell_type": "code",
   "execution_count": 26,
   "metadata": {
    "tags": []
   },
   "outputs": [],
   "source": [
    "..."
   ]
  },
  {
   "cell_type": "markdown",
   "metadata": {},
   "source": [
    "***Aufgabe 4.*** Schreiben Sie eine Funktion ``mask(numbers)``, die eine Liste (mit ganzen Zahlen als Elemente) entgegen nimmt, für jedes Element der Liste überprüft, ob es gerade oder ungerade ist und eine neue Liste mit den entsprechenden String-Elementen ``'gerade'`` bzw. ``'ungerade'`` zurückliefert.\n",
    "\n",
    "Zum Beispiel sollte gelten:\n",
    "\n",
    "```python\n",
    "numbers = [7,34,2,22,31]\n",
    "mask(numbers) == ['ungerade', 'gerade', 'gerade', 'gerade', 'ungerade']\n",
    "```"
   ]
  },
  {
   "cell_type": "code",
   "execution_count": 32,
   "metadata": {
    "tags": []
   },
   "outputs": [],
   "source": [
    "def mask(numbers):\n",
    "    ..."
   ]
  },
  {
   "cell_type": "code",
   "execution_count": null,
   "metadata": {
    "deletable": false,
    "editable": false
   },
   "outputs": [],
   "source": [
    "grader.check(\"q4\")"
   ]
  },
  {
   "cell_type": "code",
   "execution_count": 33,
   "metadata": {},
   "outputs": [],
   "source": [
    "numbers = [7, 34, 2, 22, 31]\n",
    "mask(numbers)"
   ]
  },
  {
   "cell_type": "markdown",
   "metadata": {},
   "source": [
    "***Aufgabe 5.*** Schreiben Sie eine Funktion ``median(numbers)``, das eine Liste (mit einer belibigen Anzahl ``n`` an ganzzahligen Elementen; z.B. ``numbers = [2, 42, 232, 34, 5]``) als Eingabe entgegen nimmt, den [Median](https://de.wikipedia.org/wiki/Median) der Listenelemente berechnet und ausgibt.\n",
    "\n",
    "**Tipp:** Mit der Methode ``sort`` einer Liste ``list`` könen Sie eine entsprechende Liste aus Zahlen sortieren."
   ]
  },
  {
   "cell_type": "code",
   "execution_count": 37,
   "metadata": {
    "tags": []
   },
   "outputs": [],
   "source": [
    "def median(numbers):\n",
    "    ..."
   ]
  },
  {
   "cell_type": "code",
   "execution_count": null,
   "metadata": {
    "deletable": false,
    "editable": false
   },
   "outputs": [],
   "source": [
    "grader.check(\"q5\")"
   ]
  },
  {
   "cell_type": "markdown",
   "metadata": {},
   "source": [
    "***Aufgabe 6.*** Schreiben Sie eine Funktion die eine Liste (mit ganzen Zahlen als Elemente) entgegen nimmt und darüber die Quersumme bildet. Die Funktion soll auf der Konsole den Wert der Quersumme, die Anzahl der Elemente und ob die Quersumme gerade oder ungerade ist ausgeben. Als Rückgabewert wird die Quersumme geliefert. "
   ]
  },
  {
   "cell_type": "code",
   "execution_count": 45,
   "metadata": {
    "tags": []
   },
   "outputs": [],
   "source": [
    "..."
   ]
  },
  {
   "cell_type": "markdown",
   "metadata": {},
   "source": [
    "***Aufgabe 7. (Persönliche Daten aus Zeichenketten ausgeben)*** In einer Textdatei sind Zeile für Zeile Angaben zu einer Person gespeichert:\n",
    "\n",
    "`'Name: Dörte Weber;'`\n",
    "\n",
    "`'Adresse: Kobelweg 12, 86391 Stadtbergen;'`\n",
    "\n",
    "`'Alter: 66;'`\n",
    "\n",
    "Die Zeichenketten dieser Datei werden zeilenweise eingelesen in die Variable `row`. Schreiben Sie einen Code, der mit `print` nur die persönlichen Daten ausgibt (d.h. den String hinter dem Doppelpunkt und ohne Leerzeichen beginnend).\n",
    "\n",
    "Hier im Beispiel, muss also aus `row` der gewünschte String extrahiert werden: \n",
    "```'Dörte Weber;'```. Teste dein Programm auch für die anderen Zeilen.\n",
    "\n",
    "**Tipp:** Eventuell hilft Ihnen ``index_at`` von Aufgabe 1 und die Methode ``strip`` der Klasse ``str``."
   ]
  },
  {
   "cell_type": "code",
   "execution_count": 51,
   "metadata": {},
   "outputs": [],
   "source": [
    "row = \"Name: Dörte Weber;\""
   ]
  },
  {
   "cell_type": "code",
   "execution_count": 57,
   "metadata": {
    "tags": []
   },
   "outputs": [],
   "source": [
    "..."
   ]
  },
  {
   "cell_type": "markdown",
   "metadata": {},
   "source": [
    "***Aufgabe 8. (Kürzen von Zeichenketten)*** Für einen Fashion-Blog soll eine kurze Vorschau der Artikel im Umfang von 35 Zeichen angezeigt werden.\n",
    "Der Text soll dabei mit drei Punkten `...` enden, um anzuzeigen, dass es noch mehr Inhalt gibt.\n",
    "\n",
    "Schreiben Sie den Code, um einen `post` wie beschrieben neu zu formatieren und auszugeben. Für"
   ]
  },
  {
   "cell_type": "code",
   "execution_count": 59,
   "metadata": {},
   "outputs": [],
   "source": [
    "post = \"Die Herbst- und Winter-Saison ist eingeleitet und die Duftkerzen sind bereits angezündet. Jetzt fehlen also nur noch ein paar Parfums, die perfekt in die kältere Jahreszeit passen (aber in meinem Fall eigentlich auch das ganze Jahr über) – hier sind also meine aktuellen Lieblinge!\""
   ]
  },
  {
   "cell_type": "markdown",
   "metadata": {},
   "source": [
    "Ist die gewünschte Ausgabe gleich\n",
    "\n",
    "```python\n",
    "Die Herbst- und Winter-Saison ist e...\n",
    "```"
   ]
  },
  {
   "cell_type": "code",
   "execution_count": 63,
   "metadata": {
    "tags": []
   },
   "outputs": [],
   "source": [
    "length = len(post)\n",
    "n = 35\n",
    "if length < n:\n",
    "    print(post)\n",
    "else:\n",
    "    print(f'{post[:n]}...')"
   ]
  },
  {
   "cell_type": "markdown",
   "metadata": {},
   "source": [
    "***Aufgabe 9. (Verbessertes Kürzen von Zeichenketten)*** Können Sie Aufgabe 8 so lösen, dass die drei Punkte nach einem Leerzeichen eingefügt werden, um zu verhindern, dass Texte mitten in einem Wort abgeschnitten werden?\n",
    "\n",
    "Ausgabe: \n",
    "```Die Herbst- und Winter-Saison ist...```"
   ]
  },
  {
   "cell_type": "code",
   "execution_count": 67,
   "metadata": {
    "tags": []
   },
   "outputs": [],
   "source": [
    "..."
   ]
  },
  {
   "cell_type": "code",
   "execution_count": 64,
   "metadata": {},
   "outputs": [],
   "source": [
    "\"abc\".find('b')"
   ]
  },
  {
   "cell_type": "markdown",
   "metadata": {},
   "source": [
    "***Aufgabe 10. (Glückspiel)*** In ``w`` sei der Wert eines Würfelwerts gespeichert. Der Würfel kann die Werte 1, 2, 3, 4, 5 und 6 annehmen - Zum Beispiel gelte ``w==4``.\n",
    "\n",
    "Schreibe Programmcode, der mit Hilfe des Modulo-Operators prüft, ob der Wert von ``w`` gerade oder ungerade ist. Das Programm soll z.B. ```3 ist ungerade``` oder ```4 ist gerade``` ausgeben.\n",
    "\n",
    "**Beispielausgabe:**\n",
    "\n",
    "```4 ist gerade```"
   ]
  },
  {
   "cell_type": "code",
   "execution_count": 74,
   "metadata": {},
   "outputs": [],
   "source": [
    "w = 4"
   ]
  },
  {
   "cell_type": "code",
   "execution_count": 73,
   "metadata": {
    "tags": []
   },
   "outputs": [],
   "source": [
    "result = 'gerade' if w % 2 == 0 else 'ungerade'\n",
    "print(f'{w} ist {result}')"
   ]
  },
  {
   "cell_type": "markdown",
   "metadata": {},
   "source": [
    "***Aufgabe 11. (Glückspiel 2)*** Nun wir der Würfen zweimal hintereinander geworfen. Wenn beide Würfelwerte ungerade sind, erhält der Spieler eine Gewinnsumme von 10 Euro. Wenn nur ein Würfelwert ungerade ist, beträgt die Gewinnsumme 0 Euro. Wenn beide Würfelwerte gerade sind, macht der Spieler einen Verlust von 10 Euro.\n",
    "\n",
    "Ihre Aufgabe ist es, ein Programm zu schreiben, welches die Gewinnsumme bzw. den Verlust ausgibt.\n",
    "\n",
    "**Beispielausgabe für w1=1 und w2=3:**\n",
    "```Gewinnsumme beträgt 10 Euro.```\n",
    "\n",
    "**Beispielausgabe für w1=1 und w2=4:**\n",
    "```Gewinnsumme beträgt 0 Euro.``` \n",
    "\n",
    "**Beispielausgabe für w1=2 und w2=4:**\n",
    "```Verlust beträgt 10 Euro.``` \n",
    "\n",
    "Testen Sie Ihren Programmcode für die verschiedenen Würfelwerte."
   ]
  },
  {
   "cell_type": "code",
   "execution_count": 85,
   "metadata": {},
   "outputs": [],
   "source": [
    "w1 = 1\n",
    "w2 = 3"
   ]
  },
  {
   "cell_type": "code",
   "execution_count": 86,
   "metadata": {
    "tags": []
   },
   "outputs": [],
   "source": [
    "..."
   ]
  },
  {
   "cell_type": "markdown",
   "metadata": {},
   "source": [
    "***Aufgabe 12. (Versandkosten)*** Für einen Food-Online-Shop sollen Sie ein Programm schreiben, dass die Versandkosten berechnet. Die Variable ``bill`` enthält die Summe der Preise aller gekauften Waren. Die Versandkosten betragen ``8.95`` Euro. Ab einem Einkaufswert von ``40`` Euro betragen die Versandkosten nur ``5.95`` Euro; ab einem Einkaufswert von ``50`` Euro werden keine Versandkosten berechnet.\n",
    "\n",
    "Deine Aufgabe ist es, ein Programm zu schreiben, dass die Versandkosten zum Preis (also zu der Zwischensumme) addiert und den (neuen) Gesamtpreis ausgibt. Weiterhin soll das Programm ggf. ausgeben, für wie viel Geld noch Waren gekauft werden müssen, damit die Bestellung versandkostenfrei geliefert wird bzw. nur 5,95 Euro beträgt.\n",
    "\n",
    "**Hinweis**: Nutze die Funktion `round()`. Der zweite Parameter für die Funktion `round()` gibt an, auf wie viele Nachkommastellen gerundet werden soll. Bsp: `round(1.2934,2)` ergibt `1.29`. Im Zusammenhang mit der Ausgabe von Geldbeträgen kann diese Funktion sehr sinnvoll sein.\n",
    "\n",
    "**Beispielausgabe für die Zwischensumme von 47.60 Euro:**\n",
    "\n",
    "``Wenn Sie weitere Waren im Wert von 2.4 Euro einkaufen, erfolgt der Versand kostenfrei.\n",
    "Gesamtpreis: 53.55 Euro``\n",
    "\n",
    "**Beispielausgabe für die Zwischensumme von 36.25 Euro:**\n",
    "\n",
    "``Wenn Sie weitere Waren im Wert von 3.75 Euro einkaufst, zahlen Sie für die Versandkosten nur 5.95 Euro. Wenn Sie weitere Waren im Wert von 13.75 Euro einkaufst, erfolgt der Versand kostenfrei.\n",
    "Gesamtpreis: 45.2 Euro``"
   ]
  },
  {
   "cell_type": "code",
   "execution_count": 100,
   "metadata": {
    "tags": []
   },
   "outputs": [],
   "source": [
    "def print_shipping_message(bill):\n",
    "    ..."
   ]
  },
  {
   "cell_type": "code",
   "execution_count": 101,
   "metadata": {},
   "outputs": [],
   "source": [
    "bill = 47.60\n",
    "print_shipping_message(bill)"
   ]
  },
  {
   "cell_type": "code",
   "execution_count": null,
   "metadata": {},
   "outputs": [],
   "source": [
    "bill = 36.25\n",
    "print_shipping_message(bill)"
   ]
  },
  {
   "cell_type": "markdown",
   "metadata": {},
   "source": [
    "***Aufgabe 13. (Öffnungszeiten)*** Schreiben Sie eine Funktion ``greetings(sunday, holiday)``, die Kunden eines Geschäfts grüßt.\n",
    "\n",
    "1. Handelt es sich beim aktuellen Tag um einen Sonntag, d.h. ``sunday==True`` so lautet die Ausgabe:\n",
    "``Wir haben geschlossen. Einen schönen Sonntag.``.\n",
    "2. Sofern es sich nur um einen Feiertag handelt, d.h. ``holiday==True`` und ``sunday==False`` so lautet die Ausgabe:\n",
    "``Wir haben geschlossen.``.\n",
    "3. Sonst lautet die Ausgabe:\n",
    "``Willkommen!``.\n",
    "\n",
    "\n",
    "**Ausgabe für Sonntag:**\n",
    "```Wir haben geschlossen. Einen schönen Sonntag.```\n",
    "\n",
    "**Ausgabe für einen Feiertag:**\n",
    "```Wir haben geschlossen.```\n",
    "\n",
    "**Ausgbe für einen Werktag:**\n",
    "```Willkommen!```\n",
    "\n",
    "\n",
    "Mache dir Gedanken dazu, inwiefern die Reihenfolge der Bedingungen eine Rolle spielt!"
   ]
  },
  {
   "cell_type": "code",
   "execution_count": 102,
   "metadata": {
    "tags": []
   },
   "outputs": [],
   "source": [
    "def greetings(sunday, holiday):\n",
    "    text = ''\n",
    "    ...\n",
    "    print(text)  "
   ]
  },
  {
   "cell_type": "code",
   "execution_count": 104,
   "metadata": {},
   "outputs": [],
   "source": [
    "greetings(True, True)\n",
    "greetings(True, False)\n",
    "greetings(False, True)\n",
    "greetings(True, False)\n",
    "greetings(False, False)"
   ]
  },
  {
   "cell_type": "markdown",
   "metadata": {},
   "source": [
    "***Aufgabe 14. (Häufigkeitsanalyse)*** Schreiben Sie eine Funktion ``count_words(text, pattern)``, die die Anzahl der Vorkommnisse der Zeichenfolge ``pattern`` im Text ``text`` berechnet und zurückliefert. Dabei soll die Groß- und Kleinschreibweise ignoriert werden. Hierfür kannst du die `.lower()`-Funktion verwenden.\n",
    "\n",
    "Öffne anschließend den text von TopicModellingPaper18, und ermittle, wie oft die Wörter \"topic\", \"word\" und \"frequency\" in diesem Paper vorkommen.\n",
    "\n",
    "**Hinweis:** Die Referenzen, Angaben zu den Autoren, Überschriften zählen wir jetzt mit dazu. In bestimmten Analyseverfahren werden diese Textelemente häufig ausgeschlossen.\n",
    "\n",
    "**Hinweis:** Mit `.count('data')` wird ausgegeben, wie oft der Teilstring `data` in einem String vorkommt. Wichtig: Diese Funktion unterscheidet zwischen Groß- und Kleinschreibung:"
   ]
  },
  {
   "cell_type": "code",
   "execution_count": 128,
   "metadata": {
    "tags": []
   },
   "outputs": [],
   "source": [
    "def count_words (text, pattern):\n",
    "    ...\n",
    "    \n",
    "with open(\"TopicModellingPaper18.txt\", encoding = \"utf-8\") as file:\n",
    "    content = file.read()\n",
    "    ..."
   ]
  },
  {
   "cell_type": "code",
   "execution_count": null,
   "metadata": {},
   "outputs": [],
   "source": [
    "#Beispiel mit .count()\n",
    "text = \"Data data-science dataanalyst data\"\n",
    "print(text.count(\"data\"))"
   ]
  },
  {
   "cell_type": "markdown",
   "metadata": {},
   "source": [
    "Die Ausgabe Ihrer Analyse sollte so aussehen:\n",
    "\n",
    "``190-mal kommt 'topic' vor.\n",
    "  91-mal kommt 'word' vor.\n",
    "  2-mal kommt 'frequency' vor.``"
   ]
  },
  {
   "cell_type": "markdown",
   "metadata": {},
   "source": [
    "**Hinweis:** Falls noch nicht gemacht, nutze die `for-Schleife`, um die einzelnen Wörter zu analysieren. "
   ]
  },
  {
   "cell_type": "code",
   "execution_count": null,
   "metadata": {},
   "outputs": [],
   "source": []
  },
  {
   "cell_type": "markdown",
   "metadata": {},
   "source": [
    "***Weitere Möglichkeiten:***\n",
    "Ausgabe der Analyse in eine eigene Datei schreiben oder die Liste an Wörtern, die analysiert werden sollen, beliebig erweitern lassen, indem Wörter individuell eingegeben werden können. Experimentieren Sie selbst ein wenig herum!"
   ]
  },
  {
   "cell_type": "code",
   "execution_count": null,
   "metadata": {},
   "outputs": [],
   "source": []
  },
  {
   "cell_type": "markdown",
   "metadata": {},
   "source": [
    "***Aufgabe 15. (Häufigkeitsanalyse aller Wörter)*** Schreiben Sie eine Funktion ``count_all_words(text)``, welche ein Wörterbuch ``dict`` zurückliefert wobei ``key`` ein Wort in ``text`` ist und dessen Wert ``value`` die Anzahl der Vorkommnisse in ``text`` ist. Verwenden Sie erneut die Datei \"TopicModellingPaper18.txt\" zum Testen.\n",
    "\n",
    "**Beachte:** Der Text enthält natürlich viele Satzzeichen. Sie müssen daher den Text zuerst an einem Leerzeichen trennen, und anschließend die ``word_cleaner`` Funktion (die bereits vorgegeben ist) verwenden, um Satzzeichen aus einem Wort zu entfernen. Diese Funktion entfernt alle Satzzeichen aus einem Wort, und gibt das Wort in Kleinbuchstaben zurück. Versuchen Sie als Erstes, diese Funktion nachzuvollziehen!\n",
    "Schreiben Sie daraufhin Ihre Funktion ``count_all_words(text)``. Wir ignorieren alle Wörter die Sonderzeichen enthalten, z.B. ``'wouldn't'`` oder ``'http:\\\\www.hm.cs.edu'``.\n",
    "\n",
    "**Hinweis 1:** Die Referenzen, Angaben zu den Autoren, Überschriften zählen wir mit dazu. \n",
    "\n",
    "**Hinweis 2:** Beachte, dass sich der leere String in deine Wörter einschleichen kann. Dieser zählt nicht als Wort!"
   ]
  },
  {
   "cell_type": "code",
   "execution_count": 133,
   "metadata": {
    "tags": []
   },
   "outputs": [],
   "source": [
    "def count_words(text, pattern):\n",
    "    return text.lower().count(pattern.lower())\n",
    "\n",
    "def word_cleaner(word):\n",
    "    allowed_characters = \"abcdefghijklmnopqrstuvwxyzüöäß\"\n",
    "    w = \"\"\n",
    "    for character in word.lower():\n",
    "        if character in allowed_characters:\n",
    "            w += character\n",
    "    return w\n",
    "        \n",
    "def count_all_words(text):\n",
    "    ...\n",
    "    \n",
    "with open(\"TopicModellingPaper18.txt\", encoding=\"utf-8\") as file:\n",
    "    content = file.read()\n",
    "    ..."
   ]
  },
  {
   "cell_type": "markdown",
   "metadata": {
    "deletable": false,
    "editable": false
   },
   "source": [
    "---\n",
    "\n",
    "To double-check your work, the cell below will rerun all of the autograder tests."
   ]
  },
  {
   "cell_type": "code",
   "execution_count": null,
   "metadata": {
    "deletable": false,
    "editable": false
   },
   "outputs": [],
   "source": [
    "grader.check_all()"
   ]
  },
  {
   "cell_type": "markdown",
   "metadata": {
    "deletable": false,
    "editable": false
   },
   "source": [
    "## Submission\n",
    "\n",
    "Make sure you have run all cells in your notebook in order before running the cell below, so that all images/graphs appear in the output. The cell below will generate a zip file for you to submit."
   ]
  },
  {
   "cell_type": "code",
   "execution_count": null,
   "metadata": {
    "deletable": false,
    "editable": false
   },
   "outputs": [],
   "source": [
    "grader.export(pdf=False, force_save=True)"
   ]
  },
  {
   "cell_type": "markdown",
   "metadata": {},
   "source": [
    " "
   ]
  }
 ],
 "metadata": {
  "kernelspec": {
   "display_name": "Python 3 (ipykernel)",
   "language": "python",
   "name": "python3"
  },
  "language_info": {
   "codemirror_mode": {
    "name": "ipython",
    "version": 3
   },
   "file_extension": ".py",
   "mimetype": "text/x-python",
   "name": "python",
   "nbconvert_exporter": "python",
   "pygments_lexer": "ipython3",
   "version": "3.9.5"
  },
  "otter": {
   "tests": {
    "q1": {
     "name": "q1",
     "points": null,
     "suites": [
      {
       "cases": [
        {
         "code": ">>> index_at(\"Hallo mein Name ist Hase\", \"a\") == 1\nTrue",
         "hidden": false,
         "locked": false
        },
        {
         "code": ">>> index_at(\"Hallo mein Name ist Hase\", \"m\") == 6\nTrue",
         "hidden": false,
         "locked": false
        },
        {
         "code": ">>> index_at(\"Hallo mein Name ist Hase\", \"H\") == 0\nTrue",
         "hidden": false,
         "locked": false
        },
        {
         "code": ">>> index_at(\"Hallo mein Name ist Hase\", \"s\") == 17\nTrue",
         "hidden": false,
         "locked": false
        }
       ],
       "scored": true,
       "setup": "",
       "teardown": "",
       "type": "doctest"
      }
     ]
    },
    "q2": {
     "name": "q2",
     "points": null,
     "suites": [
      {
       "cases": [
        {
         "code": ">>> yoda('') == ''\nTrue",
         "hidden": false,
         "locked": false
        },
        {
         "code": ">>> yoda('Hallo') == 'Hallo'\nTrue",
         "hidden": false,
         "locked": false
        },
        {
         "code": ">>> yoda('Hallo mein Name ist Hase') == 'Hase ist Name mein Hallo'\nTrue",
         "hidden": false,
         "locked": false
        }
       ],
       "scored": true,
       "setup": "",
       "teardown": "",
       "type": "doctest"
      }
     ]
    },
    "q4": {
     "name": "q4",
     "points": null,
     "suites": [
      {
       "cases": [
        {
         "code": ">>> mask([]) == []\nTrue",
         "hidden": false,
         "locked": false
        },
        {
         "code": ">>> mask([1,2,3,4]) == ['ungerade', 'gerade', 'ungerade', 'gerade']\nTrue",
         "hidden": false,
         "locked": false
        }
       ],
       "scored": true,
       "setup": "",
       "teardown": "",
       "type": "doctest"
      }
     ]
    },
    "q5": {
     "name": "q5",
     "points": null,
     "suites": [
      {
       "cases": [
        {
         "code": ">>> median([1,2,3]) == 2\nTrue",
         "hidden": false,
         "locked": false
        },
        {
         "code": ">>> median([1,2,3,5]) == (2+3)/2.0\nTrue",
         "hidden": false,
         "locked": false
        },
        {
         "code": ">>> import random\n>>> temp_list1 = [1,2,3,5]\n>>> random.shuffle(temp_list1)\n>>> median(temp_list1) == (2+3)/2.0\nTrue",
         "hidden": false,
         "locked": false
        },
        {
         "code": ">>> import random\n>>> temp_list2 = [-3,1,2,3,5]\n>>> random.shuffle(temp_list2)\n>>> median(temp_list2) == 2\nTrue",
         "hidden": false,
         "locked": false
        }
       ],
       "scored": true,
       "setup": "",
       "teardown": "",
       "type": "doctest"
      }
     ]
    }
   }
  }
 },
 "nbformat": 4,
 "nbformat_minor": 4
}
