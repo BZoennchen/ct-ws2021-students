{
 "cells": [
  {
   "cell_type": "code",
   "execution_count": null,
   "id": "smoking-nickname",
   "metadata": {
    "deletable": false,
    "editable": false
   },
   "outputs": [],
   "source": [
    "# Initialize Otter\n",
    "import otter\n",
    "grader = otter.Notebook(\"CTWS2021-1-Template.ipynb\")"
   ]
  },
  {
   "cell_type": "markdown",
   "id": "broadband-polls",
   "metadata": {},
   "source": [
    "# 1. Variablen\n",
    "\n",
    "*Variablen* können wir uns intuitiv zunächst als Namen oder Bezeichnung eines Wertes vorstellen.\n",
    "Mit diesem Namen können wir einen Wert im *Arbeitsspeicherspeicher* des Computers identifizieren.\n",
    "So können wir uns Zwischenergebnisse merken und damit weiter rechnen.\n",
    "\n",
    "## 1.1 Initialisierung und Zuweisung\n",
    "\n",
    "Durch das ``=`` Zeichen weisen wir einer *Variablen* auf der linken Seite den Wert des *Ausdrucks* auf der rechten Seite zu: ``[Variable] = [Ausdruck]``.\n",
    "Zum Beispiel, weist"
   ]
  },
  {
   "cell_type": "code",
   "execution_count": 70,
   "id": "temporal-terrorism",
   "metadata": {},
   "outputs": [],
   "source": [
    "x = 3 + 10"
   ]
  },
  {
   "cell_type": "markdown",
   "id": "urban-invention",
   "metadata": {},
   "source": [
    "den ausgewerteten Wert ``3 + 10`` also ``13`` der Variablen ``x`` zu.\n",
    "Der Ausdruck ``3 + 10`` wird vor der Zuweisung ausgewertet / berechnet.\n",
    "Es ist äußerst wichtig, dass die den zwischen dem ``=`` und dem mathematischen $=$ unterscheiden.\n",
    "\n",
    "$$x = 13$$\n",
    "\n",
    "bedeutet, dass $x$ gleich $13$ ist, wohingegen"
   ]
  },
  {
   "cell_type": "code",
   "execution_count": 71,
   "id": "waiting-attribute",
   "metadata": {},
   "outputs": [],
   "source": [
    "x = 13"
   ]
  },
  {
   "cell_type": "markdown",
   "id": "cardiovascular-average",
   "metadata": {},
   "source": [
    "den Wert der Variablen ``x`` auf ``13`` setzt oder genaue die Variable auf einen Speicherbereich verweisen lässt, welcher den Wert ``13`` enthält.\n",
    "Um das mathematisch auszurücken verwendet man oft $\\leftarrow$, also \n",
    "\n",
    "$$x \\leftarrow 13.$$\n",
    "\n",
    "Dies verdeutlicht, dass es sich um eine *Zuweisung* handelt. Mit"
   ]
  },
  {
   "cell_type": "code",
   "execution_count": 72,
   "id": "attractive-baptist",
   "metadata": {},
   "outputs": [],
   "source": [
    "x = None"
   ]
  },
  {
   "cell_type": "markdown",
   "id": "voluntary-denial",
   "metadata": {},
   "source": [
    "weisen wir ``x`` den Wert ``None`` d.h. 'Nichts' zu. Doch ist dieses 'Nichts' nicht nichts ;). Versuchen wir eine *Variable* zu verarbeiten, die noch nicht initialisiert wurde, so erhalten wir einen Fehler:"
   ]
  },
  {
   "cell_type": "code",
   "execution_count": 133,
   "id": "beginning-inquiry",
   "metadata": {},
   "outputs": [
    {
     "ename": "NameError",
     "evalue": "name 'v' is not defined",
     "output_type": "error",
     "traceback": [
      "\u001b[0;31m---------------------------------------------------------------------------\u001b[0m",
      "\u001b[0;31mNameError\u001b[0m                                 Traceback (most recent call last)",
      "\u001b[0;32m<ipython-input-133-4f5acf813e7b>\u001b[0m in \u001b[0;36m<module>\u001b[0;34m\u001b[0m\n\u001b[0;32m----> 1\u001b[0;31m \u001b[0mv\u001b[0m \u001b[0;34m+\u001b[0m \u001b[0;36m20\u001b[0m\u001b[0;34m\u001b[0m\u001b[0;34m\u001b[0m\u001b[0m\n\u001b[0m",
      "\u001b[0;31mNameError\u001b[0m: name 'v' is not defined"
     ]
    }
   ],
   "source": [
    "v + 20"
   ]
  },
  {
   "cell_type": "markdown",
   "id": "equipped-brave",
   "metadata": {},
   "source": [
    "Hierbei kommt es zu dem Fehler ``name 'v' is not defined``, da die *Variable* ``v`` noch nicht *initialisiert* wurde.\n",
    "\n",
    "In ``Python`` reicht es wenn Sie der *Variablen* einen Wert zuweisen.\n",
    "Sie wird automatisch erzeugt, d.h., *initialisiert*.\n",
    "Besitzt Sie noch keinen Wert so existiert sie auch nicht bzw. ist noch nicht *initialisiert*."
   ]
  },
  {
   "cell_type": "markdown",
   "id": "arabic-quantity",
   "metadata": {},
   "source": [
    "## 1.2 Variablen und der Arbeitsspeicher\n",
    "\n",
    "Eine *Variable* können wir als Paar von **Wert** und **Arbeitsspeicheradresse** verstehen.\n",
    "Der **Wert** der *Variablen* steht im *Arbeitspeicher* an einer bestimmten **Arbeitsspeicheradresse**.\n",
    "*Variablen* abstrahieren diesen Zusammenhang, sodass Sie uns die Arbeit mit dem *Arbeitsspeicher* erleichtern.\n",
    "\n",
    "Mit"
   ]
  },
  {
   "cell_type": "code",
   "execution_count": 134,
   "id": "liked-prospect",
   "metadata": {},
   "outputs": [],
   "source": [
    "x = 25"
   ]
  },
  {
   "cell_type": "markdown",
   "id": "alien-inclusion",
   "metadata": {},
   "source": [
    "Wird der **Wert** ``25`` in den Arbeitsspeicher an eine freie **Speicheradresse** geschrieben. Diese **Adresse** erhält die *Variable* ``x``. ``x`` *zeigt* auf den Speicherbereich in dem der **Wert** ``25`` steht!\n",
    "\n",
    "Folgende Abbildung verdeutlicht die Situation:\n",
    "\n",
    "![Zuweisung und Initialisierung](figs/variable.png)"
   ]
  },
  {
   "cell_type": "markdown",
   "id": "radio-excerpt",
   "metadata": {},
   "source": [
    "``id``: Mit der *built-in*-Funktion ``id`` (*Identität)* können Sie sich eine Identifikationsnummer einer Variablen ausgeben lassen. Für zwei *Variablen* ist diese genau dann gleich, wenn deren **Arbeitsspeicheradressen** gleich sind."
   ]
  },
  {
   "cell_type": "code",
   "execution_count": 135,
   "id": "promotional-hygiene",
   "metadata": {},
   "outputs": [
    {
     "name": "stdout",
     "output_type": "stream",
     "text": [
      "4450884656\n",
      "4450884656\n"
     ]
    }
   ],
   "source": [
    "x = 25\n",
    "z = 25\n",
    "print(id(x))\n",
    "print(id(z))"
   ]
  },
  {
   "cell_type": "markdown",
   "id": "sustainable-covering",
   "metadata": {},
   "source": [
    "Sie sehen dass die ``id`` der Variablen ``x`` und ``z`` identisch sind. Ebenso ist ihr Wert identisch.\n",
    "Diese Situation sieht demnach wie folgt aus:\n",
    "\n",
    "![Identische Id](figs/variable-equal-id.png)"
   ]
  },
  {
   "cell_type": "markdown",
   "id": "right-receiver",
   "metadata": {},
   "source": [
    "``Python``-erkennt, dass es ausreicht, wenn beide *Variablen* auf den gleichen Speicherbereich zeigen. Wir als Programmierer\\*innen bekommen davon gar nichts mit. Verändern wir den Wert von ``z`` dann verändert sich auch deren ``id``:"
   ]
  },
  {
   "cell_type": "code",
   "execution_count": 136,
   "id": "qualified-joining",
   "metadata": {
    "scrolled": true
   },
   "outputs": [
    {
     "name": "stdout",
     "output_type": "stream",
     "text": [
      "4450884656\n",
      "4450884624\n"
     ]
    }
   ],
   "source": [
    "x = 25\n",
    "z = 24\n",
    "print(id(x))\n",
    "print(id(z))"
   ]
  },
  {
   "cell_type": "markdown",
   "id": "underlying-strike",
   "metadata": {},
   "source": [
    "Die Situation könnte in etwa wie folgt aussehen:\n",
    "\n",
    "![nicht identische Id](figs/variable-unequal-id.png)"
   ]
  },
  {
   "cell_type": "markdown",
   "id": "central-detail",
   "metadata": {},
   "source": [
    "**Achtung:** Ist die ``id`` zweier Variablen identisch, so ist auch deren Wert identisch. Jedoch kann der Wert der Variablen identisch sein und deren ``id`` nicht. Beispiel:"
   ]
  },
  {
   "cell_type": "code",
   "execution_count": 137,
   "id": "quantitative-communication",
   "metadata": {},
   "outputs": [
    {
     "name": "stdout",
     "output_type": "stream",
     "text": [
      "4525046832\n",
      "4525046448\n"
     ]
    }
   ],
   "source": [
    "x = 2131313\n",
    "z = 2131313\n",
    "print(id(x))\n",
    "print(id(z))"
   ]
  },
  {
   "cell_type": "markdown",
   "id": "requested-search",
   "metadata": {},
   "source": [
    "Hmm?? \n",
    "Warum war die ``id`` beim Wert ``25`` identisch aber beim Wert ``2131313`` nicht?\n",
    "Hier kommen wir in tiefen Details von ``Python``, welche fürs erste nicht so wichtig sind.\n",
    "Zur Optimierung der Laufzeit legt ``Python`` alle kleinen ganze Zahlen bei Start der Ausführung in den Speicher, sodass Speicherplatz gespart wird.\n",
    "Das geht jedoch nur für eine endliche Anzahl an Zahlen (deshalb für die ersten $k$ kleinen Zahlen). \n",
    "``2131313`` zählt nicht dazu und somit wird der Wert jedesmal neu in den Speicher geschrieben."
   ]
  },
  {
   "cell_type": "markdown",
   "id": "contrary-coffee",
   "metadata": {},
   "source": [
    "Folgender Code berechnet die erste Zahl die nicht bereits bei der Ausführung im Speicher liegt:"
   ]
  },
  {
   "cell_type": "code",
   "execution_count": 138,
   "id": "adaptive-bahamas",
   "metadata": {
    "scrolled": true
   },
   "outputs": [
    {
     "data": {
      "text/plain": [
       "257"
      ]
     },
     "execution_count": 138,
     "metadata": {},
     "output_type": "execute_result"
    }
   ],
   "source": [
    "x = 0\n",
    "z = 0\n",
    "while(id(x) == id(z)):\n",
    "    x = x + 1\n",
    "    z = z + 1\n",
    "x"
   ]
  },
  {
   "cell_type": "markdown",
   "id": "afraid-virgin",
   "metadata": {},
   "source": [
    "Wie sieht es mit negativen Zahlen aus?:"
   ]
  },
  {
   "cell_type": "code",
   "execution_count": 139,
   "id": "prescribed-phone",
   "metadata": {
    "scrolled": true
   },
   "outputs": [
    {
     "data": {
      "text/plain": [
       "-6"
      ]
     },
     "execution_count": 139,
     "metadata": {},
     "output_type": "execute_result"
    }
   ],
   "source": [
    "x = 0\n",
    "z = 0\n",
    "while(id(x) == id(z)):\n",
    "    x = x - 1\n",
    "    z = z - 1\n",
    "x"
   ]
  },
  {
   "cell_type": "markdown",
   "id": "occupied-negotiation",
   "metadata": {},
   "source": [
    "## 1.3 Veränderung"
   ]
  },
  {
   "cell_type": "markdown",
   "id": "miniature-terminal",
   "metadata": {},
   "source": [
    "Wie der Name bereits betont, sind *Variablen* **variabel** und können somit verändert werden.\n",
    "Wir müssen jedoch zwischen zwei Veränderungen einer Variablen ``x`` unterscheiden:\n",
    "\n",
    "1. der Veränderung ihrer Wertes ``x``\n",
    "2. der Veränderung ihrer Speicheradresse ``id(x)`` (die auf den Wert zeigt)\n",
    "\n",
    "### 1.3.1 Zuweisung eines neuen Werts\n",
    "\n",
    "Eine *Variable* kann immer nur einen **Wert** bzw. auf einen bestimmten Speicherbereich *zeigen*.\n",
    "Weisen wir einer *Variablen* erneut einen **Wert** zu, wird dieser **Wert** in den Speicher an eine freie **Adresse** geschrieben und die **Adresse** der Variablen auf jene neue **Adresse** gesetzt."
   ]
  },
  {
   "cell_type": "code",
   "execution_count": 140,
   "id": "signed-elimination",
   "metadata": {},
   "outputs": [
    {
     "name": "stdout",
     "output_type": "stream",
     "text": [
      "value of half = 0.5\n",
      "id of half = 4525046192\n",
      "value of x = 25\n",
      "id of x = 4450884656\n",
      "value of x = 24\n",
      "id of x = 4450884624\n"
     ]
    }
   ],
   "source": [
    "half = 1/2\n",
    "print(f'value of half = {half}')\n",
    "print(f'id of half = {id(half)}')\n",
    "\n",
    "x = 25\n",
    "print(f'value of x = {x}')\n",
    "print(f'id of x = {id(x)}')\n",
    "\n",
    "x = 24\n",
    "print(f'value of x = {x}')\n",
    "print(f'id of x = {id(x)}')"
   ]
  },
  {
   "cell_type": "markdown",
   "id": "applied-designation",
   "metadata": {},
   "source": [
    "Veränderungen der einen *Variablen* haben keinen Effekt auf die **Adresse** bzw. *Identität ``id`` anderer *Variablen*."
   ]
  },
  {
   "cell_type": "code",
   "execution_count": 141,
   "id": "essential-procurement",
   "metadata": {
    "scrolled": true
   },
   "outputs": [
    {
     "name": "stdout",
     "output_type": "stream",
     "text": [
      "value of half = 0.5\n",
      "id of half = 4525046192\n"
     ]
    }
   ],
   "source": [
    "print(f'value of half = {half}')\n",
    "print(f'id of half = {id(half)}')"
   ]
  },
  {
   "cell_type": "markdown",
   "id": "informational-institute",
   "metadata": {},
   "source": [
    "Verändern wir *Variablen* nicht so behalten ihre **Adresse** über das gesamte Notebook hinweg."
   ]
  },
  {
   "cell_type": "markdown",
   "id": "golden-receptor",
   "metadata": {},
   "source": [
    "### 1.3.2 Zuweisung einer neuen Adresse\n",
    "\n",
    "Weisen wir einer Variblen ``x`` eine andere Variable ``y`` zu, so ändern wir die **Adresse** von ``x`` auf jene von ``y``. Das heißt, nach der *Zuweisung* zeigen beide Variablen auf den gleichen Speicherbereich und damit auf den gleichen **Wert**."
   ]
  },
  {
   "cell_type": "code",
   "execution_count": 142,
   "id": "dietary-joint",
   "metadata": {
    "scrolled": true
   },
   "outputs": [
    {
     "name": "stdout",
     "output_type": "stream",
     "text": [
      "value of x = 2131313\n",
      "id of x = 4525046480\n",
      "value of y = 10\n",
      "id of y = 4450884176\n",
      "value of z = 2131313\n",
      "id of z = 4525047280\n"
     ]
    }
   ],
   "source": [
    "x = 2131313\n",
    "y = 10\n",
    "z = 2131313\n",
    "\n",
    "print(f'value of x = {x}')\n",
    "print(f'id of x = {id(x)}')\n",
    "\n",
    "print(f'value of y = {y}')\n",
    "print(f'id of y = {id(y)}')\n",
    "\n",
    "print(f'value of z = {z}')\n",
    "print(f'id of z = {id(z)}')"
   ]
  },
  {
   "cell_type": "code",
   "execution_count": 143,
   "id": "crucial-nature",
   "metadata": {},
   "outputs": [
    {
     "name": "stdout",
     "output_type": "stream",
     "text": [
      "value of x = 2131313\n",
      "id of x = 4525046480\n",
      "value of y = 2131313\n",
      "id of y = 4525046480\n",
      "value of z = 2131313\n",
      "id of z = 4525047280\n"
     ]
    }
   ],
   "source": [
    "y = x\n",
    "\n",
    "print(f'value of x = {x}')\n",
    "print(f'id of x = {id(x)}')\n",
    "\n",
    "print(f'value of y = {y}')\n",
    "print(f'id of y = {id(y)}')\n",
    "\n",
    "print(f'value of z = {z}')\n",
    "print(f'id of z = {id(z)}')"
   ]
  },
  {
   "cell_type": "markdown",
   "id": "desirable-garden",
   "metadata": {},
   "source": [
    "***\n",
    "***Aufgabe 1.*** Betrachten Sie folgenden Code. Geben Sie an welche *Variablen* die gleiche ``id`` besitzten und welche nicht. Welche Variablen besitzten den gleichen Wert und welche nicht?"
   ]
  },
  {
   "cell_type": "code",
   "execution_count": 144,
   "id": "adequate-mistress",
   "metadata": {},
   "outputs": [],
   "source": [
    "x = 1.1231\n",
    "y = 1.1231\n",
    "z = x\n",
    "k = z + 1"
   ]
  },
  {
   "cell_type": "markdown",
   "id": "broke-assessment",
   "metadata": {},
   "source": [
    "_Type your answer here, replacing this text._"
   ]
  },
  {
   "cell_type": "markdown",
   "id": "liberal-treatment",
   "metadata": {
    "tags": [
     "otter_assign_solution_cell"
    ]
   },
   "source": [
    "Die Variablen ``x`` und ``z`` haben die gleiche ``id`` und somit auch den gleichen Wert. ``y`` besitzt den gleichen Wert wie ``x`` und ``z`` jedoch eine andere ``id``. Der Wert wie auch die ``id`` der Variable ``k`` ist verschienden von allen anderen."
   ]
  },
  {
   "cell_type": "code",
   "execution_count": 145,
   "id": "satisfactory-norfolk",
   "metadata": {
    "tags": [
     "otter_assign_solution_cell"
    ]
   },
   "outputs": [
    {
     "name": "stdout",
     "output_type": "stream",
     "text": [
      "4525046576\n",
      "4525046544\n",
      "4525046576\n",
      "4525045552\n"
     ]
    }
   ],
   "source": [
    "print(id(x)) # SOLUTION\n",
    "print(id(y)) # SOLUTION\n",
    "print(id(z)) # SOLUTION\n",
    "print(id(k)) # SOLUTION"
   ]
  },
  {
   "cell_type": "markdown",
   "id": "exact-artwork",
   "metadata": {},
   "source": [
    "***Aufgabe 2.*** Hat ein Wert wie zum Beispiel ``25`` eine ``id``? Wenn ja warum und wenn nein warum nicht?"
   ]
  },
  {
   "cell_type": "markdown",
   "id": "provincial-queen",
   "metadata": {},
   "source": [
    "_Type your answer here, replacing this text._"
   ]
  },
  {
   "cell_type": "markdown",
   "id": "official-council",
   "metadata": {
    "tags": [
     "otter_assign_solution_cell"
    ]
   },
   "source": [
    "Auch ein Wert der keiner Variablen zugewiesen wurde hat eine ``id`` denn auch dieser Wert steht irgendwo im Arbeitspeicher."
   ]
  },
  {
   "cell_type": "code",
   "execution_count": 146,
   "id": "southwest-encoding",
   "metadata": {
    "tags": [
     "otter_assign_solution_cell"
    ]
   },
   "outputs": [
    {
     "data": {
      "text/plain": [
       "4450884656"
      ]
     },
     "execution_count": 146,
     "metadata": {},
     "output_type": "execute_result"
    }
   ],
   "source": [
    "id(25)"
   ]
  },
  {
   "cell_type": "markdown",
   "id": "french-representation",
   "metadata": {},
   "source": [
    "***Aufgabe 3.*** Weshalb ist der Wert der Variablen ``x`` nach der Ausführung des folgenden Codes noch immer ``42``. Beschreiben Sie was im **Arbeitsspeicher** passiert und auf was die Variablen zeigen."
   ]
  },
  {
   "cell_type": "code",
   "execution_count": 147,
   "id": "innovative-charm",
   "metadata": {},
   "outputs": [
    {
     "data": {
      "text/plain": [
       "42"
      ]
     },
     "execution_count": 147,
     "metadata": {},
     "output_type": "execute_result"
    }
   ],
   "source": [
    "x = 24\n",
    "z = 42\n",
    "x = z\n",
    "z = 33\n",
    "x"
   ]
  },
  {
   "cell_type": "markdown",
   "id": "exotic-twelve",
   "metadata": {},
   "source": [
    "_Type your answer here, replacing this text._"
   ]
  },
  {
   "cell_type": "markdown",
   "id": "aerial-disease",
   "metadata": {
    "tags": [
     "otter_assign_solution_cell"
    ]
   },
   "source": [
    "1. ``x`` erhält den Wert ``24`` durch die Adresse die auf ``24`` im Speicher zeigt.\n",
    "2. ``z`` erhält den Wert ``42`` durch die Adresse die auf ``42`` im Speicher zeigt.\n",
    "3. Die Speicheraddresse von ``x`` wird auf die von ``z`` geändert, damit zeigt ``x`` auf ``42``.\n",
    "4. Die Speicheraddresse von ``z`` wird auf jene geändert die ``33`` den Wert ``33`` enthält, diese Adresse ist von der die ``42`` enthält unterschiedlich. ``x`` bleibt unverändert. "
   ]
  },
  {
   "cell_type": "markdown",
   "id": "pointed-efficiency",
   "metadata": {},
   "source": [
    "***"
   ]
  },
  {
   "cell_type": "markdown",
   "id": "fixed-wright",
   "metadata": {},
   "source": [
    "### 1.3.3 Seiteneffekte"
   ]
  },
  {
   "cell_type": "markdown",
   "id": "normal-treasury",
   "metadata": {},
   "source": [
    "Wie bereits erwähnt: Verändern wir eine *Variable* so können wir dadurch nicht die **Adresse** / *Identität* ``id`` einer anderen Variablen ändern! Wie verhält es sich jedoch mit dem **Wert** einer *Variablen*?\n",
    "\n",
    "Die Antwort ist etwas komplizierter und ist erst dann begreiflich wenn wir das Thema Datentypen besprechen. Dennoch versuchen wir unser Glück:\n",
    "\n",
    "Eine Variable kann nicht nur einen einzelnen atomaren **Wert** wie eine Zahl enthalten, sondern auch einen **Wert** der sich aus anderen **Werten** zusammensetzt. Zum Beispiel:"
   ]
  },
  {
   "cell_type": "code",
   "execution_count": 148,
   "id": "noted-mechanism",
   "metadata": {},
   "outputs": [
    {
     "data": {
      "text/plain": [
       "[1, 2, 3, 4, 5]"
      ]
     },
     "execution_count": 148,
     "metadata": {},
     "output_type": "execute_result"
    }
   ],
   "source": [
    "x = [1,2,3,4,5]\n",
    "x"
   ]
  },
  {
   "cell_type": "markdown",
   "id": "chief-swing",
   "metadata": {},
   "source": [
    "Der Variablen ``x`` weisen wir hierbei eine sog. *Liste* ``list`` zu, also eine geordnete Menge an Zahlen. In unserem Fall besteht die Liste und somit ``x`` aus den Werten ``1, 2, 3, 4`` und ``5``.\n",
    "\n",
    "Um auf einen bestimmten **Wert** der Liste zuzugreifen brauchen wir seinen Index. Zum Beispiel liefert uns der Index ``1`` den Wert ``2``:"
   ]
  },
  {
   "cell_type": "code",
   "execution_count": 149,
   "id": "focal-guide",
   "metadata": {},
   "outputs": [
    {
     "data": {
      "text/plain": [
       "2"
      ]
     },
     "execution_count": 149,
     "metadata": {},
     "output_type": "execute_result"
    }
   ],
   "source": [
    "x[1]"
   ]
  },
  {
   "cell_type": "markdown",
   "id": "skilled-dressing",
   "metadata": {},
   "source": [
    "Wie sieht das nun im Speicher aus??? Welche Adresse hat ``x`` und wie sieht der Speicher an der Adresse von ``x`` aus? Der Aufruf"
   ]
  },
  {
   "cell_type": "code",
   "execution_count": 150,
   "id": "lovely-penalty",
   "metadata": {},
   "outputs": [
    {
     "data": {
      "text/plain": [
       "4518658688"
      ]
     },
     "execution_count": 150,
     "metadata": {},
     "output_type": "execute_result"
    }
   ],
   "source": [
    "id(x)"
   ]
  },
  {
   "cell_type": "markdown",
   "id": "egyptian-steal",
   "metadata": {},
   "source": [
    "Liefert uns eine ``id``, allerdings lieft uns der Aufruf"
   ]
  },
  {
   "cell_type": "code",
   "execution_count": 151,
   "id": "metropolitan-illinois",
   "metadata": {
    "scrolled": true
   },
   "outputs": [
    {
     "data": {
      "text/plain": [
       "4450883920"
      ]
     },
     "execution_count": 151,
     "metadata": {},
     "output_type": "execute_result"
    }
   ],
   "source": [
    "id(x[1])"
   ]
  },
  {
   "cell_type": "markdown",
   "id": "elementary-paragraph",
   "metadata": {},
   "source": [
    "ebenfalls eine (andere) ``id``."
   ]
  },
  {
   "cell_type": "code",
   "execution_count": 152,
   "id": "electrical-terrain",
   "metadata": {},
   "outputs": [
    {
     "data": {
      "text/plain": [
       "4450883952"
      ]
     },
     "execution_count": 152,
     "metadata": {},
     "output_type": "execute_result"
    }
   ],
   "source": [
    "id(x[2])"
   ]
  },
  {
   "cell_type": "markdown",
   "id": "aggregate-lithuania",
   "metadata": {},
   "source": [
    "Eine Liste ``list`` mit $n$ Elementen besteht in ``Python`` aus $n$ Adressen. Jede dieser Adressen zeigt auf den Wert des Listenelements. Das heißt, eigentlich sieht unsere Liste ``x`` wie folgt aus:\n",
    "\n",
    "```python\n",
    "[id(x[0]), id(x[1]), id(x[2]), id(x[3]), id(x[4])]\n",
    "```\n",
    "\n",
    "Doch ``Python`` vereinfacht uns den Umgang mit Listen und verbirgt diese Tatsache geschickt.\n",
    "\n",
    "Was aber passiert mit ``x`` wenn wir eines seiner Listenelemente verändern? Hier wird es spannend:"
   ]
  },
  {
   "cell_type": "code",
   "execution_count": 153,
   "id": "medieval-mongolia",
   "metadata": {},
   "outputs": [
    {
     "name": "stdout",
     "output_type": "stream",
     "text": [
      "value of x = [1, 2, 3, 4, 5]\n",
      "id of x = 4518658688\n",
      "value of x[1] = 2\n",
      "id of x[1] = 4450883920\n",
      "\n",
      "value of x = [1, -10, 3, 4, 5]\n",
      "id of x = 4518658688\n",
      "value of x[1] = -10\n",
      "id of x[1] = 4525047696\n"
     ]
    }
   ],
   "source": [
    "print(f'value of x = {x}')\n",
    "print(f'id of x = {id(x)}')\n",
    "\n",
    "print(f'value of x[1] = {x[1]}')\n",
    "print(f'id of x[1] = {id(x[1])}')\n",
    "\n",
    "print()\n",
    "\n",
    "x[1] = -10\n",
    "print(f'value of x = {x}')\n",
    "print(f'id of x = {id(x)}')\n",
    "\n",
    "print(f'value of x[1] = {x[1]}')\n",
    "print(f'id of x[1] = {id(x[1])}')"
   ]
  },
  {
   "cell_type": "markdown",
   "id": "white-guide",
   "metadata": {},
   "source": [
    "Die Adresse von ``x`` ändert sich nicht!!! Es ändert sich nur die Adresse von ``x[1]``!!! Mit anderen Worten durch die *Zuweisung* von ``x[1] = -10`` wird keine neue Liste im Speicher angelegt sondern nur ein neues Element!\n",
    "\n",
    "Warum? Listen können groß werden und würden wir bei jeder Änderung eines Listenelements die gesamte Liste im Speicher kopieren, wäre das zu teuer was die Laufzeit angeht.\n",
    "\n",
    "Dieses Verhalten hat jedoch Konsequenzen!"
   ]
  },
  {
   "cell_type": "markdown",
   "id": "diverse-message",
   "metadata": {},
   "source": [
    "***\n",
    "***Aufgabe 4.*** Blicken Sie auf folgenden Code. Weisen Sie ``z`` eine Liste zu die eine andere ``id`` aber den gleichen **Wert** wie ``y`` hat. Lassen Sie sich zunächst ``y`` **nicht** ausgeben!"
   ]
  },
  {
   "cell_type": "code",
   "execution_count": 198,
   "id": "adverse-links",
   "metadata": {},
   "outputs": [],
   "source": [
    "x = [1, 2, 3]\n",
    "y = [x, x, [1,2,3]]\n",
    "x[0] = -10"
   ]
  },
  {
   "cell_type": "code",
   "execution_count": 199,
   "id": "athletic-confidence",
   "metadata": {
    "tags": [
     "otter_assign_solution_cell"
    ]
   },
   "outputs": [],
   "source": [
    "z = [[-10, 2, 3], [-10, 2, 3], [1,2,3]] # SOLUTION"
   ]
  },
  {
   "cell_type": "code",
   "execution_count": null,
   "id": "limited-frank",
   "metadata": {
    "deletable": false,
    "editable": false
   },
   "outputs": [],
   "source": [
    "grader.check(\"q4\")"
   ]
  },
  {
   "cell_type": "markdown",
   "id": "graphic-appearance",
   "metadata": {},
   "source": [
    "***"
   ]
  },
  {
   "cell_type": "markdown",
   "id": "warming-meditation",
   "metadata": {},
   "source": [
    "Solche Veränderungen eines Wertes einer Variablen durch die Veränderung eines Werts einer anderen Variablen, nennen wir *Seiteneffekt*."
   ]
  },
  {
   "cell_type": "markdown",
   "id": "traditional-softball",
   "metadata": {},
   "source": [
    "# 2. Ausdrücke\n",
    "\n",
    "Jedes Programm, bzw. jeder Algorithmus besteht aus vielen *Ausdrücken*. Ein *Ausdruck* beschreibt wie Daten (die Eingabe) verarbeitet werden sollen. Durch eine *Abfolge von Ausdrücken* werden Daten immer und immer weiter verarbeitet. Die Initialisierung und Zuweisung einer *Variablen*"
   ]
  },
  {
   "cell_type": "code",
   "execution_count": 158,
   "id": "twenty-kenya",
   "metadata": {},
   "outputs": [],
   "source": [
    "x = 42"
   ]
  },
  {
   "cell_type": "markdown",
   "id": "stock-arcade",
   "metadata": {},
   "source": [
    "ist ein Ausdruck (engl. Expression). Die Multiplikation "
   ]
  },
  {
   "cell_type": "code",
   "execution_count": 159,
   "id": "separated-tyler",
   "metadata": {},
   "outputs": [
    {
     "data": {
      "text/plain": [
       "15"
      ]
     },
     "execution_count": 159,
     "metadata": {},
     "output_type": "execute_result"
    }
   ],
   "source": [
    "3 * 5"
   ]
  },
  {
   "cell_type": "markdown",
   "id": "knowing-offset",
   "metadata": {},
   "source": [
    "ist beispielsweise ein Ausdruck der zwei Dezimalzahlen multipliziert. Der Ausdruck besteht aus dem Symbol ``*`` und zwei nummerischen Werten (Zahlen). \n",
    "\n",
    "``[Zahl] * [Zahl]``\n",
    "\n",
    "Die Multiplikation wird durch den Computer, genauer die CPU berechnet. ``3 * 5`` ergibt ``15``. Die Zeichenfolge muss *syntatisch* korrekt sein, damit diese auch als Ausdruck vom Computer (bzw. Interpreter) verstanden wird. Die Zeichenfolge"
   ]
  },
  {
   "cell_type": "code",
   "execution_count": 160,
   "id": "lovely-federal",
   "metadata": {},
   "outputs": [
    {
     "ename": "SyntaxError",
     "evalue": "invalid syntax (<ipython-input-160-a03b9e7879f4>, line 1)",
     "output_type": "error",
     "traceback": [
      "\u001b[0;36m  File \u001b[0;32m\"<ipython-input-160-a03b9e7879f4>\"\u001b[0;36m, line \u001b[0;32m1\u001b[0m\n\u001b[0;31m    3 * * 5\u001b[0m\n\u001b[0m        ^\u001b[0m\n\u001b[0;31mSyntaxError\u001b[0m\u001b[0;31m:\u001b[0m invalid syntax\n"
     ]
    }
   ],
   "source": [
    "3 * * 5"
   ]
  },
  {
   "cell_type": "markdown",
   "id": "military-sugar",
   "metadata": {},
   "source": [
    "ist kein *syntaktisch* korrekter ``Python``-Ausdruck, was Ihnen die Fehlermeldung auch zu verstehen gibt. Die gewählte Programmiersprache bestimmt welche Zeichenfolge *syntaktisch* korrekt ist. Bereits kleiner Änderungen an der *Syntax* können zu einer neuen *Bedeutung (Semantik)* führen. In Python die Zeichenkette"
   ]
  },
  {
   "cell_type": "code",
   "execution_count": 161,
   "id": "popular-general",
   "metadata": {},
   "outputs": [
    {
     "data": {
      "text/plain": [
       "243"
      ]
     },
     "execution_count": 161,
     "metadata": {},
     "output_type": "execute_result"
    }
   ],
   "source": [
    "3 ** 5"
   ]
  },
  {
   "cell_type": "markdown",
   "id": "technical-present",
   "metadata": {},
   "source": [
    "ein *syntaktisch* valider Ausdruck und *bedeutet* $3^5$ was $243$ ergibt.\n",
    "\n",
    "*Ausdrücke* können sich aus weiteren *Ausdrücken* zusammensetzten."
   ]
  },
  {
   "cell_type": "code",
   "execution_count": 162,
   "id": "extended-keeping",
   "metadata": {
    "scrolled": true
   },
   "outputs": [
    {
     "data": {
      "text/plain": [
       "8"
      ]
     },
     "execution_count": 162,
     "metadata": {},
     "output_type": "execute_result"
    }
   ],
   "source": [
    "3 + 5"
   ]
  },
  {
   "cell_type": "markdown",
   "id": "banned-beginning",
   "metadata": {},
   "source": [
    "ist ein Ausdruck"
   ]
  },
  {
   "cell_type": "code",
   "execution_count": 163,
   "id": "experimental-washington",
   "metadata": {},
   "outputs": [
    {
     "data": {
      "text/plain": [
       "24"
      ]
     },
     "execution_count": 163,
     "metadata": {},
     "output_type": "execute_result"
    }
   ],
   "source": [
    "4 * 6"
   ]
  },
  {
   "cell_type": "markdown",
   "id": "incorporate-stretch",
   "metadata": {},
   "source": [
    "ebenfalls und"
   ]
  },
  {
   "cell_type": "code",
   "execution_count": 164,
   "id": "small-announcement",
   "metadata": {},
   "outputs": [
    {
     "data": {
      "text/plain": [
       "-16"
      ]
     },
     "execution_count": 164,
     "metadata": {},
     "output_type": "execute_result"
    }
   ],
   "source": [
    "3 + 5 - 4 * 6"
   ]
  },
  {
   "cell_type": "markdown",
   "id": "quarterly-official",
   "metadata": {},
   "source": [
    "auch."
   ]
  },
  {
   "cell_type": "markdown",
   "id": "finnish-switzerland",
   "metadata": {},
   "source": [
    "### 2.1 Arithmetische Operatoren\n",
    "\n",
    "Die Multiplikation ``*`` wie auch die Potenz ``**`` bezeichnen wir als *arithmetische Operatoren*, da sie numerische Werte (Zahlen) verarbeiten.\n",
    "Es gibt jedoch noch eine ganze Reihe von weiteren *arithmetische Operatoren*:\n",
    "\n",
    "| Operator |     Beschreibung     |  Beispiel  |                     Bedeutung                        |\n",
    "| :------: | :------------------: | :--------: | :--------------------------------------------------: |\n",
    "|   `+`    |       Addition       | ``3 + 4``  |                      $3 + 4$                         |\n",
    "|   `-`    |     Subtraktion      | ``3 - 4``  |                      $3 - 4$                         |\n",
    "|   `*`    |    Multiplikation    | ``3 * 4``  |                    $3 \\cdot 4$                       |\n",
    "|   `/`    |       Division       | ``3 / 4``  |                      $3 / 4$                         |\n",
    "|   `**`   |     Potenzierung     |  ``3**4``  |                       $3^4$                          |\n",
    "|   `//`   | ganzzahlige Division | ``3 // 4`` |         $\\left \\lfloor{3/4}\\right \\rfloor$           |\n",
    "|   `%`    |        Modulo        | ``10 % 4`` | $$10 - (4 \\cdot \\left \\lfloor{10/4}\\right \\rfloor)$$ |\n",
    "\n",
    "Jeder dieser Operatoren ``op`` erwartet zwei Zahlen, eine links und eine rechts vom jeweiligen Operator.\n",
    "Die Bedeutung der Modulo-Operation sieht kompliziert aus doch bedeutet dies schlicht, dass der Rest ``10 % 4`` der ganzzahlige Rest der *Restwertdivision* ist.\n",
    "Die ganzzahlige Division rundet das Ergebnis der Division auf die nächst kleinere ganze Zahl (Integer)."
   ]
  },
  {
   "cell_type": "code",
   "execution_count": 165,
   "id": "completed-buddy",
   "metadata": {
    "scrolled": true
   },
   "outputs": [
    {
     "data": {
      "text/plain": [
       "-1"
      ]
     },
     "execution_count": 165,
     "metadata": {},
     "output_type": "execute_result"
    }
   ],
   "source": [
    "-2 // 3"
   ]
  },
  {
   "cell_type": "code",
   "execution_count": 166,
   "id": "established-democracy",
   "metadata": {},
   "outputs": [
    {
     "data": {
      "text/plain": [
       "-0.6666666666666666"
      ]
     },
     "execution_count": 166,
     "metadata": {},
     "output_type": "execute_result"
    }
   ],
   "source": [
    "-2 / 3"
   ]
  },
  {
   "cell_type": "code",
   "execution_count": 167,
   "id": "abroad-president",
   "metadata": {
    "scrolled": true
   },
   "outputs": [
    {
     "data": {
      "text/plain": [
       "0"
      ]
     },
     "execution_count": 167,
     "metadata": {},
     "output_type": "execute_result"
    }
   ],
   "source": [
    "2 // 3"
   ]
  },
  {
   "cell_type": "code",
   "execution_count": 168,
   "id": "desperate-onion",
   "metadata": {},
   "outputs": [
    {
     "data": {
      "text/plain": [
       "0.6666666666666666"
      ]
     },
     "execution_count": 168,
     "metadata": {},
     "output_type": "execute_result"
    }
   ],
   "source": [
    "2 / 3"
   ]
  },
  {
   "cell_type": "code",
   "execution_count": 4,
   "id": "precise-consortium",
   "metadata": {
    "scrolled": true
   },
   "outputs": [
    {
     "data": {
      "text/plain": [
       "4"
      ]
     },
     "execution_count": 4,
     "metadata": {},
     "output_type": "execute_result"
    }
   ],
   "source": [
    "14 % 5"
   ]
  },
  {
   "cell_type": "code",
   "execution_count": 7,
   "id": "future-victoria",
   "metadata": {},
   "outputs": [
    {
     "data": {
      "text/plain": [
       "4"
      ]
     },
     "execution_count": 7,
     "metadata": {},
     "output_type": "execute_result"
    }
   ],
   "source": [
    "14 - (14 // 5)*5"
   ]
  },
  {
   "cell_type": "code",
   "execution_count": 15,
   "id": "final-sleeping",
   "metadata": {},
   "outputs": [
    {
     "data": {
      "text/plain": [
       "True"
      ]
     },
     "execution_count": 15,
     "metadata": {},
     "output_type": "execute_result"
    }
   ],
   "source": [
    "x = 12314\n",
    "y = 7\n",
    "\n",
    "x % y == x - (x // y) * y"
   ]
  },
  {
   "cell_type": "markdown",
   "id": "waiting-agent",
   "metadata": {},
   "source": [
    "Die Addition und Subtraktion von Fließkommazahlen kann zu merkwürdigen Ergebnissen führen. Dazu später mehr:"
   ]
  },
  {
   "cell_type": "code",
   "execution_count": 36,
   "id": "shared-dividend",
   "metadata": {},
   "outputs": [
    {
     "data": {
      "text/plain": [
       "0.30000000000000004"
      ]
     },
     "execution_count": 36,
     "metadata": {},
     "output_type": "execute_result"
    }
   ],
   "source": [
    "0.1 + 0.2"
   ]
  },
  {
   "cell_type": "code",
   "execution_count": 37,
   "id": "frank-comparative",
   "metadata": {},
   "outputs": [
    {
     "data": {
      "text/plain": [
       "False"
      ]
     },
     "execution_count": 37,
     "metadata": {},
     "output_type": "execute_result"
    }
   ],
   "source": [
    "0.1 + 0.2 == 0.3 # False!?"
   ]
  },
  {
   "cell_type": "code",
   "execution_count": 39,
   "id": "expanded-philippines",
   "metadata": {},
   "outputs": [
    {
     "data": {
      "text/plain": [
       "0.5"
      ]
     },
     "execution_count": 39,
     "metadata": {},
     "output_type": "execute_result"
    }
   ],
   "source": [
    "0.1 + 0.4"
   ]
  },
  {
   "cell_type": "code",
   "execution_count": 40,
   "id": "restricted-respondent",
   "metadata": {},
   "outputs": [
    {
     "data": {
      "text/plain": [
       "True"
      ]
     },
     "execution_count": 40,
     "metadata": {},
     "output_type": "execute_result"
    }
   ],
   "source": [
    "0.1 + 0.4 == 0.5 # True"
   ]
  },
  {
   "cell_type": "markdown",
   "id": "automatic-capacity",
   "metadata": {},
   "source": [
    "***\n",
    "***Aufgabe 5.*** Finden Sie heraus wie ``Python`` arithmetische Operationen priorisiert.\n",
    "Zum Beispiel ist\n",
    "\n",
    "```python\n",
    "3 + 3 * 5**4\n",
    "````\n",
    "\n",
    "gleich\n",
    "\n",
    "$$3 + 3 \\cdot 5^4$$\n",
    "\n",
    "oder, zum Beispiel,\n",
    "\n",
    "$$((3 + 3) \\cdot 5)^4?$$\n",
    "\n",
    "Notieren sie die Prioritäten von der höchsten zur niedrigsten Priorität."
   ]
  },
  {
   "cell_type": "markdown",
   "id": "reported-courtesy",
   "metadata": {},
   "source": [
    "_Type your answer here, replacing this text._"
   ]
  },
  {
   "cell_type": "markdown",
   "id": "little-chicago",
   "metadata": {
    "tags": [
     "otter_assign_solution_cell"
    ]
   },
   "source": [
    "Der obige Ausdruck entspricht $3 + 3 \\cdot 5^4 = 3 + (3 \\cdot (5^4))$\n",
    "Prioritäten der arithmetischen Operationen in ``Python`` sind so wie wir sie gewohnt sind:\n",
    "\n",
    "``**``, ``*`` bzw. ``/``, ``+`` bzw. ``-``."
   ]
  },
  {
   "cell_type": "markdown",
   "id": "patient-coaching",
   "metadata": {},
   "source": [
    "***Aufgabe 6.*** Eine Person dreht sich um ``x`` Grad im Kreis. Bestimmen Sie wie viele abgeschlossene Umdrehungen ``cycles`` sie gemacht hat. Wie viel Grad ``rest`` haben für die letzte volle Umdrehung gefehlt?"
   ]
  },
  {
   "cell_type": "code",
   "execution_count": 41,
   "id": "official-louis",
   "metadata": {
    "tags": [
     "otter_assign_solution_cell"
    ]
   },
   "outputs": [],
   "source": [
    "x = 3141 # Grad\n",
    "cycles = x // 360 # SOLUTION\n",
    "rest = x % 360 # SOLUTION"
   ]
  },
  {
   "cell_type": "code",
   "execution_count": null,
   "id": "referenced-safety",
   "metadata": {
    "deletable": false,
    "editable": false
   },
   "outputs": [],
   "source": [
    "grader.check(\"q6\")"
   ]
  },
  {
   "cell_type": "markdown",
   "id": "demographic-headquarters",
   "metadata": {},
   "source": [
    "***Aufgabe 7.*** Berechnen Sie folgenden Ausdruck\n",
    "\n",
    "$$(5 - 9^2 \\cdot 3)^3$$\n",
    "\n",
    "und weisen Sie das Ergebnis der Variable ``x`` zu."
   ]
  },
  {
   "cell_type": "code",
   "execution_count": 169,
   "id": "adult-nickname",
   "metadata": {
    "tags": [
     "otter_assign_solution_cell"
    ]
   },
   "outputs": [],
   "source": [
    "x = (5 - 9**2 * 3)**3 # SOLUTION"
   ]
  },
  {
   "cell_type": "code",
   "execution_count": null,
   "id": "advanced-decline",
   "metadata": {
    "deletable": false,
    "editable": false
   },
   "outputs": [],
   "source": [
    "grader.check(\"q7\")"
   ]
  },
  {
   "cell_type": "markdown",
   "id": "controlling-payday",
   "metadata": {},
   "source": [
    "***Aufgabe 8.*** Berechnen Sie folgenden Ausdruck\n",
    "\n",
    "$$10^6 - 10^{-10}$$\n",
    "\n",
    "und \n",
    "\n",
    "$$10^6 - 10^{-11}$$\n",
    "\n",
    "und weisen Sie das erste Ergebnis der Variable ``x`` und das zweite Ergebnis der Variable ``y`` zu.\n",
    "Lassen Sie sich ``x`` und ``y`` ausgeben. Was beobachten Sie?"
   ]
  },
  {
   "cell_type": "code",
   "execution_count": 171,
   "id": "random-officer",
   "metadata": {
    "tags": [
     "otter_assign_solution_cell"
    ]
   },
   "outputs": [
    {
     "data": {
      "text/plain": [
       "999999.9999999999"
      ]
     },
     "execution_count": 171,
     "metadata": {},
     "output_type": "execute_result"
    }
   ],
   "source": [
    "x = 10**6 - 10**(-10) # SOLUTION\n",
    "x"
   ]
  },
  {
   "cell_type": "code",
   "execution_count": 172,
   "id": "seeing-guitar",
   "metadata": {
    "tags": [
     "otter_assign_solution_cell"
    ]
   },
   "outputs": [
    {
     "data": {
      "text/plain": [
       "1000000.0"
      ]
     },
     "execution_count": 172,
     "metadata": {},
     "output_type": "execute_result"
    }
   ],
   "source": [
    "y = 10**6 - 10**(-11) # SOLUTION\n",
    "y"
   ]
  },
  {
   "cell_type": "code",
   "execution_count": null,
   "id": "silver-agenda",
   "metadata": {
    "deletable": false,
    "editable": false
   },
   "outputs": [],
   "source": [
    "grader.check(\"q8\")"
   ]
  },
  {
   "cell_type": "markdown",
   "id": "certified-chicago",
   "metadata": {},
   "source": [
    "***Aufgabe 9.*** Berechnen Sie die Wurzel aus $2$ und weisen Sie das Ergebnis der Variable ``z`` zu. Repräsentiert der Wert der Variable wirklich $\\sqrt{2}$? Warum bzw. warum nicht?"
   ]
  },
  {
   "cell_type": "code",
   "execution_count": 175,
   "id": "greatest-complement",
   "metadata": {
    "scrolled": true,
    "tags": [
     "otter_assign_solution_cell"
    ]
   },
   "outputs": [],
   "source": [
    "z = 2**(0.5) # SOLUTION"
   ]
  },
  {
   "cell_type": "code",
   "execution_count": null,
   "id": "duplicate-location",
   "metadata": {
    "deletable": false,
    "editable": false
   },
   "outputs": [],
   "source": [
    "grader.check(\"q9\")"
   ]
  },
  {
   "cell_type": "markdown",
   "id": "constitutional-method",
   "metadata": {},
   "source": [
    "***"
   ]
  },
  {
   "cell_type": "markdown",
   "id": "central-assault",
   "metadata": {},
   "source": [
    "### 2.2 Vergleichsoperatoren\n",
    "\n",
    "Objekte können über Vergleichsoperatoren miteinander verglichen werden. Das Ergebnis ist ein Boolscher Wert.\n",
    "\n",
    "| Operator  | Beschreibung                      |\n",
    "| :-------: | :-------------------------------- |\n",
    "| `x == y ` | ist `x` gleich `y`?               |\n",
    "| `x != y`  | ist `x` ungleich `y`?             |\n",
    "|  `x > y`  | ist `x` größer als `y`?           |\n",
    "| `x >= y`  | ist `x` größer oder gleich `y`?   |\n",
    "|  `x < y`  | ist `x` kleiner `y`?              |\n",
    "| `x <= y`  | ist `x` kleiner gleich `y`?       |\n",
    "| `x is y`  | ist `x` das selbe Objekt wie `y`? |\n",
    "\n",
    "Erneut ist ``Python`` hier ein wenig speziell indem es die mathematische Schreibweise $0 < x < 5$ anstatt $0 < x \\ \\land \\ x < 5$ zulässt.\n",
    "Dies erhöht die Lesbarkeit, da wir solche Verkettungen von Vergleichsoperatoren gewohnt sind.\n",
    "\n"
   ]
  },
  {
   "cell_type": "code",
   "execution_count": 177,
   "id": "mediterranean-columbia",
   "metadata": {},
   "outputs": [
    {
     "data": {
      "text/plain": [
       "False"
      ]
     },
     "execution_count": 177,
     "metadata": {},
     "output_type": "execute_result"
    }
   ],
   "source": [
    "5 > 7"
   ]
  },
  {
   "cell_type": "code",
   "execution_count": 178,
   "id": "developmental-benchmark",
   "metadata": {
    "scrolled": true
   },
   "outputs": [
    {
     "data": {
      "text/plain": [
       "True"
      ]
     },
     "execution_count": 178,
     "metadata": {},
     "output_type": "execute_result"
    }
   ],
   "source": [
    "5 < 7"
   ]
  },
  {
   "cell_type": "code",
   "execution_count": 179,
   "id": "flexible-poker",
   "metadata": {
    "scrolled": true
   },
   "outputs": [
    {
     "data": {
      "text/plain": [
       "True"
      ]
     },
     "execution_count": 179,
     "metadata": {},
     "output_type": "execute_result"
    }
   ],
   "source": [
    "5 <= 7"
   ]
  },
  {
   "cell_type": "code",
   "execution_count": 180,
   "id": "legitimate-nebraska",
   "metadata": {
    "scrolled": true
   },
   "outputs": [
    {
     "data": {
      "text/plain": [
       "True"
      ]
     },
     "execution_count": 180,
     "metadata": {},
     "output_type": "execute_result"
    }
   ],
   "source": [
    "5 == 5"
   ]
  },
  {
   "cell_type": "code",
   "execution_count": 181,
   "id": "freelance-redhead",
   "metadata": {
    "scrolled": false
   },
   "outputs": [
    {
     "data": {
      "text/plain": [
       "False"
      ]
     },
     "execution_count": 181,
     "metadata": {},
     "output_type": "execute_result"
    }
   ],
   "source": [
    "5 == -5"
   ]
  },
  {
   "cell_type": "code",
   "execution_count": 46,
   "id": "legal-electronics",
   "metadata": {},
   "outputs": [
    {
     "data": {
      "text/plain": [
       "False"
      ]
     },
     "execution_count": 46,
     "metadata": {},
     "output_type": "execute_result"
    }
   ],
   "source": [
    "0.1 + 0.2 == 0.3 # Achtung!!! Gleichheit auf Fließkommazahlen ist ungeeignet."
   ]
  },
  {
   "cell_type": "code",
   "execution_count": 47,
   "id": "chief-decade",
   "metadata": {},
   "outputs": [
    {
     "data": {
      "text/plain": [
       "True"
      ]
     },
     "execution_count": 47,
     "metadata": {},
     "output_type": "execute_result"
    }
   ],
   "source": [
    "epsilon = 1e-10\n",
    "0.3 - epsilon < 0.1 + 0.2 < 0.3 + epsilon # Besser einen Bereich prüfen"
   ]
  },
  {
   "cell_type": "markdown",
   "id": "grave-mathematics",
   "metadata": {},
   "source": [
    "Der Ausdruck"
   ]
  },
  {
   "cell_type": "code",
   "execution_count": 182,
   "id": "comprehensive-victim",
   "metadata": {},
   "outputs": [
    {
     "data": {
      "text/plain": [
       "True"
      ]
     },
     "execution_count": 182,
     "metadata": {},
     "output_type": "execute_result"
    }
   ],
   "source": [
    "5 < 7 < 10"
   ]
  },
  {
   "cell_type": "markdown",
   "id": "accepted-expense",
   "metadata": {},
   "source": [
    "hat die gleiche *Bedeutung* wie der Ausdruck"
   ]
  },
  {
   "cell_type": "code",
   "execution_count": 183,
   "id": "heavy-crazy",
   "metadata": {},
   "outputs": [
    {
     "data": {
      "text/plain": [
       "True"
      ]
     },
     "execution_count": 183,
     "metadata": {},
     "output_type": "execute_result"
    }
   ],
   "source": [
    "5 < 7 and 7 < 10"
   ]
  },
  {
   "cell_type": "markdown",
   "id": "rural-temperature",
   "metadata": {},
   "source": [
    "*Vergleichsoperatoren* können auch auf anderen Datentypen als numerische Werte (ganze Zahlen ``int``, Fließkommazahlen ``float``) definiert sein.\n",
    "So können wir in ``Python`` auch Zeichenketten ``str`` mit den Vergleichsoperatoren lexikographisch vergleichen:"
   ]
  },
  {
   "cell_type": "code",
   "execution_count": 184,
   "id": "residential-privacy",
   "metadata": {
    "scrolled": true
   },
   "outputs": [
    {
     "data": {
      "text/plain": [
       "True"
      ]
     },
     "execution_count": 184,
     "metadata": {},
     "output_type": "execute_result"
    }
   ],
   "source": [
    "'Anna' < 'Emma' # True"
   ]
  },
  {
   "cell_type": "markdown",
   "id": "ongoing-designer",
   "metadata": {},
   "source": [
    "***\n",
    "***Aufgabe 10.*** In der folgenden Zelle berechnen wir\n",
    "\n",
    "$$\\sqrt{2} + 2 - \\sqrt{2} - 2 = 0$$\n",
    "\n",
    "jedoch erhalten wir nicht $0$ sondern eine sehr kleine negative Zahl. Schreiben Sie einen Ausdruck der prüft ob ``x`` fast gleich ``0`` ist."
   ]
  },
  {
   "cell_type": "code",
   "execution_count": 48,
   "id": "detected-devices",
   "metadata": {
    "scrolled": true
   },
   "outputs": [
    {
     "data": {
      "text/plain": [
       "-2.220446049250313e-16"
      ]
     },
     "execution_count": 48,
     "metadata": {},
     "output_type": "execute_result"
    }
   ],
   "source": [
    "x = 2**(0.5) + 2 - 2**(0.5) - 2\n",
    "x"
   ]
  },
  {
   "cell_type": "code",
   "execution_count": 186,
   "id": "timely-quantum",
   "metadata": {
    "tags": [
     "otter_assign_solution_cell"
    ]
   },
   "outputs": [
    {
     "data": {
      "text/plain": [
       "True"
      ]
     },
     "execution_count": 186,
     "metadata": {},
     "output_type": "execute_result"
    }
   ],
   "source": [
    "epsilon = 0.00001 # SOLUTION\n",
    "-epsilon < x < epsilon # SOLUTION"
   ]
  },
  {
   "cell_type": "markdown",
   "id": "aware-radius",
   "metadata": {},
   "source": [
    "***"
   ]
  },
  {
   "cell_type": "markdown",
   "id": "colored-ozone",
   "metadata": {},
   "source": [
    "Was ist der Unterschied zwischen ``is`` und ``==``?\n",
    "Die Funktion ``id(x)`` gibt eine eindeutige *Id* des Objekts ``x`` zurück. Diese ist vergleichbar mit der Arbeitsspeicheradresse an der das Objekt ``x`` im Speicher beginnt.\n",
    "``x is y`` ist genau dann ``True`` wenn diese *Id* für beide Objekte gleich ist, wenn also ``id(x) == id(y)``.\n",
    "Ist diese *Id* nicht gleich aber an beiden unterschiedlichen Stellen im Speicher liegt der gleiche Wert dann ist ``x is y`` gleich ``False`` aber ``x == y`` ist ``True``."
   ]
  },
  {
   "cell_type": "markdown",
   "id": "separate-ebony",
   "metadata": {},
   "source": [
    "***\n",
    "***Aufgabe 11.*** Führen Sie folgenden Code aus. Was folgt aus der Ausgabe die der Code generiert?"
   ]
  },
  {
   "cell_type": "code",
   "execution_count": 187,
   "id": "diverse-residence",
   "metadata": {},
   "outputs": [],
   "source": [
    "x = 1\n",
    "y = 1"
   ]
  },
  {
   "cell_type": "code",
   "execution_count": 188,
   "id": "reverse-terry",
   "metadata": {},
   "outputs": [
    {
     "name": "stdout",
     "output_type": "stream",
     "text": [
      "True\n",
      "True\n",
      "True\n"
     ]
    }
   ],
   "source": [
    "print(x is y)\n",
    "print(id(x) == id(y))\n",
    "print(x == y)"
   ]
  },
  {
   "cell_type": "markdown",
   "id": "boolean-empty",
   "metadata": {},
   "source": [
    "_Type your answer here, replacing this text._"
   ]
  },
  {
   "cell_type": "markdown",
   "id": "living-rainbow",
   "metadata": {
    "tags": [
     "otter_assign_solution_cell"
    ]
   },
   "source": [
    "Die Variablen ``x`` und ``y`` zeigen auf den gleichen Speicherbereich."
   ]
  },
  {
   "cell_type": "markdown",
   "id": "preliminary-airfare",
   "metadata": {},
   "source": [
    "***Aufgabe 12.*** Führen Sie folgenden Code aus. Was folgt aus der Ausgabe die der Code generiert?"
   ]
  },
  {
   "cell_type": "code",
   "execution_count": 189,
   "id": "verified-buffer",
   "metadata": {},
   "outputs": [
    {
     "name": "stdout",
     "output_type": "stream",
     "text": [
      "False\n",
      "False\n",
      "True\n"
     ]
    }
   ],
   "source": [
    "x = 1\n",
    "y = 1.0\n",
    "print(x is y)\n",
    "print(id(x) == id(y))\n",
    "print(x == y)"
   ]
  },
  {
   "cell_type": "markdown",
   "id": "reduced-fields",
   "metadata": {},
   "source": [
    "_Type your answer here, replacing this text._"
   ]
  },
  {
   "cell_type": "markdown",
   "id": "excessive-wrist",
   "metadata": {
    "tags": [
     "otter_assign_solution_cell"
    ]
   },
   "source": [
    "Die **Werte** der Variablen ``x`` und ``y`` stehen an verschiedenen Stellen im Speicher. Sie werden von der Vergleichsoperation ``==`` als gleich angesehen doch sind ``x`` und ``y`` nicht identisch."
   ]
  },
  {
   "cell_type": "markdown",
   "id": "basic-heater",
   "metadata": {},
   "source": [
    "***"
   ]
  },
  {
   "cell_type": "markdown",
   "id": "frank-defense",
   "metadata": {},
   "source": [
    "### 2.3 Logische (Boolsche) Operatoren"
   ]
  },
  {
   "cell_type": "markdown",
   "id": "running-purpose",
   "metadata": {},
   "source": [
    "Der obige *Ausdruck* "
   ]
  },
  {
   "cell_type": "code",
   "execution_count": 190,
   "id": "floral-optimum",
   "metadata": {},
   "outputs": [
    {
     "data": {
      "text/plain": [
       "True"
      ]
     },
     "execution_count": 190,
     "metadata": {},
     "output_type": "execute_result"
    }
   ],
   "source": [
    "5 < 7 and 7 < 10"
   ]
  },
  {
   "cell_type": "markdown",
   "id": "bored-verification",
   "metadata": {},
   "source": [
    "besteht aus den *Ausdrücken* ``5 < 7`` und ``7 < 10`` die dem logischen ``and``-Operator verknüpft werden.\n",
    "Dieser erwartet auf der linken und rechte Seite jeweils einen Wahrheitswert (*boolschen Ausdruck*). *Vergleichsoperatoren* liefern sind *boolsche Ausdrücke*."
   ]
  },
  {
   "cell_type": "code",
   "execution_count": 191,
   "id": "marine-respondent",
   "metadata": {},
   "outputs": [
    {
     "data": {
      "text/plain": [
       "True"
      ]
     },
     "execution_count": 191,
     "metadata": {},
     "output_type": "execute_result"
    }
   ],
   "source": [
    "exp1 = True\n",
    "exp2 = 5 < 6\n",
    "exp1 and exp2"
   ]
  },
  {
   "cell_type": "markdown",
   "id": "fantastic-hampshire",
   "metadata": {},
   "source": [
    "ergibt genau dann ``True`` wenn die Auswertung von ``exp1`` und ``exp2`` jeweils ``True`` ergeben.\n",
    "Es gibt drei logische Operatoren:\n",
    "\n",
    "| Operator  | Beschreibung                                               |\n",
    "| :-------: | :--------------------------------------------------------- |\n",
    "|  `not x`  | ist `True` genau dann wenn `x == False`.                   |\n",
    "| `x and y` | ist `True` genau dann wenn `x == True` und `y == True`.    |\n",
    "| `x or y`  | ist `True` genau dann wenn ``x == True`` oder `y == True`. |"
   ]
  },
  {
   "cell_type": "markdown",
   "id": "vital-answer",
   "metadata": {},
   "source": [
    "***\n",
    "***Aufgabe 13.*** Angenommen Sie haben zwei logische Ausdrücke ``exp1`` und ``exp2``. Schreiben Sie einen logischen Ausdruck der genau dann ``True`` ergibt wenn entweder ``exp1`` oder ``exp2`` ``True`` sind jedoch nicht beide (exklusives Oder)."
   ]
  },
  {
   "cell_type": "code",
   "execution_count": 51,
   "id": "painful-savannah",
   "metadata": {
    "tags": [
     "otter_assign_solution_cell"
    ]
   },
   "outputs": [
    {
     "data": {
      "text/plain": [
       "True"
      ]
     },
     "execution_count": 51,
     "metadata": {},
     "output_type": "execute_result"
    }
   ],
   "source": [
    "expr1 = True\n",
    "expr2 = False\n",
    "expr1 and not expr2 or not expr1 and expr2 # SOLUTION"
   ]
  },
  {
   "cell_type": "markdown",
   "id": "israeli-conversation",
   "metadata": {},
   "source": [
    "***"
   ]
  },
  {
   "cell_type": "markdown",
   "id": "aware-acoustic",
   "metadata": {},
   "source": [
    "### 2.4 Bitoperatoren\n",
    "\n",
    "Der Vollständigkeit listen wir auch noch die *Bitoperatoren* auf.\n",
    "Diese sind dazu vorgesehen um den Wert in *Binärdarstellung* zu manipulieren.\n",
    "\n",
    "Jeder Wert egal ob Zahl, Zeichen, Bild, Ton wir als Binärcode im Speicher abgelegt.\n",
    "*Bitoperatoren* nehmen diesen Binärwert und verarbeiten bzw. kombinieren ihn genau wie die Addition zwei Zahlen in der Dezimalschreibweise verarbeitet.\n",
    "\n",
    "Dabei wird jedes Bit des einen Werts mit dem *Bit* des anderen Werts kombiniert.\n",
    "Zum Beispiel ``5 & 4`` führt eine führ jedes Bit die ``and`` Operation aus.\n",
    "Das nennen wir Verundung."
   ]
  },
  {
   "cell_type": "code",
   "execution_count": 197,
   "id": "powerful-funds",
   "metadata": {},
   "outputs": [
    {
     "data": {
      "text/plain": [
       "4"
      ]
     },
     "execution_count": 197,
     "metadata": {},
     "output_type": "execute_result"
    }
   ],
   "source": [
    "5 & 4"
   ]
  },
  {
   "cell_type": "markdown",
   "id": "confirmed-denial",
   "metadata": {},
   "source": [
    "führt eine Verundung der Binärzahlen $5_{10} = 101_2$ mit $4_{10} = 100_2$ durch und ergibt demnach $100_2$, was wiederum gleich $4_{10}$ ist.\n",
    "\n",
    "| Operator | Beschreibung                                       | Beispiel | Ergebnis |\n",
    "| :------: | :------------------------------------------------- | :------- | :------- |\n",
    "| `x & y`  | Verundung von `x` mit `y`                          | `10 & 3` | `2`      |\n",
    "| `x \\| y`  | Veroderung von `x` mit `y`                         | `10 \\| 3` | `11`     |\n",
    "| `x ^ y`  | exklusive Veroderung von `x`  mit `y`              | `10 ^ 3` | `9`      |\n",
    "| `x << y` | Bitverschiebung von `x` um `y` Stellen nach links  | `8 << 3` | `64`     |\n",
    "| `x >> y` | Bitverschiebung von `x` um `y` Stellen nach rechts | `8 >> 2` | `2`      |\n",
    "\n",
    "Weshalb ist ``10 ^ 3`` gleich ``9``?\n",
    "Nun $10_{10} = 01010_2$ und $3_{10} = 00011_2$.\n",
    "Das exklusive oder bedeutet gesprochen **entweder oder**, d.h. ein Bit wird zur 1 genau dann wenn das Bit der einen Zahl gleich 1 und das Bit der anderen Zahl gleich 0 ist oder genau anders herum.\n",
    "Dies ergibt $01001_2 = 9_{10}$.\n",
    "\n",
    "Für ganze Zahlen entspricht die Bitverschiebung nach rechts um ein Bit der Multiplikation mit 2.\n",
    "Die Verschiebung nach rechts um ein Bit hingegen der *ganzzahligen Division* durch 2.\n",
    "Deshalb ist `8 << 3` gleich $8 \\cdot 2 \\cdot 2 \\cdot 2 = 8 \\cdot 2^3 = 64$ und ``8 >> 2`` gleich $\\left \\lfloor{8 \\cdot 2^{-2}}\\right \\rfloor = 2$."
   ]
  },
  {
   "cell_type": "markdown",
   "id": "sized-hazard",
   "metadata": {},
   "source": [
    "***\n",
    "***Aufgabe 14.*** Berechnen Sie $x \\leftarrow 2^{10}$ unter Verwendung der Bitverschiebung."
   ]
  },
  {
   "cell_type": "code",
   "execution_count": 53,
   "id": "likely-energy",
   "metadata": {
    "tags": [
     "otter_assign_solution_cell"
    ]
   },
   "outputs": [],
   "source": [
    "x = 2 << 9 # SOLUTION"
   ]
  },
  {
   "cell_type": "code",
   "execution_count": null,
   "id": "liable-coaching",
   "metadata": {
    "deletable": false,
    "editable": false
   },
   "outputs": [],
   "source": [
    "grader.check(\"q14\")"
   ]
  },
  {
   "cell_type": "markdown",
   "id": "brave-vienna",
   "metadata": {},
   "source": [
    "***\n",
    "***Aufgabe 15.*** Angenommen die Variablen ``x`` und ``y`` haben jeweils eine ganze Zahl als **Wert**, sodass beide dieser Zahlen in der Binärdarstellung an keiner Stelle ein gleiches Bit besitzten. Zum Beispiel:\n",
    "\n",
    "$$x \\leftarrow 5_{10} = 0101_2 \\text{ und } y \\leftarrow 10_{10} = 1010_2.$$\n",
    "\n",
    "Mit welcher Bitoperation könnten Sie die Addition ``x + y`` berechnen? Testen Sie diesen Sachverhalt."
   ]
  },
  {
   "cell_type": "markdown",
   "id": "false-sight",
   "metadata": {},
   "source": [
    "_Type your answer here, replacing this text._"
   ]
  },
  {
   "cell_type": "markdown",
   "id": "irish-situation",
   "metadata": {
    "tags": [
     "otter_assign_solution_cell"
    ]
   },
   "source": [
    "Die Veroderung würde die Addition realisieren. Zum Beispiel:"
   ]
  },
  {
   "cell_type": "code",
   "execution_count": 56,
   "id": "apparent-admission",
   "metadata": {
    "tags": [
     "otter_assign_solution_cell"
    ]
   },
   "outputs": [
    {
     "data": {
      "text/plain": [
       "15"
      ]
     },
     "execution_count": 56,
     "metadata": {},
     "output_type": "execute_result"
    }
   ],
   "source": [
    "x = 5  # SOLUTION\n",
    "y = 10 # SOLUTION\n",
    "x | y # SOLUTION"
   ]
  },
  {
   "cell_type": "markdown",
   "id": "introductory-retailer",
   "metadata": {},
   "source": [
    "***"
   ]
  },
  {
   "cell_type": "markdown",
   "id": "median-deviation",
   "metadata": {
    "deletable": false,
    "editable": false
   },
   "source": [
    "---\n",
    "\n",
    "To double-check your work, the cell below will rerun all of the autograder tests."
   ]
  },
  {
   "cell_type": "code",
   "execution_count": null,
   "id": "biblical-examination",
   "metadata": {
    "deletable": false,
    "editable": false
   },
   "outputs": [],
   "source": [
    "grader.check_all()"
   ]
  },
  {
   "cell_type": "markdown",
   "id": "covered-rapid",
   "metadata": {
    "deletable": false,
    "editable": false
   },
   "source": [
    "## Submission\n",
    "\n",
    "Make sure you have run all cells in your notebook in order before running the cell below, so that all images/graphs appear in the output. The cell below will generate a zip file for you to submit."
   ]
  },
  {
   "cell_type": "code",
   "execution_count": null,
   "id": "naval-typing",
   "metadata": {
    "deletable": false,
    "editable": false
   },
   "outputs": [],
   "source": [
    "grader.export(pdf=False, force_save=True)"
   ]
  },
  {
   "cell_type": "markdown",
   "id": "gross-legislature",
   "metadata": {},
   "source": [
    " "
   ]
  }
 ],
 "metadata": {
  "kernelspec": {
   "display_name": "Python 3",
   "language": "python",
   "name": "python3"
  },
  "language_info": {
   "codemirror_mode": {
    "name": "ipython",
    "version": 3
   },
   "file_extension": ".py",
   "mimetype": "text/x-python",
   "name": "python",
   "nbconvert_exporter": "python",
   "pygments_lexer": "ipython3",
   "version": "3.9.6"
  },
  "otter": {
   "tests": {
    "q14": {
     "name": "q14",
     "points": null,
     "suites": [
      {
       "cases": [
        {
         "code": ">>> x == 2**10\nTrue",
         "hidden": false,
         "locked": false
        }
       ],
       "scored": true,
       "setup": "",
       "teardown": "",
       "type": "doctest"
      }
     ]
    },
    "q4": {
     "name": "q4",
     "points": null,
     "suites": [
      {
       "cases": [
        {
         "code": ">>> p = [1, 2, 3]\n>>> q = [p, p, [1,2,3]]\n>>> p[0] = -10\n>>> z == q\nTrue",
         "hidden": false,
         "locked": false
        },
        {
         "code": ">>> id(z) != id(y)\nTrue",
         "hidden": false,
         "locked": false
        }
       ],
       "scored": true,
       "setup": "",
       "teardown": "",
       "type": "doctest"
      }
     ]
    },
    "q6": {
     "name": "q6",
     "points": null,
     "suites": [
      {
       "cases": [
        {
         "code": ">>> cycles == 8\nTrue",
         "hidden": false,
         "locked": false
        },
        {
         "code": ">>> rest == 261\nTrue",
         "hidden": false,
         "locked": false
        }
       ],
       "scored": true,
       "setup": "",
       "teardown": "",
       "type": "doctest"
      }
     ]
    },
    "q7": {
     "name": "q7",
     "points": null,
     "suites": [
      {
       "cases": [
        {
         "code": ">>> x == -13_481_272\nTrue",
         "hidden": false,
         "locked": false
        }
       ],
       "scored": true,
       "setup": "",
       "teardown": "",
       "type": "doctest"
      }
     ]
    },
    "q8": {
     "name": "q8",
     "points": null,
     "suites": [
      {
       "cases": [
        {
         "code": ">>> x == 999999.9999999999\nTrue",
         "hidden": false,
         "locked": false
        },
        {
         "code": ">>> y == 1000000.0\nTrue",
         "hidden": false,
         "locked": false
        }
       ],
       "scored": true,
       "setup": "",
       "teardown": "",
       "type": "doctest"
      }
     ]
    },
    "q9": {
     "name": "q9",
     "points": null,
     "suites": [
      {
       "cases": [
        {
         "code": ">>> z == 1.4142135623730951\nTrue",
         "hidden": false,
         "locked": false
        }
       ],
       "scored": true,
       "setup": "",
       "teardown": "",
       "type": "doctest"
      }
     ]
    }
   }
  }
 },
 "nbformat": 4,
 "nbformat_minor": 5
}
