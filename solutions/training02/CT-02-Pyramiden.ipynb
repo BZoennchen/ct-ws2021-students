{
 "cells": [
  {
   "cell_type": "code",
   "execution_count": null,
   "id": "64cf5f56",
   "metadata": {
    "deletable": false,
    "editable": false
   },
   "outputs": [],
   "source": [
    "# Initialize Otter\n",
    "import otter\n",
    "grader = otter.Notebook(\"CT-02-Pyramiden.ipynb\")"
   ]
  },
  {
   "cell_type": "markdown",
   "id": "cd8825ea",
   "metadata": {},
   "source": [
    "# 1 Aufwärmen"
   ]
  },
  {
   "cell_type": "markdown",
   "id": "63eb7194",
   "metadata": {},
   "source": [
    "***\n",
    "***Aufgabe 1 (Listen).*** Erstellen Sie auf unterschiedliche Weise eine Liste ``small_numbers``, welche die Zahlen 0 bis 9 enthält (beides inklusive)."
   ]
  },
  {
   "cell_type": "code",
   "execution_count": 2,
   "id": "2c476980",
   "metadata": {
    "scrolled": false,
    "tags": [
     "otter_assign_solution_cell"
    ]
   },
   "outputs": [
    {
     "name": "stdout",
     "output_type": "stream",
     "text": [
      "[0, 1, 2, 3, 4, 5, 6, 7, 8, 9]\n",
      "[0, 1, 2, 3, 4, 5, 6, 7, 8, 9]\n",
      "[0, 1, 2, 3, 4, 5, 6, 7, 8, 9]\n"
     ]
    }
   ],
   "source": [
    "# BEGIN SOLUTION\n",
    "small_numbers = [0,1,2,3,4,5,6,7,8,9]\n",
    "print(small_numbers)\n",
    "\n",
    "small_numbers = list(range(10))\n",
    "print(small_numbers)\n",
    "\n",
    "small_numbers = []\n",
    "for i in range(10):\n",
    "    small_numbers.append(i)\n",
    "print(small_numbers)\n",
    "# END SOLUTION"
   ]
  },
  {
   "cell_type": "code",
   "execution_count": null,
   "id": "81fa9f48",
   "metadata": {
    "deletable": false,
    "editable": false
   },
   "outputs": [],
   "source": [
    "grader.check(\"q1\")"
   ]
  },
  {
   "cell_type": "markdown",
   "id": "65e0a28b",
   "metadata": {},
   "source": [
    "***Aufgabe 2 (Listen).*** Erstellen Sie eine Liste ``pyramid_list`` der Länge 10, die an der ``i``-ten Position eine Liste der Zahlen ``[0,1,...,i]`` enthält. Das Ergebnis ist eine Liste aus Listen."
   ]
  },
  {
   "cell_type": "code",
   "execution_count": 28,
   "id": "1b1cbbd5",
   "metadata": {
    "scrolled": true,
    "tags": [
     "otter_assign_solution_cell"
    ]
   },
   "outputs": [
    {
     "data": {
      "text/plain": [
       "[[0],\n",
       " [0, 1],\n",
       " [0, 1, 2],\n",
       " [0, 1, 2, 3],\n",
       " [0, 1, 2, 3, 4],\n",
       " [0, 1, 2, 3, 4, 5],\n",
       " [0, 1, 2, 3, 4, 5, 6],\n",
       " [0, 1, 2, 3, 4, 5, 6, 7],\n",
       " [0, 1, 2, 3, 4, 5, 6, 7, 8],\n",
       " [0, 1, 2, 3, 4, 5, 6, 7, 8, 9]]"
      ]
     },
     "execution_count": 28,
     "metadata": {},
     "output_type": "execute_result"
    }
   ],
   "source": [
    "pyramid_list = [list(range(i+1)) for i in range(10)] # SOLUTION\n",
    "# BEGIN SOLUTION\n",
    "pyramid_list = []\n",
    "for i in range(10):\n",
    "    pyramid_list.append([])\n",
    "    for j in range(i+1):\n",
    "        pyramid_list[i].append(j)\n",
    "# END SOLUTION\n",
    "pyramid_list"
   ]
  },
  {
   "cell_type": "code",
   "execution_count": null,
   "id": "0ef11aab",
   "metadata": {
    "deletable": false,
    "editable": false
   },
   "outputs": [],
   "source": [
    "grader.check(\"q2\")"
   ]
  },
  {
   "cell_type": "markdown",
   "id": "7e3abd05",
   "metadata": {},
   "source": [
    "***Aufgabe 3 (Zeichenketten).*** Wir bezeichnen eine Zeichenfolge Palindrom wenn sie vorwärts und rückwärts gelesen das gleiche Wort ergibt. Z.B. ist ``anna`` oder auch ``aabaa`` ein Palindrom. Schreiben Sie einen Code der für eine beliebige Zeichenkette ``text`` prüft ob es sich um ein Palimdrom handelt. Testen Sie Ihren Code."
   ]
  },
  {
   "cell_type": "code",
   "execution_count": 34,
   "id": "6c7f79cc",
   "metadata": {
    "tags": [
     "otter_assign_solution_cell"
    ]
   },
   "outputs": [
    {
     "name": "stdout",
     "output_type": "stream",
     "text": [
      "True\n"
     ]
    },
    {
     "data": {
      "text/plain": [
       "True"
      ]
     },
     "execution_count": 34,
     "metadata": {},
     "output_type": "execute_result"
    }
   ],
   "source": [
    "text = 'anna'\n",
    "# BEGIN SOLUTION\n",
    "palindrome = True\n",
    "for i in range(len(text)//2):\n",
    "    palindrome = palindrome and text[i] == text[-(i+1)]\n",
    "print(palindrome)\n",
    "\n",
    "text == text[::-1]\n",
    "# END SOLUTION"
   ]
  },
  {
   "cell_type": "markdown",
   "id": "6953c8b4",
   "metadata": {},
   "source": [
    "***Aufgabe 4 (Funktionen).*** Schreiben Sie eine Funktion ``is_even(n)``, die Ihnen wahr ``True`` zurückgibt wenn ``n`` eine gerade Zahl ist und sonst ``False``. Gehen Sie davon aus, dass ``n`` eine ganze Zahl ist."
   ]
  },
  {
   "cell_type": "code",
   "execution_count": 2,
   "id": "caaee04d",
   "metadata": {
    "tags": [
     "otter_assign_solution_cell"
    ]
   },
   "outputs": [],
   "source": [
    "def is_even(n):\n",
    "    return n % 2 == 0 # SOLUTION"
   ]
  },
  {
   "cell_type": "code",
   "execution_count": null,
   "id": "584262ed",
   "metadata": {
    "deletable": false,
    "editable": false
   },
   "outputs": [],
   "source": [
    "grader.check(\"q4\")"
   ]
  },
  {
   "cell_type": "markdown",
   "id": "9c2587ca",
   "metadata": {},
   "source": [
    "***Aufgabe 5 (Funktionen, Kontrollstruturen).*** Schreiben Sie eine Funktion ``specify_number(n)``, die einen Text ausgibt, der besagt ob die ganze Zahl ``n`` gerade oder ungerade und positiv oder negativ ist (0 werten wir als positiv)."
   ]
  },
  {
   "cell_type": "code",
   "execution_count": 139,
   "id": "73af59c7",
   "metadata": {
    "tags": [
     "otter_assign_solution_cell"
    ]
   },
   "outputs": [],
   "source": [
    "def specify_number(n):\n",
    "    # BEGIN SOLUTION\n",
    "    if is_even(n) and n >= 0:\n",
    "        print(f'{n} is even and positive')\n",
    "    elif not is_even(n) and n >= 0:\n",
    "        print(f'{n} is not even and positive')\n",
    "    elif is_even(n) and n < 0:\n",
    "        print(f'{n} is even and negative')\n",
    "    else:\n",
    "        print(f'{n} is not even and negative')\n",
    "    # END SOLUTION"
   ]
  },
  {
   "cell_type": "markdown",
   "id": "f1cea34a",
   "metadata": {},
   "source": [
    "***Aufgabe 6. (Kontrollstrukturen)*** Geben Sie 20 Mal ``'Die richtige Antwort ist 42!'`` aus."
   ]
  },
  {
   "cell_type": "code",
   "execution_count": null,
   "id": "1980b2c6",
   "metadata": {
    "tags": [
     "otter_assign_solution_cell"
    ]
   },
   "outputs": [],
   "source": [
    "# BEGIN SOLUTION\n",
    "for _ in range(20):\n",
    "    print('Die richtige Antwort ist 42!')\n",
    "# END SOLUTION"
   ]
  },
  {
   "cell_type": "markdown",
   "id": "79c9b59d",
   "metadata": {},
   "source": [
    "***Aufgabe 7 (Listen, Kontrollstrukturen).*** Erstellen Sie eine Liste ``numbers``, die alle ungeraden positiven Zahlen, welche durch 7 teilbar und kleiner als 1000 sind."
   ]
  },
  {
   "cell_type": "code",
   "execution_count": 38,
   "id": "a74f32fb",
   "metadata": {
    "scrolled": true,
    "tags": [
     "otter_assign_solution_cell"
    ]
   },
   "outputs": [],
   "source": [
    "numbers = [i for i in range(1000) if not is_even(i) and i % 7 == 0] # SOLUTION\n",
    "# BEGIN SOLUTION\n",
    "numbers = []\n",
    "for i in range(1000): \n",
    "    if not is_even(i) and i % 7 == 0: \n",
    "        numbers.append(i)\n",
    "# END SOLUTION"
   ]
  },
  {
   "cell_type": "code",
   "execution_count": null,
   "id": "eeb24c0f",
   "metadata": {
    "deletable": false,
    "editable": false
   },
   "outputs": [],
   "source": [
    "grader.check(\"q7\")"
   ]
  },
  {
   "cell_type": "markdown",
   "id": "5f54e1cc",
   "metadata": {},
   "source": [
    "***Aufgabe 8 (Funktionen, Kontrollstrukturen).*** Schreiben Sie eine Funktion ``sum_squares(n)``, die Ihnen die Summe aller Quadratzahlen von 1 bis einschließlich ``n`` berechnet und zurückgibt. Gehen Sie davon aus, dass ``n`` eine natürliche Zahl $\\mathbb{N}$ (0 eingeschlossen) ist."
   ]
  },
  {
   "cell_type": "code",
   "execution_count": 125,
   "id": "ab14f7d4",
   "metadata": {
    "tags": [
     "otter_assign_solution_cell"
    ]
   },
   "outputs": [],
   "source": [
    "def sum_squares(n):\n",
    "    # BEGIN SOLUTION\n",
    "    result = 0\n",
    "    for i in range(n):\n",
    "        result += (i+1)**2\n",
    "    return result\n",
    "    # END SOLUTION"
   ]
  },
  {
   "cell_type": "code",
   "execution_count": null,
   "id": "f1526bb7",
   "metadata": {
    "deletable": false,
    "editable": false
   },
   "outputs": [],
   "source": [
    "grader.check(\"q8\")"
   ]
  },
  {
   "cell_type": "markdown",
   "id": "7de1552c",
   "metadata": {},
   "source": [
    "***"
   ]
  },
  {
   "cell_type": "markdown",
   "id": "397b13a3",
   "metadata": {},
   "source": [
    "# 2 Münzliebhaber\\*in\n",
    "\n",
    "Sie möchten heute gerne einen bestimmten Geldbetrag ``money`` in Münzen ``coins`` umwandeln.\n",
    "Doch zuvor möchten Sie wissen wie viele Münzen Sie denn minimal benötigen, schließlich möchten Sie sich nicht zu Tode Schleppen.\n",
    "\n",
    "Unsere Währung ist der Euro. Es gibt 2 und 1 Euro Münzen (200, 100 Cent) sowie 50, 20, 10, 5, 2 und 1 Cent Münzen. Sie brauchen die wenigsten Münzen für einen bestimmten Geldbetrag wenn Sie die Anzahl der wertvollsten Münzen maximieren. Warum?"
   ]
  },
  {
   "cell_type": "markdown",
   "id": "e67ce592",
   "metadata": {},
   "source": [
    "***\n",
    "***Aufgabe 9 (Funktionen, Kontrollstrukturen).*** Schreiben Sie eine Funktion ``count_coins(money)``, die Ihnen die Anzahl der Münzen, die Sie **minimal** benötigen, berechnet! Dabei soll ``money`` der Geldbetrag in Euro sein, welchen Sie in Münzen umwandeln möchten. Gehen Sie davon aus, dass ``money`` eine positive Fließkommazahl ``float`` ist und runden Sie (mit ``round()``) auf den nähersten Geldbetrag, z.B. ``100.2356`` wird auf ``100.24`` gerundet und ``50.224`` auf ``50.22``."
   ]
  },
  {
   "cell_type": "code",
   "execution_count": 146,
   "id": "a05f67fa",
   "metadata": {
    "tags": [
     "otter_assign_solution_cell"
    ]
   },
   "outputs": [],
   "source": [
    "def count_coins(money):\n",
    "    # BEGIN SOLUTION\n",
    "    cents = cents = round(money * 100)\n",
    "    count = 0\n",
    "    while cents > 0:\n",
    "        if cents >= 200:\n",
    "            cents = cents - 200\n",
    "        elif cents >= 100:\n",
    "            cents = cents - 100\n",
    "        elif cents >= 50:\n",
    "            cents = cents - 50\n",
    "        elif cents >= 20:\n",
    "            cents = cents - 20\n",
    "        elif cents >= 10:\n",
    "            cents = cents - 10\n",
    "        elif cents >= 5:\n",
    "            cents = cents - 5\n",
    "        elif cents >= 2:\n",
    "            cents = cents - 2\n",
    "        else:\n",
    "            cents = cents - 1\n",
    "        count = count + 1\n",
    "    return count\n",
    "               \n",
    "# or much more compact\n",
    "def count_coins_short(money):\n",
    "    coins = [200, 100, 50, 20, 10, 5, 2, 1]\n",
    "    count = 0\n",
    "    cents = round(money * 100)\n",
    "    while cents > 0:\n",
    "        for coin in coins:\n",
    "            if cents >= coin:\n",
    "                cents = cents - coin\n",
    "                break\n",
    "        count += 1\n",
    "    return count\n",
    "\n",
    "# or even much more efficient using math (modulo division)\n",
    "def count_coins_math(money):\n",
    "    coins = [200, 100, 50, 20, 10, 5, 2, 1]\n",
    "    count = 0\n",
    "    cents = round(money * 100)\n",
    "    for coin in coins:\n",
    "        # cents = coin * k + r (k is a natural number)\n",
    "        k = cents // coin\n",
    "        r = cents % coin\n",
    "        cents = cents - k * coin\n",
    "        count += k\n",
    "    return count\n",
    "# END SOLUTION   "
   ]
  },
  {
   "cell_type": "code",
   "execution_count": null,
   "id": "ab34a616",
   "metadata": {
    "deletable": false,
    "editable": false
   },
   "outputs": [],
   "source": [
    "grader.check(\"q9\")"
   ]
  },
  {
   "cell_type": "markdown",
   "id": "7c61c5b8",
   "metadata": {},
   "source": [
    "***"
   ]
  },
  {
   "cell_type": "markdown",
   "id": "01574d28",
   "metadata": {},
   "source": [
    "# 3 Pyramidenbau (schwer)\n",
    "\n",
    "## 3.1 Einleitung\n",
    "\n",
    "Sie kennen vielleicht noch die alten sogenannten Jump & Run Konsolenspiele wie etwa Mario, Sonic und viele mehr.\n",
    "\n",
    "Das Spielprinzip ist einfach: In einer zweidimensionalen Welt, in der sich die Spielfigur nur nach vorne bzw. zurück und hoch bzw. runter bewegen kann, muss diese Figur ein bestimmtes (örtliches) Ziel erreichen. Auf dem Weg lauern Gefahren und Ihre Figur muss Hindernisse überspringen. Sie durchlaufen mehrere Levels, deren Schwierigkeitsgrad ansteigt.\n",
    "\n",
    "Interessanterweise gibt es diese Spiele heute immernoch - sie haben einen gewissen Kultstatus. Besonders begehrt sind Spiele bei denen Spieler\\*innen ihre eigenen Welten erstellen können und diese dann von anderen Spieler\\*innen gespielt und bewertet werden.\n",
    "\n",
    "Ist die Spielwelt aus einfachen Elementen welche in einem regulären Gitter angeordnet sind aufgebaut, so kann eine solche Welt als lesbarer Text in eine Datei geschrieben werden. Ein Beispiel: Stellen Sie sich vor, folgender Text stünde in einer Textdatei:\n",
    "\n",
    "```txt\n",
    "     #  #\n",
    "    ##  ##\n",
    " P ###  ###   *\n",
    "######  #### ###\n",
    "```\n",
    "\n",
    "Dabei könnten wir definieren, dass ``P`` die Startposition der Spielfigur ist, ``#`` quadratische Bauklötze und ``*`` das zu erreichende Ziel ist. Diese Information könnte von einem Programm in eine entsprechende Welt umgewandelt werden.\n",
    "\n",
    "![Jump & Run Gamescreenshot](figs/jump-and-run-screenshot.png)\n",
    "\n",
    "Auch hierbei handelt es sich um eine **Interpretation**, eine ganze Spielewelt durch eine Folge von Zeichen **repräsentiert**! "
   ]
  },
  {
   "cell_type": "markdown",
   "id": "617c4806",
   "metadata": {},
   "source": [
    "## 3.2 Aufgabenbeschreibung\n",
    "\n",
    "Ihr Aufgabe ist es ein ``Python``-Programm zu schreiben, welches Ihnen eine Pyramide der Form\n",
    "\n",
    "```txt\n",
    "   #  #\n",
    "  ##  ##\n",
    " ###  ###\n",
    "####  ####\n",
    "```\n",
    "\n",
    "erzeugt, wobei die Höhe der Pyramide als Eingabeargument übergeben werden und zwischen 1 und 8 liegen soll.\n"
   ]
  },
  {
   "cell_type": "markdown",
   "id": "d767d7b0",
   "metadata": {},
   "source": [
    "***\n",
    "***Aufgabe 10 (Funktionen, Kontrollstrukturen).*** Entwickeln Sie eine Funktion ``pyramid(height)`` die die oben beschriebene Pyramide der Höhe ``height`` als Zeichenkette ``str`` erzeugt und zurückgibt. Gehen Sie davon aus, dass ``height`` eine nicht zu große natürliche Zahl (0 ausgeschlossen) ist."
   ]
  },
  {
   "cell_type": "markdown",
   "id": "e79b2d10",
   "metadata": {},
   "source": [
    "Zeichenketten können Sie mit dem ``+``-Operator verketten. Eine neue Zeile können Sie mit der Zeichenkette ``'\\n'`` generieren. Zum Beispiel:"
   ]
  },
  {
   "cell_type": "code",
   "execution_count": 106,
   "id": "c4fdf2b7",
   "metadata": {
    "scrolled": true
   },
   "outputs": [
    {
     "name": "stdout",
     "output_type": "stream",
     "text": [
      "abcdefg\n",
      "hijk\n"
     ]
    }
   ],
   "source": [
    "print('abcd' + 'efg' + '\\n' + 'hijk')"
   ]
  },
  {
   "cell_type": "markdown",
   "id": "737cf668",
   "metadata": {},
   "source": [
    "Oft wollen wir überflüssig Zeilen am Ende einer Zeichenkette (oder auch Textdatei) vermeiden."
   ]
  },
  {
   "cell_type": "code",
   "execution_count": 109,
   "id": "1d58a201",
   "metadata": {},
   "outputs": [
    {
     "name": "stdout",
     "output_type": "stream",
     "text": [
      "abcdefg\n",
      "hijk\n",
      "\n",
      "\n",
      "\n"
     ]
    }
   ],
   "source": [
    "print('abcd' + 'efg' + '\\n' + 'hijk\\n\\n\\n')"
   ]
  },
  {
   "cell_type": "code",
   "execution_count": 1,
   "id": "541f3f7a",
   "metadata": {
    "tags": [
     "otter_assign_solution_cell"
    ]
   },
   "outputs": [],
   "source": [
    "def pyramid(height):\n",
    "    # BEGIN SOLUTION\n",
    "    gap = 2\n",
    "    width = height*2 + gap\n",
    "    pyramid = ''\n",
    "    for i in range(1,height+1,1):\n",
    "        empty = (width-gap-2*i) // 2\n",
    "        for _ in range(empty):\n",
    "            pyramid += ' '\n",
    "        for _ in range(i):\n",
    "            pyramid += '#'\n",
    "        for _ in range(gap):\n",
    "            pyramid += ' '\n",
    "        for _ in range(i):\n",
    "            pyramid += '#'\n",
    "        for _ in range(empty):\n",
    "            pyramid += ' '\n",
    "        if i < height:\n",
    "            pyramid += '\\n'\n",
    "    return pyramid\n",
    "\n",
    "def pyramid(height):\n",
    "    # BEGIN SOLUTION\n",
    "    gap = 2\n",
    "    width = height*2 + gap\n",
    "    pyramid = ''\n",
    "    for i in range(1,height+1,1):\n",
    "        empty = (width-gap-2*i) // 2\n",
    "        tiles = i * '#'\n",
    "        \n",
    "        pyramid += empty * ' '\n",
    "        pyramid += tiles\n",
    "        pyramid += gap * ' '\n",
    "        pyramid += tiles\n",
    "        \n",
    "        if i < height:\n",
    "            pyramid += '\\n'\n",
    "    return pyramid\n",
    "\n",
    "# END SOLUTION"
   ]
  },
  {
   "cell_type": "code",
   "execution_count": null,
   "id": "575e6933",
   "metadata": {
    "deletable": false,
    "editable": false
   },
   "outputs": [],
   "source": [
    "grader.check(\"q10\")"
   ]
  },
  {
   "cell_type": "markdown",
   "id": "70c1e897",
   "metadata": {},
   "source": [
    "***"
   ]
  },
  {
   "cell_type": "markdown",
   "id": "0271645e",
   "metadata": {},
   "source": [
    "***\n",
    "***Aufgabe 11 (Funktionen, Kontrollstrukturen).*** Entwickeln Sie eine Funktion ``print_pyramid()`` die nach einer Eingabe (der Höhe) frägt und Ihnen die oben beschriebene Pyramide der Höhe dieser Eingabe erzeugt genauer gesagt als ausgibt. Verwenden Sie Ihre Funktion ``pyramid(height)``. Bei fehlerhafter Eingabe sollte stattdessen eine Fehlermeldung ausgegeben werden. Probieren Sie Ihre Funktion aus."
   ]
  },
  {
   "cell_type": "markdown",
   "id": "e2227b00",
   "metadata": {},
   "source": [
    "Um einen Wert in einem Notebook einzulesen, können Sie die *built-in*-Funktion ``input()`` verwenden, zum Beispiel:"
   ]
  },
  {
   "cell_type": "code",
   "execution_count": 140,
   "id": "cce6641f",
   "metadata": {},
   "outputs": [
    {
     "name": "stdout",
     "output_type": "stream",
     "text": [
      "height = 7\n",
      "data type:<class 'str'>\n",
      "value: 7\n"
     ]
    }
   ],
   "source": [
    "height = input('height = ')\n",
    "print('data type:' + str(type(height)))\n",
    "print('value: ' + str(height))"
   ]
  },
  {
   "cell_type": "markdown",
   "id": "30661757",
   "metadata": {},
   "source": [
    "Mit der folgenden Funktion können Sie testen ob eine Zeichenkette tatsächlich eine natürliche Zahl $\\mathbb{N}$ (0 ausgeschlossen) ist."
   ]
  },
  {
   "cell_type": "code",
   "execution_count": 11,
   "id": "becb6a0b",
   "metadata": {},
   "outputs": [],
   "source": [
    "def is_natural_number(value):\n",
    "    try:\n",
    "        return int(value) > 0 and int(value) == value\n",
    "    except ValueError:\n",
    "        return False"
   ]
  },
  {
   "cell_type": "code",
   "execution_count": 111,
   "id": "35d1a134",
   "metadata": {
    "tags": [
     "otter_assign_solution_cell"
    ]
   },
   "outputs": [],
   "source": [
    "def print_pyramid():\n",
    "    # BEGIN SOLUTION\n",
    "    height = input('height = ')\n",
    "    if is_natural_number(height): \n",
    "        height = int(height)\n",
    "        if 1 <= height <= 8:\n",
    "            print(pyramid(height))\n",
    "        else:\n",
    "            print(str(height) + ' is not within [1;8]')\n",
    "    else:\n",
    "        print(height + ' is not a whole positive number!')\n",
    "    # END SOLUTION"
   ]
  },
  {
   "cell_type": "markdown",
   "id": "0a51120d",
   "metadata": {},
   "source": [
    "***"
   ]
  },
  {
   "cell_type": "code",
   "execution_count": 77,
   "id": "da85eb5f",
   "metadata": {},
   "outputs": [
    {
     "name": "stdout",
     "output_type": "stream",
     "text": [
      "height = 6\n",
      "     #  #\n",
      "    ##  ##\n",
      "   ###  ###\n",
      "  ####  ####\n",
      " #####  #####\n",
      "######  ######\n"
     ]
    }
   ],
   "source": [
    "print_pyramid()"
   ]
  },
  {
   "cell_type": "markdown",
   "id": "579f02c3",
   "metadata": {
    "deletable": false,
    "editable": false
   },
   "source": [
    "---\n",
    "\n",
    "To double-check your work, the cell below will rerun all of the autograder tests."
   ]
  },
  {
   "cell_type": "code",
   "execution_count": null,
   "id": "51d54e8d",
   "metadata": {
    "deletable": false,
    "editable": false
   },
   "outputs": [],
   "source": [
    "grader.check_all()"
   ]
  },
  {
   "cell_type": "markdown",
   "id": "ce0d3fbe",
   "metadata": {
    "deletable": false,
    "editable": false
   },
   "source": [
    "## Submission\n",
    "\n",
    "Make sure you have run all cells in your notebook in order before running the cell below, so that all images/graphs appear in the output. The cell below will generate a zip file for you to submit."
   ]
  },
  {
   "cell_type": "code",
   "execution_count": null,
   "id": "738ad295",
   "metadata": {
    "deletable": false,
    "editable": false
   },
   "outputs": [],
   "source": [
    "grader.export(pdf=False, force_save=True)"
   ]
  },
  {
   "cell_type": "markdown",
   "id": "e678f1ed",
   "metadata": {},
   "source": [
    " "
   ]
  }
 ],
 "metadata": {
  "kernelspec": {
   "display_name": "Python 3 (ipykernel)",
   "language": "python",
   "name": "python3"
  },
  "language_info": {
   "codemirror_mode": {
    "name": "ipython",
    "version": 3
   },
   "file_extension": ".py",
   "mimetype": "text/x-python",
   "name": "python",
   "nbconvert_exporter": "python",
   "pygments_lexer": "ipython3",
   "version": "3.9.5"
  },
  "otter": {
   "tests": {
    "q1": {
     "name": "q1",
     "points": null,
     "suites": [
      {
       "cases": [
        {
         "code": ">>> small_numbers == [0,1,2,3,4,5,6,7,8,9]\nTrue",
         "hidden": false,
         "locked": false
        }
       ],
       "scored": true,
       "setup": "",
       "teardown": "",
       "type": "doctest"
      }
     ]
    },
    "q10": {
     "name": "q10",
     "points": null,
     "suites": [
      {
       "cases": [
        {
         "code": ">>> pyramid(1) == '#  #'\nTrue",
         "hidden": false,
         "locked": false
        },
        {
         "code": ">>> pyramid(2) == ' #  #\\n##  ##' or pyramid(2) ==  ' #  # \\n##  ##'\nTrue",
         "hidden": false,
         "locked": false
        },
        {
         "code": ">>> pyramid(3) == '  #  #\\n ##  ##\\n###  ###' or pyramid(3) ==  '  #  #  \\n ##  ## \\n###  ###'\nTrue",
         "hidden": false,
         "locked": false
        },
        {
         "code": ">>> pyramid(4) == '   #  #\\n  ##  ##\\n ###  ###\\n####  ####' or pyramid(4) ==  '   #  #   \\n  ##  ##  \\n ###  ### \\n####  ####'\nTrue",
         "hidden": false,
         "locked": false
        }
       ],
       "scored": true,
       "setup": "",
       "teardown": "",
       "type": "doctest"
      }
     ]
    },
    "q2": {
     "name": "q2",
     "points": null,
     "suites": [
      {
       "cases": [
        {
         "code": ">>> pyramid_list == [list(range(i+1)) for i in range(10)]\nTrue",
         "hidden": false,
         "locked": false
        }
       ],
       "scored": true,
       "setup": "",
       "teardown": "",
       "type": "doctest"
      }
     ]
    },
    "q4": {
     "name": "q4",
     "points": null,
     "suites": [
      {
       "cases": [
        {
         "code": ">>> is_even(2) == True\nTrue",
         "hidden": false,
         "locked": false
        },
        {
         "code": ">>> is_even(1202) == True\nTrue",
         "hidden": false,
         "locked": false
        },
        {
         "code": ">>> is_even(-1202) == True\nTrue",
         "hidden": false,
         "locked": false
        },
        {
         "code": ">>> is_even(-3) == False\nTrue",
         "hidden": false,
         "locked": false
        },
        {
         "code": ">>> is_even(-137) == False\nTrue",
         "hidden": false,
         "locked": false
        }
       ],
       "scored": true,
       "setup": "",
       "teardown": "",
       "type": "doctest"
      }
     ]
    },
    "q7": {
     "name": "q7",
     "points": null,
     "suites": [
      {
       "cases": [
        {
         "code": ">>> numbers == [i for i in range(1000) if i % 2 == 1 and i % 7 == 0]\nTrue",
         "hidden": false,
         "locked": false
        }
       ],
       "scored": true,
       "setup": "",
       "teardown": "",
       "type": "doctest"
      }
     ]
    },
    "q8": {
     "name": "q8",
     "points": null,
     "suites": [
      {
       "cases": [
        {
         "code": ">>> sum_squares(1) == 1\nTrue",
         "hidden": false,
         "locked": false
        },
        {
         "code": ">>> sum_squares(5) == 5**2 + 4**2 + 3**2 + 2**2 + 1**2\nTrue",
         "hidden": false,
         "locked": false
        },
        {
         "code": ">>> sum_squares(9) == 9**2 + 8**2 + 7**2 + 6**2 + 5**2 + 4**2 + 3**2 + 2**2 + 1**2\nTrue",
         "hidden": false,
         "locked": false
        },
        {
         "code": ">>> sum_squares(0) == 0\nTrue",
         "hidden": false,
         "locked": false
        }
       ],
       "scored": true,
       "setup": "",
       "teardown": "",
       "type": "doctest"
      }
     ]
    },
    "q9": {
     "name": "q9",
     "points": null,
     "suites": [
      {
       "cases": [
        {
         "code": ">>> count_coins(0.13) == 3\nTrue",
         "hidden": false,
         "locked": false
        },
        {
         "code": ">>> count_coins(100) == 50\nTrue",
         "hidden": false,
         "locked": false
        },
        {
         "code": ">>> count_coins(100.31) == 53\nTrue",
         "hidden": false,
         "locked": false
        },
        {
         "code": ">>> count_coins(100.316) == count_coins(100.32)\nTrue",
         "hidden": false,
         "locked": false
        },
        {
         "code": ">>> count_coins(100.314) == count_coins(100.31)\nTrue",
         "hidden": false,
         "locked": false
        }
       ],
       "scored": true,
       "setup": "",
       "teardown": "",
       "type": "doctest"
      }
     ]
    }
   }
  }
 },
 "nbformat": 4,
 "nbformat_minor": 5
}
