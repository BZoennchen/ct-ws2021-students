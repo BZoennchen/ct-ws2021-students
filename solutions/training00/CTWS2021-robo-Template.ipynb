{
 "cells": [
  {
   "cell_type": "code",
   "execution_count": null,
   "id": "wooden-concept",
   "metadata": {
    "deletable": false,
    "editable": false
   },
   "outputs": [],
   "source": [
    "# Initialize Otter\n",
    "import otter\n",
    "grader = otter.Notebook(\"CTWS2021-robo-Template.ipynb\")"
   ]
  },
  {
   "cell_type": "markdown",
   "id": "divided-owner",
   "metadata": {},
   "source": [
    "Für dieses Notebook benötigen Sie zwei Module ``roboworld`` und ``otter-grader``. Installieren Sie diese z.B. durch:\n",
    "\n",
    "```\n",
    "pip install otter-grader\n",
    "pip install roboworld\n",
    "```"
   ]
  },
  {
   "cell_type": "markdown",
   "id": "positive-essence",
   "metadata": {},
   "source": [
    "# Roboterwelt\n",
    "\n",
    "Roboter dienen uns heute in vielen Bereichen als Helfer und Assistenten.\n",
    "Sie fertigen Autos und andere große Maschinen an, spielen gegeneinander Fußball und interagieren mit uns Menschen auf direktem Weg.\n",
    "Roboter können dort eingesetzt werden, wo es für den Menschen zu gefährlich wird.\n",
    "Zum Beispiel, hatte man versucht durch einen Roboter die Lage am Kernreaktor von Chernobyl besser zu analysieren.\n",
    "Ein weiteres Beispiel ist die Entschärfung von Sprengstoff oder das Auffinden von Überlebenden, welche unter Gebäuden begraben wurden.\n",
    "\n",
    "Wir werden heute einen Roboter durch eine zweidimensionale Welt bewegen."
   ]
  },
  {
   "cell_type": "markdown",
   "id": "continental-reggae",
   "metadata": {},
   "source": [
    "Um die Welt und ihren Roboter anzuzeigen benötigen Sie das Modul ``roboworld``."
   ]
  },
  {
   "cell_type": "code",
   "execution_count": 1,
   "id": "hundred-arnold",
   "metadata": {},
   "outputs": [],
   "source": [
    "import roboworld as rw"
   ]
  },
  {
   "cell_type": "markdown",
   "id": "banned-stream",
   "metadata": {},
   "source": [
    "Dieser Befehl sorgt dafür, dass das *Modul* ``roboworld`` in unser Notebook importiert (eingefügt) wird. Um nicht immer den langen Namen ``roboworld`` tippen zu müssen, wählen wir die Abkürzung ``rw``. \n",
    "\n",
    "Lassen Sie uns eine Roboterwelt mit 5 Zeilen ``nrows`` und 9 Spalten ``ncols`` erzeugen:"
   ]
  },
  {
   "cell_type": "code",
   "execution_count": 2,
   "id": "american-taste",
   "metadata": {},
   "outputs": [],
   "source": [
    "world = rw.new_world(nrows = 5, ncols = 9)"
   ]
  },
  {
   "cell_type": "markdown",
   "id": "congressional-helena",
   "metadata": {},
   "source": [
    "Wir sagen dem ``Modul``, dass es uns eine neue Welt erzeugen soll. Jetzt können wir dieser Welt ``world`` sagen, dass sie sich selbst bitte anzeigen soll:"
   ]
  },
  {
   "cell_type": "code",
   "execution_count": 3,
   "id": "framed-building",
   "metadata": {},
   "outputs": [
    {
     "data": {
      "image/png": "[encoded data removed]",
      "text/plain": [
       "<Figure size 360x200 with 1 Axes>"
      ]
     },
     "execution_count": 3,
     "metadata": {},
     "output_type": "execute_result"
    }
   ],
   "source": [
    "world.show()"
   ]
  },
  {
   "cell_type": "markdown",
   "id": "designing-description",
   "metadata": {},
   "source": [
    "Ok! Was wir sehen sind Zellen angeordnet in 5 Reihen und 9 Spalten. Fast alle Zellen sind Lila nur zwei Zellen haben eine andere Farbe. Die gelbe Zelle ist jene, auf der sich unser Roboter befindet und die türkise Zelle markiert das Ziel des Roboters. Dummerweise kann sich unser Roboter nur nach vorne bewegen und sich auch nur um 90 Grad nach links drehen."
   ]
  },
  {
   "cell_type": "markdown",
   "id": "widespread-collective",
   "metadata": {},
   "source": [
    "***\n",
    "***Aufgabe 1.*** \n",
    "Erzeugen Sie eine Welt ``world`` mit einer Zeile und zehn Spalten."
   ]
  },
  {
   "cell_type": "code",
   "execution_count": 4,
   "id": "timely-precipitation",
   "metadata": {
    "tags": [
     "otter_assign_solution_cell"
    ]
   },
   "outputs": [
    {
     "data": {
      "image/png": "[encoded data removed]",
      "text/plain": [
       "<Figure size 400x40 with 1 Axes>"
      ]
     },
     "execution_count": 4,
     "metadata": {},
     "output_type": "execute_result"
    }
   ],
   "source": [
    "myworld = rw.new_world(nrows = 1, ncols = 10) # SOLUTION\n",
    "myworld.show()"
   ]
  },
  {
   "cell_type": "code",
   "execution_count": null,
   "id": "noticed-convenience",
   "metadata": {
    "deletable": false,
    "editable": false
   },
   "outputs": [],
   "source": [
    "grader.check(\"q1\")"
   ]
  },
  {
   "cell_type": "markdown",
   "id": "bearing-clark",
   "metadata": {},
   "source": [
    "***"
   ]
  },
  {
   "cell_type": "markdown",
   "id": "fundamental-hammer",
   "metadata": {},
   "source": [
    "Soweit so gut. Wir haben also eine Welt ``world`` und in dieser befindet sich unser Roboter.\n",
    "Wie können wir unseren Roboter nun steuern?\n",
    "Wir müssen der Welt sagen, sie solle uns doch bitte den Roboter geben.\n",
    "\n",
    "Wir können daraufhin mit ``help(robo)`` herausfinden was der Roboter denn so kann."
   ]
  },
  {
   "cell_type": "code",
   "execution_count": 7,
   "id": "dominican-consultation",
   "metadata": {},
   "outputs": [
    {
     "name": "stdout",
     "output_type": "stream",
     "text": [
      "Help on Agent in module roboworld.agent object:\n",
      "\n",
      "class Agent(builtins.object)\n",
      " |  Agent(position, world, agent_direction=<Direction.EAST: (0, 1)>, print_actions=True) -> None\n",
      " |  \n",
      " |  Methods defined here:\n",
      " |  \n",
      " |  __init__(self, position, world, agent_direction=<Direction.EAST: (0, 1)>, print_actions=True) -> None\n",
      " |      Initialize self.  See help(type(self)) for accurate signature.\n",
      " |  \n",
      " |  disable_print(self)\n",
      " |  \n",
      " |  enable_print(self)\n",
      " |  \n",
      " |  front_is_clear(self)\n",
      " |  \n",
      " |  is_at_goal(self)\n",
      " |  \n",
      " |  is_carrying_object(self) -> bool\n",
      " |  \n",
      " |  is_facing_north(self) -> bool\n",
      " |  \n",
      " |  is_mark_in_front(self) -> bool\n",
      " |  \n",
      " |  is_object_in_front(self)\n",
      " |      # non-privates\n",
      " |  \n",
      " |  is_wall_in_front(self) -> bool\n",
      " |  \n",
      " |  move(self)\n",
      " |  \n",
      " |  print(self, fstring)\n",
      " |  \n",
      " |  put(self)\n",
      " |  \n",
      " |  set_mark(self)\n",
      " |  \n",
      " |  take(self)\n",
      " |  \n",
      " |  toss(self)\n",
      " |  \n",
      " |  turn_left(self)\n",
      " |  \n",
      " |  unset_mark(self)\n",
      " |  \n",
      " |  ----------------------------------------------------------------------\n",
      " |  Data descriptors defined here:\n",
      " |  \n",
      " |  __dict__\n",
      " |      dictionary for instance variables (if defined)\n",
      " |  \n",
      " |  __weakref__\n",
      " |      list of weak references to the object (if defined)\n",
      "\n"
     ]
    }
   ],
   "source": [
    "robo = world.get_robo()\n",
    "help(robo)"
   ]
  },
  {
   "cell_type": "markdown",
   "id": "satisfactory-drill",
   "metadata": {},
   "source": [
    "***\n",
    "***Aufgabe 2.*** \n",
    "Testen Sie was die Methode ``move`` des Roboters tut, rufen Sie sie dazu mit ``robo.move()`` auf."
   ]
  },
  {
   "cell_type": "code",
   "execution_count": 8,
   "id": "supreme-western",
   "metadata": {
    "tags": [
     "otter_assign_solution_cell"
    ]
   },
   "outputs": [
    {
     "data": {
      "image/png": "[encoded data removed]",
      "text/plain": [
       "<Figure size 200x200 with 1 Axes>"
      ]
     },
     "execution_count": 8,
     "metadata": {},
     "output_type": "execute_result"
    }
   ],
   "source": [
    "world = rw.new_world(nrows = 5, ncols = 5)\n",
    "robo = world.get_robo()\n",
    "world.show()"
   ]
  },
  {
   "cell_type": "code",
   "execution_count": 9,
   "id": "sporting-model",
   "metadata": {
    "tags": [
     "otter_assign_solution_cell"
    ]
   },
   "outputs": [
    {
     "name": "stdout",
     "output_type": "stream",
     "text": [
      "move (2,2) -> (2,3)\n"
     ]
    },
    {
     "data": {
      "image/png": "[encoded data removed]",
      "text/plain": [
       "<Figure size 200x200 with 1 Axes>"
      ]
     },
     "execution_count": 9,
     "metadata": {},
     "output_type": "execute_result"
    }
   ],
   "source": [
    "robo.move() # SOLUTION\n",
    "world.show()"
   ]
  },
  {
   "cell_type": "markdown",
   "id": "higher-sitting",
   "metadata": {},
   "source": [
    "***"
   ]
  },
  {
   "cell_type": "markdown",
   "id": "distributed-manual",
   "metadata": {},
   "source": [
    "Der Roboter bewegt sich ein Feld nach oben (Richtung Norden). Wir haben jedoch oben eine neue Welt mit 5 Spalten und 5 Zeilen erzeugt. Was wird passieren wenn wir eine Welt mit 5 Spalten aber nur 1 Zeile erzeugen und den Roboter bewegen?"
   ]
  },
  {
   "cell_type": "markdown",
   "id": "starting-incentive",
   "metadata": {},
   "source": [
    "***\n",
    "***Aufgabe 3.*** \n",
    "Erzeugen Sie eine Welt ``world`` mit 5 Spalten und 1 Zeile. Bewegen Sie den Roboter **dieser** Welt um ein Feld. Führen Sie also lediglich ``move`` aus."
   ]
  },
  {
   "cell_type": "code",
   "execution_count": 10,
   "id": "third-convert",
   "metadata": {
    "tags": [
     "otter_assign_solution_cell"
    ]
   },
   "outputs": [
    {
     "ename": "WallInFrontException",
     "evalue": "There is a wall in front.",
     "output_type": "error",
     "traceback": [
      "\u001b[0;31m---------------------------------------------------------------------------\u001b[0m",
      "\u001b[0;31mWallInFrontException\u001b[0m                      Traceback (most recent call last)",
      "\u001b[0;32m/var/folders/ls/j__fdzps5g5ch4gysj0zz5y80000gp/T/ipykernel_81768/2424322217.py\u001b[0m in \u001b[0;36m<module>\u001b[0;34m\u001b[0m\n\u001b[1;32m      1\u001b[0m \u001b[0mworld\u001b[0m \u001b[0;34m=\u001b[0m \u001b[0mrw\u001b[0m\u001b[0;34m.\u001b[0m\u001b[0mnew_world\u001b[0m\u001b[0;34m(\u001b[0m\u001b[0mnrows\u001b[0m \u001b[0;34m=\u001b[0m \u001b[0;36m1\u001b[0m\u001b[0;34m,\u001b[0m \u001b[0mncols\u001b[0m \u001b[0;34m=\u001b[0m \u001b[0;36m5\u001b[0m\u001b[0;34m,\u001b[0m \u001b[0magent_position\u001b[0m\u001b[0;34m=\u001b[0m\u001b[0;34m[\u001b[0m\u001b[0;36m0\u001b[0m\u001b[0;34m,\u001b[0m\u001b[0;36m0\u001b[0m\u001b[0;34m]\u001b[0m\u001b[0;34m)\u001b[0m \u001b[0;31m# SOLUTION\u001b[0m\u001b[0;34m\u001b[0m\u001b[0;34m\u001b[0m\u001b[0m\n\u001b[1;32m      2\u001b[0m \u001b[0mrobo\u001b[0m \u001b[0;34m=\u001b[0m \u001b[0mworld\u001b[0m\u001b[0;34m.\u001b[0m\u001b[0mget_robo\u001b[0m\u001b[0;34m(\u001b[0m\u001b[0;34m)\u001b[0m \u001b[0;31m# SOLUTION\u001b[0m\u001b[0;34m\u001b[0m\u001b[0;34m\u001b[0m\u001b[0m\n\u001b[0;32m----> 3\u001b[0;31m \u001b[0mrobo\u001b[0m\u001b[0;34m.\u001b[0m\u001b[0mmove\u001b[0m\u001b[0;34m(\u001b[0m\u001b[0;34m)\u001b[0m \u001b[0;31m# SOLUTION\u001b[0m\u001b[0;34m\u001b[0m\u001b[0;34m\u001b[0m\u001b[0m\n\u001b[0m",
      "\u001b[0;32m~/opt/miniconda3/lib/python3.9/site-packages/roboworld/agent.py\u001b[0m in \u001b[0;36mmove\u001b[0;34m(self)\u001b[0m\n\u001b[1;32m     62\u001b[0m         \u001b[0mbefore\u001b[0m \u001b[0;34m=\u001b[0m \u001b[0;34m[\u001b[0m\u001b[0mself\u001b[0m\u001b[0;34m.\u001b[0m\u001b[0mposition\u001b[0m\u001b[0;34m[\u001b[0m\u001b[0;36m0\u001b[0m\u001b[0;34m]\u001b[0m\u001b[0;34m,\u001b[0m \u001b[0mself\u001b[0m\u001b[0;34m.\u001b[0m\u001b[0mposition\u001b[0m\u001b[0;34m[\u001b[0m\u001b[0;36m1\u001b[0m\u001b[0;34m]\u001b[0m\u001b[0;34m]\u001b[0m\u001b[0;34m\u001b[0m\u001b[0;34m\u001b[0m\u001b[0m\n\u001b[1;32m     63\u001b[0m         \u001b[0;32mif\u001b[0m \u001b[0mself\u001b[0m\u001b[0;34m.\u001b[0m\u001b[0mis_wall_in_front\u001b[0m\u001b[0;34m(\u001b[0m\u001b[0;34m)\u001b[0m\u001b[0;34m:\u001b[0m\u001b[0;34m\u001b[0m\u001b[0;34m\u001b[0m\u001b[0m\n\u001b[0;32m---> 64\u001b[0;31m             \u001b[0;32mraise\u001b[0m \u001b[0mWallInFrontException\u001b[0m\u001b[0;34m(\u001b[0m\u001b[0;34m)\u001b[0m\u001b[0;34m\u001b[0m\u001b[0;34m\u001b[0m\u001b[0m\n\u001b[0m\u001b[1;32m     65\u001b[0m         \u001b[0;32mif\u001b[0m \u001b[0mself\u001b[0m\u001b[0;34m.\u001b[0m\u001b[0mis_object_in_front\u001b[0m\u001b[0;34m(\u001b[0m\u001b[0;34m)\u001b[0m\u001b[0;34m:\u001b[0m\u001b[0;34m\u001b[0m\u001b[0;34m\u001b[0m\u001b[0m\n\u001b[1;32m     66\u001b[0m             \u001b[0;32mraise\u001b[0m \u001b[0mObjectInFrontException\u001b[0m\u001b[0;34m(\u001b[0m\u001b[0;34m)\u001b[0m\u001b[0;34m\u001b[0m\u001b[0;34m\u001b[0m\u001b[0m\n",
      "\u001b[0;31mWallInFrontException\u001b[0m: There is a wall in front."
     ]
    }
   ],
   "source": [
    "world = rw.new_world(nrows = 1, ncols = 5, agent_position=[0,0]) # SOLUTION\n",
    "robo = world.get_robo() # SOLUTION\n",
    "robo.move() # SOLUTION"
   ]
  },
  {
   "cell_type": "markdown",
   "id": "moved-independence",
   "metadata": {},
   "source": [
    "***"
   ]
  },
  {
   "cell_type": "markdown",
   "id": "polish-terminology",
   "metadata": {},
   "source": [
    "Da scheint was schiefgegangen zu sein. Wir erhalten den Fehler: ``There is a wall in front.`` somit kann sich unser Roboter wohl nicht bewegen."
   ]
  },
  {
   "cell_type": "markdown",
   "id": "professional-rebound",
   "metadata": {},
   "source": [
    "***\n",
    "***Aufgabe 4.*** \n",
    "Lösen Sie das Problem. Lassen Sie den Roboter um ein Feld nach rechts (Osten) laufen. **Tipp:** Der Roboter bietet die Methode ``turn_left`` an."
   ]
  },
  {
   "cell_type": "code",
   "execution_count": 15,
   "id": "seasonal-compression",
   "metadata": {
    "tags": [
     "otter_assign_solution_cell"
    ]
   },
   "outputs": [
    {
     "name": "stdout",
     "output_type": "stream",
     "text": [
      "turn Direction.NORTH -> Direction.WEST\n",
      "move (2,0) -> (1,0)\n"
     ]
    },
    {
     "data": {
      "text/plain": [
       "[0, 1]"
      ]
     },
     "execution_count": 15,
     "metadata": {},
     "output_type": "execute_result"
    }
   ],
   "source": [
    "world = rw.new_world(nrows = 1, ncols = 5) # SOLUTION\n",
    "robo = world.get_robo() # SOLUTION\n",
    "robo.turn_left() # SOLUTION\n",
    "robo.move() # SOLUTION"
   ]
  },
  {
   "cell_type": "code",
   "execution_count": null,
   "id": "innocent-banner",
   "metadata": {
    "deletable": false,
    "editable": false
   },
   "outputs": [],
   "source": [
    "grader.check(\"q4\")"
   ]
  },
  {
   "cell_type": "markdown",
   "id": "extraordinary-lafayette",
   "metadata": {},
   "source": [
    "***"
   ]
  },
  {
   "cell_type": "markdown",
   "id": "improving-boating",
   "metadata": {},
   "source": [
    "Soweit so gut. Wir wissen also nun, wie wir den Roboter nach links drehen können sodass er auch in eine andere Richtung als Norden laufen kann. Wie wäre es wenn wir unseren (türkisen) Roboter nun zu unserem (gelben) Ziel bewegen?"
   ]
  },
  {
   "cell_type": "markdown",
   "id": "equal-bible",
   "metadata": {},
   "source": [
    "***\n",
    "***Aufgabe 5.*** \n",
    "Bewegen Sie Ihren Roboter ``robo`` auf das Ziel. Gehen Sie davon aus, dass der Roboter bzw. Sie wissen wo das Ziel ist. Nach der Erstellung der Welt ist der Roboter nach Norden ausgerichtet."
   ]
  },
  {
   "cell_type": "code",
   "execution_count": 17,
   "id": "complicated-crossing",
   "metadata": {
    "tags": [
     "otter_assign_solution_cell"
    ]
   },
   "outputs": [
    {
     "data": {
      "image/png": "[encoded data removed]",
      "text/plain": [
       "<Figure size 400x40 with 1 Axes>"
      ]
     },
     "execution_count": 17,
     "metadata": {},
     "output_type": "execute_result"
    }
   ],
   "source": [
    "mycorridor = rw.new_world(nrows = 1, ncols = 10, agent_position=[0,0], goal_position=[0, 5])\n",
    "robo = mycorridor.get_robo()\n",
    "mycorridor.show()"
   ]
  },
  {
   "cell_type": "code",
   "execution_count": 18,
   "id": "figured-criminal",
   "metadata": {
    "tags": [
     "otter_assign_solution_cell"
    ]
   },
   "outputs": [
    {
     "name": "stdout",
     "output_type": "stream",
     "text": [
      "turn Direction.NORTH -> Direction.WEST\n",
      "turn Direction.WEST -> Direction.SOUTH\n",
      "turn Direction.SOUTH -> Direction.EAST\n",
      "move (0,0) -> (1,0)\n",
      "move (1,0) -> (2,0)\n",
      "move (2,0) -> (3,0)\n",
      "move (3,0) -> (4,0)\n",
      "move (4,0) -> (5,0)\n"
     ]
    },
    {
     "data": {
      "text/plain": [
       "[0, 5]"
      ]
     },
     "execution_count": 18,
     "metadata": {},
     "output_type": "execute_result"
    }
   ],
   "source": [
    "# BEGIN SOLUTION\n",
    "robo.turn_left()\n",
    "robo.turn_left()\n",
    "robo.turn_left()\n",
    "robo.move()\n",
    "robo.move()\n",
    "robo.move()\n",
    "robo.move()\n",
    "robo.move()\n",
    "# END SOLUTION"
   ]
  },
  {
   "cell_type": "code",
   "execution_count": null,
   "id": "published-estimate",
   "metadata": {
    "deletable": false,
    "editable": false
   },
   "outputs": [],
   "source": [
    "grader.check(\"q5\")"
   ]
  },
  {
   "cell_type": "markdown",
   "id": "excited-rover",
   "metadata": {},
   "source": [
    "***"
   ]
  },
  {
   "cell_type": "markdown",
   "id": "capital-bridges",
   "metadata": {},
   "source": [
    "Um den Roboter nach rechts zum Ziel zu bewegen mussten wir Ihn erst einmal um 270 Grad nach links drehen. In anderen Worten wir mussten 3x ``robo.turn_left()`` aufrufen. Lassen Sie uns dieses **Was** (nach rechts Drehen) in eine ``Python``-Funktion packen!\n",
    "\n",
    "Funktionen sind gebündelte *Ausdrucke* kombiniert mit optionalen Argumenten.\n",
    "In ``Python`` beginnt eine Funktionsdefinition mit dem Signalwort ``def`` gefolgt von dem *Funktionsnamen*, dann folgt eine offene Klammer ``(`` und die Argumente getrennt mit Komma. Die Liste an Argumenten wird mit der geschlossenen Klammer ``)`` und dem Doppelpunkt ``:`` abgeschlossen. \n",
    "\n",
    "```python\n",
    "def function(argument1, argument2):\n",
    "    expression1\n",
    "    expression2\n",
    "    ...\n",
    "```\n",
    "\n",
    "Lange Rede kurzer Sinn, probieren Sie es einfach aus."
   ]
  },
  {
   "cell_type": "markdown",
   "id": "contained-procedure",
   "metadata": {},
   "source": [
    "***\n",
    "***Aufgabe 6.*** \n",
    "Definieren Sie eine Funktion ``turn_right(robo)`` mit dem Argument ``robo`` was Ihr Roboter ist."
   ]
  },
  {
   "cell_type": "code",
   "execution_count": 20,
   "id": "coastal-interest",
   "metadata": {
    "tags": [
     "otter_assign_solution_cell"
    ]
   },
   "outputs": [],
   "source": [
    "def turn_right(robo):\n",
    "    # BEGIN SOLUTION\n",
    "    robo.turn_left()\n",
    "    robo.turn_left()\n",
    "    robo.turn_left()\n",
    "    # END SOLUTION"
   ]
  },
  {
   "cell_type": "code",
   "execution_count": null,
   "id": "incomplete-giving",
   "metadata": {
    "deletable": false,
    "editable": false
   },
   "outputs": [],
   "source": [
    "grader.check(\"q6\")"
   ]
  },
  {
   "cell_type": "markdown",
   "id": "visible-grass",
   "metadata": {},
   "source": [
    "***"
   ]
  },
  {
   "cell_type": "markdown",
   "id": "warming-eating",
   "metadata": {},
   "source": [
    "Sie sehen wir haben das Problem *nach rechts drehen* durch die Teilprobleme *nach links drehen* gelöst. Schaffen Sie es nun den Roboter durch ein Labyrinth zu bewegen?"
   ]
  },
  {
   "cell_type": "markdown",
   "id": "equal-round",
   "metadata": {},
   "source": [
    "***\n",
    "***Aufgabe 7.*** \n",
    "Bewegen Sie den Roboter durch folgendes Labyrinth. Verwenden Sie ``robo.turn_left()``, ``robo.move()`` und Ihre Funktion ``turn_right(robo)``. Ihr Roboter ist nach Norden ausgerichtet."
   ]
  },
  {
   "cell_type": "code",
   "execution_count": 25,
   "id": "prime-making",
   "metadata": {},
   "outputs": [
    {
     "data": {
      "image/png": "[encoded data removed]",
      "text/plain": [
       "<Figure size 520x240 with 1 Axes>"
      ]
     },
     "execution_count": 25,
     "metadata": {},
     "output_type": "execute_result"
    }
   ],
   "source": [
    "maze = rw.maze()\n",
    "robo = maze.get_robo()\n",
    "maze.show()"
   ]
  },
  {
   "cell_type": "markdown",
   "id": "growing-israel",
   "metadata": {},
   "source": [
    "Die blauen Zellen sind Hindernisse und könne nicht vom Roboter betreten werden. Läuft der Roboter in eine Wand oder ein Hindernis kommt es zu einem Fehler."
   ]
  },
  {
   "cell_type": "code",
   "execution_count": 26,
   "id": "animal-acting",
   "metadata": {
    "tags": [
     "otter_assign_solution_cell"
    ]
   },
   "outputs": [
    {
     "name": "stdout",
     "output_type": "stream",
     "text": [
      "move (0,0) -> (0,1)\n",
      "move (0,1) -> (0,2)\n",
      "move (0,2) -> (0,3)\n",
      "move (0,3) -> (0,4)\n",
      "move (0,4) -> (0,5)\n",
      "turn Direction.NORTH -> Direction.WEST\n",
      "turn Direction.WEST -> Direction.SOUTH\n",
      "turn Direction.SOUTH -> Direction.EAST\n",
      "move (0,5) -> (1,5)\n",
      "move (1,5) -> (2,5)\n",
      "turn Direction.EAST -> Direction.NORTH\n",
      "turn Direction.NORTH -> Direction.WEST\n",
      "turn Direction.WEST -> Direction.SOUTH\n",
      "move (2,5) -> (2,4)\n",
      "move (2,4) -> (2,3)\n",
      "move (2,3) -> (2,2)\n",
      "move (2,2) -> (2,1)\n",
      "move (2,1) -> (2,0)\n",
      "turn Direction.SOUTH -> Direction.EAST\n",
      "move (2,0) -> (3,0)\n",
      "move (3,0) -> (4,0)\n",
      "turn Direction.EAST -> Direction.NORTH\n",
      "move (4,0) -> (4,1)\n",
      "move (4,1) -> (4,2)\n",
      "move (4,2) -> (4,3)\n",
      "move (4,3) -> (4,4)\n",
      "move (4,4) -> (4,5)\n",
      "turn Direction.NORTH -> Direction.WEST\n",
      "turn Direction.WEST -> Direction.SOUTH\n",
      "turn Direction.SOUTH -> Direction.EAST\n",
      "move (4,5) -> (5,5)\n",
      "move (5,5) -> (6,5)\n",
      "turn Direction.EAST -> Direction.NORTH\n",
      "turn Direction.NORTH -> Direction.WEST\n",
      "turn Direction.WEST -> Direction.SOUTH\n",
      "move (6,5) -> (6,4)\n",
      "move (6,4) -> (6,3)\n",
      "move (6,3) -> (6,2)\n",
      "move (6,2) -> (6,1)\n",
      "move (6,1) -> (6,0)\n",
      "turn Direction.SOUTH -> Direction.EAST\n",
      "move (6,0) -> (7,0)\n",
      "move (7,0) -> (8,0)\n",
      "turn Direction.EAST -> Direction.NORTH\n",
      "move (8,0) -> (8,1)\n",
      "move (8,1) -> (8,2)\n",
      "move (8,2) -> (8,3)\n",
      "move (8,3) -> (8,4)\n",
      "move (8,4) -> (8,5)\n",
      "turn Direction.NORTH -> Direction.WEST\n",
      "turn Direction.WEST -> Direction.SOUTH\n",
      "turn Direction.SOUTH -> Direction.EAST\n",
      "move (8,5) -> (9,5)\n",
      "move (9,5) -> (10,5)\n",
      "turn Direction.EAST -> Direction.NORTH\n",
      "turn Direction.NORTH -> Direction.WEST\n",
      "turn Direction.WEST -> Direction.SOUTH\n",
      "move (10,5) -> (10,4)\n",
      "move (10,4) -> (10,3)\n",
      "move (10,3) -> (10,2)\n",
      "move (10,2) -> (10,1)\n",
      "move (10,1) -> (10,0)\n",
      "turn Direction.SOUTH -> Direction.EAST\n",
      "move (10,0) -> (11,0)\n",
      "move (11,0) -> (12,0)\n",
      "turn Direction.EAST -> Direction.NORTH\n",
      "move (12,0) -> (12,1)\n",
      "move (12,1) -> (12,2)\n",
      "move (12,2) -> (12,3)\n",
      "move (12,3) -> (12,4)\n",
      "move (12,4) -> (12,5)\n"
     ]
    },
    {
     "data": {
      "text/plain": [
       "[5, 12]"
      ]
     },
     "execution_count": 26,
     "metadata": {},
     "output_type": "execute_result"
    }
   ],
   "source": [
    "# BEGIN SOLUTION\n",
    "robo.move()\n",
    "robo.move()\n",
    "robo.move()\n",
    "robo.move()\n",
    "robo.move()\n",
    "\n",
    "turn_right(robo)\n",
    "robo.move()\n",
    "robo.move()\n",
    "turn_right(robo)\n",
    "robo.move()\n",
    "robo.move()\n",
    "robo.move()\n",
    "robo.move()\n",
    "robo.move()\n",
    "\n",
    "robo.turn_left()\n",
    "robo.move()\n",
    "robo.move()\n",
    "robo.turn_left()\n",
    "robo.move()\n",
    "robo.move()\n",
    "robo.move()\n",
    "robo.move()\n",
    "robo.move()\n",
    "\n",
    "turn_right(robo)\n",
    "robo.move()\n",
    "robo.move()\n",
    "turn_right(robo)\n",
    "robo.move()\n",
    "robo.move()\n",
    "robo.move()\n",
    "robo.move()\n",
    "robo.move()\n",
    "\n",
    "robo.turn_left()\n",
    "robo.move()\n",
    "robo.move()\n",
    "robo.turn_left()\n",
    "robo.move()\n",
    "robo.move()\n",
    "robo.move()\n",
    "robo.move()\n",
    "robo.move()\n",
    "\n",
    "turn_right(robo)\n",
    "robo.move()\n",
    "robo.move()\n",
    "turn_right(robo)\n",
    "robo.move()\n",
    "robo.move()\n",
    "robo.move()\n",
    "robo.move()\n",
    "robo.move()\n",
    "\n",
    "robo.turn_left()\n",
    "robo.move()\n",
    "robo.move()\n",
    "robo.turn_left()\n",
    "robo.move()\n",
    "robo.move()\n",
    "robo.move()\n",
    "robo.move()\n",
    "robo.move()\n",
    "\n",
    "# END SOLUTION"
   ]
  },
  {
   "cell_type": "code",
   "execution_count": null,
   "id": "further-regression",
   "metadata": {
    "deletable": false,
    "editable": false
   },
   "outputs": [],
   "source": [
    "grader.check(\"q7\")"
   ]
  },
  {
   "cell_type": "markdown",
   "id": "compliant-maryland",
   "metadata": {},
   "source": [
    "Das war viel Schreibarbeit. Erkennen Sie ein Muster was sich immer und immer wieder wiederholt?\n",
    "\n",
    "Möchten wir in ``Python`` eine folge von *Anweisungen* ``n``-mal ausführen so verwenden wir eine sogenannte Schleife. Zum Beispiel können wir mit folgendem Code ``n``-mal ``'Hallo Welt!'`` ausgeben:"
   ]
  },
  {
   "cell_type": "code",
   "execution_count": 28,
   "id": "specified-jacksonville",
   "metadata": {},
   "outputs": [
    {
     "name": "stdout",
     "output_type": "stream",
     "text": [
      "Hello Welt!\n",
      "Hello Welt!\n",
      "Hello Welt!\n",
      "Hello Welt!\n",
      "Hello Welt!\n"
     ]
    }
   ],
   "source": [
    "for i in range(5):\n",
    "    print('Hello Welt!')"
   ]
  },
  {
   "cell_type": "markdown",
   "id": "baking-tracy",
   "metadata": {},
   "source": [
    "Zu Deutsch: Für jedes ``i`` was sich in ``range(n)`` befindet führe bitte ``print('Hello Welt!')`` aus. Dabei ist ``range(n)`` eine Folge/Sequenz von ganzen Zahlen $0, 1, \\ldots, n-1$. D.h. ``range(5)`` ist eine Sequenz bestehend aus ``0, 1, 2, 3, 4``. Jeder dieser Zahlen wird der Variablen ``i`` *zugewiesen* und anschließend werden die Anweisungen innerhalb der Schleife ausgeführt. Lassen Sie uns doch gleich ``i`` mit ausgeben:"
   ]
  },
  {
   "cell_type": "code",
   "execution_count": 29,
   "id": "reduced-version",
   "metadata": {},
   "outputs": [
    {
     "name": "stdout",
     "output_type": "stream",
     "text": [
      "Hello Welt! i = 0\n",
      "Hello Welt! i = 1\n",
      "Hello Welt! i = 2\n",
      "Hello Welt! i = 3\n",
      "Hello Welt! i = 4\n"
     ]
    }
   ],
   "source": [
    "for i in range(5):\n",
    "    print('Hello Welt! i = ' + str(i))"
   ]
  },
  {
   "cell_type": "markdown",
   "id": "hired-ambassador",
   "metadata": {},
   "source": [
    "``i`` ist eine Zahl und mit ``str(i)`` wandeln wir diese in eine Zeichenkette um. Die Addition ``'Hello Welt! i = ' + str(i)`` verkettet die beiden Zeichenketten."
   ]
  },
  {
   "cell_type": "markdown",
   "id": "variable-garbage",
   "metadata": {},
   "source": [
    "***\n",
    "***Aufgabe 8.*** \n",
    "Geben Sie alle Quadratzahlen von 1 bis 100 aus."
   ]
  },
  {
   "cell_type": "code",
   "execution_count": 30,
   "id": "athletic-thesis",
   "metadata": {
    "tags": [
     "otter_assign_solution_cell"
    ]
   },
   "outputs": [
    {
     "name": "stdout",
     "output_type": "stream",
     "text": [
      "1\n",
      "4\n",
      "9\n",
      "16\n",
      "25\n",
      "36\n",
      "49\n",
      "64\n",
      "81\n",
      "100\n",
      "121\n",
      "144\n",
      "169\n",
      "196\n",
      "225\n",
      "256\n",
      "289\n",
      "324\n",
      "361\n",
      "400\n",
      "441\n",
      "484\n",
      "529\n",
      "576\n",
      "625\n",
      "676\n",
      "729\n",
      "784\n",
      "841\n",
      "900\n",
      "961\n",
      "1024\n",
      "1089\n",
      "1156\n",
      "1225\n",
      "1296\n",
      "1369\n",
      "1444\n",
      "1521\n",
      "1600\n",
      "1681\n",
      "1764\n",
      "1849\n",
      "1936\n",
      "2025\n",
      "2116\n",
      "2209\n",
      "2304\n",
      "2401\n",
      "2500\n",
      "2601\n",
      "2704\n",
      "2809\n",
      "2916\n",
      "3025\n",
      "3136\n",
      "3249\n",
      "3364\n",
      "3481\n",
      "3600\n",
      "3721\n",
      "3844\n",
      "3969\n",
      "4096\n",
      "4225\n",
      "4356\n",
      "4489\n",
      "4624\n",
      "4761\n",
      "4900\n",
      "5041\n",
      "5184\n",
      "5329\n",
      "5476\n",
      "5625\n",
      "5776\n",
      "5929\n",
      "6084\n",
      "6241\n",
      "6400\n",
      "6561\n",
      "6724\n",
      "6889\n",
      "7056\n",
      "7225\n",
      "7396\n",
      "7569\n",
      "7744\n",
      "7921\n",
      "8100\n",
      "8281\n",
      "8464\n",
      "8649\n",
      "8836\n",
      "9025\n",
      "9216\n",
      "9409\n",
      "9604\n",
      "9801\n",
      "10000\n"
     ]
    }
   ],
   "source": [
    "for i in range(100):\n",
    "    print((i+1) * (i+1))"
   ]
  },
  {
   "cell_type": "markdown",
   "id": "german-resort",
   "metadata": {},
   "source": [
    "***"
   ]
  },
  {
   "cell_type": "markdown",
   "id": "magnetic-cocktail",
   "metadata": {},
   "source": [
    "Lassen Sie uns nun Schleifen nutzten um unseren Roboter bequemer steuern zu können."
   ]
  },
  {
   "cell_type": "markdown",
   "id": "great-praise",
   "metadata": {},
   "source": [
    "***\n",
    "***Aufgabe 9.*** \n",
    "Schreiben Sie eine Funktion ``move(robo, steps)`` die den Roboter ``robo`` um ``steps`` Schritte nach vorne bewegt."
   ]
  },
  {
   "cell_type": "code",
   "execution_count": 31,
   "id": "dimensional-thing",
   "metadata": {
    "tags": [
     "otter_assign_solution_cell"
    ]
   },
   "outputs": [],
   "source": [
    "def move(robo, steps):\n",
    "    # BEGIN SOLUTION\n",
    "    for i in range(steps):\n",
    "        robo.move()\n",
    "    # END SOLUTION"
   ]
  },
  {
   "cell_type": "code",
   "execution_count": null,
   "id": "eight-trader",
   "metadata": {
    "deletable": false,
    "editable": false
   },
   "outputs": [],
   "source": [
    "grader.check(\"q9\")"
   ]
  },
  {
   "cell_type": "markdown",
   "id": "dominican-fancy",
   "metadata": {},
   "source": [
    "***"
   ]
  },
  {
   "cell_type": "markdown",
   "id": "liked-pattern",
   "metadata": {},
   "source": [
    "Testen Sie Ihre neue Funktion"
   ]
  },
  {
   "cell_type": "code",
   "execution_count": 33,
   "id": "genuine-israeli",
   "metadata": {},
   "outputs": [
    {
     "name": "stdout",
     "output_type": "stream",
     "text": [
      "turn Direction.NORTH -> Direction.WEST\n",
      "turn Direction.WEST -> Direction.SOUTH\n",
      "turn Direction.SOUTH -> Direction.EAST\n"
     ]
    },
    {
     "data": {
      "image/png": "[encoded data removed]",
      "text/plain": [
       "<Figure size 400x40 with 1 Axes>"
      ]
     },
     "execution_count": 33,
     "metadata": {},
     "output_type": "execute_result"
    }
   ],
   "source": [
    "world = rw.new_world(nrows = 1, ncols = 10, agent_position=[0,0], goal_position=[0,9])\n",
    "robo = world.get_robo()\n",
    "turn_right(robo)\n",
    "world.show()"
   ]
  },
  {
   "cell_type": "markdown",
   "id": "cleared-james",
   "metadata": {},
   "source": [
    "Es wird Zeit, dass wir die neue Funktion auch wirklich verwenden."
   ]
  },
  {
   "cell_type": "markdown",
   "id": "graphic-framing",
   "metadata": {},
   "source": [
    "***\n",
    "***Aufgabe 10.*** \n",
    "Blicken Sie auf Ihre Lösung aus ***Aufgabe 8***. Lösen Sie diese erneut verwenden Sie jedoch Ihre neue Funktion ``move(robo, steps)``."
   ]
  },
  {
   "cell_type": "code",
   "execution_count": 34,
   "id": "neither-madonna",
   "metadata": {
    "scrolled": true,
    "tags": [
     "otter_assign_solution_cell"
    ]
   },
   "outputs": [
    {
     "data": {
      "image/png": "[encoded data removed]",
      "text/plain": [
       "<Figure size 520x240 with 1 Axes>"
      ]
     },
     "execution_count": 34,
     "metadata": {},
     "output_type": "execute_result"
    }
   ],
   "source": [
    "maze = rw.maze()\n",
    "robo = maze.get_robo()\n",
    "maze.show()"
   ]
  },
  {
   "cell_type": "code",
   "execution_count": 35,
   "id": "regulation-stanford",
   "metadata": {
    "scrolled": false,
    "tags": [
     "otter_assign_solution_cell"
    ]
   },
   "outputs": [
    {
     "name": "stdout",
     "output_type": "stream",
     "text": [
      "move (0,0) -> (0,1)\n",
      "move (0,1) -> (0,2)\n",
      "move (0,2) -> (0,3)\n",
      "move (0,3) -> (0,4)\n",
      "move (0,4) -> (0,5)\n",
      "turn Direction.NORTH -> Direction.WEST\n",
      "turn Direction.WEST -> Direction.SOUTH\n",
      "turn Direction.SOUTH -> Direction.EAST\n",
      "move (0,5) -> (1,5)\n",
      "move (1,5) -> (2,5)\n",
      "turn Direction.EAST -> Direction.NORTH\n",
      "turn Direction.NORTH -> Direction.WEST\n",
      "turn Direction.WEST -> Direction.SOUTH\n",
      "move (2,5) -> (2,4)\n",
      "move (2,4) -> (2,3)\n",
      "move (2,3) -> (2,2)\n",
      "move (2,2) -> (2,1)\n",
      "move (2,1) -> (2,0)\n",
      "turn Direction.SOUTH -> Direction.EAST\n",
      "move (2,0) -> (3,0)\n",
      "move (3,0) -> (4,0)\n",
      "turn Direction.EAST -> Direction.NORTH\n",
      "move (4,0) -> (4,1)\n",
      "move (4,1) -> (4,2)\n",
      "move (4,2) -> (4,3)\n",
      "move (4,3) -> (4,4)\n",
      "move (4,4) -> (4,5)\n",
      "turn Direction.NORTH -> Direction.WEST\n",
      "turn Direction.WEST -> Direction.SOUTH\n",
      "turn Direction.SOUTH -> Direction.EAST\n",
      "move (4,5) -> (5,5)\n",
      "move (5,5) -> (6,5)\n",
      "turn Direction.EAST -> Direction.NORTH\n",
      "turn Direction.NORTH -> Direction.WEST\n",
      "turn Direction.WEST -> Direction.SOUTH\n",
      "move (6,5) -> (6,4)\n",
      "move (6,4) -> (6,3)\n",
      "move (6,3) -> (6,2)\n",
      "move (6,2) -> (6,1)\n",
      "move (6,1) -> (6,0)\n",
      "turn Direction.SOUTH -> Direction.EAST\n",
      "move (6,0) -> (7,0)\n",
      "move (7,0) -> (8,0)\n",
      "turn Direction.EAST -> Direction.NORTH\n",
      "move (8,0) -> (8,1)\n",
      "move (8,1) -> (8,2)\n",
      "move (8,2) -> (8,3)\n",
      "move (8,3) -> (8,4)\n",
      "move (8,4) -> (8,5)\n",
      "turn Direction.NORTH -> Direction.WEST\n",
      "turn Direction.WEST -> Direction.SOUTH\n",
      "turn Direction.SOUTH -> Direction.EAST\n",
      "move (8,5) -> (9,5)\n",
      "move (9,5) -> (10,5)\n",
      "turn Direction.EAST -> Direction.NORTH\n",
      "turn Direction.NORTH -> Direction.WEST\n",
      "turn Direction.WEST -> Direction.SOUTH\n",
      "move (10,5) -> (10,4)\n",
      "move (10,4) -> (10,3)\n",
      "move (10,3) -> (10,2)\n",
      "move (10,2) -> (10,1)\n",
      "move (10,1) -> (10,0)\n",
      "turn Direction.SOUTH -> Direction.EAST\n",
      "move (10,0) -> (11,0)\n",
      "move (11,0) -> (12,0)\n",
      "turn Direction.EAST -> Direction.NORTH\n",
      "move (12,0) -> (12,1)\n",
      "move (12,1) -> (12,2)\n",
      "move (12,2) -> (12,3)\n",
      "move (12,3) -> (12,4)\n",
      "move (12,4) -> (12,5)\n"
     ]
    }
   ],
   "source": [
    "# BEGIN SOLUTION\n",
    "move(robo, 5)\n",
    "\n",
    "turn_right(robo)\n",
    "move(robo, 2)\n",
    "turn_right(robo)\n",
    "move(robo, 5)\n",
    "\n",
    "robo.turn_left()\n",
    "move(robo, 2)\n",
    "robo.turn_left()\n",
    "move(robo, 5)\n",
    "\n",
    "turn_right(robo)\n",
    "move(robo, 2)\n",
    "turn_right(robo)\n",
    "move(robo, 5)\n",
    "\n",
    "robo.turn_left()\n",
    "move(robo, 2)\n",
    "robo.turn_left()\n",
    "move(robo, 5)\n",
    "\n",
    "turn_right(robo)\n",
    "move(robo, 2)\n",
    "turn_right(robo)\n",
    "move(robo, 5)\n",
    "\n",
    "robo.turn_left()\n",
    "move(robo, 2)\n",
    "robo.turn_left()\n",
    "move(robo, 5)\n",
    "\n",
    "# END SOLUTION"
   ]
  },
  {
   "cell_type": "code",
   "execution_count": null,
   "id": "incident-healthcare",
   "metadata": {
    "deletable": false,
    "editable": false
   },
   "outputs": [],
   "source": [
    "grader.check(\"q10\")"
   ]
  },
  {
   "cell_type": "markdown",
   "id": "returning-testament",
   "metadata": {},
   "source": [
    "Erkennen Sie weitere Muster? Der Roboter läuft einmal noch oben und dann 3x nach unten und wieder noch oben. Diese drei sich wiederholenden Abläufe müssen wir nicht 3x niederschreiben! Im folgenden benutzten wir eine weitere Schleife um den Code weiter zu verkürzen."
   ]
  },
  {
   "cell_type": "code",
   "execution_count": 37,
   "id": "convinced-magnet",
   "metadata": {},
   "outputs": [
    {
     "data": {
      "image/png": "[encoded data removed]",
      "text/plain": [
       "<Figure size 520x240 with 1 Axes>"
      ]
     },
     "execution_count": 37,
     "metadata": {},
     "output_type": "execute_result"
    }
   ],
   "source": [
    "maze = rw.maze()\n",
    "robo = maze.get_robo()\n",
    "robo.disable_print() # hiermit verhindern wir die Ausgabe\n",
    "maze.show()"
   ]
  },
  {
   "cell_type": "code",
   "execution_count": 38,
   "id": "major-picnic",
   "metadata": {
    "scrolled": true
   },
   "outputs": [
    {
     "data": {
      "image/png": "[encoded data removed]",
      "text/plain": [
       "<Figure size 520x240 with 1 Axes>"
      ]
     },
     "execution_count": 38,
     "metadata": {},
     "output_type": "execute_result"
    }
   ],
   "source": [
    "move(robo, 5)\n",
    "\n",
    "for i in range(3):\n",
    "    turn_right(robo)\n",
    "    move(robo, 2)\n",
    "    turn_right(robo)\n",
    "    move(robo, 5)\n",
    "\n",
    "    robo.turn_left()\n",
    "    move(robo, 2)\n",
    "    robo.turn_left()\n",
    "    move(robo, 5)\n",
    "\n",
    "maze.show()"
   ]
  },
  {
   "cell_type": "markdown",
   "id": "friendly-letters",
   "metadata": {},
   "source": [
    "Ok, bis hierher sind wir davon ausgegangen, dass wir wissen wie die Roboterwelt aussieht und wo sich der Roboter befindet und wie er ausgerichtet ist (Norden, Süden, Osten, Westen). Damit ist nun Schluss! Ein echter Roboter weiß nicht viel. Er weiß nicht wo er ist und auch nicht wo das Ziel ist. Allerdings kann er abtasten ob direkt vor ihm eine Wand is ``robo.is_wall_in_front()`` und er weiß ob er noch Norden ausgerichtet ist ``robo.is_facing_north()``.\n",
    "Wir haben also bis hierher folgende Funktionen zur Verfügung:\n",
    "\n",
    "+ ``robo.move()``: bewegt ``robo`` ein Feld nach vorne\n",
    "+ ``move(robo, steps)``: bewegt ``robo`` um ``steps`` Felder nach vorne\n",
    "+ ``robo.turn_left()``: dreht ``robo`` um 90 nach links\n",
    "+ ``turn_right(robo)``: dreht ``robo`` um 90 nach rechts\n",
    "+ ``robo.is_wall_in_front()``: gibt ``True`` zurück wenn vor dem ``robo`` eine Wand ist und sonst ``False``.\n",
    "+ ``robo.is_facing_north()``: gibt ``True`` zurück wenn ``robo`` nach Norden ausgerichtet ist und sonst ``False``.\n",
    "\n",
    "Zuätzlich hätten wir gerne folgenden Funktionen:\n",
    "\n",
    "+ ``turn_to_north(robo)``: dreht ``robo`` nach Norden\n",
    "+ ``turn_to_west(robo)``: dreht ``robo`` nach Westen\n",
    "+ ``turn_to_east(robo)``: dreht ``robo`` nach Osten\n",
    "+ ``turn_to_south(robo)``: dreht ``robo`` nach Süden\n",
    "\n",
    "Für die Ausrichtung nach Norden, Westen, Osten oder Süden könnte ein weiterer Schleifentyp von nutzten sein: die ``while``-Schleife. Diese verwenden wir wenn wir etwas solange wiederholen wollen bis eine bestimmte Bedingung erfüllt ist. Wir müssen also gar nicht wissen wann das genau der Fall ist. Angenommen wir wollen die größte ganze Zahl $k$ berechnen sodass $k < \\sqrt{65242}$. Nichts leichter als das:"
   ]
  },
  {
   "cell_type": "code",
   "execution_count": 39,
   "id": "radical-yahoo",
   "metadata": {
    "scrolled": true
   },
   "outputs": [
    {
     "data": {
      "text/plain": [
       "256"
      ]
     },
     "execution_count": 39,
     "metadata": {},
     "output_type": "execute_result"
    }
   ],
   "source": [
    "k = 1\n",
    "while k < 65242**(0.5):\n",
    "    k = k + 1\n",
    "k"
   ]
  },
  {
   "cell_type": "code",
   "execution_count": 40,
   "id": "restricted-laser",
   "metadata": {
    "scrolled": true
   },
   "outputs": [
    {
     "data": {
      "text/plain": [
       "65536"
      ]
     },
     "execution_count": 40,
     "metadata": {},
     "output_type": "execute_result"
    }
   ],
   "source": [
    "k*k"
   ]
  },
  {
   "cell_type": "markdown",
   "id": "initial-islam",
   "metadata": {},
   "source": [
    "``65242**(0.5)`` bedeutet $65242^{0.5} = \\sqrt{65242}$"
   ]
  },
  {
   "cell_type": "markdown",
   "id": "bacterial-google",
   "metadata": {},
   "source": [
    "***\n",
    "***Aufgabe 11.*** \n",
    "Schreiben Sie eine Funktion ``turn_to_north(robo)`` die den Roboter nach Norden ausrichtet. **Tipp:** Verwenden Sie eine ``while``-Schleife in Kombination mit ``robo.is_facing_north()``, ``not`` und ``robo.turn_left()``."
   ]
  },
  {
   "cell_type": "code",
   "execution_count": 41,
   "id": "saved-brief",
   "metadata": {
    "tags": [
     "otter_assign_solution_cell"
    ]
   },
   "outputs": [],
   "source": [
    "def turn_to_north(robo):\n",
    "    # BEGIN SOLUTION\n",
    "    while not robo.is_facing_north():\n",
    "        robo.turn_left()\n",
    "    # END SOLUTION"
   ]
  },
  {
   "cell_type": "code",
   "execution_count": null,
   "id": "automated-marketplace",
   "metadata": {
    "deletable": false,
    "editable": false
   },
   "outputs": [],
   "source": [
    "grader.check(\"q11\")"
   ]
  },
  {
   "cell_type": "markdown",
   "id": "danish-beaver",
   "metadata": {},
   "source": [
    "***Aufgabe 12.*** \n",
    "Schreiben Sie nun Funktionen ``turn_to_west(robo)``, ``turn_to_south(robo)``. ``turn_to_east(robo)`` unter Verwendung von ``turn_to_north(robo)``. **Tipp:** Keine dieser Funktionen benötigt eine Schleife sondern lediglich **zwei** Anweisungen!"
   ]
  },
  {
   "cell_type": "code",
   "execution_count": 43,
   "id": "outdoor-steps",
   "metadata": {
    "tags": [
     "otter_assign_solution_cell"
    ]
   },
   "outputs": [],
   "source": [
    "def turn_to_west(robo):\n",
    "    # BEGIN SOLUTION\n",
    "    turn_to_north(robo)\n",
    "    robo.turn_left()\n",
    "    # END SOLUTION\n",
    "    \n",
    "def turn_to_south(robo):\n",
    "    # BEGIN SOLUTION\n",
    "    turn_to_west(robo)\n",
    "    robo.turn_left()\n",
    "    # END SOLUTION\n",
    "    \n",
    "def turn_to_east(robo):\n",
    "    # BEGIN SOLUTION\n",
    "    turn_to_south(robo)\n",
    "    robo.turn_left()\n",
    "    # END SOLUTION"
   ]
  },
  {
   "cell_type": "code",
   "execution_count": null,
   "id": "covered-ghana",
   "metadata": {
    "deletable": false,
    "editable": false
   },
   "outputs": [],
   "source": [
    "grader.check(\"q12\")"
   ]
  },
  {
   "cell_type": "markdown",
   "id": "proprietary-independence",
   "metadata": {},
   "source": [
    "***"
   ]
  },
  {
   "cell_type": "markdown",
   "id": "boolean-friend",
   "metadata": {},
   "source": [
    "Zücken Sie Stift und Papier, denn jetzt kommt eine Aufgabe bei der Sie Ihre Gehirnmuskeln anstrengen müssen und die viele Lösungen bietet. Unser Roboter ist bis hier hin noch nicht sonderlich intelligent. Wir wollen nun einen Algorithmus entwerfen, der den Roboter garantiert zu seinem Ziel führt. Wir wissen dabei dass:\n",
    "\n",
    "1. die Welt Rechteckig ist und\n",
    "2. sich in der Welt keine Wände (bis auf die Außenwände) befinden.\n",
    "\n",
    "Wir wissen aber nicht aus wie viele Spalten und Zeilen die Welt besteht und wo sich der Roboter befindet oder wie er ausgerichtet ist. Zum Beispiel könnte die Welt so aussehen:"
   ]
  },
  {
   "cell_type": "code",
   "execution_count": 47,
   "id": "sound-applicant",
   "metadata": {
    "scrolled": false
   },
   "outputs": [
    {
     "data": {
      "image/png": "[encoded data removed]",
      "text/plain": [
       "<Figure size 400x120 with 1 Axes>"
      ]
     },
     "execution_count": 47,
     "metadata": {},
     "output_type": "execute_result"
    }
   ],
   "source": [
    "nrows = 3\n",
    "ncols = 10\n",
    "world = rw.new_world(nrows = nrows, ncols = ncols)\n",
    "world.show()"
   ]
  },
  {
   "cell_type": "markdown",
   "id": "convenient-madison",
   "metadata": {},
   "source": [
    "Bevor wir loslegen wollen wir Ihnen noch eine Funktion anbieten, die Ihnen helfen könnte. Mit ``robo.is_at_goal()`` können Sie prüfen ob sich robo auf dem Ziel befindet."
   ]
  },
  {
   "cell_type": "markdown",
   "id": "canadian-builder",
   "metadata": {},
   "source": [
    "***\n",
    "***Aufgabe 13.*** \n",
    "Beschreiben Sie welchen Effekt folgende Funktion ``walk_to_wall(robo)`` auf ``robo`` hat."
   ]
  },
  {
   "cell_type": "code",
   "execution_count": 48,
   "id": "studied-picnic",
   "metadata": {},
   "outputs": [],
   "source": [
    "def walk_to_wall(robo):\n",
    "    while not robo.is_wall_in_front() and not robo.is_at_goal():\n",
    "        robo.move()\n",
    "    return robo.is_at_goal()"
   ]
  },
  {
   "cell_type": "markdown",
   "id": "equivalent-delta",
   "metadata": {},
   "source": [
    "_Type your answer here, replacing this text._"
   ]
  },
  {
   "cell_type": "markdown",
   "id": "cutting-direction",
   "metadata": {
    "tags": [
     "otter_assign_solution_cell"
    ]
   },
   "source": [
    "``walk_to_wall(robo)`` bewegt ``robo`` geradeaus solange bis er auf eine Wand oder das Ziel trifft."
   ]
  },
  {
   "cell_type": "markdown",
   "id": "another-fabric",
   "metadata": {},
   "source": [
    "***"
   ]
  },
  {
   "cell_type": "markdown",
   "id": "jewish-tribute",
   "metadata": {},
   "source": [
    "***\n",
    "***Aufgabe 14.*** \n",
    "Schreiben Sie nun Funktionen ``move_to_goal(robo)`` die ``robo`` in einer rechteckigen Welt ohne Hindernisse sicher zum Ziel bewegt. Mit ``robo.is_at_goal()`` können Sie prüfen ob sich ``robo`` auf dem Ziel befindet. Zur Erinnerung, Ihnen stehen folgende Funktionen zur Verfügung:\n",
    "\n",
    "Wir haben also bis hierher folgende Funktionen zur Verfügung:\n",
    "\n",
    "+ ``robo.move()``: bewegt ``robo`` ein Feld nach vorne\n",
    "+ ``move(robo, steps)``: bewegt ``robo`` um ``steps`` Felder nach vorne\n",
    "+ ``robo.turn_left()``: dreht ``robo`` um 90 nach links\n",
    "+ ``turn_right(robo)``: dreht ``robo`` um 90 nach rechts\n",
    "+ ``robo.is_wall_in_front()``: gibt ``True`` zurück wenn vor dem ``robo`` eine Wand ist und sonst ``False``\n",
    "+ ``robo.is_facing_north()``: gibt ``True`` zurück wenn ``robo`` nach Norden ausgerichtet ist und sonst ``False``\n",
    "+ ``turn_to_north(robo)``: dreht ``robo`` nach Norden\n",
    "+ ``turn_to_west(robo)``: dreht ``robo`` nach Westen\n",
    "+ ``turn_to_east(robo)``: dreht ``robo`` nach Osten\n",
    "+ ``turn_to_south(robo)``: dreht ``robo`` nach Süden\n",
    "+ ``robo.is_at_goal()``: gibt ``True`` zurück ``robo`` auf dem Ziel steht und sonst ``False``\n",
    "+ ``walk_to_wall(robo)``: bewegt ``robo`` geradeaus solange bis er auf eine Wand oder das Ziel trifft"
   ]
  },
  {
   "cell_type": "code",
   "execution_count": 49,
   "id": "senior-concord",
   "metadata": {
    "tags": [
     "otter_assign_solution_cell"
    ]
   },
   "outputs": [],
   "source": [
    "def move_to_goal(robo):\n",
    "    # BEGIN SOLUTION\n",
    "    turn_to_north(robo)\n",
    "    walk_to_wall(robo)\n",
    "    turn_to_west(robo)\n",
    "    walk_to_wall(robo)\n",
    "    \n",
    "    while not robo.is_at_goal():\n",
    "        turn_to_east(robo)\n",
    "        \n",
    "        if walk_to_wall(robo):\n",
    "            return\n",
    "        \n",
    "        turn_to_south(robo)\n",
    "        robo.move()\n",
    "        \n",
    "        turn_to_west(robo)\n",
    "        \n",
    "        if walk_to_wall(robo):\n",
    "            return\n",
    "        \n",
    "        turn_to_south(robo)\n",
    "        robo.move()    \n",
    "    \n",
    "    # END SOLUTION    "
   ]
  },
  {
   "cell_type": "code",
   "execution_count": null,
   "id": "activated-product",
   "metadata": {
    "deletable": false,
    "editable": false
   },
   "outputs": [],
   "source": [
    "grader.check(\"q14\")"
   ]
  },
  {
   "cell_type": "markdown",
   "id": "velvet-benchmark",
   "metadata": {},
   "source": [
    "Mir der Funktion ``rw.animate(world)``, können Sie sich eine Animation des Roboterlaufs auf Ihrer Welt ``world`` ansehen, der Aufruf kann ein wenig Zeit in Anspruch nehmen:"
   ]
  },
  {
   "cell_type": "code",
   "execution_count": 52,
   "id": "further-generation",
   "metadata": {},
   "outputs": [
    {
     "name": "stderr",
     "output_type": "stream",
     "text": [
      "MovieWriter imagemagick unavailable; using Pillow instead.\n"
     ]
    },
    {
     "data": {
      "text/html": [
       "\n",
       "<link rel=\"stylesheet\"\n",
       "href=\"https://maxcdn.bootstrapcdn.com/font-awesome/4.4.0/css/font-awesome.min.css\">\n",
       "<script language=\"javascript\">\n",
       "  function isInternetExplorer() {\n",
       "    ua = navigator.userAgent;\n",
       "    /* MSIE used to detect old browsers and Trident used to newer ones*/\n",
       "    return ua.indexOf(\"MSIE \") > -1 || ua.indexOf(\"Trident/\") > -1;\n",
       "  }\n",
       "\n",
       "  /* Define the Animation class */\n",
       "  function Animation(frames, img_id, slider_id, interval, loop_select_id){\n",
       "    this.img_id = img_id;\n",
       "    this.slider_id = slider_id;\n",
       "    this.loop_select_id = loop_select_id;\n",
       "    this.interval = interval;\n",
       "    this.current_frame = 0;\n",
       "    this.direction = 0;\n",
       "    this.timer = null;\n",
       "    this.frames = new Array(frames.length);\n",
       "\n",
       "    for (var i=0; i<frames.length; i++)\n",
       "    {\n",
       "     this.frames[i] = new Image();\n",
       "     this.frames[i].src = frames[i];\n",
       "    }\n",
       "    var slider = document.getElementById(this.slider_id);\n",
       "    slider.max = this.frames.length - 1;\n",
       "    if (isInternetExplorer()) {\n",
       "        // switch from oninput to onchange because IE <= 11 does not conform\n",
       "        // with W3C specification. It ignores oninput and onchange behaves\n",
       "        // like oninput. In contrast, Microsoft Edge behaves correctly.\n",
       "        slider.setAttribute('onchange', slider.getAttribute('oninput'));\n",
       "        slider.setAttribute('oninput', null);\n",
       "    }\n",
       "    this.set_frame(this.current_frame);\n",
       "  }\n",
       "\n",
       "  Animation.prototype.get_loop_state = function(){\n",
       "    var button_group = document[this.loop_select_id].state;\n",
       "    for (var i = 0; i < button_group.length; i++) {\n",
       "        var button = button_group[i];\n",
       "        if (button.checked) {\n",
       "            return button.value;\n",
       "        }\n",
       "    }\n",
       "    return undefined;\n",
       "  }\n",
       "\n",
       "  Animation.prototype.set_frame = function(frame){\n",
       "    this.current_frame = frame;\n",
       "    document.getElementById(this.img_id).src =\n",
       "            this.frames[this.current_frame].src;\n",
       "    document.getElementById(this.slider_id).value = this.current_frame;\n",
       "  }\n",
       "\n",
       "  Animation.prototype.next_frame = function()\n",
       "  {\n",
       "    this.set_frame(Math.min(this.frames.length - 1, this.current_frame + 1));\n",
       "  }\n",
       "\n",
       "  Animation.prototype.previous_frame = function()\n",
       "  {\n",
       "    this.set_frame(Math.max(0, this.current_frame - 1));\n",
       "  }\n",
       "\n",
       "  Animation.prototype.first_frame = function()\n",
       "  {\n",
       "    this.set_frame(0);\n",
       "  }\n",
       "\n",
       "  Animation.prototype.last_frame = function()\n",
       "  {\n",
       "    this.set_frame(this.frames.length - 1);\n",
       "  }\n",
       "\n",
       "  Animation.prototype.slower = function()\n",
       "  {\n",
       "    this.interval /= 0.7;\n",
       "    if(this.direction > 0){this.play_animation();}\n",
       "    else if(this.direction < 0){this.reverse_animation();}\n",
       "  }\n",
       "\n",
       "  Animation.prototype.faster = function()\n",
       "  {\n",
       "    this.interval *= 0.7;\n",
       "    if(this.direction > 0){this.play_animation();}\n",
       "    else if(this.direction < 0){this.reverse_animation();}\n",
       "  }\n",
       "\n",
       "  Animation.prototype.anim_step_forward = function()\n",
       "  {\n",
       "    this.current_frame += 1;\n",
       "    if(this.current_frame < this.frames.length){\n",
       "      this.set_frame(this.current_frame);\n",
       "    }else{\n",
       "      var loop_state = this.get_loop_state();\n",
       "      if(loop_state == \"loop\"){\n",
       "        this.first_frame();\n",
       "      }else if(loop_state == \"reflect\"){\n",
       "        this.last_frame();\n",
       "        this.reverse_animation();\n",
       "      }else{\n",
       "        this.pause_animation();\n",
       "        this.last_frame();\n",
       "      }\n",
       "    }\n",
       "  }\n",
       "\n",
       "  Animation.prototype.anim_step_reverse = function()\n",
       "  {\n",
       "    this.current_frame -= 1;\n",
       "    if(this.current_frame >= 0){\n",
       "      this.set_frame(this.current_frame);\n",
       "    }else{\n",
       "      var loop_state = this.get_loop_state();\n",
       "      if(loop_state == \"loop\"){\n",
       "        this.last_frame();\n",
       "      }else if(loop_state == \"reflect\"){\n",
       "        this.first_frame();\n",
       "        this.play_animation();\n",
       "      }else{\n",
       "        this.pause_animation();\n",
       "        this.first_frame();\n",
       "      }\n",
       "    }\n",
       "  }\n",
       "\n",
       "  Animation.prototype.pause_animation = function()\n",
       "  {\n",
       "    this.direction = 0;\n",
       "    if (this.timer){\n",
       "      clearInterval(this.timer);\n",
       "      this.timer = null;\n",
       "    }\n",
       "  }\n",
       "\n",
       "  Animation.prototype.play_animation = function()\n",
       "  {\n",
       "    this.pause_animation();\n",
       "    this.direction = 1;\n",
       "    var t = this;\n",
       "    if (!this.timer) this.timer = setInterval(function() {\n",
       "        t.anim_step_forward();\n",
       "    }, this.interval);\n",
       "  }\n",
       "\n",
       "  Animation.prototype.reverse_animation = function()\n",
       "  {\n",
       "    this.pause_animation();\n",
       "    this.direction = -1;\n",
       "    var t = this;\n",
       "    if (!this.timer) this.timer = setInterval(function() {\n",
       "        t.anim_step_reverse();\n",
       "    }, this.interval);\n",
       "  }\n",
       "</script>\n",
       "\n",
       "<style>\n",
       ".animation {\n",
       "    display: inline-block;\n",
       "    text-align: center;\n",
       "}\n",
       "input[type=range].anim-slider {\n",
       "    width: 374px;\n",
       "    margin-left: auto;\n",
       "    margin-right: auto;\n",
       "}\n",
       ".anim-buttons {\n",
       "    margin: 8px 0px;\n",
       "}\n",
       ".anim-buttons button {\n",
       "    padding: 0;\n",
       "    width: 36px;\n",
       "}\n",
       ".anim-state label {\n",
       "    margin-right: 8px;\n",
       "}\n",
       ".anim-state input {\n",
       "    margin: 0;\n",
       "    vertical-align: middle;\n",
       "}\n",
       "</style>\n",
       "\n",
       "<div class=\"animation\">\n",
       "  <img id=\"_anim_img0c021fc9c9b24692a498150399e69d83\">\n",
       "  <div class=\"anim-controls\">\n",
       "    <input id=\"_anim_slider0c021fc9c9b24692a498150399e69d83\" type=\"range\" class=\"anim-slider\"\n",
       "           name=\"points\" min=\"0\" max=\"1\" step=\"1\" value=\"0\"\n",
       "           oninput=\"anim0c021fc9c9b24692a498150399e69d83.set_frame(parseInt(this.value));\"></input>\n",
       "    <div class=\"anim-buttons\">\n",
       "      <button title=\"Decrease speed\" aria-label=\"Decrease speed\" onclick=\"anim0c021fc9c9b24692a498150399e69d83.slower()\">\n",
       "          <i class=\"fa fa-minus\"></i></button>\n",
       "      <button title=\"First frame\" aria-label=\"First frame\" onclick=\"anim0c021fc9c9b24692a498150399e69d83.first_frame()\">\n",
       "        <i class=\"fa fa-fast-backward\"></i></button>\n",
       "      <button title=\"Previous frame\" aria-label=\"Previous frame\" onclick=\"anim0c021fc9c9b24692a498150399e69d83.previous_frame()\">\n",
       "          <i class=\"fa fa-step-backward\"></i></button>\n",
       "      <button title=\"Play backwards\" aria-label=\"Play backwards\" onclick=\"anim0c021fc9c9b24692a498150399e69d83.reverse_animation()\">\n",
       "          <i class=\"fa fa-play fa-flip-horizontal\"></i></button>\n",
       "      <button title=\"Pause\" aria-label=\"Pause\" onclick=\"anim0c021fc9c9b24692a498150399e69d83.pause_animation()\">\n",
       "          <i class=\"fa fa-pause\"></i></button>\n",
       "      <button title=\"Play\" aria-label=\"Play\" onclick=\"anim0c021fc9c9b24692a498150399e69d83.play_animation()\">\n",
       "          <i class=\"fa fa-play\"></i></button>\n",
       "      <button title=\"Next frame\" aria-label=\"Next frame\" onclick=\"anim0c021fc9c9b24692a498150399e69d83.next_frame()\">\n",
       "          <i class=\"fa fa-step-forward\"></i></button>\n",
       "      <button title=\"Last frame\" aria-label=\"Last frame\" onclick=\"anim0c021fc9c9b24692a498150399e69d83.last_frame()\">\n",
       "          <i class=\"fa fa-fast-forward\"></i></button>\n",
       "      <button title=\"Increase speed\" aria-label=\"Increase speed\" onclick=\"anim0c021fc9c9b24692a498150399e69d83.faster()\">\n",
       "          <i class=\"fa fa-plus\"></i></button>\n",
       "    </div>\n",
       "    <form title=\"Repetition mode\" aria-label=\"Repetition mode\" action=\"#n\" name=\"_anim_loop_select0c021fc9c9b24692a498150399e69d83\"\n",
       "          class=\"anim-state\">\n",
       "      <input type=\"radio\" name=\"state\" value=\"once\" id=\"_anim_radio1_0c021fc9c9b24692a498150399e69d83\"\n",
       "             >\n",
       "      <label for=\"_anim_radio1_0c021fc9c9b24692a498150399e69d83\">Once</label>\n",
       "      <input type=\"radio\" name=\"state\" value=\"loop\" id=\"_anim_radio2_0c021fc9c9b24692a498150399e69d83\"\n",
       "             checked>\n",
       "      <label for=\"_anim_radio2_0c021fc9c9b24692a498150399e69d83\">Loop</label>\n",
       "      <input type=\"radio\" name=\"state\" value=\"reflect\" id=\"_anim_radio3_0c021fc9c9b24692a498150399e69d83\"\n",
       "             >\n",
       "      <label for=\"_anim_radio3_0c021fc9c9b24692a498150399e69d83\">Reflect</label>\n",
       "    </form>\n",
       "  </div>\n",
       "</div>\n",
       "\n",
       "\n",
       "<script language=\"javascript\">\n",
       "  /* Instantiate the Animation class. */\n",
       "  /* The IDs given should match those used in the template above. */\n",
       "  (function() {\n",
       "    var img_id = \"_anim_img0c021fc9c9b24692a498150399e69d83\";\n",
       "    var slider_id = \"_anim_slider0c021fc9c9b24692a498150399e69d83\";\n",
       "    var loop_select_id = \"_anim_loop_select0c021fc9c9b24692a498150399e69d83\";\n",
       "    var frames = new Array(31);\n",
       "    \n",
       "  frames[0] = \"data:image/png;base64,iVBORw0KGgoAAAANSUhEUgAAAZAAAAGQCAYAAACAvzbMAAAAOXRFWHRTb2Z0d2FyZQBNYXRwbG90\\\n",
       "bGliIHZlcnNpb24zLjQuMywgaHR0cHM6Ly9tYXRwbG90bGliLm9yZy/MnkTPAAAACXBIWXMAAAxO\\\n",
       "AAAMTgF/d4wjAAAIEUlEQVR4nO3YMWo3XRmH4ZkXBRMGw8C3ApdglhDsLMwOghBwAW5AcAEpE/6F\\\n",
       "6SxTqFtwJfYJFonduIJp7lOcfHBdK/hxTnHDs/748eO4ublZvqt1XZfjOGbPOGXfmJ/DvmX9vvuW\\\n",
       "4/u/n33dd9/3i5ubm+X24272jlMPl/vl9fFt9oxT9o357vv+9I8/LP/5zd9mzzj107//+K3f77v/\\\n",
       "r31jfsweAMDPk4AAkAgIAImAAJAICACJgACQCAgAiYAAkAgIAImAAJAICACJgACQCAgAiYAAkAgI\\\n",
       "AImAAJAICACJgACQCAgAiYAAkAgIAImAAJAICACJgACQCAgAiYAAkAgIAImAAJAICACJgACQCAgA\\\n",
       "iYAAkAgIAImAAJAICACJgACQCAgAiYAAkKzbth3PTy+zd5y63q+Wz/ev2TNO2TfGvjH2jbFvzLrv\\\n",
       "+3H7cTd7x6mHy/3y+vg2e8Yp+8bYN8a+MfaNccICIBEQABIBASAREAASAQEgERAAEgEBIBEQABIB\\\n",
       "ASAREAASAQEgERAAEgEBIBEQABIBASAREAASAQEgERAAEgEBIBEQABIBASAREAASAQEgERAAEgEB\\\n",
       "IBEQABIBASAREAASAQEgERAAEgEBIBEQABIBASAREAASAQEgERAAEgEBIBEQAJJ127bj+ell9o5T\\\n",
       "209Xy69++d/ZM059/u/Xy+f71+wZp673K/sG2DfGvjHffd+67/tx+3E3e8epP//z98vvfvvX2TNO\\\n",
       "/f1ff1leH99mzzj1cLm3b4B9Y+wb8933OWEBkAgIAImAAJAICACJgACQCAgAiYAAkAgIAImAAJAI\\\n",
       "CACJgACQCAgAiYAAkAgIAImAAJAICACJgACQCAgAiYAAkAgIAImAAJAICACJgACQCAgAiYAAkAgI\\\n",
       "AImAAJAICACJgACQCAgAiYAAkAgIAImAAJAICACJgACQCAgAiYAAkAgIAMm6bdvx/PQye8ep6/1q\\\n",
       "+Xz/mj3jlH1j7Btj3xj7xqz7vh+3H3ezd5x6uNwvr49vs2ecsm+MfWPsG2PfGCcsABIBASAREAAS\\\n",
       "AQEgERAAEgEBIBEQABIBASAREAASAQEgERAAEgEBIBEQABIBASAREAASAQEgERAAEgEBIBEQABIB\\\n",
       "ASAREAASAQEgERAAEgEBIBEQABIBASAREAASAQEgERAAEgEBIBEQABIBASAREAASAQEgERAAEgEB\\\n",
       "IBEQABIBASBZt207np9eZu84db1fLZ/vX7NnnLJvjH1j7Btj35h13/fj9uNu9o5TD5f75fXxbfaM\\\n",
       "U/aNsW+MfWPsG+OEBUAiIAAkAgJAIiAAJAICQCIgACQCAkAiIAAkAgJAIiAAJAICQCIgACQCAkAi\\\n",
       "IAAkAgJAIiAAJAICQCIgACQCAkAiIAAkAgJAIiAAJAICQCIgACQCAkAiIAAkAgJAIiAAJAICQCIg\\\n",
       "ACQCAkAiIAAkAgJAIiAAJAICQCIgACQCAkAiIAAk67Ztx/PTy+wdp673q+Xz/Wv2jFP2jbFvjH1j\\\n",
       "7Buz7vt+3H7czd5x6uFyv7w+vs2eccq+MfaNsW+MfWOcsABIBASAREAASAQEgERAAEgEBIBEQABI\\\n",
       "BASAREAASAQEgERAAEgEBIBEQABIBASAREAASAQEgERAAEgEBIBEQABIBASAREAASAQEgERAAEgE\\\n",
       "BIBEQABIBASAREAASAQEgERAAEgEBIBEQABIBASAREAASAQEgERAAEgEBIBEQABIBASAZN227Xh+\\\n",
       "epm949T1frV8vn/NnnHKvjH2jbFvjH1j1n3fj9uPu9k7Tj1c7pfXx7fZM07ZN8a+MfaNsW+MExYA\\\n",
       "iYAAkAgIAImAAJAICACJgACQCAgAiYAAkAgIAImAAJAICACJgACQCAgAiYAAkAgIAImAAJAICACJ\\\n",
       "gACQCAgAiYAAkAgIAImAAJAICACJgACQCAgAiYAAkAgIAImAAJAICACJgACQCAgAiYAAkAgIAImA\\\n",
       "AJAICACJgACQCAgAiYAAkKzbth3PTy+zd5y63q+Wz/ev2TNO2TfGvjH2jbFvzLrv+3H7cTd7x6mH\\\n",
       "y/3y+vg2e8Yp+8bYN8a+MfaNccICIBEQABIBASAREAASAQEgERAAEgEBIBEQABIBASAREAASAQEg\\\n",
       "ERAAEgEBIBEQABIBASAREAASAQEgERAAEgEBIBEQABIBASAREAASAQEgERAAEgEBIBEQABIBASAR\\\n",
       "EAASAQEgERAAEgEBIBEQABIBASAREAASAQEgERAAEgEBIBEQAJJ127bj+ell9o5T1/vV8vn+NXvG\\\n",
       "KfvG2DfGvjH2jVn3fT9uP+5m7zj1cLlfXh/fZs84Zd8Y+8bYN8a+MU5YACQCAkAiIAAkAgJAIiAA\\\n",
       "JAICQCIgACQCAkAiIAAkAgJAIiAAJAICQCIgACQCAkAiIAAkAgJAIiAAJAICQCIgACQCAkAiIAAk\\\n",
       "AgJAIiAAJAICQCIgACQCAkAiIAAkAgJAIiAAJAICQCIgACQCAkAiIAAkAgJAIiAAJAICQCIgACQC\\\n",
       "AkCybtt2PD+9zN5x6nq/Wj7fv2bPOGXfGPvG2DfGvjHrvu/H7cfd7B2nHi73y+vj2+wZp+wbY98Y\\\n",
       "+8bYN8YJC4BEQABIBASAREAASAQEgERAAEgEBIBEQABIBASAREAASAQEgERAAEgEBIBEQABIBASA\\\n",
       "REAASAQEgERAAEgEBIBEQABIBASAREAASAQEgERAAEgEBIBEQABIBASAREAASAQEgERAAEgEBIBE\\\n",
       "QABIBASAREAASAQEgERAAEgEBIBEQABI/g+GPlJPIyjOxgAAAABJRU5ErkJggg==\\\n",
       "\"\n",
       "  frames[1] = \"data:image/png;base64,iVBORw0KGgoAAAANSUhEUgAAAZAAAAGQCAYAAACAvzbMAAAAOXRFWHRTb2Z0d2FyZQBNYXRwbG90\\\n",
       "bGliIHZlcnNpb24zLjQuMywgaHR0cHM6Ly9tYXRwbG90bGliLm9yZy/MnkTPAAAACXBIWXMAAAxO\\\n",
       "AAAMTgF/d4wjAAAID0lEQVR4nO3YMWo/Wx2H4Zk/CiYMhgFdhd39LSHY3SY7SJPWyl4EsU6ZkCad\\\n",
       "ZZpr51ZcQ4JFYjeuYJr3FCfC86zgwznFC9/1x48fx83NzfJdreu6HMcxe8Yp+8as67qs6/fddxzf\\\n",
       "//3s6+wb86ubm5vl8nE7e8ep+5e75fXhbfaMU/aN+dMvPy+//8NfZs849e9//f1bv993/1/7xnz3\\\n",
       "fT9mDwDg/5OAAJAICACJgACQCAgAiYAAkAgIAImAAJAICACJgACQCAgAiYAAkAgIAImAAJAICACJ\\\n",
       "gACQCAgAiYAAkAgIAImAAJAICACJgACQCAgAiYAAkAgIAImAAJAICACJgACQCAgAiYAAkAgIAImA\\\n",
       "AJAICACJgACQCAgAiYAAkAgIAImAAJCs27YdT4/Ps3ecut6vls/3r9kzTtk3xr4x9o2xb8y67/tx\\\n",
       "+bidvePU/cvd8vrwNnvGKfvG2DfGvjH2jXHCAiAREAASAQEgERAAEgEBIBEQABIBASAREAASAQEg\\\n",
       "ERAAEgEBIBEQABIBASAREAASAQEgERAAEgEBIBEQABIBASAREAASAQEgERAAEgEBIBEQABIBASAR\\\n",
       "EAASAQEgERAAEgEBIBEQABIBASAREAASAQEgERAAEgEBIBEQABIBASAREACSddu24+nxefaOU9vv\\\n",
       "rpbf/Po/s2ec+vzvb5fP96/ZM05d71f2DbBvjH1jvvu+dd/34/JxO3vHqT//8vPyx5/+NnvGqX/8\\\n",
       "86/L68Pb7Bmn7l/u7Btg3xj7xnz3fU5YACQCAkAiIAAkAgJAIiAAJAICQCIgACQCAkAiIAAkAgJA\\\n",
       "IiAAJAICQCIgACQCAkAiIAAkAgJAIiAAJAICQCIgACQCAkAiIAAkAgJAIiAAJAICQCIgACQCAkAi\\\n",
       "IAAkAgJAIiAAJAICQCIgACQCAkAiIAAkAgJAIiAAJAICQCIgACQCAkCybtt2PD0+z95x6nq/Wj7f\\\n",
       "v2bPOGXfGPvG2DfGvjHrvu/H5eN29o5T9y93y+vD2+wZp+wbY98Y+8bYN8YJC4BEQABIBASAREAA\\\n",
       "SAQEgERAAEgEBIBEQABIBASAREAASAQEgERAAEgEBIBEQABIBASAREAASAQEgERAAEgEBIBEQABI\\\n",
       "BASAREAASAQEgERAAEgEBIBEQABIBASAREAASAQEgERAAEgEBIBEQABIBASAREAASAQEgERAAEgE\\\n",
       "BIBEQABI1m3bjqfH59k7Tl3vV8vn+9fsGafsG2PfGPvG2Ddm3ff9uHzczt5x6v7lbnl9eJs945R9\\\n",
       "Y+wbY98Y+8Y4YQGQCAgAiYAAkAgIAImAAJAICACJgACQCAgAiYAAkAgIAImAAJAICACJgACQCAgA\\\n",
       "iYAAkAgIAImAAJAICACJgACQCAgAiYAAkAgIAImAAJAICACJgACQCAgAiYAAkAgIAImAAJAICACJ\\\n",
       "gACQCAgAiYAAkAgIAImAAJAICACJgACQCAgAybpt2/H0+Dx7x6nr/Wr5fP+aPeOUfWPsG2PfGPvG\\\n",
       "rPu+H5eP29k7Tt2/3C2vD2+zZ5yyb4x9Y+wbY98YJywAEgEBIBEQABIBASAREAASAQEgERAAEgEB\\\n",
       "IBEQABIBASAREAASAQEgERAAEgEBIBEQABIBASAREAASAQEgERAAEgEBIBEQABIBASAREAASAQEg\\\n",
       "ERAAEgEBIBEQABIBASAREAASAQEgERAAEgEBIBEQABIBASAREAASAQEgERAAEgEBIFm3bTueHp9n\\\n",
       "7zh1vV8tn+9fs2ecsm+MfWPsG2PfmHXf9+PycTt7x6n7l7vl9eFt9oxT9o2xb4x9Y+wb44QFQCIg\\\n",
       "ACQCAkAiIAAkAgJAIiAAJAICQCIgACQCAkAiIAAkAgJAIiAAJAICQCIgACQCAkAiIAAkAgJAIiAA\\\n",
       "JAICQCIgACQCAkAiIAAkAgJAIiAAJAICQCIgACQCAkAiIAAkAgJAIiAAJAICQCIgACQCAkAiIAAk\\\n",
       "AgJAIiAAJAICQCIgACTrtm3H0+Pz7B2nrver5fP9a/aMU/aNsW+MfWPsG7Pu+35cPm5n7zh1/3K3\\\n",
       "vD68zZ5xyr4x9o2xb4x9Y5ywAEgEBIBEQABIBASAREAASAQEgERAAEgEBIBEQABIBASAREAASAQE\\\n",
       "gERAAEgEBIBEQABIBASAREAASAQEgERAAEgEBIBEQABIBASAREAASAQEgERAAEgEBIBEQABIBASA\\\n",
       "REAASAQEgERAAEgEBIBEQABIBASAREAASAQEgERAAEgEBIBk3bbteHp8nr3j1PV+tXy+f82eccq+\\\n",
       "MfaNsW+MfWPWfd+Py8ft7B2n7l/ulteHt9kzTtk3xr4x9o2xb4wTFgCJgACQCAgAiYAAkAgIAImA\\\n",
       "AJAICACJgACQCAgAiYAAkAgIAImAAJAICACJgACQCAgAiYAAkAgIAImAAJAICACJgACQCAgAiYAA\\\n",
       "kAgIAImAAJAICACJgACQCAgAiYAAkAgIAImAAJAICACJgACQCAgAiYAAkAgIAImAAJAICACJgACQ\\\n",
       "rNu2HU+Pz7N3nLrer5bP96/ZM07ZN8a+MfaNsW/Muu/7cfm4nb3j1P3L3fL68DZ7xin7xtg3xr4x\\\n",
       "9o1xwgIgERAAEgEBIBEQABIBASAREAASAQEgERAAEgEBIBEQABIBASAREAASAQEgERAAEgEBIBEQ\\\n",
       "ABIBASAREAASAQEgERAAEgEBIBEQABIBASAREAASAQEgERAAEgEBIBEQABIBASAREAASAQEgERAA\\\n",
       "EgEBIBEQABIBASAREAASAQEgERAAkv8BXfBTT5MGHHkAAAAASUVORK5CYII=\\\n",
       "\"\n",
       "  frames[2] = \"data:image/png;base64,iVBORw0KGgoAAAANSUhEUgAAAZAAAAGQCAYAAACAvzbMAAAAOXRFWHRTb2Z0d2FyZQBNYXRwbG90\\\n",
       "bGliIHZlcnNpb24zLjQuMywgaHR0cHM6Ly9tYXRwbG90bGliLm9yZy/MnkTPAAAACXBIWXMAAAxO\\\n",
       "AAAMTgF/d4wjAAAID0lEQVR4nO3YMWo/Wx2H4Zk/CiYMhgFdhZ2/JQS722QHadJa2Ysg1ikT0qSz\\\n",
       "THPt3IprSLBI7MYVTPOe4uTC86zgwznFC9/1x48fx83NzfJdreu6HMcxe8apX8K+df2++47j+7+f\\\n",
       "fZ19Y777vl/d3Nwsl4/b2TtO3b/cLa8Pb7NnnPru+/7880/L7//w19kzTv3n3//41u/33f/XvjH2\\\n",
       "jfkxewAAv0wCAkAiIAAkAgJAIiAAJAICQCIgACQCAkAiIAAkAgJAIiAAJAICQCIgACQCAkAiIAAk\\\n",
       "AgJAIiAAJAICQCIgACQCAkAiIAAkAgJAIiAAJAICQCIgACQCAkAiIAAkAgJAIiAAJAICQCIgACQC\\\n",
       "AkAiIAAkAgJAIiAAJAICQCIgACQCAkCybtt2PD0+z95x6nq/Wj7fv2bPOGXfGPvG2DfGvjHrvu/H\\\n",
       "5eN29o5T9y93y+vD2+wZp+wbY98Y+8bYN8YJC4BEQABIBASAREAASAQEgERAAEgEBIBEQABIBASA\\\n",
       "REAASAQEgERAAEgEBIBEQABIBASAREAASAQEgERAAEgEBIBEQABIBASAREAASAQEgERAAEgEBIBE\\\n",
       "QABIBASAREAASAQEgERAAEgEBIBEQABIBASAREAASAQEgERAAEgEBIBEQABI1m3bjqfH59k7Tm2/\\\n",
       "u1p+8+v/zp5x6vN/v10+379mzzh1vV/ZN8C+MfaN+e771n3fj8vH7ewdp/7y80/Ln/7499kzTv3z\\\n",
       "X39bXh/eZs84df9yZ98A+8bYN+a773PCAiAREAASAQEgERAAEgEBIBEQABIBASAREAASAQEgERAA\\\n",
       "EgEBIBEQABIBASAREAASAQEgERAAEgEBIBEQABIBASAREAASAQEgERAAEgEBIBEQABIBASAREAAS\\\n",
       "AQEgERAAEgEBIBEQABIBASAREAASAQEgERAAEgEBIBEQABIBASAREACSddu24+nxefaOU9f71fL5\\\n",
       "/jV7xin7xtg3xr4x9o1Z930/Lh+3s3ecun+5W14f3mbPOGXfGPvG2DfGvjFOWAAkAgJAIiAAJAIC\\\n",
       "QCIgACQCAkAiIAAkAgJAIiAAJAICQCIgACQCAkAiIAAkAgJAIiAAJAICQCIgACQCAkAiIAAkAgJA\\\n",
       "IiAAJAICQCIgACQCAkAiIAAkAgJAIiAAJAICQCIgACQCAkAiIAAkAgJAIiAAJAICQCIgACQCAkAi\\\n",
       "IAAkAgJAsm7bdjw9Ps/ecep6v1o+379mzzhl3xj7xtg3xr4x677vx+XjdvaOU/cvd8vrw9vsGafs\\\n",
       "G2PfGPvG2DfGCQuAREAASAQEgERAAEgEBIBEQABIBASAREAASAQEgERAAEgEBIBEQABIBASAREAA\\\n",
       "SAQEgERAAEgEBIBEQABIBASAREAASAQEgERAAEgEBIBEQABIBASAREAASAQEgERAAEgEBIBEQABI\\\n",
       "BASAREAASAQEgERAAEgEBIBEQABIBASAREAASNZt246nx+fZO05d71fL5/vX7Bmn7Btj3xj7xtg3\\\n",
       "Zt33/bh83M7ecer+5W55fXibPeOUfWPsG2PfGPvGOGEBkAgIAImAAJAICACJgACQCAgAiYAAkAgI\\\n",
       "AImAAJAICACJgACQCAgAiYAAkAgIAImAAJAICACJgACQCAgAiYAAkAgIAImAAJAICACJgACQCAgA\\\n",
       "iYAAkAgIAImAAJAICACJgACQCAgAiYAAkAgIAImAAJAICACJgACQCAgAiYAAkAgIAMm6bdvx9Pg8\\\n",
       "e8ep6/1q+Xz/mj3jlH1j7Btj3xj7xqz7vh+Xj9vZO07dv9wtrw9vs2ecsm+MfWPsG2PfGCcsABIB\\\n",
       "ASAREAASAQEgERAAEgEBIBEQABIBASAREAASAQEgERAAEgEBIBEQABIBASAREAASAQEgERAAEgEB\\\n",
       "IBEQABIBASAREAASAQEgERAAEgEBIBEQABIBASAREAASAQEgERAAEgEBIBEQABIBASAREAASAQEg\\\n",
       "ERAAEgEBIBEQABIBASBZt207nh6fZ+84db1fLZ/vX7NnnLJvjH1j7Btj35h13/fj8nE7e8ep+5e7\\\n",
       "5fXhbfaMU/aNsW+MfWPsG+OEBUAiIAAkAgJAIiAAJAICQCIgACQCAkAiIAAkAgJAIiAAJAICQCIg\\\n",
       "ACQCAkAiIAAkAgJAIiAAJAICQCIgACQCAkAiIAAkAgJAIiAAJAICQCIgACQCAkAiIAAkAgJAIiAA\\\n",
       "JAICQCIgACQCAkAiIAAkAgJAIiAAJAICQCIgACQCAkAiIAAk67Ztx9Pj8+wdp673q+Xz/Wv2jFP2\\\n",
       "jbFvjH1j7Buz7vt+XD5uZ+84df9yt7w+vM2eccq+MfaNsW+MfWOcsABIBASAREAASAQEgERAAEgE\\\n",
       "BIBEQABIBASAREAASAQEgERAAEgEBIBEQABIBASAREAASAQEgERAAEgEBIBEQABIBASAREAASAQE\\\n",
       "gERAAEgEBIBEQABIBASAREAASAQEgERAAEgEBIBEQABIBASAREAASAQEgERAAEgEBIBEQABIBASA\\\n",
       "ZN227Xh6fJ6949T1frV8vn/NnnHKvjH2jbFvjH1j1n3fj8vH7ewdp+5f7pbXh7fZM07ZN8a+MfaN\\\n",
       "sW+MExYAiYAAkAgIAImAAJAICACJgACQCAgAiYAAkAgIAImAAJAICACJgACQCAgAiYAAkAgIAImA\\\n",
       "AJAICACJgACQCAgAiYAAkAgIAImAAJAICACJgACQCAgAiYAAkAgIAImAAJAICACJgACQCAgAiYAA\\\n",
       "kAgIAImAAJAICACJgACQCAgAiYAAkPwfXfBTT/L+144AAAAASUVORK5CYII=\\\n",
       "\"\n",
       "  frames[3] = \"data:image/png;base64,iVBORw0KGgoAAAANSUhEUgAAAZAAAAGQCAYAAACAvzbMAAAAOXRFWHRTb2Z0d2FyZQBNYXRwbG90\\\n",
       "bGliIHZlcnNpb24zLjQuMywgaHR0cHM6Ly9tYXRwbG90bGliLm9yZy/MnkTPAAAACXBIWXMAAAxO\\\n",
       "AAAMTgF/d4wjAAAID0lEQVR4nO3YMWo/Wx2H4Zk/CiYMhgFdhd39LSHY3SY7SJPWyl4EsU6ZkCad\\\n",
       "ZZpr51ZcQ4JFYjeuYJr3FCfC86zgwznFC9/1x48fx83NzfJdreu6HMcxe8apdV2Xdf2++47j+7+f\\\n",
       "fZ19Y+wb86ubm5vl8nE7e8ep+5e75fXhbfaMU3/65efl93/4y+wZp/79r79/6/f77v9r3xj7xnz3\\\n",
       "fT9mDwDg/5OAAJAICACJgACQCAgAiYAAkAgIAImAAJAICACJgACQCAgAiYAAkAgIAImAAJAICACJ\\\n",
       "gACQCAgAiYAAkAgIAImAAJAICACJgACQCAgAiYAAkAgIAImAAJAICACJgACQCAgAiYAAkAgIAImA\\\n",
       "AJAICACJgACQCAgAiYAAkAgIAImAAJCs27YdT4/Ps3ecut6vls/3r9kzTtk3xr4x9o2xb8y67/tx\\\n",
       "+bidvePU/cvd8vrwNnvGKfvG2DfGvjH2jXHCAiAREAASAQEgERAAEgEBIBEQABIBASAREAASAQEg\\\n",
       "ERAAEgEBIBEQABIBASAREAASAQEgERAAEgEBIBEQABIBASAREAASAQEgERAAEgEBIBEQABIBASAR\\\n",
       "EAASAQEgERAAEgEBIBEQABIBASAREAASAQEgERAAEgEBIBEQABIBASAREACSddu24+nxefaOU9vv\\\n",
       "rpbf/Po/s2ec+vzvb5fP96/ZM05d71f2DbBvjH1jvvu+dd/34/JxO3vHqT//8vPyx5/+NnvGqX/8\\\n",
       "86/L68Pb7Bmn7l/u7Btg3xj7xnz3fU5YACQCAkAiIAAkAgJAIiAAJAICQCIgACQCAkAiIAAkAgJA\\\n",
       "IiAAJAICQCIgACQCAkAiIAAkAgJAIiAAJAICQCIgACQCAkAiIAAkAgJAIiAAJAICQCIgACQCAkAi\\\n",
       "IAAkAgJAIiAAJAICQCIgACQCAkAiIAAkAgJAIiAAJAICQCIgACQCAkCybtt2PD0+z95x6nq/Wj7f\\\n",
       "v2bPOGXfGPvG2DfGvjHrvu/H5eN29o5T9y93y+vD2+wZp+wbY98Y+8bYN8YJC4BEQABIBASAREAA\\\n",
       "SAQEgERAAEgEBIBEQABIBASAREAASAQEgERAAEgEBIBEQABIBASAREAASAQEgERAAEgEBIBEQABI\\\n",
       "BASAREAASAQEgERAAEgEBIBEQABIBASAREAASAQEgERAAEgEBIBEQABIBASAREAASAQEgERAAEgE\\\n",
       "BIBEQABI1m3bjqfH59k7Tl3vV8vn+9fsGafsG2PfGPvG2Ddm3ff9uHzczt5x6v7lbnl9eJs945R9\\\n",
       "Y+wbY98Y+8Y4YQGQCAgAiYAAkAgIAImAAJAICACJgACQCAgAiYAAkAgIAImAAJAICACJgACQCAgA\\\n",
       "iYAAkAgIAImAAJAICACJgACQCAgAiYAAkAgIAImAAJAICACJgACQCAgAiYAAkAgIAImAAJAICACJ\\\n",
       "gACQCAgAiYAAkAgIAImAAJAICACJgACQCAgAybpt2/H0+Dx7x6nr/Wr5fP+aPeOUfWPsG2PfGPvG\\\n",
       "rPu+H5eP29k7Tt2/3C2vD2+zZ5yyb4x9Y+wbY98YJywAEgEBIBEQABIBASAREAASAQEgERAAEgEB\\\n",
       "IBEQABIBASAREAASAQEgERAAEgEBIBEQABIBASAREAASAQEgERAAEgEBIBEQABIBASAREAASAQEg\\\n",
       "ERAAEgEBIBEQABIBASAREAASAQEgERAAEgEBIBEQABIBASAREAASAQEgERAAEgEBIFm3bTueHp9n\\\n",
       "7zh1vV8tn+9fs2ecsm+MfWPsG2PfmHXf9+PycTt7x6n7l7vl9eFt9oxT9o2xb4x9Y+wb44QFQCIg\\\n",
       "ACQCAkAiIAAkAgJAIiAAJAICQCIgACQCAkAiIAAkAgJAIiAAJAICQCIgACQCAkAiIAAkAgJAIiAA\\\n",
       "JAICQCIgACQCAkAiIAAkAgJAIiAAJAICQCIgACQCAkAiIAAkAgJAIiAAJAICQCIgACQCAkAiIAAk\\\n",
       "AgJAIiAAJAICQCIgACTrtm3H0+Pz7B2nrver5fP9a/aMU/aNsW+MfWPsG7Pu+35cPm5n7zh1/3K3\\\n",
       "vD68zZ5xyr4x9o2xb4x9Y5ywAEgEBIBEQABIBASAREAASAQEgERAAEgEBIBEQABIBASAREAASAQE\\\n",
       "gERAAEgEBIBEQABIBASAREAASAQEgERAAEgEBIBEQABIBASAREAASAQEgERAAEgEBIBEQABIBASA\\\n",
       "REAASAQEgERAAEgEBIBEQABIBASAREAASAQEgERAAEgEBIBk3bbteHp8nr3j1PV+tXy+f82eccq+\\\n",
       "MfaNsW+MfWPWfd+Py8ft7B2n7l/ulteHt9kzTtk3xr4x9o2xb4wTFgCJgACQCAgAiYAAkAgIAImA\\\n",
       "AJAICACJgACQCAgAiYAAkAgIAImAAJAICACJgACQCAgAiYAAkAgIAImAAJAICACJgACQCAgAiYAA\\\n",
       "kAgIAImAAJAICACJgACQCAgAiYAAkAgIAImAAJAICACJgACQCAgAiYAAkAgIAImAAJAICACJgACQ\\\n",
       "rNu2HU+Pz7N3nLrer5bP96/ZM07ZN8a+MfaNsW/Muu/7cfm4nb3j1P3L3fL68DZ7xin7xtg3xr4x\\\n",
       "9o1xwgIgERAAEgEBIBEQABIBASAREAASAQEgERAAEgEBIBEQABIBASAREAASAQEgERAAEgEBIBEQ\\\n",
       "ABIBASAREAASAQEgERAAEgEBIBEQABIBASAREAASAQEgERAAEgEBIBEQABIBASAREAASAQEgERAA\\\n",
       "EgEBIBEQABIBASAREAASAQEgERAAkv8BXfBTT+AT2M0AAAAASUVORK5CYII=\\\n",
       "\"\n",
       "  frames[4] = \"data:image/png;base64,iVBORw0KGgoAAAANSUhEUgAAAZAAAAGQCAYAAACAvzbMAAAAOXRFWHRTb2Z0d2FyZQBNYXRwbG90\\\n",
       "bGliIHZlcnNpb24zLjQuMywgaHR0cHM6Ly9tYXRwbG90bGliLm9yZy/MnkTPAAAACXBIWXMAAAxO\\\n",
       "AAAMTgF/d4wjAAAICElEQVR4nO3YIW42awGG4Zk/kNBmQjMJrAJ3viU0uGO6g5paFJ6QEHRlm5o6\\\n",
       "ZM3BsRXW0AbR4oYVjLlf8ZbkulbwuDt51h8/fhw3NzfLd7Wu67Kux+wZp45jXY7j++5bV/tG2DfG\\\n",
       "vjHffd+vbm5ulsvH7ewdp/70y8/L7//wl9kzTv37X39fXh/eZs84df9yZ98A+8bYN+a77/sxewAA\\\n",
       "/58EBIBEQABIBASAREAASAQEgERAAEgEBIBEQABIBASAREAASAQEgERAAEgEBIBEQABIBASAREAA\\\n",
       "SAQEgERAAEgEBIBEQABIBASAREAASAQEgERAAEgEBIBEQABIBASAREAASAQEgERAAEgEBIBEQABI\\\n",
       "BASAREAASAQEgERAAEgEBIBk3bbteHp8nr3j1PV+tXy+f82eccq+MfaNsW+MfWPWfd+Py8ft7B2n\\\n",
       "7l/ulteHt9kzTtk3xr4x9o2xb4wLC4BEQABIBASAREAASAQEgERAAEgEBIBEQABIBASAREAASAQE\\\n",
       "gERAAEgEBIBEQABIBASAREAASAQEgERAAEgEBIBEQABIBASAREAASAQEgERAAEgEBIBEQABIBASA\\\n",
       "REAASAQEgERAAEgEBIBEQABIBASAREAASAQEgERAAEgEBIBEQABI1m3bjqfH59k7Tm2/u1p+8+v/\\\n",
       "zJ5x6vO/v10+379mzzh1vV/ZN8C+MfaN+e771n3fj8vH7ewdp/78y8/LH3/62+wZp/7xz78urw9v\\\n",
       "s2ecun+5s2+AfWPsG/Pd97mwAEgEBIBEQABIBASAREAASAQEgERAAEgEBIBEQABIBASAREAASAQE\\\n",
       "gERAAEgEBIBEQABIBASAREAASAQEgERAAEgEBIBEQABIBASAREAASAQEgERAAEgEBIBEQABIBASA\\\n",
       "REAASAQEgERAAEgEBIBEQABIBASAREAASAQEgERAAEgEBIBk3bbteHp8nr3j1PV+tXy+f82eccq+\\\n",
       "MfaNsW+MfWPWfd+Py8ft7B2n7l/ulteHt9kzTtk3xr4x9o2xb4wLC4BEQABIBASAREAASAQEgERA\\\n",
       "AEgEBIBEQABIBASAREAASAQEgERAAEgEBIBEQABIBASAREAASAQEgERAAEgEBIBEQABIBASAREAA\\\n",
       "SAQEgERAAEgEBIBEQABIBASAREAASAQEgERAAEgEBIBEQABIBASAREAASAQEgERAAEgEBIBEQABI\\\n",
       "1m3bjqfH59k7Tl3vV8vn+9fsGafsG2PfGPvG2Ddm3ff9uHzczt5x6v7lbnl9eJs945R9Y+wbY98Y\\\n",
       "+8a4sABIBASAREAASAQEgERAAEgEBIBEQABIBASAREAASAQEgERAAEgEBIBEQABIBASAREAASAQE\\\n",
       "gERAAEgEBIBEQABIBASAREAASAQEgERAAEgEBIBEQABIBASAREAASAQEgERAAEgEBIBEQABIBASA\\\n",
       "REAASAQEgERAAEgEBIBEQABIBASAZN227Xh6fJ6949T1frV8vn/NnnHKvjH2jbFvjH1j1n3fj8vH\\\n",
       "7ewdp+5f7pbXh7fZM07ZN8a+MfaNsW+MCwuAREAASAQEgERAAEgEBIBEQABIBASAREAASAQEgERA\\\n",
       "AEgEBIBEQABIBASAREAASAQEgERAAEgEBIBEQABIBASAREAASAQEgERAAEgEBIBEQABIBASAREAA\\\n",
       "SAQEgERAAEgEBIBEQABIBASAREAASAQEgERAAEgEBIBEQABIBASAREAASNZt246nx+fZO05d71fL\\\n",
       "5/vX7Bmn7Btj3xj7xtg3Zt33/bh83M7ecer+5W55fXibPeOUfWPsG2PfGPvGuLAASAQEgERAAEgE\\\n",
       "BIBEQABIBASAREAASAQEgERAAEgEBIBEQABIBASAREAASAQEgERAAEgEBIBEQABIBASAREAASAQE\\\n",
       "gERAAEgEBIBEQABIBASAREAASAQEgERAAEgEBIBEQABIBASAREAASAQEgERAAEgEBIBEQABIBASA\\\n",
       "REAASAQEgGTdtu14enyevePU9X61fL5/zZ5xyr4x9o2xb4x9Y9Z934/Lx+3sHafuX+6W14e32TNO\\\n",
       "2TfGvjH2jbFvjAsLgERAAEgEBIBEQABIBASAREAASAQEgERAAEgEBIBEQABIBASAREAASAQEgERA\\\n",
       "AEgEBIBEQABIBASAREAASAQEgERAAEgEBIBEQABIBASAREAASAQEgERAAEgEBIBEQABIBASAREAA\\\n",
       "SAQEgERAAEgEBIBEQABIBASAREAASAQEgERAAEjWbduOp8fn2TtOXe9Xy+f71+wZp+wbY98Y+8bY\\\n",
       "N2bd9/24fNzO3nHq/uVueX14mz3jlH1j7Btj3xj7xriwAEgEBIBEQABIBASAREAASAQEgERAAEgE\\\n",
       "BIBEQABIBASAREAASAQEgERAAEgEBIBEQABIBASAREAASAQEgERAAEgEBIBEQABIBASAREAASAQE\\\n",
       "gERAAEgEBIBEQABIBASAREAASAQEgERAAEgEBIBEQABIBASAREAASAQEgERAAEgEBIBk3bbteHp8\\\n",
       "nr3j1PV+tXy+f82eccq+MfaNsW+MfWPWfd+Py8ft7B2n7l/ulteHt9kzTtk3xr4x9o2xb4wLC4BE\\\n",
       "QABIBASAREAASAQEgERAAEgEBIBEQABIBASAREAASAQEgERAAEgEBIBEQABIBASAREAASAQEgERA\\\n",
       "AEgEBIBEQABIBASAREAASAQEgERAAEgEBIBEQABIBASAREAASAQEgERAAEgEBIBEQABIBASAREAA\\\n",
       "SAQEgERAAEgEBIBEQABI/gdd8FNPSQgU8AAAAABJRU5ErkJggg==\\\n",
       "\"\n",
       "  frames[5] = \"data:image/png;base64,iVBORw0KGgoAAAANSUhEUgAAAZAAAAGQCAYAAACAvzbMAAAAOXRFWHRTb2Z0d2FyZQBNYXRwbG90\\\n",
       "bGliIHZlcnNpb24zLjQuMywgaHR0cHM6Ly9tYXRwbG90bGliLm9yZy/MnkTPAAAACXBIWXMAAAxO\\\n",
       "AAAMTgF/d4wjAAAH80lEQVR4nO3YsW01WwGF0ZlfIGFr9J5GohJcgkVG4g5ucjugASRE7NCWE2eE\\\n",
       "N3lktEAJ1GCLwCYbKpjkO8F5SGtVsLNP2uuPHz+Off95+bU6jnU5jmP2jFPrat8I+8bYN8a+Mb/Z\\\n",
       "95+XX/710+wdp/79z78t79fb7BmnLm9P9g2wb4x9Y+wb82P2AAD+PwkIAImAAJAICACJgACQCAgA\\\n",
       "iYAAkAgIAImAAJAICACJgACQCAgAiYAAkAgIAImAAJAICACJgACQCAgAiYAAkAgIAImAAJAICACJ\\\n",
       "gACQCAgAiYAAkAgIAImAAJAICACJgACQCAgAiYAAkAgIAImAAJAICACJgACQCAgAiYAAkAgIAMm6\\\n",
       "bdvx8vw6e8ep+/1u+fr4nj3jlH1j7Btj3xj7xqz7vh8Pn4+zd5y6vD0t79fb7Bmn7Btj3xj7xtg3\\\n",
       "xoUFQCIgACQCAkAiIAAkAgJAIiAAJAICQCIgACQCAkAiIAAkAgJAIiAAJAICQCIgACQCAkAiIAAk\\\n",
       "AgJAIiAAJAICQCIgACQCAkAiIAAkAgJAIiAAJAICQCIgACQCAkAiIAAkAgJAIiAAJAICQCIgACQC\\\n",
       "AkAiIAAkAgJAIiAAJAICQCIgACTrtm3Hy/Pr7B2ntt/fLb/77X9mzzj19d+flq+P79kzTt3vd/YN\\\n",
       "sG+MfWN+7fvWfd+Ph8/H2TtO/fmXPy1//MNfZ8849fd//GV5v95mzzh1eXuyb4B9Y+wb82vf58IC\\\n",
       "IBEQABIBASAREAASAQEgERAAEgEBIBEQABIBASAREAASAQEgERAAEgEBIBEQABIBASAREAASAQEg\\\n",
       "ERAAEgEBIBEQABIBASAREAASAQEgERAAEgEBIBEQABIBASAREAASAQEgERAAEgEBIBEQABIBASAR\\\n",
       "EAASAQEgERAAEgEBIBEQAJJ127bj5fl19o5T9/vd8vXxPXvGKfvG2DfGvjH2jVn3fT8ePh9n7zh1\\\n",
       "eXta3q+32TNO2TfGvjH2jbFvjAsLgERAAEgEBIBEQABIBASAREAASAQEgERAAEgEBIBEQABIBASA\\\n",
       "REAASAQEgERAAEgEBIBEQABIBASAREAASAQEgERAAEgEBIBEQABIBASAREAASAQEgERAAEgEBIBE\\\n",
       "QABIBASAREAASAQEgERAAEgEBIBEQABIBASAREAASAQEgERAAEjWbduOl+fX2TtO3e93y9fH9+wZ\\\n",
       "p+wbY98Y+8bYN2bd9/14+HycvePU5e1peb/eZs84Zd8Y+8bYN8a+MS4sABIBASAREAASAQEgERAA\\\n",
       "EgEBIBEQABIBASAREAASAQEgERAAEgEBIBEQABIBASAREAASAQEgERAAEgEBIBEQABIBASAREAAS\\\n",
       "AQEgERAAEgEBIBEQABIBASAREAASAQEgERAAEgEBIBEQABIBASAREAASAQEgERAAEgEBIBEQABIB\\\n",
       "ASBZt207Xp5fZ+84db/fLV8f37NnnLJvjH1j7Btj35h13/fj4fNx9o5Tl7en5f16mz3jlH1j7Btj\\\n",
       "3xj7xriwAEgEBIBEQABIBASAREAASAQEgERAAEgEBIBEQABIBASAREAASAQEgERAAEgEBIBEQABI\\\n",
       "BASAREAASAQEgERAAEgEBIBEQABIBASAREAASAQEgERAAEgEBIBEQABIBASAREAASAQEgERAAEgE\\\n",
       "BIBEQABIBASAREAASAQEgERAAEgEBIBk3bbteHl+nb3j1P1+t3x9fM+eccq+MfaNsW+MfWPWfd+P\\\n",
       "h8/H2TtOXd6elvfrbfaMU/aNsW+MfWPsG+PCAiAREAASAQEgERAAEgEBIBEQABIBASAREAASAQEg\\\n",
       "ERAAEgEBIBEQABIBASAREAASAQEgERAAEgEBIBEQABIBASAREAASAQEgERAAEgEBIBEQABIBASAR\\\n",
       "EAASAQEgERAAEgEBIBEQABIBASAREAASAQEgERAAEgEBIBEQABIBASAREACSddu24+X5dfaOU/f7\\\n",
       "3fL18T17xin7xtg3xr4x9o1Z930/Hj4fZ+84dXl7Wt6vt9kzTtk3xr4x9o2xb4wLC4BEQABIBASA\\\n",
       "REAASAQEgERAAEgEBIBEQABIBASAREAASAQEgERAAEgEBIBEQABIBASAREAASAQEgERAAEgEBIBE\\\n",
       "QABIBASAREAASAQEgERAAEgEBIBEQABIBASAREAASAQEgERAAEgEBIBEQABIBASAREAASAQEgERA\\\n",
       "AEgEBIBEQABI1m3bjpfn19k7Tt3vd8vXx/fsGafsG2PfGPvG2Ddm3ff9ePh8nL3j1OXtaXm/3mbP\\\n",
       "OGXfGPvG2DfGvjEuLAASAQEgERAAEgEBIBEQABIBASAREAASAQEgERAAEgEBIBEQABIBASAREAAS\\\n",
       "AQEgERAAEgEBIBEQABIBASAREAASAQEgERAAEgEBIBEQABIBASAREAASAQEgERAAEgEBIBEQABIB\\\n",
       "ASAREAASAQEgERAAEgEBIBEQABIBASAREAASAQEgWbdtO16eX2fvOHW/3y1fH9+zZ5yyb4x9Y+wb\\\n",
       "Y9+Ydd/34+HzcfaOU5e3p+X9eps945R9Y+wbY98Y+8a4sABIBASAREAASAQEgERAAEgEBIBEQABI\\\n",
       "BASAREAASAQEgERAAEgEBIBEQABIBASAREAASAQEgERAAEgEBIBEQABIBASAREAASAQEgERAAEgE\\\n",
       "BIBEQABIBASAREAASAQEgERAAEgEBIBEQABIBASAREAASAQEgERAAEgEBIBEQABIBASA5H9z7FZP\\\n",
       "IJFy9wAAAABJRU5ErkJggg==\\\n",
       "\"\n",
       "  frames[6] = \"data:image/png;base64,iVBORw0KGgoAAAANSUhEUgAAAZAAAAGQCAYAAACAvzbMAAAAOXRFWHRTb2Z0d2FyZQBNYXRwbG90\\\n",
       "bGliIHZlcnNpb24zLjQuMywgaHR0cHM6Ly9tYXRwbG90bGliLm9yZy/MnkTPAAAACXBIWXMAAAxO\\\n",
       "AAAMTgF/d4wjAAAICUlEQVR4nO3YMWo2UQFG4ZkfBRMGw4DgPswSolY2wQ0EJDtwA4ILSJmQJp1l\\\n",
       "EBTBbbiQBIsvduMKxuLc4kZ4nhW83YF3/fHjx3Fzc7N8V+u6Lss6e8X/cCzLcRyzV5xa19W+AfaN\\\n",
       "sW/Md9/3k5ubm+X28272jlN/+Ovvl3/88p+zZ5z67b9+vbw9vs+ecerh9d6+AfaNsW/Md9/3Y/YA\\\n",
       "AP4/CQgAiYAAkAgIAImAAJAICACJgACQCAgAiYAAkAgIAImAAJAICACJgACQCAgAiYAAkAgIAImA\\\n",
       "AJAICACJgACQCAgAiYAAkAgIAImAAJAICACJgACQCAgAiYAAkAgIAImAAJAICACJgACQCAgAiYAA\\\n",
       "kAgIAImAAJAICACJgACQCAgAybpt2/H89DJ7x6nr/Wq5fHzNnnHKvjH2jbFvjH1j1n3fj9vPu9k7\\\n",
       "Tj283i9vj++zZ5yyb4x9Y+wbY98YFxYAiYAAkAgIAImAAJAICACJgACQCAgAiYAAkAgIAImAAJAI\\\n",
       "CACJgACQCAgAiYAAkAgIAImAAJAICACJgACQCAgAiYAAkAgIAImAAJAICACJgACQCAgAiYAAkAgI\\\n",
       "AImAAJAICACJgACQCAgAiYAAkAgIAImAAJAICACJgACQCAgAiYAAkKzbth3PTy+zd5zafnG1/Oyn\\\n",
       "/54949TlPz9fLh9fs2ecut6v7Btg3xj7xnz3feu+78ft593sHaf++LffLb/51Z9nzzj1l7//aXl7\\\n",
       "fJ8949TD6719A+wbY9+Y777PhQVAIiAAJAICQCIgACQCAkAiIAAkAgJAIiAAJAICQCIgACQCAkAi\\\n",
       "IAAkAgJAIiAAJAICQCIgACQCAkAiIAAkAgJAIiAAJAICQCIgACQCAkAiIAAkAgJAIiAAJAICQCIg\\\n",
       "ACQCAkAiIAAkAgJAIiAAJAICQCIgACQCAkAiIAAkAgJAIiAAJOu2bcfz08vsHaeu96vl8vE1e8Yp\\\n",
       "+8bYN8a+MfaNWfd9P24/72bvOPXwer+8Pb7PnnHKvjH2jbFvjH1jXFgAJAICQCIgACQCAkAiIAAk\\\n",
       "AgJAIiAAJAICQCIgACQCAkAiIAAkAgJAIiAAJAICQCIgACQCAkAiIAAkAgJAIiAAJAICQCIgACQC\\\n",
       "AkAiIAAkAgJAIiAAJAICQCIgACQCAkAiIAAkAgJAIiAAJAICQCIgACQCAkAiIAAkAgJAIiAAJAIC\\\n",
       "QLJu23Y8P73M3nHqer9aLh9fs2ecsm+MfWPsG2PfmHXf9+P28272jlMPr/fL2+P77Bmn7Btj3xj7\\\n",
       "xtg3xoUFQCIgACQCAkAiIAAkAgJAIiAAJAICQCIgACQCAkAiIAAkAgJAIiAAJAICQCIgACQCAkAi\\\n",
       "IAAkAgJAIiAAJAICQCIgACQCAkAiIAAkAgJAIiAAJAICQCIgACQCAkAiIAAkAgJAIiAAJAICQCIg\\\n",
       "ACQCAkAiIAAkAgJAIiAAJAICQCIgACTrtm3H89PL7B2nrver5fLxNXvGKfvG2DfGvjH2jVn3fT9u\\\n",
       "P+9m7zj18Hq/vD2+z55xyr4x9o2xb4x9Y1xYACQCAkAiIAAkAgJAIiAAJAICQCIgACQCAkAiIAAk\\\n",
       "AgJAIiAAJAICQCIgACQCAkAiIAAkAgJAIiAAJAICQCIgACQCAkAiIAAkAgJAIiAAJAICQCIgACQC\\\n",
       "AkAiIAAkAgJAIiAAJAICQCIgACQCAkAiIAAkAgJAIiAAJAICQCIgACQCAkCybtt2PD+9zN5x6nq/\\\n",
       "Wi4fX7NnnLJvjH1j7Btj35h13/fj9vNu9o5TD6/3y9vj++wZp+wbY98Y+8bYN8aFBUAiIAAkAgJA\\\n",
       "IiAAJAICQCIgACQCAkAiIAAkAgJAIiAAJAICQCIgACQCAkAiIAAkAgJAIiAAJAICQCIgACQCAkAi\\\n",
       "IAAkAgJAIiAAJAICQCIgACQCAkAiIAAkAgJAIiAAJAICQCIgACQCAkAiIAAkAgJAIiAAJAICQCIg\\\n",
       "ACQCAkAiIAAk67Ztx/PTy+wdp673q+Xy8TV7xin7xtg3xr4x9o1Z930/bj/vZu849fB6v7w9vs+e\\\n",
       "ccq+MfaNsW+MfWNcWAAkAgJAIiAAJAICQCIgACQCAkAiIAAkAgJAIiAAJAICQCIgACQCAkAiIAAk\\\n",
       "AgJAIiAAJAICQCIgACQCAkAiIAAkAgJAIiAAJAICQCIgACQCAkAiIAAkAgJAIiAAJAICQCIgACQC\\\n",
       "AkAiIAAkAgJAIiAAJAICQCIgACQCAkAiIAAkAgJAsm7bdjw/vczecep6v1ouH1+zZ5yyb4x9Y+wb\\\n",
       "Y9+Ydd/34/bzbvaOUw+v98vb4/vsGafsG2PfGPvG2DfGhQVAIiAAJAICQCIgACQCAkAiIAAkAgJA\\\n",
       "IiAAJAICQCIgACQCAkAiIAAkAgJAIiAAJAICQCIgACQCAkAiIAAkAgJAIiAAJAICQCIgACQCAkAi\\\n",
       "IAAkAgJAIiAAJAICQCIgACQCAkAiIAAkAgJAIiAAJAICQCIgACQCAkAiIAAkAgJAIiAAJOu2bcfz\\\n",
       "08vsHaeu96vl8vE1e8Yp+8bYN8a+MfaNWfd9P24/72bvOPXwer+8Pb7PnnHKvjH2jbFvjH1jXFgA\\\n",
       "JAICQCIgACQCAkAiIAAkAgJAIiAAJAICQCIgACQCAkAiIAAkAgJAIiAAJAICQCIgACQCAkAiIAAk\\\n",
       "AgJAIiAAJAICQCIgACQCAkAiIAAkAgJAIiAAJAICQCIgACQCAkAiIAAkAgJAIiAAJAICQCIgACQC\\\n",
       "AkAiIAAkAgJAIiAAJAICQPJfdvZRT/SjMsQAAAAASUVORK5CYII=\\\n",
       "\"\n",
       "  frames[7] = \"data:image/png;base64,iVBORw0KGgoAAAANSUhEUgAAAZAAAAGQCAYAAACAvzbMAAAAOXRFWHRTb2Z0d2FyZQBNYXRwbG90\\\n",
       "bGliIHZlcnNpb24zLjQuMywgaHR0cHM6Ly9tYXRwbG90bGliLm9yZy/MnkTPAAAACXBIWXMAAAxO\\\n",
       "AAAMTgF/d4wjAAAIEElEQVR4nO3YMWo2URmG4ZkfBRMGw4DgPswSolY2wQ0EJDtwA4ILSJmQJp1l\\\n",
       "EBTBbbiQBIsvduMKxuI+xYlwXSt4OKe44V1//Phx3NzcLN/Vuq7LcRyzZ5xa13VZ1tkr/odj+fbv\\\n",
       "Z19n3xj7xvzk5uZmuf28m73j1MPr/fL2+D57xqk//PX3yz9++c/ZM0799l+//tbv993/174x9o35\\\n",
       "7vt+zB4AwP8nAQEgERAAEgEBIBEQABIBASAREAASAQEgERAAEgEBIBEQABIBASAREAASAQEgERAA\\\n",
       "EgEBIBEQABIBASAREAASAQEgERAAEgEBIBEQABIBASAREAASAQEgERAAEgEBIBEQABIBASAREAAS\\\n",
       "AQEgERAAEgEBIBEQABIBASAREAASAQEgWbdtO56fXmbvOHW9Xy2Xj6/ZM07ZN8a+MfaNsW/Muu/7\\\n",
       "cft5N3vHqYfX++Xt8X32jFP2jbFvjH1j7BvjhAVAIiAAJAICQCIgACQCAkAiIAAkAgJAIiAAJAIC\\\n",
       "QCIgACQCAkAiIAAkAgJAIiAAJAICQCIgACQCAkAiIAAkAgJAIiAAJAICQCIgACQCAkAiIAAkAgJA\\\n",
       "IiAAJAICQCIgACQCAkAiIAAkAgJAIiAAJAICQCIgACQCAkAiIAAkAgJAIiAAJOu2bcfz08vsHae2\\\n",
       "X1wtP/vpv2fPOHX5z8+Xy8fX7Bmnrvcr+wbYN8a+Md9937rv+3H7eTd7x6k//u13y29+9efZM079\\\n",
       "5e9/Wt4e32fPOPXwem/fAPvG2Dfmu+9zwgIgERAAEgEBIBEQABIBASAREAASAQEgERAAEgEBIBEQ\\\n",
       "ABIBASAREAASAQEgERAAEgEBIBEQABIBASAREAASAQEgERAAEgEBIBEQABIBASAREAASAQEgERAA\\\n",
       "EgEBIBEQABIBASAREAASAQEgERAAEgEBIBEQABIBASAREAASAQEgERAAknXbtuP56WX2jlPX+9Vy\\\n",
       "+fiaPeOUfWPsG2PfGPvGrPu+H7efd7N3nHp4vV/eHt9nzzhl3xj7xtg3xr4xTlgAJAICQCIgACQC\\\n",
       "AkAiIAAkAgJAIiAAJAICQCIgACQCAkAiIAAkAgJAIiAAJAICQCIgACQCAkAiIAAkAgJAIiAAJAIC\\\n",
       "QCIgACQCAkAiIAAkAgJAIiAAJAICQCIgACQCAkAiIAAkAgJAIiAAJAICQCIgACQCAkAiIAAkAgJA\\\n",
       "IiAAJAICQLJu23Y8P73M3nHqer9aLh9fs2ecsm+MfWPsG2PfmHXf9+P28272jlMPr/fL2+P77Bmn\\\n",
       "7Btj3xj7xtg3xgkLgERAAEgEBIBEQABIBASAREAASAQEgERAAEgEBIBEQABIBASAREAASAQEgERA\\\n",
       "AEgEBIBEQABIBASAREAASAQEgERAAEgEBIBEQABIBASAREAASAQEgERAAEgEBIBEQABIBASAREAA\\\n",
       "SAQEgERAAEgEBIBEQABIBASAREAASAQEgERAAEjWbduO56eX2TtOXe9Xy+Xja/aMU/aNsW+MfWPs\\\n",
       "G7Pu+37cft7N3nHq4fV+eXt8nz3jlH1j7Btj3xj7xjhhAZAICACJgACQCAgAiYAAkAgIAImAAJAI\\\n",
       "CACJgACQCAgAiYAAkAgIAImAAJAICACJgACQCAgAiYAAkAgIAImAAJAICACJgACQCAgAiYAAkAgI\\\n",
       "AImAAJAICACJgACQCAgAiYAAkAgIAImAAJAICACJgACQCAgAiYAAkAgIAImAAJAICADJum3b8fz0\\\n",
       "MnvHqev9arl8fM2eccq+MfaNsW+MfWPWfd+P28+72TtOPbzeL2+P77NnnLJvjH1j7Btj3xgnLAAS\\\n",
       "AQEgERAAEgEBIBEQABIBASAREAASAQEgERAAEgEBIBEQABIBASAREAASAQEgERAAEgEBIBEQABIB\\\n",
       "ASAREAASAQEgERAAEgEBIBEQABIBASAREAASAQEgERAAEgEBIBEQABIBASAREAASAQEgERAAEgEB\\\n",
       "IBEQABIBASAREAASAQEgWbdtO56fXmbvOHW9Xy2Xj6/ZM07ZN8a+MfaNsW/Muu/7cft5N3vHqYfX\\\n",
       "++Xt8X32jFP2jbFvjH1j7BvjhAVAIiAAJAICQCIgACQCAkAiIAAkAgJAIiAAJAICQCIgACQCAkAi\\\n",
       "IAAkAgJAIiAAJAICQCIgACQCAkAiIAAkAgJAIiAAJAICQCIgACQCAkAiIAAkAgJAIiAAJAICQCIg\\\n",
       "ACQCAkAiIAAkAgJAIiAAJAICQCIgACQCAkAiIAAkAgJAIiAAJOu2bcfz08vsHaeu96vl8vE1e8Yp\\\n",
       "+8bYN8a+MfaNWfd9P24/72bvOPXwer+8Pb7PnnHKvjH2jbFvjH1jnLAASAQEgERAAEgEBIBEQABI\\\n",
       "BASAREAASAQEgERAAEgEBIBEQABIBASAREAASAQEgERAAEgEBIBEQABIBASAREAASAQEgERAAEgE\\\n",
       "BIBEQABIBASAREAASAQEgERAAEgEBIBEQABIBASAREAASAQEgERAAEgEBIBEQABIBASAREAASAQE\\\n",
       "gGTdtu14fnqZvePU9X61XD6+Zs84Zd8Y+8bYN8a+Meu+78ft593sHaceXu+Xt8f32TNO2TfGvjH2\\\n",
       "jbFvjBMWAImAAJAICACJgACQCAgAiYAAkAgIAImAAJAICACJgACQCAgAiYAAkAgIAImAAJAICACJ\\\n",
       "gACQCAgAiYAAkAgIAImAAJAICACJgACQCAgAiYAAkAgIAImAAJAICACJgACQCAgAiYAAkAgIAImA\\\n",
       "AJAICACJgACQCAgAiYAAkAgIAImAAJD8F7cFUU874csKAAAAAElFTkSuQmCC\\\n",
       "\"\n",
       "  frames[8] = \"data:image/png;base64,iVBORw0KGgoAAAANSUhEUgAAAZAAAAGQCAYAAACAvzbMAAAAOXRFWHRTb2Z0d2FyZQBNYXRwbG90\\\n",
       "bGliIHZlcnNpb24zLjQuMywgaHR0cHM6Ly9tYXRwbG90bGliLm9yZy/MnkTPAAAACXBIWXMAAAxO\\\n",
       "AAAMTgF/d4wjAAAIEUlEQVR4nO3YMWo2URmG4ZkfBRMGw4DgPswSolY2wQ0EJDtwA4ILSJnwNeks\\\n",
       "g6AIbsOFJFgkduMKxuI+xYlwXSt4OKe44V1//Phx3NzcLN/Vuq7LcRyzZ5z6f9i3rLNX/A/H8u3f\\\n",
       "z77OvjHffd9Pbm5ultuPu9k7Tj1c7pfXx7fZM059931/+Ovvl3/88p+zZ5z67b9+/a3f77v/r31j\\\n",
       "7BvzY/YAAP4/CQgAiYAAkAgIAImAAJAICACJgACQCAgAiYAAkAgIAImAAJAICACJgACQCAgAiYAA\\\n",
       "kAgIAImAAJAICACJgACQCAgAiYAAkAgIAImAAJAICACJgACQCAgAiYAAkAgIAImAAJAICACJgACQ\\\n",
       "CAgAiYAAkAgIAImAAJAICACJgACQCAgAybpt2/H89DJ7x6nr/Wr5fP+aPeOUfWPsG2PfGPvGrPu+\\\n",
       "H7cfd7N3nHq43C+vj2+zZ5yyb4x9Y+wbY98YJywAEgEBIBEQABIBASAREAASAQEgERAAEgEBIBEQ\\\n",
       "ABIBASAREAASAQEgERAAEgEBIBEQABIBASAREAASAQEgERAAEgEBIBEQABIBASAREAASAQEgERAA\\\n",
       "EgEBIBEQABIBASAREAASAQEgERAAEgEBIBEQABIBASAREAASAQEgERAAEgEBIFm3bTuen15m7zi1\\\n",
       "/eJq+dlP/z17xqnP//x8+Xz/mj3j1PV+Zd8A+8bYN+a771v3fT9uP+5m7zj1x7/9bvnNr/48e8ap\\\n",
       "v/z9T8vr49vsGaceLvf2DbBvjH1jvvs+JywAEgEBIBEQABIBASAREAASAQEgERAAEgEBIBEQABIB\\\n",
       "ASAREAASAQEgERAAEgEBIBEQABIBASAREAASAQEgERAAEgEBIBEQABIBASAREAASAQEgERAAEgEB\\\n",
       "IBEQABIBASAREAASAQEgERAAEgEBIBEQABIBASAREAASAQEgERAAEgEBIFm3bTuen15m7zh1vV8t\\\n",
       "n+9fs2ecsm+MfWPsG2PfmHXf9+P24272jlMPl/vl9fFt9oxT9o2xb4x9Y+wb44QFQCIgACQCAkAi\\\n",
       "IAAkAgJAIiAAJAICQCIgACQCAkAiIAAkAgJAIiAAJAICQCIgACQCAkAiIAAkAgJAIiAAJAICQCIg\\\n",
       "ACQCAkAiIAAkAgJAIiAAJAICQCIgACQCAkAiIAAkAgJAIiAAJAICQCIgACQCAkAiIAAkAgJAIiAA\\\n",
       "JAICQCIgACTrtm3H89PL7B2nrver5fP9a/aMU/aNsW+MfWPsG7Pu+37cftzN3nHq4XK/vD6+zZ5x\\\n",
       "yr4x9o2xb4x9Y5ywAEgEBIBEQABIBASAREAASAQEgERAAEgEBIBEQABIBASAREAASAQEgERAAEgE\\\n",
       "BIBEQABIBASAREAASAQEgERAAEgEBIBEQABIBASAREAASAQEgERAAEgEBIBEQABIBASAREAASAQE\\\n",
       "gERAAEgEBIBEQABIBASAREAASAQEgERAAEgEBIBk3bbteH56mb3j1PV+tXy+f82eccq+MfaNsW+M\\\n",
       "fWPWfd+P24+72TtOPVzul9fHt9kzTtk3xr4x9o2xb4wTFgCJgACQCAgAiYAAkAgIAImAAJAICACJ\\\n",
       "gACQCAgAiYAAkAgIAImAAJAICACJgACQCAgAiYAAkAgIAImAAJAICACJgACQCAgAiYAAkAgIAImA\\\n",
       "AJAICACJgACQCAgAiYAAkAgIAImAAJAICACJgACQCAgAiYAAkAgIAImAAJAICACJgACQrNu2Hc9P\\\n",
       "L7N3nLrer5bP96/ZM07ZN8a+MfaNsW/Muu/7cftxN3vHqYfL/fL6+DZ7xin7xtg3xr4x9o1xwgIg\\\n",
       "ERAAEgEBIBEQABIBASAREAASAQEgERAAEgEBIBEQABIBASAREAASAQEgERAAEgEBIBEQABIBASAR\\\n",
       "EAASAQEgERAAEgEBIBEQABIBASAREAASAQEgERAAEgEBIBEQABIBASAREAASAQEgERAAEgEBIBEQ\\\n",
       "ABIBASAREAASAQEgERAAknXbtuP56WX2jlPX+9Xy+f41e8Yp+8bYN8a+MfaNWfd9P24/7mbvOPVw\\\n",
       "uV9eH99mzzhl3xj7xtg3xr4xTlgAJAICQCIgACQCAkAiIAAkAgJAIiAAJAICQCIgACQCAkAiIAAk\\\n",
       "AgJAIiAAJAICQCIgACQCAkAiIAAkAgJAIiAAJAICQCIgACQCAkAiIAAkAgJAIiAAJAICQCIgACQC\\\n",
       "AkAiIAAkAgJAIiAAJAICQCIgACQCAkAiIAAkAgJAIiAAJAICQLJu23Y8P73M3nHqer9aPt+/Zs84\\\n",
       "Zd8Y+8bYN8a+Meu+78ftx93sHaceLvfL6+Pb7Bmn7Btj3xj7xtg3xgkLgERAAEgEBIBEQABIBASA\\\n",
       "REAASAQEgERAAEgEBIBEQABIBASAREAASAQEgERAAEgEBIBEQABIBASAREAASAQEgERAAEgEBIBE\\\n",
       "QABIBASAREAASAQEgERAAEgEBIBEQABIBASAREAASAQEgERAAEgEBIBEQABIBASAREAASAQEgERA\\\n",
       "AEjWbduO56eX2TtOXe9Xy+f71+wZp+wbY98Y+8bYN2bd9/24/bibvePUw+V+eX18mz3jlH1j7Btj\\\n",
       "3xj7xjhhAZAICACJgACQCAgAiYAAkAgIAImAAJAICACJgACQCAgAiYAAkAgIAImAAJAICACJgACQ\\\n",
       "CAgAiYAAkAgIAImAAJAICACJgACQCAgAiYAAkAgIAImAAJAICACJgACQCAgAiYAAkAgIAImAAJAI\\\n",
       "CACJgACQCAgAiYAAkAgIAImAAJAICADJfwH3FFFPXXLhmwAAAABJRU5ErkJggg==\\\n",
       "\"\n",
       "  frames[9] = \"data:image/png;base64,iVBORw0KGgoAAAANSUhEUgAAAZAAAAGQCAYAAACAvzbMAAAAOXRFWHRTb2Z0d2FyZQBNYXRwbG90\\\n",
       "bGliIHZlcnNpb24zLjQuMywgaHR0cHM6Ly9tYXRwbG90bGliLm9yZy/MnkTPAAAACXBIWXMAAAxO\\\n",
       "AAAMTgF/d4wjAAAIEElEQVR4nO3YMWo2URmG4ZkfBRMGw4DgPswSolY2wQ0EJDtwA4ILSJmQJp1l\\\n",
       "EBTBbbiQBIsvduMKxuI+xYlwXSt4OKe44V1//Phx3NzcLN/Vuq7LcRyzZ5yyb8y6rsuyzl7xPxzL\\\n",
       "t38/+zr7xvzk5uZmuf28m73j1MPr/fL2+D57xin7xvzhr79f/vHLf86eceq3//r1t36/7/6/9o35\\\n",
       "7vt+zB4AwP8nAQEgERAAEgEBIBEQABIBASAREAASAQEgERAAEgEBIBEQABIBASAREAASAQEgERAA\\\n",
       "EgEBIBEQABIBASAREAASAQEgERAAEgEBIBEQABIBASAREAASAQEgERAAEgEBIBEQABIBASAREAAS\\\n",
       "AQEgERAAEgEBIBEQABIBASAREAASAQEgWbdtO56fXmbvOHW9Xy2Xj6/ZM07ZN8a+MfaNsW/Muu/7\\\n",
       "cft5N3vHqYfX++Xt8X32jFP2jbFvjH1j7BvjhAVAIiAAJAICQCIgACQCAkAiIAAkAgJAIiAAJAIC\\\n",
       "QCIgACQCAkAiIAAkAgJAIiAAJAICQCIgACQCAkAiIAAkAgJAIiAAJAICQCIgACQCAkAiIAAkAgJA\\\n",
       "IiAAJAICQCIgACQCAkAiIAAkAgJAIiAAJAICQCIgACQCAkAiIAAkAgJAIiAAJOu2bcfz08vsHae2\\\n",
       "X1wtP/vpv2fPOHX5z8+Xy8fX7Bmnrvcr+wbYN8a+Md9937rv+3H7eTd7x6k//u13y29+9efZM079\\\n",
       "5e9/Wt4e32fPOPXwem/fAPvG2Dfmu+9zwgIgERAAEgEBIBEQABIBASAREAASAQEgERAAEgEBIBEQ\\\n",
       "ABIBASAREAASAQEgERAAEgEBIBEQABIBASAREAASAQEgERAAEgEBIBEQABIBASAREAASAQEgERAA\\\n",
       "EgEBIBEQABIBASAREAASAQEgERAAEgEBIBEQABIBASAREAASAQEgERAAknXbtuP56WX2jlPX+9Vy\\\n",
       "+fiaPeOUfWPsG2PfGPvGrPu+H7efd7N3nHp4vV/eHt9nzzhl3xj7xtg3xr4xTlgAJAICQCIgACQC\\\n",
       "AkAiIAAkAgJAIiAAJAICQCIgACQCAkAiIAAkAgJAIiAAJAICQCIgACQCAkAiIAAkAgJAIiAAJAIC\\\n",
       "QCIgACQCAkAiIAAkAgJAIiAAJAICQCIgACQCAkAiIAAkAgJAIiAAJAICQCIgACQCAkAiIAAkAgJA\\\n",
       "IiAAJAICQLJu23Y8P73M3nHqer9aLh9fs2ecsm+MfWPsG2PfmHXf9+P28272jlMPr/fL2+P77Bmn\\\n",
       "7Btj3xj7xtg3xgkLgERAAEgEBIBEQABIBASAREAASAQEgERAAEgEBIBEQABIBASAREAASAQEgERA\\\n",
       "AEgEBIBEQABIBASAREAASAQEgERAAEgEBIBEQABIBASAREAASAQEgERAAEgEBIBEQABIBASAREAA\\\n",
       "SAQEgERAAEgEBIBEQABIBASAREAASAQEgERAAEjWbduO56eX2TtOXe9Xy+Xja/aMU/aNsW+MfWPs\\\n",
       "G7Pu+37cft7N3nHq4fV+eXt8nz3jlH1j7Btj3xj7xjhhAZAICACJgACQCAgAiYAAkAgIAImAAJAI\\\n",
       "CACJgACQCAgAiYAAkAgIAImAAJAICACJgACQCAgAiYAAkAgIAImAAJAICACJgACQCAgAiYAAkAgI\\\n",
       "AImAAJAICACJgACQCAgAiYAAkAgIAImAAJAICACJgACQCAgAiYAAkAgIAImAAJAICADJum3b8fz0\\\n",
       "MnvHqev9arl8fM2eccq+MfaNsW+MfWPWfd+P28+72TtOPbzeL2+P77NnnLJvjH1j7Btj3xgnLAAS\\\n",
       "AQEgERAAEgEBIBEQABIBASAREAASAQEgERAAEgEBIBEQABIBASAREAASAQEgERAAEgEBIBEQABIB\\\n",
       "ASAREAASAQEgERAAEgEBIBEQABIBASAREAASAQEgERAAEgEBIBEQABIBASAREAASAQEgERAAEgEB\\\n",
       "IBEQABIBASAREAASAQEgWbdtO56fXmbvOHW9Xy2Xj6/ZM07ZN8a+MfaNsW/Muu/7cft5N3vHqYfX\\\n",
       "++Xt8X32jFP2jbFvjH1j7BvjhAVAIiAAJAICQCIgACQCAkAiIAAkAgJAIiAAJAICQCIgACQCAkAi\\\n",
       "IAAkAgJAIiAAJAICQCIgACQCAkAiIAAkAgJAIiAAJAICQCIgACQCAkAiIAAkAgJAIiAAJAICQCIg\\\n",
       "ACQCAkAiIAAkAgJAIiAAJAICQCIgACQCAkAiIAAkAgJAIiAAJOu2bcfz08vsHaeu96vl8vE1e8Yp\\\n",
       "+8bYN8a+MfaNWfd9P24/72bvOPXwer+8Pb7PnnHKvjH2jbFvjH1jnLAASAQEgERAAEgEBIBEQABI\\\n",
       "BASAREAASAQEgERAAEgEBIBEQABIBASAREAASAQEgERAAEgEBIBEQABIBASAREAASAQEgERAAEgE\\\n",
       "BIBEQABIBASAREAASAQEgERAAEgEBIBEQABIBASAREAASAQEgERAAEgEBIBEQABIBASAREAASAQE\\\n",
       "gGTdtu14fnqZvePU9X61XD6+Zs84Zd8Y+8bYN8a+Meu+78ft593sHaceXu+Xt8f32TNO2TfGvjH2\\\n",
       "jbFvjBMWAImAAJAICACJgACQCAgAiYAAkAgIAImAAJAICACJgACQCAgAiYAAkAgIAImAAJAICACJ\\\n",
       "gACQCAgAiYAAkAgIAImAAJAICACJgACQCAgAiYAAkAgIAImAAJAICACJgACQCAgAiYAAkAgIAImA\\\n",
       "AJAICACJgACQCAgAiYAAkAgIAImAAJD8FzcyUU/a/8vNAAAAAElFTkSuQmCC\\\n",
       "\"\n",
       "  frames[10] = \"data:image/png;base64,iVBORw0KGgoAAAANSUhEUgAAAZAAAAGQCAYAAACAvzbMAAAAOXRFWHRTb2Z0d2FyZQBNYXRwbG90\\\n",
       "bGliIHZlcnNpb24zLjQuMywgaHR0cHM6Ly9tYXRwbG90bGliLm9yZy/MnkTPAAAACXBIWXMAAAxO\\\n",
       "AAAMTgF/d4wjAAAIEUlEQVR4nO3YMWo2URmG4ZkfBRMGw4DgPswSolY2wQ0EJDtwA4ILSJnwNeks\\\n",
       "g6AIbsOFJFgkduMKxuI+xYlwXSt4OKe44V1//Phx3NzcLN/Vuq7LcRyzZ5yyb8z/w75lnb3ifziW\\\n",
       "b/9+9nXffd9Pbm5ultuPu9k7Tj1c7pfXx7fZM07ZN+a77/vDX3+//OOX/5w949Rv//Xrb/1+3/1/\\\n",
       "7RvzY/YAAP4/CQgAiYAAkAgIAImAAJAICACJgACQCAgAiYAAkAgIAImAAJAICACJgACQCAgAiYAA\\\n",
       "kAgIAImAAJAICACJgACQCAgAiYAAkAgIAImAAJAICACJgACQCAgAiYAAkAgIAImAAJAICACJgACQ\\\n",
       "CAgAiYAAkAgIAImAAJAICACJgACQCAgAybpt2/H89DJ7x6nr/Wr5fP+aPeOUfWPsG2PfGPvGrPu+\\\n",
       "H7cfd7N3nHq43C+vj2+zZ5yyb4x9Y+wbY98YJywAEgEBIBEQABIBASAREAASAQEgERAAEgEBIBEQ\\\n",
       "ABIBASAREAASAQEgERAAEgEBIBEQABIBASAREAASAQEgERAAEgEBIBEQABIBASAREAASAQEgERAA\\\n",
       "EgEBIBEQABIBASAREAASAQEgERAAEgEBIBEQABIBASAREAASAQEgERAAEgEBIFm3bTuen15m7zi1\\\n",
       "/eJq+dlP/z17xqnP//x8+Xz/mj3j1PV+Zd8A+8bYN+a771v3fT9uP+5m7zj1x7/9bvnNr/48e8ap\\\n",
       "v/z9T8vr49vsGaceLvf2DbBvjH1jvvs+JywAEgEBIBEQABIBASAREAASAQEgERAAEgEBIBEQABIB\\\n",
       "ASAREAASAQEgERAAEgEBIBEQABIBASAREAASAQEgERAAEgEBIBEQABIBASAREAASAQEgERAAEgEB\\\n",
       "IBEQABIBASAREAASAQEgERAAEgEBIBEQABIBASAREAASAQEgERAAEgEBIFm3bTuen15m7zh1vV8t\\\n",
       "n+9fs2ecsm+MfWPsG2PfmHXf9+P24272jlMPl/vl9fFt9oxT9o2xb4x9Y+wb44QFQCIgACQCAkAi\\\n",
       "IAAkAgJAIiAAJAICQCIgACQCAkAiIAAkAgJAIiAAJAICQCIgACQCAkAiIAAkAgJAIiAAJAICQCIg\\\n",
       "ACQCAkAiIAAkAgJAIiAAJAICQCIgACQCAkAiIAAkAgJAIiAAJAICQCIgACQCAkAiIAAkAgJAIiAA\\\n",
       "JAICQCIgACTrtm3H89PL7B2nrver5fP9a/aMU/aNsW+MfWPsG7Pu+37cftzN3nHq4XK/vD6+zZ5x\\\n",
       "yr4x9o2xb4x9Y5ywAEgEBIBEQABIBASAREAASAQEgERAAEgEBIBEQABIBASAREAASAQEgERAAEgE\\\n",
       "BIBEQABIBASAREAASAQEgERAAEgEBIBEQABIBASAREAASAQEgERAAEgEBIBEQABIBASAREAASAQE\\\n",
       "gERAAEgEBIBEQABIBASAREAASAQEgERAAEgEBIBk3bbteH56mb3j1PV+tXy+f82eccq+MfaNsW+M\\\n",
       "fWPWfd+P24+72TtOPVzul9fHt9kzTtk3xr4x9o2xb4wTFgCJgACQCAgAiYAAkAgIAImAAJAICACJ\\\n",
       "gACQCAgAiYAAkAgIAImAAJAICACJgACQCAgAiYAAkAgIAImAAJAICACJgACQCAgAiYAAkAgIAImA\\\n",
       "AJAICACJgACQCAgAiYAAkAgIAImAAJAICACJgACQCAgAiYAAkAgIAImAAJAICACJgACQrNu2Hc9P\\\n",
       "L7N3nLrer5bP96/ZM07ZN8a+MfaNsW/Muu/7cftxN3vHqYfL/fL6+DZ7xin7xtg3xr4x9o1xwgIg\\\n",
       "ERAAEgEBIBEQABIBASAREAASAQEgERAAEgEBIBEQABIBASAREAASAQEgERAAEgEBIBEQABIBASAR\\\n",
       "EAASAQEgERAAEgEBIBEQABIBASAREAASAQEgERAAEgEBIBEQABIBASAREAASAQEgERAAEgEBIBEQ\\\n",
       "ABIBASAREAASAQEgERAAknXbtuP56WX2jlPX+9Xy+f41e8Yp+8bYN8a+MfaNWfd9P24/7mbvOPVw\\\n",
       "uV9eH99mzzhl3xj7xtg3xr4xTlgAJAICQCIgACQCAkAiIAAkAgJAIiAAJAICQCIgACQCAkAiIAAk\\\n",
       "AgJAIiAAJAICQCIgACQCAkAiIAAkAgJAIiAAJAICQCIgACQCAkAiIAAkAgJAIiAAJAICQCIgACQC\\\n",
       "AkAiIAAkAgJAIiAAJAICQCIgACQCAkAiIAAkAgJAIiAAJAICQLJu23Y8P73M3nHqer9aPt+/Zs84\\\n",
       "Zd8Y+8bYN8a+Meu+78ftx93sHaceLvfL6+Pb7Bmn7Btj3xj7xtg3xgkLgERAAEgEBIBEQABIBASA\\\n",
       "REAASAQEgERAAEgEBIBEQABIBASAREAASAQEgERAAEgEBIBEQABIBASAREAASAQEgERAAEgEBIBE\\\n",
       "QABIBASAREAASAQEgERAAEgEBIBEQABIBASAREAASAQEgERAAEgEBIBEQABIBASAREAASAQEgERA\\\n",
       "AEjWbduO56eX2TtOXe9Xy+f71+wZp+wbY98Y+8bYN2bd9/24/bibvePUw+V+eX18mz3jlH1j7Btj\\\n",
       "3xj7xjhhAZAICACJgACQCAgAiYAAkAgIAImAAJAICACJgACQCAgAiYAAkAgIAImAAJAICACJgACQ\\\n",
       "CAgAiYAAkAgIAImAAJAICACJgACQCAgAiYAAkAgIAImAAJAICACJgACQCAgAiYAAkAgIAImAAJAI\\\n",
       "CACJgACQCAgAiYAAkAgIAImAAJAICADJfwF3QVFPkbl4JgAAAABJRU5ErkJggg==\\\n",
       "\"\n",
       "  frames[11] = \"data:image/png;base64,iVBORw0KGgoAAAANSUhEUgAAAZAAAAGQCAYAAACAvzbMAAAAOXRFWHRTb2Z0d2FyZQBNYXRwbG90\\\n",
       "bGliIHZlcnNpb24zLjQuMywgaHR0cHM6Ly9tYXRwbG90bGliLm9yZy/MnkTPAAAACXBIWXMAAAxO\\\n",
       "AAAMTgF/d4wjAAAIEElEQVR4nO3YMWo2URmG4ZkfBRMGw4DgPswSolY2wQ0EJDtwA4ILSJmQJp1l\\\n",
       "EBTBbbiQBIsvduMKxuI+xYlwXSt4OKe44V1//Phx3NzcLN/Vuq7LcRyzZ5yyb4x9Y9Z1XZZ19or/\\\n",
       "4Vi+/fvZ1/3k5uZmuf28m73j1MPr/fL2+D57xin7xtg35g9//f3yj1/+c/aMU7/916+/9ft99//9\\\n",
       "7vt+zB4AwP8nAQEgERAAEgEBIBEQABIBASAREAASAQEgERAAEgEBIBEQABIBASAREAASAQEgERAA\\\n",
       "EgEBIBEQABIBASAREAASAQEgERAAEgEBIBEQABIBASAREAASAQEgERAAEgEBIBEQABIBASAREAAS\\\n",
       "AQEgERAAEgEBIBEQABIBASAREAASAQEgWbdtO56fXmbvOHW9Xy2Xj6/ZM07ZN8a+MfaNsW/Muu/7\\\n",
       "cft5N3vHqYfX++Xt8X32jFP2jbFvjH1j7BvjhAVAIiAAJAICQCIgACQCAkAiIAAkAgJAIiAAJAIC\\\n",
       "QCIgACQCAkAiIAAkAgJAIiAAJAICQCIgACQCAkAiIAAkAgJAIiAAJAICQCIgACQCAkAiIAAkAgJA\\\n",
       "IiAAJAICQCIgACQCAkAiIAAkAgJAIiAAJAICQCIgACQCAkAiIAAkAgJAIiAAJOu2bcfz08vsHae2\\\n",
       "X1wtP/vpv2fPOHX5z8+Xy8fX7Bmnrvcr+wbYN8a+Md9937rv+3H7eTd7x6k//u13y29+9efZM079\\\n",
       "5e9/Wt4e32fPOPXwem/fAPvG2Dfmu+9zwgIgERAAEgEBIBEQABIBASAREAASAQEgERAAEgEBIBEQ\\\n",
       "ABIBASAREAASAQEgERAAEgEBIBEQABIBASAREAASAQEgERAAEgEBIBEQABIBASAREAASAQEgERAA\\\n",
       "EgEBIBEQABIBASAREAASAQEgERAAEgEBIBEQABIBASAREAASAQEgERAAknXbtuP56WX2jlPX+9Vy\\\n",
       "+fiaPeOUfWPsG2PfGPvGrPu+H7efd7N3nHp4vV/eHt9nzzhl3xj7xtg3xr4xTlgAJAICQCIgACQC\\\n",
       "AkAiIAAkAgJAIiAAJAICQCIgACQCAkAiIAAkAgJAIiAAJAICQCIgACQCAkAiIAAkAgJAIiAAJAIC\\\n",
       "QCIgACQCAkAiIAAkAgJAIiAAJAICQCIgACQCAkAiIAAkAgJAIiAAJAICQCIgACQCAkAiIAAkAgJA\\\n",
       "IiAAJAICQLJu23Y8P73M3nHqer9aLh9fs2ecsm+MfWPsG2PfmHXf9+P28272jlMPr/fL2+P77Bmn\\\n",
       "7Btj3xj7xtg3xgkLgERAAEgEBIBEQABIBASAREAASAQEgERAAEgEBIBEQABIBASAREAASAQEgERA\\\n",
       "AEgEBIBEQABIBASAREAASAQEgERAAEgEBIBEQABIBASAREAASAQEgERAAEgEBIBEQABIBASAREAA\\\n",
       "SAQEgERAAEgEBIBEQABIBASAREAASAQEgERAAEjWbduO56eX2TtOXe9Xy+Xja/aMU/aNsW+MfWPs\\\n",
       "G7Pu+37cft7N3nHq4fV+eXt8nz3jlH1j7Btj3xj7xjhhAZAICACJgACQCAgAiYAAkAgIAImAAJAI\\\n",
       "CACJgACQCAgAiYAAkAgIAImAAJAICACJgACQCAgAiYAAkAgIAImAAJAICACJgACQCAgAiYAAkAgI\\\n",
       "AImAAJAICACJgACQCAgAiYAAkAgIAImAAJAICACJgACQCAgAiYAAkAgIAImAAJAICADJum3b8fz0\\\n",
       "MnvHqev9arl8fM2eccq+MfaNsW+MfWPWfd+P28+72TtOPbzeL2+P77NnnLJvjH1j7Btj3xgnLAAS\\\n",
       "AQEgERAAEgEBIBEQABIBASAREAASAQEgERAAEgEBIBEQABIBASAREAASAQEgERAAEgEBIBEQABIB\\\n",
       "ASAREAASAQEgERAAEgEBIBEQABIBASAREAASAQEgERAAEgEBIBEQABIBASAREAASAQEgERAAEgEB\\\n",
       "IBEQABIBASAREAASAQEgWbdtO56fXmbvOHW9Xy2Xj6/ZM07ZN8a+MfaNsW/Muu/7cft5N3vHqYfX\\\n",
       "++Xt8X32jFP2jbFvjH1j7BvjhAVAIiAAJAICQCIgACQCAkAiIAAkAgJAIiAAJAICQCIgACQCAkAi\\\n",
       "IAAkAgJAIiAAJAICQCIgACQCAkAiIAAkAgJAIiAAJAICQCIgACQCAkAiIAAkAgJAIiAAJAICQCIg\\\n",
       "ACQCAkAiIAAkAgJAIiAAJAICQCIgACQCAkAiIAAkAgJAIiAAJOu2bcfz08vsHaeu96vl8vE1e8Yp\\\n",
       "+8bYN8a+MfaNWfd9P24/72bvOPXwer+8Pb7PnnHKvjH2jbFvjH1jnLAASAQEgERAAEgEBIBEQABI\\\n",
       "BASAREAASAQEgERAAEgEBIBEQABIBASAREAASAQEgERAAEgEBIBEQABIBASAREAASAQEgERAAEgE\\\n",
       "BIBEQABIBASAREAASAQEgERAAEgEBIBEQABIBASAREAASAQEgERAAEgEBIBEQABIBASAREAASAQE\\\n",
       "gGTdtu14fnqZvePU9X61XD6+Zs84Zd8Y+8bYN8a+Meu+78ft593sHaceXu+Xt8f32TNO2TfGvjH2\\\n",
       "jbFvjBMWAImAAJAICACJgACQCAgAiYAAkAgIAImAAJAICACJgACQCAgAiYAAkAgIAImAAJAICACJ\\\n",
       "gACQCAgAiYAAkAgIAImAAJAICACJgACQCAgAiYAAkAgIAImAAJAICACJgACQCAgAiYAAkAgIAImA\\\n",
       "AJAICACJgACQCAgAiYAAkAgIAImAAJD8F7dQUU/GmRsNAAAAAElFTkSuQmCC\\\n",
       "\"\n",
       "  frames[12] = \"data:image/png;base64,iVBORw0KGgoAAAANSUhEUgAAAZAAAAGQCAYAAACAvzbMAAAAOXRFWHRTb2Z0d2FyZQBNYXRwbG90\\\n",
       "bGliIHZlcnNpb24zLjQuMywgaHR0cHM6Ly9tYXRwbG90bGliLm9yZy/MnkTPAAAACXBIWXMAAAxO\\\n",
       "AAAMTgF/d4wjAAAIEUlEQVR4nO3YMWo2URmG4ZkfBRMGw4DgPswSolY2wQ0EJDtwA4ILSJnwNeks\\\n",
       "g6AIbsOFJFgkduMKxuI+xYlwXSt4OKe44V1//Phx3NzcLN/Vuq7LcRyzZ5yyb4x9Y/4f9i3r7BX/\\\n",
       "w7F8+/f7zvt+cnNzs9x+3M3ecerhcr+8Pr7NnnHKvjH2jfnu+/7w198v//jlP2fPOPXbf/36W7/f\\\n",
       "d//fH7MHAPD/SUAASAQEgERAAEgEBIBEQABIBASAREAASAQEgERAAEgEBIBEQABIBASAREAASAQE\\\n",
       "gERAAEgEBIBEQABIBASAREAASAQEgERAAEgEBIBEQABIBASAREAASAQEgERAAEgEBIBEQABIBASA\\\n",
       "REAASAQEgERAAEgEBIBEQABIBASAREAASNZt247np5fZO05d71fL5/vX7Bmn7Btj3xj7xtg3Zt33\\\n",
       "/bj9uJu949TD5X55fXybPeOUfWPsG2PfGPvGOGEBkAgIAImAAJAICACJgACQCAgAiYAAkAgIAImA\\\n",
       "AJAICACJgACQCAgAiYAAkAgIAImAAJAICACJgACQCAgAiYAAkAgIAImAAJAICACJgACQCAgAiYAA\\\n",
       "kAgIAImAAJAICACJgACQCAgAiYAAkAgIAImAAJAICACJgACQCAgAiYAAkAgIAMm6bdvx/PQye8ep\\\n",
       "7RdXy89++u/ZM059/ufny+f71+wZp673K/sG2DfGvjHffd+67/tx+3E3e8epP/7td8tvfvXn2TNO\\\n",
       "/eXvf1peH99mzzj1cLm3b4B9Y+wb8933OWEBkAgIAImAAJAICACJgACQCAgAiYAAkAgIAImAAJAI\\\n",
       "CACJgACQCAgAiYAAkAgIAImAAJAICACJgACQCAgAiYAAkAgIAImAAJAICACJgACQCAgAiYAAkAgI\\\n",
       "AImAAJAICACJgACQCAgAiYAAkAgIAImAAJAICACJgACQCAgAiYAAkAgIAMm6bdvx/PQye8ep6/1q\\\n",
       "+Xz/mj3jlH1j7Btj3xj7xqz7vh+3H3ezd5x6uNwvr49vs2ecsm+MfWPsG2PfGCcsABIBASAREAAS\\\n",
       "AQEgERAAEgEBIBEQABIBASAREAASAQEgERAAEgEBIBEQABIBASAREAASAQEgERAAEgEBIBEQABIB\\\n",
       "ASAREAASAQEgERAAEgEBIBEQABIBASAREAASAQEgERAAEgEBIBEQABIBASAREAASAQEgERAAEgEB\\\n",
       "IBEQABIBASBZt207np9eZu84db1fLZ/vX7NnnLJvjH1j7Btj35h13/fj9uNu9o5TD5f75fXxbfaM\\\n",
       "U/aNsW+MfWPsG+OEBUAiIAAkAgJAIiAAJAICQCIgACQCAkAiIAAkAgJAIiAAJAICQCIgACQCAkAi\\\n",
       "IAAkAgJAIiAAJAICQCIgACQCAkAiIAAkAgJAIiAAJAICQCIgACQCAkAiIAAkAgJAIiAAJAICQCIg\\\n",
       "ACQCAkAiIAAkAgJAIiAAJAICQCIgACQCAkAiIAAk67Ztx/PTy+wdp673q+Xz/Wv2jFP2jbFvjH1j\\\n",
       "7Buz7vt+3H7czd5x6uFyv7w+vs2eccq+MfaNsW+MfWOcsABIBASAREAASAQEgERAAEgEBIBEQABI\\\n",
       "BASAREAASAQEgERAAEgEBIBEQABIBASAREAASAQEgERAAEgEBIBEQABIBASAREAASAQEgERAAEgE\\\n",
       "BIBEQABIBASAREAASAQEgERAAEgEBIBEQABIBASAREAASAQEgERAAEgEBIBEQABIBASAZN227Xh+\\\n",
       "epm949T1frV8vn/NnnHKvjH2jbFvjH1j1n3fj9uPu9k7Tj1c7pfXx7fZM07ZN8a+MfaNsW+MExYA\\\n",
       "iYAAkAgIAImAAJAICACJgACQCAgAiYAAkAgIAImAAJAICACJgACQCAgAiYAAkAgIAImAAJAICACJ\\\n",
       "gACQCAgAiYAAkAgIAImAAJAICACJgACQCAgAiYAAkAgIAImAAJAICACJgACQCAgAiYAAkAgIAImA\\\n",
       "AJAICACJgACQCAgAiYAAkKzbth3PTy+zd5y63q+Wz/ev2TNO2TfGvjH2jbFvzLrv+3H7cTd7x6mH\\\n",
       "y/3y+vg2e8Yp+8bYN8a+MfaNccICIBEQABIBASAREAASAQEgERAAEgEBIBEQABIBASAREAASAQEg\\\n",
       "ERAAEgEBIBEQABIBASAREAASAQEgERAAEgEBIBEQABIBASAREAASAQEgERAAEgEBIBEQABIBASAR\\\n",
       "EAASAQEgERAAEgEBIBEQABIBASAREAASAQEgERAAEgEBIBEQAJJ127bj+ell9o5T1/vV8vn+NXvG\\\n",
       "KfvG2DfGvjH2jVn3fT9uP+5m7zj1cLlfXh/fZs84Zd8Y+8bYN8a+MU5YACQCAkAiIAAkAgJAIiAA\\\n",
       "JAICQCIgACQCAkAiIAAkAgJAIiAAJAICQCIgACQCAkAiIAAkAgJAIiAAJAICQCIgACQCAkAiIAAk\\\n",
       "AgJAIiAAJAICQCIgACQCAkAiIAAkAgJAIiAAJAICQCIgACQCAkAiIAAkAgJAIiAAJAICQCIgACQC\\\n",
       "AkCybtt2PD+9zN5x6nq/Wj7fv2bPOGXfGPvG2DfGvjHrvu/H7cfd7B2nHi73y+vj2+wZp+wbY98Y\\\n",
       "+8bYN8YJC4BEQABIBASAREAASAQEgERAAEgEBIBEQABIBASAREAASAQEgERAAEgEBIBEQABIBASA\\\n",
       "REAASAQEgERAAEgEBIBEQABIBASAREAASAQEgERAAEgEBIBEQABIBASAREAASAQEgERAAEgEBIBE\\\n",
       "QABIBASAREAASAQEgERAAEgEBIBEQABI/gv3X1FPDIFw3AAAAABJRU5ErkJggg==\\\n",
       "\"\n",
       "  frames[13] = \"data:image/png;base64,iVBORw0KGgoAAAANSUhEUgAAAZAAAAGQCAYAAACAvzbMAAAAOXRFWHRTb2Z0d2FyZQBNYXRwbG90\\\n",
       "bGliIHZlcnNpb24zLjQuMywgaHR0cHM6Ly9tYXRwbG90bGliLm9yZy/MnkTPAAAACXBIWXMAAAxO\\\n",
       "AAAMTgF/d4wjAAAIDElEQVR4nO3YMWo2YRWG4ZkfBRMGw4DgPswSolY2wQ0EJDtwA4ILSJmQJp1l\\\n",
       "EBTBbbiQBIsvduMKxuJ+izfCda3g4TQ3nPXHjx/Hzc3N8l2t67ocxzF7xin7xtg3xr4x67ouyzp7\\\n",
       "xf9wLN/6fj+5ublZbj/vZu849fB6v7w9vs+eccq+MfaNsW/MH/76++Ufv/zn7BmnfvuvX3/r+/2Y\\\n",
       "PQCA/08CAkAiIAAkAgJAIiAAJAICQCIgACQCAkAiIAAkAgJAIiAAJAICQCIgACQCAkAiIAAkAgJA\\\n",
       "IiAAJAICQCIgACQCAkAiIAAkAgJAIiAAJAICQCIgACQCAkAiIAAkAgJAIiAAJAICQCIgACQCAkAi\\\n",
       "IAAkAgJAIiAAJAICQCIgACQCAkCybtt2PD+9zN5x6nq/Wi4fX7NnnLJvjH1j7Btj35h13/fj9vNu\\\n",
       "9o5TD6/3y9vj++wZp+wbY98Y+8bYN8YLC4BEQABIBASAREAASAQEgERAAEgEBIBEQABIBASAREAA\\\n",
       "SAQEgERAAEgEBIBEQABIBASAREAASAQEgERAAEgEBIBEQABIBASAREAASAQEgERAAEgEBIBEQABI\\\n",
       "BASAREAASAQEgERAAEgEBIBEQABIBASAREAASAQEgERAAEgEBIBEQABI1m3bjuenl9k7Tm2/uFp+\\\n",
       "9tN/z55x6vKfny+Xj6/ZM05d71f2DbBvjH1jvvu+dd/34/bzbvaOU3/82++W3/zqz7NnnPrL3/+0\\\n",
       "vD2+z55x6uH13r4B9o2xb8x33+eFBUAiIAAkAgJAIiAAJAICQCIgACQCAkAiIAAkAgJAIiAAJAIC\\\n",
       "QCIgACQCAkAiIAAkAgJAIiAAJAICQCIgACQCAkAiIAAkAgJAIiAAJAICQCIgACQCAkAiIAAkAgJA\\\n",
       "IiAAJAICQCIgACQCAkAiIAAkAgJAIiAAJAICQCIgACQCAkAiIAAk67Ztx/PTy+wdp673q+Xy8TV7\\\n",
       "xin7xtg3xr4x9o1Z930/bj/vZu849fB6v7w9vs+eccq+MfaNsW+MfWO8sABIBASAREAASAQEgERA\\\n",
       "AEgEBIBEQABIBASAREAASAQEgERAAEgEBIBEQABIBASAREAASAQEgERAAEgEBIBEQABIBASAREAA\\\n",
       "SAQEgERAAEgEBIBEQABIBASAREAASAQEgERAAEgEBIBEQABIBASAREAASAQEgERAAEgEBIBEQABI\\\n",
       "BASAZN227Xh+epm949T1frVcPr5mzzhl3xj7xtg3xr4x677vx+3n3ewdpx5e75e3x/fZM07ZN8a+\\\n",
       "MfaNsW+MFxYAiYAAkAgIAImAAJAICACJgACQCAgAiYAAkAgIAImAAJAICACJgACQCAgAiYAAkAgI\\\n",
       "AImAAJAICACJgACQCAgAiYAAkAgIAImAAJAICACJgACQCAgAiYAAkAgIAImAAJAICACJgACQCAgA\\\n",
       "iYAAkAgIAImAAJAICACJgACQCAgAiYAAkKzbth3PTy+zd5y63q+Wy8fX7Bmn7Btj3xj7xtg3Zt33\\\n",
       "/bj9vJu949TD6/3y9vg+e8Yp+8bYN8a+MfaN8cICIBEQABIBASAREAASAQEgERAAEgEBIBEQABIB\\\n",
       "ASAREAASAQEgERAAEgEBIBEQABIBASAREAASAQEgERAAEgEBIBEQABIBASAREAASAQEgERAAEgEB\\\n",
       "IBEQABIBASAREAASAQEgERAAEgEBIBEQABIBASAREAASAQEgERAAEgEBIBEQAJJ127bj+ell9o5T\\\n",
       "1/vVcvn4mj3jlH1j7Btj3xj7xqz7vh+3n3ezd5x6eL1f3h7fZ884Zd8Y+8bYN8a+MV5YACQCAkAi\\\n",
       "IAAkAgJAIiAAJAICQCIgACQCAkAiIAAkAgJAIiAAJAICQCIgACQCAkAiIAAkAgJAIiAAJAICQCIg\\\n",
       "ACQCAkAiIAAkAgJAIiAAJAICQCIgACQCAkAiIAAkAgJAIiAAJAICQCIgACQCAkAiIAAkAgJAIiAA\\\n",
       "JAICQCIgACQCAkCybtt2PD+9zN5x6nq/Wi4fX7NnnLJvjH1j7Btj35h13/fj9vNu9o5TD6/3y9vj\\\n",
       "++wZp+wbY98Y+8bYN8YLC4BEQABIBASAREAASAQEgERAAEgEBIBEQABIBASAREAASAQEgERAAEgE\\\n",
       "BIBEQABIBASAREAASAQEgERAAEgEBIBEQABIBASAREAASAQEgERAAEgEBIBEQABIBASAREAASAQE\\\n",
       "gERAAEgEBIBEQABIBASAREAASAQEgERAAEgEBIBEQABI1m3bjuenl9k7Tl3vV8vl42v2jFP2jbFv\\\n",
       "jH1j7Buz7vt+3H7ezd5x6uH1fnl7fJ8945R9Y+wbY98Y+8Z4YQGQCAgAiYAAkAgIAImAAJAICACJ\\\n",
       "gACQCAgAiYAAkAgIAImAAJAICACJgACQCAgAiYAAkAgIAImAAJAICACJgACQCAgAiYAAkAgIAImA\\\n",
       "AJAICACJgACQCAgAiYAAkAgIAImAAJAICACJgACQCAgAiYAAkAgIAImAAJAICACJgACQCAgAybpt\\\n",
       "2/H89DJ7x6nr/Wq5fHzNnnHKvjH2jbFvjH1j1n3fj9vPu9k7Tj283i9vj++zZ5yyb4x9Y+wbY98Y\\\n",
       "LywAEgEBIBEQABIBASAREAASAQEgERAAEgEBIBEQABIBASAREAASAQEgERAAEgEBIBEQABIBASAR\\\n",
       "EAASAQEgERAAEgEBIBEQABIBASAREAASAQEgERAAEgEBIBEQABIBASAREAASAQEgERAAEgEBIBEQ\\\n",
       "ABIBASAREAASAQEgERAAEgEBIPkvN31RT+ajgyIAAAAASUVORK5CYII=\\\n",
       "\"\n",
       "  frames[14] = \"data:image/png;base64,iVBORw0KGgoAAAANSUhEUgAAAZAAAAGQCAYAAACAvzbMAAAAOXRFWHRTb2Z0d2FyZQBNYXRwbG90\\\n",
       "bGliIHZlcnNpb24zLjQuMywgaHR0cHM6Ly9tYXRwbG90bGliLm9yZy/MnkTPAAAACXBIWXMAAAxO\\\n",
       "AAAMTgF/d4wjAAAH/klEQVR4nO3YMWpuUQGF0XsfCiZcDBcE52GGEOxsghMISGbgBAQHkDIhTTrL\\\n",
       "ICiCk0qwSOx+R3Ca7xTnCWuNYHcf7P3Hjx+Xm5ub7We17/t2uVxWzxiyb459c+yb8/+wb9tXrxj7\\\n",
       "xc3NzXb7ebd6x9DD6/329vi+esaQfXPsm2PfnJ9935/+/sftX7/99+oZQz9WDwDg/5OAAJAICACJ\\\n",
       "gACQCAgAiYAAkAgIAImAAJAICACJgACQCAgAiYAAkAgIAImAAJAICACJgACQCAgAiYAAkAgIAImA\\\n",
       "AJAICACJgACQCAgAiYAAkAgIAImAAJAICACJgACQCAgAiYAAkAgIAImAAJAICACJgACQCAgAiYAA\\\n",
       "kAgIAImAAJDsx3Fcnp9eVu8Yuj6vtq+P79UzhuybY98c++bYN2c/z/Ny+3m3esfQw+v99vb4vnrG\\\n",
       "kH1z7Jtj3xz75riwAEgEBIBEQABIBASAREAASAQEgERAAEgEBIBEQABIBASAREAASAQEgERAAEgE\\\n",
       "BIBEQABIBASAREAASAQEgERAAEgEBIBEQABIBASAREAASAQEgERAAEgEBIBEQABIBASAREAASAQE\\\n",
       "gERAAEgEBIBEQABIBASAREAASAQEgERAAEgEBIBkP47j8vz0snrH0PGbq+1Xv/zP6hlDX//99fb1\\\n",
       "8b16xtD1eWXfBPvm2DfnZ9+3n+d5uf28W71j6M//+MP2+9/9dfWMob/98y/b2+P76hlDD6/39k2w\\\n",
       "b459c372fS4sABIBASAREAASAQEgERAAEgEBIBEQABIBASAREAASAQEgERAAEgEBIBEQABIBASAR\\\n",
       "EAASAQEgERAAEgEBIBEQABIBASAREAASAQEgERAAEgEBIBEQABIBASAREAASAQEgERAAEgEBIBEQ\\\n",
       "ABIBASAREAASAQEgERAAEgEBIBEQABIBASDZj+O4PD+9rN4xdH1ebV8f36tnDNk3x7459s2xb85+\\\n",
       "nufl9vNu9Y6hh9f77e3xffWMIfvm2DfHvjn2zXFhAZAICACJgACQCAgAiYAAkAgIAImAAJAICACJ\\\n",
       "gACQCAgAiYAAkAgIAImAAJAICACJgACQCAgAiYAAkAgIAImAAJAICACJgACQCAgAiYAAkAgIAImA\\\n",
       "AJAICACJgACQCAgAiYAAkAgIAImAAJAICACJgACQCAgAiYAAkAgIAImAAJAICADJfhzH5fnpZfWO\\\n",
       "oevzavv6+F49Y8i+OfbNsW+OfXP28zwvt593q3cMPbzeb2+P76tnDNk3x7459s2xb44LC4BEQABI\\\n",
       "BASAREAASAQEgERAAEgEBIBEQABIBASAREAASAQEgERAAEgEBIBEQABIBASAREAASAQEgERAAEgE\\\n",
       "BIBEQABIBASAREAASAQEgERAAEgEBIBEQABIBASAREAASAQEgERAAEgEBIBEQABIBASAREAASAQE\\\n",
       "gERAAEgEBIBEQABI9uM4Ls9PL6t3DF2fV9vXx/fqGUP2zbFvjn1z7Juzn+d5uf28W71j6OH1fnt7\\\n",
       "fF89Y8i+OfbNsW+OfXNcWAAkAgJAIiAAJAICQCIgACQCAkAiIAAkAgJAIiAAJAICQCIgACQCAkAi\\\n",
       "IAAkAgJAIiAAJAICQCIgACQCAkAiIAAkAgJAIiAAJAICQCIgACQCAkAiIAAkAgJAIiAAJAICQCIg\\\n",
       "ACQCAkAiIAAkAgJAIiAAJAICQCIgACQCAkAiIAAkAgJAsh/HcXl+elm9Y+j6vNq+Pr5Xzxiyb459\\\n",
       "c+ybY9+c/TzPy+3n3eodQw+v99vb4/vqGUP2zbFvjn1z7JvjwgIgERAAEgEBIBEQABIBASAREAAS\\\n",
       "AQEgERAAEgEBIBEQABIBASAREAASAQEgERAAEgEBIBEQABIBASAREAASAQEgERAAEgEBIBEQABIB\\\n",
       "ASAREAASAQEgERAAEgEBIBEQABIBASAREAASAQEgERAAEgEBIBEQABIBASAREAASAQEgERAAkv04\\\n",
       "jsvz08vqHUPX59X29fG9esaQfXPsm2PfHPvm7Od5Xm4/71bvGHp4vd/eHt9Xzxiyb459c+ybY98c\\\n",
       "FxYAiYAAkAgIAImAAJAICACJgACQCAgAiYAAkAgIAImAAJAICACJgACQCAgAiYAAkAgIAImAAJAI\\\n",
       "CACJgACQCAgAiYAAkAgIAImAAJAICACJgACQCAgAiYAAkAgIAImAAJAICACJgACQCAgAiYAAkAgI\\\n",
       "AImAAJAICACJgACQCAgAiYAAkOzHcVyen15W7xi6Pq+2r4/v1TOG7Jtj3xz75tg3Zz/P83L7ebd6\\\n",
       "x9DD6/329vi+esaQfXPsm2PfHPvmuLAASAQEgERAAEgEBIBEQABIBASAREAASAQEgERAAEgEBIBE\\\n",
       "QABIBASAREAASAQEgERAAEgEBIBEQABIBASAREAASAQEgERAAEgEBIBEQABIBASAREAASAQEgERA\\\n",
       "AEgEBIBEQABIBASAREAASAQEgERAAEgEBIBEQABIBASAREAASAQEgGQ/juPy/PSyesfQ9Xm1fX18\\\n",
       "r54xZN8c++bYN8e+Oft5npfbz7vVO4YeXu+3t8f31TOG7Jtj3xz75tg3x4UFQCIgACQCAkAiIAAk\\\n",
       "AgJAIiAAJAICQCIgACQCAkAiIAAkAgJAIiAAJAICQCIgACQCAkAiIAAkAgJAIiAAJAICQCIgACQC\\\n",
       "AkAiIAAkAgJAIiAAJAICQCIgACQCAkAiIAAkAgJAIiAAJAICQCIgACQCAkAiIAAkAgJAIiAAJAIC\\\n",
       "QCIgACT/A0NSUEKfOIwDAAAAAElFTkSuQmCC\\\n",
       "\"\n",
       "  frames[15] = \"data:image/png;base64,iVBORw0KGgoAAAANSUhEUgAAAZAAAAGQCAYAAACAvzbMAAAAOXRFWHRTb2Z0d2FyZQBNYXRwbG90\\\n",
       "bGliIHZlcnNpb24zLjQuMywgaHR0cHM6Ly9tYXRwbG90bGliLm9yZy/MnkTPAAAACXBIWXMAAAxO\\\n",
       "AAAMTgF/d4wjAAAIAUlEQVR4nO3YsU02VwJG4Zlfa8kfGi0ayZWYEpAzJ3RAQgduYCUXQAgiIduQ\\\n",
       "xFsXyAFsNlvBJOcGl5Wep4I3O9K7/vjx47i+vl6+q3Vdl+M4Zs84Zd8Y+8bYN8a+Mf+4vr5ebj5u\\\n",
       "Z+84df9yt7w+vM2eccq+MfaNsW+MfWN+zB4AwP8nAQEgERAAEgEBIBEQABIBASAREAASAQEgERAA\\\n",
       "EgEBIBEQABIBASAREAASAQEgERAAEgEBIBEQABIBASAREAASAQEgERAAEgEBIBEQABIBASAREAAS\\\n",
       "AQEgERAAEgEBIBEQABIBASAREAASAQEgERAAEgEBIBEQABIBASAREAASAQEgWbdtO54en2fvOHW1\\\n",
       "X5bP96/ZM07ZN8a+MfaN+e77tl8uy88//T17xql13/fj5uN29o5T9y93y+vD2+wZp+wbY98Y+8Z8\\\n",
       "931//PX78tuvf86eccqFBUAiIAAkAgJAIiAAJAICQCIgACQCAkAiIAAkAgJAIiAAJAICQCIgACQC\\\n",
       "AkAiIAAkAgJAIiAAJAICQCIgACQCAkAiIAAkAgJAIiAAJAICQCIgACQCAkAiIAAkAgJAIiAAJAIC\\\n",
       "QCIgACQCAkAiIAAkAgJAIiAAJAICQCIgACQCAkAiIAAk67Ztx9Pj8+wdp7ZfLsvPP/09e8apz//+\\\n",
       "c/l8/5o949TVfrFvgH1j7Bvz3fet+74fNx+3s3ec+uOv35fffv1z9oxT//7Pv5bXh7fZM07dv9zZ\\\n",
       "N8C+MfaN+e77XFgAJAICQCIgACQCAkAiIAAkAgJAIiAAJAICQCIgACQCAkAiIAAkAgJAIiAAJAIC\\\n",
       "QCIgACQCAkAiIAAkAgJAIiAAJAICQCIgACQCAkAiIAAkAgJAIiAAJAICQCIgACQCAkAiIAAkAgJA\\\n",
       "IiAAJAICQCIgACQCAkAiIAAkAgJAIiAAJAICQLJu23Y8PT7P3nHqar8sn+9fs2ecsm+MfWPsG2Pf\\\n",
       "mHXf9+Pm43b2jlP3L3fL68Pb7Bmn7Btj3xj7xtg3xoUFQCIgACQCAkAiIAAkAgJAIiAAJAICQCIg\\\n",
       "ACQCAkAiIAAkAgJAIiAAJAICQCIgACQCAkAiIAAkAgJAIiAAJAICQCIgACQCAkAiIAAkAgJAIiAA\\\n",
       "JAICQCIgACQCAkAiIAAkAgJAIiAAJAICQCIgACQCAkAiIAAkAgJAIiAAJAICQCIgACTrtm3H0+Pz\\\n",
       "7B2nrvbL8vn+NXvGKfvG2DfGvjH2jVn3fT9uPm5n7zh1/3K3vD68zZ5xyr4x9o2xb4x9Y1xYACQC\\\n",
       "AkAiIAAkAgJAIiAAJAICQCIgACQCAkAiIAAkAgJAIiAAJAICQCIgACQCAkAiIAAkAgJAIiAAJAIC\\\n",
       "QCIgACQCAkAiIAAkAgJAIiAAJAICQCIgACQCAkAiIAAkAgJAIiAAJAICQCIgACQCAkAiIAAkAgJA\\\n",
       "IiAAJAICQCIgACQCAkCybtt2PD0+z95x6mq/LJ/vX7NnnLJvjH1j7Btj35h13/fj5uN29o5T9y93\\\n",
       "y+vD2+wZp+wbY98Y+8bYN8aFBUAiIAAkAgJAIiAAJAICQCIgACQCAkAiIAAkAgJAIiAAJAICQCIg\\\n",
       "ACQCAkAiIAAkAgJAIiAAJAICQCIgACQCAkAiIAAkAgJAIiAAJAICQCIgACQCAkAiIAAkAgJAIiAA\\\n",
       "JAICQCIgACQCAkAiIAAkAgJAIiAAJAICQCIgACQCAkAiIAAk67Ztx9Pj8+wdp672y/L5/jV7xin7\\\n",
       "xtg3xr4x9o1Z930/bj5uZ+84df9yt7w+vM2eccq+MfaNsW+MfWNcWAAkAgJAIiAAJAICQCIgACQC\\\n",
       "AkAiIAAkAgJAIiAAJAICQCIgACQCAkAiIAAkAgJAIiAAJAICQCIgACQCAkAiIAAkAgJAIiAAJAIC\\\n",
       "QCIgACQCAkAiIAAkAgJAIiAAJAICQCIgACQCAkAiIAAkAgJAIiAAJAICQCIgACQCAkAiIAAkAgJA\\\n",
       "sm7bdjw9Ps/ecepqvyyf71+zZ5yyb4x9Y+wbY9+Ydd/34+bjdvaOU/cvd8vrw9vsGafsG2PfGPvG\\\n",
       "2DfGhQVAIiAAJAICQCIgACQCAkAiIAAkAgJAIiAAJAICQCIgACQCAkAiIAAkAgJAIiAAJAICQCIg\\\n",
       "ACQCAkAiIAAkAgJAIiAAJAICQCIgACQCAkAiIAAkAgJAIiAAJAICQCIgACQCAkAiIAAkAgJAIiAA\\\n",
       "JAICQCIgACQCAkAiIAAkAgJAIiAAJOu2bcfT4/PsHaeu9svy+f41e8Yp+8bYN8a+MfaNWfd9P24+\\\n",
       "bmfvOHX/cre8PrzNnnHKvjH2jbFvjH1jXFgAJAICQCIgACQCAkAiIAAkAgJAIiAAJAICQCIgACQC\\\n",
       "AkAiIAAkAgJAIiAAJAICQCIgACQCAkAiIAAkAgJAIiAAJAICQCIgACQCAkAiIAAkAgJAIiAAJAIC\\\n",
       "QCIgACQCAkAiIAAkAgJAIiAAJAICQCIgACQCAkAiIAAkAgJAIiAAJAICQLJu23Y8PT7P3nHqar8s\\\n",
       "n+9fs2ecsm+MfWPsG2PfmHXf9+Pm43b2jlP3L3fL68Pb7Bmn7Btj3xj7xtg3xoUFQCIgACQCAkAi\\\n",
       "IAAkAgJAIiAAJAICQCIgACQCAkAiIAAkAgJAIiAAJAICQCIgACQCAkAiIAAkAgJAIiAAJAICQCIg\\\n",
       "ACQCAkAiIAAkAgJAIiAAJAICQCIgACQCAkAiIAAkAgJAIiAAJAICQCIgACQCAkAiIAAkAgJAIiAA\\\n",
       "JAICQCIgACT/A8CSUOYUp5LhAAAAAElFTkSuQmCC\\\n",
       "\"\n",
       "  frames[16] = \"data:image/png;base64,iVBORw0KGgoAAAANSUhEUgAAAZAAAAGQCAYAAACAvzbMAAAAOXRFWHRTb2Z0d2FyZQBNYXRwbG90\\\n",
       "bGliIHZlcnNpb24zLjQuMywgaHR0cHM6Ly9tYXRwbG90bGliLm9yZy/MnkTPAAAACXBIWXMAAAxO\\\n",
       "AAAMTgF/d4wjAAAIE0lEQVR4nO3YMWo3axmH4ZkPD/gPwwkDugo7s4Rgd5rsIE1aK3sRxDplQpp0\\\n",
       "lmmOnVtxDQmnSE4hjCuY5n6L9xOuawU/nuaGZ/327dtxfX29fK/WdV2O45g945R9Y+wbY98Y+8b8\\\n",
       "5vr6ern5uJ2949T9y93y+vA2e8Yp+8bYN8a+MfaN+TZ7AAD/nwQEgERAAEgEBIBEQABIBASAREAA\\\n",
       "SAQEgERAAEgEBIBEQABIBASAREAASAQEgERAAEgEBIBEQABIBASAREAASAQEgERAAEgEBIBEQABI\\\n",
       "BASAREAASAQEgERAAEgEBIBEQABIBASAREAASAQEgERAAEgEBIBEQABIBASAREAASAQEgGTdtu14\\\n",
       "enyevePU1X5ZPt+/Zs84Zd8Y+8bYN2b73WX59sMvs2ec+u+vP37X91v3fT9uPm5n7zh1/3K3vD68\\\n",
       "zZ5xyr4x9o2xb8yff/5p+f0f/jp7xqn//Psf3/X9vLAASAQEgERAAEgEBIBEQABIBASAREAASAQE\\\n",
       "gERAAEgEBIBEQABIBASAREAASAQEgERAAEgEBIBEQABIBASAREAASAQEgERAAEgEBIBEQABIBASA\\\n",
       "REAASAQEgERAAEgEBIBEQABIBASAREAASAQEgERAAEgEBIBEQABIBASAREAASAQEgGTdtu14enye\\\n",
       "vePU9rvL8tsffpk949Tnrz8un+9fs2ecutov9g2wb4x9Y773feu+78fNx+3sHaf+8vNPy5/++PfZ\\\n",
       "M079819/W14f3mbPOHX/cmffAPvG2Dfme9/nhQVAIiAAJAICQCIgACQCAkAiIAAkAgJAIiAAJAIC\\\n",
       "QCIgACQCAkAiIAAkAgJAIiAAJAICQCIgACQCAkAiIAAkAgJAIiAAJAICQCIgACQCAkAiIAAkAgJA\\\n",
       "IiAAJAICQCIgACQCAkAiIAAkAgJAIiAAJAICQCIgACQCAkAiIAAkAgJAIiAAJOu2bcfT4/PsHaeu\\\n",
       "9svy+f41e8Yp+8bYN8a+MfaNWfd9P24+bmfvOHX/cre8PrzNnnHKvjH2jbFvjH1jvLAASAQEgERA\\\n",
       "AEgEBIBEQABIBASAREAASAQEgERAAEgEBIBEQABIBASAREAASAQEgERAAEgEBIBEQABIBASAREAA\\\n",
       "SAQEgERAAEgEBIBEQABIBASAREAASAQEgERAAEgEBIBEQABIBASAREAASAQEgERAAEgEBIBEQABI\\\n",
       "BASAREAASAQEgGTdtu14enyevePU1X5ZPt+/Zs84Zd8Y+8bYN8a+Meu+78fNx+3sHafuX+6W14e3\\\n",
       "2TNO2TfGvjH2jbFvjBcWAImAAJAICACJgACQCAgAiYAAkAgIAImAAJAICACJgACQCAgAiYAAkAgI\\\n",
       "AImAAJAICACJgACQCAgAiYAAkAgIAImAAJAICACJgACQCAgAiYAAkAgIAImAAJAICACJgACQCAgA\\\n",
       "iYAAkAgIAImAAJAICACJgACQCAgAiYAAkAgIAImAAJCs27YdT4/Ps3ecutovy+f71+wZp+wbY98Y\\\n",
       "+8bYN2bd9/24+bidvePU/cvd8vrwNnvGKfvG2DfGvjH2jfHCAiAREAASAQEgERAAEgEBIBEQABIB\\\n",
       "ASAREAASAQEgERAAEgEBIBEQABIBASAREAASAQEgERAAEgEBIBEQABIBASAREAASAQEgERAAEgEB\\\n",
       "IBEQABIBASAREAASAQEgERAAEgEBIBEQABIBASAREAASAQEgERAAEgEBIBEQABIBASAREACSddu2\\\n",
       "4+nxefaOU1f7Zfl8/5o945R9Y+wbY98Y+8as+74fNx+3s3ecun+5W14f3mbPOGXfGPvG2DfGvjFe\\\n",
       "WAAkAgJAIiAAJAICQCIgACQCAkAiIAAkAgJAIiAAJAICQCIgACQCAkAiIAAkAgJAIiAAJAICQCIg\\\n",
       "ACQCAkAiIAAkAgJAIiAAJAICQCIgACQCAkAiIAAkAgJAIiAAJAICQCIgACQCAkAiIAAkAgJAIiAA\\\n",
       "JAICQCIgACQCAkAiIAAkAgJAsm7bdjw9Ps/ecepqvyyf71+zZ5yyb4x9Y+wbY9+Ydd/34+bjdvaO\\\n",
       "U/cvd8vrw9vsGafsG2PfGPvG2DfGCwuAREAASAQEgERAAEgEBIBEQABIBASAREAASAQEgERAAEgE\\\n",
       "BIBEQABIBASAREAASAQEgERAAEgEBIBEQABIBASAREAASAQEgERAAEgEBIBEQABIBASAREAASAQE\\\n",
       "gERAAEgEBIBEQABIBASAREAASAQEgERAAEgEBIBEQABIBASAREAASNZt246nx+fZO05d7Zfl8/1r\\\n",
       "9oxT9o2xb4x9Y+wbs+77ftx83M7ecer+5W55fXibPeOUfWPsG2PfGPvGeGEBkAgIAImAAJAICACJ\\\n",
       "gACQCAgAiYAAkAgIAImAAJAICACJgACQCAgAiYAAkAgIAImAAJAICACJgACQCAgAiYAAkAgIAImA\\\n",
       "AJAICACJgACQCAgAiYAAkAgIAImAAJAICACJgACQCAgAiYAAkAgIAImAAJAICACJgACQCAgAiYAA\\\n",
       "kAgIAMm6bdvx9Pg8e8epq/2yfL5/zZ5xyr4x9o2xb4x9Y9Z934+bj9vZO07dv9wtrw9vs2ecsm+M\\\n",
       "fWPsG2PfGC8sABIBASAREAASAQEgERAAEgEBIBEQABIBASAREAASAQEgERAAEgEBIBEQABIBASAR\\\n",
       "EAASAQEgERAAEgEBIBEQABIBASAREAASAQEgERAAEgEBIBEQABIBASAREAASAQEgERAAEgEBIBEQ\\\n",
       "ABIBASAREAASAQEgERAAEgEBIBEQABIBASD5H3BMU0/VHZhaAAAAAElFTkSuQmCC\\\n",
       "\"\n",
       "  frames[17] = \"data:image/png;base64,iVBORw0KGgoAAAANSUhEUgAAAZAAAAGQCAYAAACAvzbMAAAAOXRFWHRTb2Z0d2FyZQBNYXRwbG90\\\n",
       "bGliIHZlcnNpb24zLjQuMywgaHR0cHM6Ly9tYXRwbG90bGliLm9yZy/MnkTPAAAACXBIWXMAAAxO\\\n",
       "AAAMTgF/d4wjAAAIG0lEQVR4nO3YMWow1xmG0ZmfGCIxWAw4q0hnLUG4c6MdqFGbKn0IhNQqJdSo\\\n",
       "S6nG6byVrEHCheQiMFnBNM8trgLnrODl3uKBb/327dtxdXW1fFXrui7Hccyeccq+MfaNsW+MfWP+\\\n",
       "cHV1tVy/38zeceru+XZ5uX+dPeOUfWPsG2PfGPvGfJs9AID/TwICQCIgACQCAkAiIAAkAgJAIiAA\\\n",
       "JAICQCIgACQCAkAiIAAkAgJAIiAAJAICQCIgACQCAkAiIAAkAgJAIiAAJAICQCIgACQCAkAiIAAk\\\n",
       "AgJAIiAAJAICQCIgACQCAkAiIAAkAgJAIiAAJAICQCIgACQCAkAiIAAkAgJAIiAAJAICQLJu23Y8\\\n",
       "PjzN3nHqcr9YPt4+Z884Zd8Y+8Z89X3bDxfLt+9+mz3j1H9///5Lv99X/9913/fj+v1m9o5Td8+3\\\n",
       "y8v96+wZp+wbY9+Yr77vL7/8vPzpz3+bPePUf37955d+v6/+v05YACQCAkAiIAAkAgJAIiAAJAIC\\\n",
       "QCIgACQCAkAiIAAkAgJAIiAAJAICQCIgACQCAkAiIAAkAgJAIiAAJAICQCIgACQCAkAiIAAkAgJA\\\n",
       "IiAAJAICQCIgACQCAkAiIAAkAgJAIiAAJAICQCIgACQCAkAiIAAkAgJAIiAAJAICQCIgACQCAkCy\\\n",
       "btt2PD48zd5xavvhYvnjd7/NnnHq4/fvl4+3z9kzTl3uF/YNsG+MfWO++r513/fj+v1m9o5Tf/3l\\\n",
       "5+WnH/8xe8apf/3778vL/evsGafunm/tG2DfGPvGfPV9TlgAJAICQCIgACQCAkAiIAAkAgJAIiAA\\\n",
       "JAICQCIgACQCAkAiIAAkAgJAIiAAJAICQCIgACQCAkAiIAAkAgJAIiAAJAICQCIgACQCAkAiIAAk\\\n",
       "AgJAIiAAJAICQCIgACQCAkAiIAAkAgJAIiAAJAICQCIgACQCAkAiIAAkAgJAIiAAJAICQLJu23Y8\\\n",
       "PjzN3nHqcr9YPt4+Z884Zd8Y+8bYN8a+Meu+78f1+83sHafunm+Xl/vX2TNO2TfGvjH2jbFvjBMW\\\n",
       "AImAAJAICACJgACQCAgAiYAAkAgIAImAAJAICACJgACQCAgAiYAAkAgIAImAAJAICACJgACQCAgA\\\n",
       "iYAAkAgIAImAAJAICACJgACQCAgAiYAAkAgIAImAAJAICACJgACQCAgAiYAAkAgIAImAAJAICACJ\\\n",
       "gACQCAgAiYAAkAgIAImAAJCs27Ydjw9Ps3ecutwvlo+3z9kzTtk3xr4x9o2xb8y67/tx/X4ze8ep\\\n",
       "u+fb5eX+dfaMU/aNsW+MfWPsG+OEBUAiIAAkAgJAIiAAJAICQCIgACQCAkAiIAAkAgJAIiAAJAIC\\\n",
       "QCIgACQCAkAiIAAkAgJAIiAAJAICQCIgACQCAkAiIAAkAgJAIiAAJAICQCIgACQCAkAiIAAkAgJA\\\n",
       "IiAAJAICQCIgACQCAkAiIAAkAgJAIiAAJAICQCIgACQCAkAiIAAk67Ztx+PD0+wdpy73i+Xj7XP2\\\n",
       "jFP2jbFvjH1j7Buz7vt+XL/fzN5x6u75dnm5f50945R9Y+wbY98Y+8Y4YQGQCAgAiYAAkAgIAImA\\\n",
       "AJAICACJgACQCAgAiYAAkAgIAImAAJAICACJgACQCAgAiYAAkAgIAImAAJAICACJgACQCAgAiYAA\\\n",
       "kAgIAImAAJAICACJgACQCAgAiYAAkAgIAImAAJAICACJgACQCAgAiYAAkAgIAImAAJAICACJgACQ\\\n",
       "CAgAybpt2/H48DR7x6nL/WL5ePucPeOUfWPsG2PfGPvGrPu+H9fvN7N3nLp7vl1e7l9nzzhl3xj7\\\n",
       "xtg3xr4xTlgAJAICQCIgACQCAkAiIAAkAgJAIiAAJAICQCIgACQCAkAiIAAkAgJAIiAAJAICQCIg\\\n",
       "ACQCAkAiIAAkAgJAIiAAJAICQCIgACQCAkAiIAAkAgJAIiAAJAICQCIgACQCAkAiIAAkAgJAIiAA\\\n",
       "JAICQCIgACQCAkAiIAAkAgJAIiAAJAICQLJu23Y8PjzN3nHqcr9YPt4+Z884Zd8Y+8bYN8a+Meu+\\\n",
       "78f1+83sHafunm+Xl/vX2TNO2TfGvjH2jbFvjBMWAImAAJAICACJgACQCAgAiYAAkAgIAImAAJAI\\\n",
       "CACJgACQCAgAiYAAkAgIAImAAJAICACJgACQCAgAiYAAkAgIAImAAJAICACJgACQCAgAiYAAkAgI\\\n",
       "AImAAJAICACJgACQCAgAiYAAkAgIAImAAJAICACJgACQCAgAiYAAkAgIAImAAJCs27Ydjw9Ps3ec\\\n",
       "utwvlo+3z9kzTtk3xr4x9o2xb8y67/tx/X4ze8epu+fb5eX+dfaMU/aNsW+MfWPsG+OEBUAiIAAk\\\n",
       "AgJAIiAAJAICQCIgACQCAkAiIAAkAgJAIiAAJAICQCIgACQCAkAiIAAkAgJAIiAAJAICQCIgACQC\\\n",
       "AkAiIAAkAgJAIiAAJAICQCIgACQCAkAiIAAkAgJAIiAAJAICQCIgACQCAkAiIAAkAgJAIiAAJAIC\\\n",
       "QCIgACQCAkAiIAAk67Ztx+PD0+wdpy73i+Xj7XP2jFP2jbFvjH1j7Buz7vt+XL/fzN5x6u75dnm5\\\n",
       "f50945R9Y+wbY98Y+8Y4YQGQCAgAiYAAkAgIAImAAJAICACJgACQCAgAiYAAkAgIAImAAJAICACJ\\\n",
       "gACQCAgAiYAAkAgIAImAAJAICACJgACQCAgAiYAAkAgIAImAAJAICACJgACQCAgAiYAAkAgIAImA\\\n",
       "AJAICACJgACQCAgAiYAAkAgIAImAAJAICACJgACQCAgAyf8AcExTT5wdffgAAAAASUVORK5CYII=\\\n",
       "\"\n",
       "  frames[18] = \"data:image/png;base64,iVBORw0KGgoAAAANSUhEUgAAAZAAAAGQCAYAAACAvzbMAAAAOXRFWHRTb2Z0d2FyZQBNYXRwbG90\\\n",
       "bGliIHZlcnNpb24zLjQuMywgaHR0cHM6Ly9tYXRwbG90bGliLm9yZy/MnkTPAAAACXBIWXMAAAxO\\\n",
       "AAAMTgF/d4wjAAAIG0lEQVR4nO3YMWow1xmG0ZmfGCIxWAw4q0hnLUG4c6MdqFGbKn0IhNQqJdSo\\\n",
       "S6nG6byVrEHCheQiMFnBNM8trgLnrODl3uKBb/327dtxdXW1fFXrui7Hccyeccq+MfaNsW+MfWP+\\\n",
       "cHV1tVy/38zeceru+XZ5uX+dPeOUfWPsG2PfGPvGfJs9AID/TwICQCIgACQCAkAiIAAkAgJAIiAA\\\n",
       "JAICQCIgACQCAkAiIAAkAgJAIiAAJAICQCIgACQCAkAiIAAkAgJAIiAAJAICQCIgACQCAkAiIAAk\\\n",
       "AgJAIiAAJAICQCIgACQCAkAiIAAkAgJAIiAAJAICQCIgACQCAkAiIAAkAgJAIiAAJAICQLJu23Y8\\\n",
       "PjzN3nHqcr9YPt4+Z884Zd8Y+8ZsP1ws3777bfaMU//9/fsv/X5f/X+/+r513/fj+v1m9o5Td8+3\\\n",
       "y8v96+wZp+wbY9+Yv/zy8/KnP/9t9oxT//n1n1/6/b76/371fU5YACQCAkAiIAAkAgJAIiAAJAIC\\\n",
       "QCIgACQCAkAiIAAkAgJAIiAAJAICQCIgACQCAkAiIAAkAgJAIiAAJAICQCIgACQCAkAiIAAkAgJA\\\n",
       "IiAAJAICQCIgACQCAkAiIAAkAgJAIiAAJAICQCIgACQCAkAiIAAkAgJAIiAAJAICQCIgACQCAkCy\\\n",
       "btt2PD48zd5xavvhYvnjd7/NnnHq4/fvl4+3z9kzTl3uF/YNsG+MfWO++r513/fj+v1m9o5Tf/3l\\\n",
       "5+WnH/8xe8apf/3778vL/evsGafunm/tG2DfGPvGfPV9TlgAJAICQCIgACQCAkAiIAAkAgJAIiAA\\\n",
       "JAICQCIgACQCAkAiIAAkAgJAIiAAJAICQCIgACQCAkAiIAAkAgJAIiAAJAICQCIgACQCAkAiIAAk\\\n",
       "AgJAIiAAJAICQCIgACQCAkAiIAAkAgJAIiAAJAICQCIgACQCAkAiIAAkAgJAIiAAJAICQLJu23Y8\\\n",
       "PjzN3nHqcr9YPt4+Z884Zd8Y+8bYN8a+Meu+78f1+83sHafunm+Xl/vX2TNO2TfGvjH2jbFvjBMW\\\n",
       "AImAAJAICACJgACQCAgAiYAAkAgIAImAAJAICACJgACQCAgAiYAAkAgIAImAAJAICACJgACQCAgA\\\n",
       "iYAAkAgIAImAAJAICACJgACQCAgAiYAAkAgIAImAAJAICACJgACQCAgAiYAAkAgIAImAAJAICACJ\\\n",
       "gACQCAgAiYAAkAgIAImAAJCs27Ydjw9Ps3ecutwvlo+3z9kzTtk3xr4x9o2xb8y67/tx/X4ze8ep\\\n",
       "u+fb5eX+dfaMU/aNsW+MfWPsG+OEBUAiIAAkAgJAIiAAJAICQCIgACQCAkAiIAAkAgJAIiAAJAIC\\\n",
       "QCIgACQCAkAiIAAkAgJAIiAAJAICQCIgACQCAkAiIAAkAgJAIiAAJAICQCIgACQCAkAiIAAkAgJA\\\n",
       "IiAAJAICQCIgACQCAkAiIAAkAgJAIiAAJAICQCIgACQCAkAiIAAk67Ztx+PD0+wdpy73i+Xj7XP2\\\n",
       "jFP2jbFvjH1j7Buz7vt+XL/fzN5x6u75dnm5f50945R9Y+wbY98Y+8Y4YQGQCAgAiYAAkAgIAImA\\\n",
       "AJAICACJgACQCAgAiYAAkAgIAImAAJAICACJgACQCAgAiYAAkAgIAImAAJAICACJgACQCAgAiYAA\\\n",
       "kAgIAImAAJAICACJgACQCAgAiYAAkAgIAImAAJAICACJgACQCAgAiYAAkAgIAImAAJAICACJgACQ\\\n",
       "CAgAybpt2/H48DR7x6nL/WL5ePucPeOUfWPsG2PfGPvGrPu+H9fvN7N3nLp7vl1e7l9nzzhl3xj7\\\n",
       "xtg3xr4xTlgAJAICQCIgACQCAkAiIAAkAgJAIiAAJAICQCIgACQCAkAiIAAkAgJAIiAAJAICQCIg\\\n",
       "ACQCAkAiIAAkAgJAIiAAJAICQCIgACQCAkAiIAAkAgJAIiAAJAICQCIgACQCAkAiIAAkAgJAIiAA\\\n",
       "JAICQCIgACQCAkAiIAAkAgJAIiAAJAICQLJu23Y8PjzN3nHqcr9YPt4+Z884Zd8Y+8bYN8a+Meu+\\\n",
       "78f1+83sHafunm+Xl/vX2TNO2TfGvjH2jbFvjBMWAImAAJAICACJgACQCAgAiYAAkAgIAImAAJAI\\\n",
       "CACJgACQCAgAiYAAkAgIAImAAJAICACJgACQCAgAiYAAkAgIAImAAJAICACJgACQCAgAiYAAkAgI\\\n",
       "AImAAJAICACJgACQCAgAiYAAkAgIAImAAJAICACJgACQCAgAiYAAkAgIAImAAJCs27Ydjw9Ps3ec\\\n",
       "utwvlo+3z9kzTtk3xr4x9o2xb8y67/tx/X4ze8epu+fb5eX+dfaMU/aNsW+MfWPsG+OEBUAiIAAk\\\n",
       "AgJAIiAAJAICQCIgACQCAkAiIAAkAgJAIiAAJAICQCIgACQCAkAiIAAkAgJAIiAAJAICQCIgACQC\\\n",
       "AkAiIAAkAgJAIiAAJAICQCIgACQCAkAiIAAkAgJAIiAAJAICQCIgACQCAkAiIAAkAgJAIiAAJAIC\\\n",
       "QCIgACQCAkAiIAAk67Ztx+PD0+wdpy73i+Xj7XP2jFP2jbFvjH1j7Buz7vt+XL/fzN5x6u75dnm5\\\n",
       "f50945R9Y+wbY98Y+8Y4YQGQCAgAiYAAkAgIAImAAJAICACJgACQCAgAiYAAkAgIAImAAJAICACJ\\\n",
       "gACQCAgAiYAAkAgIAImAAJAICACJgACQCAgAiYAAkAgIAImAAJAICACJgACQCAgAiYAAkAgIAImA\\\n",
       "AJAICACJgACQCAgAiYAAkAgIAImAAJAICACJgACQCAgAyf8AcExTTz41PakAAAAASUVORK5CYII=\\\n",
       "\"\n",
       "  frames[19] = \"data:image/png;base64,iVBORw0KGgoAAAANSUhEUgAAAZAAAAGQCAYAAACAvzbMAAAAOXRFWHRTb2Z0d2FyZQBNYXRwbG90\\\n",
       "bGliIHZlcnNpb24zLjQuMywgaHR0cHM6Ly9tYXRwbG90bGliLm9yZy/MnkTPAAAACXBIWXMAAAxO\\\n",
       "AAAMTgF/d4wjAAAIG0lEQVR4nO3YMWow1xmG0ZmfGCIxWAw4q0hnLUG4c6MdqFGbKn0IhNQqJdSo\\\n",
       "S6nG6byVrEHCheQiMFnBNM8trgLnrODl3uKBb/327dtxdXW1fFXrui7Hccyeccq+MfaNsW+MfWP+\\\n",
       "cHV1tVy/38zeceru+XZ5uX+dPeOUfWPsG2PfGPvGfJs9AID/TwICQCIgACQCAkAiIAAkAgJAIiAA\\\n",
       "JAICQCIgACQCAkAiIAAkAgJAIiAAJAICQCIgACQCAkAiIAAkAgJAIiAAJAICQCIgACQCAkAiIAAk\\\n",
       "AgJAIiAAJAICQCIgACQCAkAiIAAkAgJAIiAAJAICQCIgACQCAkAiIAAkAgJAIiAAJAICQLJu23Y8\\\n",
       "PjzN3nHqcr9YPt4+Z884Zd+Yr75v++Fi+fbdb7NnnPrv799/6ff76v9r35h13/fj+v1m9o5Td8+3\\\n",
       "y8v96+wZp+wb89X3/eWXn5c//flvs2ec+s+v//zS7/fV/9e+MU5YACQCAkAiIAAkAgJAIiAAJAIC\\\n",
       "QCIgACQCAkAiIAAkAgJAIiAAJAICQCIgACQCAkAiIAAkAgJAIiAAJAICQCIgACQCAkAiIAAkAgJA\\\n",
       "IiAAJAICQCIgACQCAkAiIAAkAgJAIiAAJAICQCIgACQCAkAiIAAkAgJAIiAAJAICQCIgACQCAkCy\\\n",
       "btt2PD48zd5xavvhYvnjd7/NnnHq4/fvl4+3z9kzTl3uF/YNsG+MfWO++r513/fj+v1m9o5Tf/3l\\\n",
       "5+WnH/8xe8apf/3778vL/evsGafunm/tG2DfGPvGfPV9TlgAJAICQCIgACQCAkAiIAAkAgJAIiAA\\\n",
       "JAICQCIgACQCAkAiIAAkAgJAIiAAJAICQCIgACQCAkAiIAAkAgJAIiAAJAICQCIgACQCAkAiIAAk\\\n",
       "AgJAIiAAJAICQCIgACQCAkAiIAAkAgJAIiAAJAICQCIgACQCAkAiIAAkAgJAIiAAJAICQLJu23Y8\\\n",
       "PjzN3nHqcr9YPt4+Z884Zd8Y+8bYN8a+Meu+78f1+83sHafunm+Xl/vX2TNO2TfGvjH2jbFvjBMW\\\n",
       "AImAAJAICACJgACQCAgAiYAAkAgIAImAAJAICACJgACQCAgAiYAAkAgIAImAAJAICACJgACQCAgA\\\n",
       "iYAAkAgIAImAAJAICACJgACQCAgAiYAAkAgIAImAAJAICACJgACQCAgAiYAAkAgIAImAAJAICACJ\\\n",
       "gACQCAgAiYAAkAgIAImAAJCs27Ydjw9Ps3ecutwvlo+3z9kzTtk3xr4x9o2xb8y67/tx/X4ze8ep\\\n",
       "u+fb5eX+dfaMU/aNsW+MfWPsG+OEBUAiIAAkAgJAIiAAJAICQCIgACQCAkAiIAAkAgJAIiAAJAIC\\\n",
       "QCIgACQCAkAiIAAkAgJAIiAAJAICQCIgACQCAkAiIAAkAgJAIiAAJAICQCIgACQCAkAiIAAkAgJA\\\n",
       "IiAAJAICQCIgACQCAkAiIAAkAgJAIiAAJAICQCIgACQCAkAiIAAk67Ztx+PD0+wdpy73i+Xj7XP2\\\n",
       "jFP2jbFvjH1j7Buz7vt+XL/fzN5x6u75dnm5f50945R9Y+wbY98Y+8Y4YQGQCAgAiYAAkAgIAImA\\\n",
       "AJAICACJgACQCAgAiYAAkAgIAImAAJAICACJgACQCAgAiYAAkAgIAImAAJAICACJgACQCAgAiYAA\\\n",
       "kAgIAImAAJAICACJgACQCAgAiYAAkAgIAImAAJAICACJgACQCAgAiYAAkAgIAImAAJAICACJgACQ\\\n",
       "CAgAybpt2/H48DR7x6nL/WL5ePucPeOUfWPsG2PfGPvGrPu+H9fvN7N3nLp7vl1e7l9nzzhl3xj7\\\n",
       "xtg3xr4xTlgAJAICQCIgACQCAkAiIAAkAgJAIiAAJAICQCIgACQCAkAiIAAkAgJAIiAAJAICQCIg\\\n",
       "ACQCAkAiIAAkAgJAIiAAJAICQCIgACQCAkAiIAAkAgJAIiAAJAICQCIgACQCAkAiIAAkAgJAIiAA\\\n",
       "JAICQCIgACQCAkAiIAAkAgJAIiAAJAICQLJu23Y8PjzN3nHqcr9YPt4+Z884Zd8Y+8bYN8a+Meu+\\\n",
       "78f1+83sHafunm+Xl/vX2TNO2TfGvjH2jbFvjBMWAImAAJAICACJgACQCAgAiYAAkAgIAImAAJAI\\\n",
       "CACJgACQCAgAiYAAkAgIAImAAJAICACJgACQCAgAiYAAkAgIAImAAJAICACJgACQCAgAiYAAkAgI\\\n",
       "AImAAJAICACJgACQCAgAiYAAkAgIAImAAJAICACJgACQCAgAiYAAkAgIAImAAJCs27Ydjw9Ps3ec\\\n",
       "utwvlo+3z9kzTtk3xr4x9o2xb8y67/tx/X4ze8epu+fb5eX+dfaMU/aNsW+MfWPsG+OEBUAiIAAk\\\n",
       "AgJAIiAAJAICQCIgACQCAkAiIAAkAgJAIiAAJAICQCIgACQCAkAiIAAkAgJAIiAAJAICQCIgACQC\\\n",
       "AkAiIAAkAgJAIiAAJAICQCIgACQCAkAiIAAkAgJAIiAAJAICQCIgACQCAkAiIAAkAgJAIiAAJAIC\\\n",
       "QCIgACQCAkAiIAAk67Ztx+PD0+wdpy73i+Xj7XP2jFP2jbFvjH1j7Buz7vt+XL/fzN5x6u75dnm5\\\n",
       "f50945R9Y+wbY98Y+8Y4YQGQCAgAiYAAkAgIAImAAJAICACJgACQCAgAiYAAkAgIAImAAJAICACJ\\\n",
       "gACQCAgAiYAAkAgIAImAAJAICACJgACQCAgAiYAAkAgIAImAAJAICACJgACQCAgAiYAAkAgIAImA\\\n",
       "AJAICACJgACQCAgAiYAAkAgIAImAAJAICACJgACQCAgAyf8AcExTT2XI2xIAAAAASUVORK5CYII=\\\n",
       "\"\n",
       "  frames[20] = \"data:image/png;base64,iVBORw0KGgoAAAANSUhEUgAAAZAAAAGQCAYAAACAvzbMAAAAOXRFWHRTb2Z0d2FyZQBNYXRwbG90\\\n",
       "bGliIHZlcnNpb24zLjQuMywgaHR0cHM6Ly9tYXRwbG90bGliLm9yZy/MnkTPAAAACXBIWXMAAAxO\\\n",
       "AAAMTgF/d4wjAAAIG0lEQVR4nO3YMWow1xmG0ZmfGCIxWAw4q0hnLUG4c6MdqFGbKn0IhNQqJdSo\\\n",
       "S6nG6byVrEHCheQiMFnBNM8trgLnrODl3uKBb/327dtxdXW1fFXrui7Hccyeccq+MfaNsW+MfWP+\\\n",
       "cHV1tVy/38zeceru+XZ5uX+dPeOUfWPsG2PfGPvGfJs9AID/TwICQCIgACQCAkAiIAAkAgJAIiAA\\\n",
       "JAICQCIgACQCAkAiIAAkAgJAIiAAJAICQCIgACQCAkAiIAAkAgJAIiAAJAICQCIgACQCAkAiIAAk\\\n",
       "AgJAIiAAJAICQCIgACQCAkAiIAAkAgJAIiAAJAICQCIgACQCAkAiIAAkAgJAIiAAJAICQLJu23Y8\\\n",
       "PjzN3nHqcr9YPt4+Z884Zd+Y7YeL5dt3v82eceq/v3//pd/vq/+vfWO++r513/fj+v1m9o5Td8+3\\\n",
       "y8v96+wZp+wb85dffl7+9Oe/zZ5x6j+//vNLv99X/1/7xnz1fU5YACQCAkAiIAAkAgJAIiAAJAIC\\\n",
       "QCIgACQCAkAiIAAkAgJAIiAAJAICQCIgACQCAkAiIAAkAgJAIiAAJAICQCIgACQCAkAiIAAkAgJA\\\n",
       "IiAAJAICQCIgACQCAkAiIAAkAgJAIiAAJAICQCIgACQCAkAiIAAkAgJAIiAAJAICQCIgACQCAkCy\\\n",
       "btt2PD48zd5xavvhYvnjd7/NnnHq4/fvl4+3z9kzTl3uF/YNsG+MfWO++r513/fj+v1m9o5Tf/3l\\\n",
       "5+WnH/8xe8apf/3778vL/evsGafunm/tG2DfGPvGfPV9TlgAJAICQCIgACQCAkAiIAAkAgJAIiAA\\\n",
       "JAICQCIgACQCAkAiIAAkAgJAIiAAJAICQCIgACQCAkAiIAAkAgJAIiAAJAICQCIgACQCAkAiIAAk\\\n",
       "AgJAIiAAJAICQCIgACQCAkAiIAAkAgJAIiAAJAICQCIgACQCAkAiIAAkAgJAIiAAJAICQLJu23Y8\\\n",
       "PjzN3nHqcr9YPt4+Z884Zd8Y+8bYN8a+Meu+78f1+83sHafunm+Xl/vX2TNO2TfGvjH2jbFvjBMW\\\n",
       "AImAAJAICACJgACQCAgAiYAAkAgIAImAAJAICACJgACQCAgAiYAAkAgIAImAAJAICACJgACQCAgA\\\n",
       "iYAAkAgIAImAAJAICACJgACQCAgAiYAAkAgIAImAAJAICACJgACQCAgAiYAAkAgIAImAAJAICACJ\\\n",
       "gACQCAgAiYAAkAgIAImAAJCs27Ydjw9Ps3ecutwvlo+3z9kzTtk3xr4x9o2xb8y67/tx/X4ze8ep\\\n",
       "u+fb5eX+dfaMU/aNsW+MfWPsG+OEBUAiIAAkAgJAIiAAJAICQCIgACQCAkAiIAAkAgJAIiAAJAIC\\\n",
       "QCIgACQCAkAiIAAkAgJAIiAAJAICQCIgACQCAkAiIAAkAgJAIiAAJAICQCIgACQCAkAiIAAkAgJA\\\n",
       "IiAAJAICQCIgACQCAkAiIAAkAgJAIiAAJAICQCIgACQCAkAiIAAk67Ztx+PD0+wdpy73i+Xj7XP2\\\n",
       "jFP2jbFvjH1j7Buz7vt+XL/fzN5x6u75dnm5f50945R9Y+wbY98Y+8Y4YQGQCAgAiYAAkAgIAImA\\\n",
       "AJAICACJgACQCAgAiYAAkAgIAImAAJAICACJgACQCAgAiYAAkAgIAImAAJAICACJgACQCAgAiYAA\\\n",
       "kAgIAImAAJAICACJgACQCAgAiYAAkAgIAImAAJAICACJgACQCAgAiYAAkAgIAImAAJAICACJgACQ\\\n",
       "CAgAybpt2/H48DR7x6nL/WL5ePucPeOUfWPsG2PfGPvGrPu+H9fvN7N3nLp7vl1e7l9nzzhl3xj7\\\n",
       "xtg3xr4xTlgAJAICQCIgACQCAkAiIAAkAgJAIiAAJAICQCIgACQCAkAiIAAkAgJAIiAAJAICQCIg\\\n",
       "ACQCAkAiIAAkAgJAIiAAJAICQCIgACQCAkAiIAAkAgJAIiAAJAICQCIgACQCAkAiIAAkAgJAIiAA\\\n",
       "JAICQCIgACQCAkAiIAAkAgJAIiAAJAICQLJu23Y8PjzN3nHqcr9YPt4+Z884Zd8Y+8bYN8a+Meu+\\\n",
       "78f1+83sHafunm+Xl/vX2TNO2TfGvjH2jbFvjBMWAImAAJAICACJgACQCAgAiYAAkAgIAImAAJAI\\\n",
       "CACJgACQCAgAiYAAkAgIAImAAJAICACJgACQCAgAiYAAkAgIAImAAJAICACJgACQCAgAiYAAkAgI\\\n",
       "AImAAJAICACJgACQCAgAiYAAkAgIAImAAJAICACJgACQCAgAiYAAkAgIAImAAJCs27Ydjw9Ps3ec\\\n",
       "utwvlo+3z9kzTtk3xr4x9o2xb8y67/tx/X4ze8epu+fb5eX+dfaMU/aNsW+MfWPsG+OEBUAiIAAk\\\n",
       "AgJAIiAAJAICQCIgACQCAkAiIAAkAgJAIiAAJAICQCIgACQCAkAiIAAkAgJAIiAAJAICQCIgACQC\\\n",
       "AkAiIAAkAgJAIiAAJAICQCIgACQCAkAiIAAkAgJAIiAAJAICQCIgACQCAkAiIAAkAgJAIiAAJAIC\\\n",
       "QCIgACQCAkAiIAAk67Ztx+PD0+wdpy73i+Xj7XP2jFP2jbFvjH1j7Buz7vt+XL/fzN5x6u75dnm5\\\n",
       "f50945R9Y+wbY98Y+8Y4YQGQCAgAiYAAkAgIAImAAJAICACJgACQCAgAiYAAkAgIAImAAJAICACJ\\\n",
       "gACQCAgAiYAAkAgIAImAAJAICACJgACQCAgAiYAAkAgIAImAAJAICACJgACQCAgAiYAAkAgIAImA\\\n",
       "AJAICACJgACQCAgAiYAAkAgIAImAAJAICACJgACQCAgAyf8AcExTT4Vo2bkAAAAASUVORK5CYII=\\\n",
       "\"\n",
       "  frames[21] = \"data:image/png;base64,iVBORw0KGgoAAAANSUhEUgAAAZAAAAGQCAYAAACAvzbMAAAAOXRFWHRTb2Z0d2FyZQBNYXRwbG90\\\n",
       "bGliIHZlcnNpb24zLjQuMywgaHR0cHM6Ly9tYXRwbG90bGliLm9yZy/MnkTPAAAACXBIWXMAAAxO\\\n",
       "AAAMTgF/d4wjAAAIG0lEQVR4nO3YMWow1xmG0ZmfGCIxWAw4q0hnLUG4c6MdqFGbKn0IhNQqJdSo\\\n",
       "S6nG6byVrEHCheQiMFnBNM8trgLnrODl3uKBb/327dtxdXW1fFXrui7Hccyeccq+MfaNsW+MfWP+\\\n",
       "cHV1tVy/38zeceru+XZ5uX+dPeOUfWPsG2PfGPvGfJs9AID/TwICQCIgACQCAkAiIAAkAgJAIiAA\\\n",
       "JAICQCIgACQCAkAiIAAkAgJAIiAAJAICQCIgACQCAkAiIAAkAgJAIiAAJAICQCIgACQCAkAiIAAk\\\n",
       "AgJAIiAAJAICQCIgACQCAkAiIAAkAgJAIiAAJAICQCIgACQCAkAiIAAkAgJAIiAAJAICQLJu23Y8\\\n",
       "PjzN3nHqcr9YPt4+Z8849dX3bT9cLN+++232jFP//f37L/1+X/1/7Rtj35h13/fj+v1m9o5Td8+3\\\n",
       "y8v96+wZp776vr/88vPypz//bfaMU//59Z9f+v2++v/aN8a+MU5YACQCAkAiIAAkAgJAIiAAJAIC\\\n",
       "QCIgACQCAkAiIAAkAgJAIiAAJAICQCIgACQCAkAiIAAkAgJAIiAAJAICQCIgACQCAkAiIAAkAgJA\\\n",
       "IiAAJAICQCIgACQCAkAiIAAkAgJAIiAAJAICQCIgACQCAkAiIAAkAgJAIiAAJAICQCIgACQCAkCy\\\n",
       "btt2PD48zd5xavvhYvnjd7/NnnHq4/fvl4+3z9kzTl3uF/YNsG+MfWO++r513/fj+v1m9o5Tf/3l\\\n",
       "5+WnH/8xe8apf/3778vL/evsGafunm/tG2DfGPvGfPV9TlgAJAICQCIgACQCAkAiIAAkAgJAIiAA\\\n",
       "JAICQCIgACQCAkAiIAAkAgJAIiAAJAICQCIgACQCAkAiIAAkAgJAIiAAJAICQCIgACQCAkAiIAAk\\\n",
       "AgJAIiAAJAICQCIgACQCAkAiIAAkAgJAIiAAJAICQCIgACQCAkAiIAAkAgJAIiAAJAICQLJu23Y8\\\n",
       "PjzN3nHqcr9YPt4+Z884Zd8Y+8bYN8a+Meu+78f1+83sHafunm+Xl/vX2TNO2TfGvjH2jbFvjBMW\\\n",
       "AImAAJAICACJgACQCAgAiYAAkAgIAImAAJAICACJgACQCAgAiYAAkAgIAImAAJAICACJgACQCAgA\\\n",
       "iYAAkAgIAImAAJAICACJgACQCAgAiYAAkAgIAImAAJAICACJgACQCAgAiYAAkAgIAImAAJAICACJ\\\n",
       "gACQCAgAiYAAkAgIAImAAJCs27Ydjw9Ps3ecutwvlo+3z9kzTtk3xr4x9o2xb8y67/tx/X4ze8ep\\\n",
       "u+fb5eX+dfaMU/aNsW+MfWPsG+OEBUAiIAAkAgJAIiAAJAICQCIgACQCAkAiIAAkAgJAIiAAJAIC\\\n",
       "QCIgACQCAkAiIAAkAgJAIiAAJAICQCIgACQCAkAiIAAkAgJAIiAAJAICQCIgACQCAkAiIAAkAgJA\\\n",
       "IiAAJAICQCIgACQCAkAiIAAkAgJAIiAAJAICQCIgACQCAkAiIAAk67Ztx+PD0+wdpy73i+Xj7XP2\\\n",
       "jFP2jbFvjH1j7Buz7vt+XL/fzN5x6u75dnm5f50945R9Y+wbY98Y+8Y4YQGQCAgAiYAAkAgIAImA\\\n",
       "AJAICACJgACQCAgAiYAAkAgIAImAAJAICACJgACQCAgAiYAAkAgIAImAAJAICACJgACQCAgAiYAA\\\n",
       "kAgIAImAAJAICACJgACQCAgAiYAAkAgIAImAAJAICACJgACQCAgAiYAAkAgIAImAAJAICACJgACQ\\\n",
       "CAgAybpt2/H48DR7x6nL/WL5ePucPeOUfWPsG2PfGPvGrPu+H9fvN7N3nLp7vl1e7l9nzzhl3xj7\\\n",
       "xtg3xr4xTlgAJAICQCIgACQCAkAiIAAkAgJAIiAAJAICQCIgACQCAkAiIAAkAgJAIiAAJAICQCIg\\\n",
       "ACQCAkAiIAAkAgJAIiAAJAICQCIgACQCAkAiIAAkAgJAIiAAJAICQCIgACQCAkAiIAAkAgJAIiAA\\\n",
       "JAICQCIgACQCAkAiIAAkAgJAIiAAJAICQLJu23Y8PjzN3nHqcr9YPt4+Z884Zd8Y+8bYN8a+Meu+\\\n",
       "78f1+83sHafunm+Xl/vX2TNO2TfGvjH2jbFvjBMWAImAAJAICACJgACQCAgAiYAAkAgIAImAAJAI\\\n",
       "CACJgACQCAgAiYAAkAgIAImAAJAICACJgACQCAgAiYAAkAgIAImAAJAICACJgACQCAgAiYAAkAgI\\\n",
       "AImAAJAICACJgACQCAgAiYAAkAgIAImAAJAICACJgACQCAgAiYAAkAgIAImAAJCs27Ydjw9Ps3ec\\\n",
       "utwvlo+3z9kzTtk3xr4x9o2xb8y67/tx/X4ze8epu+fb5eX+dfaMU/aNsW+MfWPsG+OEBUAiIAAk\\\n",
       "AgJAIiAAJAICQCIgACQCAkAiIAAkAgJAIiAAJAICQCIgACQCAkAiIAAkAgJAIiAAJAICQCIgACQC\\\n",
       "AkAiIAAkAgJAIiAAJAICQCIgACQCAkAiIAAkAgJAIiAAJAICQCIgACQCAkAiIAAkAgJAIiAAJAIC\\\n",
       "QCIgACQCAkAiIAAk67Ztx+PD0+wdpy73i+Xj7XP2jFP2jbFvjH1j7Buz7vt+XL/fzN5x6u75dnm5\\\n",
       "f50945R9Y+wbY98Y+8Y4YQGQCAgAiYAAkAgIAImAAJAICACJgACQCAgAiYAAkAgIAImAAJAICACJ\\\n",
       "gACQCAgAiYAAkAgIAImAAJAICACJgACQCAgAiYAAkAgIAImAAJAICACJgACQCAgAiYAAkAgIAImA\\\n",
       "AJAICACJgACQCAgAiYAAkAgIAImAAJAICACJgACQCAgAyf8AcExTT+3IhS8AAAAASUVORK5CYII=\\\n",
       "\"\n",
       "  frames[22] = \"data:image/png;base64,iVBORw0KGgoAAAANSUhEUgAAAZAAAAGQCAYAAACAvzbMAAAAOXRFWHRTb2Z0d2FyZQBNYXRwbG90\\\n",
       "bGliIHZlcnNpb24zLjQuMywgaHR0cHM6Ly9tYXRwbG90bGliLm9yZy/MnkTPAAAACXBIWXMAAAxO\\\n",
       "AAAMTgF/d4wjAAAIG0lEQVR4nO3YMWow1xmG0ZmfGCIxWAw4q0hnLUG4c6MdqFGbKn0IhNQqJdSo\\\n",
       "S6nG6byVrEHCheQiMFnBNM8trgLnrODl3uKBb/327dtxdXW1fFXrui7Hccyeccq+MfaNsW+MfWP+\\\n",
       "cHV1tVy/38zeceru+XZ5uX+dPeOUfWPsG2PfGPvGfJs9AID/TwICQCIgACQCAkAiIAAkAgJAIiAA\\\n",
       "JAICQCIgACQCAkAiIAAkAgJAIiAAJAICQCIgACQCAkAiIAAkAgJAIiAAJAICQCIgACQCAkAiIAAk\\\n",
       "AgJAIiAAJAICQCIgACQCAkAiIAAkAgJAIiAAJAICQCIgACQCAkAiIAAkAgJAIiAAJAICQLJu23Y8\\\n",
       "PjzN3nHqcr9YPt4+Z884tf1wsXz77rfZM0799/fvv/T7ffX/tW+MfWO++r513/fj+v1m9o5Td8+3\\\n",
       "y8v96+wZp/7yy8/Ln/78t9kzTv3n139+6ff76v9r3xj7xnz1fU5YACQCAkAiIAAkAgJAIiAAJAIC\\\n",
       "QCIgACQCAkAiIAAkAgJAIiAAJAICQCIgACQCAkAiIAAkAgJAIiAAJAICQCIgACQCAkAiIAAkAgJA\\\n",
       "IiAAJAICQCIgACQCAkAiIAAkAgJAIiAAJAICQCIgACQCAkAiIAAkAgJAIiAAJAICQCIgACQCAkCy\\\n",
       "btt2PD48zd5xavvhYvnjd7/NnnHq4/fvl4+3z9kzTl3uF/YNsG+MfWO++r513/fj+v1m9o5Tf/3l\\\n",
       "5+WnH/8xe8apf/3778vL/evsGafunm/tG2DfGPvGfPV9TlgAJAICQCIgACQCAkAiIAAkAgJAIiAA\\\n",
       "JAICQCIgACQCAkAiIAAkAgJAIiAAJAICQCIgACQCAkAiIAAkAgJAIiAAJAICQCIgACQCAkAiIAAk\\\n",
       "AgJAIiAAJAICQCIgACQCAkAiIAAkAgJAIiAAJAICQCIgACQCAkAiIAAkAgJAIiAAJAICQLJu23Y8\\\n",
       "PjzN3nHqcr9YPt4+Z884Zd8Y+8bYN8a+Meu+78f1+83sHafunm+Xl/vX2TNO2TfGvjH2jbFvjBMW\\\n",
       "AImAAJAICACJgACQCAgAiYAAkAgIAImAAJAICACJgACQCAgAiYAAkAgIAImAAJAICACJgACQCAgA\\\n",
       "iYAAkAgIAImAAJAICACJgACQCAgAiYAAkAgIAImAAJAICACJgACQCAgAiYAAkAgIAImAAJAICACJ\\\n",
       "gACQCAgAiYAAkAgIAImAAJCs27Ydjw9Ps3ecutwvlo+3z9kzTtk3xr4x9o2xb8y67/tx/X4ze8ep\\\n",
       "u+fb5eX+dfaMU/aNsW+MfWPsG+OEBUAiIAAkAgJAIiAAJAICQCIgACQCAkAiIAAkAgJAIiAAJAIC\\\n",
       "QCIgACQCAkAiIAAkAgJAIiAAJAICQCIgACQCAkAiIAAkAgJAIiAAJAICQCIgACQCAkAiIAAkAgJA\\\n",
       "IiAAJAICQCIgACQCAkAiIAAkAgJAIiAAJAICQCIgACQCAkAiIAAk67Ztx+PD0+wdpy73i+Xj7XP2\\\n",
       "jFP2jbFvjH1j7Buz7vt+XL/fzN5x6u75dnm5f50945R9Y+wbY98Y+8Y4YQGQCAgAiYAAkAgIAImA\\\n",
       "AJAICACJgACQCAgAiYAAkAgIAImAAJAICACJgACQCAgAiYAAkAgIAImAAJAICACJgACQCAgAiYAA\\\n",
       "kAgIAImAAJAICACJgACQCAgAiYAAkAgIAImAAJAICACJgACQCAgAiYAAkAgIAImAAJAICACJgACQ\\\n",
       "CAgAybpt2/H48DR7x6nL/WL5ePucPeOUfWPsG2PfGPvGrPu+H9fvN7N3nLp7vl1e7l9nzzhl3xj7\\\n",
       "xtg3xr4xTlgAJAICQCIgACQCAkAiIAAkAgJAIiAAJAICQCIgACQCAkAiIAAkAgJAIiAAJAICQCIg\\\n",
       "ACQCAkAiIAAkAgJAIiAAJAICQCIgACQCAkAiIAAkAgJAIiAAJAICQCIgACQCAkAiIAAkAgJAIiAA\\\n",
       "JAICQCIgACQCAkAiIAAkAgJAIiAAJAICQLJu23Y8PjzN3nHqcr9YPt4+Z884Zd8Y+8bYN8a+Meu+\\\n",
       "78f1+83sHafunm+Xl/vX2TNO2TfGvjH2jbFvjBMWAImAAJAICACJgACQCAgAiYAAkAgIAImAAJAI\\\n",
       "CACJgACQCAgAiYAAkAgIAImAAJAICACJgACQCAgAiYAAkAgIAImAAJAICACJgACQCAgAiYAAkAgI\\\n",
       "AImAAJAICACJgACQCAgAiYAAkAgIAImAAJAICACJgACQCAgAiYAAkAgIAImAAJCs27Ydjw9Ps3ec\\\n",
       "utwvlo+3z9kzTtk3xr4x9o2xb8y67/tx/X4ze8epu+fb5eX+dfaMU/aNsW+MfWPsG+OEBUAiIAAk\\\n",
       "AgJAIiAAJAICQCIgACQCAkAiIAAkAgJAIiAAJAICQCIgACQCAkAiIAAkAgJAIiAAJAICQCIgACQC\\\n",
       "AkAiIAAkAgJAIiAAJAICQCIgACQCAkAiIAAkAgJAIiAAJAICQCIgACQCAkAiIAAkAgJAIiAAJAIC\\\n",
       "QCIgACQCAkAiIAAk67Ztx+PD0+wdpy73i+Xj7XP2jFP2jbFvjH1j7Buz7vt+XL/fzN5x6u75dnm5\\\n",
       "f50945R9Y+wbY98Y+8Y4YQGQCAgAiYAAkAgIAImAAJAICACJgACQCAgAiYAAkAgIAImAAJAICACJ\\\n",
       "gACQCAgAiYAAkAgIAImAAJAICACJgACQCAgAiYAAkAgIAImAAJAICACJgACQCAgAiYAAkAgIAImA\\\n",
       "AJAICACJgACQCAgAiYAAkAgIAImAAJAICACJgACQCAgAyf8AcExTT04Ky7wAAAAASUVORK5CYII=\\\n",
       "\"\n",
       "  frames[23] = \"data:image/png;base64,iVBORw0KGgoAAAANSUhEUgAAAZAAAAGQCAYAAACAvzbMAAAAOXRFWHRTb2Z0d2FyZQBNYXRwbG90\\\n",
       "bGliIHZlcnNpb24zLjQuMywgaHR0cHM6Ly9tYXRwbG90bGliLm9yZy/MnkTPAAAACXBIWXMAAAxO\\\n",
       "AAAMTgF/d4wjAAAIEElEQVR4nO3YMWp2aQGG4XN+HPALhwkHdBV2ZgnBbprsIE1aK3sRxDplQpp0\\\n",
       "lmnGzq24hoQpkimE4wpOc7/F+wvXtYKnu+FZv337dlxfXy/fq3Vdl+M4Zs84Zd8Y+8bYN8a+Mb+5\\\n",
       "vr5ebj5uZ+84df9yt7w+vM2eccq+MfaNsW+MfWO+zR4AwP8nAQEgERAAEgEBIBEQABIBASAREAAS\\\n",
       "AQEgERAAEgEBIBEQABIBASAREAASAQEgERAAEgEBIBEQABIBASAREAASAQEgERAAEgEBIBEQABIB\\\n",
       "ASAREAASAQEgERAAEgEBIBEQABIBASAREAASAQEgERAAEgEBIBEQABIBASAREAASAQEgWbdtO54e\\\n",
       "n2fvOLX97rJ8++GX2TNO/ffXH5fP96/ZM05d7Rf7Btg3xr4x3/u+dd/34+bjdvaOU3/++afl93/4\\\n",
       "6+wZp/7z738srw9vs2ecun+5s2+AfWPsG/O973NhAZAICACJgACQCAgAiYAAkAgIAImAAJAICACJ\\\n",
       "gACQCAgAiYAAkAgIAImAAJAICACJgACQCAgAiYAAkAgIAImAAJAICACJgACQCAgAiYAAkAgIAImA\\\n",
       "AJAICACJgACQCAgAiYAAkAgIAImAAJAICACJgACQCAgAiYAAkAgIAImAAJAICADJum3b8fT4PHvH\\\n",
       "qe13l+W3P/wye8apz19/XD7fv2bPOHW1X+wbYN8Y+8Z87/vWfd+Pm4/b2TtO/eXnn5Y//fHvs2ec\\\n",
       "+ue//ra8PrzNnnHq/uXOvgH2jbFvzPe+z4UFQCIgACQCAkAiIAAkAgJAIiAAJAICQCIgACQCAkAi\\\n",
       "IAAkAgJAIiAAJAICQCIgACQCAkAiIAAkAgJAIiAAJAICQCIgACQCAkAiIAAkAgJAIiAAJAICQCIg\\\n",
       "ACQCAkAiIAAkAgJAIiAAJAICQCIgACQCAkAiIAAkAgJAIiAAJAICQCIgACTrtm3H0+Pz7B2nrvbL\\\n",
       "8vn+NXvGKfvG2DfGvjH2jVn3fT9uPm5n7zh1/3K3vD68zZ5xyr4x9o2xb4x9Y1xYACQCAkAiIAAk\\\n",
       "AgJAIiAAJAICQCIgACQCAkAiIAAkAgJAIiAAJAICQCIgACQCAkAiIAAkAgJAIiAAJAICQCIgACQC\\\n",
       "AkAiIAAkAgJAIiAAJAICQCIgACQCAkAiIAAkAgJAIiAAJAICQCIgACQCAkAiIAAkAgJAIiAAJAIC\\\n",
       "QCIgACQCAkCybtt2PD0+z95x6mq/LJ/vX7NnnLJvjH1j7Btj35h13/fj5uN29o5T9y93y+vD2+wZ\\\n",
       "p+wbY98Y+8bYN8aFBUAiIAAkAgJAIiAAJAICQCIgACQCAkAiIAAkAgJAIiAAJAICQCIgACQCAkAi\\\n",
       "IAAkAgJAIiAAJAICQCIgACQCAkAiIAAkAgJAIiAAJAICQCIgACQCAkAiIAAkAgJAIiAAJAICQCIg\\\n",
       "ACQCAkAiIAAkAgJAIiAAJAICQCIgACQCAkAiIAAk67Ztx9Pj8+wdp672y/L5/jV7xin7xtg3xr4x\\\n",
       "9o1Z930/bj5uZ+84df9yt7w+vM2eccq+MfaNsW+MfWNcWAAkAgJAIiAAJAICQCIgACQCAkAiIAAk\\\n",
       "AgJAIiAAJAICQCIgACQCAkAiIAAkAgJAIiAAJAICQCIgACQCAkAiIAAkAgJAIiAAJAICQCIgACQC\\\n",
       "AkAiIAAkAgJAIiAAJAICQCIgACQCAkAiIAAkAgJAIiAAJAICQCIgACQCAkAiIAAkAgJAsm7bdjw9\\\n",
       "Ps/ecepqvyyf71+zZ5yyb4x9Y+wbY9+Ydd/34+bjdvaOU/cvd8vrw9vsGafsG2PfGPvG2DfGhQVA\\\n",
       "IiAAJAICQCIgACQCAkAiIAAkAgJAIiAAJAICQCIgACQCAkAiIAAkAgJAIiAAJAICQCIgACQCAkAi\\\n",
       "IAAkAgJAIiAAJAICQCIgACQCAkAiIAAkAgJAIiAAJAICQCIgACQCAkAiIAAkAgJAIiAAJAICQCIg\\\n",
       "ACQCAkAiIAAkAgJAIiAAJOu2bcfT4/PsHaeu9svy+f41e8Yp+8bYN8a+MfaNWfd9P24+bmfvOHX/\\\n",
       "cre8PrzNnnHKvjH2jbFvjH1jXFgAJAICQCIgACQCAkAiIAAkAgJAIiAAJAICQCIgACQCAkAiIAAk\\\n",
       "AgJAIiAAJAICQCIgACQCAkAiIAAkAgJAIiAAJAICQCIgACQCAkAiIAAkAgJAIiAAJAICQCIgACQC\\\n",
       "AkAiIAAkAgJAIiAAJAICQCIgACQCAkAiIAAkAgJAIiAAJAICQLJu23Y8PT7P3nHqar8sn+9fs2ec\\\n",
       "sm+MfWPsG2PfmHXf9+Pm43b2jlP3L3fL68Pb7Bmn7Btj3xj7xtg3xoUFQCIgACQCAkAiIAAkAgJA\\\n",
       "IiAAJAICQCIgACQCAkAiIAAkAgJAIiAAJAICQCIgACQCAkAiIAAkAgJAIiAAJAICQCIgACQCAkAi\\\n",
       "IAAkAgJAIiAAJAICQCIgACQCAkAiIAAkAgJAIiAAJAICQCIgACQCAkAiIAAkAgJAIiAAJAICQCIg\\\n",
       "ACTrtm3H0+Pz7B2nrvbL8vn+NXvGKfvG2DfGvjH2jVn3fT9uPm5n7zh1/3K3vD68zZ5xyr4x9o2x\\\n",
       "b4x9Y1xYACQCAkAiIAAkAgJAIiAAJAICQCIgACQCAkAiIAAkAgJAIiAAJAICQCIgACQCAkAiIAAk\\\n",
       "AgJAIiAAJAICQCIgACQCAkAiIAAkAgJAIiAAJAICQCIgACQCAkAiIAAkAgJAIiAAJAICQCIgACQC\\\n",
       "AkAiIAAkAgJAIiAAJAICQCIgACQCAkDyP3BMU089QGutAAAAAElFTkSuQmCC\\\n",
       "\"\n",
       "  frames[24] = \"data:image/png;base64,iVBORw0KGgoAAAANSUhEUgAAAZAAAAGQCAYAAACAvzbMAAAAOXRFWHRTb2Z0d2FyZQBNYXRwbG90\\\n",
       "bGliIHZlcnNpb24zLjQuMywgaHR0cHM6Ly9tYXRwbG90bGliLm9yZy/MnkTPAAAACXBIWXMAAAxO\\\n",
       "AAAMTgF/d4wjAAAH/UlEQVR4nO3YMWo2awGG4ZkfBROGPwzHlZglBDub7CBNduAGBLFOYZGQJtUR\\\n",
       "q685dm7BJbiGBIvkFMK4gmnut3iPcF0reLobnvXbt2/Hzc3N8ku1rutyHMfsGafsG2PfGPvG2Dfm\\\n",
       "Vzc3N8vtx93sHaceXu+Xt8fL7Bmn7Btj3xj7xtg35tvsAQD8fxIQABIBASAREAASAQEgERAAEgEB\\\n",
       "IBEQABIBASAREAASAQEgERAAEgEBIBEQABIBASAREAASAQEgERAAEgEBIBEQABIBASAREAASAQEg\\\n",
       "ERAAEgEBIBEQABIBASAREAASAQEgERAAEgEBIBEQABIBASAREAASAQEgERAAEgEBIBEQAJJ127bj\\\n",
       "x7//dfaOU//9+fvy+f41e8ap6/3KvgH2jbFvjH1j1h9+2I+f/vV99o5T//7nX5a3x8vsGaceXu/t\\\n",
       "G2DfGPvG2DfGhQVAIiAAJAICQCIgACQCAkAiIAAkAgJAIiAAJAICQCIgACQCAkAiIAAkAgJAIiAA\\\n",
       "JAICQCIgACQCAkAiIAAkAgJAIiAAJAICQCIgACQCAkAiIAAkAgJAIiAAJAICQCIgACQCAkAiIAAk\\\n",
       "AgJAIiAAJAICQCIgACQCAkAiIAAkAgJAIiAAJOu2bcfz08vsHae2314tv/n1f2bPOPX58/fl8/1r\\\n",
       "9oxT1/uVfQPsG2PfmF/6vnXf9+P24272jlN//OkPy+9/9+fZM0797R9/Wt4eL7NnnHp4vbdvgH1j\\\n",
       "7BvzS9/nwgIgERAAEgEBIBEQABIBASAREAASAQEgERAAEgEBIBEQABIBASAREAASAQEgERAAEgEB\\\n",
       "IBEQABIBASAREAASAQEgERAAEgEBIBEQABIBASAREAASAQEgERAAEgEBIBEQABIBASAREAASAQEg\\\n",
       "ERAAEgEBIBEQABIBASAREAASAQEgERAAknXbtuP56WX2jlPX+9Xy+f41e8Yp+8bYN8a+MfaNWfd9\\\n",
       "P24/7mbvOPXwer+8PV5mzzhl3xj7xtg3xr4xLiwAEgEBIBEQABIBASAREAASAQEgERAAEgEBIBEQ\\\n",
       "ABIBASAREAASAQEgERAAEgEBIBEQABIBASAREAASAQEgERAAEgEBIBEQABIBASAREAASAQEgERAA\\\n",
       "EgEBIBEQABIBASAREAASAQEgERAAEgEBIBEQABIBASAREAASAQEgERAAEgEBIFm3bTuen15m7zh1\\\n",
       "vV8tn+9fs2ecsm+MfWPsG2PfmHXf9+P24272jlMPr/fL2+Nl9oxT9o2xb4x9Y+wb48ICIBEQABIB\\\n",
       "ASAREAASAQEgERAAEgEBIBEQABIBASAREAASAQEgERAAEgEBIBEQABIBASAREAASAQEgERAAEgEB\\\n",
       "IBEQABIBASAREAASAQEgERAAEgEBIBEQABIBASAREAASAQEgERAAEgEBIBEQABIBASAREAASAQEg\\\n",
       "ERAAEgEBIBEQAJJ127bj+ell9o5T1/vV8vn+NXvGKfvG2DfGvjH2jVn3fT9uP+5m7zj18Hq/vD1e\\\n",
       "Zs84Zd8Y+8bYN8a+MS4sABIBASAREAASAQEgERAAEgEBIBEQABIBASAREAASAQEgERAAEgEBIBEQ\\\n",
       "ABIBASAREAASAQEgERAAEgEBIBEQABIBASAREAASAQEgERAAEgEBIBEQABIBASAREAASAQEgERAA\\\n",
       "EgEBIBEQABIBASAREAASAQEgERAAEgEBIBEQABIBASBZt207np9eZu84db1fLZ/vX7NnnLJvjH1j\\\n",
       "7Btj35h13/fj9uNu9o5TD6/3y9vjZfaMU/aNsW+MfWPsG+PCAiAREAASAQEgERAAEgEBIBEQABIB\\\n",
       "ASAREAASAQEgERAAEgEBIBEQABIBASAREAASAQEgERAAEgEBIBEQABIBASAREAASAQEgERAAEgEB\\\n",
       "IBEQABIBASAREAASAQEgERAAEgEBIBEQABIBASAREAASAQEgERAAEgEBIBEQABIBASAREACSddu2\\\n",
       "4/npZfaOU9f71fL5/jV7xin7xtg3xr4x9o1Z930/bj/uZu849fB6v7w9XmbPOGXfGPvG2DfGvjEu\\\n",
       "LAASAQEgERAAEgEBIBEQABIBASAREAASAQEgERAAEgEBIBEQABIBASAREAASAQEgERAAEgEBIBEQ\\\n",
       "ABIBASAREAASAQEgERAAEgEBIBEQABIBASAREAASAQEgERAAEgEBIBEQABIBASAREAASAQEgERAA\\\n",
       "EgEBIBEQABIBASAREAASAQEgWbdtO56fXmbvOHW9Xy2f71+zZ5yyb4x9Y+wbY9+Ydd/34/bjbvaO\\\n",
       "Uw+v98vb42X2jFP2jbFvjH1j7BvjwgIgERAAEgEBIBEQABIBASAREAASAQEgERAAEgEBIBEQABIB\\\n",
       "ASAREAASAQEgERAAEgEBIBEQABIBASAREAASAQEgERAAEgEBIBEQABIBASAREAASAQEgERAAEgEB\\\n",
       "IBEQABIBASAREAASAQEgERAAEgEBIBEQABIBASAREAASAQEgERAAknXbtuP56WX2jlPX+9Xy+f41\\\n",
       "e8Yp+8bYN8a+MfaNWfd9P24/7mbvOPXwer+8PV5mzzhl3xj7xtg3xr4xLiwAEgEBIBEQABIBASAR\\\n",
       "EAASAQEgERAAEgEBIBEQABIBASAREAASAQEgERAAEgEBIBEQABIBASAREAASAQEgERAAEgEBIBEQ\\\n",
       "ABIBASAREAASAQEgERAAEgEBIBEQABIBASAREAASAQEgERAAEgEBIBEQABIBASAREAASAQEgERAA\\\n",
       "EgEBIPkf4jNWT7qFzgcAAAAASUVORK5CYII=\\\n",
       "\"\n",
       "  frames[25] = \"data:image/png;base64,iVBORw0KGgoAAAANSUhEUgAAAZAAAAGQCAYAAACAvzbMAAAAOXRFWHRTb2Z0d2FyZQBNYXRwbG90\\\n",
       "bGliIHZlcnNpb24zLjQuMywgaHR0cHM6Ly9tYXRwbG90bGliLm9yZy/MnkTPAAAACXBIWXMAAAxO\\\n",
       "AAAMTgF/d4wjAAAH9klEQVR4nO3YsWk22QGG0ZkfG1ZiWDHsVmKVIFyAOvgSdeHEsAUocCChRJkx\\\n",
       "GBQ5cg+O3IQjCQfSgoPZCiZ5bnB/wzkVvNkD7/rt27fj5uZm+V6t67ocxzF7xin7xtg3xr4x9o35\\\n",
       "3c3NzXL7cTd7x6nLy/3y+vA2e8Yp+8bYN8a+MfaN+TZ7AAD/nwQEgERAAEgEBIBEQABIBASAREAA\\\n",
       "SAQEgERAAEgEBIBEQABIBASAREAASAQEgERAAEgEBIBEQABIBASAREAASAQEgERAAEgEBIBEQABI\\\n",
       "BASAREAASAQEgERAAEgEBIBEQABIBASAREAASAQEgERAAEgEBIBEQABIBASAREAASAQEgGTdtu14\\\n",
       "enyevePU9X61fL5/zZ5xyr4x9o2xb4x9Y9Z934/bj7vZO05dXu6X14e32TNO2TfGvjH2jbFvjAsL\\\n",
       "gERAAEgEBIBEQABIBASAREAASAQEgERAAEgEBIBEQABIBASAREAASAQEgERAAEgEBIBEQABIBASA\\\n",
       "REAASAQEgERAAEgEBIBEQABIBASAREAASAQEgERAAEgEBIBEQABIBASAREAASAQEgERAAEgEBIBE\\\n",
       "QABIBASAREAASAQEgERAAEjWbduOv//tL7N3nPr1fz8uP/z+v7NnnPr89cfl8/1r9oxT1/uVfQPs\\\n",
       "G2PfmO993/rzT/vxn3//NHvHqX/+60/LH//wy+wZp/76jz8vrw9vs2ecurzc2zfAvjH2jfne97mw\\\n",
       "AEgEBIBEQABIBASAREAASAQEgERAAEgEBIBEQABIBASAREAASAQEgERAAEgEBIBEQABIBASAREAA\\\n",
       "SAQEgERAAEgEBIBEQABIBASAREAASAQEgERAAEgEBIBEQABIBASAREAASAQEgERAAEgEBIBEQABI\\\n",
       "BASAREAASAQEgERAAEgEBIBk3bbteHp8nr3j1PV+tXy+f82eccq+MfaNsW+MfWPWfd+P24+72TtO\\\n",
       "XV7ul9eHt9kzTtk3xr4x9o2xb4wLC4BEQABIBASAREAASAQEgERAAEgEBIBEQABIBASAREAASAQE\\\n",
       "gERAAEgEBIBEQABIBASAREAASAQEgERAAEgEBIBEQABIBASAREAASAQEgERAAEgEBIBEQABIBASA\\\n",
       "REAASAQEgERAAEgEBIBEQABIBASAREAASAQEgERAAEgEBIBEQABI1m3bjqfH59k7Tl3vV8vn+9fs\\\n",
       "GafsG2PfGPvG2Ddm3ff9uP24m73j1OXlfnl9eJs945R9Y+wbY98Y+8a4sABIBASAREAASAQEgERA\\\n",
       "AEgEBIBEQABIBASAREAASAQEgERAAEgEBIBEQABIBASAREAASAQEgERAAEgEBIBEQABIBASAREAA\\\n",
       "SAQEgERAAEgEBIBEQABIBASAREAASAQEgERAAEgEBIBEQABIBASAREAASAQEgERAAEgEBIBEQABI\\\n",
       "BASAZN227Xh6fJ6949T1frV8vn/NnnHKvjH2jbFvjH1j1n3fj9uPu9k7Tl1e7pfXh7fZM07ZN8a+\\\n",
       "MfaNsW+MCwuAREAASAQEgERAAEgEBIBEQABIBASAREAASAQEgERAAEgEBIBEQABIBASAREAASAQE\\\n",
       "gERAAEgEBIBEQABIBASAREAASAQEgERAAEgEBIBEQABIBASAREAASAQEgERAAEgEBIBEQABIBASA\\\n",
       "REAASAQEgERAAEgEBIBEQABIBASAREAASNZt246nx+fZO05d71fL5/vX7Bmn7Btj3xj7xtg3Zt33\\\n",
       "/bj9uJu949Tl5X55fXibPeOUfWPsG2PfGPvGuLAASAQEgERAAEgEBIBEQABIBASAREAASAQEgERA\\\n",
       "AEgEBIBEQABIBASAREAASAQEgERAAEgEBIBEQABIBASAREAASAQEgERAAEgEBIBEQABIBASAREAA\\\n",
       "SAQEgERAAEgEBIBEQABIBASAREAASAQEgERAAEgEBIBEQABIBASAREAASAQEgGTdtu14enyevePU\\\n",
       "9X61fL5/zZ5xyr4x9o2xb4x9Y9Z934/bj7vZO05dXu6X14e32TNO2TfGvjH2jbFvjAsLgERAAEgE\\\n",
       "BIBEQABIBASAREAASAQEgERAAEgEBIBEQABIBASAREAASAQEgERAAEgEBIBEQABIBASAREAASAQE\\\n",
       "gERAAEgEBIBEQABIBASAREAASAQEgERAAEgEBIBEQABIBASAREAASAQEgERAAEgEBIBEQABIBASA\\\n",
       "REAASAQEgERAAEjWbduOp8fn2TtOXe9Xy+f71+wZp+wbY98Y+8bYN2bd9/24/bibvePU5eV+eX14\\\n",
       "mz3jlH1j7Btj3xj7xriwAEgEBIBEQABIBASAREAASAQEgERAAEgEBIBEQABIBASAREAASAQEgERA\\\n",
       "AEgEBIBEQABIBASAREAASAQEgERAAEgEBIBEQABIBASAREAASAQEgERAAEgEBIBEQABIBASAREAA\\\n",
       "SAQEgERAAEgEBIBEQABIBASAREAASAQEgERAAEgEBIBk3bbteHp8nr3j1PV+tXy+f82eccq+MfaN\\\n",
       "sW+MfWPWfd+P24+72TtOXV7ul9eHt9kzTtk3xr4x9o2xb4wLC4BEQABIBASAREAASAQEgERAAEgE\\\n",
       "BIBEQABIBASAREAASAQEgERAAEgEBIBEQABIBASAREAASAQEgERAAEgEBIBEQABIBASAREAASAQE\\\n",
       "gERAAEgEBIBEQABIBASAREAASAQEgERAAEgEBIBEQABIBASAREAASAQEgERAAEgEBIBEQABIfgNq\\\n",
       "JVZPS8/a3gAAAABJRU5ErkJggg==\\\n",
       "\"\n",
       "  frames[26] = \"data:image/png;base64,iVBORw0KGgoAAAANSUhEUgAAAZAAAAGQCAYAAACAvzbMAAAAOXRFWHRTb2Z0d2FyZQBNYXRwbG90\\\n",
       "bGliIHZlcnNpb24zLjQuMywgaHR0cHM6Ly9tYXRwbG90bGliLm9yZy/MnkTPAAAACXBIWXMAAAxO\\\n",
       "AAAMTgF/d4wjAAAH6ElEQVR4nO3YsWk12wGF0RlheEgeEAMGF6ISZJwLNyAwtx+FEjdRB8KRwW28\\\n",
       "QqRIeuBgXMEk3wnOb1irgp19sNebm5vj/v5++VWt67ocxzF7xin7xtg3xr4x9o350/39/fLw9Th7\\\n",
       "x6nn69PyfvmYPeOUfWPsG2PfGPvG3MweAMD/JwEBIBEQABIBASAREAASAQEgERAAEgEBIBEQABIB\\\n",
       "ASAREAASAQEgERAAEgEBIBEQABIBASAREAASAQEgERAAEgEBIBEQABIBASAREAASAQEgERAAEgEB\\\n",
       "IBEQABIBASAREAASAQEgERAAEgEBIBEQABIBASAREAASAQEgERAAEgEBIFm3bTteX95m7zh1t98u\\\n",
       "358/s2ecsm+MfWPsG2PfmHXf9+Ph63H2jlPP16fl/fIxe8Yp+8bYN8a+MfaNcWEBkAgIAImAAJAI\\\n",
       "CACJgACQCAgAiYAAkAgIAImAAJAICACJgACQCAgAiYAAkAgIAImAAJAICACJgACQCAgAiYAAkAgI\\\n",
       "AImAAJAICACJgACQCAgAiYAAkAgIAImAAJAICACJgACQCAgAiYAAkAgIAImAAJAICACJgACQCAgA\\\n",
       "iYAAkAgIAMm6bdvx+vI2e8epP//lbvnj5o/ZM0799t/flu/Pn9kzTt3tt/YNsG+MfWN+9X3rvu/H\\\n",
       "w9fj7B2n/vmvfyz//ut/Zs849fff/7a8Xz5mzzj1fH2yb4B9Y+wb86vvc2EBkAgIAImAAJAICACJ\\\n",
       "gACQCAgAiYAAkAgIAImAAJAICACJgACQCAgAiYAAkAgIAImAAJAICACJgACQCAgAiYAAkAgIAImA\\\n",
       "AJAICACJgACQCAgAiYAAkAgIAImAAJAICACJgACQCAgAiYAAkAgIAImAAJAICACJgACQCAgAiYAA\\\n",
       "kAgIAMm6bdvx+vI2e8epu/12+f78mT3jlH1j7Btj3xj7xqz7vh8PX4+zd5x6vj4t75eP2TNO2TfG\\\n",
       "vjH2jbFvjAsLgERAAEgEBIBEQABIBASAREAASAQEgERAAEgEBIBEQABIBASAREAASAQEgERAAEgE\\\n",
       "BIBEQABIBASAREAASAQEgERAAEgEBIBEQABIBASAREAASAQEgERAAEgEBIBEQABIBASAREAASAQE\\\n",
       "gERAAEgEBIBEQABIBASAREAASAQEgERAAEjWbduO15e32TtO3e23y/fnz+wZp+wbY98Y+8bYN2bd\\\n",
       "9/14+HqcvePU8/Vpeb98zJ5xyr4x9o2xb4x9Y1xYACQCAkAiIAAkAgJAIiAAJAICQCIgACQCAkAi\\\n",
       "IAAkAgJAIiAAJAICQCIgACQCAkAiIAAkAgJAIiAAJAICQCIgACQCAkAiIAAkAgJAIiAAJAICQCIg\\\n",
       "ACQCAkAiIAAkAgJAIiAAJAICQCIgACQCAkAiIAAkAgJAIiAAJAICQCIgACQCAkCybtt2vL68zd5x\\\n",
       "6m6/Xb4/f2bPOGXfGPvG2DfGvjHrvu/Hw9fj7B2nnq9Py/vlY/aMU/aNsW+MfWPsG+PCAiAREAAS\\\n",
       "AQEgERAAEgEBIBEQABIBASAREAASAQEgERAAEgEBIBEQABIBASAREAASAQEgERAAEgEBIBEQABIB\\\n",
       "ASAREAASAQEgERAAEgEBIBEQABIBASAREAASAQEgERAAEgEBIBEQABIBASAREAASAQEgERAAEgEB\\\n",
       "IBEQABIBASAREACSddu24/XlbfaOU3f77fL9+TN7xin7xtg3xr4x9o1Z930/Hr4eZ+849Xx9Wt4v\\\n",
       "H7NnnLJvjH1j7Btj3xgXFgCJgACQCAgAiYAAkAgIAImAAJAICACJgACQCAgAiYAAkAgIAImAAJAI\\\n",
       "CACJgACQCAgAiYAAkAgIAImAAJAICACJgACQCAgAiYAAkAgIAImAAJAICACJgACQCAgAiYAAkAgI\\\n",
       "AImAAJAICACJgACQCAgAiYAAkAgIAImAAJAICACJgACQrNu2Ha8vb7N3nLrbb5fvz5/ZM07ZN8a+\\\n",
       "MfaNsW/Muu/78fD1OHvHqefr0/J++Zg945R9Y+wbY98Y+8a4sABIBASAREAASAQEgERAAEgEBIBE\\\n",
       "QABIBASAREAASAQEgERAAEgEBIBEQABIBASAREAASAQEgERAAEgEBIBEQABIBASAREAASAQEgERA\\\n",
       "AEgEBIBEQABIBASAREAASAQEgERAAEgEBIBEQABIBASAREAASAQEgERAAEgEBIBEQABIBASAZN22\\\n",
       "7Xh9eZu949Tdfrt8f/7MnnHKvjH2jbFvjH1j1n3fj4evx9k7Tj1fn5b3y8fsGafsG2PfGPvG2DfG\\\n",
       "hQVAIiAAJAICQCIgACQCAkAiIAAkAgJAIiAAJAICQCIgACQCAkAiIAAkAgJAIiAAJAICQCIgACQC\\\n",
       "AkAiIAAkAgJAIiAAJAICQCIgACQCAkAiIAAkAgJAIiAAJAICQCIgACQCAkAiIAAkAgJAIiAAJAIC\\\n",
       "QCIgACQCAkAiIAAkAgJAIiAAJOu2bcfry9vsHafu9tvl+/Nn9oxT9o2xb4x9Y+wbs+77fjx8Pc7e\\\n",
       "cer5+rS8Xz5mzzhl3xj7xtg3xr4xLiwAEgEBIBEQABIBASAREAASAQEgERAAEgEBIBEQABIBASAR\\\n",
       "EAASAQEgERAAEgEBIBEQABIBASAREAASAQEgERAAEgEBIBEQABIBASAREAASAQEgERAAEgEBIBEQ\\\n",
       "ABIBASAREAASAQEgERAAEgEBIBEQABIBASAREAASAQEgERAAEgEBIPkf9YpTT5ZNGJgAAAAASUVO\\\n",
       "RK5CYII=\\\n",
       "\"\n",
       "  frames[27] = \"data:image/png;base64,iVBORw0KGgoAAAANSUhEUgAAAZAAAAGQCAYAAACAvzbMAAAAOXRFWHRTb2Z0d2FyZQBNYXRwbG90\\\n",
       "bGliIHZlcnNpb24zLjQuMywgaHR0cHM6Ly9tYXRwbG90bGliLm9yZy/MnkTPAAAACXBIWXMAAAxO\\\n",
       "AAAMTgF/d4wjAAAIHklEQVR4nO3YMWp1Wx2H4X0+ruCJG8OGbwQO4WYIwc7CzCAIAQfgBAQHkDIh\\\n",
       "heksU9zrFByJfYLFiRayHcFu3lWsCM8zgh9rFS/8T9++fduvr6+Xr+p0Oi37vs+ecci+MfaNsW+M\\\n",
       "fWN+uL6+Xm4+bmfvOHT/cre8PrzNnnHIvjH2jbFvjH1jvs0eAMD/JwEBIBEQABIBASAREAASAQEg\\\n",
       "ERAAEgEBIBEQABIBASAREAASAQEgERAAEgEBIBEQABIBASAREAASAQEgERAAEgEBIBEQABIBASAR\\\n",
       "EAASAQEgERAAEgEBIBEQABIBASAREAASAQEgERAAEgEBIBEQABIBASAREAASAQEgERAAEgEBIDmt\\\n",
       "67o/PT7P3nHoajsvl/fP2TMO2TfGvjH2jbFvzGnbtv3m43b2jkP3L3fL68Pb7BmH7Btj3xj7xtg3\\\n",
       "xgkLgERAAEgEBIBEQABIBASAREAASAQEgERAAEgEBIBEQABIBASAREAASAQEgERAAEgEBIBEQABI\\\n",
       "BASAREAASAQEgERAAEgEBIBEQABIBASAREAASAQEgERAAEgEBIBEQABIBASAREAASAQEgERAAEgE\\\n",
       "BIBEQABIBASAREAASAQEgERAAEhO67ruT4/Ps3ccWr+fl1/+4l+zZxy6/PvXy+X9c/aMQ1fb2b4B\\\n",
       "9o2xb8xX33fatm2/+bidvePQn37+3fLbH/8ye8ahv/39z8vrw9vsGYfuX+7sG2DfGPvGfPV9TlgA\\\n",
       "JAICQCIgACQCAkAiIAAkAgJAIiAAJAICQCIgACQCAkAiIAAkAgJAIiAAJAICQCIgACQCAkAiIAAk\\\n",
       "AgJAIiAAJAICQCIgACQCAkAiIAAkAgJAIiAAJAICQCIgACQCAkAiIAAkAgJAIiAAJAICQCIgACQC\\\n",
       "AkAiIAAkAgJAIiAAJAICQHJa13V/enyevePQ1XZeLu+fs2ccsm+MfWPsG2PfmNO2bfvNx+3sHYfu\\\n",
       "X+6W14e32TMO2TfGvjH2jbFvjBMWAImAAJAICACJgACQCAgAiYAAkAgIAImAAJAICACJgACQCAgA\\\n",
       "iYAAkAgIAImAAJAICACJgACQCAgAiYAAkAgIAImAAJAICACJgACQCAgAiYAAkAgIAImAAJAICACJ\\\n",
       "gACQCAgAiYAAkAgIAImAAJAICACJgACQCAgAiYAAkAgIAImAAJCc1nXdnx6fZ+84dLWdl8v75+wZ\\\n",
       "h+wb89X3/er7efnvD5fZMw59+8/Vl36/r/6/9o05bdu233zczt5x6P7lbnl9eJs945B9Y776vj/+\\\n",
       "9Pvln7/56+wZh77/4w9f+v2++v/aN8YJC4BEQABIBASAREAASAQEgERAAEgEBIBEQABIBASAREAA\\\n",
       "SAQEgERAAEgEBIBEQABIBASAREAASAQEgERAAEgEBIBEQABIBASAREAASAQEgERAAEgEBIBEQABI\\\n",
       "BASAREAASAQEgERAAEgEBIBEQABIBASAREAASAQEgERAAEgEBIBEQABITuu67k+Pz7N3HLrazsvl\\\n",
       "/XP2jEP2jbFvjH1j7Btz2rZtv/m4nb3j0P3L3fL68DZ7xiH7xtg3xr4x9o1xwgIgERAAEgEBIBEQ\\\n",
       "ABIBASAREAASAQEgERAAEgEBIBEQABIBASAREAASAQEgERAAEgEBIBEQABIBASAREAASAQEgERAA\\\n",
       "EgEBIBEQABIBASAREAASAQEgERAAEgEBIBEQABIBASAREAASAQEgERAAEgEBIBEQABIBASAREAAS\\\n",
       "AQEgERAAktO6rvvT4/PsHYeutvNyef+cPeOQfWPsG2PfGPvGnLZt228+bmfvOHT/cre8PrzNnnHI\\\n",
       "vjH2jbFvjH1jnLAASAQEgERAAEgEBIBEQABIBASAREAASAQEgERAAEgEBIBEQABIBASAREAASAQE\\\n",
       "gERAAEgEBIBEQABIBASAREAASAQEgERAAEgEBIBEQABIBASAREAASAQEgERAAEgEBIBEQABIBASA\\\n",
       "REAASAQEgERAAEgEBIBEQABIBASAREAASAQEgOS0ruv+9Pg8e8ehq+28XN4/Z884ZN8Y+8bYN8a+\\\n",
       "Madt2/abj9vZOw7dv9wtrw9vs2ccsm+MfWPsG2PfGCcsABIBASAREAASAQEgERAAEgEBIBEQABIB\\\n",
       "ASAREAASAQEgERAAEgEBIBEQABIBASAREAASAQEgERAAEgEBIBEQABIBASAREAASAQEgERAAEgEB\\\n",
       "IBEQABIBASAREAASAQEgERAAEgEBIBEQABIBASAREAASAQEgERAAEgEBIBEQABIBASA5reu6Pz0+\\\n",
       "z95x6Go7L5f3z9kzDtk3xr4x9o2xb8xp27b95uN29o5D9y93y+vD2+wZh+wbY98Y+8bYN8YJC4BE\\\n",
       "QABIBASAREAASAQEgERAAEgEBIBEQABIBASAREAASAQEgERAAEgEBIBEQABIBASAREAASAQEgERA\\\n",
       "AEgEBIBEQABIBASAREAASAQEgERAAEgEBIBEQABIBASAREAASAQEgERAAEgEBIBEQABIBASAREAA\\\n",
       "SAQEgERAAEgEBIBEQABITuu67k+Pz7N3HLrazsvl/XP2jEP2jbFvjH1j7Btz2rZtv/m4nb3j0P3L\\\n",
       "3fL68DZ7xiH7xtg3xr4x9o1xwgIgERAAEgEBIBEQABIBASAREAASAQEgERAAEgEBIBEQABIBASAR\\\n",
       "EAASAQEgERAAEgEBIBEQABIBASAREAASAQEgERAAEgEBIBEQABIBASAREAASAQEgERAAEgEBIBEQ\\\n",
       "ABIBASAREAASAQEgERAAEgEBIBEQABIBASAREAASAQEgERAAkv8BlMtTT523a44AAAAASUVORK5C\\\n",
       "YII=\\\n",
       "\"\n",
       "  frames[28] = \"data:image/png;base64,iVBORw0KGgoAAAANSUhEUgAAAZAAAAGQCAYAAACAvzbMAAAAOXRFWHRTb2Z0d2FyZQBNYXRwbG90\\\n",
       "bGliIHZlcnNpb24zLjQuMywgaHR0cHM6Ly9tYXRwbG90bGliLm9yZy/MnkTPAAAACXBIWXMAAAxO\\\n",
       "AAAMTgF/d4wjAAAIHklEQVR4nO3YMWp1Wx2H4X0+ruCJG8OGbwQO4WYIwc7CzCAIAQfgBAQHkDIh\\\n",
       "heksU9zrFByJfYLFiRayHcFu3lWsCM8zgh9rFS/8T9++fduvr6+Xr+p0Oi37vs+ecci+MfaNsW+M\\\n",
       "fWN+uL6+Xm4+bmfvOHT/cre8PrzNnnHIvjH2jbFvjH1jvs0eAMD/JwEBIBEQABIBASAREAASAQEg\\\n",
       "ERAAEgEBIBEQABIBASAREAASAQEgERAAEgEBIBEQABIBASAREAASAQEgERAAEgEBIBEQABIBASAR\\\n",
       "EAASAQEgERAAEgEBIBEQABIBASAREAASAQEgERAAEgEBIBEQABIBASAREAASAQEgERAAEgEBIDmt\\\n",
       "67o/PT7P3nHoajsvl/fP2TMO2TfGvjH2jbFvzGnbtv3m43b2jkP3L3fL68Pb7BmH7Btj3xj7xtg3\\\n",
       "xgkLgERAAEgEBIBEQABIBASAREAASAQEgERAAEgEBIBEQABIBASAREAASAQEgERAAEgEBIBEQABI\\\n",
       "BASAREAASAQEgERAAEgEBIBEQABIBASAREAASAQEgERAAEgEBIBEQABIBASAREAASAQEgERAAEgE\\\n",
       "BIBEQABIBASAREAASAQEgERAAEhO67ruT4/Ps3ccWr+fl1/+4l+zZxy6/PvXy+X9c/aMQ1fb2b4B\\\n",
       "9o2xb8xX33fatm2/+bidvePQn37+3fLbH/8ye8ahv/39z8vrw9vsGYfuX+7sG2DfGPvGfPV9TlgA\\\n",
       "JAICQCIgACQCAkAiIAAkAgJAIiAAJAICQCIgACQCAkAiIAAkAgJAIiAAJAICQCIgACQCAkAiIAAk\\\n",
       "AgJAIiAAJAICQCIgACQCAkAiIAAkAgJAIiAAJAICQCIgACQCAkAiIAAkAgJAIiAAJAICQCIgACQC\\\n",
       "AkAiIAAkAgJAIiAAJAICQHJa13V/enyevePQ1XZeLu+fs2ccsm/MV9/3q+/n5b8/XGbPOPTtP1df\\\n",
       "+v2++v/aN+a0bdt+83E7e8eh+5e75fXhbfaMQ/aN+er7/vjT75d//uavs2cc+v6PP3zp9/vq/2vf\\\n",
       "GCcsABIBASAREAASAQEgERAAEgEBIBEQABIBASAREAASAQEgERAAEgEBIBEQABIBASAREAASAQEg\\\n",
       "ERAAEgEBIBEQABIBASAREAASAQEgERAAEgEBIBEQABIBASAREAASAQEgERAAEgEBIBEQABIBASAR\\\n",
       "EAASAQEgERAAEgEBIBEQABIBASA5reu6Pz0+z95x6Go7L5f3z9kzDtk3xr4x9o2xb8xp27b95uN2\\\n",
       "9o5D9y93y+vD2+wZh+wbY98Y+8bYN8YJC4BEQABIBASAREAASAQEgERAAEgEBIBEQABIBASAREAA\\\n",
       "SAQEgERAAEgEBIBEQABIBASAREAASAQEgERAAEgEBIBEQABIBASAREAASAQEgERAAEgEBIBEQABI\\\n",
       "BASAREAASAQEgERAAEgEBIBEQABIBASAREAASAQEgERAAEgEBIBEQABITuu67k+Pz7N3HLrazsvl\\\n",
       "/XP2jEP2jbFvjH1j7Btz2rZtv/m4nb3j0P3L3fL68DZ7xiH7xtg3xr4x9o1xwgIgERAAEgEBIBEQ\\\n",
       "ABIBASAREAASAQEgERAAEgEBIBEQABIBASAREAASAQEgERAAEgEBIBEQABIBASAREAASAQEgERAA\\\n",
       "EgEBIBEQABIBASAREAASAQEgERAAEgEBIBEQABIBASAREAASAQEgERAAEgEBIBEQABIBASAREAAS\\\n",
       "AQEgERAAktO6rvvT4/PsHYeutvNyef+cPeOQfWPsG2PfGPvGnLZt228+bmfvOHT/cre8PrzNnnHI\\\n",
       "vjH2jbFvjH1jnLAASAQEgERAAEgEBIBEQABIBASAREAASAQEgERAAEgEBIBEQABIBASAREAASAQE\\\n",
       "gERAAEgEBIBEQABIBASAREAASAQEgERAAEgEBIBEQABIBASAREAASAQEgERAAEgEBIBEQABIBASA\\\n",
       "REAASAQEgERAAEgEBIBEQABIBASAREAASAQEgOS0ruv+9Pg8e8ehq+28XN4/Z884ZN8Y+8bYN8a+\\\n",
       "Madt2/abj9vZOw7dv9wtrw9vs2ccsm+MfWPsG2PfGCcsABIBASAREAASAQEgERAAEgEBIBEQABIB\\\n",
       "ASAREAASAQEgERAAEgEBIBEQABIBASAREAASAQEgERAAEgEBIBEQABIBASAREAASAQEgERAAEgEB\\\n",
       "IBEQABIBASAREAASAQEgERAAEgEBIBEQABIBASAREAASAQEgERAAEgEBIBEQABIBASA5reu6Pz0+\\\n",
       "z95x6Go7L5f3z9kzDtk3xr4x9o2xb8xp27b95uN29o5D9y93y+vD2+wZh+wbY98Y+8bYN8YJC4BE\\\n",
       "QABIBASAREAASAQEgERAAEgEBIBEQABIBASAREAASAQEgERAAEgEBIBEQABIBASAREAASAQEgERA\\\n",
       "AEgEBIBEQABIBASAREAASAQEgERAAEgEBIBEQABIBASAREAASAQEgERAAEgEBIBEQABIBASAREAA\\\n",
       "SAQEgERAAEgEBIBEQABITuu67k+Pz7N3HLrazsvl/XP2jEP2jbFvjH1j7Btz2rZtv/m4nb3j0P3L\\\n",
       "3fL68DZ7xiH7xtg3xr4x9o1xwgIgERAAEgEBIBEQABIBASAREAASAQEgERAAEgEBIBEQABIBASAR\\\n",
       "EAASAQEgERAAEgEBIBEQABIBASAREAASAQEgERAAEgEBIBEQABIBASAREAASAQEgERAAEgEBIBEQ\\\n",
       "ABIBASAREAASAQEgERAAEgEBIBEQABIBASAREAASAQEgERAAkv8BlMtTT4Ej6xoAAAAASUVORK5C\\\n",
       "YII=\\\n",
       "\"\n",
       "  frames[29] = \"data:image/png;base64,iVBORw0KGgoAAAANSUhEUgAAAZAAAAGQCAYAAACAvzbMAAAAOXRFWHRTb2Z0d2FyZQBNYXRwbG90\\\n",
       "bGliIHZlcnNpb24zLjQuMywgaHR0cHM6Ly9tYXRwbG90bGliLm9yZy/MnkTPAAAACXBIWXMAAAxO\\\n",
       "AAAMTgF/d4wjAAAIFklEQVR4nO3YMWo2XR2H4ZmXT/CJg2HgW4FL+LKEYGdhdhCEgAtwA4ILSJmQ\\\n",
       "wnSWKdQtuBL7BItECxlXMM19ivMK17WCH+cUN/zXb9++HdfX18v3al3X5TiO2TNO2TfGvjH2jbFv\\\n",
       "zA/X19fLzcft7B2n7l/ulteHt9kzTtk3xr4x9o2xb8y32QMA+P8kIAAkAgJAIiAAJAICQCIgACQC\\\n",
       "AkAiIAAkAgJAIiAAJAICQCIgACQCAkAiIAAkAgJAIiAAJAICQCIgACQCAkAiIAAkAgJAIiAAJAIC\\\n",
       "QCIgACQCAkAiIAAkAgJAIiAAJAICQCIgACQCAkAiIAAkAgJAIiAAJAICQCIgACQCAkAiIAAk67Zt\\\n",
       "x9Pj8+wdp672y/L5/jV7xin7xtg3xr4x9o1Z930/bj5uZ+84df9yt7w+vM2eccq+MfaNsW+MfWOc\\\n",
       "sABIBASAREAASAQEgERAAEgEBIBEQABIBASAREAASAQEgERAAEgEBIBEQABIBASAREAASAQEgERA\\\n",
       "AEgEBIBEQABIBASAREAASAQEgERAAEgEBIBEQABIBASAREAASAQEgERAAEgEBIBEQABIBASAREAA\\\n",
       "SAQEgERAAEgEBIBEQABIBASAZN227Xh6fJ6949T242X5+c/+NXvGqc9//3L5fP+aPePU1X6xb8Av\\\n",
       "frws//3hc/aMU9/+c/Vdv9/3/r/2jVn3fT9uPm5n7zj1h7/9Zvn1T3+aPePUX/7+x+X14W32jFP3\\\n",
       "L3f2Dfj9X3+7/PNXf54949SP//jdd/1+3/v/2jfGCQuAREAASAQEgERAAEgEBIBEQABIBASAREAA\\\n",
       "SAQEgERAAEgEBIBEQABIBASAREAASAQEgERAAEgEBIBEQABIBASAREAASAQEgERAAEgEBIBEQABI\\\n",
       "BASAREAASAQEgERAAEgEBIBEQABIBASAREAASAQEgERAAEgEBIBEQABIBASAREAASNZt246nx+fZ\\\n",
       "O05d7Zfl8/1r9oxT9o2xb4x9Y+wbs+77ftx83M7ecer+5W55fXibPeOUfWPsG2PfGPvGOGEBkAgI\\\n",
       "AImAAJAICACJgACQCAgAiYAAkAgIAImAAJAICACJgACQCAgAiYAAkAgIAImAAJAICACJgACQCAgA\\\n",
       "iYAAkAgIAImAAJAICACJgACQCAgAiYAAkAgIAImAAJAICACJgACQCAgAiYAAkAgIAImAAJAICACJ\\\n",
       "gACQCAgAiYAAkAgIAMm6bdvx9Pg8e8epq/2yfL5/zZ5xyr4x9o2xb4x9Y9Z934+bj9vZO07dv9wt\\\n",
       "rw9vs2ecsm+MfWPsG2PfGCcsABIBASAREAASAQEgERAAEgEBIBEQABIBASAREAASAQEgERAAEgEB\\\n",
       "IBEQABIBASAREAASAQEgERAAEgEBIBEQABIBASAREAASAQEgERAAEgEBIBEQABIBASAREAASAQEg\\\n",
       "ERAAEgEBIBEQABIBASAREAASAQEgERAAEgEBIBEQABIBASBZt207nh6fZ+84dbVfls/3r9kzTtk3\\\n",
       "xr4x9o2xb8y67/tx83E7e8ep+5e75fXhbfaMU/aNsW+MfWPsG+OEBUAiIAAkAgJAIiAAJAICQCIg\\\n",
       "ACQCAkAiIAAkAgJAIiAAJAICQCIgACQCAkAiIAAkAgJAIiAAJAICQCIgACQCAkAiIAAkAgJAIiAA\\\n",
       "JAICQCIgACQCAkAiIAAkAgJAIiAAJAICQCIgACQCAkAiIAAkAgJAIiAAJAICQCIgACQCAkAiIAAk\\\n",
       "67Ztx9Pj8+wdp672y/L5/jV7xin7xtg3xr4x9o1Z930/bj5uZ+84df9yt7w+vM2eccq+MfaNsW+M\\\n",
       "fWOcsABIBASAREAASAQEgERAAEgEBIBEQABIBASAREAASAQEgERAAEgEBIBEQABIBASAREAASAQE\\\n",
       "gERAAEgEBIBEQABIBASAREAASAQEgERAAEgEBIBEQABIBASAREAASAQEgERAAEgEBIBEQABIBASA\\\n",
       "REAASAQEgERAAEgEBIBEQABIBASAZN227Xh6fJ6949TVflk+379mzzhl3xj7xtg3xr4x677vx83H\\\n",
       "7ewdp+5f7pbXh7fZM07ZN8a+MfaNsW+MExYAiYAAkAgIAImAAJAICACJgACQCAgAiYAAkAgIAImA\\\n",
       "AJAICACJgACQCAgAiYAAkAgIAImAAJAICACJgACQCAgAiYAAkAgIAImAAJAICACJgACQCAgAiYAA\\\n",
       "kAgIAImAAJAICACJgACQCAgAiYAAkAgIAImAAJAICACJgACQCAgAiYAAkKzbth1Pj8+zd5y62i/L\\\n",
       "5/vX7Bmn7Btj3xj7xtg3Zt33/bj5uJ2949T9y93y+vA2e8Yp+8bYN8a+MfaNccICIBEQABIBASAR\\\n",
       "EAASAQEgERAAEgEBIBEQABIBASAREAASAQEgERAAEgEBIBEQABIBASAREAASAQEgERAAEgEBIBEQ\\\n",
       "ABIBASAREAASAQEgERAAEgEBIBEQABIBASAREAASAQEgERAAEgEBIBEQABIBASAREAASAQEgERAA\\\n",
       "EgEBIBEQAJJ127bj6fF59o5TV/tl+Xz/mj3jlH1j7Btj3xj7xqz7vh83H7ezd5y6f7lbXh/eZs84\\\n",
       "Zd8Y+8bYN8a+MU5YACQCAkAiIAAkAgJAIiAAJAICQCIgACQCAkAiIAAkAgJAIiAAJAICQCIgACQC\\\n",
       "AkAiIAAkAgJAIiAAJAICQCIgACQCAkAiIAAkAgJAIiAAJAICQCIgACQCAkAiIAAkAgJAIiAAJAIC\\\n",
       "QCIgACQCAkAiIAAkAgJAIiAAJAICQCIgACQCAkDyP5TLU09GWq1vAAAAAElFTkSuQmCC\\\n",
       "\"\n",
       "  frames[30] = \"data:image/png;base64,iVBORw0KGgoAAAANSUhEUgAAAZAAAAGQCAYAAACAvzbMAAAAOXRFWHRTb2Z0d2FyZQBNYXRwbG90\\\n",
       "bGliIHZlcnNpb24zLjQuMywgaHR0cHM6Ly9tYXRwbG90bGliLm9yZy/MnkTPAAAACXBIWXMAAAxO\\\n",
       "AAAMTgF/d4wjAAAIHklEQVR4nO3YMWp1Wx2H4X0+ruCJG8OGbwQO4WYIwc7CzCAIAQfgBAQHkDIh\\\n",
       "heksU9zrFByJfYLFiRayHcFu3lWsCM8zgh9rFS/8T9++fduvr6+Xr+p0Oi37vs+ecci+MfaNsW+M\\\n",
       "fWN+uL6+Xm4+bmfvOHT/cre8PrzNnnHIvjH2jbFvjH1jvs0eAMD/JwEBIBEQABIBASAREAASAQEg\\\n",
       "ERAAEgEBIBEQABIBASAREAASAQEgERAAEgEBIBEQABIBASAREAASAQEgERAAEgEBIBEQABIBASAR\\\n",
       "EAASAQEgERAAEgEBIBEQABIBASAREAASAQEgERAAEgEBIBEQABIBASAREAASAQEgERAAEgEBIDmt\\\n",
       "67o/PT7P3nHoajsvl/fP2TMO2Tfmq+/71ffz8t8fLrNnHPr2n6sv/X5f/X/tG3Patm2/+bidvePQ\\\n",
       "/cvd8vrwNnvGIfvGfPV9f/zp98s/f/PX2TMOff/HH770+331/7VvjBMWAImAAJAICACJgACQCAgA\\\n",
       "iYAAkAgIAImAAJAICACJgACQCAgAiYAAkAgIAImAAJAICACJgACQCAgAiYAAkAgIAImAAJAICACJ\\\n",
       "gACQCAgAiYAAkAgIAImAAJAICACJgACQCAgAiYAAkAgIAImAAJAICACJgACQCAgAiYAAkAgIAImA\\\n",
       "AJCc1nXdnx6fZ+84tH4/L7/8xb9mzzh0+fevl8v75+wZh662s30D7Btj35ivvu+0bdt+83E7e8eh\\\n",
       "P/38u+W3P/5l9oxDf/v7n5fXh7fZMw7dv9zZN8C+MfaN+er7nLAASAQEgERAAEgEBIBEQABIBASA\\\n",
       "REAASAQEgERAAEgEBIBEQABIBASAREAASAQEgERAAEgEBIBEQABIBASAREAASAQEgERAAEgEBIBE\\\n",
       "QABIBASAREAASAQEgERAAEgEBIBEQABIBASAREAASAQEgERAAEgEBIBEQABIBASAREAASAQEgOS0\\\n",
       "ruv+9Pg8e8ehq+28XN4/Z884ZN8Y+8bYN8a+Madt2/abj9vZOw7dv9wtrw9vs2ccsm+MfWPsG2Pf\\\n",
       "GCcsABIBASAREAASAQEgERAAEgEBIBEQABIBASAREAASAQEgERAAEgEBIBEQABIBASAREAASAQEg\\\n",
       "ERAAEgEBIBEQABIBASAREAASAQEgERAAEgEBIBEQABIBASAREAASAQEgERAAEgEBIBEQABIBASAR\\\n",
       "EAASAQEgERAAEgEBIBEQABIBASA5reu6Pz0+z95x6Go7L5f3z9kzDtk3xr4x9o2xb8xp27b95uN2\\\n",
       "9o5D9y93y+vD2+wZh+wbY98Y+8bYN8YJC4BEQABIBASAREAASAQEgERAAEgEBIBEQABIBASAREAA\\\n",
       "SAQEgERAAEgEBIBEQABIBASAREAASAQEgERAAEgEBIBEQABIBASAREAASAQEgERAAEgEBIBEQABI\\\n",
       "BASAREAASAQEgERAAEgEBIBEQABIBASAREAASAQEgERAAEgEBIBEQABITuu67k+Pz7N3HLrazsvl\\\n",
       "/XP2jEP2jbFvjH1j7Btz2rZtv/m4nb3j0P3L3fL68DZ7xiH7xtg3xr4x9o1xwgIgERAAEgEBIBEQ\\\n",
       "ABIBASAREAASAQEgERAAEgEBIBEQABIBASAREAASAQEgERAAEgEBIBEQABIBASAREAASAQEgERAA\\\n",
       "EgEBIBEQABIBASAREAASAQEgERAAEgEBIBEQABIBASAREAASAQEgERAAEgEBIBEQABIBASAREAAS\\\n",
       "AQEgERAAktO6rvvT4/PsHYeutvNyef+cPeOQfWPsG2PfGPvGnLZt228+bmfvOHT/cre8PrzNnnHI\\\n",
       "vjH2jbFvjH1jnLAASAQEgERAAEgEBIBEQABIBASAREAASAQEgERAAEgEBIBEQABIBASAREAASAQE\\\n",
       "gERAAEgEBIBEQABIBASAREAASAQEgERAAEgEBIBEQABIBASAREAASAQEgERAAEgEBIBEQABIBASA\\\n",
       "REAASAQEgERAAEgEBIBEQABIBASAREAASAQEgOS0ruv+9Pg8e8ehq+28XN4/Z884ZN8Y+8bYN8a+\\\n",
       "Madt2/abj9vZOw7dv9wtrw9vs2ccsm+MfWPsG2PfGCcsABIBASAREAASAQEgERAAEgEBIBEQABIB\\\n",
       "ASAREAASAQEgERAAEgEBIBEQABIBASAREAASAQEgERAAEgEBIBEQABIBASAREAASAQEgERAAEgEB\\\n",
       "IBEQABIBASAREAASAQEgERAAEgEBIBEQABIBASAREAASAQEgERAAEgEBIBEQABIBASA5reu6Pz0+\\\n",
       "z95x6Go7L5f3z9kzDtk3xr4x9o2xb8xp27b95uN29o5D9y93y+vD2+wZh+wbY98Y+8bYN8YJC4BE\\\n",
       "QABIBASAREAASAQEgERAAEgEBIBEQABIBASAREAASAQEgERAAEgEBIBEQABIBASAREAASAQEgERA\\\n",
       "AEgEBIBEQABIBASAREAASAQEgERAAEgEBIBEQABIBASAREAASAQEgERAAEgEBIBEQABIBASAREAA\\\n",
       "SAQEgERAAEgEBIBEQABITuu67k+Pz7N3HLrazsvl/XP2jEP2jbFvjH1j7Btz2rZtv/m4nb3j0P3L\\\n",
       "3fL68DZ7xiH7xtg3xr4x9o1xwgIgERAAEgEBIBEQABIBASAREAASAQEgERAAEgEBIBEQABIBASAR\\\n",
       "EAASAQEgERAAEgEBIBEQABIBASAREAASAQEgERAAEgEBIBEQABIBASAREAASAQEgERAAEgEBIBEQ\\\n",
       "ABIBASAREAASAQEgERAAEgEBIBEQABIBASAREAASAQEgERAAkv8BlMtTT8gDFG8AAAAASUVORK5C\\\n",
       "YII=\\\n",
       "\"\n",
       "\n",
       "\n",
       "    /* set a timeout to make sure all the above elements are created before\n",
       "       the object is initialized. */\n",
       "    setTimeout(function() {\n",
       "        anim0c021fc9c9b24692a498150399e69d83 = new Animation(frames, img_id, slider_id, 149.0,\n",
       "                                 loop_select_id);\n",
       "    }, 0);\n",
       "  })()\n",
       "</script>\n"
      ],
      "text/plain": [
       "<IPython.core.display.HTML object>"
      ]
     },
     "metadata": {},
     "output_type": "display_data"
    }
   ],
   "source": [
    "nrows = 10\n",
    "ncols = 10\n",
    "rect = rw.new_world(nrows = nrows, ncols = ncols)\n",
    "rect_robo = rect.get_robo()\n",
    "rect_robo.disable_print()\n",
    "move_to_goal(rect_robo)\n",
    "rw.animate(rect)"
   ]
  },
  {
   "cell_type": "code",
   "execution_count": null,
   "id": "robust-valley",
   "metadata": {},
   "outputs": [],
   "source": []
  },
  {
   "cell_type": "markdown",
   "id": "further-herald",
   "metadata": {
    "deletable": false,
    "editable": false
   },
   "source": [
    "---\n",
    "\n",
    "To double-check your work, the cell below will rerun all of the autograder tests."
   ]
  },
  {
   "cell_type": "code",
   "execution_count": null,
   "id": "pressed-sacramento",
   "metadata": {
    "deletable": false,
    "editable": false
   },
   "outputs": [],
   "source": [
    "grader.check_all()"
   ]
  },
  {
   "cell_type": "markdown",
   "id": "painted-remedy",
   "metadata": {
    "deletable": false,
    "editable": false
   },
   "source": [
    "## Submission\n",
    "\n",
    "Make sure you have run all cells in your notebook in order before running the cell below, so that all images/graphs appear in the output. The cell below will generate a zip file for you to submit.\n",
    "\n",
    "These are some submission instructions."
   ]
  },
  {
   "cell_type": "code",
   "execution_count": null,
   "id": "overhead-boutique",
   "metadata": {
    "deletable": false,
    "editable": false
   },
   "outputs": [],
   "source": [
    "grader.export(pdf=False, force_save=True)"
   ]
  },
  {
   "cell_type": "markdown",
   "id": "controlling-annotation",
   "metadata": {},
   "source": [
    " "
   ]
  }
 ],
 "metadata": {
  "kernelspec": {
   "display_name": "Python 3 (ipykernel)",
   "language": "python",
   "name": "python3"
  },
  "language_info": {
   "codemirror_mode": {
    "name": "ipython",
    "version": 3
   },
   "file_extension": ".py",
   "mimetype": "text/x-python",
   "name": "python",
   "nbconvert_exporter": "python",
   "pygments_lexer": "ipython3",
   "version": "3.9.5"
  },
  "otter": {
   "tests": {
    "q1": {
     "name": "q1",
     "points": null,
     "suites": [
      {
       "cases": [
        {
         "code": ">>> myworld.ncols == 10\nTrue",
         "hidden": false,
         "locked": false
        },
        {
         "code": ">>> myworld.nrows == 1\nTrue",
         "hidden": false,
         "locked": false
        }
       ],
       "scored": true,
       "setup": "",
       "teardown": "",
       "type": "doctest"
      }
     ]
    },
    "q10": {
     "name": "q10",
     "points": null,
     "suites": [
      {
       "cases": [
        {
         "code": ">>> maze.is_successful() == True\nTrue",
         "hidden": false,
         "locked": false
        }
       ],
       "scored": true,
       "setup": "",
       "teardown": "",
       "type": "doctest"
      }
     ]
    },
    "q11": {
     "name": "q11",
     "points": null,
     "suites": [
      {
       "cases": [
        {
         "code": ">>> corridor_test = rw.corridor()\n>>> robo_test = corridor_test.get_robo()\n>>> robo_test.disable_print()\n>>> turn_to_north(robo_test)\n>>> robo_test.is_facing_north() == True\nTrue",
         "hidden": false,
         "locked": false
        }
       ],
       "scored": true,
       "setup": "",
       "teardown": "",
       "type": "doctest"
      }
     ]
    },
    "q12": {
     "name": "q12",
     "points": null,
     "suites": [
      {
       "cases": [
        {
         "code": ">>> corridor_test = rw.corridor()\n>>> robo_test = corridor_test.get_robo()\n>>> robo_test.disable_print()\n>>> turn_to_west(robo_test)\n>>> robo_test.turn_left()\n>>> robo_test.turn_left()\n>>> robo_test.turn_left()\n>>> robo_test.is_facing_north() == True\nTrue",
         "hidden": false,
         "locked": false
        },
        {
         "code": ">>> corridor_test = rw.corridor()\n>>> robo_test = corridor_test.get_robo()\n>>> robo_test.disable_print()\n>>> turn_to_south(robo_test)\n>>> robo_test.turn_left()\n>>> robo_test.turn_left()\n>>> robo_test.is_facing_north() == True\nTrue",
         "hidden": false,
         "locked": false
        },
        {
         "code": ">>> corridor_test = rw.corridor()\n>>> robo_test = corridor_test.get_robo()\n>>> robo_test.disable_print()\n>>> turn_to_east(robo_test)\n>>> robo_test.turn_left()\n>>> robo_test.is_facing_north() == True\nTrue",
         "hidden": false,
         "locked": false
        }
       ],
       "scored": true,
       "setup": "",
       "teardown": "",
       "type": "doctest"
      }
     ]
    },
    "q14": {
     "name": "q14",
     "points": null,
     "suites": [
      {
       "cases": [
        {
         "code": ">>> nrows = 3\n>>> ncols = 10\n>>> test_world = rw.new_world(nrows = nrows, ncols = ncols)\n>>> test_robo = test_world.get_robo()\n>>> test_robo.disable_print()\n>>> move_to_goal(test_robo)\n>>> test_world.is_successful() == True\nTrue",
         "hidden": false,
         "locked": false
        },
        {
         "code": ">>> nrows = 10\n>>> ncols = 10\n>>> test_world = rw.new_world(nrows = nrows, ncols = ncols)\n>>> test_robo = test_world.get_robo()\n>>> test_robo.disable_print()\n>>> move_to_goal(test_robo)\n>>> test_world.is_successful() == True\nTrue",
         "hidden": false,
         "locked": false
        }
       ],
       "scored": true,
       "setup": "",
       "teardown": "",
       "type": "doctest"
      }
     ]
    },
    "q4": {
     "name": "q4",
     "points": null,
     "suites": [
      {
       "cases": [
        {
         "code": ">>> robo.position == [3,1]\nFalse",
         "hidden": false,
         "locked": false
        }
       ],
       "scored": true,
       "setup": "",
       "teardown": "",
       "type": "doctest"
      }
     ]
    },
    "q5": {
     "name": "q5",
     "points": null,
     "suites": [
      {
       "cases": [
        {
         "code": ">>> mycorridor.is_successful() == True\nTrue",
         "hidden": false,
         "locked": false
        }
       ],
       "scored": true,
       "setup": "",
       "teardown": "",
       "type": "doctest"
      }
     ]
    },
    "q6": {
     "name": "q6",
     "points": null,
     "suites": [
      {
       "cases": [
        {
         "code": ">>> world_test = rw.new_world(nrows = 1, ncols = 10)\n>>> robo_test = world_test.get_robo()\n>>> robo_test.is_facing_north() == True\nTrue",
         "hidden": false,
         "locked": false
        },
        {
         "code": ">>> world_test = rw.new_world(nrows = 1, ncols = 10)\n>>> robo_test = world_test.get_robo()\n>>> robo_test.disable_print()\n>>> turn_right(robo_test)\n>>> not robo_test.is_facing_north() == True\nTrue",
         "hidden": false,
         "locked": false
        },
        {
         "code": ">>> world_test = rw.new_world(nrows = 1, ncols = 10)\n>>> robo_test = world_test.get_robo()\n>>> robo_test.disable_print()\n>>> turn_right(robo_test)\n>>> turn_right(robo_test)\n>>> turn_right(robo_test)\n>>> turn_right(robo_test)\n>>> robo_test.is_facing_north() == True\nTrue",
         "hidden": false,
         "locked": false
        }
       ],
       "scored": true,
       "setup": "",
       "teardown": "",
       "type": "doctest"
      }
     ]
    },
    "q7": {
     "name": "q7",
     "points": null,
     "suites": [
      {
       "cases": [
        {
         "code": ">>> maze.is_successful() == True\nTrue",
         "hidden": false,
         "locked": false
        }
       ],
       "scored": true,
       "setup": "",
       "teardown": "",
       "type": "doctest"
      }
     ]
    },
    "q9": {
     "name": "q9",
     "points": null,
     "suites": [
      {
       "cases": [
        {
         "code": ">>> world_test = rw.new_world(nrows = 1, ncols = 10, agent_position=[0,0], goal_position=[0,9])\n>>> robo_test = world_test.get_robo()\n>>> robo_test.disable_print()\n>>> robo_test.turn_left()\n>>> robo_test.turn_left()\n>>> robo_test.turn_left()\n>>> move(robo_test, 9)\n>>> world_test.is_successful() == True\nTrue",
         "hidden": false,
         "locked": false
        }
       ],
       "scored": true,
       "setup": "",
       "teardown": "",
       "type": "doctest"
      }
     ]
    }
   }
  }
 },
 "nbformat": 4,
 "nbformat_minor": 5
}
