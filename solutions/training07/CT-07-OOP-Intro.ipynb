{
 "cells": [
  {
   "cell_type": "code",
   "execution_count": null,
   "id": "f5a33cec",
   "metadata": {
    "deletable": false,
    "editable": false
   },
   "outputs": [],
   "source": [
    "# Initialize Otter\n",
    "import otter\n",
    "grader = otter.Notebook(\"CT-07-OOP-Intro.ipynb\")"
   ]
  },
  {
   "cell_type": "markdown",
   "id": "1bd750de",
   "metadata": {},
   "source": [
    "***Aufgabe 1 (Klassen und Objekte).*** Erstellen Sie eine *Klasse* Ihrer Wahl.\n",
    "Diese Klasse sollte mindestens zwei *Attribute* und zwei *Methoden* beinhalten.\n",
    "Erzeugen Sie mehrere *Objekte* Ihrer *Klasse*."
   ]
  },
  {
   "cell_type": "code",
   "execution_count": 1,
   "id": "1e5d4cc5",
   "metadata": {
    "tags": [
     "otter_assign_solution_cell"
    ]
   },
   "outputs": [
    {
     "name": "stdout",
     "output_type": "stream",
     "text": [
      "Hello my name is Daniel and I am 23 years old.\n",
      "Hello my name is Maria and I am 24 years old.\n"
     ]
    }
   ],
   "source": [
    "# BEGIN SOLUTION\n",
    "class Student():\n",
    "    def __init__(self, name, age):\n",
    "        self.name = name\n",
    "        self.age = age\n",
    "    \n",
    "    def say_hello(self):\n",
    "        print(f'Hello my name is {self.name} and I am {self.age} years old.')\n",
    "        \n",
    "student1 = Student('Daniel', 23)\n",
    "student2 = Student('Maria', 24)\n",
    "student1.say_hello()\n",
    "student2.say_hello()\n",
    "# END SOLUTION"
   ]
  },
  {
   "cell_type": "markdown",
   "id": "086befac",
   "metadata": {},
   "source": [
    "***Aufgabe 2 (Klassen und Objekte).*** Erklären Sie in Ihren Worten den Unterschied zwischen einer Klasse und einem Objekt."
   ]
  },
  {
   "cell_type": "markdown",
   "id": "fa008e29",
   "metadata": {},
   "source": [
    "_Type your answer here, replacing this text._"
   ]
  },
  {
   "cell_type": "markdown",
   "id": "ff69c7c1",
   "metadata": {
    "tags": [
     "otter_assign_solution_cell"
    ]
   },
   "source": [
    "Eine *Klasse* ist die Blaupause bzw. die Bauanleitung und Funktionsbeschreibung ihrer *Objekte*. Sie definiert einen *zusammengesetzten Datentyp* inklusiver seiner *Methoden* wohingegen *Objekte* Werte von jenem Datentyp darstellen."
   ]
  },
  {
   "cell_type": "markdown",
   "id": "49fcf98b",
   "metadata": {},
   "source": [
    "***Aufgabe 3 (Klassen und Objekte).*** Folgender Code modelliert Rechtecke und Punkte und implementiert eine Funktion ``contains`` welche prüft ob sich ein Punkt innerhalb eines Rechtecks befindet. Wandeln Sie den Code in einen *objekt-orientierten* Code um. \n",
    "\n",
    "1. Erstellen Sie eine Klasse ``Rectangle`` mit *Attributen* ``x``, ``y``, ``width`` und ``height`` und einer Funktion ``contains``\n",
    "2. Erstellen Sie eine Klasse ``Point`` mit *Attributen* ``x``, ``y``\n",
    "3. Realisieren Sie geeignete Initialisierungen, d.h. ``__init__``.\n",
    "4. Realisieren Sie geeignete ``__str__``-Methoden"
   ]
  },
  {
   "cell_type": "code",
   "execution_count": 2,
   "id": "cb4e699d",
   "metadata": {},
   "outputs": [
    {
     "name": "stdout",
     "output_type": "stream",
     "text": [
      "True\n",
      "False\n"
     ]
    }
   ],
   "source": [
    "def contains(rect, point):\n",
    "    if point[0] < rect['x'] or point[1] < rect['y']:\n",
    "        return False\n",
    "    if point[0] > rect['x'] + rect['width'] or point[1] > rect['y'] + rect['height']:\n",
    "        return False\n",
    "    return True\n",
    "\n",
    "point1 = (31, 41)\n",
    "point2 = (-3, 50)\n",
    "rect = dict(x=10, y=12, width=100, height=30)\n",
    "print(contains(rect, point1))\n",
    "print(contains(rect, point2))"
   ]
  },
  {
   "cell_type": "code",
   "execution_count": 3,
   "id": "d7d0f693",
   "metadata": {
    "scrolled": true,
    "tags": [
     "otter_assign_solution_cell"
    ]
   },
   "outputs": [
    {
     "name": "stdout",
     "output_type": "stream",
     "text": [
      "True\n",
      "False\n"
     ]
    }
   ],
   "source": [
    "class Rectangle():\n",
    "    # BEGIN SOLUTION\n",
    "    def __init__(self, x, y, width, height):\n",
    "        self.x = x\n",
    "        self.y = y\n",
    "        self.width = width\n",
    "        self.height = height\n",
    "        \n",
    "    def __str__(self):\n",
    "        return f'x: {self.x}, y: {self.y}, width: {self.width}, height: {self.height}'\n",
    "    \n",
    "    def contains(self, point):\n",
    "        if point.x < self.x or point.y < self.y:\n",
    "            return False\n",
    "        if point.x > self.x + self.width or point.y > self.y + self.height:\n",
    "            return False\n",
    "        return True\n",
    "    # END SOLUTION\n",
    "\n",
    "class Point():\n",
    "    # BEGIN SOLUTION\n",
    "    def __init__(self, x, y):\n",
    "        self.x = x\n",
    "        self.y = y\n",
    "        \n",
    "    def __str__(self):\n",
    "        return f'({self.x}, {self.y})'\n",
    "    # END SOLUTION\n",
    "\n",
    "rect = Rectangle(x=10, y=12, width=100, height=30)\n",
    "point1 = Point(31, 41)\n",
    "point2 = Point(-3, 50)\n",
    "print(rect.contains(point1))\n",
    "print(rect.contains(point2))"
   ]
  },
  {
   "cell_type": "code",
   "execution_count": 4,
   "id": "02d54296",
   "metadata": {},
   "outputs": [
    {
     "name": "stdout",
     "output_type": "stream",
     "text": [
      "x: 10, y: 12, width: 100, height: 30\n",
      "(31, 41)\n"
     ]
    }
   ],
   "source": [
    "print(Rectangle(x=10, y=12, width=100, height=30))\n",
    "print(Point(31, 41))"
   ]
  },
  {
   "cell_type": "markdown",
   "id": "ba2e9799",
   "metadata": {},
   "source": [
    "***Aufgabe 4 (Vererbung und Komposition).*** Unser Rechteck ist durch einen Startpunkt ``x``, ``y`` und durch die Breite ``width`` und Höhe ``height`` eindeutig definiert. Ein Punkt widerum durch ``x`` und ``y``. Würden Sie zustimmen, dass deshalb ein Punkt eine Abstraktion eines Rechtecks ist?"
   ]
  },
  {
   "cell_type": "markdown",
   "id": "c8aadd39",
   "metadata": {},
   "source": [
    "_Type your answer here, replacing this text._"
   ]
  },
  {
   "cell_type": "markdown",
   "id": "2eee0a20",
   "metadata": {
    "tags": [
     "otter_assign_solution_cell"
    ]
   },
   "source": [
    "Nein! Ein Punkt ist keine Abstraktion eines Rechtecks. Stattdessen ist ein Rechteck eine Komposition (Zusammensetzung) aus einem Punkt und zwei Längen (Breite und Höhe)."
   ]
  },
  {
   "cell_type": "markdown",
   "id": "0b09aaf1",
   "metadata": {},
   "source": [
    "***Aufgabe 5 (Klassen und Objekte).*** Ändern Sie Ihre Klasse ``Rectangle`` ab.\n",
    "\n",
    "1. Nutzten Sie anstatt ``x``, ``y`` einen ``point`` des Typs ``Point``\n",
    "2. Führen Sie Methoden ``get_x1``, ``get_y1``, ``get_x2``, ``get_y2`` ein, welche Ihnen ``point.x``, ``point.y`` sowie ``point.x + width`` und ``point.y + height`` zurückliefern.\n",
    "3. Machen Sie alle *Attribute* privat.\n",
    "\n",
    "Vermeiden Sie dabei doppelten Code!"
   ]
  },
  {
   "cell_type": "code",
   "execution_count": 5,
   "id": "3af39a90",
   "metadata": {
    "tags": [
     "otter_assign_solution_cell"
    ]
   },
   "outputs": [],
   "source": [
    "class Rectangle():\n",
    "    # BEGIN SOLUTION\n",
    "    def __init__(self, point, width, height):\n",
    "        self.__point = point\n",
    "        self.__width = width\n",
    "        self.__height = height\n",
    "    \n",
    "    def get_x1(self):\n",
    "        return self.__point.x\n",
    "    \n",
    "    def get_y1(self):\n",
    "        return self.__point.y\n",
    "    \n",
    "    def get_x2(self):\n",
    "        return self.get_x1() + self.__width\n",
    "    \n",
    "    def get_y2(self):\n",
    "        return self.get_y1() + self.__width\n",
    "    \n",
    "    def __str__(self):\n",
    "        return f'{self.__point}, width: {self.__width}, height: {self.__height}'\n",
    "    \n",
    "    def contains(self, point):\n",
    "        if point.x < self.get_x1() or point.y < self.get_y1():\n",
    "            return False\n",
    "        if point.x > self.get_x2() or point.y > self.get_y2():\n",
    "            return False\n",
    "        return True\n",
    "    # END SOLUTION"
   ]
  },
  {
   "cell_type": "code",
   "execution_count": 6,
   "id": "0468bf91",
   "metadata": {},
   "outputs": [
    {
     "name": "stdout",
     "output_type": "stream",
     "text": [
      "True\n",
      "False\n",
      "(10, 12), width: 100, height: 30\n",
      "(31, 41)\n"
     ]
    }
   ],
   "source": [
    "rPoint = Point(x=10, y=12)\n",
    "rect = Rectangle(rPoint, width=100, height=30)\n",
    "point1 = Point(31, 41)\n",
    "point2 = Point(-3, 50)\n",
    "print(rect.contains(point1))\n",
    "print(rect.contains(point2))\n",
    "print(rect)\n",
    "print(point1)"
   ]
  },
  {
   "cell_type": "markdown",
   "id": "feff5392",
   "metadata": {},
   "source": [
    "***Aufgabe 6 (Klassen und Objekte).*** Erweitern Sie Ihre Klasse ``Point`` um die Methode ``add(point)`` und ``sub(point)`` sodass\n",
    "\n",
    "```python\n",
    "Point(1,1).add(Point(2,3))\n",
    "```\n",
    "\n",
    "einen **neuen** ``Point(3,4)`` zurückliefert.\n",
    "Implementieren Sie ``sub`` (die Subtraktion) entsprechend."
   ]
  },
  {
   "cell_type": "code",
   "execution_count": 7,
   "id": "66a2f747",
   "metadata": {
    "tags": [
     "otter_assign_solution_cell"
    ]
   },
   "outputs": [],
   "source": [
    "class Point():\n",
    "    def __init__(self, x, y):\n",
    "        self.x = x\n",
    "        self.y = y\n",
    "        \n",
    "    def __str__(self):\n",
    "         return f'({self.x}, {self.y})'\n",
    "    \n",
    "    # BEGIN SOLUTION\n",
    "    def add(self, point):\n",
    "        return Point(self.x + point.x, self.y + point.y)\n",
    "    \n",
    "    def sub(self, point):\n",
    "        return Point(self.x - point.x, self.y - point.y)\n",
    "    # END SOLUTION"
   ]
  },
  {
   "cell_type": "code",
   "execution_count": 8,
   "id": "e17d794c",
   "metadata": {},
   "outputs": [
    {
     "name": "stdout",
     "output_type": "stream",
     "text": [
      " (1, 1).add((2, 3)) == (3, 4)\n",
      " (1, 1).sub((2, 3)) == (-1, -2)\n"
     ]
    }
   ],
   "source": [
    "p1 = Point(1,1)\n",
    "p2 = Point(2,3)\n",
    "p3 = p1.add(p2)\n",
    "p4 = p1.sub(p2)\n",
    "print(f' {p1}.add({p2}) == {p3}')\n",
    "print(f' {p1}.sub({p2}) == {p4}')"
   ]
  },
  {
   "cell_type": "markdown",
   "id": "db0b402f",
   "metadata": {},
   "source": [
    "***Aufgabe 7 (Polymorphie).*** Finden Sie heraus (Google ist Ihr Freund) wie Sie den ``+`` und ``-``-Operator **überladen** (engl. overload) können, sodass Sie anstatt\n",
    "\n",
    "```python\n",
    "Point(1,1).add(Point(2,3))\n",
    "```\n",
    "\n",
    "das folgende schreiben können\n",
    "\n",
    "```python\n",
    "Point(1,1) + Point(2,3)\n",
    "```\n",
    "\n",
    "bzw. anstatt\n",
    "\n",
    "```python\n",
    "Point(1,1).sub(Point(2,3))\n",
    "```\n",
    "\n",
    "das folgende schreiben können\n",
    "\n",
    "```python\n",
    "Point(1,1) - Point(2,3)\n",
    "```\n",
    "\n",
    "Passen Sie Ihre Klasse ``Point`` entsprechend an!"
   ]
  },
  {
   "cell_type": "code",
   "execution_count": 9,
   "id": "1e4f4af7",
   "metadata": {
    "tags": [
     "otter_assign_solution_cell"
    ]
   },
   "outputs": [],
   "source": [
    "class Point():\n",
    "    def __init__(self, x, y):\n",
    "        self.x = x\n",
    "        self.y = y\n",
    "        \n",
    "    def __str__(self):\n",
    "        return f'({self.x}, {self.y})'\n",
    "    \n",
    "    # BEGIN SOLUTION\n",
    "    def __add__(self, point):\n",
    "        return Point(self.x + point.x, self.y + point.y)\n",
    "    \n",
    "    def __sub__(self, point):\n",
    "        return Point(self.x - point.x, self.y - point.y)\n",
    "    # END SOLUTION"
   ]
  },
  {
   "cell_type": "code",
   "execution_count": 10,
   "id": "9fbbdfaa",
   "metadata": {},
   "outputs": [
    {
     "name": "stdout",
     "output_type": "stream",
     "text": [
      " (1, 1) + (2, 3) == (3, 4)\n",
      " (1, 1) - (2, 3) == (-1, -2)\n"
     ]
    }
   ],
   "source": [
    "p1 = Point(1,1)\n",
    "p2 = Point(2,3)\n",
    "p3 = p1 + p2\n",
    "p4 = p1 - p2\n",
    "print(f' {p1} + {p2} == {p3}')\n",
    "print(f' {p1} - {p2} == {p4}')"
   ]
  },
  {
   "cell_type": "markdown",
   "id": "2e7ca26e",
   "metadata": {},
   "source": [
    "***Aufgabe 8 (Veränderlichkeit).*** Sind Ihre Objekte von der Klasse ``Point`` veränderlich oder unveränderlich? Sofern Sie veränderlich sind, wie könnten Sie sicherstellen, dass sie unveränderlich sind? Führen Sie diese Änderungen an der Klasse ``Point`` durch."
   ]
  },
  {
   "cell_type": "markdown",
   "id": "d0fcbba1",
   "metadata": {},
   "source": [
    "_Type your answer here, replacing this text._"
   ]
  },
  {
   "cell_type": "markdown",
   "id": "2a468b57",
   "metadata": {
    "tags": [
     "otter_assign_solution_cell"
    ]
   },
   "source": [
    "Sofern unsere Attribute ``x`` und ``y`` nicht *privat* sind, sind unsere Objekte veränderlich. Denn"
   ]
  },
  {
   "cell_type": "code",
   "execution_count": 11,
   "id": "4334a54e",
   "metadata": {
    "scrolled": true,
    "tags": [
     "otter_assign_solution_cell"
    ]
   },
   "outputs": [
    {
     "name": "stdout",
     "output_type": "stream",
     "text": [
      "(4, 1)\n"
     ]
    }
   ],
   "source": [
    "p1 = Point(1,1)\n",
    "p1.x = 4\n",
    "print(p1)"
   ]
  },
  {
   "cell_type": "markdown",
   "id": "0ba6c3ae",
   "metadata": {
    "tags": [
     "otter_assign_solution_cell"
    ]
   },
   "source": [
    "ist erlaubt. Wir müssen unsere Attribute demnach *privat* machen. Da keine Methode irgendein Attribut des Objekts verändert, wäre es dann unveränderlich."
   ]
  },
  {
   "cell_type": "code",
   "execution_count": 12,
   "id": "f07e393a",
   "metadata": {
    "tags": [
     "otter_assign_solution_cell"
    ]
   },
   "outputs": [],
   "source": [
    "class Point():\n",
    "    # BEGIN SOLUTION\n",
    "    def __init__(self, x, y):\n",
    "        self.__x = x\n",
    "        self.__y = y\n",
    "        \n",
    "    def __str__(self):\n",
    "        return f'({self.__x}, {self.__y})'\n",
    "    \n",
    "    def __add__(self, point):\n",
    "        return Point(self.__x + point.__x, self.__y + point.__y)\n",
    "    \n",
    "    def __sub__(self, point):\n",
    "        return Point(self.__x - point.__x, self.__y - point.__y)\n",
    "    # END SOLUTION"
   ]
  },
  {
   "cell_type": "code",
   "execution_count": 13,
   "id": "ff33d7ff",
   "metadata": {},
   "outputs": [
    {
     "name": "stdout",
     "output_type": "stream",
     "text": [
      "(1, 1)\n",
      "(3, 3)\n"
     ]
    }
   ],
   "source": [
    "p1 = Point(1,1)\n",
    "p1.x = 4\n",
    "print(p1)\n",
    "print(p1 + Point(2,2))"
   ]
  },
  {
   "cell_type": "markdown",
   "id": "08c16953",
   "metadata": {
    "deletable": false,
    "editable": false
   },
   "source": [
    "---\n",
    "\n",
    "To double-check your work, the cell below will rerun all of the autograder tests."
   ]
  },
  {
   "cell_type": "code",
   "execution_count": null,
   "id": "990b3b1d",
   "metadata": {
    "deletable": false,
    "editable": false
   },
   "outputs": [],
   "source": [
    "grader.check_all()"
   ]
  },
  {
   "cell_type": "markdown",
   "id": "22f3c7c3",
   "metadata": {
    "deletable": false,
    "editable": false
   },
   "source": [
    "## Submission\n",
    "\n",
    "Make sure you have run all cells in your notebook in order before running the cell below, so that all images/graphs appear in the output. The cell below will generate a zip file for you to submit."
   ]
  },
  {
   "cell_type": "code",
   "execution_count": null,
   "id": "28326a9b",
   "metadata": {
    "deletable": false,
    "editable": false
   },
   "outputs": [],
   "source": [
    "grader.export(pdf=False, force_save=True)"
   ]
  },
  {
   "cell_type": "markdown",
   "id": "8f9666d1",
   "metadata": {},
   "source": [
    " "
   ]
  }
 ],
 "metadata": {
  "kernelspec": {
   "display_name": "Python 3 (ipykernel)",
   "language": "python",
   "name": "python3"
  },
  "language_info": {
   "codemirror_mode": {
    "name": "ipython",
    "version": 3
   },
   "file_extension": ".py",
   "mimetype": "text/x-python",
   "name": "python",
   "nbconvert_exporter": "python",
   "pygments_lexer": "ipython3",
   "version": "3.9.5"
  }
 },
 "nbformat": 4,
 "nbformat_minor": 5
}
