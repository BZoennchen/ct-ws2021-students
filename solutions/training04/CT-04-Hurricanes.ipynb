{
 "cells": [
  {
   "cell_type": "code",
   "execution_count": null,
   "id": "64f22d9a",
   "metadata": {
    "deletable": false,
    "editable": false
   },
   "outputs": [],
   "source": [
    "# Initialize Otter\n",
    "import otter\n",
    "grader = otter.Notebook(\"CT-04-Hurricanes.ipynb\")"
   ]
  },
  {
   "cell_type": "markdown",
   "id": "808ce48c",
   "metadata": {},
   "source": [
    "# 1 Hurrikans und Wörterbücher"
   ]
  },
  {
   "cell_type": "markdown",
   "id": "bf610f5b",
   "metadata": {},
   "source": [
    "## 1.1 Structure of Arrays vs Array of Structures (Zusatzinformation)\n",
    "\n",
    "Zwei der Datenhaltungen die wir häufig antreffen sind sog. *Structure of Arrays SoA* und *Array of Structure* (siehe auch [AoS and SoA](https://en.wikipedia.org/wiki/AoS_and_SoA)).\n",
    "\n",
    "### 1.1.1 Structure of Arrays\n",
    "Bei *Structure of Arrays* (Struktur von Listen) wird je ein Typ von Datum für alle Objkte in einer Liste gehalten.\n",
    "Alle Objekte zusammengenommen bilden sich dann aus den ganzen Listen, wobei jede Liste soviele Einträge besitzt, wie es Objekte gibt. Zum Beispiel:\n",
    "\n",
    "```python\n",
    "x = [1.2, 2.3, 4.5, ...]\n",
    "y = [3.4, 2.1, 3.3, ...]\n",
    "name = ['rect1', 'rect2', 'rect3', ...]\n",
    "width = [1.4, 2.1, 3.3, ...]\n",
    "height = [91.4, 28.1, 6.5, ...]\n",
    "rectangles = {'x': x, 'y': y, 'name': name, 'width': width, 'height': height}\n",
    "```\n",
    "\n",
    "*Structure of Arrays SoA* werden dann verwendet, wenn man eine bestimmte Operation parallel auf allen Daten eines Typs ausführen möchte.\n",
    "So verwenden wir auf Grafikkarten *Structures of Arrays SoA*.\n",
    "Auch verwenden wir beim wissenschaftlichen Rechnen häufig *Structures of Arrays SoA*.\n",
    "\n",
    "\n",
    "### 1.1.2 Array of Structures\n",
    "Die zweite Form nennt man *Array of Structures AoS* (Liste von Strukturen).\n",
    "Hierbei werden die Daten eines Objekts gebündelt und eine Liste mit all diesen Bündeln erstellt.\n",
    "Zum Beispiel:\n",
    "\n",
    "```python\n",
    "rect1 = {'name': 'rect1', 'x': 1.2, 'y': 3.4, 'width': 1.4, 'height': 91.4}\n",
    "rect2 = {'name': 'rect2', 'x': 2.3, 'y': 2.1, 'width': 2.1, 'height': 28.1}\n",
    "rect3 = {'name': 'rect3', 'x': 4.5, 'y': 3.3, 'width': 3.3, 'height': 6.5}\n",
    "...\n",
    "objects = [rect1, rect2, rect3, ...]\n",
    "```\n",
    "\n",
    "Ein *Array of Structures* verwenden wir hingegen in der herkömmlichen sog. objektorientierten Programmierung.\n",
    "\n",
    "Beide Formen haben Vor- und Nachteile.\n",
    "In der folgenden Aufgabe werden wir sowohl mit *Structures of Arrays SoA* als auch mit einem *Array of Structures* arbeiten.\n",
    "\n",
    "## 1.2 Aufgabenbeschreibung\n",
    "\n",
    "Hurrikans, auch bekannt als Wirbelstürme, Zyklone oder Taifune, sind eine der mächtigsten Naturkräfte der Erde.\n",
    "Aufgrund des vom Menschen verursachten Klimawandels haben Anzahl und Intensität von Hurrikanen zugenommen, was eine bessere Vorbereitung der vielen von ihnen verwüsteten Gemeinschaften erfordert.\n",
    "Als besorgte Umweltschützer\\*innen möchten Sie sich Daten über die stärksten Wirbelstürme ansehen, die sich ereignet haben.\n",
    "\n",
    "Im folgenden sind die Daten zu den 34 stärksten atlantischen Hurrikans in einem *Structure of Arrays*  ``hurricanes`` in der Form eines Wörterbuchs ``dict`` bestehend aus Listen ``list`` zusammengefasst.\n",
    "Die Daten umfassen:\n",
    "\n",
    "* `name`: Namen der Hurrikans\n",
    "* `month`: Monate, in denen die Wirbelstürme aufgetreten sind\n",
    "* `year`: Jahre, in denen die Wirbelstürme aufgetreten sind\n",
    "* `speed`: maximal anhaltende Winde (Kilometer pro Stunde) der Hurrikans\n",
    "* `areas`: Liste der verschiedenen Gebiete, die von jedem der Hurrikans betroffen sind\n",
    "* `deaths`: Gesamtzahl der durch jeden der Hurrikans verursachten Todesfälle\n",
    "\n",
    "Die Daten sind so organisiert, dass die Daten für Index $i$ zum $i$-ten Hurrikan gehören. Anders ausgedrückt diese Daten gehören zu einem modellierten Objekt, den einen Hurrikan."
   ]
  },
  {
   "cell_type": "code",
   "execution_count": 1,
   "id": "a67d7601",
   "metadata": {},
   "outputs": [],
   "source": [
    "# name of the hurricane\n",
    "name = ['Cuba I', 'San Felipe II Okeechobee', 'Bahamas', 'Cuba II', 'CubaBrownsville', 'Tampico', 'Labor Day', 'New England', 'Carol', 'Janet', 'Carla', 'Hattie', 'Beulah', 'Camille', 'Edith', 'Anita', 'David', 'Allen', 'Gilbert', 'Hugo', 'Andrew', 'Mitch', 'Isabel', 'Ivan', 'Emily', 'Katrina', 'Rita', 'Wilma', 'Dean', 'Felix', 'Matthew', 'Irma', 'Maria', 'Michael']\n",
    "\n",
    "# month of appearence\n",
    "month = ['October', 'September', 'September', 'November', 'August', 'September', 'September', 'September', 'September', 'September', 'September', 'October', 'September', 'August', 'September', 'September', 'August', 'August', 'September', 'September', 'August', 'October', 'September', 'September', 'July', 'August', 'September', 'October', 'August', 'September', 'October', 'September', 'September', 'October']\n",
    "\n",
    "# year of appearence\n",
    "year = [1924, 1928, 1932, 1932, 1933, 1933, 1935, 1938, 1953, 1955, 1961, 1961, 1967, 1969, 1971, 1977, 1979, 1980, 1988, 1989, 1992, 1998, 2003, 2004, 2005, 2005, 2005, 2005, 2007, 2007, 2016, 2017, 2017, 2018]\n",
    "\n",
    "# maximal wind speed\n",
    "speed = [265, 260, 260, 275, 260, 260, 285, 260, 260, 275, 275, 260, 260, 275, 260, 275, 275, 290, 285, 260, 275, 280, 265, 265, 260, 275, 280, 285, 275, 275, 265, 280, 275, 260]\n",
    "\n",
    "# regions the hurricane hit\n",
    "areas = [['Central America', 'Mexico', 'Cuba', 'Florida', 'The Bahamas'], ['Lesser Antilles', 'The Bahamas', 'United States East Coast', 'Atlantic Canada'], ['The Bahamas', 'Northeastern United States'], ['Lesser Antilles', 'Jamaica', 'Cayman Islands', 'Cuba', 'The Bahamas', 'Bermuda'], ['The Bahamas', 'Cuba', 'Florida', 'Texas', 'Tamaulipas'], ['Jamaica', 'Yucatn Peninsula'], ['The Bahamas', 'Florida', 'Georgia', 'The Carolinas', 'Virginia'], ['Southeastern United States', 'Northeastern United States', 'Southwestern Quebec'], ['Bermuda', 'New England', 'Atlantic Canada'], ['Lesser Antilles', 'Central America'], ['Texas', 'Louisiana', 'Midwestern United States'], ['Central America'], ['The Caribbean', 'Mexico', 'Texas'], ['Cuba', 'United States Gulf Coast'], ['The Caribbean', 'Central America', 'Mexico', 'United States Gulf Coast'], ['Mexico'], ['The Caribbean', 'United States East Coast'], ['The Caribbean', 'Yucatn Peninsula', 'Mexico', 'South Texas'], ['Jamaica', 'Venezuela', 'Central America', 'Hispaniola', 'Mexico'], ['The Caribbean', 'United States East Coast'], ['The Bahamas', 'Florida', 'United States Gulf Coast'], ['Central America', 'Yucatn Peninsula', 'South Florida'], ['Greater Antilles', 'Bahamas', 'Eastern United States', 'Ontario'], ['The Caribbean', 'Venezuela', 'United States Gulf Coast'], ['Windward Islands', 'Jamaica', 'Mexico', 'Texas'], ['Bahamas', 'United States Gulf Coast'], ['Cuba', 'United States Gulf Coast'], ['Greater Antilles', 'Central America', 'Florida'], ['The Caribbean', 'Central America'], ['Nicaragua', 'Honduras'], ['Antilles', 'Venezuela', 'Colombia', 'United States East Coast', 'Atlantic Canada'], ['Cape Verde', 'The Caribbean', 'British Virgin Islands', 'U.S. Virgin Islands', 'Cuba', 'Florida'], ['Lesser Antilles', 'Virgin Islands', 'Puerto Rico', 'Dominican Republic', 'Turks and Caicos Islands'], ['Central America', 'United States Gulf Coast (especially Florida Panhandle)']]\n",
    "\n",
    "# damage in million\n",
    "damage = ['Schaden nicht aufgezeichnet', '100M', 'Schaden nicht aufgezeichnet', '40M', '27.9M', '5M', 'Schaden nicht aufgezeichnet', '306M', '2M', '65.8M', '326M', '60.3M', '208M', '1.42B', '25.4M', 'Schaden nicht aufgezeichnet', '1.54B', '1.24B', '7.1B', '10B', '26.5B', '6.2B', '5.37B', '23.3B', '1.01B', '125B', '12B', '29.4B', '1.76B', '720M', '15.1B', '64.8B', '91.6B', '25.1B']\n",
    "\n",
    "# caused deaths\n",
    "deaths = [90,4000,16,3103,179,184,408,682,5,1023,43,319,688,259,37,11,2068,269,318,107,65,19325,51,124,17,1836,125,87,45,133,603,138,3057,74]\n",
    "\n",
    "hurricanes = dict(\n",
    "    name=name, \n",
    "    month=month, \n",
    "    year=year, \n",
    "    speed=speed, \n",
    "    areas=areas, \n",
    "    damage=damage, \n",
    "    deaths=deaths)\n",
    "#hurricanes"
   ]
  },
  {
   "cell_type": "markdown",
   "id": "a507c5e1",
   "metadata": {},
   "source": [
    "***\n",
    "***Aufgabe 1 (Typumwandlung).*** Die Schäden wurden als Zeichenketten der Form `'100M'` bzw. `'20.9B'` abgelegt wobei `'M'` für Millionen und `'B'` für Billionen steht.\n",
    "Damit lässt sich schlecht rechnen.\n",
    "\n",
    "Schreiben Sie eine Funktion ``damage_to_float(damage)``, welche aus der Schadensliste ``damage`` bzw. ``hurricanes['damage']`` eine neue neue Liste aus Fließkommazahlen erzeugt und zurückgibt.\n",
    "Ersetzen Sie dabei ``'Schaden nicht aufgezeichnet'`` durch ``None``.\n",
    "\n",
    "Führen Sie Ihre Umwandlung duch und legen Sie die Liste in ``hurricanes['damage']`` ab."
   ]
  },
  {
   "cell_type": "code",
   "execution_count": 2,
   "id": "d25cebd8",
   "metadata": {
    "scrolled": true,
    "tags": [
     "otter_assign_solution_cell"
    ]
   },
   "outputs": [],
   "source": [
    "# BEGIN SOLUTION\n",
    "def to_float(text):\n",
    "\n",
    "    if text == 'Schaden nicht aufgezeichnet':\n",
    "        return None\n",
    "    elif text[-1] == 'M':\n",
    "        return float(text[:-1:]) * 1e6\n",
    "    else:\n",
    "        return float(text[:-1:]) * 1e9\n",
    "    \n",
    "def damage_to_float(damage):\n",
    "    return list(map(lambda text: to_float(text), damage))\n",
    "\n",
    "hurricanes['damage'] = damage_to_float(hurricanes['damage'])\n",
    "# END SOLUTION"
   ]
  },
  {
   "cell_type": "code",
   "execution_count": null,
   "id": "b715dfc2",
   "metadata": {
    "deletable": false,
    "editable": false
   },
   "outputs": [],
   "source": [
    "grader.check(\"q1\")"
   ]
  },
  {
   "cell_type": "markdown",
   "id": "34395d58",
   "metadata": {},
   "source": [
    "***Aufgabe 2 (Kostenschätzung).*** Schreiben Sie eine Funktion ``estimate_costs(damage_list)``, die die Gesamtkosten, aller aufgezeichneten Hurrikans schätzt.\n",
    "Fehlt eine Aufzeichnung werten Sie dies als 0 Kosten (Unterschätzung).\n",
    "Führen Sie die Schätzung durch.\n",
    "Nutzten Sie die Ergebnisse aus Aufgabe 1 (d.h. ``damage_list`` ist eine Liste aus Fließkommazahlen und ``None``)."
   ]
  },
  {
   "cell_type": "code",
   "execution_count": 6,
   "id": "fa9dd6f0",
   "metadata": {
    "tags": [
     "otter_assign_solution_cell"
    ]
   },
   "outputs": [],
   "source": [
    "def estimate_costs(damage_list):\n",
    "    # BEGIN SOLUTION\n",
    "    estimate = 0\n",
    "    for damage in damage_list:\n",
    "        estimate += damage if damage != None else 0\n",
    "    return estimate\n",
    "    # END SOLUTION"
   ]
  },
  {
   "cell_type": "code",
   "execution_count": null,
   "id": "8b32d193",
   "metadata": {
    "deletable": false,
    "editable": false
   },
   "outputs": [],
   "source": [
    "grader.check(\"q2\")"
   ]
  },
  {
   "cell_type": "markdown",
   "id": "d793825a",
   "metadata": {},
   "source": [
    "***Aufgabe 3 (Durchschnittsgeschwindigkeit).*** Schreiben Sie eine Funktion ``avg_speed(speed_list)``, die die durchschnittliche Maximalgeschwindigkeit der Hurrikans berechnet. Dabei ist ``speed_list`` eine Liste aus Zahalen wie ``hurricanes['speed']``."
   ]
  },
  {
   "cell_type": "code",
   "execution_count": 10,
   "id": "0aec4706",
   "metadata": {
    "tags": [
     "otter_assign_solution_cell"
    ]
   },
   "outputs": [],
   "source": [
    "def avg_speed(speed_list):\n",
    "    # BEGIN SOLUTION\n",
    "    if len(speed_list) == 0:\n",
    "        return 0\n",
    "    return sum(speed_list) / len(speed_list)\n",
    "    # END SOLUTION"
   ]
  },
  {
   "cell_type": "code",
   "execution_count": null,
   "id": "a16cc00e",
   "metadata": {
    "deletable": false,
    "editable": false
   },
   "outputs": [],
   "source": [
    "grader.check(\"q3\")"
   ]
  },
  {
   "cell_type": "markdown",
   "id": "9c5d848e",
   "metadata": {},
   "source": [
    "***Aufgabe 4 (Array of Structures).*** Schreiben Sie eine Funktion ``extract(hurricanes, i)``, welche den ``i``-ten Hurrikan Ihres Wörterbuchs ``hurricanes`` in ein Wörterbuch der folgenden Form umwandelt:\n",
    "\n",
    "```python\n",
    "{'name': 'Cuba I',\n",
    " 'month': 'October',\n",
    " 'year': 1924,\n",
    " 'speed': 265,\n",
    " 'areas': ['Central America', 'Mexico', 'Cuba', 'Florida', 'The Bahamas'],\n",
    " 'damage': None,\n",
    " 'deaths': 90}, ...\n",
    "``` \n",
    "\n",
    "umwandelt.\n",
    "**Hinweis:** Die Schlüssel des Ergebnisses gleichen den Schlüsseln des Wörterbuchs ``hurricanes``!"
   ]
  },
  {
   "cell_type": "code",
   "execution_count": 13,
   "id": "4796cbfc",
   "metadata": {
    "tags": [
     "otter_assign_solution_cell"
    ]
   },
   "outputs": [],
   "source": [
    "def extract(hurricanes, i):\n",
    "    # BEGIN SOLUTION\n",
    "    hurricane = {}\n",
    "    for key in hurricanes.keys():        \n",
    "        hurricane[key] = hurricanes[key][i]\n",
    "    return hurricane\n",
    "    # END SOLUTION"
   ]
  },
  {
   "cell_type": "code",
   "execution_count": null,
   "id": "2c244b57",
   "metadata": {
    "deletable": false,
    "editable": false
   },
   "outputs": [],
   "source": [
    "grader.check(\"q4\")"
   ]
  },
  {
   "cell_type": "markdown",
   "id": "2da6f6d3",
   "metadata": {},
   "source": [
    "***Aufgabe 5 (Array of Structures).*** Schreiben Sie eine Funktion ``to_array_of_structures(hurricanes)``, die aus dem Wörterbuch ``hurricanes`` eine Liste aus Wörterbüchern erstellt und zurückliefert. (Verwenden Sie Ihre zuvor definierte Funktion ``extract(hurricanes, i)``."
   ]
  },
  {
   "cell_type": "code",
   "execution_count": 15,
   "id": "0c13932c",
   "metadata": {
    "tags": [
     "otter_assign_solution_cell"
    ]
   },
   "outputs": [],
   "source": [
    "def to_array_of_structures(hurricanes):\n",
    "    # BEGIN SOLUTION\n",
    "    hurricane_list = []\n",
    "    for i in range(len(hurricanes['damage'])):\n",
    "        hurricane_list.append(extract(hurricanes, i))\n",
    "    return hurricane_list\n",
    "    # END SOLUTION\n",
    "hurricane_list = to_array_of_structures(hurricanes)"
   ]
  },
  {
   "cell_type": "markdown",
   "id": "8d91fc2f",
   "metadata": {},
   "source": [
    "***Aufgabe 6 (Gebiete).*** Schreiben Sie eine Funktion ``extract_areas(hurricane_list)`` die alle Gebiete in denen ein Hurrikan aufgetreten ist aus Ihrer Liste aus Hurrikanobjekten zusammenfasst und zurückliefert. Es sollen keine doppelten Einträge entstehen. Welche Datenstruktur eignet sich dafür?"
   ]
  },
  {
   "cell_type": "code",
   "execution_count": 16,
   "id": "157ab4e7",
   "metadata": {
    "tags": [
     "otter_assign_solution_cell"
    ]
   },
   "outputs": [],
   "source": [
    "def extract_areas(hurricane_list):\n",
    "    # BEGIN SOLUTION\n",
    "    areas = set()\n",
    "\n",
    "    for hurricane in hurricane_list:\n",
    "        areas |= set(hurricane['areas'])\n",
    "    return areas\n",
    "    # END SOLUTION\n",
    "areas = extract_areas(hurricane_list)"
   ]
  },
  {
   "cell_type": "markdown",
   "id": "3123ec74",
   "metadata": {},
   "source": [
    "***Aufgabe 7 (Gebiete).*** Wir möchten nun anstatt Hurrikans unsere Gebiete besser analyiseren. Dazu haben wir eine Funktion ``extract_area_information(hurricane_list)`` geschrieben, die ein Wörterbuch aus Wörterbüchern aus der Liste der Hurikans erzeugt.\n",
    "\n",
    "Beschreiben Sie in Ihren Worten **was** ``extract_areas(hurricane_list)`` erzeugt. Führen Sie die Funktion aus. Was können Sie aus den Einträgen des Wörterbuchs herauslesen?"
   ]
  },
  {
   "cell_type": "code",
   "execution_count": 17,
   "id": "c79456c3",
   "metadata": {
    "scrolled": true
   },
   "outputs": [
    {
     "data": {
      "text/plain": [
       "{'Central America': {'years': [1924,\n",
       "   1955,\n",
       "   1961,\n",
       "   1971,\n",
       "   1988,\n",
       "   1998,\n",
       "   2005,\n",
       "   2007,\n",
       "   2018],\n",
       "  'avg_speed': 271.6666666666667,\n",
       "  'avg_damage': 26816216666.666668,\n",
       "  'avg_deaths': 7451.516666666667},\n",
       " 'Mexico': {'years': [1924, 1967, 1971, 1977, 1980, 1988, 2005],\n",
       "  'avg_speed': 270.7142857142857,\n",
       "  'avg_damage': 2058183333.3333333,\n",
       "  'avg_deaths': 402.6833333333334},\n",
       " 'Cuba': {'years': [1924, 1932, 1933, 1969, 2005, 2017],\n",
       "  'avg_speed': 272.5,\n",
       "  'avg_damage': 17522246666.666668,\n",
       "  'avg_deaths': 785.9666666666666},\n",
       " 'Florida': {'years': [1924, 1933, 1935, 1992, 2005, 2017],\n",
       "  'avg_speed': 275.0,\n",
       "  'avg_damage': 29438913333.333336,\n",
       "  'avg_deaths': 209.06666666666663},\n",
       " 'The Bahamas': {'years': [1924, 1928, 1932, 1932, 1933, 1935, 1992],\n",
       "  'avg_speed': 268.57142857142856,\n",
       "  'avg_damage': 8870580000.0,\n",
       "  'avg_deaths': 1682.2333333333331},\n",
       " 'Lesser Antilles': {'years': [1928, 1932, 1955, 2017],\n",
       "  'avg_speed': 271.25,\n",
       "  'avg_damage': 18384566666.666668,\n",
       "  'avg_deaths': 2640.0666666666666},\n",
       " 'United States East Coast': {'years': [1928, 1979, 1989, 2016],\n",
       "  'avg_speed': 265.0,\n",
       "  'avg_damage': 8815000000.0,\n",
       "  'avg_deaths': 2208.1},\n",
       " 'Atlantic Canada': {'years': [1928, 1953, 2016],\n",
       "  'avg_speed': 261.6666666666667,\n",
       "  'avg_damage': 3045666666.6666665,\n",
       "  'avg_deaths': 1122.2666666666667},\n",
       " 'Northeastern United States': {'years': [1932, 1938],\n",
       "  'avg_speed': 260.0,\n",
       "  'avg_damage': 102000000.0,\n",
       "  'avg_deaths': 235.33333333333334},\n",
       " 'Jamaica': {'years': [1932, 1933, 1988, 2005],\n",
       "  'avg_speed': 270.0,\n",
       "  'avg_damage': 1681666666.6666667,\n",
       "  'avg_deaths': 677.0166666666667},\n",
       " 'Cayman Islands': {'years': [1932],\n",
       "  'avg_speed': 275.0,\n",
       "  'avg_damage': 6666666.666666667,\n",
       "  'avg_deaths': 517.1666666666666},\n",
       " 'Bermuda': {'years': [1932, 1953],\n",
       "  'avg_speed': 267.5,\n",
       "  'avg_damage': 7333333.333333334,\n",
       "  'avg_deaths': 518.8333333333333},\n",
       " 'Texas': {'years': [1933, 1961, 1967, 2005],\n",
       "  'avg_speed': 263.75,\n",
       "  'avg_damage': 436080000.0,\n",
       "  'avg_deaths': 283.7166666666667},\n",
       " 'Tamaulipas': {'years': [1933],\n",
       "  'avg_speed': 260.0,\n",
       "  'avg_damage': 5580000.0,\n",
       "  'avg_deaths': 35.8},\n",
       " 'Yucatn Peninsula': {'years': [1933, 1980, 1998],\n",
       "  'avg_speed': 276.6666666666667,\n",
       "  'avg_damage': 2379166666.666667,\n",
       "  'avg_deaths': 6600.916666666667},\n",
       " 'Georgia': {'years': [1935],\n",
       "  'avg_speed': 285.0,\n",
       "  'avg_damage': 0,\n",
       "  'avg_deaths': 81.6},\n",
       " 'The Carolinas': {'years': [1935],\n",
       "  'avg_speed': 285.0,\n",
       "  'avg_damage': 0,\n",
       "  'avg_deaths': 81.6},\n",
       " 'Virginia': {'years': [1935],\n",
       "  'avg_speed': 285.0,\n",
       "  'avg_damage': 0,\n",
       "  'avg_deaths': 81.6},\n",
       " 'Southeastern United States': {'years': [1938],\n",
       "  'avg_speed': 260.0,\n",
       "  'avg_damage': 102000000.0,\n",
       "  'avg_deaths': 227.33333333333334},\n",
       " 'Southwestern Quebec': {'years': [1938],\n",
       "  'avg_speed': 260.0,\n",
       "  'avg_damage': 102000000.0,\n",
       "  'avg_deaths': 227.33333333333334},\n",
       " 'New England': {'years': [1953],\n",
       "  'avg_speed': 260.0,\n",
       "  'avg_damage': 666666.6666666666,\n",
       "  'avg_deaths': 1.6666666666666667},\n",
       " 'Louisiana': {'years': [1961],\n",
       "  'avg_speed': 275.0,\n",
       "  'avg_damage': 108666666.66666667,\n",
       "  'avg_deaths': 14.333333333333334},\n",
       " 'Midwestern United States': {'years': [1961],\n",
       "  'avg_speed': 275.0,\n",
       "  'avg_damage': 108666666.66666667,\n",
       "  'avg_deaths': 14.333333333333334},\n",
       " 'The Caribbean': {'years': [1967, 1971, 1979, 1980, 1989, 2004, 2007, 2017],\n",
       "  'avg_speed': 270.625,\n",
       "  'avg_damage': 25602350000.0,\n",
       "  'avg_deaths': 1480.1666666666665},\n",
       " 'United States Gulf Coast': {'years': [1969, 1971, 1992, 2004, 2005, 2005],\n",
       "  'avg_speed': 271.6666666666667,\n",
       "  'avg_damage': 85816350000.0,\n",
       "  'avg_deaths': 1182.25},\n",
       " 'South Texas': {'years': [1980],\n",
       "  'avg_speed': 290.0,\n",
       "  'avg_damage': 310000000.0,\n",
       "  'avg_deaths': 67.25},\n",
       " 'Venezuela': {'years': [1988, 2004, 2016],\n",
       "  'avg_speed': 271.6666666666667,\n",
       "  'avg_damage': 12206666666.666668,\n",
       "  'avg_deaths': 225.53333333333333},\n",
       " 'Hispaniola': {'years': [1988],\n",
       "  'avg_speed': 285.0,\n",
       "  'avg_damage': 1420000000.0,\n",
       "  'avg_deaths': 63.6},\n",
       " 'South Florida': {'years': [1998],\n",
       "  'avg_speed': 280.0,\n",
       "  'avg_damage': 2066666666.6666667,\n",
       "  'avg_deaths': 6441.666666666667},\n",
       " 'Greater Antilles': {'years': [2003, 2005],\n",
       "  'avg_speed': 275.0,\n",
       "  'avg_damage': 11142500000.0,\n",
       "  'avg_deaths': 41.75},\n",
       " 'Bahamas': {'years': [2003, 2005],\n",
       "  'avg_speed': 270.0,\n",
       "  'avg_damage': 63842500000.0,\n",
       "  'avg_deaths': 930.75},\n",
       " 'Eastern United States': {'years': [2003],\n",
       "  'avg_speed': 265.0,\n",
       "  'avg_damage': 1342500000.0,\n",
       "  'avg_deaths': 12.75},\n",
       " 'Ontario': {'years': [2003],\n",
       "  'avg_speed': 265.0,\n",
       "  'avg_damage': 1342500000.0,\n",
       "  'avg_deaths': 12.75},\n",
       " 'Windward Islands': {'years': [2005],\n",
       "  'avg_speed': 260.0,\n",
       "  'avg_damage': 252500000.0,\n",
       "  'avg_deaths': 4.25},\n",
       " 'Nicaragua': {'years': [2007],\n",
       "  'avg_speed': 275.0,\n",
       "  'avg_damage': 360000000.0,\n",
       "  'avg_deaths': 66.5},\n",
       " 'Honduras': {'years': [2007],\n",
       "  'avg_speed': 275.0,\n",
       "  'avg_damage': 360000000.0,\n",
       "  'avg_deaths': 66.5},\n",
       " 'Antilles': {'years': [2016],\n",
       "  'avg_speed': 265.0,\n",
       "  'avg_damage': 3020000000.0,\n",
       "  'avg_deaths': 120.6},\n",
       " 'Colombia': {'years': [2016],\n",
       "  'avg_speed': 265.0,\n",
       "  'avg_damage': 3020000000.0,\n",
       "  'avg_deaths': 120.6},\n",
       " 'Cape Verde': {'years': [2017],\n",
       "  'avg_speed': 280.0,\n",
       "  'avg_damage': 10800000000.0,\n",
       "  'avg_deaths': 23.0},\n",
       " 'British Virgin Islands': {'years': [2017],\n",
       "  'avg_speed': 280.0,\n",
       "  'avg_damage': 10800000000.0,\n",
       "  'avg_deaths': 23.0},\n",
       " 'U.S. Virgin Islands': {'years': [2017],\n",
       "  'avg_speed': 280.0,\n",
       "  'avg_damage': 10800000000.0,\n",
       "  'avg_deaths': 23.0},\n",
       " 'Virgin Islands': {'years': [2017],\n",
       "  'avg_speed': 275.0,\n",
       "  'avg_damage': 18320000000.0,\n",
       "  'avg_deaths': 611.4},\n",
       " 'Puerto Rico': {'years': [2017],\n",
       "  'avg_speed': 275.0,\n",
       "  'avg_damage': 18320000000.0,\n",
       "  'avg_deaths': 611.4},\n",
       " 'Dominican Republic': {'years': [2017],\n",
       "  'avg_speed': 275.0,\n",
       "  'avg_damage': 18320000000.0,\n",
       "  'avg_deaths': 611.4},\n",
       " 'Turks and Caicos Islands': {'years': [2017],\n",
       "  'avg_speed': 275.0,\n",
       "  'avg_damage': 18320000000.0,\n",
       "  'avg_deaths': 611.4},\n",
       " 'United States Gulf Coast (especially Florida Panhandle)': {'years': [2018],\n",
       "  'avg_speed': 260.0,\n",
       "  'avg_damage': 12550000000.0,\n",
       "  'avg_deaths': 37.0}}"
      ]
     },
     "execution_count": 17,
     "metadata": {},
     "output_type": "execute_result"
    }
   ],
   "source": [
    "def extract_area_information(hurricane_list):\n",
    "    areas = {}\n",
    "    for hurricane in hurricane_list:\n",
    "        for areaname in hurricane['areas']:\n",
    "            if areaname not in areas:\n",
    "                areas[areaname] = {}\n",
    "            \n",
    "            if 'years' not in areas[areaname]:\n",
    "                areas[areaname]['years'] = []\n",
    "            if 'avg_speed' not in areas[areaname]:\n",
    "                areas[areaname]['avg_speed'] = 0\n",
    "            if 'avg_damage' not in areas[areaname]:\n",
    "                areas[areaname]['avg_damage'] = 0\n",
    "            if 'avg_deaths' not in areas[areaname]:\n",
    "                areas[areaname]['avg_deaths'] = 0\n",
    "            \n",
    "            nareas = len(hurricane['areas'])\n",
    "            areas[areaname]['years'].append(hurricane['year'])\n",
    "            areas[areaname]['avg_damage'] += hurricane['damage'] / nareas if hurricane['damage'] != None else 0\n",
    "            areas[areaname]['avg_deaths'] += hurricane['deaths'] / nareas\n",
    "            areas[areaname]['avg_speed'] += hurricane['speed']\n",
    "        \n",
    "    for areaname, area in areas.items():\n",
    "        areas[areaname]['avg_speed'] /= len(areas[areaname]['years'])\n",
    "    return areas\n",
    "extract_area_information(hurricane_list)"
   ]
  },
  {
   "cell_type": "markdown",
   "id": "dca0edd3",
   "metadata": {},
   "source": [
    "_Type your answer here, replacing this text._"
   ]
  },
  {
   "cell_type": "markdown",
   "id": "c422c457",
   "metadata": {
    "tags": [
     "otter_assign_solution_cell"
    ]
   },
   "source": [
    "Die Schlüssel des Wörterbuchs welches uns die Funktion ``extract_area_information(hurricane_list)`` erstellt sind die Namen der Gebiete. Jeder Wert ist ein Wörterbuch welches die Informationen über das Gebiet bzgl. Auswirkungen der Hurrikans enthält. Da aus den Daten nicht hervorgeht wie viel Schaden und Tote und für ein Gebiet insgesamt entstanden sind, wird dieser auf die Gebiete in gleichen Anteilen aufgeteilt (was natürlich eine grobe Schätzung ist). Zudem wird die durschnittliche Maximalgeschwindigkeit der Hurrikans, welche das Gebiet getroffen haben berechnet."
   ]
  },
  {
   "cell_type": "markdown",
   "id": "aa15644c",
   "metadata": {
    "deletable": false,
    "editable": false
   },
   "source": [
    "---\n",
    "\n",
    "To double-check your work, the cell below will rerun all of the autograder tests."
   ]
  },
  {
   "cell_type": "code",
   "execution_count": null,
   "id": "dc8097b3",
   "metadata": {
    "deletable": false,
    "editable": false
   },
   "outputs": [],
   "source": [
    "grader.check_all()"
   ]
  },
  {
   "cell_type": "markdown",
   "id": "9601174c",
   "metadata": {
    "deletable": false,
    "editable": false
   },
   "source": [
    "## Submission\n",
    "\n",
    "Make sure you have run all cells in your notebook in order before running the cell below, so that all images/graphs appear in the output. The cell below will generate a zip file for you to submit."
   ]
  },
  {
   "cell_type": "code",
   "execution_count": null,
   "id": "d370c47d",
   "metadata": {
    "deletable": false,
    "editable": false
   },
   "outputs": [],
   "source": [
    "grader.export(pdf=False, force_save=True)"
   ]
  },
  {
   "cell_type": "markdown",
   "id": "679ab8c9",
   "metadata": {},
   "source": [
    " "
   ]
  }
 ],
 "metadata": {
  "kernelspec": {
   "display_name": "Python 3 (ipykernel)",
   "language": "python",
   "name": "python3"
  },
  "language_info": {
   "codemirror_mode": {
    "name": "ipython",
    "version": 3
   },
   "file_extension": ".py",
   "mimetype": "text/x-python",
   "name": "python",
   "nbconvert_exporter": "python",
   "pygments_lexer": "ipython3",
   "version": "3.9.5"
  },
  "otter": {
   "tests": {
    "q1": {
     "name": "q1",
     "points": null,
     "suites": [
      {
       "cases": [
        {
         "code": ">>> damage_to_float(['Schaden nicht aufgezeichnet', '1M', '2.3B']) == [None, 1000000.0, 2300000000.0]\nTrue",
         "hidden": false,
         "locked": false
        },
        {
         "code": ">>> damage_to_float(['Schaden nicht aufgezeichnet', '102.13M', '2.3B', 'Schaden nicht aufgezeichnet']) == [None, 102130000.0, 2300000000.0, None]\nTrue",
         "hidden": false,
         "locked": false
        }
       ],
       "scored": true,
       "setup": "",
       "teardown": "",
       "type": "doctest"
      }
     ]
    },
    "q2": {
     "name": "q2",
     "points": null,
     "suites": [
      {
       "cases": [
        {
         "code": ">>> estimate_costs([None, 1.2, 3.5, None]) == 4.7\nTrue",
         "hidden": false,
         "locked": false
        },
        {
         "code": ">>> estimate_costs([]) == 0.0\nTrue",
         "hidden": false,
         "locked": false
        },
        {
         "code": ">>> estimate_costs([None]) == 0.0\nTrue",
         "hidden": false,
         "locked": false
        }
       ],
       "scored": true,
       "setup": "",
       "teardown": "",
       "type": "doctest"
      }
     ]
    },
    "q3": {
     "name": "q3",
     "points": null,
     "suites": [
      {
       "cases": [
        {
         "code": ">>> avg_speed([]) == 0\nTrue",
         "hidden": false,
         "locked": false
        },
        {
         "code": ">>> avg_speed([1.3, 1.4]) == 1.35\nTrue",
         "hidden": false,
         "locked": false
        }
       ],
       "scored": true,
       "setup": "",
       "teardown": "",
       "type": "doctest"
      }
     ]
    },
    "q4": {
     "name": "q4",
     "points": null,
     "suites": [
      {
       "cases": [
        {
         "code": ">>> test_hurricanes = {'name': ['Cuba I',\n...   'San Felipe II Okeechobee',\n...   'Bahamas',\n...   'Cuba II',\n...   'CubaBrownsville',\n...   'Tampico',\n...   'Labor Day',\n...   'New England',\n...   'Carol',\n...   'Janet',\n...   'Carla',\n...   'Hattie',\n...   'Beulah',\n...   'Camille',\n...   'Edith',\n...   'Anita',\n...   'David',\n...   'Allen',\n...   'Gilbert',\n...   'Hugo',\n...   'Andrew',\n...   'Mitch',\n...   'Isabel',\n...   'Ivan',\n...   'Emily',\n...   'Katrina',\n...   'Rita',\n...   'Wilma',\n...   'Dean',\n...   'Felix',\n...   'Matthew',\n...   'Irma',\n...   'Maria',\n...   'Michael'],\n...  'month': ['October',\n...   'September',\n...   'September',\n...   'November',\n...   'August',\n...   'September',\n...   'September',\n...   'September',\n...   'September',\n...   'September',\n...   'September',\n...   'October',\n...   'September',\n...   'August',\n...   'September',\n...   'September',\n...   'August',\n...   'August',\n...   'September',\n...   'September',\n...   'August',\n...   'October',\n...   'September',\n...   'September',\n...   'July',\n...   'August',\n...   'September',\n...   'October',\n...   'August',\n...   'September',\n...   'October',\n...   'September',\n...   'September',\n...   'October'],\n...  'year': [1924,\n...   1928,\n...   1932,\n...   1932,\n...   1933,\n...   1933,\n...   1935,\n...   1938,\n...   1953,\n...   1955,\n...   1961,\n...   1961,\n...   1967,\n...   1969,\n...   1971,\n...   1977,\n...   1979,\n...   1980,\n...   1988,\n...   1989,\n...   1992,\n...   1998,\n...   2003,\n...   2004,\n...   2005,\n...   2005,\n...   2005,\n...   2005,\n...   2007,\n...   2007,\n...   2016,\n...   2017,\n...   2017,\n...   2018],\n...  'speed': [265,\n...   260,\n...   260,\n...   275,\n...   260,\n...   260,\n...   285,\n...   260,\n...   260,\n...   275,\n...   275,\n...   260,\n...   260,\n...   275,\n...   260,\n...   275,\n...   275,\n...   290,\n...   285,\n...   260,\n...   275,\n...   280,\n...   265,\n...   265,\n...   260,\n...   275,\n...   280,\n...   285,\n...   275,\n...   275,\n...   265,\n...   280,\n...   275,\n...   260],\n...  'areas': [['Central America', 'Mexico', 'Cuba', 'Florida', 'The Bahamas'],\n...   ['Lesser Antilles',\n...    'The Bahamas',\n...    'United States East Coast',\n...    'Atlantic Canada'],\n...   ['The Bahamas', 'Northeastern United States'],\n...   ['Lesser Antilles',\n...    'Jamaica',\n...    'Cayman Islands',\n...    'Cuba',\n...    'The Bahamas',\n...    'Bermuda'],\n...   ['The Bahamas', 'Cuba', 'Florida', 'Texas', 'Tamaulipas'],\n...   ['Jamaica', 'Yucatn Peninsula'],\n...   ['The Bahamas', 'Florida', 'Georgia', 'The Carolinas', 'Virginia'],\n...   ['Southeastern United States',\n...    'Northeastern United States',\n...    'Southwestern Quebec'],\n...   ['Bermuda', 'New England', 'Atlantic Canada'],\n...   ['Lesser Antilles', 'Central America'],\n...   ['Texas', 'Louisiana', 'Midwestern United States'],\n...   ['Central America'],\n...   ['The Caribbean', 'Mexico', 'Texas'],\n...   ['Cuba', 'United States Gulf Coast'],\n...   ['The Caribbean', 'Central America', 'Mexico', 'United States Gulf Coast'],\n...   ['Mexico'],\n...   ['The Caribbean', 'United States East Coast'],\n...   ['The Caribbean', 'Yucatn Peninsula', 'Mexico', 'South Texas'],\n...   ['Jamaica', 'Venezuela', 'Central America', 'Hispaniola', 'Mexico'],\n...   ['The Caribbean', 'United States East Coast'],\n...   ['The Bahamas', 'Florida', 'United States Gulf Coast'],\n...   ['Central America', 'Yucatn Peninsula', 'South Florida'],\n...   ['Greater Antilles', 'Bahamas', 'Eastern United States', 'Ontario'],\n...   ['The Caribbean', 'Venezuela', 'United States Gulf Coast'],\n...   ['Windward Islands', 'Jamaica', 'Mexico', 'Texas'],\n...   ['Bahamas', 'United States Gulf Coast'],\n...   ['Cuba', 'United States Gulf Coast'],\n...   ['Greater Antilles', 'Central America', 'Florida'],\n...   ['The Caribbean', 'Central America'],\n...   ['Nicaragua', 'Honduras'],\n...   ['Antilles',\n...    'Venezuela',\n...    'Colombia',\n...    'United States East Coast',\n...    'Atlantic Canada'],\n...   ['Cape Verde',\n...    'The Caribbean',\n...    'British Virgin Islands',\n...    'U.S. Virgin Islands',\n...    'Cuba',\n...    'Florida'],\n...   ['Lesser Antilles',\n...    'Virgin Islands',\n...    'Puerto Rico',\n...    'Dominican Republic',\n...    'Turks and Caicos Islands'],\n...   ['Central America',\n...    'United States Gulf Coast (especially Florida Panhandle)']],\n...  'damage': ['Schaden nicht aufgezeichnet',\n...   '100M',\n...   'Schaden nicht aufgezeichnet',\n...   '40M',\n...   '27.9M',\n...   '5M',\n...   'Schaden nicht aufgezeichnet',\n...   '306M',\n...   '2M',\n...   '65.8M',\n...   '326M',\n...   '60.3M',\n...   '208M',\n...   '1.42B',\n...   '25.4M',\n...   'Schaden nicht aufgezeichnet',\n...   '1.54B',\n...   '1.24B',\n...   '7.1B',\n...   '10B',\n...   '26.5B',\n...   '6.2B',\n...   '5.37B',\n...   '23.3B',\n...   '1.01B',\n...   '125B',\n...   '12B',\n...   '29.4B',\n...   '1.76B',\n...   '720M',\n...   '15.1B',\n...   '64.8B',\n...   '91.6B',\n...   '25.1B'],\n...  'deaths': [90,\n...   4000,\n...   16,\n...   3103,\n...   179,\n...   184,\n...   408,\n...   682,\n...   5,\n...   1023,\n...   43,\n...   319,\n...   688,\n...   259,\n...   37,\n...   11,\n...   2068,\n...   269,\n...   318,\n...   107,\n...   65,\n...   19325,\n...   51,\n...   124,\n...   17,\n...   1836,\n...   125,\n...   87,\n...   45,\n...   133,\n...   603,\n...   138,\n...   3057,\n...   74]}\n>>> \n>>> extract(test_hurricanes,3) == {'name': 'Cuba II',\n...  'month': 'November',\n...  'year': 1932,\n...  'speed': 275,\n...  'areas': ['Lesser Antilles',\n...   'Jamaica',\n...   'Cayman Islands',\n...   'Cuba',\n...   'The Bahamas',\n...   'Bermuda'],\n...  'damage': '40M',\n...  'deaths': 3103}\nTrue",
         "hidden": false,
         "locked": false
        }
       ],
       "scored": true,
       "setup": "",
       "teardown": "",
       "type": "doctest"
      }
     ]
    }
   }
  }
 },
 "nbformat": 4,
 "nbformat_minor": 5
}
