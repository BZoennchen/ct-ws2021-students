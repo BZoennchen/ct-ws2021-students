{
 "cells": [
  {
   "cell_type": "markdown",
   "id": "2db982ed",
   "metadata": {},
   "source": [
    "# Vorlesung 04 - Computational Thinking\n",
    "**Prof. Dr.-Ing. Martin Hobelsberger, Dr. Benedikt Zönnchen**"
   ]
  },
  {
   "cell_type": "markdown",
   "id": "cfcab292",
   "metadata": {},
   "source": [
    "## 1 Wörterbücher\n",
    "\n",
    "Die letzte *built-in* Datenstruktur, welche wir besprechen, sind die sogenannten Wörterbücher (engl. [Dictionary](https://docs.python.org/3/library/stdtypes.html#dict)) ``dict``. \n",
    "Sie sind neben den Listen ``list`` die zweitwichtigste Datenstruktur in ``Python``.\n",
    "\n",
    "Wörterbücher sind **veränderlich** (engl. mutable).\n",
    "Wir können sie uns als zweispaltige Tabelle vorstellen.\n",
    "Eine Spalte beinhaltet die **eindeutigen** sog. **Schlüssel** ``key``s und die andere Spalte enthält die sog. **Werte**  ``value``s.\n",
    "Jede Zeile ist ein Tupel ``tuple`` aus ``key`` und ``value``.\n",
    "\n",
    "Da die Schlüssel im Sinne der Gleichheit ``==`` eindeutig sind, kann die Spalte aus ``key``s als Menge ``set`` an **Schlüsseln** angesehen werden.\n",
    "Die **Werte** müssen hingegen nicht eindeutig sein.\n",
    "Sind Sie wie ich ein Freund der Mathematik, so realisiert ein Wörterbücher ``dict`` eine mathematische Funktion:\n",
    "\n",
    "$$f : K \\rightarrow V,$$\n",
    "\n",
    "wobei $K$ die endliche Menge der Schlüssel ist.\n",
    "Es kann durchaus zwei **Schlüssel** geben, die auf den gleichen **Wert** ``value`` verweisen, doch müssen die Schlüssel eindeutig sein!\n",
    "Wie bei den Mengen, gilt für die **Schlüssel**, dass diese aus **unveränderlichen** Datentypen bestehen müssen."
   ]
  },
  {
   "cell_type": "markdown",
   "id": "0badd1f5",
   "metadata": {},
   "source": [
    "### 1.1 Erstellung\n",
    "\n",
    "Schlüssel: **eindeutige** Matrikelnummer, Wert: Nachname"
   ]
  },
  {
   "cell_type": "code",
   "execution_count": 100,
   "id": "eb87ac20",
   "metadata": {},
   "outputs": [],
   "source": [
    "# hint: default"
   ]
  },
  {
   "cell_type": "markdown",
   "id": "0c036685",
   "metadata": {},
   "source": [
    "Oder als Liste von Tupeln:"
   ]
  },
  {
   "cell_type": "code",
   "execution_count": null,
   "id": "eea790b3",
   "metadata": {},
   "outputs": [],
   "source": [
    "# hint: tuple list"
   ]
  },
  {
   "cell_type": "markdown",
   "id": "a2cc5bee",
   "metadata": {},
   "source": [
    "Oder, sofern alle Schlüssel Zeichenketten sind, durch die Argumentschreibweise:"
   ]
  },
  {
   "cell_type": "code",
   "execution_count": null,
   "id": "f5632803",
   "metadata": {},
   "outputs": [],
   "source": [
    "# hint: like a function call"
   ]
  },
  {
   "cell_type": "markdown",
   "id": "a4d5644f",
   "metadata": {},
   "source": [
    "Ein leeres Wörterbuch erzeugen wir mit:"
   ]
  },
  {
   "cell_type": "code",
   "execution_count": 101,
   "id": "873e9fba",
   "metadata": {},
   "outputs": [],
   "source": [
    "# hint: empty dict"
   ]
  },
  {
   "cell_type": "markdown",
   "id": "eba0ff6a",
   "metadata": {},
   "source": [
    "### 1.2 Zugriff\n",
    "\n",
    "Im Unterschied zu Mengen können wir auf die **Werte** ``value`` eines Wörterbuchs durch den passenden **Schlüssel** ``key`` zugreifen.\n",
    "Auch hierzu verwenden wir die eckigen Klammern.\n",
    "``dictionary[key]`` ergibt den ``value`` für den Schlüssel ``key`` des Wörterbuchs."
   ]
  },
  {
   "cell_type": "code",
   "execution_count": 91,
   "id": "055f537d",
   "metadata": {},
   "outputs": [],
   "source": [
    "students = {123451: 'Huber', 123451: 'Langer', 213131: 'Schmidt', 4131129: 'Langer'}\n",
    "\n",
    "# hint: access element"
   ]
  },
  {
   "cell_type": "markdown",
   "id": "03745040",
   "metadata": {},
   "source": [
    "Gibt es den Schlüssel nicht im Wörterbuch, so erhalten wir einen Fehler beim Zugriff."
   ]
  },
  {
   "cell_type": "code",
   "execution_count": null,
   "id": "2d970ec8",
   "metadata": {},
   "outputs": [],
   "source": [
    "# hint: access element of non existing key"
   ]
  },
  {
   "cell_type": "markdown",
   "id": "8005f449",
   "metadata": {},
   "source": [
    "Doch können wir stattdessen die Methode ``get(key)`` verwenden, welche ``None`` zurückgibt, falls es keinen Eintrag gibt:"
   ]
  },
  {
   "cell_type": "code",
   "execution_count": null,
   "id": "45375c5d",
   "metadata": {},
   "outputs": [],
   "source": [
    "# hint: fix it with get"
   ]
  },
  {
   "cell_type": "markdown",
   "id": "43433016",
   "metadata": {},
   "source": [
    "### 1.3 Veränderung\n",
    "\n",
    "Neuer Schlüssel:"
   ]
  },
  {
   "cell_type": "code",
   "execution_count": 92,
   "id": "5a750ef3",
   "metadata": {},
   "outputs": [],
   "source": [
    "students = dict([(123451, 'Huber'), (123451, 'Langer'), (213131, 'Schmidt'), (4131129, 'Langer')])\n",
    "\n",
    "# hint: add element"
   ]
  },
  {
   "cell_type": "markdown",
   "id": "bf4b6e70",
   "metadata": {},
   "source": [
    "Existierender Schlüssel:"
   ]
  },
  {
   "cell_type": "code",
   "execution_count": null,
   "id": "ed8c096a",
   "metadata": {},
   "outputs": [],
   "source": [
    "# hint: change existing element"
   ]
  },
  {
   "cell_type": "code",
   "execution_count": 93,
   "id": "3685ab3b",
   "metadata": {},
   "outputs": [],
   "source": [
    "# hint: no insertion and no change (new elmenet)\n"
   ]
  },
  {
   "cell_type": "markdown",
   "id": "3ecd4f26",
   "metadata": {},
   "source": [
    "Um zwei Wörterbücher zusammenzufügen können wir die Methode ``dict1.update(dict2)`` verwenden.\n",
    "Da es in einem Wörterbuch keine zwei gleichen Schlüssel gibt, wird der Eintrag in ``dict1`` durch den Eintrag in ``dict2`` verändert (update). In anderen Worten: Der Eintrag in ``dict2`` wird bevorzugt.\n",
    "Zudem wird ``dict1`` verändert, d.h. es wird **keine** Kopie angelegt:"
   ]
  },
  {
   "cell_type": "code",
   "execution_count": 94,
   "id": "d5f5a047",
   "metadata": {
    "scrolled": false
   },
   "outputs": [],
   "source": [
    "dict1 = {'name': 'Benedikt', 'age': 34}\n",
    "dict2 = {'name': 'Martha', 'hobbys': ['Tennis', 'Klettern', 'Zeichnen']}\n",
    "# hint: update => mutable\n"
   ]
  },
  {
   "cell_type": "code",
   "execution_count": null,
   "id": "d71e6d6b",
   "metadata": {},
   "outputs": [],
   "source": [
    "print(f'dict1: {dict1}')\n",
    "print(f'dict2: {dict2}')\n",
    "print(f'dict3: {dict3}')"
   ]
  },
  {
   "cell_type": "markdown",
   "id": "5a6f70e3",
   "metadata": {},
   "source": [
    "Um eine Kopie anzulegen verwenden wir den ``|``-Operator (Vereinigungs-Operator)."
   ]
  },
  {
   "cell_type": "code",
   "execution_count": 102,
   "id": "3f82a11b",
   "metadata": {},
   "outputs": [],
   "source": [
    "dict1 = {'name': 'Benedikt', 'age': 34}\n",
    "dict2 = {'name': 'Martha', 'hobbys': ['Tennis', 'Klettern', 'Zeichnen']}\n",
    "# hint: union => immutable\n"
   ]
  },
  {
   "cell_type": "code",
   "execution_count": null,
   "id": "d1570b1d",
   "metadata": {},
   "outputs": [],
   "source": [
    "print(f'dict1: {dict1}')\n",
    "print(f'dict2: {dict2}')\n",
    "print(f'dict3: {dict3}')"
   ]
  },
  {
   "cell_type": "markdown",
   "id": "0d991471",
   "metadata": {},
   "source": [
    "### 1.4 Ansichten\n",
    "\n",
    "Wir könne uns auch alle Schlüssel und Werte eines Wörterbuchs holen.\n",
    "Durch ``dictionary.keys()`` erhalten wir die Schlüssel, durch ``dictionary.values()`` die Werte, und durch ``dictionary.items()`` beide Spalten (als Liste von Tupeln):"
   ]
  },
  {
   "cell_type": "code",
   "execution_count": 103,
   "id": "c3ceb960",
   "metadata": {},
   "outputs": [
    {
     "name": "stdout",
     "output_type": "stream",
     "text": [
      "dictionary: {123451: 'Langer', 213131: 'Schmidt', 4131129: 'Langer'}\n",
      "\n"
     ]
    }
   ],
   "source": [
    "students = dict([(123451, 'Huber'), (123451, 'Langer'), (213131, 'Schmidt'), (4131129, 'Langer')])\n",
    "print(f'dictionary: {students}\\n')\n",
    "# hint: print values, items, and keys\n"
   ]
  },
  {
   "cell_type": "markdown",
   "id": "496eabd7",
   "metadata": {},
   "source": [
    "Es scheint so als wären dies alles Listen ``list``, doch das ist nicht korrekt.\n",
    "Zwar werden Sie wie Listen ausgegeben, doch sind sie **unveränderlich**."
   ]
  },
  {
   "cell_type": "code",
   "execution_count": 104,
   "id": "53d9e588",
   "metadata": {},
   "outputs": [],
   "source": [
    "students = dict([(123451, 'Huber'), (123451, 'Langer'), (213131, 'Schmidt'), (4131129, 'Langer')])\n",
    "# hint: change view element and fail\n"
   ]
  },
  {
   "cell_type": "code",
   "execution_count": 105,
   "id": "e0c2832f",
   "metadata": {},
   "outputs": [],
   "source": [
    "students = dict([(123451, 'Huber'), (123451, 'Langer'), (213131, 'Schmidt'), (4131129, 'Langer')])\n",
    "\n",
    "# hint: change element and shwo the effect in view"
   ]
  },
  {
   "cell_type": "markdown",
   "id": "1dcb51b8",
   "metadata": {},
   "source": [
    "### 1.5 Objektmodellierung mit Wörderbüchern\n",
    "\n",
    "Wörterbücher sind eine Vorstufe zu sog. Objekten, welche wir durch Klassen erzeugen.\n",
    "Das bedeutet wir können mit Wörterbüchern Daten von modellierten Objekten zusammenfassen.\n",
    "Unser Rechteck war ein erstes Beispiel:"
   ]
  },
  {
   "cell_type": "code",
   "execution_count": 106,
   "id": "5a03915f",
   "metadata": {
    "scrolled": true
   },
   "outputs": [],
   "source": [
    "# hint: modelling of a rectangle object"
   ]
  },
  {
   "cell_type": "markdown",
   "id": "5b5e617f",
   "metadata": {},
   "source": [
    "Wollen wir zum Beispiel Rechtecke zeichnen, könnten wir ein solches Wörterbuch verwenden um unsere Rechtecke zu beschreiben.\n",
    "\n",
    "Folgende Funktion zeichnet Rechtecke, welche durch unsere Datenstruktur (unsere Art des Wörterbuchs) definiert ist:"
   ]
  },
  {
   "cell_type": "code",
   "execution_count": 99,
   "id": "a07c9044",
   "metadata": {},
   "outputs": [],
   "source": [
    "import matplotlib.pyplot as plt\n",
    "from matplotlib.patches import Rectangle\n",
    "\n",
    "def draw_rect(rects):\n",
    "    \"\"\"\"\n",
    "    draws a list of rectangles.\n",
    "    \"\"\"\n",
    "    fig, ax = plt.subplots()\n",
    "    ax.plot()\n",
    "    ax.set_aspect(1.0)\n",
    "    \n",
    "    for rect in rects:\n",
    "        color = rect.get('color') if rect.get('color') != None else (0,0,0)\n",
    "        x1, y1 = rect['x'], rect['y']\n",
    "        width, height = rect['width'], rect['height']\n",
    "        rect_patch = Rectangle((x1, y1), width, height ,color=color)\n",
    "        ax.add_patch(rect_patch)\n",
    "\n",
    "    plt.show()"
   ]
  },
  {
   "cell_type": "code",
   "execution_count": 107,
   "id": "21c0ffbf",
   "metadata": {},
   "outputs": [],
   "source": [
    "# hint: show the drawing"
   ]
  },
  {
   "cell_type": "markdown",
   "id": "bd899f60",
   "metadata": {},
   "source": [
    "Warum nicht noch eine Farbe einführen:"
   ]
  },
  {
   "cell_type": "code",
   "execution_count": 108,
   "id": "b4f6b7e9",
   "metadata": {},
   "outputs": [],
   "source": [
    "# hint: add color and show the drawing"
   ]
  },
  {
   "cell_type": "markdown",
   "id": "6f683434",
   "metadata": {},
   "source": [
    "Warum nicht viele zufällige Rechtecke zeichnen:"
   ]
  },
  {
   "cell_type": "code",
   "execution_count": 109,
   "id": "b81605f9",
   "metadata": {},
   "outputs": [],
   "source": [
    "# hint: random.random() to generate random rects and draw them"
   ]
  },
  {
   "cell_type": "markdown",
   "id": "39dc0ddb",
   "metadata": {},
   "source": [
    "***\n",
    "***Übung 1.*** (persönliches Wörterbuch)\n",
    "\n",
    "Füllen Sie ein Wörterbuch mit Ihren persönlichen Daten (z.B. Vorname, Nachname, Alter, Hobbys, Eigenschaften). Überlegen Sie von welchen Datentyp (``int``, ``float``, ``bool``, ``list``, ``set`` ``dict``) die jeweiligen Werte ``values`` sein sollten und warum Ihre Wahl sinnvoll ist."
   ]
  },
  {
   "cell_type": "markdown",
   "id": "8ad4315d",
   "metadata": {},
   "source": [
    "***Übung 2.*** (persönliches Wörterbuch)\n",
    "\n",
    "Geben Sie alle Schlüssel und Werte Ihres Wörterbuchs aus.\n",
    "***"
   ]
  }
 ],
 "metadata": {
  "kernelspec": {
   "display_name": "Python 3 (ipykernel)",
   "language": "python",
   "name": "python3"
  },
  "language_info": {
   "codemirror_mode": {
    "name": "ipython",
    "version": 3
   },
   "file_extension": ".py",
   "mimetype": "text/x-python",
   "name": "python",
   "nbconvert_exporter": "python",
   "pygments_lexer": "ipython3",
   "version": "3.9.5"
  }
 },
 "nbformat": 4,
 "nbformat_minor": 5
}
