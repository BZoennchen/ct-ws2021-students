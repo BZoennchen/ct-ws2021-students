{
 "cells": [
  {
   "cell_type": "markdown",
   "id": "2db982ed",
   "metadata": {},
   "source": [
    "# Vorlesung 04 - Computational Thinking\n",
    "**Prof. Dr.-Ing. Martin Hobelsberger, Dr. Benedikt Zönnchen**"
   ]
  },
  {
   "cell_type": "markdown",
   "id": "cfcab292",
   "metadata": {},
   "source": [
    "## 1 Wörterbücher\n",
    "\n",
    "Die letzte *built-in* Datenstruktur, welche wir besprechen, sind die sogenannten Wörterbücher (engl. [Dictionary](https://docs.python.org/3/library/stdtypes.html#dict)) ``dict``. \n",
    "Sie sind neben den Listen ``list`` die zweitwichtigste Datenstruktur in ``Python``.\n",
    "\n",
    "Wörterbücher sind **veränderlich** (engl. mutable).\n",
    "Wir können sie uns als zweispaltige Tabelle vorstellen.\n",
    "Eine Spalte beinhaltet die **eindeutigen** sog. **Schlüssel** ``key``s und die andere Spalte enthält die sog. **Werte**  ``value``s.\n",
    "Jede Zeile ist ein Tupel ``tuple`` aus ``key`` und ``value``.\n",
    "\n",
    "Da die Schlüssel im Sinne der Gleichheit ``==`` eindeutig sind, kann die Spalte aus ``key``s als Menge ``set`` an **Schlüsseln** angesehen werden.\n",
    "Die **Werte** müssen hingegen nicht eindeutig sein.\n",
    "Sind Sie wie ich ein Freund der Mathematik, so realisiert ein Wörterbücher ``dict`` eine mathematische Funktion:\n",
    "\n",
    "$$f : K \\rightarrow V,$$\n",
    "\n",
    "wobei $K$ die endliche Menge der Schlüssel ist.\n",
    "Es kann durchaus zwei **Schlüssel** geben, die auf den gleichen **Wert** ``value`` verweisen, doch müssen die Schlüssel eindeutig sein!\n",
    "Wie bei den Mengen, gilt für die **Schlüssel**, dass diese aus **unveränderlichen** Datentypen bestehen müssen."
   ]
  },
  {
   "cell_type": "markdown",
   "id": "ab98c74c",
   "metadata": {},
   "source": [
    "### 1.1 Erstellung\n",
    "\n",
    "Schlüssel: **eindeutige** Matrikelnummer, Wert: Nachname"
   ]
  },
  {
   "cell_type": "code",
   "execution_count": 2,
   "id": "e80a0c18",
   "metadata": {},
   "outputs": [
    {
     "data": {
      "text/plain": [
       "{123451: 'Langer', 213131: 'Schmidt', 4131129: 'Langer'}"
      ]
     },
     "execution_count": 2,
     "metadata": {},
     "output_type": "execute_result"
    }
   ],
   "source": [
    "students = {123451: 'Huber', 123451: 'Langer', 213131: 'Schmidt', 4131129: 'Langer'}\n",
    "students"
   ]
  },
  {
   "cell_type": "markdown",
   "id": "96e05063",
   "metadata": {},
   "source": [
    "Oder als Liste von Tupeln:"
   ]
  },
  {
   "cell_type": "code",
   "execution_count": 3,
   "id": "7850ecc7",
   "metadata": {},
   "outputs": [
    {
     "data": {
      "text/plain": [
       "{123451: 'Langer', 213131: 'Schmidt', 4131129: 'Langer'}"
      ]
     },
     "execution_count": 3,
     "metadata": {},
     "output_type": "execute_result"
    }
   ],
   "source": [
    "students = dict([(123451, 'Huber'), (123451, 'Langer'), (213131, 'Schmidt'), (4131129, 'Langer')])\n",
    "students"
   ]
  },
  {
   "cell_type": "markdown",
   "id": "e55044ce",
   "metadata": {},
   "source": [
    "Oder, sofern alle Schlüssel Zeichenketten sind, durch die Argumentschreibweise:"
   ]
  },
  {
   "cell_type": "code",
   "execution_count": 4,
   "id": "dc9bf30c",
   "metadata": {},
   "outputs": [
    {
     "name": "stdout",
     "output_type": "stream",
     "text": [
      "{'shape': 'rectangle', 'x': 0.0, 'y': 1.0, 'width': 10, 'height': 20}\n"
     ]
    }
   ],
   "source": [
    "rectangle = dict(shape='rectangle', x=0.0, y=1.0, width=10, height=20)\n",
    "print(rectangle)"
   ]
  },
  {
   "cell_type": "markdown",
   "id": "1e14570d",
   "metadata": {},
   "source": [
    "Ein leeres Wörterbuch erzeugen wir mit:"
   ]
  },
  {
   "cell_type": "code",
   "execution_count": 6,
   "id": "2db664bc",
   "metadata": {},
   "outputs": [
    {
     "data": {
      "text/plain": [
       "{}"
      ]
     },
     "execution_count": 6,
     "metadata": {},
     "output_type": "execute_result"
    }
   ],
   "source": [
    "empty_dirct = {}\n",
    "empty_dirct"
   ]
  },
  {
   "cell_type": "markdown",
   "id": "cc54b69b",
   "metadata": {},
   "source": [
    "### 1.2 Zugriff\n",
    "\n",
    "Im Unterschied zu Mengen können wir auf die **Werte** ``value`` eines Wörterbuchs durch den passenden **Schlüssel** ``key`` zugreifen.\n",
    "Auch hierzu verwenden wir die eckigen Klammern.\n",
    "``dictionary[key]`` ergibt den ``value`` für den Schlüssel ``key`` des Wörterbuchs."
   ]
  },
  {
   "cell_type": "code",
   "execution_count": 8,
   "id": "794f5b69",
   "metadata": {},
   "outputs": [
    {
     "name": "stdout",
     "output_type": "stream",
     "text": [
      " key = 123451, value = Langer\n",
      " key = 4131129, value = Langer\n",
      " key = 213131, value = Schmidt\n"
     ]
    }
   ],
   "source": [
    "students = {123451: 'Huber', 123451: 'Langer', 213131: 'Schmidt', 4131129: 'Langer'}\n",
    "\n",
    "print(f' key = {123451}, value = {students[123451]}')\n",
    "print(f' key = {4131129}, value = {students[4131129]}')\n",
    "print(f' key = {213131}, value = {students[213131]}')"
   ]
  },
  {
   "cell_type": "markdown",
   "id": "b4818140",
   "metadata": {},
   "source": [
    "Gibt es den Schlüssel nicht im Wörterbuch, so erhalten wir einen Fehler beim Zugriff."
   ]
  },
  {
   "cell_type": "code",
   "execution_count": 9,
   "id": "9b0cf777",
   "metadata": {},
   "outputs": [
    {
     "ename": "KeyError",
     "evalue": "0",
     "output_type": "error",
     "traceback": [
      "\u001b[0;31m---------------------------------------------------------------------------\u001b[0m",
      "\u001b[0;31mKeyError\u001b[0m                                  Traceback (most recent call last)",
      "\u001b[0;32m/var/folders/ls/j__fdzps5g5ch4gysj0zz5y80000gp/T/ipykernel_47611/3442159380.py\u001b[0m in \u001b[0;36m<module>\u001b[0;34m\u001b[0m\n\u001b[0;32m----> 1\u001b[0;31m \u001b[0mprint\u001b[0m\u001b[0;34m(\u001b[0m\u001b[0;34mf' key = {00000}, value = {students[00000]}'\u001b[0m\u001b[0;34m)\u001b[0m\u001b[0;34m\u001b[0m\u001b[0;34m\u001b[0m\u001b[0m\n\u001b[0m",
      "\u001b[0;31mKeyError\u001b[0m: 0"
     ]
    }
   ],
   "source": [
    "print(f' key = {00000}, value = {students[00000]}')"
   ]
  },
  {
   "cell_type": "markdown",
   "id": "feef03d4",
   "metadata": {},
   "source": [
    "Doch können wir stattdessen die Methode ``get(key)`` verwenden, welche ``None`` zurückgibt, falls es keinen Eintrag gibt:"
   ]
  },
  {
   "cell_type": "code",
   "execution_count": 10,
   "id": "1aba8121",
   "metadata": {},
   "outputs": [
    {
     "name": "stdout",
     "output_type": "stream",
     "text": [
      " key = 0, value = None\n"
     ]
    }
   ],
   "source": [
    "print(f' key = {00000}, value = {students.get(00000)}')"
   ]
  },
  {
   "cell_type": "markdown",
   "id": "9d1ab889",
   "metadata": {},
   "source": [
    "### 1.3 Veränderung\n",
    "\n",
    "Neuer Schlüssel:"
   ]
  },
  {
   "cell_type": "code",
   "execution_count": 18,
   "id": "21f44427",
   "metadata": {},
   "outputs": [
    {
     "data": {
      "text/plain": [
       "{123451: 'Langer', 213131: 'Schmidt', 4131129: 'Langer', 123133: 'Fischer'}"
      ]
     },
     "execution_count": 18,
     "metadata": {},
     "output_type": "execute_result"
    }
   ],
   "source": [
    "students = dict([(123451, 'Huber'), (123451, 'Langer'), (213131, 'Schmidt'), (4131129, 'Langer')])\n",
    "students[123133] = 'Fischer'\n",
    "students"
   ]
  },
  {
   "cell_type": "markdown",
   "id": "88448ee1",
   "metadata": {},
   "source": [
    "Existierender Schlüssel:"
   ]
  },
  {
   "cell_type": "code",
   "execution_count": 19,
   "id": "2e9478e1",
   "metadata": {},
   "outputs": [
    {
     "data": {
      "text/plain": [
       "{123451: 'Langer', 213131: 'Schmidt', 4131129: 'Langer', 123133: 'Alberto'}"
      ]
     },
     "execution_count": 19,
     "metadata": {},
     "output_type": "execute_result"
    }
   ],
   "source": [
    "students[123133] = 'Alberto'\n",
    "students"
   ]
  },
  {
   "cell_type": "code",
   "execution_count": 20,
   "id": "b7a8c617",
   "metadata": {},
   "outputs": [
    {
     "name": "stdout",
     "output_type": "stream",
     "text": [
      "{123451: 'Langer', 213131: 'Schmidt', 4131129: 'Langer', 123133: 'Alberto'}\n"
     ]
    }
   ],
   "source": [
    "# no insertion and no change\n",
    "ma = -123133\n",
    "if ma in students:\n",
    "    students[ma] = 'Hamilton'\n",
    "print(students)"
   ]
  },
  {
   "cell_type": "markdown",
   "id": "4e93d9f1",
   "metadata": {},
   "source": [
    "Um zwei Wörterbücher zusammenzufügen können wir die Methode ``dict1.update(dict2)`` verwenden.\n",
    "Da es in einem Wörterbuch keine zwei gleichen Schlüssel gibt, wird der Eintrag in ``dict1`` durch den Eintrag in ``dict2`` verändert (update). In anderen Worten: Der Eintrag in ``dict2`` wird bevorzugt.\n",
    "Zudem wird ``dict1`` verändert, d.h. es wird **keine** Kopie angelegt:"
   ]
  },
  {
   "cell_type": "code",
   "execution_count": 36,
   "id": "58feb01a",
   "metadata": {
    "scrolled": false
   },
   "outputs": [
    {
     "name": "stdout",
     "output_type": "stream",
     "text": [
      "dict1: {'name': 'Martha', 'age': 34, 'hobbys': ['Tennis', 'Klettern', 'Zeichnen']}\n",
      "dict2: {'name': 'Martha', 'hobbys': ['Tennis', 'Klettern', 'Zeichnen']}\n",
      "dict3: None\n"
     ]
    }
   ],
   "source": [
    "dict1 = {'name': 'Benedikt', 'age': 34}\n",
    "dict2 = {'name': 'Martha', 'hobbys': ['Tennis', 'Klettern', 'Zeichnen']}\n",
    "dict3 = dict1.update(dict2)\n",
    "print(f'dict1: {dict1}')\n",
    "print(f'dict2: {dict2}')\n",
    "print(f'dict3: {dict3}')"
   ]
  },
  {
   "cell_type": "markdown",
   "id": "d76b8819",
   "metadata": {},
   "source": [
    "Um eine Kopie anzulegen verwenden wir den ``|``-Operator (Vereinigungs-Operator)."
   ]
  },
  {
   "cell_type": "code",
   "execution_count": 39,
   "id": "1dafdb5c",
   "metadata": {},
   "outputs": [
    {
     "name": "stdout",
     "output_type": "stream",
     "text": [
      "dict1: {'name': 'Benedikt', 'age': 34}\n",
      "dict2: {'name': 'Martha', 'hobbys': ['Tennis', 'Klettern', 'Zeichnen']}\n",
      "dict3: {'name': 'Martha', 'age': 34, 'hobbys': ['Tennis', 'Klettern', 'Zeichnen']}\n"
     ]
    }
   ],
   "source": [
    "dict1 = {'name': 'Benedikt', 'age': 34}\n",
    "dict2 = {'name': 'Martha', 'hobbys': ['Tennis', 'Klettern', 'Zeichnen']}\n",
    "dict3 = dict1 | dict2\n",
    "print(f'dict1: {dict1}')\n",
    "print(f'dict2: {dict2}')\n",
    "print(f'dict3: {dict3}')"
   ]
  },
  {
   "cell_type": "markdown",
   "id": "f4a0132e",
   "metadata": {},
   "source": [
    "### 1.4 Ansichten\n",
    "\n",
    "Wir könne uns auch alle Schlüssel und Werte eines Wörterbuchs holen.\n",
    "Durch ``dictionary.keys()`` erhalten wir die Schlüssel, durch ``dictionary.values()`` die Werte, und durch ``dictionary.items()`` beide Spalten (als Liste von Tupeln):"
   ]
  },
  {
   "cell_type": "code",
   "execution_count": 24,
   "id": "84462307",
   "metadata": {},
   "outputs": [
    {
     "name": "stdout",
     "output_type": "stream",
     "text": [
      "dictionary: {123451: 'Langer', 213131: 'Schmidt', 4131129: 'Langer'}\n",
      "\n",
      "key: dict_keys([123451, 213131, 4131129])\n",
      "values: dict_values(['Langer', 'Schmidt', 'Langer'])\n",
      "items: dict_items([(123451, 'Langer'), (213131, 'Schmidt'), (4131129, 'Langer')])\n"
     ]
    }
   ],
   "source": [
    "students = dict([(123451, 'Huber'), (123451, 'Langer'), (213131, 'Schmidt'), (4131129, 'Langer')])\n",
    "print(f'dictionary: {students}\\n')\n",
    "print(f'key: {students.keys()}')\n",
    "print(f'values: {students.values()}')\n",
    "print(f'items: {students.items()}')"
   ]
  },
  {
   "cell_type": "markdown",
   "id": "c050a216",
   "metadata": {},
   "source": [
    "Es scheint so als wären dies alles Listen ``list``, doch das ist nicht korrekt.\n",
    "Zwar werden Sie wie Listen ausgegeben, doch sind sie **unveränderlich**."
   ]
  },
  {
   "cell_type": "code",
   "execution_count": 25,
   "id": "534fee2e",
   "metadata": {},
   "outputs": [
    {
     "ename": "TypeError",
     "evalue": "'dict_values' object does not support item assignment",
     "output_type": "error",
     "traceback": [
      "\u001b[0;31m---------------------------------------------------------------------------\u001b[0m",
      "\u001b[0;31mTypeError\u001b[0m                                 Traceback (most recent call last)",
      "\u001b[0;32m/var/folders/ls/j__fdzps5g5ch4gysj0zz5y80000gp/T/ipykernel_47611/1614377288.py\u001b[0m in \u001b[0;36m<module>\u001b[0;34m\u001b[0m\n\u001b[1;32m      2\u001b[0m \u001b[0;34m\u001b[0m\u001b[0m\n\u001b[1;32m      3\u001b[0m \u001b[0mvalues\u001b[0m \u001b[0;34m=\u001b[0m \u001b[0mstudents\u001b[0m\u001b[0;34m.\u001b[0m\u001b[0mvalues\u001b[0m\u001b[0;34m(\u001b[0m\u001b[0;34m)\u001b[0m\u001b[0;34m\u001b[0m\u001b[0;34m\u001b[0m\u001b[0m\n\u001b[0;32m----> 4\u001b[0;31m \u001b[0mvalues\u001b[0m\u001b[0;34m[\u001b[0m\u001b[0;36m0\u001b[0m\u001b[0;34m]\u001b[0m \u001b[0;34m=\u001b[0m \u001b[0;34m'Test'\u001b[0m\u001b[0;34m\u001b[0m\u001b[0;34m\u001b[0m\u001b[0m\n\u001b[0m",
      "\u001b[0;31mTypeError\u001b[0m: 'dict_values' object does not support item assignment"
     ]
    }
   ],
   "source": [
    "students = dict([(123451, 'Huber'), (123451, 'Langer'), (213131, 'Schmidt'), (4131129, 'Langer')])\n",
    "\n",
    "values = students.values()\n",
    "values[0] = 'Test'"
   ]
  },
  {
   "cell_type": "code",
   "execution_count": 26,
   "id": "b4533615",
   "metadata": {},
   "outputs": [
    {
     "name": "stdout",
     "output_type": "stream",
     "text": [
      "dict_values(['Langer', 'Schmidt', 'Langer'])\n",
      "dict_values(['Müller', 'Schmidt', 'Langer'])\n"
     ]
    }
   ],
   "source": [
    "students = dict([(123451, 'Huber'), (123451, 'Langer'), (213131, 'Schmidt'), (4131129, 'Langer')])\n",
    "\n",
    "values = students.values()\n",
    "\n",
    "print(values)\n",
    "students[123451] = 'Müller'\n",
    "print(values)"
   ]
  },
  {
   "cell_type": "markdown",
   "id": "cba11a56",
   "metadata": {},
   "source": [
    "### 1.5 Objektmodellierung mit Wörderbüchern\n",
    "\n",
    "Wörterbücher sind eine Vorstufe zu sog. Objekten, welche wir durch Klassen erzeugen.\n",
    "Das bedeutet wir können mit Wörterbüchern Daten von modellierten Objekten zusammenfassen.\n",
    "Unser Rechteck war ein erstes Beispiel:"
   ]
  },
  {
   "cell_type": "code",
   "execution_count": 42,
   "id": "03e8d5ba",
   "metadata": {
    "scrolled": true
   },
   "outputs": [
    {
     "name": "stdout",
     "output_type": "stream",
     "text": [
      "{'shape': 'rectangle', 'x': 0.0, 'y': 1.0, 'width': 10, 'height': 20}\n"
     ]
    }
   ],
   "source": [
    "rectangle = dict(shape='rectangle', x=0.0, y=1.0, width=10, height=20)\n",
    "print(rectangle)"
   ]
  },
  {
   "cell_type": "markdown",
   "id": "de11b48e",
   "metadata": {},
   "source": [
    "Wollen wir zum Beispiel Rechtecke zeichnen, könnten wir ein solches Wörterbuch verwenden um unsere Rechtecke zu beschreiben.\n",
    "\n",
    "Folgende Funktion zeichnet Rechtecke, welche durch unsere Datenstruktur (unsere Art des Wörterbuchs) definiert ist:"
   ]
  },
  {
   "cell_type": "code",
   "execution_count": 85,
   "id": "12153c4e",
   "metadata": {},
   "outputs": [],
   "source": [
    "import matplotlib.pyplot as plt\n",
    "from matplotlib.patches import Rectangle\n",
    "\n",
    "def draw_rect(rects):\n",
    "    fig, ax = plt.subplots()\n",
    "    ax.plot()\n",
    "    ax.set_aspect(1.0)\n",
    "    \n",
    "    for rect in rects:\n",
    "        color = rect.get('color') if rect.get('color') != None else (0,0,0)\n",
    "        x1, y1 = rect['x'], rect['y']\n",
    "        width, height = rect['width'], rect['height']\n",
    "        rect_patch = Rectangle((x1, y1), width, height ,color=color)\n",
    "        ax.add_patch(rect_patch)\n",
    "\n",
    "    plt.show()"
   ]
  },
  {
   "cell_type": "code",
   "execution_count": 86,
   "id": "6400b69c",
   "metadata": {},
   "outputs": [
    {
     "data": {
      "image/png": "[encoded data removed]",
      "text/plain": [
       "<Figure size 432x288 with 1 Axes>"
      ]
     },
     "metadata": {
      "needs_background": "light"
     },
     "output_type": "display_data"
    }
   ],
   "source": [
    "rect1 = dict(shape='rectangle', x=1.0, y=1.0, width=1, height=1)\n",
    "rect2 = dict(shape='rectangle', x=4.0, y=2.0, width=3, height=1)\n",
    "draw_rect([rect1, rect2])"
   ]
  },
  {
   "cell_type": "markdown",
   "id": "e2842402",
   "metadata": {},
   "source": [
    "Warum nicht noch eine Farbe einführen:"
   ]
  },
  {
   "cell_type": "code",
   "execution_count": 87,
   "id": "d51f3f9f",
   "metadata": {},
   "outputs": [
    {
     "data": {
      "image/png": "[encoded data removed]",
      "text/plain": [
       "<Figure size 432x288 with 1 Axes>"
      ]
     },
     "metadata": {
      "needs_background": "light"
     },
     "output_type": "display_data"
    }
   ],
   "source": [
    "rect1 = dict(shape='rectangle', x=1.0, y=1.0, width=1, height=1, color=(0.8,0.5,0.4))\n",
    "rect2 = dict(shape='rectangle', x=4.0, y=2.0, width=3, height=1, color=(0.5,0.5,0.4))\n",
    "draw_rect([rect1, rect2])"
   ]
  },
  {
   "cell_type": "markdown",
   "id": "2969e2f6",
   "metadata": {},
   "source": [
    "Warum nicht viele zufällige Rechtecke zeichnen:"
   ]
  },
  {
   "cell_type": "code",
   "execution_count": 90,
   "id": "cb6ef2c2",
   "metadata": {},
   "outputs": [
    {
     "data": {
      "image/png": "[encoded data removed]",
      "text/plain": [
       "<Figure size 432x288 with 1 Axes>"
      ]
     },
     "metadata": {
      "needs_background": "light"
     },
     "output_type": "display_data"
    }
   ],
   "source": [
    "import random as rnd\n",
    "\n",
    "n = 1000\n",
    "max_width = 10\n",
    "max_height = 10\n",
    "max_size = 1\n",
    "rects = []\n",
    "for _ in range(n):\n",
    "    x, y = rnd.random() * (max_width-max_size), rnd.random() * (max_height-max_size)\n",
    "    width, height = rnd.random() * max_size, rnd.random() * max_size\n",
    "    color = (rnd.random(), rnd.random(), rnd.random(), rnd.random())\n",
    "    rect = dict(shape='rectangle', x=x, y=y, width=width, height=height, color=color)\n",
    "    rects.append(rect)\n",
    "    \n",
    "draw_rect(rects)"
   ]
  },
  {
   "cell_type": "markdown",
   "id": "05be3de1",
   "metadata": {},
   "source": [
    "***\n",
    "***Übung 1.*** (persönliches Wörterbuch)\n",
    "\n",
    "Füllen Sie ein Wörterbuch mit Ihren persönlichen Daten (z.B. Vorname, Nachname, Alter, Hobbys, Eigenschaften). Überlegen Sie von welchen Datentyp (``int``, ``float``, ``bool``, ``list``, ``set`` ``dict``) die jeweiligen Werte ``values`` sein sollten und warum Ihre Wahl sinnvoll ist."
   ]
  },
  {
   "cell_type": "markdown",
   "id": "85b86138",
   "metadata": {},
   "source": [
    "***Übung 2.*** (persönliches Wörterbuch)\n",
    "\n",
    "Geben Sie alle Schlüssel und Werte Ihres Wörterbuchs aus.\n",
    "***"
   ]
  }
 ],
 "metadata": {
  "kernelspec": {
   "display_name": "Python 3 (ipykernel)",
   "language": "python",
   "name": "python3"
  },
  "language_info": {
   "codemirror_mode": {
    "name": "ipython",
    "version": 3
   },
   "file_extension": ".py",
   "mimetype": "text/x-python",
   "name": "python",
   "nbconvert_exporter": "python",
   "pygments_lexer": "ipython3",
   "version": "3.9.5"
  }
 },
 "nbformat": 4,
 "nbformat_minor": 5
}
