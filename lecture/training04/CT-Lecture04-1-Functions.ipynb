{
 "cells": [
  {
   "cell_type": "markdown",
   "id": "2db982ed",
   "metadata": {},
   "source": [
    "# Vorlesung 04 - Computational Thinking\n",
    "**Prof. Dr.-Ing. Martin Hobelsberger, Dr. Benedikt Zönnchen**"
   ]
  },
  {
   "cell_type": "markdown",
   "id": "cfcab292",
   "metadata": {},
   "source": [
    "## 2 Funktionen (Grundlagen)\n",
    "\n",
    "Der Schlüssel zur Berechnung von Lösungen bzw. der gesamten Verarbeitung von Information ist die **Wiederholung**. Wo uns Schleifen erlauben eine bestimmte Folge von Arbeitsschritte **lokal** mehrfach auszuführen, erlauben es uns Funktionen eine Folge von Arbeitsschritte **global** auszuführen.\n",
    "\n",
    "Gemeint ist, dass Funktionen die Folge von Arbeitsschritte bündelt und wir im Stande sind dieses Bündel irgendwo in unserem Code auszuführen (ohne es noch einmal nieder zu schreiben).\n",
    "Funktionen \"gruppieren\" eine Anzahl von Anweisungen um diese mehrfach zu verwenden. Es können Parameter definiert werden die als Input für die Funktionen dienen.\n",
    "\n",
    "Den Begriff 'Funktion' kennen wir aus der Mathematik, z.B. ist \n",
    "\n",
    "$$f(x) = 2 \\cdot x + 3$$\n",
    "\n",
    "eine mathematische Funktion.\n",
    "Diese können wir als ``Python``-Funktion realisieren:"
   ]
  },
  {
   "cell_type": "code",
   "execution_count": 5,
   "id": "1a28c833",
   "metadata": {},
   "outputs": [
    {
     "data": {
      "text/plain": [
       "13"
      ]
     },
     "execution_count": 5,
     "metadata": {},
     "output_type": "execute_result"
    }
   ],
   "source": [
    "def f(x):\n",
    "    return 2*x + 3\n",
    "\n",
    "f(5)"
   ]
  },
  {
   "cell_type": "markdown",
   "id": "b79dd352",
   "metadata": {},
   "source": [
    "Allerdings ist nicht jede ``Python``-Funktion auf eine mathematische Funktion zurückzuführen, denn eine mathematische Funktion **kennt keinen Zustand**!\n",
    "\n",
    "Folgende ``Python``-Funktion hängt löscht das letzte Element aus einer Liste.\n",
    "Sie hat kein ``return`` und gibt deshalb ``None`` zurück, jedoch verändert Sie die übergebene Liste ``mylist``."
   ]
  },
  {
   "cell_type": "code",
   "execution_count": 6,
   "id": "8a82e971",
   "metadata": {},
   "outputs": [
    {
     "data": {
      "text/plain": [
       "[1, 2]"
      ]
     },
     "execution_count": 6,
     "metadata": {},
     "output_type": "execute_result"
    }
   ],
   "source": [
    "def remove_last(mylist):\n",
    "    del mylist[-1]\n",
    "    \n",
    "mylist = [1,2,3]\n",
    "remove_last(mylist)\n",
    "mylist"
   ]
  },
  {
   "cell_type": "markdown",
   "id": "814834ce",
   "metadata": {},
   "source": [
    "Wollen wir daraus eine Funktion im mathematischen Sinne machen so dürfen wir keinen **Zustand** verändern, d.h. die übergebenen Argumente (die Eingabe) darf nicht verändert werden:"
   ]
  },
  {
   "cell_type": "code",
   "execution_count": 8,
   "id": "f37a7274",
   "metadata": {},
   "outputs": [
    {
     "name": "stdout",
     "output_type": "stream",
     "text": [
      "mylist: [1, 2, 3]\n",
      "returned_list: [1, 2]\n"
     ]
    }
   ],
   "source": [
    "def remove_last(mylist):\n",
    "    copy = mylist.copy()\n",
    "    del copy[-1]\n",
    "    return copy\n",
    "   \n",
    "mylist = [1,2,3]\n",
    "returned_list = remove_last(mylist)\n",
    "print(f'mylist: {mylist}')\n",
    "print(f'returned_list: {returned_list}')"
   ]
  },
  {
   "cell_type": "markdown",
   "id": "070d9594",
   "metadata": {},
   "source": [
    "Funktionen, welche Funktionen im mathematischen Sinne sind, bezeichnet man als **pure Functions** (reine Funktionen).\n",
    "\n",
    "**Unreine Funktionen** zu definieren sollte einen wichtigen Grund haben, andernfalls sind **reine Funktionen** vorzuziehen! Da Ihr Code durch Sie leichter zu lesen / zu verstehen und zu verwenden ist."
   ]
  },
  {
   "cell_type": "markdown",
   "id": "e7241291",
   "metadata": {},
   "source": [
    "### 2.1 Built-in Funktionen\n",
    "\n",
    "Viele sog. *built-in* (eingebaute) Funktionen haben wir bereits verwendet.\n",
    "Sie werden uns mit der ``Python``-Standard Bibliothek mitgeliefert.\n",
    "Zum Beispiel ist ``type()`` oder auch ``len()`` eine solche Funktion."
   ]
  },
  {
   "cell_type": "code",
   "execution_count": 1,
   "id": "f475fb20",
   "metadata": {},
   "outputs": [
    {
     "data": {
      "text/plain": [
       "builtin_function_or_method"
      ]
     },
     "execution_count": 1,
     "metadata": {},
     "output_type": "execute_result"
    }
   ],
   "source": [
    "type(len)"
   ]
  },
  {
   "cell_type": "markdown",
   "id": "901c2d55",
   "metadata": {},
   "source": [
    "Diese Funktionen stehen uns immer und überall zur Verfügung."
   ]
  },
  {
   "cell_type": "markdown",
   "id": "cf059290",
   "metadata": {},
   "source": [
    "### 2.2 Modul Funktionen\n",
    "\n",
    "``roboworld`` ist ein beispielsweise Modul, d.h. eine Ansammlung von Funktionalität, welches wir nutzten können.\n",
    "Deutlich bekannter ist das Modul ``numpy``, welches für numerische Berechnungen verwendet wird.\n",
    "\n",
    "Um eine Funktion eines Moduls aufzurufen stellen wir den Modulnamen, z.B. ``numpy`` und einen Punkt ``.`` vorne an. Zuvor müssen wir das Modul geladen haben:"
   ]
  },
  {
   "cell_type": "code",
   "execution_count": 2,
   "id": "c2cb690e",
   "metadata": {},
   "outputs": [
    {
     "data": {
      "text/plain": [
       "array([0.        , 0.01010101, 0.02020202, 0.03030303, 0.04040404,\n",
       "       0.05050505, 0.06060606, 0.07070707, 0.08080808, 0.09090909,\n",
       "       0.1010101 , 0.11111111, 0.12121212, 0.13131313, 0.14141414,\n",
       "       0.15151515, 0.16161616, 0.17171717, 0.18181818, 0.19191919,\n",
       "       0.2020202 , 0.21212121, 0.22222222, 0.23232323, 0.24242424,\n",
       "       0.25252525, 0.26262626, 0.27272727, 0.28282828, 0.29292929,\n",
       "       0.3030303 , 0.31313131, 0.32323232, 0.33333333, 0.34343434,\n",
       "       0.35353535, 0.36363636, 0.37373737, 0.38383838, 0.39393939,\n",
       "       0.4040404 , 0.41414141, 0.42424242, 0.43434343, 0.44444444,\n",
       "       0.45454545, 0.46464646, 0.47474747, 0.48484848, 0.49494949,\n",
       "       0.50505051, 0.51515152, 0.52525253, 0.53535354, 0.54545455,\n",
       "       0.55555556, 0.56565657, 0.57575758, 0.58585859, 0.5959596 ,\n",
       "       0.60606061, 0.61616162, 0.62626263, 0.63636364, 0.64646465,\n",
       "       0.65656566, 0.66666667, 0.67676768, 0.68686869, 0.6969697 ,\n",
       "       0.70707071, 0.71717172, 0.72727273, 0.73737374, 0.74747475,\n",
       "       0.75757576, 0.76767677, 0.77777778, 0.78787879, 0.7979798 ,\n",
       "       0.80808081, 0.81818182, 0.82828283, 0.83838384, 0.84848485,\n",
       "       0.85858586, 0.86868687, 0.87878788, 0.88888889, 0.8989899 ,\n",
       "       0.90909091, 0.91919192, 0.92929293, 0.93939394, 0.94949495,\n",
       "       0.95959596, 0.96969697, 0.97979798, 0.98989899, 1.        ])"
      ]
     },
     "execution_count": 2,
     "metadata": {},
     "output_type": "execute_result"
    }
   ],
   "source": [
    "import numpy\n",
    "numpy.linspace(0, 1, 100)"
   ]
  },
  {
   "cell_type": "code",
   "execution_count": 3,
   "id": "48930b15",
   "metadata": {},
   "outputs": [
    {
     "data": {
      "text/plain": [
       "function"
      ]
     },
     "execution_count": 3,
     "metadata": {},
     "output_type": "execute_result"
    }
   ],
   "source": [
    "type(numpy.linspace)"
   ]
  },
  {
   "cell_type": "markdown",
   "id": "8016000e",
   "metadata": {},
   "source": [
    "### 2.3 Eine eigene Funktion definieren\n",
    "\n",
    "```python\n",
    "def name_der_funktion(argument1 ,argument2, ...):\n",
    "    '''\n",
    "    An dieser Stelle steht der sog. \"docstring\".\n",
    "    Dieser wird ausgegeben wenn help() zur Funktion aufgerufen wird.\n",
    "    Er dient der Dokumentation und soll klären WAS Ihre Funktion macht.\n",
    "    '''\n",
    "    # Code\n",
    "    # Code\n",
    "    return output (optional)\n",
    "```\n",
    "Der Name für ``name_der_funktion`` darf frei vergeben werden.\n",
    "Jedoch achtet man in der Programmierung stets auf **sprechende** Funktionsnamen und auch Argumente.\n",
    "Vergleichen Sie:"
   ]
  },
  {
   "cell_type": "code",
   "execution_count": 13,
   "id": "225cb6cc",
   "metadata": {},
   "outputs": [
    {
     "data": {
      "text/plain": [
       "1"
      ]
     },
     "execution_count": 13,
     "metadata": {},
     "output_type": "execute_result"
    }
   ],
   "source": [
    "def dddd(something, l):\n",
    "    \"\"\"\n",
    "    computes the subtraction of something and l.\n",
    "    \"\"\"\n",
    "    return something - l\n",
    "dddd(3,2)"
   ]
  },
  {
   "cell_type": "markdown",
   "id": "e8753b9b",
   "metadata": {},
   "source": [
    "und"
   ]
  },
  {
   "cell_type": "code",
   "execution_count": 19,
   "id": "136aa581",
   "metadata": {},
   "outputs": [
    {
     "data": {
      "text/plain": [
       "-1"
      ]
     },
     "execution_count": 19,
     "metadata": {},
     "output_type": "execute_result"
    }
   ],
   "source": [
    "def subtract(x, y):\n",
    "    \"\"\"\n",
    "    returns x - y\n",
    "    \"\"\"\n",
    "    return x - y\n",
    "subtract(5, 6)"
   ]
  },
  {
   "cell_type": "markdown",
   "id": "b65695ad",
   "metadata": {},
   "source": [
    "### 2.4 Rückgabewerte\n",
    "\n",
    "In ``Python`` ist es sehr einfach, mehrere Rückgabewerte zu definieren:"
   ]
  },
  {
   "cell_type": "code",
   "execution_count": 23,
   "id": "2f7319e9",
   "metadata": {},
   "outputs": [
    {
     "data": {
      "text/plain": [
       "(1, 3)"
      ]
     },
     "execution_count": 23,
     "metadata": {},
     "output_type": "execute_result"
    }
   ],
   "source": [
    "def modulo(n, k):\n",
    "    \"\"\"\n",
    "    returns div, rest such that n = k * div + rest, where n, k, div, rest are whole numbers.\n",
    "    \"\"\"\n",
    "    div = n // k\n",
    "    rest = n % k\n",
    "    return div, rest\n",
    "modulo(10, 7)"
   ]
  },
  {
   "cell_type": "markdown",
   "id": "b16771fc",
   "metadata": {},
   "source": [
    "Doch genau genommen hat eine ``Python``-Funktion genau einen Rückgabewert.\n",
    "Im obigen Beispiel handelt es sich um **ein** Tupel ``tuple``, wodurch der Eindruck ensteht, wir würden mehrere Werte zurückgeben. Durch das packing und unpacking simuliert ``Python`` mehrere Rückgabewerte."
   ]
  },
  {
   "cell_type": "code",
   "execution_count": 27,
   "id": "31166d87",
   "metadata": {},
   "outputs": [
    {
     "name": "stdout",
     "output_type": "stream",
     "text": [
      "1\n",
      "3\n"
     ]
    }
   ],
   "source": [
    "div, rest = modulo(10, 7)\n",
    "print(div)\n",
    "print(rest)"
   ]
  },
  {
   "cell_type": "markdown",
   "id": "9dbfc04c",
   "metadata": {},
   "source": [
    "Verwenden wir kein ``return`` so gibt die Funktion (sofern sie keinen Fehler oder eine Endlosschleife verursacht) ``None``zurück."
   ]
  },
  {
   "cell_type": "code",
   "execution_count": 24,
   "id": "63f49d82",
   "metadata": {
    "scrolled": true
   },
   "outputs": [
    {
     "name": "stdout",
     "output_type": "stream",
     "text": [
      "42\n",
      "None\n"
     ]
    }
   ],
   "source": [
    "def print42():\n",
    "    print('42')\n",
    "    \n",
    "print(print42())"
   ]
  },
  {
   "cell_type": "markdown",
   "id": "6f2e2541",
   "metadata": {},
   "source": [
    "entspricht"
   ]
  },
  {
   "cell_type": "code",
   "execution_count": 25,
   "id": "4df622bc",
   "metadata": {
    "scrolled": true
   },
   "outputs": [
    {
     "name": "stdout",
     "output_type": "stream",
     "text": [
      "42\n",
      "None\n"
     ]
    }
   ],
   "source": [
    "def print42():\n",
    "    print('42')\n",
    "    return None\n",
    "    \n",
    "print(print42())"
   ]
  },
  {
   "cell_type": "markdown",
   "id": "d46455e5",
   "metadata": {},
   "source": [
    "### 2.5 Default Argumente\n",
    "\n",
    "Wir können Argumenten auch einen sog. Standardwert verpassen.\n",
    "Dieser wird genau dann verwendet, wenn dieses Argument beim Aufruf der Funktion nicht definiert wurde.\n",
    "Erinnern Sie sich noch an die Funktion ``range()``?\n",
    "Diese konnten wir mit einem, zwei, oder drei Argumenten aufrufen.\n",
    "Das gelang, weil auch ``range()`` Standardwerte für zwei der drei Argumente festlegt."
   ]
  },
  {
   "cell_type": "code",
   "execution_count": 24,
   "id": "2ae1113b",
   "metadata": {
    "scrolled": true
   },
   "outputs": [
    {
     "data": {
      "text/plain": [
       "[0, 2, 4, 6, 8]"
      ]
     },
     "execution_count": 24,
     "metadata": {},
     "output_type": "execute_result"
    }
   ],
   "source": [
    "def lrange(start, stop, step):\n",
    "    numbers = list(range(start, stop, step))\n",
    "    return numbers\n",
    "lrange(0, 10, 2)"
   ]
  },
  {
   "cell_type": "markdown",
   "id": "f65d40b6",
   "metadata": {},
   "source": [
    "Die Funktion ``lrange()`` verhält sich wie ``range()`` jedoch gibt Sie eine Liste zurück.\n",
    "Ohne Standardwerte für die Argumente können wir die Funktion jedoch nicht mit nur einem Argument aufrufen."
   ]
  },
  {
   "cell_type": "code",
   "execution_count": 7,
   "id": "dba1956d",
   "metadata": {
    "scrolled": true
   },
   "outputs": [
    {
     "ename": "TypeError",
     "evalue": "nrange() missing 2 required positional arguments: 'stop' and 'step'",
     "output_type": "error",
     "traceback": [
      "\u001b[0;31m---------------------------------------------------------------------------\u001b[0m",
      "\u001b[0;31mTypeError\u001b[0m                                 Traceback (most recent call last)",
      "\u001b[0;32m/var/folders/ls/j__fdzps5g5ch4gysj0zz5y80000gp/T/ipykernel_47440/1638729594.py\u001b[0m in \u001b[0;36m<module>\u001b[0;34m\u001b[0m\n\u001b[0;32m----> 1\u001b[0;31m \u001b[0mnrange\u001b[0m\u001b[0;34m(\u001b[0m\u001b[0;36m10\u001b[0m\u001b[0;34m)\u001b[0m\u001b[0;34m\u001b[0m\u001b[0;34m\u001b[0m\u001b[0m\n\u001b[0m",
      "\u001b[0;31mTypeError\u001b[0m: nrange() missing 2 required positional arguments: 'stop' and 'step'"
     ]
    }
   ],
   "source": [
    "nrange(10)"
   ]
  },
  {
   "cell_type": "markdown",
   "id": "1f15fa1e",
   "metadata": {},
   "source": [
    "Definieren wir Standardwerte, müssen wir uns überlegen welche Werte sinnvoll sind.\n",
    "Was soll also passieren wenn wir beim Funktionsaufruf bestimmte Arguemente weglassen.\n",
    "\n",
    "***\n",
    "***Aufgabe 1.*** Finden Sie heraus welche Standardwerte ``range()`` für welche Argumente verwendet."
   ]
  },
  {
   "cell_type": "code",
   "execution_count": null,
   "id": "c764bea1",
   "metadata": {},
   "outputs": [],
   "source": []
  },
  {
   "cell_type": "markdown",
   "id": "e448c6be",
   "metadata": {},
   "source": [
    "***"
   ]
  },
  {
   "cell_type": "markdown",
   "id": "60d50ab9",
   "metadata": {},
   "source": [
    "Standardwerte setzten wir durch eine Zuweisung im Funktionskopf, dabei müssen alle Argumente mit Standardwerten hinten stehen! Folgender Code wird zu einem Fehler führen:"
   ]
  },
  {
   "cell_type": "code",
   "execution_count": 21,
   "id": "8028f1a8",
   "metadata": {},
   "outputs": [
    {
     "data": {
      "text/plain": [
       "[]"
      ]
     },
     "execution_count": 21,
     "metadata": {},
     "output_type": "execute_result"
    }
   ],
   "source": [
    "def lrange(start=0, stop, step=1):\n",
    "    numbers = list(range(start, stop, step))\n",
    "    return numbers\n",
    "lrange(0, 10, 2)"
   ]
  },
  {
   "cell_type": "markdown",
   "id": "632fd140",
   "metadata": {},
   "source": [
    "Wir müssen die Reihenfolge der Argumente verändern:"
   ]
  },
  {
   "cell_type": "code",
   "execution_count": 25,
   "id": "ed246780",
   "metadata": {},
   "outputs": [
    {
     "data": {
      "text/plain": [
       "[0, 2, 4, 6, 8]"
      ]
     },
     "execution_count": 25,
     "metadata": {},
     "output_type": "execute_result"
    }
   ],
   "source": [
    "def lrange(stop, start=0, step=1):\n",
    "    numbers = list(range(start, stop, step))\n",
    "    return numbers\n",
    "lrange(10, 0, 2)"
   ]
  },
  {
   "cell_type": "code",
   "execution_count": 27,
   "id": "664de3eb",
   "metadata": {},
   "outputs": [
    {
     "data": {
      "text/plain": [
       "[0, 1, 2, 3, 4, 5, 6, 7, 8, 9]"
      ]
     },
     "execution_count": 27,
     "metadata": {},
     "output_type": "execute_result"
    }
   ],
   "source": [
    "lrange(10)"
   ]
  },
  {
   "cell_type": "markdown",
   "id": "11d1797c",
   "metadata": {},
   "source": [
    "Wir können auch **einzelne** Standardargumente beim Funktionsaufruf verändern. Zum Beispiel wollen wir vielleicht eine Liste mit ``lrange()`` erzeugen, welche uns für die ``stop=10``, ``start=0`` und ``step=2`` gilt. Da wir ``start`` weiterhin auf dem Standardwert belassen müssen wir es nicht angeben. "
   ]
  },
  {
   "cell_type": "code",
   "execution_count": 28,
   "id": "b01c58cb",
   "metadata": {},
   "outputs": [
    {
     "data": {
      "text/plain": [
       "[0, 2, 4, 6, 8]"
      ]
     },
     "execution_count": 28,
     "metadata": {},
     "output_type": "execute_result"
    }
   ],
   "source": [
    "lrange(10, step=2)"
   ]
  },
  {
   "cell_type": "markdown",
   "id": "eef5eacf",
   "metadata": {},
   "source": [
    "Um den Code besser lesen zu können macht es hin und wieder Sinn diese Schreibweise auch zu verwenden, wenn Sie eigentlich gar nicht notwendig wäre."
   ]
  },
  {
   "cell_type": "code",
   "execution_count": 29,
   "id": "16e078db",
   "metadata": {},
   "outputs": [
    {
     "data": {
      "text/plain": [
       "[0, 2, 4, 6, 8]"
      ]
     },
     "execution_count": 29,
     "metadata": {},
     "output_type": "execute_result"
    }
   ],
   "source": [
    "lrange(stop=10, start=0, step=2)"
   ]
  },
  {
   "cell_type": "markdown",
   "id": "2d85b896",
   "metadata": {},
   "source": [
    "Verwenden wir diese Schreibweise, können wir auch die Reihenfolge der Argumente missachten:"
   ]
  },
  {
   "cell_type": "code",
   "execution_count": 30,
   "id": "f74607f5",
   "metadata": {},
   "outputs": [
    {
     "data": {
      "text/plain": [
       "[0, 2, 4, 6, 8]"
      ]
     },
     "execution_count": 30,
     "metadata": {},
     "output_type": "execute_result"
    }
   ],
   "source": [
    "lrange(start=0, stop=10, step=2)"
   ]
  },
  {
   "cell_type": "markdown",
   "id": "a3be299f",
   "metadata": {},
   "source": [
    "Lassen Sie sich nicht verwirren wenn wir einem Argument eine Variable zuweisen die denselben Namen trägt:"
   ]
  },
  {
   "cell_type": "code",
   "execution_count": 31,
   "id": "fcc066c6",
   "metadata": {},
   "outputs": [
    {
     "data": {
      "text/plain": [
       "[0, 2, 4, 6, 8]"
      ]
     },
     "execution_count": 31,
     "metadata": {},
     "output_type": "execute_result"
    }
   ],
   "source": [
    "start = 0\n",
    "lrange(start=start, stop=10, step=2)"
   ]
  },
  {
   "cell_type": "markdown",
   "id": "2cad340c",
   "metadata": {},
   "source": [
    "Diese beiden Variablen mit dem Namen ``start`` sind nicht dieselben Variablen, das linke ``start`` ist das Argument welches die Funktion schlussendlich verwendet und das rechte ``start`` ist die Variable, die wir zuvor definiert haben."
   ]
  },
  {
   "cell_type": "markdown",
   "id": "320ca4e9",
   "metadata": {},
   "source": [
    "### 2.6 Variablen und Funktionen (Sichtbarkeit und Lebensdauer)\n",
    "Jede *Variable* in einem Programm hat einen sogenannten *Scope* (die Sichtbarkeit der Variable für Anweisungen im Programm), eine *Lebensdauer* (ab der Definition der Variablen) und sind einem *Namensraum* (sog. namespace) zugeordnet.\n",
    "\n",
    "Eine Variable die Sie direkt in einer Zelle definieren, hat einen **globalen** Scope, d.h. Sie ist im gesamten Notebook sichtbar, sobald sie definiert wurde."
   ]
  },
  {
   "cell_type": "code",
   "execution_count": 30,
   "id": "4a8aa9c2",
   "metadata": {},
   "outputs": [
    {
     "name": "stdout",
     "output_type": "stream",
     "text": [
      "2\n"
     ]
    }
   ],
   "source": [
    "x = 2\n",
    "def printX():\n",
    "    print(x)\n",
    "\n",
    "printX()"
   ]
  },
  {
   "cell_type": "markdown",
   "id": "5e091f5c",
   "metadata": {},
   "source": [
    "Eine Variable die Sie in einer Funktion definieren, hat einen **lokalen** Scope, d.h. Sie ist nur innerhalb der Funktion sichtbar!"
   ]
  },
  {
   "cell_type": "code",
   "execution_count": 32,
   "id": "ed1d9892",
   "metadata": {},
   "outputs": [
    {
     "name": "stdout",
     "output_type": "stream",
     "text": [
      "2\n"
     ]
    },
    {
     "ename": "NameError",
     "evalue": "name 'y' is not defined",
     "output_type": "error",
     "traceback": [
      "\u001b[0;31m---------------------------------------------------------------------------\u001b[0m",
      "\u001b[0;31mNameError\u001b[0m                                 Traceback (most recent call last)",
      "\u001b[0;32m/var/folders/ls/j__fdzps5g5ch4gysj0zz5y80000gp/T/ipykernel_46196/2295185547.py\u001b[0m in \u001b[0;36m<module>\u001b[0;34m\u001b[0m\n\u001b[1;32m      4\u001b[0m \u001b[0;34m\u001b[0m\u001b[0m\n\u001b[1;32m      5\u001b[0m \u001b[0mprintY\u001b[0m\u001b[0;34m(\u001b[0m\u001b[0;34m)\u001b[0m\u001b[0;34m\u001b[0m\u001b[0;34m\u001b[0m\u001b[0m\n\u001b[0;32m----> 6\u001b[0;31m \u001b[0my\u001b[0m\u001b[0;34m\u001b[0m\u001b[0;34m\u001b[0m\u001b[0m\n\u001b[0m",
      "\u001b[0;31mNameError\u001b[0m: name 'y' is not defined"
     ]
    }
   ],
   "source": [
    "def printY():\n",
    "    y = 2\n",
    "    print(y)\n",
    "\n",
    "printY()\n",
    "y"
   ]
  },
  {
   "cell_type": "markdown",
   "id": "72632a82",
   "metadata": {},
   "source": [
    "Was passiert nun, wir innerhalb einer Funktion eine Variable definieren, welche bereits als globale Variable definiert wurde?"
   ]
  },
  {
   "cell_type": "code",
   "execution_count": 33,
   "id": "d1b8b8ea",
   "metadata": {},
   "outputs": [
    {
     "name": "stdout",
     "output_type": "stream",
     "text": [
      "42\n"
     ]
    },
    {
     "data": {
      "text/plain": [
       "5"
      ]
     },
     "execution_count": 33,
     "metadata": {},
     "output_type": "execute_result"
    }
   ],
   "source": [
    "z = 5\n",
    "def printZ():\n",
    "    z = 42\n",
    "    print(z)\n",
    "\n",
    "printZ()\n",
    "z"
   ]
  },
  {
   "cell_type": "markdown",
   "id": "fa2a29a6",
   "metadata": {},
   "source": [
    "Es wird immer die **lokale** Variable bevorzugt! Beachten Sie jedoch, dass es sich bei den beiden Variablen um zwei verschiedene Variablen handelt. Die eine liegt im globalen Namensraum ``global.z``, die andere im lokalen Namensraum der Funktion ``global.printZ.z``.\n",
    "\n",
    "Sie können das Verhalten auch sehr gut mit der *built-in*-Funktion ``id()`` untersuchen:"
   ]
  },
  {
   "cell_type": "code",
   "execution_count": 36,
   "id": "75fe7451",
   "metadata": {
    "scrolled": true
   },
   "outputs": [
    {
     "name": "stdout",
     "output_type": "stream",
     "text": [
      "global z id: 4551018928\n",
      "lokal z id (after lokal z is defined): 4551020112\n",
      "42\n"
     ]
    },
    {
     "data": {
      "text/plain": [
       "5"
      ]
     },
     "execution_count": 36,
     "metadata": {},
     "output_type": "execute_result"
    }
   ],
   "source": [
    "z = 5\n",
    "print(f'global z id: {id(z)}')\n",
    "def printZ():\n",
    "    z = 42\n",
    "    print(f'lokal z id (after lokal z is defined): {id(z)}')\n",
    "    print(z)\n",
    "\n",
    "printZ()\n",
    "z"
   ]
  },
  {
   "cell_type": "markdown",
   "id": "16334e0d",
   "metadata": {},
   "source": [
    "Eine Variable kann innerhalb einer Funktion jedoch nur lokal oder global sein! ``Python`` schützt uns vor möglichen und äußerst undurchsichtigen Verwendungen zwei Variablen mit dem scheinbar gleichen Namen.\n",
    "Folgender Code führt zum Glück zu einem Fehler:"
   ]
  },
  {
   "cell_type": "code",
   "execution_count": 37,
   "id": "39b8652d",
   "metadata": {},
   "outputs": [
    {
     "name": "stdout",
     "output_type": "stream",
     "text": [
      "global z id: 4551018928\n"
     ]
    },
    {
     "ename": "UnboundLocalError",
     "evalue": "local variable 'z' referenced before assignment",
     "output_type": "error",
     "traceback": [
      "\u001b[0;31m---------------------------------------------------------------------------\u001b[0m",
      "\u001b[0;31mUnboundLocalError\u001b[0m                         Traceback (most recent call last)",
      "\u001b[0;32m/var/folders/ls/j__fdzps5g5ch4gysj0zz5y80000gp/T/ipykernel_46196/2419702798.py\u001b[0m in \u001b[0;36m<module>\u001b[0;34m\u001b[0m\n\u001b[1;32m      7\u001b[0m     \u001b[0mprint\u001b[0m\u001b[0;34m(\u001b[0m\u001b[0mz\u001b[0m\u001b[0;34m)\u001b[0m\u001b[0;34m\u001b[0m\u001b[0;34m\u001b[0m\u001b[0m\n\u001b[1;32m      8\u001b[0m \u001b[0;34m\u001b[0m\u001b[0m\n\u001b[0;32m----> 9\u001b[0;31m \u001b[0mprintZ\u001b[0m\u001b[0;34m(\u001b[0m\u001b[0;34m)\u001b[0m\u001b[0;34m\u001b[0m\u001b[0;34m\u001b[0m\u001b[0m\n\u001b[0m\u001b[1;32m     10\u001b[0m \u001b[0mz\u001b[0m\u001b[0;34m\u001b[0m\u001b[0;34m\u001b[0m\u001b[0m\n",
      "\u001b[0;32m/var/folders/ls/j__fdzps5g5ch4gysj0zz5y80000gp/T/ipykernel_46196/2419702798.py\u001b[0m in \u001b[0;36mprintZ\u001b[0;34m()\u001b[0m\n\u001b[1;32m      2\u001b[0m \u001b[0mprint\u001b[0m\u001b[0;34m(\u001b[0m\u001b[0;34mf'global z id: {id(z)}'\u001b[0m\u001b[0;34m)\u001b[0m\u001b[0;34m\u001b[0m\u001b[0;34m\u001b[0m\u001b[0m\n\u001b[1;32m      3\u001b[0m \u001b[0;32mdef\u001b[0m \u001b[0mprintZ\u001b[0m\u001b[0;34m(\u001b[0m\u001b[0;34m)\u001b[0m\u001b[0;34m:\u001b[0m\u001b[0;34m\u001b[0m\u001b[0;34m\u001b[0m\u001b[0m\n\u001b[0;32m----> 4\u001b[0;31m     \u001b[0mprint\u001b[0m\u001b[0;34m(\u001b[0m\u001b[0;34mf'lokal z id (before lokal z is defined): {id(z)}'\u001b[0m\u001b[0;34m)\u001b[0m\u001b[0;34m\u001b[0m\u001b[0;34m\u001b[0m\u001b[0m\n\u001b[0m\u001b[1;32m      5\u001b[0m     \u001b[0mz\u001b[0m \u001b[0;34m=\u001b[0m \u001b[0;36m42\u001b[0m\u001b[0;34m\u001b[0m\u001b[0;34m\u001b[0m\u001b[0m\n\u001b[1;32m      6\u001b[0m     \u001b[0mprint\u001b[0m\u001b[0;34m(\u001b[0m\u001b[0;34mf'lokal z id (after lokal z is defined): {id(z)}'\u001b[0m\u001b[0;34m)\u001b[0m\u001b[0;34m\u001b[0m\u001b[0;34m\u001b[0m\u001b[0m\n",
      "\u001b[0;31mUnboundLocalError\u001b[0m: local variable 'z' referenced before assignment"
     ]
    }
   ],
   "source": [
    "z = 5\n",
    "print(f'global z id: {id(z)}')\n",
    "def printZ():\n",
    "    print(f'lokal z id (before lokal z is defined): {id(z)}')\n",
    "    z = 42\n",
    "    print(f'lokal z id (after lokal z is defined): {id(z)}')\n",
    "    print(z)\n",
    "\n",
    "printZ()\n",
    "z"
   ]
  },
  {
   "cell_type": "markdown",
   "id": "327f5732",
   "metadata": {},
   "source": [
    "Wie sieht das mit Argumenten aus?"
   ]
  },
  {
   "cell_type": "code",
   "execution_count": 47,
   "id": "8282bba1",
   "metadata": {},
   "outputs": [
    {
     "name": "stdout",
     "output_type": "stream",
     "text": [
      "global z id: 4551018928\n",
      "lokal z id: 4551020112\n",
      "42\n",
      "\n",
      "\n",
      "global z id: 4551020112\n",
      "global z id: 4551020112\n",
      "42\n"
     ]
    }
   ],
   "source": [
    "def printZ(z):\n",
    "    if z == 42:\n",
    "        print(f'global z id: {id(z)}')\n",
    "        print(z)\n",
    "    else:\n",
    "        z = 42\n",
    "        print(f'lokal z id: {id(z)}')\n",
    "        print(z)\n",
    "\n",
    "z = 5\n",
    "print(f'global z id: {id(z)}')\n",
    "printZ(z)\n",
    "print('\\n')\n",
    "\n",
    "z = 42\n",
    "print(f'global z id: {id(z)}')\n",
    "printZ(z)"
   ]
  },
  {
   "cell_type": "markdown",
   "id": "e49d934c",
   "metadata": {},
   "source": [
    "Ein Argument (eine Variable) zeigt auf den Speicherbereich der Variable oder des Wertes der übergeben wurde.\n",
    "Handelt es sich um eine globale Variable, ist es diese. Wird die **Adresse** der Variablen verändert, so wird eine neue **lokale** Variable angelegt! Das klingt kompliziert doch passiert im Grunde genau das was wir erwarten.\n",
    "\n",
    "Verändern wir die Werte (gleichzeitig aber nicht die Adresse), so wird keine lokale Variable angelegt:"
   ]
  },
  {
   "cell_type": "code",
   "execution_count": 46,
   "id": "4554f76d",
   "metadata": {},
   "outputs": [
    {
     "name": "stdout",
     "output_type": "stream",
     "text": [
      "global numbers id: 4863755968\n",
      "global mylist id: 4863755968\n",
      "global mylist id: 4863755968\n"
     ]
    }
   ],
   "source": [
    "def append42(mylist):\n",
    "    print(f'global mylist id: {id(mylist)}')\n",
    "    mylist.append(42)\n",
    "    print(f'global mylist id: {id(mylist)}')\n",
    "\n",
    "numbers = [1,2,3]\n",
    "print(f'global numbers id: {id(numbers)}')\n",
    "append42(numbers)"
   ]
  },
  {
   "cell_type": "markdown",
   "id": "cf7089cd",
   "metadata": {},
   "source": [
    "**Faustregel:** Übergeben Sie Objekte / Elemente, welche eine Funktion verarbeitet auch als Argument. Vermeiden Sie also:"
   ]
  },
  {
   "cell_type": "code",
   "execution_count": 49,
   "id": "a6fe5d9c",
   "metadata": {},
   "outputs": [],
   "source": [
    "z = 42\n",
    "def printZ():\n",
    "    print(z)"
   ]
  },
  {
   "cell_type": "markdown",
   "id": "13537aa8",
   "metadata": {},
   "source": [
    "und verwenden stattdessen"
   ]
  },
  {
   "cell_type": "code",
   "execution_count": 48,
   "id": "026d26c3",
   "metadata": {},
   "outputs": [],
   "source": [
    "def printZ(z):\n",
    "    print(z)"
   ]
  },
  {
   "cell_type": "markdown",
   "id": "c83223fd",
   "metadata": {},
   "source": [
    "### 2.7 Der Funktionsaufruf\n",
    "\n",
    "Was passiert beim Aufruf einer Funktion? Zum Beispiel:"
   ]
  },
  {
   "cell_type": "code",
   "execution_count": 50,
   "id": "67844bdb",
   "metadata": {},
   "outputs": [
    {
     "data": {
      "text/plain": [
       "4"
      ]
     },
     "execution_count": 50,
     "metadata": {},
     "output_type": "execute_result"
    }
   ],
   "source": [
    "def subtract(x, y):\n",
    "    \"\"\"\n",
    "    returns x - y\n",
    "    \"\"\"\n",
    "    return x - y\n",
    "z = 10\n",
    "result = subtract(z, subtract(5,1))"
   ]
  },
  {
   "cell_type": "markdown",
   "id": "1dbf7e4a",
   "metadata": {},
   "source": [
    "Die Auswertung des Ausdrucks\n",
    "\n",
    "```python\n",
    "result = subtract(z, subtract(5,1))\n",
    "```\n",
    "\n",
    "verläuft von rechts nach links und von innen nach außen. Zu allererst wird demnach ``subtract(5,1)`` ausgewertet.\n",
    "Wir springen in die Funktion hinein.\n",
    "\n",
    "Die **Adressen** der Eingabe (hier der **nach** Auswertung von ``id(5)`` und ``id(1)``) werden auf die Argumentvariablen kopiert:\n",
    "\n",
    "```python\n",
    "x = 5\n",
    "y = 1\n",
    "```"
   ]
  },
  {
   "cell_type": "markdown",
   "id": "70605708",
   "metadata": {},
   "source": [
    "Hiernach wird der Funktionsrumpf ausgeführt:\n",
    "```python\n",
    "return x - y\n",
    "```"
   ]
  },
  {
   "cell_type": "markdown",
   "id": "d07df52b",
   "metadata": {},
   "source": [
    "und das Ergebnis ``4`` zurückgeliefert. Hiernach wird ``subtract(z,4)`` ausgeführt. Wir springen erneut in die Funktion und kopieren **Adressen**:\n",
    "\n",
    "```python\n",
    "x = z\n",
    "y = 4\n",
    "```\n",
    "\n",
    "Hiernach wird der Funktionsrumpf ausgeführt:\n",
    "```python\n",
    "return x - y\n",
    "```"
   ]
  },
  {
   "cell_type": "markdown",
   "id": "31bdfdf8",
   "metadata": {},
   "source": [
    "Schließlich wird die **Adresse** der Funktionsauswertung (der Wert ``6``) der globalen Variablen ``result`` zugewiesen."
   ]
  },
  {
   "cell_type": "code",
   "execution_count": null,
   "id": "b8604ef4",
   "metadata": {},
   "outputs": [],
   "source": []
  }
 ],
 "metadata": {
  "kernelspec": {
   "display_name": "Python 3 (ipykernel)",
   "language": "python",
   "name": "python3"
  },
  "language_info": {
   "codemirror_mode": {
    "name": "ipython",
    "version": 3
   },
   "file_extension": ".py",
   "mimetype": "text/x-python",
   "name": "python",
   "nbconvert_exporter": "python",
   "pygments_lexer": "ipython3",
   "version": "3.9.5"
  }
 },
 "nbformat": 4,
 "nbformat_minor": 5
}
