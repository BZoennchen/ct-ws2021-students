{
 "cells": [
  {
   "cell_type": "markdown",
   "id": "6363e50e",
   "metadata": {},
   "source": [
    "# Vorlesung 04 - Computational Thinking\n",
    "**Prof. Dr.-Ing. Martin Hobelsberger, Dr. Benedikt Zönnchen**"
   ]
  },
  {
   "cell_type": "markdown",
   "id": "7c4e45a7",
   "metadata": {},
   "source": [
    "## Kontrollstrukturen\n",
    "\n",
    "Kontrollstrukturen beeinflussen die Reihenfolge der abzuarbeitenden Befehle. Sie ermöglichen es von einer rein *sequenziellen* Abarbeitung abzuweichen.\n",
    "\n",
    "Erst durch diese Abweichung erlangen wir die nötige Ausdrucksweise um das zu berechnen was *berechenbar* ist.\n",
    "Es gibt lediglich zwei wesentliche Kontrollstrukturen:\n",
    "\n",
    "1. Fallunterscheidung (führe entweder Codeabschnitt A oder B aus)\n",
    "2. Schleifen (führe Codeabschnitt A öfters aus)\n",
    "\n",
    "Beide Konzepte verwenden wir bereits immerzu in der 'echten' Welt."
   ]
  },
  {
   "cell_type": "markdown",
   "id": "ebaf5d8b",
   "metadata": {},
   "source": [
    "## 3 Fallunterscheidung"
   ]
  },
  {
   "cell_type": "markdown",
   "id": "f03da2df",
   "metadata": {},
   "source": [
    "Fallunterscheidungen sorgen dafür, dass **höchstens** ein **bestimmter Codeblock** $B_i$ nur dann ausgeführt wird, sofern ein logischer Ausdruck $P_i$ wahr, d.h. ``True`` ergibt. Gibt es mehr als einen logischen Ausdruck $P_i$ welcher ``True`` ergibt, so erste Codeblock (der mit dem kleinsten $i$) ausgeführt."
   ]
  },
  {
   "cell_type": "markdown",
   "id": "de43fcdb",
   "metadata": {},
   "source": [
    "### 3.1 ``if``-Statement\n",
    "\n",
    "Die einfachste Form der Fallunterscheidung prüft ob ein logischer Ausdruck $P_0$ eingetreten ist und führt nur dann $B_0$ aus:\n",
    "\n",
    "```python\n",
    "if P0:\n",
    "    B0\n",
    "```"
   ]
  },
  {
   "cell_type": "code",
   "execution_count": 1,
   "id": "b14cfe05",
   "metadata": {},
   "outputs": [],
   "source": [
    "x = 2"
   ]
  },
  {
   "cell_type": "code",
   "execution_count": 2,
   "id": "741a1bb0",
   "metadata": {},
   "outputs": [
    {
     "name": "stdout",
     "output_type": "stream",
     "text": [
      "x: 3\n"
     ]
    }
   ],
   "source": [
    "if x <= 2:\n",
    "    x += 1\n",
    "    print(f'x: {x}')"
   ]
  },
  {
   "cell_type": "markdown",
   "id": "8f839f93",
   "metadata": {},
   "source": [
    "### 3.2 ``if``-``else``-Statement\n",
    "\n",
    "In der nächsten Variante wird ein Codeblock $B_0$ nur dann ausgeführt, sofern ein logischer Ausdruck $P_0$ ``True``ergibt.\n",
    "Ist dies nicht der Fall, so wird ein anderer Codeblock $B_1$ ausgeführt.\n",
    "\n",
    "```python\n",
    "if P0:\n",
    "    B0\n",
    "else:\n",
    "    B1\n",
    "```"
   ]
  },
  {
   "cell_type": "code",
   "execution_count": 3,
   "id": "0595eae3",
   "metadata": {},
   "outputs": [],
   "source": [
    "x = 2"
   ]
  },
  {
   "cell_type": "code",
   "execution_count": 4,
   "id": "21566eb9",
   "metadata": {},
   "outputs": [
    {
     "name": "stdout",
     "output_type": "stream",
     "text": [
      "x: 3\n",
      "3\n"
     ]
    }
   ],
   "source": [
    "if x <= 2:\n",
    "    x += 1\n",
    "    print(f'x: {x}')\n",
    "else:\n",
    "    print(f'x > 2')\n",
    "print(x)"
   ]
  },
  {
   "cell_type": "markdown",
   "id": "83a9405e",
   "metadata": {},
   "source": [
    "### 3.3 ``if``-``elif``-Statements\n",
    "\n",
    "In der nächsten Variante wird höchstens ein Codeblock $B_i$ nur dann ausgeführt, sofern ein logischer Ausdruck $P_i$ ``True`` ergibt. Gibt es mehr als einen logischen Ausdruck $P_i$ welcher ``True`` ergibt, so wird der erste Codeblock (der mit dem kleinsten $i$) ausgeführt.\n",
    "\n",
    "```python\n",
    "if P0:\n",
    "    B0\n",
    "elif P1:\n",
    "    B1\n",
    "elif P2\n",
    "    B2\n",
    "...\n",
    "```"
   ]
  },
  {
   "cell_type": "code",
   "execution_count": 5,
   "id": "a6f283c3",
   "metadata": {},
   "outputs": [],
   "source": [
    "x = 2"
   ]
  },
  {
   "cell_type": "code",
   "execution_count": 6,
   "id": "a92bf7ee",
   "metadata": {},
   "outputs": [
    {
     "name": "stdout",
     "output_type": "stream",
     "text": [
      "x <= 2\n",
      "3\n"
     ]
    }
   ],
   "source": [
    "if x <= 2:\n",
    "    print(f'x <= 2')\n",
    "    x += 1\n",
    "elif x <= 5:\n",
    "    print(f'x <= 5')\n",
    "    x += 2\n",
    "elif x <= 6:\n",
    "    print(f'x <= 4')\n",
    "    x += 6\n",
    "print(x)"
   ]
  },
  {
   "cell_type": "markdown",
   "id": "a45620ef",
   "metadata": {},
   "source": [
    "### 3.4 ``if``-``elif``-``else``-Statements\n",
    "\n",
    "In der nächsten Variante wird genau ein Codeblock $B_i$ nur dann ausgeführt, sofern ein logischer Ausdruck $P_i$ ``True`` ergibt. Gibt es mehr als einen logischen Ausdruck $P_i$ welcher ``True`` ergibt, so wird der erste Codeblock (der mit dem kleinsten $i$) ausgeführt.\n",
    "Trifft kein Fall zu, wird der Alternativblock $B_n$ ausgeführt.\n",
    "\n",
    "```python\n",
    "if P0:\n",
    "    B0\n",
    "elif P1:\n",
    "    B1\n",
    "elif P2\n",
    "    B2\n",
    "...\n",
    "else:\n",
    "    Bn\n",
    "```"
   ]
  },
  {
   "cell_type": "code",
   "execution_count": 7,
   "id": "0cbc7e65",
   "metadata": {},
   "outputs": [],
   "source": [
    "x = 2"
   ]
  },
  {
   "cell_type": "code",
   "execution_count": 8,
   "id": "a50a3c3b",
   "metadata": {},
   "outputs": [
    {
     "name": "stdout",
     "output_type": "stream",
     "text": [
      "x <= 2\n",
      "3\n"
     ]
    }
   ],
   "source": [
    "if x <= 2:\n",
    "    print(f'x <= 2')\n",
    "    x += 1\n",
    "elif x <= 5:\n",
    "    print(f'x <= 5')\n",
    "    x += 2\n",
    "elif x <= 7:\n",
    "    print(f'x <= 7')\n",
    "    x += 10\n",
    "else:\n",
    "    print(f'x > 2 and x > 5 and x > 7')\n",
    "    x = 2   \n",
    "print(x)"
   ]
  },
  {
   "cell_type": "markdown",
   "id": "d0917637",
   "metadata": {},
   "source": [
    "### 3.5``if``-``if``-``else``-Statements???\n",
    "\n",
    "Aufeinanderfolgende ``if``-Statements sind nicht eine sondern mehrere Fallunterscheidungen!"
   ]
  },
  {
   "cell_type": "code",
   "execution_count": 9,
   "id": "661573a8",
   "metadata": {},
   "outputs": [],
   "source": [
    "x = 2"
   ]
  },
  {
   "cell_type": "code",
   "execution_count": 10,
   "id": "efa05ad8",
   "metadata": {},
   "outputs": [
    {
     "name": "stdout",
     "output_type": "stream",
     "text": [
      "x <= 2\n",
      "x <= 5\n",
      "x <= 7\n",
      "15\n"
     ]
    }
   ],
   "source": [
    "if x <= 2:\n",
    "    print(f'x <= 2')\n",
    "    x += 1\n",
    "if x <= 5:\n",
    "    print(f'x <= 5')\n",
    "    x += 2\n",
    "if x <= 7:\n",
    "    print(f'x <= 7')\n",
    "    x += 10\n",
    "else:\n",
    "    print(f'x > 2 and x > 5 and x > 7')\n",
    "    x = 2   \n",
    "print(x)"
   ]
  },
  {
   "cell_type": "markdown",
   "id": "4ebe150d",
   "metadata": {},
   "source": [
    "Es ist zu empfehlen mehrere ``if``-Statements durch eine Leerzeile zu trennen:"
   ]
  },
  {
   "cell_type": "code",
   "execution_count": 11,
   "id": "f68d51d4",
   "metadata": {},
   "outputs": [
    {
     "name": "stdout",
     "output_type": "stream",
     "text": [
      "x > 2 and x > 5 and x > 7\n",
      "2\n"
     ]
    }
   ],
   "source": [
    "if x <= 2:\n",
    "    print(f'x <= 2')\n",
    "    x += 1\n",
    "    \n",
    "if x <= 5:\n",
    "    print(f'x <= 5')\n",
    "    x += 2\n",
    "    \n",
    "if x <= 7:\n",
    "    print(f'x <= 7')\n",
    "    x += 10\n",
    "else:\n",
    "    print(f'x > 2 and x > 5 and x > 7')\n",
    "    x = 2   \n",
    "print(x)"
   ]
  },
  {
   "cell_type": "markdown",
   "id": "1ca35746",
   "metadata": {},
   "source": [
    "### 3.6 Verschachtelung\n",
    "\n",
    "Selbstverständlich kann ein Codeblock $B_i$ erneut eine oder mehrere Fallunterscheidungen enthalten. Und selbstverständlich können wir Fallunterscheidungen in Funktionen einbauen.\n",
    "\n",
    "***\n",
    "***Übung 1.*** In welchen Fällen ist gibt die folgende Funktion ``nested_branching(x, y)`` 0 zurück?"
   ]
  },
  {
   "cell_type": "code",
   "execution_count": 12,
   "id": "272fccf5",
   "metadata": {},
   "outputs": [],
   "source": [
    "def nested_branching(x, y):\n",
    "    if x > 2:\n",
    "        if y < 2:\n",
    "            out = x + y\n",
    "        else:\n",
    "            out = x - y\n",
    "    else:\n",
    "        if y > 2:\n",
    "            out = x * y\n",
    "        else:\n",
    "            out = 0\n",
    "    return out"
   ]
  },
  {
   "cell_type": "markdown",
   "id": "7e5207ed",
   "metadata": {},
   "source": [
    "***Lösung 1.*** Die Funktion gibt 0 zurück für: \n",
    "\n",
    "1. ``x > 2`` und (``y == x`` oder ``y == -x``)\n",
    "2. ``x <= 2`` und ``y <= 2``\n",
    "3. ``x == 0``"
   ]
  },
  {
   "cell_type": "code",
   "execution_count": 13,
   "id": "1efa9b7c",
   "metadata": {},
   "outputs": [
    {
     "name": "stdout",
     "output_type": "stream",
     "text": [
      "0\n",
      "0\n",
      "3\n",
      "0\n",
      "0\n",
      "0\n"
     ]
    }
   ],
   "source": [
    "print(nested_branching(3,3))\n",
    "print(nested_branching(3,-3))\n",
    "print(nested_branching(1,3))\n",
    "print(nested_branching(1,2))\n",
    "print(nested_branching(0,313))\n",
    "print(nested_branching(0,-313))"
   ]
  },
  {
   "cell_type": "markdown",
   "id": "919bb8f9",
   "metadata": {},
   "source": [
    "***"
   ]
  },
  {
   "cell_type": "markdown",
   "id": "75f7775d",
   "metadata": {},
   "source": [
    "Wir können häufig verschachtelte Fallunterscheidungen auflösen. Zum Beispiel können wir die Funktion auch wie folgt definieren:"
   ]
  },
  {
   "cell_type": "code",
   "execution_count": 14,
   "id": "081a62fd",
   "metadata": {},
   "outputs": [],
   "source": [
    "def nested_branching(x, y):\n",
    "    if x > 2 and y < 2:\n",
    "        out = x + y\n",
    "    elif x > 2:\n",
    "        out = x - y\n",
    "    elif x <= 2 and y > 2:\n",
    "        out = x * y\n",
    "    else:\n",
    "        out = 0\n",
    "    return out"
   ]
  },
  {
   "cell_type": "markdown",
   "id": "881cfddf",
   "metadata": {},
   "source": [
    "Es ist eine Frage der **Lesbarkeit**, welche Variante besser ist. In der zweiten Version haben wir zwar eine niedrigere Verschachtellung, allerdings sehen wir nicht sofort, dass die ersten Fälle \n",
    "\n",
    "```python\n",
    "if x > 2 and y < 2:\n",
    "        out = x + y\n",
    "elif x > 2:\n",
    "    out = x - y\n",
    "...\n",
    "```\n",
    "\n",
    "und die beiden letzten Teile\n",
    "\n",
    "```python\n",
    "...\n",
    "elif x <= 2 and y > 2:\n",
    "    out = x * y\n",
    "else:\n",
    "    out = 0\n",
    "```\n",
    "\n",
    "eine Entweder-Oder-Beziehung besitzen. \n",
    "Zudem haben wir zweimal den logischen Ausdruck ``x > 2``.\n",
    "\n",
    "Einen Block der Art:\n",
    "\n",
    "```python\n",
    "if P0:\n",
    "    if P1:\n",
    "        if P2:\n",
    "            if P3:\n",
    "                ...\n",
    "```\n",
    "\n",
    "lässt sich immer in \n",
    "\n",
    "```python\n",
    "if P0 and P1 and P2 and P3 ...:\n",
    "```\n",
    "\n",
    "umwandeln."
   ]
  },
  {
   "cell_type": "markdown",
   "id": "3c2b1ab6",
   "metadata": {},
   "source": [
    "***\n",
    "***Übung 2.*** Schreiben Sie eine Funktion ``add(a,b,c)``, welche die Summe ``a + b + c`` berechnet und bei falscher Eingabe (falsche Datentypen) einen Fehler ausgibt."
   ]
  },
  {
   "cell_type": "code",
   "execution_count": 15,
   "id": "bde9206b",
   "metadata": {
    "code_folding": []
   },
   "outputs": [],
   "source": [
    "def add(a, b, c):\n",
    "    if isinstance(a, (int, float)) and isinstance(b, (int, float)) and isinstance(c, (int, float)):\n",
    "        return a + b + c\n",
    "    else:\n",
    "        raise TypeError(f'a or b or c is of the wrong type')"
   ]
  },
  {
   "cell_type": "code",
   "execution_count": 16,
   "id": "ca376a1d",
   "metadata": {},
   "outputs": [
    {
     "data": {
      "text/plain": [
       "8"
      ]
     },
     "execution_count": 16,
     "metadata": {},
     "output_type": "execute_result"
    }
   ],
   "source": [
    "add(1,3,4)"
   ]
  },
  {
   "cell_type": "code",
   "execution_count": 17,
   "id": "c61c3aa7",
   "metadata": {},
   "outputs": [],
   "source": [
    "def add(a, b, c):\n",
    "    \"\"\"\n",
    "    Calculates the sum of three numbers (float or int)\n",
    "    :type a: int or float\n",
    "    :type b: int or float\n",
    "    :type c: int or float\n",
    "    \"\"\"\n",
    "    # 1 check input\n",
    "    if not isinstance(a, (int, float)):\n",
    "        raise TypeError(f'first argument is an {type(a)} but {int} or {float} is required.')\n",
    "    elif not isinstance(b, (int, float)):\n",
    "        raise TypeError(f'second argument is an {type(b)} but {int} or {float} is required.')\n",
    "    elif not isinstance(c, (int, float)):\n",
    "        raise TypeError(f'third argument is an {type(c)} but {int} or {float} is required.')\n",
    "    \n",
    "    # 2 do the work\n",
    "    return a + b + c"
   ]
  },
  {
   "cell_type": "code",
   "execution_count": 18,
   "id": "59c48423",
   "metadata": {},
   "outputs": [
    {
     "data": {
      "text/plain": [
       "10"
      ]
     },
     "execution_count": 18,
     "metadata": {},
     "output_type": "execute_result"
    }
   ],
   "source": [
    "add(3,2,5)"
   ]
  },
  {
   "cell_type": "code",
   "execution_count": 19,
   "id": "eb8d408f",
   "metadata": {
    "scrolled": false
   },
   "outputs": [
    {
     "name": "stdout",
     "output_type": "stream",
     "text": [
      "Help on function add in module __main__:\n",
      "\n",
      "add(a, b, c)\n",
      "    Calculates the sum of three numbers (float or int)\n",
      "    :type a: int or float\n",
      "    :type b: int or float\n",
      "    :type c: int or float\n",
      "\n"
     ]
    }
   ],
   "source": [
    "help(add)"
   ]
  },
  {
   "cell_type": "markdown",
   "id": "661a515d",
   "metadata": {},
   "source": [
    "***"
   ]
  },
  {
   "cell_type": "markdown",
   "id": "3901dd0f",
   "metadata": {},
   "source": [
    "### 3.7 Schnellschreibweise\n",
    "\n",
    "``Python`` erlaubt es uns einen Ausdruck der Form:\n",
    "\n",
    "```python\n",
    "if P0:\n",
    "    x = A0\n",
    "else:\n",
    "    x = A1\n",
    "```\n",
    "\n",
    "als \n",
    "\n",
    "```python\n",
    "x = A0 if P0 else A1\n",
    "````\n",
    "\n",
    "zu schreiben."
   ]
  },
  {
   "cell_type": "code",
   "execution_count": 20,
   "id": "c36c04a4",
   "metadata": {},
   "outputs": [
    {
     "data": {
      "text/plain": [
       "0"
      ]
     },
     "execution_count": 20,
     "metadata": {},
     "output_type": "execute_result"
    }
   ],
   "source": [
    "y = 12\n",
    "x = 0 if y % 2 == 0 else 1\n",
    "x"
   ]
  },
  {
   "cell_type": "markdown",
   "id": "d1cdef93",
   "metadata": {},
   "source": [
    "***\n",
    "***Übung 3.*** Schreiben Sie eine Funktion ``calc_tip(bill, n)`` die das zu gebende Trinkgeld berechnet.\n",
    "Dabei ist ``bill`` der Betrag der gesamten Rechnung und ``n`` die Anzahl der Leute ist. Für weniger als 6 Leute geben wir 15 % Trinkgeld, für weniger als 8 geben wir 18%, für weniger als 11 geben wir 20% und 25 % für 11 oder mehr Leute."
   ]
  },
  {
   "cell_type": "code",
   "execution_count": 21,
   "id": "5ac4d937",
   "metadata": {},
   "outputs": [],
   "source": [
    "def calc_tip(bill, n):\n",
    "    if n < 6:\n",
    "        return bill * 0.15\n",
    "    elif n < 8:\n",
    "        return bill * 0.18\n",
    "    elif n < 11:\n",
    "        return bill * 0.20\n",
    "    else:\n",
    "        return bill * 0.25"
   ]
  },
  {
   "cell_type": "markdown",
   "id": "06e5924f",
   "metadata": {},
   "source": [
    "***Übung 4.*** Schreiben Sie eine Funktion ``isinside(rect, point)``, welche genau dann ``True`` zurückgibt, wenn sich der Punkt ``point`` in dem Rechteck ``rect`` befindet. Dabei soll ``rect`` bzw. der Punkt ein Tupel der folgenden Form sein: ``rect = (x,y,width,height)``, ``point = (x,y)`` (das Rechteck 'startet' bei ``x`` und ``y``). Testen Sie Ihre Funktion."
   ]
  },
  {
   "cell_type": "code",
   "execution_count": 22,
   "id": "298efefb",
   "metadata": {},
   "outputs": [],
   "source": [
    "def isinside(rect, point):\n",
    "    x, y = point\n",
    "    x_rect, y_rect, width, height = rect\n",
    "    if x < x_rect:\n",
    "        return False\n",
    "    if x > x_rect + width:\n",
    "        return False\n",
    "    if y < y_rect:\n",
    "        return False\n",
    "    if y > y_rect + height:\n",
    "        return False\n",
    "    return True"
   ]
  },
  {
   "cell_type": "code",
   "execution_count": 23,
   "id": "198902d4",
   "metadata": {},
   "outputs": [
    {
     "data": {
      "text/plain": [
       "False"
      ]
     },
     "execution_count": 23,
     "metadata": {},
     "output_type": "execute_result"
    }
   ],
   "source": [
    "rect = (0, 0, 1, 1)\n",
    "isinside(rect, (-1,0))"
   ]
  },
  {
   "cell_type": "code",
   "execution_count": 24,
   "id": "b7e2cada",
   "metadata": {},
   "outputs": [
    {
     "data": {
      "text/plain": [
       "True"
      ]
     },
     "execution_count": 24,
     "metadata": {},
     "output_type": "execute_result"
    }
   ],
   "source": [
    "rect = (0, 0, 1, 1)\n",
    "isinside(rect, (0.5,0.5))"
   ]
  },
  {
   "cell_type": "code",
   "execution_count": 25,
   "id": "d427e683",
   "metadata": {},
   "outputs": [
    {
     "data": {
      "text/plain": [
       "True"
      ]
     },
     "execution_count": 25,
     "metadata": {},
     "output_type": "execute_result"
    }
   ],
   "source": [
    "rect = (-0.5, -0.5, 1, 1)\n",
    "isinside(rect, (-0.4,0.3))"
   ]
  },
  {
   "cell_type": "code",
   "execution_count": 26,
   "id": "3284f9d5",
   "metadata": {
    "scrolled": true
   },
   "outputs": [
    {
     "data": {
      "text/plain": [
       "False"
      ]
     },
     "execution_count": 26,
     "metadata": {},
     "output_type": "execute_result"
    }
   ],
   "source": [
    "rect = (-0.5, -0.5, 1, 1)\n",
    "isinside(rect, (-0.4,0.6))"
   ]
  },
  {
   "cell_type": "markdown",
   "id": "a879d60c",
   "metadata": {},
   "source": [
    "***Übung 5.*** Sei $f(x) = ax^2 + bx + c$ mit konstanten Zahlen $a, b, c \\in \\mathbb{R}$. Wir wissen, dass f(r) = 0 für\n",
    "\n",
    "$$x_{0,1} = \\frac{-b \\pm \\sqrt{b^2 - 4ac}}{2a}$$\n",
    "\n",
    "sofern $b^2 - 4ac >= 0$.\n",
    "\n",
    "Schreiben Sie eine Funktion die Ihnen ``solve_quadratic(a, b, c)`` die Ihnen alle $x_{0,1}$ berechnet. (Es gibt eine, zwei oder keine Lösung)."
   ]
  },
  {
   "cell_type": "code",
   "execution_count": 27,
   "id": "d045215e",
   "metadata": {},
   "outputs": [],
   "source": [
    "def is_zero(x):\n",
    "    epsilon = 1.0e-12\n",
    "    return -epsilon < x < 1.0e-12\n",
    "\n",
    "def solve_quadratic(a, b, c):\n",
    "    \"\"\"\"\n",
    "    solves the quadratic equation ax^2 + bx + c = 0.\n",
    "    a == b == c == 0 is not allowed!\n",
    "    \"\"\"\n",
    "    \n",
    "    disc = b**2 - (4*a*c)\n",
    "    epsilon = 1.0e-12\n",
    "    \n",
    "    # a == 0? => line => one or none solution\n",
    "    if is_zero(a):\n",
    "        # b == 0? \n",
    "        if is_zero(b):\n",
    "            # c == 0 => infinitely many solutions\n",
    "            if is_zero(c):\n",
    "                raise AttributeError('Invalid arguments a == b == c == 0! This quadratic equation has infinitely many solutions.')\n",
    "            else:\n",
    "                return ()\n",
    "        else:\n",
    "            return -c/b,\n",
    "        \n",
    "    # disc < 0 => no solution\n",
    "    if disc < 0:\n",
    "        return ()\n",
    "    \n",
    "    # disc == 0? => one solution\n",
    "    if is_zero(disc):\n",
    "        return -b / (2*a),\n",
    "    \n",
    "    # default case => 2 solutions\n",
    "    return (-b + disc) / (2*a), (-b - disc) / (2*a)"
   ]
  },
  {
   "cell_type": "code",
   "execution_count": 28,
   "id": "e69b4c1e",
   "metadata": {},
   "outputs": [
    {
     "name": "stdout",
     "output_type": "stream",
     "text": [
      "(1.0,)\n",
      "()\n",
      "()\n",
      "(4.5, -1.5)\n"
     ]
    }
   ],
   "source": [
    "print(solve_quadratic(1, -2, 1)) # one solution\n",
    "print(solve_quadratic(2, -2, 3)) # no solution\n",
    "print(solve_quadratic(0, 0, 3)) # no solution\n",
    "print(solve_quadratic(2, -6, 3)) # two solution"
   ]
  },
  {
   "cell_type": "markdown",
   "id": "f7c05b5b",
   "metadata": {},
   "source": [
    "***"
   ]
  }
 ],
 "metadata": {
  "kernelspec": {
   "display_name": "Python 3 (ipykernel)",
   "language": "python",
   "name": "python3"
  },
  "language_info": {
   "codemirror_mode": {
    "name": "ipython",
    "version": 3
   },
   "file_extension": ".py",
   "mimetype": "text/x-python",
   "name": "python",
   "nbconvert_exporter": "python",
   "pygments_lexer": "ipython3",
   "version": "3.9.5"
  }
 },
 "nbformat": 4,
 "nbformat_minor": 5
}
