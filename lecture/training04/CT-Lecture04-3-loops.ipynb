{
 "cells": [
  {
   "cell_type": "markdown",
   "id": "fd3e9da2",
   "metadata": {},
   "source": [
    "# Vorlesung 04 - Computational Thinking\n",
    "**Prof. Dr.-Ing. Martin Hobelsberger, Dr. Benedikt Zönnchen**"
   ]
  },
  {
   "cell_type": "markdown",
   "id": "4b50be62",
   "metadata": {},
   "source": [
    "## 4 Schleifen\n",
    "\n",
    "Viele Aufgaben, die wir über unser Leben hinweg verrichten sind langweilig, da wir immer und immer wieder die gleichen Basisschritte wiederholen müssen. \n",
    "\n",
    "Nehmen Sie nur das Nachschlagen einer Telefonnummer im Telefonbuch (falls Sie so etwas überhaupt noch kennen). Wir gehen dabei Seite für Seite durch und suchen nach einem bestimmten Namen - langweilig ...\n",
    "\n",
    "Auch ganz alltägliche Dinge wie der Abwasch, Zähneputzen, Kochen, ja nahezu jede Aktion beinhaltet die eine oder andere Art der Wiederholung.\n",
    "\n",
    "Wie sich gezeigt hat, können wir interessanterweise durch diese langweiligen Wiederholungen ganz erstaunliche Dinge vollbringen. **Wiederholung ist die Grundlage aller Berechnung.**"
   ]
  },
  {
   "cell_type": "markdown",
   "id": "d2838405",
   "metadata": {},
   "source": [
    "### 4.1 Beispiel / Motivation"
   ]
  },
  {
   "cell_type": "markdown",
   "id": "6a3e56e2",
   "metadata": {},
   "source": [
    "Lassen Sie uns einmal zurück zu unseren Roboter blicken."
   ]
  },
  {
   "cell_type": "code",
   "execution_count": 1,
   "id": "8a212b2d",
   "metadata": {},
   "outputs": [],
   "source": [
    "import roboworld as rw"
   ]
  },
  {
   "cell_type": "markdown",
   "id": "084d830e",
   "metadata": {},
   "source": [
    "Die Folgende Welt enthält unseren Roboter (türkis), das Ziel (gelb), begehbare Zellen (lila) und unbegehbare Hindernisse (blau)."
   ]
  },
  {
   "cell_type": "code",
   "execution_count": 2,
   "id": "ade23518",
   "metadata": {},
   "outputs": [
    {
     "data": {
      "image/png": "[encoded data removed]",
      "text/plain": [
       "<Figure size 280x280 with 1 Axes>"
      ]
     },
     "execution_count": 2,
     "metadata": {},
     "output_type": "execute_result"
    }
   ],
   "source": [
    "world = rw.complex_maze(nrows=7, ncols=7)\n",
    "world.show()"
   ]
  },
  {
   "cell_type": "markdown",
   "id": "03cf523b",
   "metadata": {},
   "source": [
    "Wir sollen nun einen Algorithmus entwerfen, welcher den Roboter zum Ziel führt (sofern dies möglich ist).\n",
    "Diese Aufgabe scheint überwältigend schwierig."
   ]
  },
  {
   "cell_type": "code",
   "execution_count": 3,
   "id": "aec877e1",
   "metadata": {},
   "outputs": [],
   "source": [
    "import random as rnd\n",
    "\n",
    "def random_move(robo):\n",
    "    turns = rnd.choice([0,1,2,3])\n",
    "    for _ in range(turns):\n",
    "        robo.turn_left()\n",
    "    if not robo.is_wall_in_front():\n",
    "        robo.move()"
   ]
  },
  {
   "cell_type": "code",
   "execution_count": 4,
   "id": "54063693",
   "metadata": {},
   "outputs": [],
   "source": [
    "robo = world.get_robo()\n",
    "robo.disable_print()\n",
    "while not robo.is_at_goal():\n",
    "    random_move(robo)"
   ]
  },
  {
   "cell_type": "code",
   "execution_count": 5,
   "id": "7a3ad778",
   "metadata": {
    "scrolled": true
   },
   "outputs": [
    {
     "name": "stderr",
     "output_type": "stream",
     "text": [
      "MovieWriter imagemagick unavailable; using Pillow instead.\n"
     ]
    },
    {
     "data": {
      "text/html": [
       "\n",
       "<link rel=\"stylesheet\"\n",
       "href=\"https://maxcdn.bootstrapcdn.com/font-awesome/4.4.0/css/font-awesome.min.css\">\n",
       "<script language=\"javascript\">\n",
       "  function isInternetExplorer() {\n",
       "    ua = navigator.userAgent;\n",
       "    /* MSIE used to detect old browsers and Trident used to newer ones*/\n",
       "    return ua.indexOf(\"MSIE \") > -1 || ua.indexOf(\"Trident/\") > -1;\n",
       "  }\n",
       "\n",
       "  /* Define the Animation class */\n",
       "  function Animation(frames, img_id, slider_id, interval, loop_select_id){\n",
       "    this.img_id = img_id;\n",
       "    this.slider_id = slider_id;\n",
       "    this.loop_select_id = loop_select_id;\n",
       "    this.interval = interval;\n",
       "    this.current_frame = 0;\n",
       "    this.direction = 0;\n",
       "    this.timer = null;\n",
       "    this.frames = new Array(frames.length);\n",
       "\n",
       "    for (var i=0; i<frames.length; i++)\n",
       "    {\n",
       "     this.frames[i] = new Image();\n",
       "     this.frames[i].src = frames[i];\n",
       "    }\n",
       "    var slider = document.getElementById(this.slider_id);\n",
       "    slider.max = this.frames.length - 1;\n",
       "    if (isInternetExplorer()) {\n",
       "        // switch from oninput to onchange because IE <= 11 does not conform\n",
       "        // with W3C specification. It ignores oninput and onchange behaves\n",
       "        // like oninput. In contrast, Microsoft Edge behaves correctly.\n",
       "        slider.setAttribute('onchange', slider.getAttribute('oninput'));\n",
       "        slider.setAttribute('oninput', null);\n",
       "    }\n",
       "    this.set_frame(this.current_frame);\n",
       "  }\n",
       "\n",
       "  Animation.prototype.get_loop_state = function(){\n",
       "    var button_group = document[this.loop_select_id].state;\n",
       "    for (var i = 0; i < button_group.length; i++) {\n",
       "        var button = button_group[i];\n",
       "        if (button.checked) {\n",
       "            return button.value;\n",
       "        }\n",
       "    }\n",
       "    return undefined;\n",
       "  }\n",
       "\n",
       "  Animation.prototype.set_frame = function(frame){\n",
       "    this.current_frame = frame;\n",
       "    document.getElementById(this.img_id).src =\n",
       "            this.frames[this.current_frame].src;\n",
       "    document.getElementById(this.slider_id).value = this.current_frame;\n",
       "  }\n",
       "\n",
       "  Animation.prototype.next_frame = function()\n",
       "  {\n",
       "    this.set_frame(Math.min(this.frames.length - 1, this.current_frame + 1));\n",
       "  }\n",
       "\n",
       "  Animation.prototype.previous_frame = function()\n",
       "  {\n",
       "    this.set_frame(Math.max(0, this.current_frame - 1));\n",
       "  }\n",
       "\n",
       "  Animation.prototype.first_frame = function()\n",
       "  {\n",
       "    this.set_frame(0);\n",
       "  }\n",
       "\n",
       "  Animation.prototype.last_frame = function()\n",
       "  {\n",
       "    this.set_frame(this.frames.length - 1);\n",
       "  }\n",
       "\n",
       "  Animation.prototype.slower = function()\n",
       "  {\n",
       "    this.interval /= 0.7;\n",
       "    if(this.direction > 0){this.play_animation();}\n",
       "    else if(this.direction < 0){this.reverse_animation();}\n",
       "  }\n",
       "\n",
       "  Animation.prototype.faster = function()\n",
       "  {\n",
       "    this.interval *= 0.7;\n",
       "    if(this.direction > 0){this.play_animation();}\n",
       "    else if(this.direction < 0){this.reverse_animation();}\n",
       "  }\n",
       "\n",
       "  Animation.prototype.anim_step_forward = function()\n",
       "  {\n",
       "    this.current_frame += 1;\n",
       "    if(this.current_frame < this.frames.length){\n",
       "      this.set_frame(this.current_frame);\n",
       "    }else{\n",
       "      var loop_state = this.get_loop_state();\n",
       "      if(loop_state == \"loop\"){\n",
       "        this.first_frame();\n",
       "      }else if(loop_state == \"reflect\"){\n",
       "        this.last_frame();\n",
       "        this.reverse_animation();\n",
       "      }else{\n",
       "        this.pause_animation();\n",
       "        this.last_frame();\n",
       "      }\n",
       "    }\n",
       "  }\n",
       "\n",
       "  Animation.prototype.anim_step_reverse = function()\n",
       "  {\n",
       "    this.current_frame -= 1;\n",
       "    if(this.current_frame >= 0){\n",
       "      this.set_frame(this.current_frame);\n",
       "    }else{\n",
       "      var loop_state = this.get_loop_state();\n",
       "      if(loop_state == \"loop\"){\n",
       "        this.last_frame();\n",
       "      }else if(loop_state == \"reflect\"){\n",
       "        this.first_frame();\n",
       "        this.play_animation();\n",
       "      }else{\n",
       "        this.pause_animation();\n",
       "        this.first_frame();\n",
       "      }\n",
       "    }\n",
       "  }\n",
       "\n",
       "  Animation.prototype.pause_animation = function()\n",
       "  {\n",
       "    this.direction = 0;\n",
       "    if (this.timer){\n",
       "      clearInterval(this.timer);\n",
       "      this.timer = null;\n",
       "    }\n",
       "  }\n",
       "\n",
       "  Animation.prototype.play_animation = function()\n",
       "  {\n",
       "    this.pause_animation();\n",
       "    this.direction = 1;\n",
       "    var t = this;\n",
       "    if (!this.timer) this.timer = setInterval(function() {\n",
       "        t.anim_step_forward();\n",
       "    }, this.interval);\n",
       "  }\n",
       "\n",
       "  Animation.prototype.reverse_animation = function()\n",
       "  {\n",
       "    this.pause_animation();\n",
       "    this.direction = -1;\n",
       "    var t = this;\n",
       "    if (!this.timer) this.timer = setInterval(function() {\n",
       "        t.anim_step_reverse();\n",
       "    }, this.interval);\n",
       "  }\n",
       "</script>\n",
       "\n",
       "<style>\n",
       ".animation {\n",
       "    display: inline-block;\n",
       "    text-align: center;\n",
       "}\n",
       "input[type=range].anim-slider {\n",
       "    width: 374px;\n",
       "    margin-left: auto;\n",
       "    margin-right: auto;\n",
       "}\n",
       ".anim-buttons {\n",
       "    margin: 8px 0px;\n",
       "}\n",
       ".anim-buttons button {\n",
       "    padding: 0;\n",
       "    width: 36px;\n",
       "}\n",
       ".anim-state label {\n",
       "    margin-right: 8px;\n",
       "}\n",
       ".anim-state input {\n",
       "    margin: 0;\n",
       "    vertical-align: middle;\n",
       "}\n",
       "</style>\n",
       "\n",
       "<div class=\"animation\">\n",
       "  <img id=\"_anim_imgfe581b1588d14c60b000dade616f557f\">\n",
       "  <div class=\"anim-controls\">\n",
       "    <input id=\"_anim_sliderfe581b1588d14c60b000dade616f557f\" type=\"range\" class=\"anim-slider\"\n",
       "           name=\"points\" min=\"0\" max=\"1\" step=\"1\" value=\"0\"\n",
       "           oninput=\"animfe581b1588d14c60b000dade616f557f.set_frame(parseInt(this.value));\"></input>\n",
       "    <div class=\"anim-buttons\">\n",
       "      <button title=\"Decrease speed\" aria-label=\"Decrease speed\" onclick=\"animfe581b1588d14c60b000dade616f557f.slower()\">\n",
       "          <i class=\"fa fa-minus\"></i></button>\n",
       "      <button title=\"First frame\" aria-label=\"First frame\" onclick=\"animfe581b1588d14c60b000dade616f557f.first_frame()\">\n",
       "        <i class=\"fa fa-fast-backward\"></i></button>\n",
       "      <button title=\"Previous frame\" aria-label=\"Previous frame\" onclick=\"animfe581b1588d14c60b000dade616f557f.previous_frame()\">\n",
       "          <i class=\"fa fa-step-backward\"></i></button>\n",
       "      <button title=\"Play backwards\" aria-label=\"Play backwards\" onclick=\"animfe581b1588d14c60b000dade616f557f.reverse_animation()\">\n",
       "          <i class=\"fa fa-play fa-flip-horizontal\"></i></button>\n",
       "      <button title=\"Pause\" aria-label=\"Pause\" onclick=\"animfe581b1588d14c60b000dade616f557f.pause_animation()\">\n",
       "          <i class=\"fa fa-pause\"></i></button>\n",
       "      <button title=\"Play\" aria-label=\"Play\" onclick=\"animfe581b1588d14c60b000dade616f557f.play_animation()\">\n",
       "          <i class=\"fa fa-play\"></i></button>\n",
       "      <button title=\"Next frame\" aria-label=\"Next frame\" onclick=\"animfe581b1588d14c60b000dade616f557f.next_frame()\">\n",
       "          <i class=\"fa fa-step-forward\"></i></button>\n",
       "      <button title=\"Last frame\" aria-label=\"Last frame\" onclick=\"animfe581b1588d14c60b000dade616f557f.last_frame()\">\n",
       "          <i class=\"fa fa-fast-forward\"></i></button>\n",
       "      <button title=\"Increase speed\" aria-label=\"Increase speed\" onclick=\"animfe581b1588d14c60b000dade616f557f.faster()\">\n",
       "          <i class=\"fa fa-plus\"></i></button>\n",
       "    </div>\n",
       "    <form title=\"Repetition mode\" aria-label=\"Repetition mode\" action=\"#n\" name=\"_anim_loop_selectfe581b1588d14c60b000dade616f557f\"\n",
       "          class=\"anim-state\">\n",
       "      <input type=\"radio\" name=\"state\" value=\"once\" id=\"_anim_radio1_fe581b1588d14c60b000dade616f557f\"\n",
       "             >\n",
       "      <label for=\"_anim_radio1_fe581b1588d14c60b000dade616f557f\">Once</label>\n",
       "      <input type=\"radio\" name=\"state\" value=\"loop\" id=\"_anim_radio2_fe581b1588d14c60b000dade616f557f\"\n",
       "             checked>\n",
       "      <label for=\"_anim_radio2_fe581b1588d14c60b000dade616f557f\">Loop</label>\n",
       "      <input type=\"radio\" name=\"state\" value=\"reflect\" id=\"_anim_radio3_fe581b1588d14c60b000dade616f557f\"\n",
       "             >\n",
       "      <label for=\"_anim_radio3_fe581b1588d14c60b000dade616f557f\">Reflect</label>\n",
       "    </form>\n",
       "  </div>\n",
       "</div>\n",
       "\n",
       "\n",
       "<script language=\"javascript\">\n",
       "  /* Instantiate the Animation class. */\n",
       "  /* The IDs given should match those used in the template above. */\n",
       "  (function() {\n",
       "    var img_id = \"_anim_imgfe581b1588d14c60b000dade616f557f\";\n",
       "    var slider_id = \"_anim_sliderfe581b1588d14c60b000dade616f557f\";\n",
       "    var loop_select_id = \"_anim_loop_selectfe581b1588d14c60b000dade616f557f\";\n",
       "    var frames = new Array(4);\n",
       "    \n",
       "  frames[0] = \"data:image/png;base64,iVBORw0KGgoAAAANSUhEUgAAARgAAAEYCAYAAACHjumMAAAAOXRFWHRTb2Z0d2FyZQBNYXRwbG90\\\n",
       "bGliIHZlcnNpb24zLjQuMywgaHR0cHM6Ly9tYXRwbG90bGliLm9yZy/MnkTPAAAACXBIWXMAAAxO\\\n",
       "AAAMTgF/d4wjAAAFzklEQVR4nO3XMUouVwCG4TP/vV5xGJDhD8TuLkJcwMWQ3s5KbNzAxUWkEosU\\\n",
       "yt/YJBIIWAbSSNaQbMAylRaimCCTFZxq+DhDeJ4VfJwz88LpVqvVtLu7W5aq67oyTVPrGVX2zWPf\\\n",
       "PEvf93F3d7fsPx223lF1ujkqN2d3rWdU2TePffMsfd+q9QDg/0tggBiBAWIEBogRGCBGYIAYgQFi\\\n",
       "BAaIERggRmCAGIEBYgQGiBEYIEZggBiBAWIEBogRGCBGYIAYgQFiBAaIERggRmCAGIEBYgQGiBEY\\\n",
       "IEZggBiBAWIEBogRGCBGYIAYgQFiBAaIERggRmCAGIEBYgQGiBEYIEZggJhuGIbp119+bL2j6uWf\\\n",
       "3fL89t56RtWw/WHZ+7ZW5eXxtfWMqn7dL/v83O8s3Tfrcfr7r3XrHVU//fFDubh/aD2j6uuXz4ve\\\n",
       "d36wV27O7lrPqDq5PV70+bnfeTyRgBiBAWIEBogRGCBGYIAYgQFiBAaIERggRmCAGIEBYgQGiBEY\\\n",
       "IEZggBiBAWIEBogRGCBGYIAYgQFiBAaIERggRmCAGIEBYgQGiBEYIEZggBiBAWIEBogRGCBGYIAY\\\n",
       "gQFiBAaIERggRmCAGIEBYgQGiBEYIEZggBiBAWK6YRimzc+b1juqtv/dLi+Pr61nVPXjjn0z2DdP\\\n",
       "v+7L89t76xlVHz9tfyq/fft76x1V3//5Xbk5u2s9o+p0c2TfDPbNc3J7XC7uH1rPqPJEAmIEBogR\\\n",
       "GCBGYIAYgQFiBAaIERggRmCAGIEBYgQGiBEYIEZggBiBAWIEBogRGCBGYIAYgQFiBAaIERggRmCA\\\n",
       "GIEBYgQGiBEYIEZggBiBAWIEBogRGCBGYIAYgQFiBAaIERggRmCAGIEBYgQGiBEYIEZggBiBAWIE\\\n",
       "BojphmGYri6vW++o6sed8vL42npGVb/uy/Pbe+sZVcPWyvnNsPjzW/j/0Y3jOO0/HbbeUXW6OSo3\\\n",
       "Z3etZ1Sd3B6Xi/uH1jOqzg/2nN8MSz+/pf8fnkhAjMAAMQIDxAgMECMwQIzAADECA8QIDBAjMECM\\\n",
       "wAAxAgPECAwQIzBAjMAAMQIDxAgMECMwQIzAADECA8QIDBAjMECMwAAxAgPECAwQIzBAjMAAMQID\\\n",
       "xAgMECMwQIzAADECA8QIDBAjMECMwAAxAgPECAwQIzBAjMAAMd0wDNPV5XXrHVX9ui/Pb++tZ1QN\\\n",
       "W6vy8vjaekZVP+7YN4Pvb55uHMdp/+mw9Y6qk9vjcnH/0HpG1fnBXrk5u2s9o+p0c2TfDL6/eTyR\\\n",
       "gBiBAWIEBogRGCBGYIAYgQFiBAaIERggRmCAGIEBYgQGiBEYIEZggBiBAWIEBogRGCBGYIAYgQFi\\\n",
       "BAaIERggRmCAGIEBYgQGiBEYIEZggBiBAWIEBogRGCBGYIAYgQFiBAaIERggRmCAGIEBYgQGiBEY\\\n",
       "IEZggBiBAWK6YRimq8vr1juq+nVfnt/eW8+oGrY/LHvf1qq8PL62nlG1+Ptd+vmNO4ve143jOO0/\\\n",
       "HbbeUXVye1wu7h9az6j6+uXzovedH+yVm7O71jOqln6/Sz+/083Rovd5IgExAgPECAwQIzBAjMAA\\\n",
       "MQIDxAgMECMwQIzAADECA8QIDBAjMECMwAAxAgPECAwQIzBAjMAAMQIDxAgMECMwQIzAADECA8QI\\\n",
       "DBAjMECMwAAxAgPECAwQIzBAjMAAMQIDxAgMECMwQIzAADECA8QIDBAjMECMwAAxAgPEdMMwTFeX\\\n",
       "1613VPXjTnl5fG09o8q+eeybp1/35fntvfWMqm4cx2n/6bD1jqrTzVG5ObtrPaPKvnnsm+fk9rhc\\\n",
       "3D+0nlHliQTECAwQIzBAjMAAMQIDxAgMECMwQIzAADECA8QIDBAjMECMwAAxAgPECAwQIzBAjMAA\\\n",
       "MQIDxAgMECMwQIzAADECA8QIDBAjMECMwAAxAgPECAwQIzBAjMAAMQIDxAgMECMwQIzAADECA8QI\\\n",
       "DBAjMECMwAAxAgPECAwQ8x8tJCYxPRe0WAAAAABJRU5ErkJggg==\\\n",
       "\"\n",
       "  frames[1] = \"data:image/png;base64,iVBORw0KGgoAAAANSUhEUgAAARgAAAEYCAYAAACHjumMAAAAOXRFWHRTb2Z0d2FyZQBNYXRwbG90\\\n",
       "bGliIHZlcnNpb24zLjQuMywgaHR0cHM6Ly9tYXRwbG90bGliLm9yZy/MnkTPAAAACXBIWXMAAAxO\\\n",
       "AAAMTgF/d4wjAAAF40lEQVR4nO3XMUouVwCG4TP/jYiTARn+C7G7ixAXcDGklzRWIgQ3cHERqcQi\\\n",
       "hWJjEyQQkFSBNJI1JBuwTKWF6DUXmazgVMPHGcLzrODjnJkXTrdarabt7e2yVF3XlWmaWs+osm8e\\\n",
       "++ZZ+r6vtre3y+7jfusdVcdXB+X65Lb1jCr75rFvnqXvW7UeAPx/CQwQIzBAjMAAMQIDxAgMECMw\\\n",
       "QIzAADECA8QIDBAjMECMwAAxAgPECAwQIzBAjMAAMQIDxAgMECMwQIzAADECA8QIDBAjMECMwAAx\\\n",
       "AgPECAwQIzBAjMAAMQIDxAgMECMwQIzAADECA8QIDBAjMECMwAAxAgPECAwQ0w3DMP36y0+td1Q9\\\n",
       "/7tdnl7fWs+oGjbfLXvfxqo8P7y0nlHVr/tln5/7naV7vx6nf/5et95R9fOfP5azu/vWM6o+ffyw\\\n",
       "6H2nezvl+uS29Yyqo5vDRZ+f+53HEwmIERggRmCAGIEBYgQGiBEYIEZggBiBAWIEBogRGCBGYIAY\\\n",
       "gQFiBAaIERggRmCAGIEBYgQGiBEYIEZggBiBAWIEBogRGCBGYIAYgQFiBAaIERggRmCAGIEBYgQG\\\n",
       "iBEYIEZggBiBAWIEBogRGCBGYIAYgQFiBAaIERggphuGYbo4v2y9o+rr9335vPrcekbV5pfN8vzw\\\n",
       "0npGVT9u2TfD4vet+/L0+tZ6RlU3juO0+7jfekfVD799X37/5o/WM6q+++vbcn1y23pG1fHVgX0z\\\n",
       "LH3f0c1hObu7bz2jyhMJiBEYIEZggBiBAWIEBogRGCBGYIAYgQFiBAaIERggRmCAGIEBYgQGiBEY\\\n",
       "IEZggBiBAWIEBogRGCBGYIAYgQFiBAaIERggRmCAGIEBYgQGiBEYIEZggBiBAWIEBogRGCBGYIAY\\\n",
       "gQFiBAaIERggRmCAGIEBYgQGiBEYIKYbhmG6OL9svaOqH7fK88NL6xlV/bovT69vrWdUDRsr5zfD\\\n",
       "4s9v4f9HN47jtPu433pH1fHVQbk+uW09o+ro5rCc3d23nlF1urfj/GZY+vkt/f/wRAJiBAaIERgg\\\n",
       "RmCAGIEBYgQGiBEYIEZggBiBAWIEBogRGCBGYIAYgQFiBAaIERggRmCAGIEBYgQGiBEYIEZggBiB\\\n",
       "AWIEBogRGCBGYIAYgQFiBAaIERggRmCAGIEBYgQGiBEYIEZggBiBAWIEBogRGCBGYIAYgQFiBAaI\\\n",
       "6YZhmC7OL1vvqOrXfXl6fWs9o2rYWJXnh5fWM6r6ccu+GXx/83TjOE67j/utd1Qd3RyWs7v71jOq\\\n",
       "Tvd2yvXJbesZVcdXB/bN4PubxxMJiBEYIEZggBiBAWIEBogRGCBGYIAYgQFiBAaIERggRmCAGIEB\\\n",
       "YgQGiBEYIEZggBiBAWIEBogRGCBGYIAYgQFiBAaIERggRmCAGIEBYgQGiBEYIEZggBiBAWIEBogR\\\n",
       "GCBGYIAYgQFiBAaIERggRmCAGIEBYgQGiBEYIKYbhmG6OL9svaOqX/fl6fWt9YyqYfPdsvdtrMrz\\\n",
       "w0vrGVWLv9+ln9+4teh93TiO0+7jfusdVUc3h+Xs7r71jKpPHz8set/p3k65PrltPaNq6fe79PM7\\\n",
       "vjpY9D5PJCBGYIAYgQFiBAaIERggRmCAGIEBYgQGiBEYIEZggBiBAWIEBogRGCBGYIAYgQFiBAaI\\\n",
       "ERggRmCAGIEBYgQGiBEYIEZggBiBAWIEBogRGCBGYIAYgQFiBAaIERggRmCAGIEBYgQGiBEYIEZg\\\n",
       "gBiBAWIEBogRGCBGYICYbhiG6eL8svWOqn7cKs8PL61nVNk3j33z9Ou+PL2+tZ5R1Y3jOO0+7rfe\\\n",
       "UXV8dVCuT25bz6iybx775jm6OSxnd/etZ1R5IgExAgPECAwQIzBAjMAAMQIDxAgMECMwQIzAADEC\\\n",
       "A8QIDBAjMECMwAAxAgPECAwQIzBAjMAAMQIDxAgMECMwQIzAADECA8QIDBAjMECMwAAxAgPECAwQ\\\n",
       "IzBAjMAAMQIDxAgMECMwQIzAADECA8QIDBAjMECMwAAxAgPE/AeAfCYa9nXjNAAAAABJRU5ErkJg\\\n",
       "gg==\\\n",
       "\"\n",
       "  frames[2] = \"data:image/png;base64,iVBORw0KGgoAAAANSUhEUgAAARgAAAEYCAYAAACHjumMAAAAOXRFWHRTb2Z0d2FyZQBNYXRwbG90\\\n",
       "bGliIHZlcnNpb24zLjQuMywgaHR0cHM6Ly9tYXRwbG90bGliLm9yZy/MnkTPAAAACXBIWXMAAAxO\\\n",
       "AAAMTgF/d4wjAAAF0UlEQVR4nO3XMWokRwCF4e5Zi0VNs0MzDpTtIYQOsOgEyhQJJXOBRWcwjoSC\\\n",
       "DSSUTGKLBcMkDg3CB3Dm1IFCR1IgRpax6D1BRc2jGvN9J3hUdf9Q7WKxGJfLZTNXbds24zjWnlFk\\\n",
       "3zT2TTP3fd8tl8vm8Om49o6i89uTZrPe1p5RZN809k0z932L2gOA/y+BAWIEBogRGCBGYIAYgQFi\\\n",
       "BAaIERggRmCAGIEBYgQGiBEYIEZggBiBAWIEBogRGCBGYIAYgQFiBAaIERggRmCAGIEBYgQGiBEY\\\n",
       "IEZggBiBAWIEBogRGCBGYIAYgQFiBAaIERggRmCAGIEBYgQGiBEYIEZggBiBAWLavu/HX75+qb2j\\\n",
       "aPfvsnl+fas9o6h//27e+/YWze7xpfaMom7Vzfv83O8k7ferYfz7z1XtHUU//f5jc3n/UHtG0edP\\\n",
       "H2e97+LooNmst7VnFJ3dnc76/NzvNJ5IQIzAADECA8QIDBAjMECMwAAxAgPECAwQIzBAjMAAMQID\\\n",
       "xAgMECMwQIzAADECA8QIDBAjMECMwAAxAgPECAwQIzBAjMAAMQIDxAgMECMwQIzAADECA8QIDBAj\\\n",
       "MECMwAAxAgPECAwQIzBAjMAAMQIDxAgMECMwQIzAADFt3/fjz1+/1N5R9N8/H5rd40vtGUXdsG/f\\\n",
       "BPZN06265vn1rfaMona1GsZf//hQe0fRX7/90GzW29ozis5vT+ybwL5pzu5Om8v7h9ozijyRgBiB\\\n",
       "AWIEBogRGCBGYIAYgQFiBAaIERggRmCAGIEBYgQGiBEYIEZggBiBAWIEBogRGCBGYIAYgQFiBAaI\\\n",
       "ERggRmCAGIEBYgQGiBEYIEZggBiBAWIEBogRGCBGYIAYgQFiBAaIERggRmCAGIEBYgQGiBEYIEZg\\\n",
       "gBiBAWLavu/H66ub2juKumG/2T2+1J5R1K265vn1rfaMon5v4fwmmP35zfz/aIdhGA+fjmvvKDq/\\\n",
       "PWk2623tGUVnd6fN5f1D7RlFF0cHzm+CuZ/f3P8PTyQgRmCAGIEBYgQGiBEYIEZggBiBAWIEBogR\\\n",
       "GCBGYIAYgQFiBAaIERggRmCAGIEBYgQGiBEYIEZggBiBAWIEBogRGCBGYIAYgQFiBAaIERggRmCA\\\n",
       "GIEBYgQGiBEYIEZggBiBAWIEBogRGCBGYIAYgQFiBAaIERggRmCAmLbv+/H66qb2jqJu1TXPr2+1\\\n",
       "ZxT1e4tm9/hSe0ZRN+zbN4Hvb5p2GIbx8Om49o6is7vT5vL+ofaMooujg2az3taeUXR+e2LfBL6/\\\n",
       "aTyRgBiBAWIEBogRGCBGYIAYgQFiBAaIERggRmCAGIEBYgQGiBEYIEZggBiBAWIEBogRGCBGYIAY\\\n",
       "gQFiBAaIERggRmCAGIEBYgQGiBEYIEZggBiBAWIEBogRGCBGYIAYgQFiBAaIERggRmCAGIEBYgQG\\\n",
       "iBEYIEZggBiBAWLavu/H66ub2juKulXXPL++1Z5R1L9/N+99e4tm9/hSe0bR7O937uc37M96XzsM\\\n",
       "w3j4dFx7R9HZ3Wlzef9Qe0bR508fZ73v4uig2ay3tWcUzf1+535+57cns97niQTECAwQIzBAjMAA\\\n",
       "MQIDxAgMECMwQIzAADECA8QIDBAjMECMwAAxAgPECAwQIzBAjMAAMQIDxAgMECMwQIzAADECA8QI\\\n",
       "DBAjMECMwAAxAgPECAwQIzBAjMAAMQIDxAgMECMwQIzAADECA8QIDBAjMECMwAAxAgPECAwQ0/Z9\\\n",
       "P15f3dTeUdQN+83u8aX2jCL7prFvmm7VNc+vb7VnFLXDMIyHT8e1dxSd3540m/W29owi+6axb5qz\\\n",
       "u9Pm8v6h9owiTyQgRmCAGIEBYgQGiBEYIEZggBiBAWIEBogRGCBGYIAYgQFiBAaIERggRmCAGIEB\\\n",
       "YgQGiBEYIEZggBiBAWIEBogRGCBGYIAYgQFiBAaIERggRmCAGIEBYgQGiBEYIEZggBiBAWIEBogR\\\n",
       "GCBGYIAYgQFiBAaIERggRmCAmG/yuikaPQPhbwAAAABJRU5ErkJggg==\\\n",
       "\"\n",
       "  frames[3] = \"data:image/png;base64,iVBORw0KGgoAAAANSUhEUgAAARgAAAEYCAYAAACHjumMAAAAOXRFWHRTb2Z0d2FyZQBNYXRwbG90\\\n",
       "bGliIHZlcnNpb24zLjQuMywgaHR0cHM6Ly9tYXRwbG90bGliLm9yZy/MnkTPAAAACXBIWXMAAAxO\\\n",
       "AAAMTgF/d4wjAAAFv0lEQVR4nO3XMUolSQDG8eo34w72NkividnAXkE8wOAJzIzE5AWbDp5DDJUX\\\n",
       "7Mvc7B3BO+wNhM01kCeySO8JKmo+qll+vxN8VHX/obrVajUdHR2Vpeq6rkzT1HpGlX3z2DfP0vd9\\\n",
       "PTo6Kqev5613VF1vLsp2vWs9o8q+eeybZ+n7Vq0HAP9fAgPECAwQIzBAjMAAMQIDxAgMECMwQIzA\\\n",
       "ADECA8QIDBAjMECMwAAxAgPECAwQIzBAjMAAMQIDxAgMECMwQIzAADECA8QIDBAjMECMwAAxAgPE\\\n",
       "CAwQIzBAjMAAMQIDxAgMECMwQIzAADECA8QIDBAjMECMwAAxAgPEdMMwTNu/7lvvqFr9+2t5+/hs\\\n",
       "PaNq+PZl2fsOVmX/8t56RlV/3C/7/NzvLF9/+XZQ/vn9z9Y7qn77+49y+/TcekbVzx/fF73v5uyk\\\n",
       "bNe71jOqrh4vF31+7nceTyQgRmCAGIEBYgQGiBEYIEZggBiBAWIEBogRGCBGYIAYgQFiBAaIERgg\\\n",
       "RmCAGIEBYgQGiBEYIEZggBiBAWIEBogRGCBGYIAYgQFiBAaIERggRmCAGIEBYgQGiBEYIEZggBiB\\\n",
       "AWIEBogRGCBGYIAYgQFiBAaIERggRmCAmG4Yhun+7qH1jqp+PCz7l/fWM6rsm8e+efrjvrx9fLae\\\n",
       "UdWN4zidvp633lF1vbko2/Wu9Ywq++axb56rx8ty+/TcekaVJxIQIzBAjMAAMQIDxAgMECMwQIzA\\\n",
       "ADECA8QIDBAjMECMwAAxAgPECAwQIzBAjMAAMQIDxAgMECMwQIzAADECA8QIDBAjMECMwAAxAgPE\\\n",
       "CAwQIzBAjMAAMQIDxAgMECMwQIzAADECA8QIDBAjMECMwAAxAgPECAwQIzBATDcMw3R/99B6R1U/\\\n",
       "Hpb9y3vrGVX9cV/ePj5bz6gaDlbOb4bFn9/C/49uHMfp9PW89Y6q681F2a53rWdUXT1eltun59Yz\\\n",
       "qm7OTpzfDEs/v6X/H55IQIzAADECA8QIDBAjMECMwAAxAgPECAwQIzBAjMAAMQIDxAgMECMwQIzA\\\n",
       "ADECA8QIDBAjMECMwAAxAgPECAwQIzBAjMAAMQIDxAgMECMwQIzAADECA8QIDBAjMECMwAAxAgPE\\\n",
       "CAwQIzBAjMAAMQIDxAgMECMwQIzAADHdMAzT/d1D6x1V/XFf3j4+W8+oGg5WZf/y3npGVT8e2jeD\\\n",
       "72+ebhzH6fT1vPWOqqvHy3L79Nx6RtXN2UnZrnetZ1Rdby7sm8H3N48nEhAjMECMwAAxAgPECAwQ\\\n",
       "IzBAjMAAMQIDxAgMECMwQIzAADECA8QIDBAjMECMwAAxAgPECAwQIzBAjMAAMQIDxAgMECMwQIzA\\\n",
       "ADECA8QIDBAjMECMwAAxAgPECAwQIzBAjMAAMQIDxAgMECMwQIzAADECA8QIDBAjMEBMNwzDdH/3\\\n",
       "0HpHVX/cl7ePz9YzqoZvX5a972BV9i/vrWdULf5+l35+4+Gi93XjOE6nr+etd1RdPV6W26fn1jOq\\\n",
       "fv74vuh9N2cnZbvetZ5RtfT7Xfr5XW8uFr3PEwmIERggRmCAGIEBYgQGiBEYIEZggBiBAWIEBogR\\\n",
       "GCBGYIAYgQFiBAaIERggRmCAGIEBYgQGiBEYIEZggBiBAWIEBogRGCBGYIAYgQFiBAaIERggRmCA\\\n",
       "GIEBYgQGiBEYIEZggBiBAWIEBogRGCBGYIAYgQFiBAaIERggphuGYbq/e2i9o6ofD8v+5b31jCr7\\\n",
       "5rFvnv64L28fn61nVHXjOE6nr+etd1Rdby7Kdr1rPaPKvnnsm+fq8bLcPj23nlHliQTECAwQIzBA\\\n",
       "jMAAMQIDxAgMECMwQIzAADECA8QIDBAjMECMwAAxAgPECAwQIzBAjMAAMQIDxAgMECMwQIzAADEC\\\n",
       "A8QIDBAjMECMwAAxAgPECAwQIzBAjMAAMQIDxAgMECMwQIzAADECA8QIDBAjMECMwAAxAgPECAwQ\\\n",
       "8x/vuSMsx9h8/QAAAABJRU5ErkJggg==\\\n",
       "\"\n",
       "\n",
       "\n",
       "    /* set a timeout to make sure all the above elements are created before\n",
       "       the object is initialized. */\n",
       "    setTimeout(function() {\n",
       "        animfe581b1588d14c60b000dade616f557f = new Animation(frames, img_id, slider_id, 149.0,\n",
       "                                 loop_select_id);\n",
       "    }, 0);\n",
       "  })()\n",
       "</script>\n"
      ],
      "text/plain": [
       "<IPython.core.display.HTML object>"
      ]
     },
     "metadata": {},
     "output_type": "display_data"
    }
   ],
   "source": [
    "rw.animate(world)"
   ]
  },
  {
   "cell_type": "markdown",
   "id": "fab741f3",
   "metadata": {},
   "source": [
    "**Wiederholung** trennt den Aufwand zum Lösen einer Aufgabe von der Komplexität des Codes. Eine Berechnung kann enorm aufwendig sein und dennoch benötigen wir wenig Denkarbeit (wenig Code) um einen Algorithmus für die Lösung zu entwerfen!"
   ]
  },
  {
   "cell_type": "markdown",
   "id": "af7b2402",
   "metadata": {},
   "source": [
    "### 4.2 Die For-Schleife"
   ]
  },
  {
   "cell_type": "markdown",
   "id": "b7c89670",
   "metadata": {},
   "source": [
    "Die ``for``-Schleife verwenden wir immer dann, wenn wir (zur Laufzeit) wissen wie viele Wiederholungen wir **maximal** benötigen.\n",
    "Dabei wollen wir entweder\n",
    "\n",
    "1. für eine bestimmte Anzahl $n \\in \\mathbb{N}$, oder\n",
    "2. **für jedes Element einer Datenstruktur** \n",
    "\n",
    "einen Befehlsblock ausführen.\n",
    "\n",
    "Im zweiten Fall spricht man auch von der Foreach-Schleife.\n",
    "Durch den Zahlenbereich ``range()`` reduziert ``Python`` den ersten Fall auf den zweiten."
   ]
  },
  {
   "cell_type": "markdown",
   "id": "c41f1cad",
   "metadata": {},
   "source": [
    "#### Die klassische For-Schleife (Fall 1)\n",
    "\n",
    "```python\n",
    "n = ...\n",
    "for i in range(n):\n",
    "    # Codeblock\n",
    "```\n",
    "\n",
    "Der Name der *Zählervariable* (hier ``i``) kann frei gewählt werden, allerdings verwendet man für Fall 1 gewöhnlich: ``i``, ``j`` oder ``k``."
   ]
  },
  {
   "cell_type": "code",
   "execution_count": 6,
   "id": "d0095e71",
   "metadata": {},
   "outputs": [
    {
     "name": "stdout",
     "output_type": "stream",
     "text": [
      "0\n",
      "1\n",
      "4\n",
      "9\n",
      "16\n",
      "25\n",
      "36\n",
      "49\n",
      "64\n",
      "81\n"
     ]
    }
   ],
   "source": [
    "for i in range(10):\n",
    "    print(i**2)"
   ]
  },
  {
   "cell_type": "markdown",
   "id": "b8dd1902",
   "metadata": {},
   "source": [
    "#### Die Foreach-Schleife (Fall 2)\n",
    "\n",
    "```python\n",
    "sequenz = ... # some Sequenz of Elements\n",
    "for element in sequenz:\n",
    "    # Codeblock\n",
    "```\n",
    "\n",
    "Der Name mit dem wir die Elemente der Sequenz ansprechen (hier ``element``) kann frei gewählt werden und sollte beschreiben über welche Elemente wir *iterieren*."
   ]
  },
  {
   "cell_type": "code",
   "execution_count": 7,
   "id": "aed2a24e",
   "metadata": {
    "scrolled": true
   },
   "outputs": [
    {
     "name": "stdout",
     "output_type": "stream",
     "text": [
      "Sarah\n",
      "Sebastian\n",
      "Babar\n",
      "Simon\n",
      "Martin\n"
     ]
    }
   ],
   "source": [
    "names = ['Sarah', 'Sebastian', 'Babar', 'Simon', 'Martin']\n",
    "\n",
    "for name in names:\n",
    "    print(name)"
   ]
  },
  {
   "cell_type": "markdown",
   "id": "2dde276c",
   "metadata": {},
   "source": [
    "``range()`` ist, wie eine Liste und ein Tupel, auch eine *Sequenz*. Eine ``for``-Schleife läuft über die Einträge einer *Sequenz* oder anderer *iterierbarer* Strukturen."
   ]
  },
  {
   "cell_type": "markdown",
   "id": "be3ef18c",
   "metadata": {},
   "source": [
    "***\n",
    "***Übung 1.*** (Wortfilter)\n",
    "\n",
    "Schreiben Sie eine Funktion ``filter_words(text, char)`` das aus einer Zeichenkette die Wörter, welche mit einem einzugebenden Buchstaben beginnen, herausfiltert und als Liste zurückgibt. **Hinweis:** verwenden Sie ``str.split()``."
   ]
  },
  {
   "cell_type": "code",
   "execution_count": 8,
   "id": "0e9e73b9",
   "metadata": {},
   "outputs": [
    {
     "data": {
      "text/plain": [
       "['ein', 'einfallsreich.']"
      ]
     },
     "execution_count": 8,
     "metadata": {},
     "output_type": "execute_result"
    }
   ],
   "source": [
    "text = 'Das ist ein Text den ich geschrieben habe. Er ist nicht sonderlich einfallsreich.'\n",
    "def filter_words(text, char):\n",
    "    words = text.split(' ')\n",
    "    result = []\n",
    "    for word in words:\n",
    "        if word[0] == char:\n",
    "            result.append(word)\n",
    "    return result\n",
    "filter_words(text, 'e')"
   ]
  },
  {
   "cell_type": "markdown",
   "id": "cf3ee686",
   "metadata": {},
   "source": [
    "***"
   ]
  },
  {
   "cell_type": "markdown",
   "id": "8bbbd6e0",
   "metadata": {},
   "source": [
    "Es kann durchaus sein, dass wir die ``for``-Schleife auch dann verwenden wenn nicht genau klar ist wie viele Wiederholungen wir benötigen, sondern nur wissen wie viele wir maximal benötigen.\n",
    "\n",
    "Nehmen wir den Test ob eine Zahl ``n`` eine Primzahl ist, als Beispiel:"
   ]
  },
  {
   "cell_type": "code",
   "execution_count": 9,
   "id": "7b5ca107",
   "metadata": {},
   "outputs": [
    {
     "name": "stdout",
     "output_type": "stream",
     "text": [
      "True\n",
      "True\n",
      "False\n",
      "True\n"
     ]
    }
   ],
   "source": [
    "def is_prime(n):\n",
    "    prime = True\n",
    "    for i in range(2, n):\n",
    "        if n % i == 0:\n",
    "            prime = False\n",
    "            break\n",
    "    return prime\n",
    "\n",
    "print(is_prime(2))\n",
    "print(is_prime(13))\n",
    "print(is_prime(25))\n",
    "print(is_prime(83))"
   ]
  },
  {
   "cell_type": "markdown",
   "id": "a7ebe7b1",
   "metadata": {},
   "source": [
    "Um die ``for``-Schleife frühzeitig zu beenden verwenden wir ``break``.\n",
    "Mit ``break`` springen wir aus der **innersten** Schleife heraus.\n",
    "Wir könnten stattdessen auch ``return`` verwenden um aus der Funktion herauszuspringen:"
   ]
  },
  {
   "cell_type": "code",
   "execution_count": 10,
   "id": "a59bd11c",
   "metadata": {},
   "outputs": [
    {
     "name": "stdout",
     "output_type": "stream",
     "text": [
      "True\n",
      "True\n",
      "False\n",
      "True\n"
     ]
    }
   ],
   "source": [
    "def is_prime(n):\n",
    "    for i in range(2, n):\n",
    "        if n % i == 0:\n",
    "            return False\n",
    "    return True\n",
    "\n",
    "print(is_prime(2))\n",
    "print(is_prime(13))\n",
    "print(is_prime(25))\n",
    "print(is_prime(83))"
   ]
  },
  {
   "cell_type": "markdown",
   "id": "d468e597",
   "metadata": {},
   "source": [
    "Eine weitere Steuermöglichkeit bietet ``continue``.\n",
    "Mit ``continue`` springen wir nicht aus der Schleife heraus sondern springen zurück zum Schleifenkopf:"
   ]
  },
  {
   "cell_type": "code",
   "execution_count": 11,
   "id": "6a285d1b",
   "metadata": {},
   "outputs": [
    {
     "name": "stdout",
     "output_type": "stream",
     "text": [
      "0\n",
      "2\n",
      "4\n",
      "6\n",
      "8\n"
     ]
    },
    {
     "data": {
      "text/plain": [
       "[0, 4, 8, 12, 16]"
      ]
     },
     "execution_count": 11,
     "metadata": {},
     "output_type": "execute_result"
    }
   ],
   "source": [
    "def double_even_numbers(numbers):\n",
    "    result = []\n",
    "    for number in numbers:\n",
    "        if number % 2 == 1:\n",
    "            continue\n",
    "            \n",
    "        print(number)\n",
    "        result.append(number*2)\n",
    "    return result\n",
    "numbers = list(range(10))\n",
    "double_even_numbers(numbers)"
   ]
  },
  {
   "cell_type": "markdown",
   "id": "0d5fa060",
   "metadata": {},
   "source": [
    "Allerdings braucht man ``continue`` so gut wie nie und wenn es verwendet wird handelt es sich oftmals um schlecht leserlichen Code."
   ]
  },
  {
   "cell_type": "code",
   "execution_count": 12,
   "id": "3cfae395",
   "metadata": {},
   "outputs": [
    {
     "name": "stdout",
     "output_type": "stream",
     "text": [
      "0\n",
      "2\n",
      "4\n",
      "6\n",
      "8\n"
     ]
    },
    {
     "data": {
      "text/plain": [
       "[0, 4, 8, 12, 16]"
      ]
     },
     "execution_count": 12,
     "metadata": {},
     "output_type": "execute_result"
    }
   ],
   "source": [
    "def double_even_numbers(numbers):\n",
    "    result = []\n",
    "    for number in numbers:\n",
    "        if number % 2 == 0:    \n",
    "            print(number)\n",
    "            result.append(number*2)\n",
    "    return result\n",
    "numbers = list(range(10))\n",
    "double_even_numbers(numbers)"
   ]
  },
  {
   "cell_type": "markdown",
   "id": "266a17de",
   "metadata": {},
   "source": [
    "**Faustregel:** Gehen Sie sparsam mit ``break`` und ``continue`` um, oftmals brauchen Sie es nicht!"
   ]
  },
  {
   "cell_type": "markdown",
   "id": "b52fbdbc",
   "metadata": {},
   "source": [
    "### 4.3 Die While-Schleife"
   ]
  },
  {
   "cell_type": "markdown",
   "id": "e22937de",
   "metadata": {},
   "source": [
    "Die ``while``-Schleife verwenden wir immer dann, wenn wir (zur Laufzeit) **nicht** wissen wie viele Wiederholungen wir maximal benötigen.\n",
    "\n",
    "Die Wiederholung endet sobald eine bestimmte Bedingung, d.h. ein *logischer Ausdruck* ``P`` ``False`` ergibt.\n",
    "\n",
    "```python\n",
    "while P:\n",
    "    # Codeblock1\n",
    "else:\n",
    "    # Codeblock2\n",
    "```\n",
    "\n",
    "``Codeblock2`` wird ausgeführt sobald ``P`` ``False`` ergibt und die While-Schleife verlassen wird, d.h. als letzter Schritt.\n",
    "\n",
    "**Vorsicht:** Wird ``P`` niemals ``False`` endet die Wiederholung niemals und wir haben eine sog. **Endlosschleife**!"
   ]
  },
  {
   "cell_type": "code",
   "execution_count": 13,
   "id": "9ddf7e54",
   "metadata": {},
   "outputs": [
    {
     "name": "stdout",
     "output_type": "stream",
     "text": [
      "1\n",
      "2\n",
      "3\n",
      "4\n",
      "5\n",
      "6\n",
      "7\n",
      "8\n",
      "9\n",
      "10\n",
      "end of the while-loop\n"
     ]
    }
   ],
   "source": [
    "i = 0\n",
    "while i < 10:\n",
    "    i += 1\n",
    "    print(i)\n",
    "else:\n",
    "    print('end of the while-loop')"
   ]
  },
  {
   "cell_type": "markdown",
   "id": "714ab2ee",
   "metadata": {},
   "source": [
    "Wir können jede For-Schleife in eine While-Schleife transformieren."
   ]
  },
  {
   "cell_type": "code",
   "execution_count": 14,
   "id": "c03c8995",
   "metadata": {},
   "outputs": [
    {
     "name": "stdout",
     "output_type": "stream",
     "text": [
      "Sarah\n",
      "Sebastian\n",
      "Babar\n",
      "Simon\n",
      "Martin\n",
      "\n",
      "Sarah\n",
      "Sebastian\n",
      "Babar\n",
      "Simon\n",
      "Martin\n"
     ]
    }
   ],
   "source": [
    "names = ['Sarah', 'Sebastian', 'Babar', 'Simon', 'Martin']\n",
    "\n",
    "for name in names:\n",
    "    print(name)\n",
    "\n",
    "print()\n",
    "\n",
    "i = 0\n",
    "while i < len(names):\n",
    "    print(names[i])\n",
    "    i += 1"
   ]
  },
  {
   "cell_type": "markdown",
   "id": "d75b0cb2",
   "metadata": {},
   "source": [
    "While-Schleifen sind mächtiger aber auch gefährlicher bzw. oftmals schwerer zu lesen und zu verstehen als For-Schleifen.\n",
    "\n",
    "**Faustregel:** Verwenden Sie die While-Schleife nur wenn die For-Schleife ungeeignet ist."
   ]
  },
  {
   "cell_type": "markdown",
   "id": "86192836",
   "metadata": {},
   "source": [
    "``break`` und ``continue`` funktionieren für die While-Schleife genauso wie für die For-Schleife.\n",
    "\n",
    "**Faustregel:** Gehen Sie sparsam mit ``break`` und ``continue`` um, oftmals brauchen Sie es nicht!"
   ]
  },
  {
   "cell_type": "code",
   "execution_count": 15,
   "id": "7a949c25",
   "metadata": {
    "scrolled": true
   },
   "outputs": [
    {
     "name": "stdout",
     "output_type": "stream",
     "text": [
      "1\n",
      "3\n",
      "5\n",
      "7\n",
      "9\n"
     ]
    }
   ],
   "source": [
    "# Schlechter Code!!!\n",
    "i = 0\n",
    "while i < 10:\n",
    "    i += 1\n",
    "    if i % 2 == 0:\n",
    "        continue\n",
    "    print(i)"
   ]
  },
  {
   "cell_type": "code",
   "execution_count": 16,
   "id": "4a5f2731",
   "metadata": {},
   "outputs": [
    {
     "name": "stdout",
     "output_type": "stream",
     "text": [
      "1\n",
      "3\n",
      "5\n",
      "7\n",
      "9\n"
     ]
    }
   ],
   "source": [
    "# Besser!\n",
    "i = 0\n",
    "while i < 10:\n",
    "    i += 1\n",
    "    if i % 2 == 1:\n",
    "        print(i)"
   ]
  },
  {
   "cell_type": "code",
   "execution_count": 17,
   "id": "5bba4e33",
   "metadata": {},
   "outputs": [
    {
     "name": "stdout",
     "output_type": "stream",
     "text": [
      "1\n",
      "3\n",
      "5\n",
      "7\n",
      "9\n"
     ]
    }
   ],
   "source": [
    "# noch Besser!\n",
    "i = 1\n",
    "while i < 10:      \n",
    "    print(i)\n",
    "    i += 2"
   ]
  },
  {
   "cell_type": "markdown",
   "id": "cd4a143e",
   "metadata": {},
   "source": [
    "**Faustregel:** Prüfen Sie immer ob Ihre Bedingung ``P`` durch den Schleifenrumpf garantiert irgendwann ``False`` ergibt!"
   ]
  },
  {
   "cell_type": "markdown",
   "id": "e3876c2c",
   "metadata": {},
   "source": [
    "***\n",
    "***Übung 2.*** Größter gemeinsamer Teiler (ggT)\n",
    "\n",
    "Schreiben Sie eine Funktion ``gcd(m,n)`` zur Berechnung des größten geimeinsamen Teilers von ``m`` und ``n``.\n",
    "\n",
    "* Gegeben seien zwei positive ganze Zahlen $m$ und $n$ (z. B.: Zähler und Nenner eines Bruchs)\n",
    "* Finde ihren größten gemeinsamen Teiler, d.h. die größte positive ganze Zahl, die sowohl $m$ als auch $n$ ohne Rest teilt.\n",
    "* Nutzen Sie hierfür eine While-Schleife und die Modulo Operation\n",
    "\n",
    "*Euklids Algorithmus*\n",
    "\n",
    "1. Berechne den Restwert der Division $m / n$ (Modulodivision). Sei dieser gleich $r$.\n",
    "2. Setze $m \\leftarrow n$, $n \\leftarrow r$ und gehe zurück zu Schritt 1.\n",
    "3. Falls $r = 0$ (und somit $n = 0$), so ist der Algorithmus beendet. Das Ergebnis (ggT) ist $m$. Ansonsten fahre fort."
   ]
  },
  {
   "cell_type": "code",
   "execution_count": 18,
   "id": "c439429e",
   "metadata": {},
   "outputs": [
    {
     "data": {
      "text/plain": [
       "12"
      ]
     },
     "execution_count": 18,
     "metadata": {},
     "output_type": "execute_result"
    }
   ],
   "source": [
    "def gcd(m, n):\n",
    "    while n != 0:\n",
    "        r = m % n\n",
    "        m = n\n",
    "        n = r\n",
    "    return m\n",
    "gcd(36, 24)"
   ]
  },
  {
   "cell_type": "code",
   "execution_count": 19,
   "id": "fab406f9",
   "metadata": {},
   "outputs": [
    {
     "data": {
      "text/plain": [
       "12"
      ]
     },
     "execution_count": 19,
     "metadata": {},
     "output_type": "execute_result"
    }
   ],
   "source": [
    "def gcd(m, n):\n",
    "    while n != 0:\n",
    "        m, n = n, m % n\n",
    "    return m\n",
    "gcd(36, 24)"
   ]
  },
  {
   "cell_type": "markdown",
   "id": "a23a263b",
   "metadata": {},
   "source": [
    "***"
   ]
  },
  {
   "cell_type": "code",
   "execution_count": null,
   "id": "801d9074",
   "metadata": {},
   "outputs": [],
   "source": []
  }
 ],
 "metadata": {
  "kernelspec": {
   "display_name": "Python 3 (ipykernel)",
   "language": "python",
   "name": "python3"
  },
  "language_info": {
   "codemirror_mode": {
    "name": "ipython",
    "version": 3
   },
   "file_extension": ".py",
   "mimetype": "text/x-python",
   "name": "python",
   "nbconvert_exporter": "python",
   "pygments_lexer": "ipython3",
   "version": "3.9.5"
  }
 },
 "nbformat": 4,
 "nbformat_minor": 5
}
