{
 "cells": [
  {
   "cell_type": "markdown",
   "id": "fd3e9da2",
   "metadata": {},
   "source": [
    "# Vorlesung 04 - Computational Thinking\n",
    "**Prof. Dr.-Ing. Martin Hobelsberger, Dr. Benedikt Zönnchen**"
   ]
  },
  {
   "cell_type": "markdown",
   "id": "4b50be62",
   "metadata": {},
   "source": [
    "## 4 Schleifen\n",
    "\n",
    "Viele Aufgaben, die wir über unser Leben hinweg verrichten sind langweilig, da wir immer und immer wieder die gleichen Basisschritte wiederholen müssen. \n",
    "\n",
    "Nehmen Sie nur das Nachschlagen einer Telefonnummer im Telefonbuch (falls Sie so etwas überhaupt noch kennen). Wir gehen dabei Seite für Seite durch und suchen nach einem bestimmten Namen - langweilig ...\n",
    "\n",
    "Auch ganz alltägliche Dinge wie der Abwasch, Zähneputzten, Kochen, ja nahezu jede Aktion beinhaltet die eine oder andere Art der Wiederholung.\n",
    "\n",
    "Wie sich gezeigt hat, können wir interessanterweise durch diese langweiligen Wiederholungen ganz erstaunliche Dinge vollbringen. **Wiederholung ist die Grundlage aller Berechnung.**"
   ]
  },
  {
   "cell_type": "markdown",
   "id": "1743d217",
   "metadata": {},
   "source": [
    "### 4.1 Beispiel / Motivation"
   ]
  },
  {
   "cell_type": "markdown",
   "id": "d79e1470",
   "metadata": {},
   "source": [
    "Lassen Sie uns einmal zurück zu unseren Roboter blicken."
   ]
  },
  {
   "cell_type": "code",
   "execution_count": 1,
   "id": "d61990f4",
   "metadata": {},
   "outputs": [],
   "source": [
    "import roboworld as rw"
   ]
  },
  {
   "cell_type": "markdown",
   "id": "3997603b",
   "metadata": {},
   "source": [
    "Die Folgende Welt enthält unseren Roboter (türkis), das Ziel (gelb), begehbare Zellen (lila) und unbegehbare Hindernisse (blau)."
   ]
  },
  {
   "cell_type": "code",
   "execution_count": 17,
   "id": "a90826f3",
   "metadata": {},
   "outputs": [
    {
     "data": {
      "image/png": "[encoded data removed]",
      "text/plain": [
       "<Figure size 280x280 with 1 Axes>"
      ]
     },
     "execution_count": 17,
     "metadata": {},
     "output_type": "execute_result"
    }
   ],
   "source": [
    "world = rw.complex_maze(nrows=7, ncols=7)\n",
    "world.show()"
   ]
  },
  {
   "cell_type": "markdown",
   "id": "1e47b1cd",
   "metadata": {},
   "source": [
    "Wir sollen nun einen Algorithmus entwerfen, welcher den Roboter zum Ziel führt (sofern dies möglich ist).\n",
    "Diese Aufgabe scheint überwältigend schwierig."
   ]
  },
  {
   "cell_type": "code",
   "execution_count": 18,
   "id": "c83fa8f1",
   "metadata": {},
   "outputs": [],
   "source": [
    "import random as rnd"
   ]
  },
  {
   "cell_type": "code",
   "execution_count": null,
   "id": "ad40bd7a",
   "metadata": {},
   "outputs": [],
   "source": []
  },
  {
   "cell_type": "code",
   "execution_count": null,
   "id": "95714e43",
   "metadata": {
    "scrolled": true
   },
   "outputs": [],
   "source": []
  },
  {
   "cell_type": "markdown",
   "id": "0a1463c6",
   "metadata": {},
   "source": [
    "**Wiederholung** trennt den Aufwand zum Lösen einer Aufgabe von der Komplexität des Codes. Eine Berechnung kann enorm aufwendig sein und dennoch benötigen wir wenig Denkarbeit (wenig Code) um einen Algoritmus für die Lösung zu entwerfen!"
   ]
  },
  {
   "cell_type": "markdown",
   "id": "4410f8a2",
   "metadata": {},
   "source": [
    "### 4.2 Die For-Schleife"
   ]
  },
  {
   "cell_type": "markdown",
   "id": "05f8779f",
   "metadata": {},
   "source": [
    "Die ``for``-Schleife verwenden wir immer dann, wenn wir (zur Laufzeit) wissen wie viele Wiederholungen wir maximal benötigen.\n",
    "\n",
    "1. Entweder wir wollen eine bestimmte Anzahl ``n`` einen Befehlsblock ausführen, wobei ``n`` eine **natürliche Zahl**  ist, oder\n",
    "2. wir wollen **für jedes Element einer Datenstruktur** einen Befehlsblock ausführen\n",
    "\n",
    "Im zweiten Fall spricht man auch von der Foreach-Schleife.\n",
    "Durch den Zahlenbereich ``range()`` reduziert ``Python`` den ersten Fall auf den zweiten."
   ]
  },
  {
   "cell_type": "markdown",
   "id": "bff6ee14",
   "metadata": {},
   "source": [
    "#### Die klassische For-Schleife (Fall 1)\n",
    "\n",
    "```python\n",
    "n = ...\n",
    "for i in range(n):\n",
    "    # Codeblock\n",
    "```\n",
    "\n",
    "Der Variablenname (hier ``i``) kann frei gewählt werden, allerdings verwenden man für Fall 1 gewöhnlich: ``i``, ``j`` oder ``k``."
   ]
  },
  {
   "cell_type": "code",
   "execution_count": null,
   "id": "dcbcb534",
   "metadata": {},
   "outputs": [],
   "source": []
  },
  {
   "cell_type": "markdown",
   "id": "d884e6fd",
   "metadata": {},
   "source": [
    "#### Die Foreach-Schleife (Fall 2)\n",
    "\n",
    "```python\n",
    "sequenz = ... # some Sequenz of Elements\n",
    "for element in sequenz:\n",
    "    # Codeblock\n",
    "```\n",
    "\n",
    "Der Variablenname (hier ``element``) kann frei gewählt werden und sollte beschreiben über welche Elemente wir *iterieren*."
   ]
  },
  {
   "cell_type": "code",
   "execution_count": 59,
   "id": "745a76b8",
   "metadata": {
    "scrolled": true
   },
   "outputs": [],
   "source": [
    "names = ['Sarah', 'Sebastian', 'Babar', 'Simon', 'Martin']\n",
    "\n"
   ]
  },
  {
   "cell_type": "markdown",
   "id": "c45d768c",
   "metadata": {},
   "source": [
    "``range()`` ist wie auch die Liste und Tupel, eine Sequenz. Eine ``for``-Schleife läuft über die Einträge einer Sequenz oder andere *iterierbare* Strukturen."
   ]
  },
  {
   "cell_type": "markdown",
   "id": "d5781d9b",
   "metadata": {},
   "source": [
    "***\n",
    "***Übung 1.*** (Wortfilter)\n",
    "\n",
    "Schreiben Sie eine Funktion ``filter_words(text, char)`` das aus einer Zeichenkette die Wörter, welche mit einem einzugebenden Buchstaben beginnen, herausfiltert und als Liste zurückgibt. **Hinweis:** verwenden Sie ``str.split()``."
   ]
  },
  {
   "cell_type": "code",
   "execution_count": 60,
   "id": "202cb559",
   "metadata": {},
   "outputs": [],
   "source": [
    "text = 'Das ist ein Text den ich geschrieben habe. Er ist nicht sonderlich einfallsreich.'\n",
    "\n"
   ]
  },
  {
   "cell_type": "markdown",
   "id": "f74cc714",
   "metadata": {},
   "source": [
    "***"
   ]
  },
  {
   "cell_type": "markdown",
   "id": "08035828",
   "metadata": {},
   "source": [
    "Es kann durchaus sein, dass wir die ``for``-Schleife auch dann verwenden wenn nicht genau klar ist wie viele Wiederholungen wir benötigen, sondern nur wissen wie viele wir maximal benötigen.\n",
    "\n",
    "Nehmen wir den Test ob eine Zahl ``n`` eine Primzahl ist, als Beispiel:"
   ]
  },
  {
   "cell_type": "code",
   "execution_count": null,
   "id": "952a91fb",
   "metadata": {},
   "outputs": [],
   "source": []
  },
  {
   "cell_type": "code",
   "execution_count": null,
   "id": "9d86ef35",
   "metadata": {},
   "outputs": [],
   "source": [
    "print(is_prime(2))  #prime\n",
    "print(is_prime(13)) #prime\n",
    "print(is_prime(25)) #not a prime\n",
    "print(is_prime(83)) #prime"
   ]
  },
  {
   "cell_type": "markdown",
   "id": "d4cbca48",
   "metadata": {},
   "source": [
    "Um die ``for``-Schleife frühzeitig zu beenden verwenden wir ``break``.\n",
    "Mit ``break`` springen wir aus der **innersten** Schleife heraus.\n",
    "Wir könnten stattdessen auch ``return`` verwenden um aus der Funktion herauszuspringen:"
   ]
  },
  {
   "cell_type": "code",
   "execution_count": null,
   "id": "03746831",
   "metadata": {},
   "outputs": [],
   "source": []
  },
  {
   "cell_type": "markdown",
   "id": "13352357",
   "metadata": {},
   "source": [
    "Eine weitere Steuermöglichkeit bietet ``continue``.\n",
    "Mit ``continue`` springen wir nicht aus der Schleife heraus sondern springen zurück zum Schleifenkopf:"
   ]
  },
  {
   "cell_type": "code",
   "execution_count": 42,
   "id": "e1ea03e2",
   "metadata": {},
   "outputs": [
    {
     "name": "stdout",
     "output_type": "stream",
     "text": [
      "0\n",
      "2\n",
      "4\n",
      "6\n",
      "8\n"
     ]
    },
    {
     "data": {
      "text/plain": [
       "[0, 4, 8, 12, 16]"
      ]
     },
     "execution_count": 42,
     "metadata": {},
     "output_type": "execute_result"
    }
   ],
   "source": [
    "def double_even_numbers(numbers):\n",
    "    result = []\n",
    "    for number in numbers:\n",
    "        if number % 2 == 1:\n",
    "            continue\n",
    "            \n",
    "        print(number)\n",
    "        result.append(number*2)\n",
    "    return result\n",
    "numbers = list(range(10))\n",
    "double_even_numbers(numbers)"
   ]
  },
  {
   "cell_type": "markdown",
   "id": "772a6a5c",
   "metadata": {},
   "source": [
    "Allerdings braucht man ``continue`` so gut wie und wenn es verwendet wird handelt es sich oftmals um schlecht leserlichen Code."
   ]
  },
  {
   "cell_type": "code",
   "execution_count": 43,
   "id": "bd8e6917",
   "metadata": {},
   "outputs": [
    {
     "name": "stdout",
     "output_type": "stream",
     "text": [
      "0\n",
      "2\n",
      "4\n",
      "6\n",
      "8\n"
     ]
    },
    {
     "data": {
      "text/plain": [
       "[0, 4, 8, 12, 16]"
      ]
     },
     "execution_count": 43,
     "metadata": {},
     "output_type": "execute_result"
    }
   ],
   "source": [
    "def double_even_numbers(numbers):\n",
    "    result = []\n",
    "    for number in numbers:\n",
    "        if number % 2 == 0:    \n",
    "            print(number)\n",
    "            result.append(number*2)\n",
    "    return result\n",
    "numbers = list(range(10))\n",
    "double_even_numbers(numbers)"
   ]
  },
  {
   "cell_type": "markdown",
   "id": "b36c9ea9",
   "metadata": {},
   "source": [
    "**Faustregel:** Gehen Sie sparsam mit ``break`` und ``continue`` um, oftmals brauchen Sie es nicht!"
   ]
  },
  {
   "cell_type": "markdown",
   "id": "3fdf3420",
   "metadata": {},
   "source": [
    "### 4.3 Die While-Schleife"
   ]
  },
  {
   "cell_type": "markdown",
   "id": "63dac365",
   "metadata": {},
   "source": [
    "Die ``while``-Schleife verwenden wir immer dann, wenn wir (zur Laufzeit) **nicht** wissen wie viele Wiederholungen wir maximal benötigen.\n",
    "\n",
    "Die Wiederholung endet sobald eine bestimmte Bedingung, d.h. ein *logischer Ausdruck* ``P`` ``False`` ergibt.\n",
    "\n",
    "```python\n",
    "while P:\n",
    "    # Codeblock1\n",
    "else:\n",
    "    # Codeblock2\n",
    "```\n",
    "\n",
    "``Codeblock2`` wird ausgeführt sobald ``P`` ``False`` ergibt und die While-Schleife verlassen wird, d.h. als letzter Schritt.\n",
    "\n",
    "**Vorsicht:** Wird ``P`` niemals ``False`` endet die Wiederholung niemals und wir haben eine sog. **Endlosschleife**!"
   ]
  },
  {
   "cell_type": "code",
   "execution_count": null,
   "id": "97349789",
   "metadata": {},
   "outputs": [],
   "source": []
  },
  {
   "cell_type": "markdown",
   "id": "01025e11",
   "metadata": {},
   "source": [
    "Wir können jede For-Schleife in eine While-Schleife transformieren."
   ]
  },
  {
   "cell_type": "code",
   "execution_count": 62,
   "id": "6ef052ee",
   "metadata": {},
   "outputs": [],
   "source": [
    "names = ['Sarah', 'Sebastian', 'Babar', 'Simon', 'Martin']\n",
    "\n",
    "#for\n",
    "\n",
    "#while"
   ]
  },
  {
   "cell_type": "markdown",
   "id": "787b01a9",
   "metadata": {},
   "source": [
    "While-Schleifen sind möchtiger aber auch gefährlicher bzw. oftmals schwerer zu lesen und zu verstehen als For-Schleifen.\n",
    "\n",
    "**Faustregel:** Verwenden Sie die While-Schleife nur wenn die For-Schleife ungeeignet ist."
   ]
  },
  {
   "cell_type": "markdown",
   "id": "809b564d",
   "metadata": {},
   "source": [
    "``break`` und ``continue`` funktionieren für die While-Schleife genauso wie für die For-Schleife.\n",
    "\n",
    "**Faustregel:** Gehen Sie sparsam mit ``break`` und ``continue`` um, oftmals brauchen Sie es nicht!"
   ]
  },
  {
   "cell_type": "code",
   "execution_count": 63,
   "id": "91dbb64c",
   "metadata": {
    "scrolled": true
   },
   "outputs": [
    {
     "name": "stdout",
     "output_type": "stream",
     "text": [
      "1\n",
      "3\n",
      "5\n",
      "7\n",
      "9\n"
     ]
    }
   ],
   "source": [
    "# Schlechter Code!\n",
    "i = 0\n",
    "while i < 10:\n",
    "    i += 1\n",
    "    if i % 2 == 0:\n",
    "        continue\n",
    "    print(i)"
   ]
  },
  {
   "cell_type": "code",
   "execution_count": 66,
   "id": "a698ddcb",
   "metadata": {},
   "outputs": [
    {
     "name": "stdout",
     "output_type": "stream",
     "text": [
      "1\n",
      "3\n",
      "5\n",
      "7\n",
      "9\n"
     ]
    }
   ],
   "source": [
    "# Besser!\n",
    "i = 0\n",
    "while i < 10:\n",
    "    i += 1\n",
    "    if i % 2 == 1:\n",
    "        print(i)"
   ]
  },
  {
   "cell_type": "code",
   "execution_count": 67,
   "id": "eaf89680",
   "metadata": {},
   "outputs": [
    {
     "name": "stdout",
     "output_type": "stream",
     "text": [
      "1\n",
      "3\n",
      "5\n",
      "7\n",
      "9\n"
     ]
    }
   ],
   "source": [
    "# noch Besser!\n",
    "i = 1\n",
    "while i < 10:      \n",
    "    print(i)\n",
    "    i += 2"
   ]
  },
  {
   "cell_type": "markdown",
   "id": "058d2888",
   "metadata": {},
   "source": [
    "**Faustregel:** Prüfen Sie immer ob Ihre Bedingung ``P`` durch den Schleifenrumpf garantiert irgendwann ``False`` ergibt!"
   ]
  },
  {
   "cell_type": "markdown",
   "id": "dc62e831",
   "metadata": {},
   "source": [
    "***\n",
    "***Übung 2.*** Größter gemeinsamer Teiler (ggT)\n",
    "\n",
    "Schreiben Sie eine Funktion ``gcd(m,n)`` zur Berechnung des größten geimeinsamen Teilers von ``m`` und ``n``.\n",
    "\n",
    "* Gegeben seien zwei positive ganze Zahlen $m$ und $n$ (z. B.: Zähler und Nenner eines Bruchs)\n",
    "* Finde ihren größten gemeinsamen Teiler, d.h. die größte positive ganze Zahl, die sowohl $m$ als auch $n$ ohne Rest teilt.\n",
    "* Nutzen Sie hierfür eine While-Schleife und die Modulo Operation\n",
    "\n",
    "*Euklids Algorithmus*\n",
    "\n",
    "1. Berechne den Restwert der Division $m / n$ (Modulodivision). Sei dieser gleich $r$.\n",
    "2. Setze $m \\leftarrow n$, $n \\leftarrow r$ und gehe zurück zu Schritt 1.\n",
    "3. Falls $r = 0$ (und somit $n = 0$), so ist der Algorithmus beendet. Das Ergebnis (ggT) ist $m$. Ansonsten fahre fort."
   ]
  },
  {
   "cell_type": "code",
   "execution_count": null,
   "id": "924f87de",
   "metadata": {},
   "outputs": [],
   "source": []
  },
  {
   "cell_type": "code",
   "execution_count": null,
   "id": "32e3fe88",
   "metadata": {},
   "outputs": [],
   "source": []
  },
  {
   "cell_type": "markdown",
   "id": "cbb0955c",
   "metadata": {},
   "source": [
    "***"
   ]
  }
 ],
 "metadata": {
  "kernelspec": {
   "display_name": "Python 3 (ipykernel)",
   "language": "python",
   "name": "python3"
  },
  "language_info": {
   "codemirror_mode": {
    "name": "ipython",
    "version": 3
   },
   "file_extension": ".py",
   "mimetype": "text/x-python",
   "name": "python",
   "nbconvert_exporter": "python",
   "pygments_lexer": "ipython3",
   "version": "3.9.5"
  }
 },
 "nbformat": 4,
 "nbformat_minor": 5
}
