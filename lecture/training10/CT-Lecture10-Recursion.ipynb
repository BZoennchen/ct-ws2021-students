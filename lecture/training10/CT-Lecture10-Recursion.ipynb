{
 "cells": [
  {
   "cell_type": "markdown",
   "id": "d8a03f3e",
   "metadata": {},
   "source": [
    "# Vorlesung 10 - Computational Thinking\n",
    "**Prof. Dr.-Ing. Martin Hobelsberger, Dr. Benedikt Zönnchen**"
   ]
  },
  {
   "cell_type": "markdown",
   "id": "7fd999fd",
   "metadata": {},
   "source": [
    "## Fakultät iterativ"
   ]
  },
  {
   "cell_type": "code",
   "execution_count": 1,
   "id": "dda2582f",
   "metadata": {},
   "outputs": [
    {
     "data": {
      "text/plain": [
       "120"
      ]
     },
     "execution_count": 1,
     "metadata": {},
     "output_type": "execute_result"
    }
   ],
   "source": [
    " def fac_it(n):\n",
    "    result = 1\n",
    "    for i in range(1, n+1):\n",
    "        result *= i\n",
    "    return result\n",
    "\n",
    "fac_it(5)"
   ]
  },
  {
   "cell_type": "markdown",
   "id": "1408dbd1",
   "metadata": {},
   "source": [
    "## Fakultät rekursiv"
   ]
  },
  {
   "cell_type": "code",
   "execution_count": 2,
   "id": "e3cb0055",
   "metadata": {},
   "outputs": [
    {
     "data": {
      "text/plain": [
       "120"
      ]
     },
     "execution_count": 2,
     "metadata": {},
     "output_type": "execute_result"
    }
   ],
   "source": [
    "def fac_rec(n):\n",
    "    if n <= 1:\n",
    "        return 1\n",
    "    else:\n",
    "        return n * fac_rec(n-1)\n",
    "    \n",
    "fac_rec(5)"
   ]
  },
  {
   "cell_type": "markdown",
   "id": "62f4aa62",
   "metadata": {},
   "source": [
    "## Die Türme von Hanoi"
   ]
  },
  {
   "cell_type": "markdown",
   "id": "06884a7d",
   "metadata": {},
   "source": [
    "``check_hanoi_condition(hanoi)`` prüft ob die Türme in ``hanoi`` valide sind."
   ]
  },
  {
   "cell_type": "code",
   "execution_count": 3,
   "id": "c0826cdf",
   "metadata": {},
   "outputs": [],
   "source": [
    "def check_hanoi_condition(hanoi):\n",
    "    for tower in hanoi:\n",
    "        for i in range(1, len(tower)):\n",
    "            assert tower[i-1] < tower[i]"
   ]
  },
  {
   "cell_type": "code",
   "execution_count": 4,
   "id": "1a0f9262",
   "metadata": {},
   "outputs": [
    {
     "name": "stdout",
     "output_type": "stream",
     "text": [
      "[[0, 1, 2, 3, 4, 5], [], []]\n",
      "[[], [], [0, 1, 2, 3, 4, 5]]\n"
     ]
    }
   ],
   "source": [
    "def move_tower(hanoi, n, fr, to, spare):\n",
    "    if n == 1:\n",
    "        hanoi[to].insert(0, hanoi[fr][0])\n",
    "        del hanoi[fr][0]\n",
    "        #check_hanoi_condition(hanoi)\n",
    "        return\n",
    "    \n",
    "    move_tower(hanoi, n-1, fr, spare, to)\n",
    "    move_tower(hanoi, 1, fr, to, spare)\n",
    "    move_tower(hanoi, n-1, spare, to, fr)\n",
    "\n",
    "n = 6\n",
    "tower = list(range(n))\n",
    "hanoi = [tower, [], []]\n",
    "print(hanoi)\n",
    "\n",
    "move_tower(hanoi, n, 0, 2, 1)\n",
    "print(hanoi)"
   ]
  },
  {
   "cell_type": "markdown",
   "id": "5096cdf7",
   "metadata": {},
   "source": [
    "## Mergesort"
   ]
  },
  {
   "cell_type": "markdown",
   "id": "306f9e79",
   "metadata": {},
   "source": [
    "Zusammenfügen (engl. merge) von zwei sortierten Listen:"
   ]
  },
  {
   "cell_type": "code",
   "execution_count": 5,
   "id": "8926724d",
   "metadata": {
    "scrolled": true
   },
   "outputs": [
    {
     "data": {
      "text/plain": [
       "[-10, -8, 1, 2, 3, 4, 4, 5, 7, 44, 66, 88, 102, 181]"
      ]
     },
     "execution_count": 5,
     "metadata": {},
     "output_type": "execute_result"
    }
   ],
   "source": [
    "def merge(cards1, cards2):\n",
    "    i, j = 0, 0\n",
    "    result = []\n",
    "    while(i < len(cards1) and j < len(cards2)):\n",
    "        if cards1[i] < cards2[j]:\n",
    "            result.append(cards1[i])\n",
    "            i += 1\n",
    "        else:\n",
    "            result.append(cards2[j])\n",
    "            j += 1\n",
    "    \n",
    "    while i < len(cards1):\n",
    "        result.append(cards1[i])\n",
    "        i += 1\n",
    "    \n",
    "    while j < len(cards2):\n",
    "        result.append(cards2[j])\n",
    "        j += 1\n",
    "    \n",
    "    return result\n",
    "\n",
    "merge([1,2,3,4,5,7], [-10,-8,4,44,66,88,102,181])     "
   ]
  },
  {
   "cell_type": "markdown",
   "id": "fac4f3e3",
   "metadata": {},
   "source": [
    "Mergesort durch Zerteilen und Zusammenfügen:"
   ]
  },
  {
   "cell_type": "code",
   "execution_count": 6,
   "id": "12399daa",
   "metadata": {},
   "outputs": [],
   "source": [
    "def merge_sort(cards):\n",
    "    if len(cards) <= 1:\n",
    "        return cards\n",
    "    pivot = len(cards) // 2\n",
    "    sorted_cards1 = merge_sort(cards[:pivot])            # sort left half\n",
    "    sorted_cards2 = merge_sort(cards[pivot:])            # sort right half\n",
    "    merged_cards = merge(sorted_cards1, sorted_cards2)   # merge both halfs\n",
    "    return merged_cards"
   ]
  },
  {
   "cell_type": "markdown",
   "id": "135f5c10",
   "metadata": {},
   "source": [
    "Test:"
   ]
  },
  {
   "cell_type": "code",
   "execution_count": 7,
   "id": "d3e526c9",
   "metadata": {},
   "outputs": [
    {
     "name": "stdout",
     "output_type": "stream",
     "text": [
      "[15, 3, 6, 4, 13, 1, 0, 7, 8, 18, 14, 5, 9, 16, 12, 2, 19, 10, 17, 11]\n",
      "[0, 1, 2, 3, 4, 5, 6, 7, 8, 9, 10, 11, 12, 13, 14, 15, 16, 17, 18, 19]\n"
     ]
    }
   ],
   "source": [
    "import random as rnd\n",
    "\n",
    "cards = list(range(20))\n",
    "rnd.shuffle(cards)\n",
    "print(cards)\n",
    "print(merge_sort(cards))"
   ]
  },
  {
   "cell_type": "markdown",
   "id": "b4fb201f",
   "metadata": {},
   "source": [
    "## Laufzeitvergleich"
   ]
  },
  {
   "cell_type": "code",
   "execution_count": 8,
   "id": "5fe15f04",
   "metadata": {},
   "outputs": [
    {
     "name": "stdout",
     "output_type": "stream",
     "text": [
      "10.8 ms ± 4.07 ms per loop (mean ± std. dev. of 7 runs, 100 loops each)\n"
     ]
    }
   ],
   "source": [
    "%timeit fac_it(5000)"
   ]
  },
  {
   "cell_type": "code",
   "execution_count": 9,
   "id": "9e6cc879",
   "metadata": {},
   "outputs": [
    {
     "name": "stdout",
     "output_type": "stream",
     "text": [
      "14.5 ms ± 3.3 ms per loop (mean ± std. dev. of 7 runs, 100 loops each)\n"
     ]
    }
   ],
   "source": [
    "import sys\n",
    "sys.setrecursionlimit(10**5)  # increase max stack size\n",
    "\n",
    "%timeit fac_rec(5000)"
   ]
  },
  {
   "cell_type": "code",
   "execution_count": 18,
   "id": "56385701",
   "metadata": {
    "scrolled": true
   },
   "outputs": [],
   "source": [
    "def slow_sort(cards):\n",
    "    copy_cards = cards.copy()\n",
    "    result = []\n",
    "    while(len(copy_cards) > 0):\n",
    "        j = 0\n",
    "        for i in range(len(copy_cards)):\n",
    "            if copy_cards[i] < copy_cards[j]:\n",
    "                j = i\n",
    "        result.append(copy_cards[j])\n",
    "        del copy_cards[j]\n",
    "    return result"
   ]
  },
  {
   "cell_type": "code",
   "execution_count": 26,
   "id": "22d51f99",
   "metadata": {},
   "outputs": [],
   "source": [
    "import random as rnd\n",
    "\n",
    "n = 2000\n",
    "cards = list(range(n))\n",
    "rnd.shuffle(cards)"
   ]
  },
  {
   "cell_type": "code",
   "execution_count": 27,
   "id": "18bb3a0c",
   "metadata": {},
   "outputs": [
    {
     "name": "stdout",
     "output_type": "stream",
     "text": [
      "293 ms ± 10.5 ms per loop (mean ± std. dev. of 7 runs, 1 loop each)\n"
     ]
    }
   ],
   "source": [
    "%timeit slow_sort(cards)"
   ]
  },
  {
   "cell_type": "code",
   "execution_count": 28,
   "id": "2135a86f",
   "metadata": {},
   "outputs": [
    {
     "name": "stdout",
     "output_type": "stream",
     "text": [
      "13.9 ms ± 225 µs per loop (mean ± std. dev. of 7 runs, 100 loops each)\n"
     ]
    }
   ],
   "source": [
    "%timeit merge_sort(cards)"
   ]
  },
  {
   "cell_type": "markdown",
   "id": "a3f4f959",
   "metadata": {},
   "source": [
    "### Laufzeitplot"
   ]
  },
  {
   "cell_type": "code",
   "execution_count": 44,
   "id": "4539375b",
   "metadata": {},
   "outputs": [
    {
     "data": {
      "image/png": "[encoded data removed]",
      "text/plain": [
       "<Figure size 432x288 with 1 Axes>"
      ]
     },
     "metadata": {
      "needs_background": "light"
     },
     "output_type": "display_data"
    }
   ],
   "source": [
    "import timeit\n",
    "import time\n",
    "import matplotlib.pyplot as plt\n",
    "\n",
    "def _template_func(setup, func):\n",
    "    \"\"\"Create a timer function. Used if the \"statement\" is a callable.\"\"\"\n",
    "    def inner(_it, _timer, _func=func):\n",
    "        setup()\n",
    "        _t0 = _timer()\n",
    "        for _i in _it:\n",
    "            retval = _func()\n",
    "        _t1 = _timer()\n",
    "        return _t1 - _t0, retval\n",
    "    return inner\n",
    "\n",
    "timeit._template_func = _template_func\n",
    "\n",
    "t_slow_sort = []\n",
    "t_merge_sort = []\n",
    "ns = []\n",
    "for n in range(1, 2_000, 100):\n",
    "    cards = list(range(n))\n",
    "    rnd.shuffle(cards)\n",
    "    \n",
    "    ns.append(n)\n",
    "    t = timeit.Timer(lambda : slow_sort(cards))\n",
    "    t_slow_sort.append(t.timeit(number=1))\n",
    "    \n",
    "    t = timeit.Timer(lambda : merge_sort(cards))\n",
    "    t_merge_sort.append(t.timeit(number=1))\n",
    "    \n",
    "    \n",
    "plt.plot(ns, t_slow_sort, label='slowsort')\n",
    "plt.plot(ns, t_merge_sort, label='mergesort')\n",
    "plt.legend()\n",
    "plt.show()"
   ]
  },
  {
   "cell_type": "code",
   "execution_count": null,
   "id": "bd9535c0",
   "metadata": {},
   "outputs": [],
   "source": []
  }
 ],
 "metadata": {
  "kernelspec": {
   "display_name": "Python 3 (ipykernel)",
   "language": "python",
   "name": "python3"
  },
  "language_info": {
   "codemirror_mode": {
    "name": "ipython",
    "version": 3
   },
   "file_extension": ".py",
   "mimetype": "text/x-python",
   "name": "python",
   "nbconvert_exporter": "python",
   "pygments_lexer": "ipython3",
   "version": "3.9.5"
  }
 },
 "nbformat": 4,
 "nbformat_minor": 5
}
